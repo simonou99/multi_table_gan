{
 "cells": [
  {
   "cell_type": "markdown",
   "id": "ed277bcc-0b53-44b4-9072-343f704588ca",
   "metadata": {
    "tags": []
   },
   "source": [
    "# import"
   ]
  },
  {
   "cell_type": "code",
   "execution_count": 1,
   "id": "9b6344e5-e74b-42a5-8a1d-95bd2f963a77",
   "metadata": {
    "tags": []
   },
   "outputs": [],
   "source": [
    "import os\n",
    "import time\n",
    "import exrex\n",
    "import random\n",
    "import pickle\n",
    "import numpy as np\n",
    "import pandas as pd\n",
    "from math import ceil\n",
    "from faker import Faker\n",
    "import matplotlib.pyplot as plt\n",
    "from sklearn import metrics\n",
    "from sklearn.decomposition import PCA\n",
    "from sklearn.impute import SimpleImputer\n",
    "from sklearn.neighbors import KernelDensity\n",
    "from sklearn.preprocessing import MinMaxScaler, StandardScaler\n",
    "from sklearn.mixture import BayesianGaussianMixture, GaussianMixture\n",
    "from scipy.interpolate import interp1d\n",
    "from scipy.stats import kstest, ks_2samp, chi2_contingency, wasserstein_distance, norm\n",
    "from tensorflow.compat.v1.logging import set_verbosity, ERROR\n",
    "from tensorflow.keras import layers, models, optimizers, losses, backend, constraints, initializers\n",
    "from sdv.metadata import MultiTableMetadata\n",
    "from rdt import HyperTransformer"
   ]
  },
  {
   "cell_type": "code",
   "execution_count": 2,
   "id": "56aef810-48d7-4597-81df-f8024807d1ff",
   "metadata": {},
   "outputs": [],
   "source": [
    "fake = Faker('en-NZ')"
   ]
  },
  {
   "cell_type": "code",
   "execution_count": 3,
   "id": "cfdcbabf-f624-4961-93c2-1232ffdeffcd",
   "metadata": {},
   "outputs": [],
   "source": [
    "set_verbosity(ERROR)"
   ]
  },
  {
   "cell_type": "markdown",
   "id": "9f6aa2d4-7b51-45ff-bc4a-1d3e9d7a0b65",
   "metadata": {
    "tags": []
   },
   "source": [
    "# load data"
   ]
  },
  {
   "cell_type": "code",
   "execution_count": 4,
   "id": "37644fb8-5f08-496c-8403-c221fb097027",
   "metadata": {},
   "outputs": [],
   "source": [
    "def load_data_collection(dir_path):\n",
    "    gtfs_files = [f for f in os.listdir(dir_path) if f.endswith('.csv') or f.endswith('.txt')]\n",
    "    data_collection = {}\n",
    "    for f in gtfs_files:\n",
    "        f_path = os.path.join(dir_path, f)\n",
    "        data = pd.read_csv(f_path)\n",
    "        if data.shape[0] > 1:\n",
    "            data_collection[f.split(\".\")[0]] = data\n",
    "    return data_collection"
   ]
  },
  {
   "cell_type": "code",
   "execution_count": 5,
   "id": "43100845-8f4f-4fb9-b765-073cdfe09426",
   "metadata": {},
   "outputs": [],
   "source": [
    "real_data_collection = load_data_collection(\"gtfs\")"
   ]
  },
  {
   "cell_type": "code",
   "execution_count": 6,
   "id": "0112f797-2f74-4718-924b-dcffd5e225f2",
   "metadata": {},
   "outputs": [],
   "source": [
    "del real_data_collection['shapes']"
   ]
  },
  {
   "cell_type": "markdown",
   "id": "9dc6873d-3247-47b8-951c-707a74764428",
   "metadata": {},
   "source": [
    "# Preprocessing"
   ]
  },
  {
   "cell_type": "code",
   "execution_count": 7,
   "id": "9ea9aed0-2977-4dfd-a897-21c92a88499e",
   "metadata": {},
   "outputs": [],
   "source": [
    "def adjust_time(df, datetime_cols):\n",
    "    for col in datetime_cols:\n",
    "        df[col] = pd.to_timedelta(df[col])\n",
    "        df[col] = df[col] % pd.Timedelta(days=1)\n",
    "        df[col] = df[col].astype(str).str.split().str[-1]\n",
    "    return df"
   ]
  },
  {
   "cell_type": "code",
   "execution_count": 8,
   "id": "41e71165-95db-4737-a4ea-9d37206e47b2",
   "metadata": {},
   "outputs": [],
   "source": [
    "sdv_metadata = MultiTableMetadata()"
   ]
  },
  {
   "cell_type": "code",
   "execution_count": 9,
   "id": "2c84b27c-7e53-4e1b-9201-48061c28203e",
   "metadata": {},
   "outputs": [],
   "source": [
    "columns_to_remove = ['agency_fare_url', 'agency_email']\n",
    "real_data_collection['agency'].drop(columns_to_remove, axis=1, inplace=True)"
   ]
  },
  {
   "cell_type": "code",
   "execution_count": 10,
   "id": "440ead5c-2455-41fe-be36-5f095a5650fb",
   "metadata": {},
   "outputs": [],
   "source": [
    "sdv_metadata.detect_table_from_dataframe(table_name='agency', data=real_data_collection['agency'])\n",
    "sdv_metadata.update_column(table_name='agency',column_name='agency_id',sdtype='id',regex_format='[A-Z]{3,5}')\n",
    "sdv_metadata.update_column(table_name='agency',column_name='agency_name',sdtype='categorical')\n",
    "sdv_metadata.update_column(table_name='agency',column_name='agency_url',sdtype='categorical')\n",
    "sdv_metadata.update_column(table_name='agency',column_name='agency_timezone',sdtype='categorical')\n",
    "sdv_metadata.update_column(table_name='agency',column_name='agency_lang',sdtype='categorical')\n",
    "sdv_metadata.update_column(table_name='agency',column_name='agency_phone',sdtype='categorical')\n",
    "sdv_metadata.set_primary_key(table_name='agency',column_name='agency_id')"
   ]
  },
  {
   "cell_type": "code",
   "execution_count": 11,
   "id": "b52c4634-7c65-4eab-9ab8-5e99ac623b7a",
   "metadata": {},
   "outputs": [],
   "source": [
    "sdv_metadata.detect_table_from_dataframe(table_name='calendar',data=real_data_collection['calendar'])\n",
    "sdv_metadata.update_column(table_name='calendar',column_name='service_id',sdtype='id',regex_format='[A-Z][a-zA-Z]{2,7}-[0-9]{2}')\n",
    "sdv_metadata.update_column(table_name='calendar',column_name='monday',sdtype='boolean')\n",
    "sdv_metadata.update_column(table_name='calendar',column_name='tuesday',sdtype='boolean')\n",
    "sdv_metadata.update_column(table_name='calendar',column_name='wednesday',sdtype='boolean')\n",
    "sdv_metadata.update_column(table_name='calendar',column_name='thursday',sdtype='boolean')\n",
    "sdv_metadata.update_column(table_name='calendar',column_name='friday',sdtype='boolean')\n",
    "sdv_metadata.update_column(table_name='calendar',column_name='saturday',sdtype='boolean')\n",
    "sdv_metadata.update_column(table_name='calendar',column_name='sunday',sdtype='boolean')\n",
    "sdv_metadata.update_column(table_name='calendar',column_name='start_date',sdtype='datetime',datetime_format='%Y%m%d')\n",
    "sdv_metadata.update_column(table_name='calendar',column_name='end_date',sdtype='datetime',datetime_format='%Y%m%d')\n",
    "sdv_metadata.set_primary_key(table_name='calendar',column_name='service_id')"
   ]
  },
  {
   "cell_type": "code",
   "execution_count": 12,
   "id": "6fd1c41f-11fc-411b-b502-986d9845e2cc",
   "metadata": {},
   "outputs": [],
   "source": [
    "sdv_metadata.detect_table_from_dataframe(table_name='calendar_dates',data=real_data_collection['calendar_dates'])\n",
    "sdv_metadata.update_column(table_name='calendar_dates',column_name='service_id',sdtype='id',regex_format='[A-Z][a-zA-Z]{2,7}-[0-9]{2}')\n",
    "sdv_metadata.update_column(table_name='calendar_dates',column_name='date',sdtype='datetime',datetime_format='%Y%m%d')\n",
    "sdv_metadata.update_column(table_name='calendar_dates',column_name='exception_type',sdtype='categorical')"
   ]
  },
  {
   "cell_type": "code",
   "execution_count": 13,
   "id": "73659a67-02b7-48f8-9ca9-80db23db46bd",
   "metadata": {},
   "outputs": [],
   "source": [
    "columns_to_remove = ['route_desc', 'route_url','route_sort_order']\n",
    "real_data_collection['routes'].drop(columns_to_remove, axis=1, inplace=True)"
   ]
  },
  {
   "cell_type": "code",
   "execution_count": 14,
   "id": "2a7596ec-4304-46e8-9d37-a61bae87f04d",
   "metadata": {},
   "outputs": [],
   "source": [
    "sdv_metadata.detect_table_from_dataframe(table_name='routes',data=real_data_collection['routes'])\n",
    "sdv_metadata.update_column(table_name='routes',column_name='route_id',sdtype='id',regex_format='([A-Z]{3,4}|[0-9]{3,4})-[0-9]{3}')\n",
    "sdv_metadata.update_column(table_name='routes',column_name='agency_id',sdtype='id',regex_format='[A-Z]{3,5}')\n",
    "sdv_metadata.update_column(table_name='routes',column_name='route_short_name',sdtype='categorical')\n",
    "sdv_metadata.update_column(table_name='routes',column_name='route_long_name',sdtype='categorical')\n",
    "sdv_metadata.update_column(table_name='routes',column_name='route_type',sdtype='categorical')\n",
    "sdv_metadata.update_column(table_name='routes',column_name='route_color',sdtype='categorical')\n",
    "sdv_metadata.update_column(table_name='routes',column_name='route_text_color',sdtype='categorical')\n",
    "sdv_metadata.update_column(table_name='routes',column_name='contract_id',sdtype='id',regex_format='([A-Z]{2,6}|[0-9]{2,6})')\n",
    "sdv_metadata.set_primary_key(table_name='routes',column_name='route_id')"
   ]
  },
  {
   "cell_type": "code",
   "execution_count": 15,
   "id": "233ab08a-2b87-47d3-a709-3e32deca8fa9",
   "metadata": {},
   "outputs": [],
   "source": [
    "columns_to_remove = ['stop_desc', 'zone_id','stop_url','stop_timezone']\n",
    "real_data_collection['stops'].drop(columns_to_remove, axis=1, inplace=True)"
   ]
  },
  {
   "cell_type": "code",
   "execution_count": 16,
   "id": "eb901e83-76a8-4c04-a4ac-dce006a72066",
   "metadata": {},
   "outputs": [],
   "source": [
    "sdv_metadata.detect_table_from_dataframe(table_name='stops',data=real_data_collection['stops'])\n",
    "sdv_metadata.update_column(table_name='stops',column_name='stop_id',sdtype='id',regex_format='[0-9]{2,6}-[a-z0-9]{8}')\n",
    "sdv_metadata.update_column(table_name='stops',column_name='stop_code',sdtype='numerical',computer_representation='Int32')\n",
    "sdv_metadata.update_column(table_name='stops',column_name='stop_name',sdtype='categorical')\n",
    "sdv_metadata.update_column(table_name='stops',column_name='stop_lat',sdtype='numerical',computer_representation='Float')\n",
    "sdv_metadata.update_column(table_name='stops',column_name='stop_lon',sdtype='numerical',computer_representation='Float')\n",
    "sdv_metadata.update_column(table_name='stops',column_name='location_type',sdtype='categorical')\n",
    "sdv_metadata.update_column(table_name='stops',column_name='parent_station',sdtype='categorical')\n",
    "sdv_metadata.update_column(table_name='stops',column_name='platform_code',sdtype='categorical')\n",
    "sdv_metadata.update_column(table_name='stops',column_name='wheelchair_boarding',sdtype='boolean')\n",
    "sdv_metadata.update_column(table_name='stops',column_name='start_date',sdtype='datetime',datetime_format='%Y%m%d')\n",
    "sdv_metadata.update_column(table_name='stops',column_name='end_date',sdtype='datetime',datetime_format='%Y%m%d')\n",
    "sdv_metadata.set_primary_key(table_name='stops',column_name='stop_id')"
   ]
  },
  {
   "cell_type": "code",
   "execution_count": 17,
   "id": "cf79c7ea-e569-46c8-8c40-b4cd58655552",
   "metadata": {},
   "outputs": [],
   "source": [
    "real_data_collection['stop_times'] = adjust_time(real_data_collection['stop_times'], ['arrival_time','departure_time'])"
   ]
  },
  {
   "cell_type": "code",
   "execution_count": 18,
   "id": "2da9c5e3-9856-4253-bf85-ee7350a1a7b4",
   "metadata": {},
   "outputs": [],
   "source": [
    "sdv_metadata.detect_table_from_dataframe(table_name='stop_times',data=real_data_collection['stop_times'])\n",
    "sdv_metadata.update_column(table_name='stop_times',column_name='trip_id',sdtype='id',regex_format='[0-9]{4}-[0-9]{5}-[0-9]{5}-[0-9]{1}-[a-z0-9]{8}')\n",
    "sdv_metadata.update_column(table_name='stop_times',column_name='arrival_time',sdtype='datetime',datetime_format='%H:%M:%S')\n",
    "sdv_metadata.update_column(table_name='stop_times',column_name='departure_time',sdtype='datetime',datetime_format='%H:%M:%S')\n",
    "sdv_metadata.update_column(table_name='stop_times',column_name='stop_id',sdtype='id',regex_format='[0-9]{2,6}-[a-z0-9]{8}')\n",
    "sdv_metadata.update_column(table_name='stop_times',column_name='stop_sequence',sdtype='numerical',computer_representation='Int32')\n",
    "sdv_metadata.update_column(table_name='stop_times',column_name='stop_headsign',sdtype='categorical')\n",
    "sdv_metadata.update_column(table_name='stop_times',column_name='pickup_type',sdtype='categorical')\n",
    "sdv_metadata.update_column(table_name='stop_times',column_name='drop_off_type',sdtype='categorical')\n",
    "sdv_metadata.update_column(table_name='stop_times',column_name='shape_dist_traveled',sdtype='numerical',computer_representation='Float')\n",
    "sdv_metadata.update_column(table_name='stop_times',column_name='timepoint',sdtype='numerical',computer_representation='Int32')"
   ]
  },
  {
   "cell_type": "code",
   "execution_count": 19,
   "id": "3487b373-6712-48f7-9678-eba78f8c135e",
   "metadata": {},
   "outputs": [],
   "source": [
    "columns_to_remove = ['trip_short_name', 'block_id']\n",
    "real_data_collection['trips'].drop(columns_to_remove, axis=1, inplace=True)"
   ]
  },
  {
   "cell_type": "code",
   "execution_count": 20,
   "id": "883d3e98-7c9c-416b-a452-ce22dd7edd13",
   "metadata": {
    "tags": []
   },
   "outputs": [],
   "source": [
    "sdv_metadata.detect_table_from_dataframe(table_name='trips',data=real_data_collection['trips'])\n",
    "sdv_metadata.update_column(table_name='trips',column_name='route_id',sdtype='id',regex_format='([A-Z]{3,4}|[0-9]{3,4})-[0-9]{3}')\n",
    "sdv_metadata.update_column(table_name='trips',column_name='service_id',sdtype='id',regex_format='[A-Z][a-zA-Z]{2,7}-[0-9]{2}')\n",
    "sdv_metadata.update_column(table_name='trips',column_name='trip_id',sdtype='id',regex_format='[0-9]{4}-[0-9]{5}-[0-9]{5}-[0-9]{1}-[a-z0-9]{8}')\n",
    "sdv_metadata.update_column(table_name='trips',column_name='trip_headsign',sdtype='categorical')\n",
    "sdv_metadata.update_column(table_name='trips',column_name='direction_id',sdtype='id')\n",
    "sdv_metadata.update_column(table_name='trips',column_name='shape_id',sdtype='id',regex_format='[0-9]{4}-[0-9]{5}-[a-z0-9]{8}')\n",
    "sdv_metadata.update_column(table_name='trips',column_name='wheelchair_accessible',sdtype='boolean')\n",
    "sdv_metadata.update_column(table_name='trips',column_name='bikes_allowed',sdtype='boolean')\n",
    "sdv_metadata.set_primary_key(table_name='trips',column_name='trip_id')"
   ]
  },
  {
   "cell_type": "code",
   "execution_count": 21,
   "id": "e6dd5647-bd82-446d-89b4-0d7dbf896dca",
   "metadata": {},
   "outputs": [],
   "source": [
    "sdv_metadata.add_relationship(\n",
    "    parent_table_name='agency',\n",
    "    child_table_name='routes',\n",
    "    parent_primary_key='agency_id',\n",
    "    child_foreign_key='agency_id'\n",
    ")\n",
    "\n",
    "sdv_metadata.add_relationship(\n",
    "    parent_table_name='calendar',\n",
    "    child_table_name='calendar_dates',\n",
    "    parent_primary_key='service_id',\n",
    "    child_foreign_key='service_id'\n",
    ")\n",
    "\n",
    "sdv_metadata.add_relationship(\n",
    "    parent_table_name='calendar',\n",
    "    child_table_name='trips',\n",
    "    parent_primary_key='service_id',\n",
    "    child_foreign_key='service_id'\n",
    ")\n",
    "\n",
    "sdv_metadata.add_relationship(\n",
    "    parent_table_name='routes',\n",
    "    child_table_name='trips',\n",
    "    parent_primary_key='route_id',\n",
    "    child_foreign_key='route_id'\n",
    ")\n",
    "\n",
    "sdv_metadata.add_relationship(\n",
    "    parent_table_name='stops',\n",
    "    child_table_name='stop_times',\n",
    "    parent_primary_key='stop_id',\n",
    "    child_foreign_key='stop_id'\n",
    ")\n",
    "\n",
    "sdv_metadata.add_relationship(\n",
    "    parent_table_name='trips',\n",
    "    child_table_name='stop_times',\n",
    "    parent_primary_key='trip_id',\n",
    "    child_foreign_key='trip_id'\n",
    ")"
   ]
  },
  {
   "cell_type": "code",
   "execution_count": 22,
   "id": "4f057715-6360-4361-aa57-59d481a95003",
   "metadata": {},
   "outputs": [
    {
     "data": {
      "image/svg+xml": [
       "<?xml version=\"1.0\" encoding=\"UTF-8\" standalone=\"no\"?>\n",
       "<!DOCTYPE svg PUBLIC \"-//W3C//DTD SVG 1.1//EN\"\n",
       " \"http://www.w3.org/Graphics/SVG/1.1/DTD/svg11.dtd\">\n",
       "<!-- Generated by graphviz version 8.0.3 (20230416.2022)\n",
       " -->\n",
       "<!-- Title: Metadata Pages: 1 -->\n",
       "<svg width=\"644pt\" height=\"1014pt\"\n",
       " viewBox=\"0.00 0.00 644.00 1014.00\" xmlns=\"http://www.w3.org/2000/svg\" xmlns:xlink=\"http://www.w3.org/1999/xlink\">\n",
       "<g id=\"graph0\" class=\"graph\" transform=\"scale(1 1) rotate(0) translate(4 1010)\">\n",
       "<title>Metadata</title>\n",
       "<polygon fill=\"white\" stroke=\"none\" points=\"-4,4 -4,-1010 640,-1010 640,4 -4,4\"/>\n",
       "<!-- agency -->\n",
       "<g id=\"node1\" class=\"node\">\n",
       "<title>agency</title>\n",
       "<path fill=\"#ffec8b\" stroke=\"black\" d=\"M23.5,-845.5C23.5,-845.5 182.5,-845.5 182.5,-845.5 188.5,-845.5 194.5,-851.5 194.5,-857.5 194.5,-857.5 194.5,-993.5 194.5,-993.5 194.5,-999.5 188.5,-1005.5 182.5,-1005.5 182.5,-1005.5 23.5,-1005.5 23.5,-1005.5 17.5,-1005.5 11.5,-999.5 11.5,-993.5 11.5,-993.5 11.5,-857.5 11.5,-857.5 11.5,-851.5 17.5,-845.5 23.5,-845.5\"/>\n",
       "<text text-anchor=\"middle\" x=\"103\" y=\"-990.3\" font-family=\"Times New Roman,serif\" font-size=\"14.00\">agency</text>\n",
       "<polyline fill=\"none\" stroke=\"black\" points=\"11.5,-982.5 194.5,-982.5\"/>\n",
       "<text text-anchor=\"start\" x=\"19.5\" y=\"-967.3\" font-family=\"Times New Roman,serif\" font-size=\"14.00\">agency_id : id</text>\n",
       "<text text-anchor=\"start\" x=\"19.5\" y=\"-952.3\" font-family=\"Times New Roman,serif\" font-size=\"14.00\">agency_name : categorical</text>\n",
       "<text text-anchor=\"start\" x=\"19.5\" y=\"-937.3\" font-family=\"Times New Roman,serif\" font-size=\"14.00\">agency_url : categorical</text>\n",
       "<text text-anchor=\"start\" x=\"19.5\" y=\"-922.3\" font-family=\"Times New Roman,serif\" font-size=\"14.00\">agency_timezone : categorical</text>\n",
       "<text text-anchor=\"start\" x=\"19.5\" y=\"-907.3\" font-family=\"Times New Roman,serif\" font-size=\"14.00\">agency_lang : categorical</text>\n",
       "<text text-anchor=\"start\" x=\"19.5\" y=\"-892.3\" font-family=\"Times New Roman,serif\" font-size=\"14.00\">agency_phone : categorical</text>\n",
       "<polyline fill=\"none\" stroke=\"black\" points=\"11.5,-884.5 194.5,-884.5\"/>\n",
       "<text text-anchor=\"start\" x=\"19.5\" y=\"-869.3\" font-family=\"Times New Roman,serif\" font-size=\"14.00\">Primary key: agency_id</text>\n",
       "</g>\n",
       "<!-- routes -->\n",
       "<g id=\"node4\" class=\"node\">\n",
       "<title>routes</title>\n",
       "<path fill=\"#ffec8b\" stroke=\"black\" d=\"M16,-589C16,-589 190,-589 190,-589 196,-589 202,-595 202,-601 202,-601 202,-766 202,-766 202,-772 196,-778 190,-778 190,-778 16,-778 16,-778 10,-778 4,-772 4,-766 4,-766 4,-601 4,-601 4,-595 10,-589 16,-589\"/>\n",
       "<text text-anchor=\"middle\" x=\"103\" y=\"-762.8\" font-family=\"Times New Roman,serif\" font-size=\"14.00\">routes</text>\n",
       "<polyline fill=\"none\" stroke=\"black\" points=\"4,-755 202,-755\"/>\n",
       "<text text-anchor=\"start\" x=\"12\" y=\"-739.8\" font-family=\"Times New Roman,serif\" font-size=\"14.00\">route_id : id</text>\n",
       "<text text-anchor=\"start\" x=\"12\" y=\"-724.8\" font-family=\"Times New Roman,serif\" font-size=\"14.00\">agency_id : id</text>\n",
       "<text text-anchor=\"start\" x=\"12\" y=\"-709.8\" font-family=\"Times New Roman,serif\" font-size=\"14.00\">route_short_name : categorical</text>\n",
       "<text text-anchor=\"start\" x=\"12\" y=\"-694.8\" font-family=\"Times New Roman,serif\" font-size=\"14.00\">route_long_name : categorical</text>\n",
       "<text text-anchor=\"start\" x=\"12\" y=\"-679.8\" font-family=\"Times New Roman,serif\" font-size=\"14.00\">route_type : categorical</text>\n",
       "<text text-anchor=\"start\" x=\"12\" y=\"-664.8\" font-family=\"Times New Roman,serif\" font-size=\"14.00\">route_color : categorical</text>\n",
       "<text text-anchor=\"start\" x=\"12\" y=\"-649.8\" font-family=\"Times New Roman,serif\" font-size=\"14.00\">route_text_color : categorical</text>\n",
       "<text text-anchor=\"start\" x=\"12\" y=\"-634.8\" font-family=\"Times New Roman,serif\" font-size=\"14.00\">contract_id : id</text>\n",
       "<polyline fill=\"none\" stroke=\"black\" points=\"4,-627 202,-627\"/>\n",
       "<text text-anchor=\"start\" x=\"12\" y=\"-611.8\" font-family=\"Times New Roman,serif\" font-size=\"14.00\">Primary key: route_id</text>\n",
       "<text text-anchor=\"start\" x=\"12\" y=\"-596.8\" font-family=\"Times New Roman,serif\" font-size=\"14.00\">Foreign key (agency): agency_id</text>\n",
       "</g>\n",
       "<!-- agency&#45;&gt;routes -->\n",
       "<g id=\"edge1\" class=\"edge\">\n",
       "<title>agency&#45;&gt;routes</title>\n",
       "<path fill=\"none\" stroke=\"black\" d=\"M103,-845.58C103,-823.86 103,-800.09 103,-777.65\"/>\n",
       "<polygon fill=\"none\" stroke=\"black\" points=\"106.85,-774.5 113.35,-788 99.85,-781.5 106.85,-774.5\"/>\n",
       "<text text-anchor=\"middle\" x=\"175\" y=\"-815.8\" font-family=\"Times New Roman,serif\" font-size=\"14.00\"> &#160;agency_id → agency_id</text>\n",
       "</g>\n",
       "<!-- calendar -->\n",
       "<g id=\"node2\" class=\"node\">\n",
       "<title>calendar</title>\n",
       "<path fill=\"#ffec8b\" stroke=\"black\" d=\"M329.5,-573.5C329.5,-573.5 452.5,-573.5 452.5,-573.5 458.5,-573.5 464.5,-579.5 464.5,-585.5 464.5,-585.5 464.5,-781.5 464.5,-781.5 464.5,-787.5 458.5,-793.5 452.5,-793.5 452.5,-793.5 329.5,-793.5 329.5,-793.5 323.5,-793.5 317.5,-787.5 317.5,-781.5 317.5,-781.5 317.5,-585.5 317.5,-585.5 317.5,-579.5 323.5,-573.5 329.5,-573.5\"/>\n",
       "<text text-anchor=\"middle\" x=\"391\" y=\"-778.3\" font-family=\"Times New Roman,serif\" font-size=\"14.00\">calendar</text>\n",
       "<polyline fill=\"none\" stroke=\"black\" points=\"317.5,-770.5 464.5,-770.5\"/>\n",
       "<text text-anchor=\"start\" x=\"325.5\" y=\"-755.3\" font-family=\"Times New Roman,serif\" font-size=\"14.00\">service_id : id</text>\n",
       "<text text-anchor=\"start\" x=\"325.5\" y=\"-740.3\" font-family=\"Times New Roman,serif\" font-size=\"14.00\">monday : boolean</text>\n",
       "<text text-anchor=\"start\" x=\"325.5\" y=\"-725.3\" font-family=\"Times New Roman,serif\" font-size=\"14.00\">tuesday : boolean</text>\n",
       "<text text-anchor=\"start\" x=\"325.5\" y=\"-710.3\" font-family=\"Times New Roman,serif\" font-size=\"14.00\">wednesday : boolean</text>\n",
       "<text text-anchor=\"start\" x=\"325.5\" y=\"-695.3\" font-family=\"Times New Roman,serif\" font-size=\"14.00\">thursday : boolean</text>\n",
       "<text text-anchor=\"start\" x=\"325.5\" y=\"-680.3\" font-family=\"Times New Roman,serif\" font-size=\"14.00\">friday : boolean</text>\n",
       "<text text-anchor=\"start\" x=\"325.5\" y=\"-665.3\" font-family=\"Times New Roman,serif\" font-size=\"14.00\">saturday : boolean</text>\n",
       "<text text-anchor=\"start\" x=\"325.5\" y=\"-650.3\" font-family=\"Times New Roman,serif\" font-size=\"14.00\">sunday : boolean</text>\n",
       "<text text-anchor=\"start\" x=\"325.5\" y=\"-635.3\" font-family=\"Times New Roman,serif\" font-size=\"14.00\">start_date : datetime</text>\n",
       "<text text-anchor=\"start\" x=\"325.5\" y=\"-620.3\" font-family=\"Times New Roman,serif\" font-size=\"14.00\">end_date : datetime</text>\n",
       "<polyline fill=\"none\" stroke=\"black\" points=\"317.5,-612.5 464.5,-612.5\"/>\n",
       "<text text-anchor=\"start\" x=\"325.5\" y=\"-597.3\" font-family=\"Times New Roman,serif\" font-size=\"14.00\">Primary key: service_id</text>\n",
       "</g>\n",
       "<!-- calendar_dates -->\n",
       "<g id=\"node3\" class=\"node\">\n",
       "<title>calendar_dates</title>\n",
       "<path fill=\"#ffec8b\" stroke=\"black\" d=\"M442,-347C442,-347 624,-347 624,-347 630,-347 636,-353 636,-359 636,-359 636,-449 636,-449 636,-455 630,-461 624,-461 624,-461 442,-461 442,-461 436,-461 430,-455 430,-449 430,-449 430,-359 430,-359 430,-353 436,-347 442,-347\"/>\n",
       "<text text-anchor=\"middle\" x=\"533\" y=\"-445.8\" font-family=\"Times New Roman,serif\" font-size=\"14.00\">calendar_dates</text>\n",
       "<polyline fill=\"none\" stroke=\"black\" points=\"430,-438 636,-438\"/>\n",
       "<text text-anchor=\"start\" x=\"438\" y=\"-422.8\" font-family=\"Times New Roman,serif\" font-size=\"14.00\">service_id : id</text>\n",
       "<text text-anchor=\"start\" x=\"438\" y=\"-407.8\" font-family=\"Times New Roman,serif\" font-size=\"14.00\">date : datetime</text>\n",
       "<text text-anchor=\"start\" x=\"438\" y=\"-392.8\" font-family=\"Times New Roman,serif\" font-size=\"14.00\">exception_type : categorical</text>\n",
       "<polyline fill=\"none\" stroke=\"black\" points=\"430,-385 636,-385\"/>\n",
       "<text text-anchor=\"start\" x=\"438\" y=\"-369.8\" font-family=\"Times New Roman,serif\" font-size=\"14.00\">Primary key: None</text>\n",
       "<text text-anchor=\"start\" x=\"438\" y=\"-354.8\" font-family=\"Times New Roman,serif\" font-size=\"14.00\">Foreign key (calendar): service_id</text>\n",
       "</g>\n",
       "<!-- calendar&#45;&gt;calendar_dates -->\n",
       "<g id=\"edge2\" class=\"edge\">\n",
       "<title>calendar&#45;&gt;calendar_dates</title>\n",
       "<path fill=\"none\" stroke=\"black\" d=\"M446.71,-573.62C466.45,-535.05 487.84,-493.25 504.39,-460.92\"/>\n",
       "<polygon fill=\"none\" stroke=\"black\" points=\"508.24,-457.77 514.74,-471.27 501.24,-464.77 508.24,-457.77\"/>\n",
       "<text text-anchor=\"middle\" x=\"534\" y=\"-543.8\" font-family=\"Times New Roman,serif\" font-size=\"14.00\"> &#160;service_id → service_id</text>\n",
       "</g>\n",
       "<!-- trips -->\n",
       "<g id=\"node7\" class=\"node\">\n",
       "<title>trips</title>\n",
       "<path fill=\"#ffec8b\" stroke=\"black\" d=\"M12,-302C12,-302 194,-302 194,-302 200,-302 206,-308 206,-314 206,-314 206,-494 206,-494 206,-500 200,-506 194,-506 194,-506 12,-506 12,-506 6,-506 0,-500 0,-494 0,-494 0,-314 0,-314 0,-308 6,-302 12,-302\"/>\n",
       "<text text-anchor=\"middle\" x=\"103\" y=\"-490.8\" font-family=\"Times New Roman,serif\" font-size=\"14.00\">trips</text>\n",
       "<polyline fill=\"none\" stroke=\"black\" points=\"0,-483 206,-483\"/>\n",
       "<text text-anchor=\"start\" x=\"8\" y=\"-467.8\" font-family=\"Times New Roman,serif\" font-size=\"14.00\">route_id : id</text>\n",
       "<text text-anchor=\"start\" x=\"8\" y=\"-452.8\" font-family=\"Times New Roman,serif\" font-size=\"14.00\">service_id : id</text>\n",
       "<text text-anchor=\"start\" x=\"8\" y=\"-437.8\" font-family=\"Times New Roman,serif\" font-size=\"14.00\">trip_id : id</text>\n",
       "<text text-anchor=\"start\" x=\"8\" y=\"-422.8\" font-family=\"Times New Roman,serif\" font-size=\"14.00\">trip_headsign : categorical</text>\n",
       "<text text-anchor=\"start\" x=\"8\" y=\"-407.8\" font-family=\"Times New Roman,serif\" font-size=\"14.00\">direction_id : id</text>\n",
       "<text text-anchor=\"start\" x=\"8\" y=\"-392.8\" font-family=\"Times New Roman,serif\" font-size=\"14.00\">shape_id : id</text>\n",
       "<text text-anchor=\"start\" x=\"8\" y=\"-377.8\" font-family=\"Times New Roman,serif\" font-size=\"14.00\">wheelchair_accessible : boolean</text>\n",
       "<text text-anchor=\"start\" x=\"8\" y=\"-362.8\" font-family=\"Times New Roman,serif\" font-size=\"14.00\">bikes_allowed : boolean</text>\n",
       "<polyline fill=\"none\" stroke=\"black\" points=\"0,-355 206,-355\"/>\n",
       "<text text-anchor=\"start\" x=\"8\" y=\"-339.8\" font-family=\"Times New Roman,serif\" font-size=\"14.00\">Primary key: trip_id</text>\n",
       "<text text-anchor=\"start\" x=\"8\" y=\"-324.8\" font-family=\"Times New Roman,serif\" font-size=\"14.00\">Foreign key (calendar): service_id</text>\n",
       "<text text-anchor=\"start\" x=\"8\" y=\"-309.8\" font-family=\"Times New Roman,serif\" font-size=\"14.00\">Foreign key (routes): route_id</text>\n",
       "</g>\n",
       "<!-- calendar&#45;&gt;trips -->\n",
       "<g id=\"edge3\" class=\"edge\">\n",
       "<title>calendar&#45;&gt;trips</title>\n",
       "<path fill=\"none\" stroke=\"black\" d=\"M317.62,-617.6C285.64,-588.81 248,-554.21 198.79,-505.95\"/>\n",
       "<polygon fill=\"none\" stroke=\"black\" points=\"202.64,-502.8 209.14,-516.3 195.64,-509.8 202.64,-502.8\"/>\n",
       "<text text-anchor=\"middle\" x=\"320\" y=\"-543.8\" font-family=\"Times New Roman,serif\" font-size=\"14.00\"> &#160;service_id → service_id</text>\n",
       "</g>\n",
       "<!-- routes&#45;&gt;trips -->\n",
       "<g id=\"edge4\" class=\"edge\">\n",
       "<title>routes&#45;&gt;trips</title>\n",
       "<path fill=\"none\" stroke=\"black\" d=\"M103,-589.32C103,-562.4 103,-532.9 103,-505.55\"/>\n",
       "<polygon fill=\"none\" stroke=\"black\" points=\"106.85,-502.4 113.35,-515.9 99.85,-509.4 106.85,-502.4\"/>\n",
       "<text text-anchor=\"middle\" x=\"164.5\" y=\"-543.8\" font-family=\"Times New Roman,serif\" font-size=\"14.00\"> &#160;route_id → route_id</text>\n",
       "</g>\n",
       "<!-- stops -->\n",
       "<g id=\"node5\" class=\"node\">\n",
       "<title>stops</title>\n",
       "<path fill=\"#ffec8b\" stroke=\"black\" d=\"M236.5,-286.5C236.5,-286.5 399.5,-286.5 399.5,-286.5 405.5,-286.5 411.5,-292.5 411.5,-298.5 411.5,-298.5 411.5,-509.5 411.5,-509.5 411.5,-515.5 405.5,-521.5 399.5,-521.5 399.5,-521.5 236.5,-521.5 236.5,-521.5 230.5,-521.5 224.5,-515.5 224.5,-509.5 224.5,-509.5 224.5,-298.5 224.5,-298.5 224.5,-292.5 230.5,-286.5 236.5,-286.5\"/>\n",
       "<text text-anchor=\"middle\" x=\"318\" y=\"-506.3\" font-family=\"Times New Roman,serif\" font-size=\"14.00\">stops</text>\n",
       "<polyline fill=\"none\" stroke=\"black\" points=\"224.5,-498.5 411.5,-498.5\"/>\n",
       "<text text-anchor=\"start\" x=\"232.5\" y=\"-483.3\" font-family=\"Times New Roman,serif\" font-size=\"14.00\">stop_id : id</text>\n",
       "<text text-anchor=\"start\" x=\"232.5\" y=\"-468.3\" font-family=\"Times New Roman,serif\" font-size=\"14.00\">stop_code : numerical</text>\n",
       "<text text-anchor=\"start\" x=\"232.5\" y=\"-453.3\" font-family=\"Times New Roman,serif\" font-size=\"14.00\">stop_name : categorical</text>\n",
       "<text text-anchor=\"start\" x=\"232.5\" y=\"-438.3\" font-family=\"Times New Roman,serif\" font-size=\"14.00\">stop_lat : numerical</text>\n",
       "<text text-anchor=\"start\" x=\"232.5\" y=\"-423.3\" font-family=\"Times New Roman,serif\" font-size=\"14.00\">stop_lon : numerical</text>\n",
       "<text text-anchor=\"start\" x=\"232.5\" y=\"-408.3\" font-family=\"Times New Roman,serif\" font-size=\"14.00\">location_type : categorical</text>\n",
       "<text text-anchor=\"start\" x=\"232.5\" y=\"-393.3\" font-family=\"Times New Roman,serif\" font-size=\"14.00\">parent_station : categorical</text>\n",
       "<text text-anchor=\"start\" x=\"232.5\" y=\"-378.3\" font-family=\"Times New Roman,serif\" font-size=\"14.00\">platform_code : categorical</text>\n",
       "<text text-anchor=\"start\" x=\"232.5\" y=\"-363.3\" font-family=\"Times New Roman,serif\" font-size=\"14.00\">wheelchair_boarding : boolean</text>\n",
       "<text text-anchor=\"start\" x=\"232.5\" y=\"-348.3\" font-family=\"Times New Roman,serif\" font-size=\"14.00\">start_date : datetime</text>\n",
       "<text text-anchor=\"start\" x=\"232.5\" y=\"-333.3\" font-family=\"Times New Roman,serif\" font-size=\"14.00\">end_date : datetime</text>\n",
       "<polyline fill=\"none\" stroke=\"black\" points=\"224.5,-325.5 411.5,-325.5\"/>\n",
       "<text text-anchor=\"start\" x=\"232.5\" y=\"-310.3\" font-family=\"Times New Roman,serif\" font-size=\"14.00\">Primary key: stop_id</text>\n",
       "</g>\n",
       "<!-- stop_times -->\n",
       "<g id=\"node6\" class=\"node\">\n",
       "<title>stop_times</title>\n",
       "<path fill=\"#ffec8b\" stroke=\"black\" d=\"M127.5,-0.5C127.5,-0.5 294.5,-0.5 294.5,-0.5 300.5,-0.5 306.5,-6.5 306.5,-12.5 306.5,-12.5 306.5,-222.5 306.5,-222.5 306.5,-228.5 300.5,-234.5 294.5,-234.5 294.5,-234.5 127.5,-234.5 127.5,-234.5 121.5,-234.5 115.5,-228.5 115.5,-222.5 115.5,-222.5 115.5,-12.5 115.5,-12.5 115.5,-6.5 121.5,-0.5 127.5,-0.5\"/>\n",
       "<text text-anchor=\"middle\" x=\"211\" y=\"-219.3\" font-family=\"Times New Roman,serif\" font-size=\"14.00\">stop_times</text>\n",
       "<polyline fill=\"none\" stroke=\"black\" points=\"115.5,-211.5 306.5,-211.5\"/>\n",
       "<text text-anchor=\"start\" x=\"123.5\" y=\"-196.3\" font-family=\"Times New Roman,serif\" font-size=\"14.00\">trip_id : id</text>\n",
       "<text text-anchor=\"start\" x=\"123.5\" y=\"-181.3\" font-family=\"Times New Roman,serif\" font-size=\"14.00\">arrival_time : datetime</text>\n",
       "<text text-anchor=\"start\" x=\"123.5\" y=\"-166.3\" font-family=\"Times New Roman,serif\" font-size=\"14.00\">departure_time : datetime</text>\n",
       "<text text-anchor=\"start\" x=\"123.5\" y=\"-151.3\" font-family=\"Times New Roman,serif\" font-size=\"14.00\">stop_id : id</text>\n",
       "<text text-anchor=\"start\" x=\"123.5\" y=\"-136.3\" font-family=\"Times New Roman,serif\" font-size=\"14.00\">stop_sequence : numerical</text>\n",
       "<text text-anchor=\"start\" x=\"123.5\" y=\"-121.3\" font-family=\"Times New Roman,serif\" font-size=\"14.00\">stop_headsign : categorical</text>\n",
       "<text text-anchor=\"start\" x=\"123.5\" y=\"-106.3\" font-family=\"Times New Roman,serif\" font-size=\"14.00\">pickup_type : categorical</text>\n",
       "<text text-anchor=\"start\" x=\"123.5\" y=\"-91.3\" font-family=\"Times New Roman,serif\" font-size=\"14.00\">drop_off_type : categorical</text>\n",
       "<text text-anchor=\"start\" x=\"123.5\" y=\"-76.3\" font-family=\"Times New Roman,serif\" font-size=\"14.00\">shape_dist_traveled : numerical</text>\n",
       "<text text-anchor=\"start\" x=\"123.5\" y=\"-61.3\" font-family=\"Times New Roman,serif\" font-size=\"14.00\">timepoint : numerical</text>\n",
       "<polyline fill=\"none\" stroke=\"black\" points=\"115.5,-53.5 306.5,-53.5\"/>\n",
       "<text text-anchor=\"start\" x=\"123.5\" y=\"-38.3\" font-family=\"Times New Roman,serif\" font-size=\"14.00\">Primary key: None</text>\n",
       "<text text-anchor=\"start\" x=\"123.5\" y=\"-23.3\" font-family=\"Times New Roman,serif\" font-size=\"14.00\">Foreign key (stops): stop_id</text>\n",
       "<text text-anchor=\"start\" x=\"123.5\" y=\"-8.3\" font-family=\"Times New Roman,serif\" font-size=\"14.00\">Foreign key (trips): trip_id</text>\n",
       "</g>\n",
       "<!-- stops&#45;&gt;stop_times -->\n",
       "<g id=\"edge5\" class=\"edge\">\n",
       "<title>stops&#45;&gt;stop_times</title>\n",
       "<path fill=\"none\" stroke=\"black\" d=\"M274.32,-286.87C267.79,-269.51 261.06,-251.61 254.54,-234.26\"/>\n",
       "<polygon fill=\"none\" stroke=\"black\" points=\"258.39,-231.11 264.89,-244.61 251.39,-238.11 258.39,-231.11\"/>\n",
       "<text text-anchor=\"middle\" x=\"322.5\" y=\"-256.8\" font-family=\"Times New Roman,serif\" font-size=\"14.00\"> &#160;stop_id → stop_id</text>\n",
       "</g>\n",
       "<!-- trips&#45;&gt;stop_times -->\n",
       "<g id=\"edge6\" class=\"edge\">\n",
       "<title>trips&#45;&gt;stop_times</title>\n",
       "<path fill=\"none\" stroke=\"black\" d=\"M139.65,-302.02C145.71,-285.61 151.99,-268.81 165.15,-234.35\"/>\n",
       "<polygon fill=\"none\" stroke=\"black\" points=\"169,-231.2 175.5,-244.7 162,-238.2 169,-231.2\"/>\n",
       "<text text-anchor=\"middle\" x=\"209.5\" y=\"-256.8\" font-family=\"Times New Roman,serif\" font-size=\"14.00\"> &#160;trip_id → trip_id</text>\n",
       "</g>\n",
       "</g>\n",
       "</svg>\n"
      ],
      "text/plain": [
       "<graphviz.graphs.Digraph at 0x27f307fab50>"
      ]
     },
     "execution_count": 22,
     "metadata": {},
     "output_type": "execute_result"
    }
   ],
   "source": [
    "sdv_metadata.visualize()"
   ]
  },
  {
   "cell_type": "code",
   "execution_count": 23,
   "id": "efaf279b-69d9-4b0e-af63-0ee4ea0442bb",
   "metadata": {},
   "outputs": [],
   "source": [
    "def sdvmetadata_to_modelmetadata(sdv_metadata):\n",
    "    new_format = {}\n",
    "    for table_name, table_info in sdv_metadata[\"tables\"].items():\n",
    "        new_format[table_name] = {\n",
    "            \"primary_key\": table_info.get(\"primary_key\"),\n",
    "            \"parent\": {},\n",
    "            \"child\": {},\n",
    "            \"is_sequential\": False,\n",
    "            \"sort_order\":None,\n",
    "            \"additional_key\": None,\n",
    "        }\n",
    "    for relationship in sdv_metadata[\"relationships\"]:\n",
    "        parent_table = relationship[\"parent_table_name\"]\n",
    "        child_table = relationship[\"child_table_name\"]\n",
    "        foreign_key = relationship[\"child_foreign_key\"]\n",
    "        new_format[child_table][\"parent\"][parent_table] = foreign_key\n",
    "        new_format[parent_table][\"child\"][child_table] = foreign_key\n",
    "    return new_format"
   ]
  },
  {
   "cell_type": "code",
   "execution_count": 24,
   "id": "a57b5bdd-e6cb-48e8-959e-02b1df2c36c3",
   "metadata": {},
   "outputs": [],
   "source": [
    "def create_formatter_collection(data_collection):\n",
    "    formatter_collection = {}\n",
    "    for df_name, df in data_collection.items():\n",
    "        ht = HyperTransformer()\n",
    "        ht.detect_initial_config(df)\n",
    "        ht.update_transformers_by_sdtype(\n",
    "            sdtype='categorical',\n",
    "            transformer_name='LabelEncoder'\n",
    "        )\n",
    "        ht.update_transformers_by_sdtype(\n",
    "            sdtype='datetime',\n",
    "            transformer_name='OptimizedTimestampEncoder'\n",
    "        )\n",
    "        ht.update_transformers_by_sdtype(\n",
    "            sdtype='numerical',\n",
    "            transformer_name='FloatFormatter'\n",
    "        )\n",
    "        ht.fit(df)\n",
    "        formatter_collection[df_name] = ht\n",
    "    return formatter_collection"
   ]
  },
  {
   "cell_type": "code",
   "execution_count": 25,
   "id": "49560c4c-663c-4da6-a0f9-acabdd01deed",
   "metadata": {},
   "outputs": [],
   "source": [
    "def batch_transform(modelling_metadata, df_dict, ht_dict):\n",
    "    # Initialize the dictionary that will store the mappings for each primary key\n",
    "    primary_key_dict = {}\n",
    "\n",
    "    # Initialize a new dictionary to store the transformed dataframes\n",
    "    transformed_df_dict = {table: df.copy() for table, df in df_dict.items()}\n",
    "\n",
    "    # Initialize the dictionary to store transform methods\n",
    "    transform_method_dict = {table: {'labels': [], 'table': []} for table in df_dict.keys()}\n",
    "\n",
    "    # First pass: Fit the HT objects for all tables\n",
    "    for table_name, table_info in modelling_metadata.items():\n",
    "        ht = ht_dict[table_name]\n",
    "        ht.fit(transformed_df_dict[table_name])  # Fit the HT object on the entire table\n",
    "\n",
    "    # Second pass: factorize primary keys and build the global primary key dictionary\n",
    "    for table_name, table_info in modelling_metadata.items():\n",
    "        primary_key = table_info['primary_key']\n",
    "        if primary_key is not None:  # Skip tables without a primary key\n",
    "            transformed_df_dict[table_name][primary_key], unique = pd.factorize(transformed_df_dict[table_name][primary_key])\n",
    "            primary_key_dict[table_name] = {primary_key: {key: value for value, key in enumerate(unique)}}\n",
    "            transform_method_dict[table_name]['labels'].append(primary_key)\n",
    "\n",
    "    # Third pass: replace foreign keys using the primary key dictionary\n",
    "    for table_name, table_info in modelling_metadata.items():\n",
    "        for parent_table, foreign_key in table_info['parent'].items():\n",
    "            primary_key = modelling_metadata[parent_table]['primary_key']\n",
    "            transformed_df_dict[table_name][foreign_key] = transformed_df_dict[table_name][foreign_key].map(primary_key_dict[parent_table][primary_key])\n",
    "            transform_method_dict[table_name]['labels'].append(foreign_key)\n",
    "\n",
    "    # Fourth pass: transform the remaining columns with the fitted HT objects\n",
    "    for table_name, table_info in modelling_metadata.items():\n",
    "        ht = ht_dict[table_name]\n",
    "        df = transformed_df_dict[table_name]\n",
    "        remaining_cols = [col for col in df.columns if col not in transform_method_dict[table_name]['labels']]\n",
    "        if remaining_cols:\n",
    "            df[remaining_cols] = ht.transform_subset(df[remaining_cols])  # Transform only the remaining columns\n",
    "            transform_method_dict[table_name]['table'].extend(remaining_cols)\n",
    "\n",
    "    return transformed_df_dict, transform_method_dict"
   ]
  },
  {
   "cell_type": "code",
   "execution_count": 26,
   "id": "080b5bf6-2630-418d-9144-1f5ead370dc2",
   "metadata": {},
   "outputs": [],
   "source": [
    "modelling_metadata = sdvmetadata_to_modelmetadata(sdv_metadata.to_dict())"
   ]
  },
  {
   "cell_type": "code",
   "execution_count": 27,
   "id": "da5a967e-f225-4224-9986-691c40cac372",
   "metadata": {},
   "outputs": [],
   "source": [
    "modelling_metadata['calendar_dates']['is_sequential']=True\n",
    "modelling_metadata['calendar_dates']['sort_order']=['service_id']\n",
    "modelling_metadata['stop_times']['is_sequential']=True\n",
    "modelling_metadata['stop_times']['sort_order']=['trip_id']"
   ]
  },
  {
   "cell_type": "code",
   "execution_count": 28,
   "id": "efcb8191-f71c-4011-a6da-38152ba1605f",
   "metadata": {},
   "outputs": [
    {
     "name": "stderr",
     "output_type": "stream",
     "text": [
      "C:\\programs\\conda\\envs\\tfgpu\\lib\\site-packages\\rdt\\transformers\\base.py:109: FutureWarning: Setting 'missing_value_replacement' to 'None' is no longer supported. Imputing with the 'mean' instead.\n",
      "  warnings.warn(\n",
      "C:\\programs\\conda\\envs\\tfgpu\\lib\\site-packages\\rdt\\transformers\\base.py:109: FutureWarning: Setting 'missing_value_replacement' to 'None' is no longer supported. Imputing with the 'mean' instead.\n",
      "  warnings.warn(\n",
      "C:\\programs\\conda\\envs\\tfgpu\\lib\\site-packages\\rdt\\transformers\\base.py:109: FutureWarning: Setting 'missing_value_replacement' to 'None' is no longer supported. Imputing with the 'mean' instead.\n",
      "  warnings.warn(\n",
      "C:\\programs\\conda\\envs\\tfgpu\\lib\\site-packages\\rdt\\transformers\\base.py:109: FutureWarning: Setting 'missing_value_replacement' to 'None' is no longer supported. Imputing with the 'mean' instead.\n",
      "  warnings.warn(\n",
      "C:\\programs\\conda\\envs\\tfgpu\\lib\\site-packages\\rdt\\transformers\\base.py:109: FutureWarning: Setting 'missing_value_replacement' to 'None' is no longer supported. Imputing with the 'mean' instead.\n",
      "  warnings.warn(\n",
      "C:\\programs\\conda\\envs\\tfgpu\\lib\\site-packages\\rdt\\transformers\\base.py:109: FutureWarning: Setting 'missing_value_replacement' to 'None' is no longer supported. Imputing with the 'mean' instead.\n",
      "  warnings.warn(\n"
     ]
    },
    {
     "name": "stdout",
     "output_type": "stream",
     "text": [
      "CPU times: total: 3.42 s\n",
      "Wall time: 3.43 s\n"
     ]
    },
    {
     "name": "stderr",
     "output_type": "stream",
     "text": [
      "C:\\programs\\conda\\envs\\tfgpu\\lib\\site-packages\\rdt\\transformers\\base.py:109: FutureWarning: Setting 'missing_value_replacement' to 'None' is no longer supported. Imputing with the 'mean' instead.\n",
      "  warnings.warn(\n"
     ]
    }
   ],
   "source": [
    "%%time\n",
    "formatter_collections = create_formatter_collection(real_data_collection)"
   ]
  },
  {
   "cell_type": "code",
   "execution_count": 29,
   "id": "b17dc196-89c7-4b9f-81db-03be45252196",
   "metadata": {},
   "outputs": [
    {
     "name": "stdout",
     "output_type": "stream",
     "text": [
      "CPU times: total: 5 s\n",
      "Wall time: 5 s\n"
     ]
    }
   ],
   "source": [
    "%%time\n",
    "transformed_data_collection, transform_method_dict = batch_transform(modelling_metadata, real_data_collection, formatter_collections)"
   ]
  },
  {
   "cell_type": "markdown",
   "id": "cd532b97-d07d-4d17-b866-ed8c24e6a392",
   "metadata": {},
   "source": [
    "## Rank Columns By Correlation"
   ]
  },
  {
   "cell_type": "code",
   "execution_count": 30,
   "id": "e803fdad-5103-4d6b-a205-43ae510e26d2",
   "metadata": {},
   "outputs": [],
   "source": [
    "def rank_columns_by_correlation(df):\n",
    "    # Calculate the correlation matrix\n",
    "    corr_matrix = df.corr(numeric_only=True).abs()\n",
    "\n",
    "    # Calculate the average absolute correlation of each column with all other columns\n",
    "    avg_corr = corr_matrix.mean()\n",
    "\n",
    "    # Sort by average correlation\n",
    "    avg_corr = avg_corr.sort_values(ascending=False)\n",
    "\n",
    "    # Return the dictionary of column names and their average absolute correlation\n",
    "    return avg_corr.to_dict()"
   ]
  },
  {
   "cell_type": "code",
   "execution_count": 31,
   "id": "5bdba2d5-dd4f-45df-af43-36cdf427994b",
   "metadata": {},
   "outputs": [],
   "source": [
    "# def add_cor_ranked_columns(data_collection, modelling_metadata):\n",
    "#     for df_name, df in data_collection.items():\n",
    "#         modelling_metadata[df_name]['correlation'] = rank_columns_by_correlation(df)"
   ]
  },
  {
   "cell_type": "code",
   "execution_count": 32,
   "id": "c6968c4d-a42a-4d68-abf4-312037c9c4d2",
   "metadata": {},
   "outputs": [],
   "source": [
    "# def identify_columns(data_collection, modelling_metadata):\n",
    "#     for df_name, df in data_collection.items():\n",
    "#         continuous_cols = []\n",
    "#         discrete_cols = []\n",
    "#         df_cols = df.columns.tolist()\n",
    "#         for col in df_cols:\n",
    "#             if df[col].dtype == np.float64:\n",
    "#                 if all(df[col] % 1 == 0):\n",
    "#                     discrete_cols.append(col)\n",
    "#                 else:\n",
    "#                     continuous_cols.append(col)\n",
    "#             elif df[col].dtype == np.int64:\n",
    "#                 discrete_cols.append(col)\n",
    "#         modelling_metadata[df_name]['numeric_types'] = {'continuous': continuous_cols, 'discrete': discrete_cols}"
   ]
  },
  {
   "cell_type": "code",
   "execution_count": 33,
   "id": "fc1f7a13-f47f-4338-9171-878db4738413",
   "metadata": {},
   "outputs": [],
   "source": [
    "# identify_columns(transformed_data_collection, modelling_metadata)"
   ]
  },
  {
   "cell_type": "markdown",
   "id": "e602c4aa-de3c-4d94-91c3-969439c59bb3",
   "metadata": {
    "tags": []
   },
   "source": [
    "## Obtain Foreign Key Distribution"
   ]
  },
  {
   "cell_type": "code",
   "execution_count": 34,
   "id": "edf42151-6b8a-4957-a709-5f072898ca23",
   "metadata": {},
   "outputs": [],
   "source": [
    "def identify_trended_columns(data_collection, modelling_metadata, lab_tab_ratio=None, cor_th=0.5):\n",
    "    for df_name, content in modelling_metadata.items():\n",
    "        foreign_columns = []\n",
    "        label_columns = []\n",
    "        selected_columns = []\n",
    "        if content['parent'] != {}:\n",
    "            foreign_columns = list(modelling_metadata[df_name]['parent'].values())\n",
    "        ranked_columns = rank_columns_by_correlation(data_collection[df_name])\n",
    "        if content['primary_key'] != None:\n",
    "            if lab_tab_ratio != None and cor_th == None:\n",
    "                ranked_columns = [col for col in list(ranked_columns.keys()) if col != content['primary_key']]\n",
    "                selected_columns = ranked_columns[:ceil(len(ranked_columns)*lab_tab_ratio)]\n",
    "            elif lab_tab_ratio == None and cor_th != None:\n",
    "                selected_columns = [col for col,cor in ranked_columns.items() if cor >= cor_th and col != content['primary_key']]\n",
    "            else:\n",
    "                selected_columns = []\n",
    "        selected_columns = list(set(foreign_columns) | set(selected_columns))\n",
    "        if selected_columns != [] or None:\n",
    "            modelling_metadata[df_name]['selected_columns'] = selected_columns\n",
    "        else:\n",
    "            modelling_metadata[df_name]['selected_columns'] = []"
   ]
  },
  {
   "cell_type": "code",
   "execution_count": 35,
   "id": "9cab2da9-db50-4db3-953d-cdc635c8bbbc",
   "metadata": {},
   "outputs": [],
   "source": [
    "# def split_continuous_discrete(data_collection, modelling_metadata, lab_tab_ratio=None, cor_th=0.75):\n",
    "#     for df_name, content in modelling_metadata.items():\n",
    "#         foreign_columns = []\n",
    "#         label_columns = []\n",
    "#         selected_columns = []\n",
    "#         if content['parent'] != {}:\n",
    "#             foreign_columns = list(modelling_metadata[df_name]['parent'].values())\n",
    "#         discrete_columns = modelling_metadata[df_name]['numeric_types']['discrete']\n",
    "#         if content['primary_key'] != None:\n",
    "#             selected_columns = [col for col in discrete_columns if col != content['primary_key']]\n",
    "#         selected_columns = list(set(foreign_columns) | set(selected_columns))\n",
    "#         if selected_columns != [] or None:\n",
    "#             modelling_metadata[df_name]['selected_columns'] = selected_columns\n",
    "#         else:\n",
    "#             modelling_metadata[df_name]['selected_columns'] = []"
   ]
  },
  {
   "cell_type": "code",
   "execution_count": 36,
   "id": "f83047da-39a5-4831-8c52-76ab3dd5a6cc",
   "metadata": {},
   "outputs": [],
   "source": [
    "identify_trended_columns(transformed_data_collection, modelling_metadata, lab_tab_ratio=None, cor_th=0.5)"
   ]
  },
  {
   "cell_type": "markdown",
   "id": "d8fa2e80-2ca0-4d2c-881d-94de5c331119",
   "metadata": {},
   "source": [
    "## Scaling"
   ]
  },
  {
   "cell_type": "code",
   "execution_count": 37,
   "id": "8846e997-fe62-44f4-9492-03ef527737f8",
   "metadata": {},
   "outputs": [],
   "source": [
    "def minmax_scaling(df, min_=0, max_=1):\n",
    "    scaler = MinMaxScaler((min_,max_))\n",
    "    scaler = scaler.fit(df)\n",
    "    scaled_df = pd.DataFrame(scaler.transform(df), columns = df.columns)\n",
    "    return scaled_df, scaler"
   ]
  },
  {
   "cell_type": "code",
   "execution_count": 38,
   "id": "1c29e184-ab47-4a05-9b1a-4f0ac24e8c45",
   "metadata": {},
   "outputs": [],
   "source": [
    "def normal_scaling(df):\n",
    "    scaler = StandardScaler()\n",
    "    scaler = scaler.fit(df)\n",
    "    scaled_df = pd.DataFrame(scaler.transform(df), columns = df.columns)\n",
    "    return scaled_df, scaler"
   ]
  },
  {
   "cell_type": "code",
   "execution_count": 39,
   "id": "03722b31-e0c5-43b2-afd5-9cacfde38268",
   "metadata": {},
   "outputs": [],
   "source": [
    "# def extract_key_and_scaled_features(df, label_columns):\n",
    "#     labels = df[label_columns]\n",
    "#     table = df.drop(columns=label_columns)\n",
    "#     table_column_names = table.columns\n",
    "#     scaled_table, table_scaler = normal_scaling(table)\n",
    "#     scaled_labels, labels_scaler = normal_scaling(labels)\n",
    "#     return scaled_table, scaled_labels, table_scaler, labels_scaler, table_column_names"
   ]
  },
  {
   "cell_type": "code",
   "execution_count": 40,
   "id": "d0c8a567-b531-4b2c-b2ef-d50f188b9c60",
   "metadata": {},
   "outputs": [],
   "source": [
    "def extract_key_and_scaled_features(df, label_columns):\n",
    "    labels = df[label_columns]\n",
    "    table = df.drop(columns=label_columns)\n",
    "    table_column_names = table.columns\n",
    "    try:\n",
    "        scaled_table, table_scaler = normal_scaling(table)\n",
    "    except:\n",
    "        scaled_table = None\n",
    "        table_scaler = None\n",
    "    scaled_labels, labels_scaler = normal_scaling(labels)\n",
    "    return scaled_table, scaled_labels, table_scaler, labels_scaler, table_column_names"
   ]
  },
  {
   "cell_type": "code",
   "execution_count": 41,
   "id": "c140cf3f-8d9e-4df9-b1cc-984d95a9806a",
   "metadata": {},
   "outputs": [],
   "source": [
    "def batch_scaling(data_collection, modelling_metadata):\n",
    "    processed_data_collection = {}\n",
    "    backtransformation_dict = {}\n",
    "    for df_name, df in data_collection.items():\n",
    "        selected_columns = modelling_metadata[df_name]['selected_columns']\n",
    "        primary_key_column = modelling_metadata[df_name]['primary_key']\n",
    "        if primary_key_column != None:\n",
    "            label_columns = list(set([primary_key_column]) | set(selected_columns))\n",
    "            primary_key_scaler = StandardScaler()\n",
    "            primary_key_scaler = StandardScaler().fit(df[[primary_key_column]])\n",
    "        else:\n",
    "            label_columns = selected_columns\n",
    "            primary_key_scaler = None\n",
    "        table, labels, table_scaler, labels_scaler, table_columns = extract_key_and_scaled_features(df, label_columns)\n",
    "        processed_data_collection[df_name] = {'table':table,\n",
    "                                              'labels':labels}\n",
    "        backtransformation_dict[df_name] = {'table_scaler':table_scaler,\n",
    "                                            'labels_scaler':labels_scaler,\n",
    "                                            'primary_key_scaler':primary_key_scaler,\n",
    "                                       'table_col_names':table_columns,\n",
    "                                       'labels_col_names':label_columns,\n",
    "                                       'col_names':df.columns,\n",
    "                                           'unique_elements':unique_elements(df[label_columns])}\n",
    "    return processed_data_collection, backtransformation_dict"
   ]
  },
  {
   "cell_type": "code",
   "execution_count": 42,
   "id": "feb81dc5-44b4-4b54-9a6d-96a6b9fee048",
   "metadata": {},
   "outputs": [],
   "source": [
    "def unique_elements(data):\n",
    "    unique_counts = data.nunique()\n",
    "    unique_dict = unique_counts.to_dict()\n",
    "    return unique_dict"
   ]
  },
  {
   "cell_type": "code",
   "execution_count": 43,
   "id": "13fc578c-be40-411e-b779-01160cb65a66",
   "metadata": {},
   "outputs": [],
   "source": [
    "def fit_kde(data, kernel='tophat', bandwidth='scott', leaf_size=64):\n",
    "    kde = KernelDensity(kernel=kernel, bandwidth=bandwidth, leaf_size=leaf_size)\n",
    "    kde.fit(data)\n",
    "    unique_elements_dict = unique_elements(data)\n",
    "    return kde, unique_elements_dict"
   ]
  },
  {
   "cell_type": "code",
   "execution_count": 44,
   "id": "22b26696-67e0-4e28-a7b3-c927d67609e7",
   "metadata": {},
   "outputs": [],
   "source": [
    "def batch_kde_fitting(processed_data_collection, modelling_metadata):\n",
    "    kde_collection = {}\n",
    "    for df_name, content in processed_data_collection.items():\n",
    "        selected_columns = modelling_metadata[df_name]['selected_columns']\n",
    "        if selected_columns != []:\n",
    "            kde, unique_elements = fit_kde(content['labels'][modelling_metadata[df_name]['selected_columns']])\n",
    "            kde_collection[df_name] = kde\n",
    "    return kde_collection"
   ]
  },
  {
   "cell_type": "code",
   "execution_count": 45,
   "id": "90c64e29-b4c5-4ea0-a6f3-3019fe5a7d45",
   "metadata": {},
   "outputs": [],
   "source": [
    "processed_data_collection, backtransformation_dict = batch_scaling(transformed_data_collection, modelling_metadata)"
   ]
  },
  {
   "cell_type": "code",
   "execution_count": 46,
   "id": "a08e6022-5106-4ef1-8559-10239f2bfe6b",
   "metadata": {},
   "outputs": [],
   "source": [
    "kde_collection = batch_kde_fitting(processed_data_collection, modelling_metadata)"
   ]
  },
  {
   "cell_type": "markdown",
   "id": "cd49eb54-1738-4599-874d-571ca5fdd9be",
   "metadata": {},
   "source": [
    "# Main GAN Algorithm"
   ]
  },
  {
   "cell_type": "markdown",
   "id": "5744d496-c6f4-4c88-a505-3b82acc3304b",
   "metadata": {},
   "source": [
    "## Additional Custom Function (Wasserstein Loss) (\\*Scrapped\\*)"
   ]
  },
  {
   "cell_type": "code",
   "execution_count": 47,
   "id": "f33fe30f-4133-4f04-ba15-b695c11c8fb6",
   "metadata": {},
   "outputs": [],
   "source": [
    "def wasserstein_loss(y_true, y_pred):\n",
    "    return backend.mean(y_true*y_pred)"
   ]
  },
  {
   "cell_type": "code",
   "execution_count": 48,
   "id": "0b3671ca-a536-49cf-bef3-6023a1d5497e",
   "metadata": {},
   "outputs": [],
   "source": [
    "class ClipConstraint(constraints.Constraint):\n",
    "    def __init__(self, clip_value):\n",
    "        self.clip_value = clip_value\n",
    "        \n",
    "    def __call__(self, weights):\n",
    "        return backend.clip(weights, -self.clip_value, self.clip_value)\n",
    "    \n",
    "    def get_config(self):\n",
    "        return {'clip_value': self.clip_value}"
   ]
  },
  {
   "cell_type": "markdown",
   "id": "7d64966e-d261-41f4-92b1-0d979c9deceb",
   "metadata": {},
   "source": [
    "## Define Plotting Function For G/D Loss"
   ]
  },
  {
   "cell_type": "code",
   "execution_count": 49,
   "id": "558eca6b-dc6e-45a4-a77d-5a2139ef78b2",
   "metadata": {},
   "outputs": [],
   "source": [
    "import matplotlib.pyplot as plt\n",
    "\n",
    "def plot_history(logs):\n",
    "    n = len(logs)\n",
    "    n_rows = (n + 2) // 3\n",
    "\n",
    "    fig, axes = plt.subplots(n_rows, 3, figsize=(15, 5 * n_rows))\n",
    "    axes = axes.flatten()\n",
    "\n",
    "    for i, (model_name, generator_log, critic_log) in enumerate(logs):\n",
    "        axes[i].plot(generator_log, label='gen')\n",
    "        axes[i].plot(critic_log, label='d')\n",
    "        axes[i].legend()\n",
    "        axes[i].set_title(model_name)\n",
    "\n",
    "    for i in range(n, n_rows * 3):\n",
    "        axes[i].remove()\n",
    "\n",
    "    plt.tight_layout()\n",
    "    plt.show()\n",
    "    plt.close()"
   ]
  },
  {
   "cell_type": "markdown",
   "id": "8134ba08-ad73-4d99-ae5d-a14e73c5a9d6",
   "metadata": {},
   "source": [
    "## (!) Define Main Generator, critic"
   ]
  },
  {
   "cell_type": "code",
   "execution_count": 50,
   "id": "3cbc2d56-1baa-47de-8edf-aaf6b7ede7a6",
   "metadata": {},
   "outputs": [],
   "source": [
    "def build_generator(table_dim, labels_dim, latent_dim=100):\n",
    "    noise_input = layers.Input(shape=(latent_dim,))\n",
    "    labels_input = layers.Input(shape=(labels_dim,))\n",
    "    merge_input = layers.Concatenate()([noise_input, labels_input])\n",
    "    reshape_layer = layers.Reshape((1, -1))(merge_input)\n",
    "    bn_layer1 = layers.BatchNormalization()(reshape_layer)\n",
    "    hidden_layer1 = layers.Conv1DTranspose(64,kernel_size=9,activation='relu',kernel_initializer='he_normal',padding='same')(bn_layer1)\n",
    "    bn_layer2 = layers.BatchNormalization()(hidden_layer1)\n",
    "    hidden_layer2 = layers.Conv1DTranspose(128,kernel_size=9,activation='relu',kernel_initializer='he_normal',padding='same')(bn_layer2)\n",
    "    bn_layer3 = layers.BatchNormalization()(hidden_layer2)\n",
    "    hidden_layer3 = layers.Conv1DTranspose(256,kernel_size=9,activation='relu',kernel_initializer='he_normal',padding='same')(bn_layer3)\n",
    "    bn_layer4 = layers.BatchNormalization()(hidden_layer3)\n",
    "    hidden_layer4 = layers.Conv1DTranspose(512,kernel_size=9,activation='relu',kernel_initializer='he_normal',padding='same')(bn_layer4)\n",
    "    bn_layer5 = layers.BatchNormalization()(hidden_layer4)\n",
    "    flatten_layer = layers.Flatten()(bn_layer5)\n",
    "    output_layer = layers.Dense(table_dim, activation='linear',kernel_initializer='glorot_normal')(flatten_layer)\n",
    "    generator = models.Model([noise_input, labels_input], output_layer)\n",
    "    return generator"
   ]
  },
  {
   "cell_type": "code",
   "execution_count": 51,
   "id": "52d62f5a-2c81-424d-ad94-680d07d463c4",
   "metadata": {
    "tags": []
   },
   "outputs": [],
   "source": [
    "def build_critic(table_dim, labels_dim, weight_threshold=0.01, optimization_rate=0.00005):\n",
    "    opt = optimizers.Adam(optimization_rate)\n",
    "    clip = ClipConstraint(weight_threshold)\n",
    "    table_input = layers.Input(shape=(table_dim,))\n",
    "    labels_input = layers.Input(shape=(labels_dim,))\n",
    "    merge_input = layers.Concatenate()([table_input, labels_input])\n",
    "    reshape_layer = layers.Reshape((1, -1))(merge_input)\n",
    "    bn_layer1 = layers.BatchNormalization()(reshape_layer)\n",
    "    hidden_layer1 = layers.Conv1D(512,kernel_size=9,activation=layers.LeakyReLU(0.2),kernel_initializer='he_normal',padding='same',kernel_constraint=clip)(bn_layer1)\n",
    "    bn_layer2 = layers.BatchNormalization()(hidden_layer1)\n",
    "    hidden_layer2 = layers.Conv1D(256,kernel_size=9,activation=layers.LeakyReLU(0.2),kernel_initializer='he_normal',padding='same',kernel_constraint=clip)(bn_layer2)\n",
    "    bn_layer3 = layers.BatchNormalization()(hidden_layer2)\n",
    "    hidden_layer3 = layers.Conv1D(128,kernel_size=9,activation=layers.LeakyReLU(0.2),kernel_initializer='he_normal',padding='same',kernel_constraint=clip)(bn_layer3)\n",
    "    bn_layer4 = layers.BatchNormalization()(hidden_layer3)\n",
    "    hidden_layer4 = layers.Conv1D(64,kernel_size=9,activation=layers.LeakyReLU(0.2),kernel_initializer='he_normal',padding='same',kernel_constraint=clip)(bn_layer4)\n",
    "    bn_layer5 = layers.BatchNormalization()(hidden_layer4)\n",
    "    flatten_layer = layers.Flatten()(bn_layer5)\n",
    "    # dropout = layers.Dropout(0.2)(flatten_layer)\n",
    "    output_layer = layers.Dense(1, activation='linear',kernel_initializer='glorot_normal')(flatten_layer)\n",
    "    critic = models.Model([table_input, labels_input], output_layer)\n",
    "    critic.compile(loss=wasserstein_loss, optimizer=opt)\n",
    "    return critic"
   ]
  },
  {
   "cell_type": "markdown",
   "id": "ff1dd590-15ff-4c1d-be39-c9c640e65de4",
   "metadata": {},
   "source": [
    "## Build GAN"
   ]
  },
  {
   "cell_type": "code",
   "execution_count": 52,
   "id": "07e822d9-2e5a-4e25-b946-eaeb8f3bbaab",
   "metadata": {},
   "outputs": [],
   "source": [
    "def build_gan(generator, critic, optimization_rate=0.00005):\n",
    "    critic.trainable = False\n",
    "    opt = optimizers.Adam(optimization_rate)\n",
    "    noise_input = layers.Input(shape=(generator.input_shape[0][1],))\n",
    "    labels_input = layers.Input(shape=(generator.input_shape[1][1],))\n",
    "    generator_output = generator([noise_input, labels_input])\n",
    "    critic_output = critic([generator_output, labels_input])\n",
    "    gan = models.Model(inputs=[noise_input, labels_input], outputs=critic_output)\n",
    "    gan.compile(optimizer=opt, loss=wasserstein_loss)\n",
    "    return gan"
   ]
  },
  {
   "cell_type": "markdown",
   "id": "6dd2b8d7-5798-490f-bf13-8233ef51b8d3",
   "metadata": {},
   "source": [
    "## Define Training Strategy"
   ]
  },
  {
   "cell_type": "code",
   "execution_count": 53,
   "id": "8c39aa00-6c56-4ad7-97d3-e6c3d98cb67c",
   "metadata": {},
   "outputs": [],
   "source": [
    "def train_individual_gan(name, real_table, real_labels, n_critic=3, epochs=50, batch_size=400, latent_dim=100, seed=123, return_logs=True):\n",
    "    rand_seed = seed\n",
    "    half_batch = int(batch_size/2)\n",
    "    generator = build_generator(real_table.shape[1], real_labels.shape[1], latent_dim=latent_dim)\n",
    "    critic = build_critic(real_table.shape[1], real_labels.shape[1])\n",
    "    gan = build_gan(generator, critic)\n",
    "    y_real = -1* np.ones((half_batch, 1))\n",
    "    y_fake = np.ones((half_batch, 1))\n",
    "    y_gan = np.ones((batch_size, 1))\n",
    "    \n",
    "    if return_logs:\n",
    "        generator_logs = []\n",
    "        critic_logs = []\n",
    "    \n",
    "    for epoch in range(epochs):\n",
    "        np.random.seed(rand_seed)\n",
    "        start_time = time.time()\n",
    "        c_loss = []\n",
    "        # train critic:\n",
    "        for _ in range(n_critic):\n",
    "            idx = np.random.randint(0, real_table.shape[0], half_batch)\n",
    "            noise = np.random.normal(0, 1, (half_batch, latent_dim))\n",
    "            x_real_labels = real_labels.iloc[idx]\n",
    "            x_real_table = real_table.iloc[idx]\n",
    "            x_fake_table = generator.predict([noise, x_real_labels])\n",
    "            c_loss_real = critic.train_on_batch([x_real_table, x_real_labels], y_real)\n",
    "            c_loss_fake = critic.train_on_batch([x_fake_table, x_real_labels], y_fake)\n",
    "            c_loss.append(np.mean(c_loss_fake)-np.mean(c_loss_real))\n",
    "            rand_seed += 1\n",
    "            \n",
    "        c_loss = np.mean(c_loss)\n",
    "        # train generator/GAN\n",
    "        idx = np.random.randint(0, real_table.shape[0], batch_size)\n",
    "        x_real_labels = real_labels.iloc[idx]\n",
    "        x_gan = np.random.normal(0, 1, (batch_size, latent_dim))\n",
    "        g_loss = gan.train_on_batch([x_gan, x_real_labels], y_gan)\n",
    "        \n",
    "        if return_logs:\n",
    "            generator_logs.append(g_loss)\n",
    "            critic_logs.append(c_loss)\n",
    "            \n",
    "        elapsed_time = time.time() - start_time\n",
    "        it_per_s = 1 / elapsed_time\n",
    "        \n",
    "        if (epoch+1) % 10 == 0 or epoch in [0,epochs-1]:\n",
    "            print(f\"[Epoch: {epoch+1}] [C loss: {np.round(c_loss, 3)}] [G loss: {np.round(g_loss, 3)}] [Speed: {round(it_per_s, 2)} it/s]\")\n",
    "        \n",
    "        rand_seed += 1\n",
    "        \n",
    "    generator.save('models/'+name+'_gen.h5')\n",
    "    \n",
    "    if return_logs:\n",
    "        return generator_logs, critic_logs"
   ]
  },
  {
   "cell_type": "code",
   "execution_count": 54,
   "id": "f1dee301-6169-4a42-9a43-52dbd61d7eef",
   "metadata": {},
   "outputs": [],
   "source": [
    "def train_individual_sequential_gan(name, real_table, real_labels, sort_order, n_critic=3, epochs=50, batch_size=400, latent_dim=100, seed=123, return_logs=True):\n",
    "    rand_seed = seed\n",
    "    half_batch = int(batch_size/2)\n",
    "    samp_size = min(batch_size, real_table.shape[0])\n",
    "    half_samp_size = min(half_batch, real_table.shape[0])\n",
    "    generator = build_generator(real_table.shape[1], real_labels.shape[1], latent_dim=latent_dim)\n",
    "    critic = build_critic(real_table.shape[1], real_labels.shape[1])\n",
    "    gan = build_gan(generator, critic)\n",
    "    y_real = -1 * np.ones((half_batch, 1))\n",
    "    y_fake = np.ones((half_batch, 1))\n",
    "    y_gan = np.ones((batch_size, 1))\n",
    "    \n",
    "    if return_logs:\n",
    "        generator_logs = []\n",
    "        critic_logs = []\n",
    "    \n",
    "    for epoch in range(epochs):\n",
    "        np.random.seed(rand_seed)\n",
    "        start_time = time.time()\n",
    "        c_loss = []\n",
    "        \n",
    "        # train critic:\n",
    "        for _ in range(n_critic):\n",
    "            idx = random.randint(0, real_table.shape[0]-half_samp_size)\n",
    "            noise = np.random.normal(0, 1, (half_samp_size, latent_dim))\n",
    "            x_real_labels = real_labels.iloc[idx:(idx+half_samp_size)]\n",
    "            x_real_table = real_table.iloc[idx:(idx + half_samp_size)]\n",
    "            x_fake_table = generator.predict([noise, x_real_labels])\n",
    "            c_loss_real = critic.train_on_batch([x_real_table, x_real_labels], y_real)\n",
    "            c_loss_fake = critic.train_on_batch([x_fake_table, x_real_labels], y_fake)\n",
    "            c_loss.append(np.mean(c_loss_fake)-np.mean(c_loss_real))\n",
    "            rand_seed += 1\n",
    "        c_loss = np.mean(c_loss)\n",
    "        \n",
    "        # train generator/GAN\n",
    "        x_gan = np.random.normal(0, 1, (samp_size, latent_dim))\n",
    "        idx = random.randint(0, real_table.shape[0]-samp_size)\n",
    "        x_real_labels = real_labels.iloc[idx:(idx+samp_size)]\n",
    "        g_loss = gan.train_on_batch([x_gan, x_real_labels], y_gan)\n",
    "        \n",
    "        if return_logs:\n",
    "            generator_logs.append(g_loss)\n",
    "            critic_logs.append(c_loss)\n",
    "            \n",
    "        elapsed_time = time.time() - start_time\n",
    "        it_per_s = 1 / elapsed_time\n",
    "        \n",
    "        if (epoch+1) % 10 == 0 or epoch in [0,epochs-1]:\n",
    "            print(f\"[Epoch: {epoch+1}] [C loss: {np.round(c_loss, 3)}] [G loss: {np.round(g_loss, 3)}] [Speed: {round(it_per_s, 2)} it/s]\")\n",
    "        \n",
    "        rand_seed += 1\n",
    "        \n",
    "    generator.save('models/'+name+'_gen.h5')\n",
    "    \n",
    "    if return_logs:\n",
    "        return generator_logs, critic_logs"
   ]
  },
  {
   "cell_type": "code",
   "execution_count": 55,
   "id": "8ffe38c7-2d8e-4cfd-a7be-90b9f7804895",
   "metadata": {},
   "outputs": [],
   "source": [
    "def collection_training(processed_collection, modelling_metadata, training_parameter_dict):\n",
    "    logs = []\n",
    "    init_time = time.time()\n",
    "    for df_name, content in processed_collection.items():\n",
    "        start_time = time.time()\n",
    "        print(f'Learning \\\"{df_name}\\\" data......')\n",
    "        latent_dim = 100\n",
    "        if content['table'] is not None:\n",
    "            if modelling_metadata[df_name]['is_sequential'] == True:\n",
    "                generator_log, critic_log = train_individual_sequential_gan(df_name,\n",
    "                                                                            content['table'],\n",
    "                                                                            content['labels'],\n",
    "                                                                            modelling_metadata[df_name]['sort_order'],\n",
    "                                                                            epochs=training_parameter_dict[df_name]['epochs'],\n",
    "                                                                            latent_dim = latent_dim,\n",
    "                                                                            return_logs=True)\n",
    "            else:\n",
    "                generator_log, critic_log = train_individual_gan(df_name,\n",
    "                                                                 content['table'],\n",
    "                                                                 content['labels'],\n",
    "                                                                 epochs=training_parameter_dict[df_name]['epochs'],\n",
    "                                                                 latent_dim = latent_dim,\n",
    "                                                                 return_logs=True)\n",
    "            logs.append([df_name, generator_log, critic_log])\n",
    "            in_loop_elapsed_time = time.time() - start_time\n",
    "            minutes, seconds = divmod(in_loop_elapsed_time, 60)\n",
    "            print(\"Time Used: %dm %ds\" % (minutes, seconds))\n",
    "            print('.')\n",
    "            print('.')\n",
    "        else:\n",
    "            print(\"Skipped (Fully-Discrete Table)\")\n",
    "            print('.')\n",
    "            print('.')\n",
    "    plot_history(logs)\n",
    "    total_elapsed_time = time.time() - init_time\n",
    "    minutes, seconds = divmod(total_elapsed_time, 60)\n",
    "    print(\"Total Time Used: %dm %ds\" % (minutes, seconds))"
   ]
  },
  {
   "cell_type": "markdown",
   "id": "df30c126-718f-4fb8-9e1f-788856cb0409",
   "metadata": {
    "tags": []
   },
   "source": [
    "## Train GAN"
   ]
  },
  {
   "cell_type": "code",
   "execution_count": 56,
   "id": "c01837b4-de65-4540-815d-f34f47ef61c3",
   "metadata": {},
   "outputs": [],
   "source": [
    "def calculate_epochs(data_collection, batch_size=400):\n",
    "    parameter_dict = {}\n",
    "    for df_name, df in data_collection.items():\n",
    "        epochs = len(df) / batch_size\n",
    "        if epochs < 5:\n",
    "            epochs = 5\n",
    "        elif epochs > 500:\n",
    "            epochs = 500\n",
    "        parameter_dict[df_name] = {'epochs':round(epochs)}\n",
    "    return parameter_dict"
   ]
  },
  {
   "cell_type": "code",
   "execution_count": 57,
   "id": "e617bab8-b5d8-4dcd-9bd7-b171c311dbe4",
   "metadata": {},
   "outputs": [],
   "source": [
    "training_parameter_dict = calculate_epochs(transformed_data_collection)"
   ]
  },
  {
   "cell_type": "code",
   "execution_count": 58,
   "id": "76243ed7-ea8b-46f0-9de0-e9891795f2b7",
   "metadata": {},
   "outputs": [],
   "source": [
    "# training_parameter_dict = {'agency': {'epochs': 10},\n",
    "#                            'calendar': {'epochs': 10},\n",
    "#                            'calendar_dates': {'epochs': 10},\n",
    "#                            'routes': {'epochs': 10},\n",
    "#                            'stops': {'epochs': 10},\n",
    "#                            'stop_times': {'epochs': 10},\n",
    "#                            'trips': {'epochs': 10}}"
   ]
  },
  {
   "cell_type": "code",
   "execution_count": 59,
   "id": "d933f9ca-b23d-4235-ba11-d769163605c6",
   "metadata": {},
   "outputs": [
    {
     "data": {
      "text/plain": [
       "{'agency': {'epochs': 5},\n",
       " 'calendar': {'epochs': 5},\n",
       " 'calendar_dates': {'epochs': 5},\n",
       " 'routes': {'epochs': 5},\n",
       " 'stops': {'epochs': 17},\n",
       " 'stop_times': {'epochs': 500},\n",
       " 'trips': {'epochs': 81}}"
      ]
     },
     "execution_count": 59,
     "metadata": {},
     "output_type": "execute_result"
    }
   ],
   "source": [
    "training_parameter_dict"
   ]
  },
  {
   "cell_type": "code",
   "execution_count": 60,
   "id": "460d4f25-0081-4232-a6c0-1e520da7a6de",
   "metadata": {
    "scrolled": true,
    "tags": []
   },
   "outputs": [
    {
     "name": "stdout",
     "output_type": "stream",
     "text": [
      "Learning \"agency\" data......\n",
      "[Epoch: 1] [C loss: 0.001] [G loss: -0.002] [Speed: 0.15 it/s]\n",
      "[Epoch: 5] [C loss: 0.002] [G loss: -0.008] [Speed: 4.06 it/s]\n",
      "Time Used: 0m 8s\n",
      ".\n",
      ".\n",
      "Learning \"calendar\" data......\n",
      "[Epoch: 1] [C loss: 0.001] [G loss: 0.002] [Speed: 0.29 it/s]\n",
      "[Epoch: 5] [C loss: 0.002] [G loss: 0.007] [Speed: 3.74 it/s]\n",
      "Time Used: 0m 4s\n",
      ".\n",
      ".\n",
      "Learning \"calendar_dates\" data......\n",
      "[Epoch: 1] [C loss: 0.001] [G loss: -0.002] [Speed: 0.28 it/s]\n",
      "[Epoch: 5] [C loss: 0.002] [G loss: -0.005] [Speed: 3.92 it/s]\n",
      "Time Used: 0m 4s\n",
      ".\n",
      ".\n",
      "Learning \"routes\" data......\n",
      "[Epoch: 1] [C loss: 0.001] [G loss: -0.003] [Speed: 0.29 it/s]\n",
      "[Epoch: 5] [C loss: 0.002] [G loss: -0.012] [Speed: 3.82 it/s]\n",
      "Time Used: 0m 4s\n",
      ".\n",
      ".\n",
      "Learning \"stops\" data......\n",
      "[Epoch: 1] [C loss: 0.001] [G loss: 0.002] [Speed: 0.3 it/s]\n",
      "[Epoch: 10] [C loss: 0.002] [G loss: 0.006] [Speed: 3.46 it/s]\n",
      "[Epoch: 17] [C loss: 0.002] [G loss: 0.01] [Speed: 2.78 it/s]\n",
      "Time Used: 0m 8s\n",
      ".\n",
      ".\n",
      "Learning \"stop_times\" data......\n",
      "[Epoch: 1] [C loss: 0.001] [G loss: 0.005] [Speed: 0.3 it/s]\n",
      "[Epoch: 10] [C loss: 0.002] [G loss: 0.026] [Speed: 2.71 it/s]\n",
      "[Epoch: 20] [C loss: 0.002] [G loss: 0.058] [Speed: 2.69 it/s]\n",
      "[Epoch: 30] [C loss: 0.002] [G loss: 0.097] [Speed: 2.73 it/s]\n",
      "[Epoch: 40] [C loss: 0.002] [G loss: 0.139] [Speed: 2.8 it/s]\n",
      "[Epoch: 50] [C loss: 0.002] [G loss: 0.169] [Speed: 2.78 it/s]\n",
      "[Epoch: 60] [C loss: 0.002] [G loss: 0.169] [Speed: 2.82 it/s]\n",
      "[Epoch: 70] [C loss: 0.002] [G loss: 0.003] [Speed: 2.82 it/s]\n",
      "[Epoch: 80] [C loss: 0.002] [G loss: -0.639] [Speed: 2.76 it/s]\n",
      "[Epoch: 90] [C loss: 0.002] [G loss: -2.057] [Speed: 2.78 it/s]\n",
      "[Epoch: 100] [C loss: 0.002] [G loss: -4.067] [Speed: 2.74 it/s]\n",
      "[Epoch: 110] [C loss: 0.002] [G loss: -6.255] [Speed: 2.79 it/s]\n",
      "[Epoch: 120] [C loss: 0.002] [G loss: -9.892] [Speed: 2.82 it/s]\n",
      "[Epoch: 130] [C loss: 0.002] [G loss: -13.842] [Speed: 2.76 it/s]\n",
      "[Epoch: 140] [C loss: 0.002] [G loss: -14.012] [Speed: 2.81 it/s]\n",
      "[Epoch: 150] [C loss: 0.002] [G loss: -12.451] [Speed: 2.75 it/s]\n",
      "[Epoch: 160] [C loss: 0.002] [G loss: -8.954] [Speed: 2.78 it/s]\n",
      "[Epoch: 170] [C loss: 0.002] [G loss: -8.711] [Speed: 2.74 it/s]\n",
      "[Epoch: 180] [C loss: 0.002] [G loss: -9.704] [Speed: 2.78 it/s]\n",
      "[Epoch: 190] [C loss: 0.002] [G loss: -9.083] [Speed: 2.77 it/s]\n",
      "[Epoch: 200] [C loss: 0.002] [G loss: -8.475] [Speed: 2.77 it/s]\n",
      "[Epoch: 210] [C loss: 0.002] [G loss: -7.051] [Speed: 2.77 it/s]\n",
      "[Epoch: 220] [C loss: 0.002] [G loss: -8.095] [Speed: 2.78 it/s]\n",
      "[Epoch: 230] [C loss: 0.002] [G loss: -6.676] [Speed: 2.78 it/s]\n",
      "[Epoch: 240] [C loss: 0.002] [G loss: -6.528] [Speed: 2.72 it/s]\n",
      "[Epoch: 250] [C loss: 0.002] [G loss: -5.878] [Speed: 2.78 it/s]\n",
      "[Epoch: 260] [C loss: 0.002] [G loss: -4.843] [Speed: 2.78 it/s]\n",
      "[Epoch: 270] [C loss: 0.002] [G loss: -3.938] [Speed: 2.78 it/s]\n",
      "[Epoch: 280] [C loss: 0.002] [G loss: -2.742] [Speed: 2.8 it/s]\n",
      "[Epoch: 290] [C loss: 0.002] [G loss: -1.879] [Speed: 2.75 it/s]\n",
      "[Epoch: 300] [C loss: 0.002] [G loss: -1.659] [Speed: 2.72 it/s]\n",
      "[Epoch: 310] [C loss: 0.002] [G loss: -1.515] [Speed: 2.75 it/s]\n",
      "[Epoch: 320] [C loss: 0.002] [G loss: -1.779] [Speed: 2.79 it/s]\n",
      "[Epoch: 330] [C loss: 0.002] [G loss: -2.178] [Speed: 2.8 it/s]\n",
      "[Epoch: 340] [C loss: 0.002] [G loss: -2.236] [Speed: 2.78 it/s]\n",
      "[Epoch: 350] [C loss: 0.002] [G loss: -2.041] [Speed: 2.78 it/s]\n",
      "[Epoch: 360] [C loss: 0.002] [G loss: -2.365] [Speed: 2.77 it/s]\n",
      "[Epoch: 370] [C loss: 0.002] [G loss: -2.054] [Speed: 2.78 it/s]\n",
      "[Epoch: 380] [C loss: 0.002] [G loss: -1.956] [Speed: 2.69 it/s]\n",
      "[Epoch: 390] [C loss: 0.002] [G loss: -2.318] [Speed: 2.8 it/s]\n",
      "[Epoch: 400] [C loss: 0.002] [G loss: -2.467] [Speed: 2.78 it/s]\n",
      "[Epoch: 410] [C loss: 0.002] [G loss: -2.649] [Speed: 2.79 it/s]\n",
      "[Epoch: 420] [C loss: 0.002] [G loss: -2.583] [Speed: 2.75 it/s]\n",
      "[Epoch: 430] [C loss: 0.002] [G loss: -2.497] [Speed: 2.77 it/s]\n",
      "[Epoch: 440] [C loss: 0.002] [G loss: -2.531] [Speed: 2.77 it/s]\n",
      "[Epoch: 450] [C loss: 0.002] [G loss: -2.408] [Speed: 2.73 it/s]\n",
      "[Epoch: 460] [C loss: 0.002] [G loss: -2.034] [Speed: 2.76 it/s]\n",
      "[Epoch: 470] [C loss: 0.002] [G loss: -1.757] [Speed: 2.78 it/s]\n",
      "[Epoch: 480] [C loss: 0.002] [G loss: -1.147] [Speed: 2.75 it/s]\n",
      "[Epoch: 490] [C loss: 0.002] [G loss: -0.75] [Speed: 2.76 it/s]\n",
      "[Epoch: 500] [C loss: 0.002] [G loss: -0.042] [Speed: 2.8 it/s]\n",
      "Time Used: 3m 4s\n",
      ".\n",
      ".\n",
      "Learning \"trips\" data......\n",
      "[Epoch: 1] [C loss: 0.001] [G loss: 0.003] [Speed: 0.29 it/s]\n",
      "[Epoch: 10] [C loss: 0.002] [G loss: 0.009] [Speed: 2.7 it/s]\n",
      "[Epoch: 20] [C loss: 0.002] [G loss: 0.012] [Speed: 2.72 it/s]\n",
      "[Epoch: 30] [C loss: 0.002] [G loss: 0.008] [Speed: 2.74 it/s]\n",
      "[Epoch: 40] [C loss: 0.002] [G loss: -0.008] [Speed: 2.73 it/s]\n",
      "[Epoch: 50] [C loss: 0.002] [G loss: -0.034] [Speed: 2.69 it/s]\n",
      "[Epoch: 60] [C loss: 0.002] [G loss: -0.068] [Speed: 2.75 it/s]\n",
      "[Epoch: 70] [C loss: 0.002] [G loss: -0.157] [Speed: 2.72 it/s]\n",
      "[Epoch: 80] [C loss: 0.002] [G loss: -0.793] [Speed: 2.73 it/s]\n",
      "[Epoch: 81] [C loss: 0.002] [G loss: -0.958] [Speed: 2.69 it/s]\n",
      "Time Used: 0m 33s\n",
      ".\n",
      ".\n"
     ]
    },
    {
     "data": {
      "image/png": "[encoded data removed]",
      "text/plain": [
       "<Figure size 1500x1500 with 7 Axes>"
      ]
     },
     "metadata": {},
     "output_type": "display_data"
    },
    {
     "name": "stdout",
     "output_type": "stream",
     "text": [
      "Total Time Used: 4m 10s\n",
      "CPU times: total: 4min 53s\n",
      "Wall time: 4min 10s\n"
     ]
    }
   ],
   "source": [
    "%%time\n",
    "\n",
    "collection_training(processed_data_collection, modelling_metadata, training_parameter_dict)"
   ]
  },
  {
   "cell_type": "markdown",
   "id": "37613df5-a0f7-4158-90e9-39c2f683bb49",
   "metadata": {},
   "source": [
    "# Synthetic Data Generation"
   ]
  },
  {
   "cell_type": "code",
   "execution_count": 61,
   "id": "e155a03a-d4ff-440c-bb49-e1b15a153097",
   "metadata": {},
   "outputs": [],
   "source": [
    "def adjust_unique_elements(data, unique_elements, ignore=[]):\n",
    "    for col, n_unique in unique_elements.items():\n",
    "        if col not in ignore:\n",
    "            data[col] = np.round(data[col]).astype(int)\n",
    "            min_val, max_val = data[col].min(), data[col].max()\n",
    "            original_range = np.linspace(min_val, max_val, n_unique)\n",
    "            new_range = np.arange(n_unique)\n",
    "            interp_func = interp1d(original_range, new_range, kind='nearest', bounds_error=False, fill_value=(0, n_unique - 1))\n",
    "            data[col] = interp_func(data[col]).astype(int)\n",
    "    return data"
   ]
  },
  {
   "cell_type": "code",
   "execution_count": 62,
   "id": "f189dabd-19bf-4258-b1c0-ac076242a360",
   "metadata": {},
   "outputs": [],
   "source": [
    "def generate_labels(kde, n_samples, col_names):\n",
    "    new_data = kde.sample(n_samples)\n",
    "    new_data_df = pd.DataFrame(new_data, columns=col_names)\n",
    "    return new_data_df"
   ]
  },
  {
   "cell_type": "code",
   "execution_count": 63,
   "id": "7926ee0f-cac2-4ea9-9852-a36b9d86daa8",
   "metadata": {
    "tags": []
   },
   "outputs": [],
   "source": [
    "def generate_synth_data_collection(kde_collection, modelling_metadata, generation_dict, backtransformation_dict, formatter_collections, transform_method_dict, latent_dim=100, seed=123):\n",
    "    np.random.seed(seed)\n",
    "    synthetic_data_collection = {}\n",
    "    \n",
    "    for df_name, content in modelling_metadata.items():\n",
    "        if len(backtransformation_dict[df_name]['table_col_names']) != 0:\n",
    "            generator = models.load_model('models/'+df_name+'_gen.h5')\n",
    "        else:\n",
    "            generator = None\n",
    "        primary_key = content['primary_key']\n",
    "        child = content['child']\n",
    "        parent = content['parent']\n",
    "        n_samples = generation_dict[df_name]['nrows']\n",
    "        \n",
    "        fake_primary_key = None\n",
    "        fake_selected_columns = None\n",
    "        if primary_key != None:\n",
    "            fake_primary_key = np.arange(n_samples)\n",
    "            scaled_fake_primary_key = backtransformation_dict[df_name]['primary_key_scaler'].transform(fake_primary_key.reshape(-1, 1)).flatten()\n",
    "            scaled_fake_primary_key = pd.DataFrame({primary_key:scaled_fake_primary_key})\n",
    "            \n",
    "        if content['selected_columns'] != []:\n",
    "            kde = kde_collection[df_name]\n",
    "            fake_selected_columns = generate_labels(kde, n_samples, content['selected_columns'])\n",
    "        \n",
    "        if fake_primary_key is not None:\n",
    "            if fake_selected_columns is not None:\n",
    "                raw_fake_labels = pd.concat([scaled_fake_primary_key, fake_selected_columns], axis=1)\n",
    "            else:\n",
    "                raw_fake_labels = scaled_fake_primary_key\n",
    "        else:\n",
    "            raw_fake_labels = fake_selected_columns\n",
    "        \n",
    "        raw_fake_labels = raw_fake_labels.reindex(columns=backtransformation_dict[df_name]['labels_col_names'])\n",
    "        if content['is_sequential'] == True:\n",
    "            raw_fake_labels = raw_fake_labels.sort_values(by=content['sort_order'])\n",
    "        \n",
    "        if generator is not None:\n",
    "            latent_dim = 100\n",
    "            noise = np.random.normal(0, 1, size=(n_samples, latent_dim))\n",
    "            raw_fake_table = generator.predict([noise, raw_fake_labels])\n",
    "            fake_table = backtransformation_dict[df_name]['table_scaler'].inverse_transform(raw_fake_table)\n",
    "            fake_table = pd.DataFrame(fake_table, columns=backtransformation_dict[df_name]['table_col_names'])\n",
    "            fake_labels = backtransformation_dict[df_name]['labels_scaler'].inverse_transform(raw_fake_labels)\n",
    "            fake_labels = pd.DataFrame(fake_labels,columns=backtransformation_dict[df_name]['labels_col_names'])\n",
    "            unique_elements = backtransformation_dict[df_name]['unique_elements']\n",
    "            if parent != None:\n",
    "                # ignore = []\n",
    "                for prnt, f_keys in parent.items():\n",
    "                    unique_elements[f_keys] = generation_dict[prnt]['nrows']\n",
    "                    # ignore.append(f_keys)\n",
    "                fake_labels = adjust_unique_elements(fake_labels, unique_elements)\n",
    "            else:\n",
    "                fake_labels = adjust_unique_elements(fake_labels, unique_elements)\n",
    "            fake_data = pd.concat([fake_labels, fake_table], axis=1)\n",
    "            fake_subset = formatter_collections[df_name].reverse_transform_subset(fake_data[transform_method_dict[df_name]['table']])\n",
    "            fake_data = pd.concat([fake_data[transform_method_dict[df_name]['labels']], fake_subset], axis=1)\n",
    "        else:\n",
    "            fake_labels = backtransformation_dict[df_name]['labels_scaler'].inverse_transform(raw_fake_labels)\n",
    "            fake_data = pd.DataFrame(fake_labels,columns=backtransformation_dict[df_name]['labels_col_names'])\n",
    "            unique_elements = backtransformation_dict[df_name]['unique_elements']\n",
    "            if parent != None:\n",
    "                # ignore = []\n",
    "                for prnt, f_keys in parent.items():\n",
    "                    unique_elements[f_keys] = generation_dict[prnt]['nrows']\n",
    "                    # ignore.append(f_keys)\n",
    "                fake_data = adjust_unique_elements(fake_data, unique_elements)\n",
    "            else:\n",
    "                fake_data = adjust_unique_elements(fake_data, unique_elements)\n",
    "            fake_subset = formatter_collections[df_name].reverse_transform_subset(fake_data[transform_method_dict[df_name]['table']])\n",
    "            fake_data = pd.concat([fake_data[transform_method_dict[df_name]['labels']], fake_subset], axis=1)\n",
    "        fake_data = fake_data.reindex(columns=backtransformation_dict[df_name]['col_names'])\n",
    "        synthetic_data_collection[df_name] = fake_data\n",
    "        \n",
    "    return synthetic_data_collection"
   ]
  },
  {
   "cell_type": "code",
   "execution_count": 64,
   "id": "1e39be14-abfa-422e-a33a-f6333dc191a1",
   "metadata": {},
   "outputs": [],
   "source": [
    "generation_dict = {k:{'nrows':len(v['labels'])} for k,v in processed_data_collection.items()}\n",
    "generation_dict['calendar_dates']['sort_by'] = ['service_id','date']\n",
    "generation_dict['stop_times']['sort_by'] = ['trip_id','stop_sequence']"
   ]
  },
  {
   "cell_type": "code",
   "execution_count": 65,
   "id": "26712e2e-c0a2-4132-af93-68af04c1adaf",
   "metadata": {},
   "outputs": [
    {
     "data": {
      "text/plain": [
       "{'agency': {'nrows': 15},\n",
       " 'calendar': {'nrows': 121},\n",
       " 'calendar_dates': {'nrows': 674, 'sort_by': ['service_id', 'date']},\n",
       " 'routes': {'nrows': 215},\n",
       " 'stops': {'nrows': 6714},\n",
       " 'stop_times': {'nrows': 966790, 'sort_by': ['trip_id', 'stop_sequence']},\n",
       " 'trips': {'nrows': 32403}}"
      ]
     },
     "execution_count": 65,
     "metadata": {},
     "output_type": "execute_result"
    }
   ],
   "source": [
    "generation_dict"
   ]
  },
  {
   "cell_type": "code",
   "execution_count": 66,
   "id": "1af7da14-2d7d-4c16-80e0-5c51f93f8675",
   "metadata": {
    "scrolled": true,
    "tags": []
   },
   "outputs": [
    {
     "name": "stderr",
     "output_type": "stream",
     "text": [
      "C:\\programs\\conda\\envs\\tfgpu\\lib\\site-packages\\sklearn\\base.py:439: UserWarning: X does not have valid feature names, but StandardScaler was fitted with feature names\n",
      "  warnings.warn(\n",
      "C:\\programs\\conda\\envs\\tfgpu\\lib\\site-packages\\sklearn\\base.py:439: UserWarning: X does not have valid feature names, but StandardScaler was fitted with feature names\n",
      "  warnings.warn(\n",
      "C:\\programs\\conda\\envs\\tfgpu\\lib\\site-packages\\sklearn\\base.py:439: UserWarning: X does not have valid feature names, but StandardScaler was fitted with feature names\n",
      "  warnings.warn(\n",
      "C:\\programs\\conda\\envs\\tfgpu\\lib\\site-packages\\sklearn\\base.py:439: UserWarning: X does not have valid feature names, but StandardScaler was fitted with feature names\n",
      "  warnings.warn(\n",
      "C:\\programs\\conda\\envs\\tfgpu\\lib\\site-packages\\sklearn\\base.py:439: UserWarning: X does not have valid feature names, but StandardScaler was fitted with feature names\n",
      "  warnings.warn(\n"
     ]
    },
    {
     "name": "stdout",
     "output_type": "stream",
     "text": [
      "CPU times: total: 1min 20s\n",
      "Wall time: 1min 7s\n"
     ]
    }
   ],
   "source": [
    "%%time\n",
    "\n",
    "synthetic_data_collection = generate_synth_data_collection(kde_collection, modelling_metadata, generation_dict, backtransformation_dict, formatter_collections, transform_method_dict)"
   ]
  },
  {
   "cell_type": "code",
   "execution_count": 67,
   "id": "56f7de02-e103-4384-b8ff-dc396dc8337d",
   "metadata": {},
   "outputs": [],
   "source": [
    "def replace_keys_with_regex(dataframes, metadata):\n",
    "    # Generate a mapping from old primary keys to new ones for each table\n",
    "    primary_key_mappings = {}\n",
    "    for table_name, table_info in metadata['tables'].items():\n",
    "        df = dataframes[table_name]\n",
    "\n",
    "        # Skip tables without a primary key\n",
    "        if 'primary_key' not in table_info:\n",
    "            continue\n",
    "\n",
    "        primary_key = table_info['primary_key']\n",
    "\n",
    "        # Skip columns without a regex_format\n",
    "        if 'regex_format' not in table_info['columns'][primary_key]:\n",
    "            continue\n",
    "\n",
    "        regex = table_info['columns'][primary_key]['regex_format']\n",
    "\n",
    "        # Generate new primary keys\n",
    "        new_primary_keys = [exrex.getone(regex) for _ in range(len(df))]\n",
    "\n",
    "        # Check if new keys are unique. If not, regenerate.\n",
    "        while len(new_primary_keys) != len(set(new_primary_keys)):\n",
    "            new_primary_keys = [exrex.getone(regex) for _ in range(len(df))]\n",
    "\n",
    "        # Create a mapping from old primary keys to new ones\n",
    "        primary_key_mappings[table_name] = dict(zip(df[primary_key], new_primary_keys))\n",
    "\n",
    "        # Replace the primary keys in the original dataframe\n",
    "        df[primary_key] = new_primary_keys\n",
    "\n",
    "    # Update the foreign keys in each table\n",
    "    for relationship in metadata['relationships']:\n",
    "        parent_table_name = relationship['parent_table_name']\n",
    "        child_table_name = relationship['child_table_name']\n",
    "        child_foreign_key = relationship['child_foreign_key']\n",
    "\n",
    "        # Get the mapping from old to new primary keys for the parent table\n",
    "        key_mapping = primary_key_mappings.get(parent_table_name)\n",
    "\n",
    "        # If there's no key mapping (i.e., the parent table has no primary key),\n",
    "        # skip this relationship\n",
    "        if key_mapping is None:\n",
    "            continue\n",
    "\n",
    "        # Replace the foreign keys in the child table\n",
    "        dataframes[child_table_name][child_foreign_key] = dataframes[child_table_name][child_foreign_key].map(key_mapping)\n",
    "\n",
    "    return dataframes"
   ]
  },
  {
   "cell_type": "code",
   "execution_count": 68,
   "id": "6f7bbba1-5552-4c7c-82f9-c22d64c0d0e1",
   "metadata": {},
   "outputs": [],
   "source": [
    "synthetic_data_collection = replace_keys_with_regex(synthetic_data_collection, sdv_metadata.to_dict())"
   ]
  },
  {
   "cell_type": "code",
   "execution_count": 69,
   "id": "515a7451-06e9-48ad-b9a4-f6d39e8bc22f",
   "metadata": {},
   "outputs": [],
   "source": [
    "synthetic_data_collection['stop_times'] = adjust_time(synthetic_data_collection['stop_times'], ['arrival_time','departure_time'])"
   ]
  },
  {
   "cell_type": "code",
   "execution_count": 70,
   "id": "1491b7f6-a3c5-4f1f-bdd5-bc5738078899",
   "metadata": {},
   "outputs": [],
   "source": [
    "# del processed_data_collection"
   ]
  },
  {
   "cell_type": "code",
   "execution_count": 71,
   "id": "e640674b-5d1e-42e9-a9d8-52cf78c9c87d",
   "metadata": {
    "tags": []
   },
   "outputs": [],
   "source": [
    "with open('pkl/real_data_collection.pkl', 'wb') as f:\n",
    "    pickle.dump(real_data_collection, f)"
   ]
  },
  {
   "cell_type": "code",
   "execution_count": 72,
   "id": "e622f869-9a16-4878-832c-2ea5f899e664",
   "metadata": {},
   "outputs": [],
   "source": [
    "# with open('pkl/synthetic_data_full_epoch.pkl', 'wb') as f:\n",
    "#     pickle.dump(synthetic_data_collection, f)"
   ]
  },
  {
   "cell_type": "code",
   "execution_count": 73,
   "id": "469095f2-644f-4207-98b5-e56d3b032162",
   "metadata": {},
   "outputs": [],
   "source": [
    "with open('pkl/synthetic_data_10epoch.pkl', 'wb') as f:\n",
    "    pickle.dump(synthetic_data_collection, f)"
   ]
  },
  {
   "cell_type": "code",
   "execution_count": 74,
   "id": "4087d1fa-e4fd-4039-8343-b4ddd600133d",
   "metadata": {},
   "outputs": [],
   "source": [
    "with open('pkl/modelling_metadata.pkl', 'wb') as f:\n",
    "    pickle.dump(modelling_metadata, f)"
   ]
  },
  {
   "cell_type": "code",
   "execution_count": 75,
   "id": "6f0559f9-d4b8-4244-98da-7877c32a72e1",
   "metadata": {},
   "outputs": [],
   "source": [
    "with open('pkl/sdv_metadata.pkl', 'wb') as f:\n",
    "    pickle.dump(sdv_metadata, f)"
   ]
  },
  {
   "cell_type": "code",
   "execution_count": null,
   "id": "29c3303b-df2d-46ba-991a-2ad74a7d3220",
   "metadata": {},
   "outputs": [],
   "source": []
  }
 ],
 "metadata": {
  "kernelspec": {
   "display_name": "Python 3 (ipykernel)",
   "language": "python",
   "name": "python3"
  },
  "language_info": {
   "codemirror_mode": {
    "name": "ipython",
    "version": 3
   },
   "file_extension": ".py",
   "mimetype": "text/x-python",
   "name": "python",
   "nbconvert_exporter": "python",
   "pygments_lexer": "ipython3",
   "version": "3.9.16"
  },
  "toc-autonumbering": true
 },
 "nbformat": 4,
 "nbformat_minor": 5
}
