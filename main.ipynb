{
 "cells": [
  {
   "cell_type": "markdown",
   "id": "ed277bcc-0b53-44b4-9072-343f704588ca",
   "metadata": {},
   "source": [
    "# import"
   ]
  },
  {
   "cell_type": "code",
   "execution_count": 1,
   "id": "9b6344e5-e74b-42a5-8a1d-95bd2f963a77",
   "metadata": {},
   "outputs": [],
   "source": [
    "import os\n",
    "import random\n",
    "import numpy as np\n",
    "import pandas as pd\n",
    "import matplotlib.pyplot as plt\n",
    "# import tensorflow as tf\n",
    "from tensorflow.keras import layers, models, optimizers, losses, backend, constraints\n",
    "from sklearn.preprocessing import MinMaxScaler, StandardScaler\n",
    "from sklearn import metrics\n",
    "from sklearn.impute import SimpleImputer\n",
    "# from table_evaluator import load_data, TableEvaluator\n",
    "# from sklearn.ensemble import RandomForestClassifier\n",
    "# from sklearn.model_selection import train_test_split"
   ]
  },
  {
   "cell_type": "markdown",
   "id": "9f6aa2d4-7b51-45ff-bc4a-1d3e9d7a0b65",
   "metadata": {
    "tags": []
   },
   "source": [
    "# load data"
   ]
  },
  {
   "cell_type": "code",
   "execution_count": 2,
   "id": "8b2e5505-8cda-4ecb-a414-b0d0819f283a",
   "metadata": {},
   "outputs": [],
   "source": [
    "# folder_path = 'gtfs'\n",
    "\n",
    "# agency = pd.read_csv(f'{folder_path}/agency.txt')\n",
    "# calendar = pd.read_csv(f'{folder_path}/calendar.txt')\n",
    "# calendar_dates = pd.read_csv(f'{folder_path}/calendar_dates.txt')\n",
    "# fare_attributes = pd.read_csv(f'{folder_path}/fare_attributes.txt')\n",
    "# fare_rules = pd.read_csv(f'{folder_path}/fare_rules.txt')\n",
    "# feed_info = pd.read_csv(f'{folder_path}/feed_info.txt')\n",
    "# frequencies = pd.read_csv(f'{folder_path}/frequencies.txt')\n",
    "# routes = pd.read_csv(f'{folder_path}/routes.txt')\n",
    "# shapes = pd.read_csv(f'{folder_path}/shapes.txt')\n",
    "# stops = pd.read_csv(f'{folder_path}/stops.txt')\n",
    "# stop_times = pd.read_csv(f'{folder_path}/stop_times.txt')\n",
    "# transfers = pd.read_csv(f'{folder_path}/transfers.txt')\n",
    "# trips = pd.read_csv(f'{folder_path}/trips.txt')"
   ]
  },
  {
   "cell_type": "code",
   "execution_count": 3,
   "id": "db708df7-5740-46d0-b5ff-e08f1e75da8e",
   "metadata": {},
   "outputs": [],
   "source": [
    "# join map\n",
    "# # Read GTFS CSV files\n",
    "# agency = pd.read_csv('gtfs/agency.txt')\n",
    "# stops = pd.read_csv('gtfs/stops.txt')\n",
    "# routes = pd.read_csv('gtfs/routes.txt')\n",
    "# trips = pd.read_csv('gtfs/trips.txt')\n",
    "# stop_times = pd.read_csv('gtfs/stop_times.txt')\n",
    "# calendar = pd.read_csv('gtfs/calendar.txt')\n",
    "# routes_agency = routes.merge(agency, on='agency_id', how='left')\n",
    "# trips_routes = trips.merge(routes_agency, on='route_id', how='left')\n",
    "# stop_times_trips = stop_times.merge(trips_routes, on='trip_id', how='left')\n",
    "# stop_times_trips_stops = stop_times_trips.merge(stops, on='stop_id', how='left')\n",
    "# trips_calendar = trips.merge(calendar, on='service_id', how='left')\n",
    "# joined_data = stop_times_trips_stops.merge(trips_calendar, on=['trip_id', 'route_id', 'service_id'], how='left', suffixes=('', '_y'))\n",
    "# joined_data = joined_data.loc[:, ~joined_data.columns.str.endswith('_y')]\n",
    "# joined_data.head()"
   ]
  },
  {
   "cell_type": "code",
   "execution_count": 4,
   "id": "37644fb8-5f08-496c-8403-c221fb097027",
   "metadata": {},
   "outputs": [],
   "source": [
    "def load_data_collection(dir_path):\n",
    "    gtfs_files = [f for f in os.listdir(dir_path)]\n",
    "    data_collection = {}\n",
    "    for f in gtfs_files:\n",
    "        f_path = os.path.join(dir_path, f)\n",
    "        data = pd.read_csv(f_path)\n",
    "        if not data.empty:\n",
    "            data_collection[f.split(\".\")[0]] = data\n",
    "    return data_collection"
   ]
  },
  {
   "cell_type": "code",
   "execution_count": 5,
   "id": "1fabfedb-af59-44de-851f-1fb41a26f071",
   "metadata": {},
   "outputs": [],
   "source": [
    "# def preprocess(data_collection):\n",
    "    # for k, v in data_collection.items():\n",
    "    #     current_data = v.select_dtypes(include=[np.number]).astype(np.float32)\n",
    "    #     scaler = StandardScaler()\n",
    "    #     data_collection[k] = scaler.fit_transform(current_data)\n",
    "    # return data_collection"
   ]
  },
  {
   "cell_type": "code",
   "execution_count": 6,
   "id": "b185c1d6-6ba7-42a7-9038-a114ac10fe0a",
   "metadata": {},
   "outputs": [],
   "source": [
    "def create_relation_dict(data_collection):\n",
    "    relation_dict = {}\n",
    "    for this_df_name, this_df in data_collection.items():\n",
    "        this_df_dict = {}\n",
    "        for this_col in this_df.columns:\n",
    "            for that_df_name, that_df in data_collection.items():\n",
    "                if that_df_name != this_df_name: # and that_df_name not in relation_dict.keys():\n",
    "                    for that_col in that_df.columns:\n",
    "                        if this_col == that_col and 'id' in this_col:\n",
    "                            this_df_dict[that_df_name] = [this_col, that_col]\n",
    "        relation_dict[this_df_name] = this_df_dict\n",
    "    return relation_dict"
   ]
  },
  {
   "cell_type": "code",
   "execution_count": 7,
   "id": "43100845-8f4f-4fb9-b765-073cdfe09426",
   "metadata": {},
   "outputs": [],
   "source": [
    "raw_data_collection = load_data_collection(\"gtfs\")"
   ]
  },
  {
   "cell_type": "code",
   "execution_count": 8,
   "id": "f2b28726-97c5-43ae-b3a7-16b40e42ffd0",
   "metadata": {},
   "outputs": [],
   "source": [
    "join_metadata = create_relation_dict(raw_data_collection)"
   ]
  },
  {
   "cell_type": "code",
   "execution_count": 9,
   "id": "9f31ea61-cfbc-45ec-9fe1-4cabd24f9481",
   "metadata": {},
   "outputs": [
    {
     "data": {
      "text/plain": [
       "{'agency': {'routes': ['agency_id', 'agency_id']},\n",
       " 'calendar': {'calendar_dates': ['service_id', 'service_id'],\n",
       "  'trips': ['service_id', 'service_id']},\n",
       " 'calendar_dates': {'calendar': ['service_id', 'service_id'],\n",
       "  'trips': ['service_id', 'service_id']},\n",
       " 'feed_info': {},\n",
       " 'routes': {'trips': ['route_id', 'route_id'],\n",
       "  'agency': ['agency_id', 'agency_id']},\n",
       " 'shapes': {'trips': ['shape_id', 'shape_id']},\n",
       " 'stops': {'stop_times': ['stop_id', 'stop_id']},\n",
       " 'stop_times': {'trips': ['trip_id', 'trip_id'],\n",
       "  'stops': ['stop_id', 'stop_id']},\n",
       " 'trips': {'routes': ['route_id', 'route_id'],\n",
       "  'calendar': ['service_id', 'service_id'],\n",
       "  'calendar_dates': ['service_id', 'service_id'],\n",
       "  'stop_times': ['trip_id', 'trip_id'],\n",
       "  'shapes': ['shape_id', 'shape_id']}}"
      ]
     },
     "execution_count": 9,
     "metadata": {},
     "output_type": "execute_result"
    }
   ],
   "source": [
    "join_metadata"
   ]
  },
  {
   "cell_type": "markdown",
   "id": "0030c3c8-efd3-4412-a936-e735a0ff0d11",
   "metadata": {},
   "source": [
    "# preprocess"
   ]
  },
  {
   "cell_type": "code",
   "execution_count": 10,
   "id": "ea160cb7-5a00-4415-9db6-65a1fed80c6d",
   "metadata": {},
   "outputs": [],
   "source": [
    "def create_preprocess_dict():\n",
    "    preprocess_dict = {}\n",
    "    preprocess_dict['transformation'] = {}\n",
    "    preprocess_dict['transformation']['drop'] = []\n",
    "    preprocess_dict['transformation']['factorize'] = []\n",
    "    preprocess_dict['transformation']['to_strip'] = []\n",
    "    preprocess_dict['transformation']['to_elapsed_time'] = []\n",
    "    preprocess_dict['transformation']['to_elapsed_days'] = []\n",
    "    preprocess_dict['nans_conversion'] = {}\n",
    "    preprocess_dict['nans_conversion']['impute'] = []\n",
    "    preprocess_dict['nans_conversion']['replace_with_neg_one'] = []\n",
    "    preprocess_dict['nans_conversion']['replace_with_zeros'] = []\n",
    "    return preprocess_dict"
   ]
  },
  {
   "cell_type": "code",
   "execution_count": 11,
   "id": "a43626da-f738-4269-b5ff-62333d036e9d",
   "metadata": {},
   "outputs": [],
   "source": [
    "def preprocess_individual_data(data, preprocess_dict, factorization_dict, timestamp = pd.Timestamp('1900-01-01')):\n",
    "    # reverse_transform_dict = {}\n",
    "    for stage in preprocess_dict.keys():\n",
    "        if stage == 'transformation':\n",
    "            for method, col_list in preprocess_dict[stage].items():\n",
    "                if len(col_list) != 0 or None:\n",
    "                    if method == 'drop':\n",
    "                        data = data.drop(col_list, axis=1)\n",
    "                    if method == 'factorize':\n",
    "                        for col in col_list:\n",
    "                            data[col] = data[col].map(factorization_dict[col])\n",
    "                    if method == 'to_strip':\n",
    "                        for col in col_list:\n",
    "                            # convert some column to numbers\n",
    "                            # e.g. `123-45-6` -> `123456`\n",
    "                            data[col] = data[col].str.replace(r'\\D', '').astype(int)\n",
    "                    if method == \"to_elapsed_time\":\n",
    "                        for col in col_list:\n",
    "                            cur_col = pd.to_timedelta(data[col])\n",
    "                            cur_col = cur_col % pd.Timedelta(days=1)\n",
    "                            data[col] = cur_col.dt.total_seconds()\n",
    "                    if method == \"to_elapsed_days\":\n",
    "                        for col in col_list:\n",
    "                            cur_col = pd.to_datetime(data[col])\n",
    "                            data[col] = (pd.to_datetime(cur_col) - timestamp).dt.days\n",
    "        if stage == 'nans_conversion':\n",
    "            for method, col_list in preprocess_dict[stage].items():\n",
    "                if len(col_list) != 0 or None:\n",
    "                    if method == 'impute':\n",
    "                        imputer = SimpleImputer(strategy='mean')\n",
    "                        data[col_list] = imputer.fit_transform(data[col_list])\n",
    "                    if method == 'replace_with_neg_one':\n",
    "                        data[col_list] = data[col_list].fillna(-1)\n",
    "                    if method == 'replace_with_zeros':\n",
    "                        data[col_list] = data[col_list].fillna(0)\n",
    "    # scaler = MinMaxScaler(feature_range=(-1, 1))\n",
    "    # scaled_data = scaler.fit_transform(data)\n",
    "    return data"
   ]
  },
  {
   "cell_type": "code",
   "execution_count": 12,
   "id": "bfbc6a94-8564-48d8-9e01-64f58dfce052",
   "metadata": {},
   "outputs": [],
   "source": [
    "def create_factorization_dict(data_collection, selected_columns):\n",
    "    # Combine unique values from all DataFrames for each selected column\n",
    "    unique_values = {}\n",
    "    for col in selected_columns:\n",
    "        local_unique_values = pd.concat([df[col] for df in data_collection.values() if col in df.columns]).unique()\n",
    "        unique_values[col] = local_unique_values\n",
    "\n",
    "    # Create a nested factorization dictionary\n",
    "    factorization_dict = {}\n",
    "    for col, local_unique_values in unique_values.items():\n",
    "        factorization_dict[col] = {v: i for i, v in enumerate(local_unique_values)}\n",
    "\n",
    "    return(factorization_dict)"
   ]
  },
  {
   "cell_type": "code",
   "execution_count": 13,
   "id": "e4aad625-bd96-4709-a788-b34601ffebd1",
   "metadata": {
    "scrolled": true,
    "tags": []
   },
   "outputs": [],
   "source": [
    "features_to_factorize = ['agency_id','agency_name',\n",
    "                         'agency_url','agency_timezone',\n",
    "                         'agency_lang','service_id',\n",
    "                        'feed_publisher_name','feed_publisher_url',\n",
    "                        'feed_lang','feed_version',\n",
    "                        'route_id','route_short_name',\n",
    "                        'route_long_name','route_color',\n",
    "                         'route_text_color','contract_id',\n",
    "                        'shape_id','stop_id',\n",
    "                        'stop_name','parent_station',\n",
    "                        'platform_code','trip_id',\n",
    "                        'stop_headsign','trip_headsign']\n",
    "factorization_dict = create_factorization_dict(raw_data_collection, features_to_factorize)"
   ]
  },
  {
   "cell_type": "markdown",
   "id": "d5d2f690-595f-4824-982b-a4eacecc3910",
   "metadata": {},
   "source": [
    "## preprocess individual data"
   ]
  },
  {
   "cell_type": "code",
   "execution_count": 14,
   "id": "282adcc5-dde7-4504-b81e-9617b9b7c580",
   "metadata": {},
   "outputs": [],
   "source": [
    "real_data_collection = {}"
   ]
  },
  {
   "cell_type": "markdown",
   "id": "3941e82d-821f-447a-8c2e-8fca8749dfa0",
   "metadata": {},
   "source": [
    "### agency"
   ]
  },
  {
   "cell_type": "code",
   "execution_count": 15,
   "id": "bef7d9f3-25f6-42c0-8eb2-e9ded03b6dcb",
   "metadata": {},
   "outputs": [
    {
     "name": "stderr",
     "output_type": "stream",
     "text": [
      "C:\\Users\\ouzho\\AppData\\Local\\Temp\\ipykernel_4220\\2025635260.py:16: FutureWarning: The default value of regex will change from True to False in a future version.\n",
      "  data[col] = data[col].str.replace(r'\\D', '').astype(int)\n"
     ]
    }
   ],
   "source": [
    "preprocess_dict = create_preprocess_dict()\n",
    "preprocess_dict['transformation']['drop'] = ['agency_fare_url','agency_email']\n",
    "preprocess_dict['transformation']['factorize'] = ['agency_id', 'agency_name','agency_url','agency_timezone','agency_lang']\n",
    "preprocess_dict['transformation']['to_strip'] = ['agency_phone']\n",
    "real_data_collection['agency'] = preprocess_individual_data(raw_data_collection['agency'], preprocess_dict, factorization_dict)"
   ]
  },
  {
   "cell_type": "markdown",
   "id": "8f278677-b5b3-4252-8141-0a142b47562c",
   "metadata": {},
   "source": [
    "### calendar"
   ]
  },
  {
   "cell_type": "code",
   "execution_count": 16,
   "id": "dfcca997-62df-47a3-abe4-b55842d25af5",
   "metadata": {},
   "outputs": [],
   "source": [
    "preprocess_dict = create_preprocess_dict()\n",
    "preprocess_dict['transformation']['factorize'] = ['service_id']\n",
    "preprocess_dict['transformation']['to_elapsed_days'] = ['start_date','end_date']\n",
    "real_data_collection['calendar'] = preprocess_individual_data(raw_data_collection['calendar'], preprocess_dict, factorization_dict)"
   ]
  },
  {
   "cell_type": "markdown",
   "id": "374b8652-4e4b-4f33-9a9a-5cd3c3717668",
   "metadata": {},
   "source": [
    "### calendar_dates"
   ]
  },
  {
   "cell_type": "code",
   "execution_count": 17,
   "id": "38deb9ca-8215-4891-8d19-c437ffda9877",
   "metadata": {},
   "outputs": [],
   "source": [
    "preprocess_dict = create_preprocess_dict()\n",
    "preprocess_dict['transformation']['factorize'] = ['service_id']\n",
    "preprocess_dict['transformation']['to_elapsed_days'] = ['date']\n",
    "real_data_collection['calendar_dates'] = preprocess_individual_data(raw_data_collection['calendar_dates'], preprocess_dict, factorization_dict)"
   ]
  },
  {
   "cell_type": "markdown",
   "id": "ebfb7bb3-6c5a-4a82-b7b7-81ee2f5b25d0",
   "metadata": {},
   "source": [
    "### feed_info"
   ]
  },
  {
   "cell_type": "code",
   "execution_count": 18,
   "id": "88c27af8-0471-47db-b4b0-7fb487fdd98c",
   "metadata": {},
   "outputs": [],
   "source": [
    "preprocess_dict = create_preprocess_dict()\n",
    "preprocess_dict['transformation']['factorize'] = ['feed_publisher_name',\n",
    "                                                  'feed_publisher_url',\n",
    "                                                 'feed_lang',\n",
    "                                                 'feed_version']\n",
    "preprocess_dict['transformation']['to_elapsed_days'] = ['feed_start_date','feed_end_date']\n",
    "real_data_collection['feed_info'] = preprocess_individual_data(raw_data_collection['feed_info'], preprocess_dict, factorization_dict)"
   ]
  },
  {
   "cell_type": "markdown",
   "id": "727e21f9-890a-4a8b-99a9-fb852ae82195",
   "metadata": {},
   "source": [
    "### routes"
   ]
  },
  {
   "cell_type": "code",
   "execution_count": 19,
   "id": "fd77431d-7d88-4dce-9121-a04f4c12c547",
   "metadata": {},
   "outputs": [],
   "source": [
    "preprocess_dict = create_preprocess_dict()\n",
    "preprocess_dict['transformation']['drop'] = ['route_desc','route_url','route_sort_order']\n",
    "preprocess_dict['transformation']['factorize'] = ['route_id',\n",
    "                                                  'agency_id',\n",
    "                                                 'route_short_name',\n",
    "                                                 'route_long_name',\n",
    "                                                 'route_color',\n",
    "                                                 'route_text_color',\n",
    "                                                 'contract_id']\n",
    "preprocess_dict['nans_conversion']['impute'] = ['route_color','route_text_color']\n",
    "real_data_collection['routes'] = preprocess_individual_data(raw_data_collection['routes'], preprocess_dict, factorization_dict)"
   ]
  },
  {
   "cell_type": "markdown",
   "id": "00ad060e-fcea-440a-aed9-dd9bc926684f",
   "metadata": {},
   "source": [
    "### shapes"
   ]
  },
  {
   "cell_type": "code",
   "execution_count": 20,
   "id": "9b5589da-6b58-48d1-b3eb-aecfbad81d6a",
   "metadata": {},
   "outputs": [],
   "source": [
    "preprocess_dict = create_preprocess_dict()\n",
    "preprocess_dict['transformation']['factorize'] = ['shape_id']\n",
    "real_data_collection['shapes'] = preprocess_individual_data(raw_data_collection['shapes'], preprocess_dict, factorization_dict)"
   ]
  },
  {
   "cell_type": "markdown",
   "id": "7f5c8015-fd45-4741-9393-f7c2815f7851",
   "metadata": {},
   "source": [
    "### stops"
   ]
  },
  {
   "cell_type": "code",
   "execution_count": 21,
   "id": "8e61ffc7-1168-4333-b4a3-3f9e44bf89cf",
   "metadata": {},
   "outputs": [],
   "source": [
    "preprocess_dict = create_preprocess_dict()\n",
    "preprocess_dict['transformation']['factorize'] = ['stop_id','stop_name','parent_station','platform_code']\n",
    "preprocess_dict['transformation']['to_elapsed_days'] = ['start_date','end_date']\n",
    "preprocess_dict['transformation']['drop'] = ['stop_desc','zone_id','stop_url','stop_timezone']\n",
    "preprocess_dict['nans_conversion']['impute'] = ['parent_station','platform_code']\n",
    "real_data_collection['stops'] = preprocess_individual_data(raw_data_collection['stops'], preprocess_dict, factorization_dict)"
   ]
  },
  {
   "cell_type": "markdown",
   "id": "b0265679-0e19-4597-8554-42c4963f8f8c",
   "metadata": {},
   "source": [
    "### stop_times"
   ]
  },
  {
   "cell_type": "code",
   "execution_count": 22,
   "id": "04cf6ba2-8f2e-4def-96af-560e9515146f",
   "metadata": {},
   "outputs": [],
   "source": [
    "preprocess_dict = create_preprocess_dict()\n",
    "preprocess_dict['transformation']['factorize'] = ['trip_id','stop_id','stop_headsign']\n",
    "preprocess_dict['transformation']['to_elapsed_time'] = ['arrival_time','departure_time']\n",
    "real_data_collection['stop_times'] = preprocess_individual_data(raw_data_collection['stop_times'], preprocess_dict, factorization_dict)"
   ]
  },
  {
   "cell_type": "markdown",
   "id": "b5b77631-6496-485c-b725-cd0f7fa88cd5",
   "metadata": {},
   "source": [
    "### trips"
   ]
  },
  {
   "cell_type": "code",
   "execution_count": 23,
   "id": "c4fe2aa8-61f4-4cab-9d65-ede31a55b844",
   "metadata": {},
   "outputs": [],
   "source": [
    "preprocess_dict = create_preprocess_dict()\n",
    "preprocess_dict['transformation']['factorize'] = ['route_id','service_id','trip_id','trip_headsign','shape_id']\n",
    "preprocess_dict['transformation']['drop'] = ['trip_short_name','block_id']\n",
    "real_data_collection['trips'] = preprocess_individual_data(raw_data_collection['trips'], preprocess_dict, factorization_dict)"
   ]
  },
  {
   "cell_type": "markdown",
   "id": "d8fa2e80-2ca0-4d2c-881d-94de5c331119",
   "metadata": {},
   "source": [
    "## scaling"
   ]
  },
  {
   "cell_type": "code",
   "execution_count": 24,
   "id": "8846e997-fe62-44f4-9492-03ef527737f8",
   "metadata": {},
   "outputs": [],
   "source": [
    "def batch_scaling(real_data_collection):\n",
    "    scaled_data_collection = real_data_collection\n",
    "    scaler_dict = {}\n",
    "    columns_dict = {}\n",
    "    for data_name, df in scaled_data_collection.items():\n",
    "        columns_dict[data_name] = df.columns\n",
    "        scaler = MinMaxScaler(feature_range = (-1,1))\n",
    "        scaler_dict[data_name] = scaler\n",
    "        scaled_data_collection[data_name] = scaler.fit_transform(df)\n",
    "    return scaled_data_collection, scaler_dict, columns_dict"
   ]
  },
  {
   "cell_type": "code",
   "execution_count": 25,
   "id": "1722d31b-d5f0-4543-aad2-809933ae3f66",
   "metadata": {},
   "outputs": [],
   "source": [
    "scaled_data_collection, scaler_collection, columns_dict = batch_scaling(real_data_collection)"
   ]
  },
  {
   "cell_type": "code",
   "execution_count": 26,
   "id": "0cd4b289-3ee0-4417-99fd-869cc51437a8",
   "metadata": {},
   "outputs": [],
   "source": [
    "columns_dict['agency'] = {'column_names':columns_dict['agency'],'primary_key':'agency_id'}\n",
    "columns_dict['calendar'] = {'column_names':columns_dict['calendar'],'primary_key':'service_id'}\n",
    "columns_dict['calendar_dates'] = {'column_names':columns_dict['calendar_dates'],'primary_key':'date'}\n",
    "columns_dict['feed_info'] = {'column_names':columns_dict['feed_info'],'primary_key':'feed_publisher_url'}\n",
    "columns_dict['routes'] = {'column_names':columns_dict['routes'],'primary_key':'route_id'}\n",
    "columns_dict['shapes'] = {'column_names':columns_dict['shapes'],'primary_key':'shape_id'}\n",
    "columns_dict['stops'] = {'column_names':columns_dict['stops'],'primary_key':'stop_id'}\n",
    "columns_dict['stop_times'] = {'column_names':columns_dict['stop_times'],'primary_key':None}\n",
    "columns_dict['trips'] = {'column_names':columns_dict['trips'],'primary_key':'trip_id'}"
   ]
  },
  {
   "cell_type": "markdown",
   "id": "cd49eb54-1738-4599-874d-571ca5fdd9be",
   "metadata": {},
   "source": [
    "# Train GAN"
   ]
  },
  {
   "cell_type": "markdown",
   "id": "e9a7d67a-017f-4302-99bc-5f2d6b3abf3a",
   "metadata": {},
   "source": [
    "## Sample & Noise Generation"
   ]
  },
  {
   "cell_type": "code",
   "execution_count": 27,
   "id": "a83737af-f265-4f35-b7f3-a9055f79f5a8",
   "metadata": {},
   "outputs": [],
   "source": [
    "def sample_data(data, size):\n",
    "    return data[np.random.randint(0, data.shape[0], size)]"
   ]
  },
  {
   "cell_type": "code",
   "execution_count": 28,
   "id": "5d8321ba-da45-4041-9dd9-25baec7e64a1",
   "metadata": {},
   "outputs": [],
   "source": [
    "def generate_noise(n_samples, n_features):\n",
    "    return np.random.uniform(-1, 1, (n_samples, n_features))"
   ]
  },
  {
   "cell_type": "markdown",
   "id": "3d9862f5-6fc4-464d-8055-6d04a3dbc826",
   "metadata": {},
   "source": [
    "## Define Custom Setting (Wasserstein Loss)"
   ]
  },
  {
   "cell_type": "code",
   "execution_count": 29,
   "id": "f33fe30f-4133-4f04-ba15-b695c11c8fb6",
   "metadata": {},
   "outputs": [],
   "source": [
    "def wasserstein_loss(y_true, y_pred):\n",
    "    return backend.mean(y_true*y_pred)"
   ]
  },
  {
   "cell_type": "code",
   "execution_count": 30,
   "id": "d6e6482a-21b9-4370-a7dc-76889aaa5d43",
   "metadata": {
    "tags": []
   },
   "outputs": [],
   "source": [
    "class ClipConstraint(constraints.Constraint):\n",
    "    def __init__(self, clip_value):\n",
    "        self.clip_value = clip_value\n",
    "        \n",
    "    def __call__(self, weights):\n",
    "        return backend.clip(weights, -self.clip_value, self.clip_value)\n",
    "    \n",
    "    def get_config(self):\n",
    "        return {'clip_value': self.clip_value}"
   ]
  },
  {
   "cell_type": "markdown",
   "id": "7d64966e-d261-41f4-92b1-0d979c9deceb",
   "metadata": {},
   "source": [
    "## Define Plotting Function For G/D Loss"
   ]
  },
  {
   "cell_type": "code",
   "execution_count": 31,
   "id": "558eca6b-dc6e-45a4-a77d-5a2139ef78b2",
   "metadata": {},
   "outputs": [],
   "source": [
    "import matplotlib.pyplot as plt\n",
    "\n",
    "def plot_history(logs):\n",
    "    n = len(logs)\n",
    "    n_rows = (n + 2) // 3\n",
    "\n",
    "    fig, axes = plt.subplots(n_rows, 3, figsize=(15, 5 * n_rows), sharex=True, sharey=True)\n",
    "    axes = axes.flatten()\n",
    "\n",
    "    for i, (model_name, generator_log, discriminator_log) in enumerate(logs):\n",
    "        axes[i].plot(generator_log, label='gen')\n",
    "        axes[i].plot(discriminator_log, label='d')\n",
    "        axes[i].legend()\n",
    "        axes[i].set_title(model_name)\n",
    "\n",
    "    for i in range(n, n_rows * 3):\n",
    "        axes[i].remove()\n",
    "\n",
    "    plt.tight_layout()\n",
    "    plt.show()\n",
    "    plt.close()"
   ]
  },
  {
   "cell_type": "markdown",
   "id": "8134ba08-ad73-4d99-ae5d-a14e73c5a9d6",
   "metadata": {},
   "source": [
    "## (!) Define Main Generator, Discriminator, WGAN Function"
   ]
  },
  {
   "cell_type": "code",
   "execution_count": 32,
   "id": "96d53099-c234-40c6-ad10-ede92dbe47ac",
   "metadata": {},
   "outputs": [],
   "source": [
    "def build_generator(input_dim, output_dim):\n",
    "    model = models.Sequential()\n",
    "    model.add(layers.Dense(units=128,\n",
    "                           input_dim=input_dim,\n",
    "                           kernel_initializer='he_uniform',\n",
    "                           activation='LeakyReLU'))\n",
    "    model.add(layers.BatchNormalization())\n",
    "    # model.add(layers.Dense(units=64, activation='LeakyReLU'))\n",
    "    # model.add(layers.Dense(units=64, activation='LeakyReLU'))\n",
    "    model.add(layers.Reshape((4, 32)))\n",
    "    model.add(layers.Conv1DTranspose(64,\n",
    "                                     kernel_size=3,\n",
    "                                     strides=2,\n",
    "                                     padding=\"same\",\n",
    "                                     activation=\"LeakyReLU\"))\n",
    "    model.add(layers.Conv1DTranspose(32,\n",
    "                                     kernel_size=3,\n",
    "                                     strides=2,\n",
    "                                     padding=\"same\",\n",
    "                                     activation=\"LeakyReLU\"))\n",
    "    model.add(layers.BatchNormalization())\n",
    "    model.add(layers.Flatten())\n",
    "    model.add(layers.Dense(units=output_dim, activation='tanh'))\n",
    "    return model"
   ]
  },
  {
   "cell_type": "code",
   "execution_count": 33,
   "id": "931b95ef-fb22-48bb-aff3-e7886fc5f34e",
   "metadata": {},
   "outputs": [],
   "source": [
    "def build_discriminator(input_dim, constraint_rate=0.01, optimization_rate=0.00005):\n",
    "    clip_const = ClipConstraint(constraint_rate)\n",
    "    rms_opt = optimizers.RMSprop(optimization_rate)\n",
    "    model = models.Sequential()\n",
    "    model.add(layers.Dense(128,\n",
    "                           input_dim=input_dim,\n",
    "                           kernel_initializer='he_uniform',\n",
    "                           kernel_constraint=clip_const,\n",
    "                           activation='LeakyReLU'))\n",
    "    model.add(layers.BatchNormalization())\n",
    "    model.add(layers.Reshape((4, 32)))\n",
    "    model.add(layers.Conv1D(64,\n",
    "                            kernel_size=4,\n",
    "                            strides=2,\n",
    "                            padding=\"same\",\n",
    "                            kernel_constraint=clip_const,\n",
    "                            activation=\"LeakyReLU\"))\n",
    "    # model.add(layers.Conv1D(64,\n",
    "    #                         kernel_size=4,\n",
    "    #                         strides=2,\n",
    "    #                         padding=\"same\",\n",
    "    #                         kernel_constraint=clip_const,\n",
    "    #                         activation=\"LeakyReLU\"))\n",
    "    # model.add(layers.Dense(64, kernel_constraint=clip_const, activation='LeakyReLU'))\n",
    "    # model.add(layers.Dense(64, kernel_constraint=clip_const, activation='LeakyReLU'))\n",
    "    model.add(layers.BatchNormalization())\n",
    "    model.add(layers.Flatten())\n",
    "    model.add(layers.Dense(units=1, activation='linear'))\n",
    "    model.compile(loss=wasserstein_loss,\n",
    "                  optimizer=rms_opt, metrics=['accuracy'])\n",
    "    return model"
   ]
  },
  {
   "cell_type": "code",
   "execution_count": 34,
   "id": "d482af61-0129-4c4a-aac1-17f07cab20d1",
   "metadata": {},
   "outputs": [],
   "source": [
    "def build_gan(generator, discriminator):\n",
    "    discriminator.trainable = False\n",
    "    model = models.Sequential()\n",
    "    model.add(generator)\n",
    "    model.add(discriminator)\n",
    "    model.compile(loss=wasserstein_loss,\n",
    "                 optimizer='adam')\n",
    "    return model"
   ]
  },
  {
   "cell_type": "markdown",
   "id": "6dd2b8d7-5798-490f-bf13-8233ef51b8d3",
   "metadata": {},
   "source": [
    "## Define Training Strategy"
   ]
  },
  {
   "cell_type": "code",
   "execution_count": 35,
   "id": "8c39aa00-6c56-4ad7-97d3-e6c3d98cb67c",
   "metadata": {},
   "outputs": [],
   "source": [
    "def train_gan(scaled_data_collection, epochs=10, batch_size=128, seed=123):\n",
    "    generator_collection = {}\n",
    "    shape_info_collection = {}\n",
    "    logs = []\n",
    "    \n",
    "    for k, v in scaled_data_collection.items():\n",
    "        random.seed(seed)\n",
    "        generator_log = []\n",
    "        discriminator_log = []\n",
    "        real_data = v\n",
    "        n_features = real_data.shape[1]\n",
    "        shape_info_collection[k] = real_data.shape\n",
    "        \n",
    "        generator = build_generator(n_features, n_features)\n",
    "        discriminator = build_discriminator(n_features)\n",
    "        gan = build_gan(generator, discriminator)\n",
    "        \n",
    "        for epoch in range(epochs):\n",
    "            \n",
    "            noise = generate_noise(batch_size, n_features)\n",
    "            \n",
    "            X_real = sample_data(real_data, batch_size)\n",
    "            X_fake = generator.predict(noise)\n",
    "            y_real = -1 * np.ones((batch_size, 1))\n",
    "            y_fake = np.ones((batch_size, 1))\n",
    "            \n",
    "            d_loss_real, _ = discriminator.train_on_batch(X_real, y_real)\n",
    "            d_loss_fake, _ = discriminator.train_on_batch(X_fake, y_fake)\n",
    "            \n",
    "            d_loss = 0.5 * np.add(d_loss_real, d_loss_fake)\n",
    "            g_loss = gan.train_on_batch(noise, y_real)\n",
    "            generator_log.append(g_loss)\n",
    "            discriminator_log.append(d_loss)\n",
    "            # if epoch % 10 == 0:\n",
    "            print(f\"Dataset: \\\"{k}\\\" [Epoch: {epoch}] [D loss: {np.round(d_loss, 3)}] [G loss: {np.round(g_loss, 3)}]\")\n",
    "        logs.append([k, generator_log,discriminator_log])\n",
    "        generator_collection[k] = generator\n",
    "    plot_history(logs)   \n",
    "    return generator_collection"
   ]
  },
  {
   "cell_type": "markdown",
   "id": "df30c126-718f-4fb8-9e1f-788856cb0409",
   "metadata": {},
   "source": [
    "## Train WGAN"
   ]
  },
  {
   "cell_type": "code",
   "execution_count": 36,
   "id": "460d4f25-0081-4232-a6c0-1e520da7a6de",
   "metadata": {
    "scrolled": true,
    "tags": []
   },
   "outputs": [
    {
     "name": "stdout",
     "output_type": "stream",
     "text": [
      "Dataset: \"agency\" [Epoch: 0] [D loss: 0.058] [G loss: -0.001]\n",
      "Dataset: \"agency\" [Epoch: 1] [D loss: 0.052] [G loss: -0.002]\n",
      "Dataset: \"agency\" [Epoch: 2] [D loss: 0.012] [G loss: -0.003]\n",
      "Dataset: \"agency\" [Epoch: 3] [D loss: -0.021] [G loss: -0.003]\n",
      "Dataset: \"agency\" [Epoch: 4] [D loss: -0.052] [G loss: -0.003]\n",
      "Dataset: \"agency\" [Epoch: 5] [D loss: -0.085] [G loss: -0.004]\n",
      "Dataset: \"agency\" [Epoch: 6] [D loss: -0.1] [G loss: -0.004]\n",
      "Dataset: \"agency\" [Epoch: 7] [D loss: -0.136] [G loss: -0.004]\n",
      "Dataset: \"agency\" [Epoch: 8] [D loss: -0.149] [G loss: -0.004]\n",
      "Dataset: \"agency\" [Epoch: 9] [D loss: -0.182] [G loss: -0.004]\n",
      "Dataset: \"calendar\" [Epoch: 0] [D loss: -0.02] [G loss: -0.006]\n",
      "Dataset: \"calendar\" [Epoch: 1] [D loss: -0.032] [G loss: -0.007]\n",
      "Dataset: \"calendar\" [Epoch: 2] [D loss: -0.105] [G loss: -0.008]\n",
      "Dataset: \"calendar\" [Epoch: 3] [D loss: -0.145] [G loss: -0.009]\n",
      "Dataset: \"calendar\" [Epoch: 4] [D loss: -0.176] [G loss: -0.01]\n",
      "Dataset: \"calendar\" [Epoch: 5] [D loss: -0.232] [G loss: -0.011]\n",
      "Dataset: \"calendar\" [Epoch: 6] [D loss: -0.199] [G loss: -0.012]\n",
      "Dataset: \"calendar\" [Epoch: 7] [D loss: -0.267] [G loss: -0.013]\n",
      "Dataset: \"calendar\" [Epoch: 8] [D loss: -0.32] [G loss: -0.013]\n",
      "Dataset: \"calendar\" [Epoch: 9] [D loss: -0.343] [G loss: -0.014]\n",
      "Dataset: \"calendar_dates\" [Epoch: 0] [D loss: -0.006] [G loss: -0.002]\n",
      "Dataset: \"calendar_dates\" [Epoch: 1] [D loss: 0.004] [G loss: -0.002]\n",
      "Dataset: \"calendar_dates\" [Epoch: 2] [D loss: -0.081] [G loss: -0.002]\n",
      "Dataset: \"calendar_dates\" [Epoch: 3] [D loss: -0.117] [G loss: -0.002]\n",
      "Dataset: \"calendar_dates\" [Epoch: 4] [D loss: -0.148] [G loss: -0.002]\n",
      "Dataset: \"calendar_dates\" [Epoch: 5] [D loss: -0.187] [G loss: -0.003]\n",
      "Dataset: \"calendar_dates\" [Epoch: 6] [D loss: -0.224] [G loss: -0.003]\n",
      "Dataset: \"calendar_dates\" [Epoch: 7] [D loss: -0.256] [G loss: -0.003]\n",
      "Dataset: \"calendar_dates\" [Epoch: 8] [D loss: -0.314] [G loss: -0.003]\n",
      "Dataset: \"calendar_dates\" [Epoch: 9] [D loss: -0.318] [G loss: -0.003]\n",
      "Dataset: \"feed_info\" [Epoch: 0] [D loss: 0.005] [G loss: 0.0]\n",
      "Dataset: \"feed_info\" [Epoch: 1] [D loss: -0.008] [G loss: -0.001]\n",
      "Dataset: \"feed_info\" [Epoch: 2] [D loss: -0.025] [G loss: -0.001]\n",
      "Dataset: \"feed_info\" [Epoch: 3] [D loss: -0.037] [G loss: -0.002]\n",
      "Dataset: \"feed_info\" [Epoch: 4] [D loss: -0.047] [G loss: -0.002]\n",
      "Dataset: \"feed_info\" [Epoch: 5] [D loss: -0.064] [G loss: -0.002]\n",
      "Dataset: \"feed_info\" [Epoch: 6] [D loss: -0.069] [G loss: -0.003]\n",
      "Dataset: \"feed_info\" [Epoch: 7] [D loss: -0.075] [G loss: -0.003]\n",
      "Dataset: \"feed_info\" [Epoch: 8] [D loss: -0.078] [G loss: -0.003]\n",
      "Dataset: \"feed_info\" [Epoch: 9] [D loss: -0.091] [G loss: -0.003]\n",
      "Dataset: \"routes\" [Epoch: 0] [D loss: -0.108] [G loss: 0.0]\n",
      "Dataset: \"routes\" [Epoch: 1] [D loss: 0.088] [G loss: -0.001]\n",
      "Dataset: \"routes\" [Epoch: 2] [D loss: 0.044] [G loss: -0.001]\n",
      "Dataset: \"routes\" [Epoch: 3] [D loss: 0.018] [G loss: -0.002]\n",
      "Dataset: \"routes\" [Epoch: 4] [D loss: -0.011] [G loss: -0.002]\n",
      "Dataset: \"routes\" [Epoch: 5] [D loss: -0.034] [G loss: -0.003]\n",
      "Dataset: \"routes\" [Epoch: 6] [D loss: -0.062] [G loss: -0.003]\n",
      "Dataset: \"routes\" [Epoch: 7] [D loss: -0.077] [G loss: -0.003]\n",
      "Dataset: \"routes\" [Epoch: 8] [D loss: -0.112] [G loss: -0.003]\n",
      "Dataset: \"routes\" [Epoch: 9] [D loss: -0.112] [G loss: -0.004]\n",
      "Dataset: \"shapes\" [Epoch: 0] [D loss: -0.057] [G loss: -0.0]\n",
      "Dataset: \"shapes\" [Epoch: 1] [D loss: -0.029] [G loss: -0.001]\n",
      "Dataset: \"shapes\" [Epoch: 2] [D loss: -0.078] [G loss: -0.002]\n",
      "Dataset: \"shapes\" [Epoch: 3] [D loss: -0.09] [G loss: -0.002]\n",
      "Dataset: \"shapes\" [Epoch: 4] [D loss: -0.113] [G loss: -0.003]\n",
      "Dataset: \"shapes\" [Epoch: 5] [D loss: -0.123] [G loss: -0.003]\n",
      "Dataset: \"shapes\" [Epoch: 6] [D loss: -0.131] [G loss: -0.003]\n",
      "Dataset: \"shapes\" [Epoch: 7] [D loss: -0.139] [G loss: -0.003]\n",
      "Dataset: \"shapes\" [Epoch: 8] [D loss: -0.134] [G loss: -0.003]\n",
      "Dataset: \"shapes\" [Epoch: 9] [D loss: -0.166] [G loss: -0.004]\n",
      "Dataset: \"stops\" [Epoch: 0] [D loss: 0.001] [G loss: 0.003]\n",
      "Dataset: \"stops\" [Epoch: 1] [D loss: -0.034] [G loss: 0.002]\n",
      "Dataset: \"stops\" [Epoch: 2] [D loss: -0.072] [G loss: 0.0]\n",
      "Dataset: \"stops\" [Epoch: 3] [D loss: -0.085] [G loss: -0.0]\n",
      "Dataset: \"stops\" [Epoch: 4] [D loss: -0.11] [G loss: -0.002]\n",
      "Dataset: \"stops\" [Epoch: 5] [D loss: -0.123] [G loss: -0.003]\n",
      "Dataset: \"stops\" [Epoch: 6] [D loss: -0.137] [G loss: -0.004]\n",
      "Dataset: \"stops\" [Epoch: 7] [D loss: -0.153] [G loss: -0.005]\n",
      "Dataset: \"stops\" [Epoch: 8] [D loss: -0.178] [G loss: -0.005]\n",
      "Dataset: \"stops\" [Epoch: 9] [D loss: -0.207] [G loss: -0.006]\n",
      "Dataset: \"stop_times\" [Epoch: 0] [D loss: -0.0] [G loss: 0.0]\n",
      "Dataset: \"stop_times\" [Epoch: 1] [D loss: 0.008] [G loss: -0.001]\n",
      "Dataset: \"stop_times\" [Epoch: 2] [D loss: -0.018] [G loss: -0.002]\n",
      "Dataset: \"stop_times\" [Epoch: 3] [D loss: -0.029] [G loss: -0.003]\n",
      "Dataset: \"stop_times\" [Epoch: 4] [D loss: -0.049] [G loss: -0.004]\n",
      "Dataset: \"stop_times\" [Epoch: 5] [D loss: -0.051] [G loss: -0.005]\n",
      "Dataset: \"stop_times\" [Epoch: 6] [D loss: -0.066] [G loss: -0.006]\n",
      "Dataset: \"stop_times\" [Epoch: 7] [D loss: -0.072] [G loss: -0.006]\n",
      "Dataset: \"stop_times\" [Epoch: 8] [D loss: -0.094] [G loss: -0.007]\n",
      "Dataset: \"stop_times\" [Epoch: 9] [D loss: -0.087] [G loss: -0.007]\n",
      "Dataset: \"trips\" [Epoch: 0] [D loss: -0.112] [G loss: -0.001]\n",
      "Dataset: \"trips\" [Epoch: 1] [D loss: -0.002] [G loss: -0.002]\n",
      "Dataset: \"trips\" [Epoch: 2] [D loss: -0.07] [G loss: -0.003]\n",
      "Dataset: \"trips\" [Epoch: 3] [D loss: -0.077] [G loss: -0.003]\n",
      "Dataset: \"trips\" [Epoch: 4] [D loss: -0.115] [G loss: -0.004]\n",
      "Dataset: \"trips\" [Epoch: 5] [D loss: -0.14] [G loss: -0.004]\n",
      "Dataset: \"trips\" [Epoch: 6] [D loss: -0.155] [G loss: -0.004]\n",
      "Dataset: \"trips\" [Epoch: 7] [D loss: -0.175] [G loss: -0.005]\n",
      "Dataset: \"trips\" [Epoch: 8] [D loss: -0.188] [G loss: -0.005]\n",
      "Dataset: \"trips\" [Epoch: 9] [D loss: -0.206] [G loss: -0.005]\n"
     ]
    },
    {
     "data": {
      "image/png": "[encoded data removed]",
      "text/plain": [
       "<Figure size 1500x1500 with 9 Axes>"
      ]
     },
     "metadata": {},
     "output_type": "display_data"
    }
   ],
   "source": [
    "generator_collection = train_gan(scaled_data_collection)"
   ]
  },
  {
   "cell_type": "markdown",
   "id": "37613df5-a0f7-4158-90e9-39c2f683bb49",
   "metadata": {},
   "source": [
    "# Synthetic Data Generation and Reverse-Transformation"
   ]
  },
  {
   "cell_type": "code",
   "execution_count": 37,
   "id": "dc6ff4d4-e93b-4d19-bea8-85196909d7a1",
   "metadata": {},
   "outputs": [],
   "source": [
    "# def generate_synthetic_tables(generators, join_metadata, columns_dict, scalers, rows_to_generate):\n",
    "#     synthetic_data = {}\n",
    "#     for table_name, generator in generators.items():\n",
    "#         if isinstance(rows_to_generate, int):\n",
    "#             n_rows = rows_to_generate\n",
    "#         elif isinstance(rows_to_generate, dict):\n",
    "#             n_rows = rows_to_generate[table_name]\n",
    "#         else:\n",
    "#             raise ValueError(\"rows_to_generate must be either an int or a dict\")\n",
    "\n",
    "#         noise = np.random.normal(0, 1, (n_rows, generator.input_shape[1]))\n",
    "#         synthetic_rows = generator.predict(noise)\n",
    "\n",
    "#         synthetic_rows = scalers[table_name].inverse_transform(synthetic_rows)\n",
    "\n",
    "#         synthetic_table = pd.DataFrame(synthetic_rows, columns=columns_dict[table_name])\n",
    "        \n",
    "#         for col in synthetic_table.columns:\n",
    "#             if 'id' in col:\n",
    "#                 synthetic_table[col] = synthetic_table[col].round().astype(int)\n",
    "\n",
    "#         synthetic_data[table_name] = synthetic_table\n",
    "\n",
    "#     for table_name, related_tables in join_metadata.items():\n",
    "#         for related_table_name, (table_key, related_table_key) in related_tables.items():\n",
    "#             synthetic_data[table_name] = pd.merge(synthetic_data[table_name],\n",
    "#                                                   synthetic_data[related_table_name],\n",
    "#                                                   left_on=table_key,\n",
    "#                                                   right_on=related_table_key,\n",
    "#                                                   suffixes=('', f'_{related_table_name}'))\n",
    "\n",
    "#     return synthetic_data"
   ]
  },
  {
   "cell_type": "code",
   "execution_count": 38,
   "id": "52e48757-081f-44de-b8c3-ceb0eb01829f",
   "metadata": {},
   "outputs": [],
   "source": [
    "# def generate_synthetic_tables(generators, join_metadata, columns_dict, scalers, rows_to_generate):\n",
    "#     synthetic_data = {}\n",
    "#     key_mappings = {}\n",
    "    \n",
    "#     for table_name, generator in generators.items():\n",
    "#         if isinstance(rows_to_generate, int):\n",
    "#             n_rows = rows_to_generate\n",
    "#         elif isinstance(rows_to_generate, dict):\n",
    "#             n_rows = rows_to_generate[table_name]\n",
    "#         else:\n",
    "#             raise ValueError(\"rows_to_generate must be either an int or a dict\")\n",
    "\n",
    "\n",
    "#         noise = np.random.normal(0, 1, (n_rows, generator.input_shape[1]))\n",
    "#         synthetic_rows = generator.predict(noise)\n",
    "\n",
    "#         synthetic_rows = scalers[table_name].inverse_transform(synthetic_rows)\n",
    "\n",
    "#         synthetic_table = pd.DataFrame(synthetic_rows, columns=columns_dict[table_name])\n",
    "\n",
    "#         for col in synthetic_table.columns:\n",
    "#             if 'id' in str(col):\n",
    "#                 synthetic_table[col] = synthetic_table[col].round().astype(int)\n",
    "\n",
    "#         synthetic_data[table_name] = synthetic_table\n",
    "\n",
    "#     for table_name, related_tables in join_metadata.items():\n",
    "#         for related_table_name, (table_key, related_table_key) in related_tables.items():\n",
    "#             if table_key not in key_mappings:\n",
    "\n",
    "#                 key_mappings[table_key] = synthetic_data[table_name][table_key].unique()\n",
    "\n",
    "#             synthetic_data[related_table_name][related_table_key] = np.random.choice(\n",
    "#                 key_mappings[table_key],\n",
    "#                 size=len(synthetic_data[related_table_name])\n",
    "#             )\n",
    "\n",
    "#     return synthetic_data"
   ]
  },
  {
   "cell_type": "code",
   "execution_count": 39,
   "id": "79691b05-6bb9-402e-b29f-9490c1efa91c",
   "metadata": {},
   "outputs": [],
   "source": [
    "def generate_synthetic_tables(generators, join_metadata, columns_dict, scalers, features_to_factorize, rows_to_generate):\n",
    "    synthetic_data = {}\n",
    "    key_mappings = {}\n",
    "    \n",
    "    # check if `rows_to_generate` is a number or dictionary\n",
    "    # if it's a nmber, generate equal number of rows for all tables.\n",
    "    # if it's a dict, generate corresponding number of rows, useful for table with id as primary key.\n",
    "    for table_name, generator in generators.items():\n",
    "        if isinstance(rows_to_generate, int):\n",
    "            n_rows = rows_to_generate\n",
    "        elif isinstance(rows_to_generate, dict):\n",
    "            n_rows = rows_to_generate[table_name]\n",
    "        else:\n",
    "            raise ValueError(\"rows_to_generate must be either an int or a dict\")\n",
    "\n",
    "        # generate synthetic data\n",
    "        noise = np.random.normal(0, 1, (n_rows, generator.input_shape[1]))\n",
    "        synthetic_rows = generator.predict(noise)\n",
    "        \n",
    "        # reverse transformation\n",
    "        synthetic_rows = scalers[table_name].inverse_transform(synthetic_rows)\n",
    "\n",
    "        # convert to dataframe, add column header for join relation check\n",
    "        synthetic_table = pd.DataFrame(synthetic_rows, columns=columns_dict[table_name]['column_names'])\n",
    "        \n",
    "        # convert primary keys to factor\n",
    "        for col in synthetic_table.columns:\n",
    "            if col in features_to_factorize:\n",
    "                synthetic_table[col] = synthetic_table[col].round().astype(int)\n",
    "\n",
    "        # make the primary key columns unique\n",
    "        primary_key = columns_dict[table_name]['primary_key']\n",
    "        if primary_key is not None:\n",
    "            synthetic_table[primary_key] = np.arange(1, len(synthetic_table) + 1)\n",
    "\n",
    "        synthetic_data[table_name] = synthetic_table\n",
    "\n",
    "    # relation mapping\n",
    "    for table_name, related_tables in join_metadata.items():\n",
    "        # iterate each table, use primary key as reference, map the foreign key\n",
    "        for related_table_name, (table_key, related_table_key) in related_tables.items():\n",
    "            # ensure and make the primary key column unique\n",
    "            if table_key not in key_mappings:\n",
    "                key_mappings[table_key] = synthetic_data[table_name][table_key].unique()\n",
    "            \n",
    "            # ensure the foreign key exist from the parent table\n",
    "            # map foreign key from the parent primary key\n",
    "            synthetic_data[related_table_name][related_table_key] = np.random.choice(\n",
    "                key_mappings[table_key],\n",
    "                size=len(synthetic_data[related_table_name] )\n",
    "            )\n",
    "\n",
    "    return synthetic_data"
   ]
  },
  {
   "cell_type": "code",
   "execution_count": 40,
   "id": "2b32855b-a81a-4d00-9082-217b6c4090bf",
   "metadata": {},
   "outputs": [],
   "source": [
    "rows_to_generate = {k:v.shape[0] for k,v in raw_data_collection.items()}\n",
    "\n",
    "synthetic_data_collection = generate_synthetic_tables(generator_collection, join_metadata, columns_dict, scaler_collection, features_to_factorize, rows_to_generate)"
   ]
  },
  {
   "cell_type": "code",
   "execution_count": 41,
   "id": "d6b38fcc-29f1-4f32-b5e2-0797425acfe1",
   "metadata": {
    "scrolled": true,
    "tags": []
   },
   "outputs": [
    {
     "data": {
      "text/plain": [
       "{'agency':     agency_id  agency_name  agency_url  agency_timezone  agency_lang  \\\n",
       " 0           9            5           1                1            1   \n",
       " 1           7            5           1                1            1   \n",
       " 2          15           10           1                1            1   \n",
       " 3          10            4           1                1            1   \n",
       " 4          10            2           1                1            1   \n",
       " 5           3            6           1                1            1   \n",
       " 6           9            6           1                1            1   \n",
       " 7          10            6           1                1            1   \n",
       " 8           9           11           1                1            1   \n",
       " 9          15            3           1                1            1   \n",
       " 10         12            7           1                1            1   \n",
       " 11         11            6           1                1            1   \n",
       " 12         11            6           1                1            1   \n",
       " 13          9            9           1                1            1   \n",
       " 14         12           12           1                1            1   \n",
       " \n",
       "     agency_phone  \n",
       " 0     93553552.0  \n",
       " 1     93553552.0  \n",
       " 2     93553552.0  \n",
       " 3     93553552.0  \n",
       " 4     93553552.0  \n",
       " 5     93553552.0  \n",
       " 6     93553552.0  \n",
       " 7     93553552.0  \n",
       " 8     93553552.0  \n",
       " 9     93553552.0  \n",
       " 10    93553552.0  \n",
       " 11    93553552.0  \n",
       " 12    93553552.0  \n",
       " 13    93553552.0  \n",
       " 14    93553552.0  ,\n",
       " 'calendar':      service_id    monday   tuesday  wednesday  thursday    friday  saturday  \\\n",
       " 0           120  0.331373  0.693914   0.222760  0.903439  0.710642  0.822100   \n",
       " 1             3  0.296022  0.771875   0.662368  0.730410  0.755788  0.665659   \n",
       " 2            97  0.245259  0.588381   0.177551  0.569343  0.661992  0.859001   \n",
       " 3            38  0.165495  0.735500   0.308385  0.820739  0.758027  0.827095   \n",
       " 4            34  0.316834  0.589712   0.328477  0.675170  0.613325  0.684650   \n",
       " ..          ...       ...       ...        ...       ...       ...       ...   \n",
       " 116          71  0.113230  0.569790   0.162099  0.626638  0.582785  0.849365   \n",
       " 117         107  0.247420  0.473478   0.108926  0.973120  0.879036  0.968839   \n",
       " 118         117  0.340536  0.504134   0.146503  0.824613  0.767442  0.856391   \n",
       " 119         111  0.219829  0.765256   0.186802  0.931154  0.619405  0.912973   \n",
       " 120         111  0.372053  0.499771   0.316665  0.960787  0.697379  0.806724   \n",
       " \n",
       "        sunday    start_date      end_date  \n",
       " 0    0.754489  25567.384766  25567.648438  \n",
       " 1    0.785591  25567.287109  25567.730469  \n",
       " 2    0.410471  25567.441406  25567.740234  \n",
       " 3    0.467777  25567.320312  25567.736328  \n",
       " 4    0.666840  25567.587891  25567.585938  \n",
       " ..        ...           ...           ...  \n",
       " 116  0.399510  25567.332031  25567.830078  \n",
       " 117  0.965343  25567.841797  25567.705078  \n",
       " 118  0.861311  25567.701172  25567.628906  \n",
       " 119  0.912305  25567.728516  25567.654297  \n",
       " 120  0.948161  25567.685547  25567.597656  \n",
       " \n",
       " [121 rows x 10 columns],\n",
       " 'calendar_dates':      service_id  date  exception_type\n",
       " 0           105     1        1.792112\n",
       " 1            11     2        1.749883\n",
       " 2           105     3        1.731894\n",
       " 3            75     4        1.731305\n",
       " 4             6     5        1.589062\n",
       " ..          ...   ...             ...\n",
       " 669          97   670        1.795932\n",
       " 670         105   671        1.800875\n",
       " 671          78   672        1.606576\n",
       " 672          38   673        1.813196\n",
       " 673         120   674        1.812966\n",
       " \n",
       " [674 rows x 3 columns],\n",
       " 'feed_info':    feed_publisher_name  feed_publisher_url  feed_lang  feed_start_date  \\\n",
       " 0                    1                   1          1     25567.119141   \n",
       " \n",
       "    feed_end_date  feed_version  \n",
       " 0   25567.457031             0  ,\n",
       " 'routes':      route_id  agency_id  route_short_name  route_long_name  route_type  \\\n",
       " 0          10          8                49              164    2.963598   \n",
       " 1         185          6                89              188    2.571774   \n",
       " 2          19          4                96              186    3.130509   \n",
       " 3          59          8                63              170    3.030674   \n",
       " 4          57         11                86              204    2.524062   \n",
       " ..        ...        ...               ...              ...         ...   \n",
       " 210       118          5                87              193    2.533249   \n",
       " 211       115         11               103              176    2.692208   \n",
       " 212        48         14                75              170    2.748782   \n",
       " 213        40          3               122              175    2.700787   \n",
       " 214       129          6                95              170    2.858028   \n",
       " \n",
       "      route_color  route_text_color  contract_id  \n",
       " 0              3                 1           45  \n",
       " 1              6                 1           46  \n",
       " 2              5                 1           43  \n",
       " 3              4                 1           47  \n",
       " 4              2                 0           25  \n",
       " ..           ...               ...          ...  \n",
       " 210            8                 0           41  \n",
       " 211            3                 1           44  \n",
       " 212            3                 1           38  \n",
       " 213            4                 1           51  \n",
       " 214            4                 1           39  \n",
       " \n",
       " [215 rows x 8 columns],\n",
       " 'shapes':         shape_id  shape_pt_lat  shape_pt_lon  shape_pt_sequence  \\\n",
       " 0         114622    -37.252823    174.592972        1224.201538   \n",
       " 1          55045    -37.098236    174.764969        1892.736694   \n",
       " 2         299048    -37.463230    174.619034        3439.643311   \n",
       " 3         135173    -37.083710    174.764267        2706.999268   \n",
       " 4         196979    -37.434029    174.837936        2211.031738   \n",
       " ...          ...           ...           ...                ...   \n",
       " 535265    357867    -37.127281    174.774277        2069.194580   \n",
       " 535266    440744    -37.320572    174.606415         965.259277   \n",
       " 535267    441750    -37.587013    174.483231         543.217590   \n",
       " 535268    463575    -37.173176    174.817032        2488.481201   \n",
       " 535269    418824    -37.160530    174.769806        2727.006592   \n",
       " \n",
       "         shape_dist_traveled  \n",
       " 0                 47.485775  \n",
       " 1                 62.522961  \n",
       " 2                 50.940887  \n",
       " 3                 64.226944  \n",
       " 4                 49.738224  \n",
       " ...                     ...  \n",
       " 535265            61.151237  \n",
       " 535266            38.870888  \n",
       " 535267            16.498652  \n",
       " 535268            49.340363  \n",
       " 535269            54.060898  \n",
       " \n",
       " [535270 rows x 5 columns],\n",
       " 'stops':       stop_id     stop_code  stop_name   stop_lat    stop_lon  location_type  \\\n",
       " 0        1779  38562.378906        232 -37.593945  175.435928       0.335568   \n",
       " 1        1971  61797.769531        366 -37.192059  175.398468       0.162887   \n",
       " 2        3495  55295.566406       1114 -37.442001  175.239212       0.283668   \n",
       " 3         195  70069.773438        333 -37.597752  175.398148       0.166872   \n",
       " 4        3185  51681.195312        605 -37.373451  175.359619       0.191876   \n",
       " ...       ...           ...        ...        ...         ...            ...   \n",
       " 6709     2624  57289.027344       1525 -37.407478  175.263916       0.307177   \n",
       " 6710     3340  35718.089844        778 -37.502037  175.327011       0.321130   \n",
       " 6711     1561  36927.109375       1100 -37.280075  175.343094       0.502299   \n",
       " 6712     1081  58198.667969       1310 -36.976013  175.176285       0.369879   \n",
       " 6713     5761  55385.128906       1483 -37.326023  175.319458       0.381086   \n",
       " \n",
       "       parent_station  platform_code  wheelchair_boarding    start_date  \\\n",
       " 0                 25             28             0.164232  25567.716797   \n",
       " 1                 27             20             0.187597  25567.527344   \n",
       " 2                 51             23             0.365039  25567.527344   \n",
       " 3                 33             27             0.106599  25567.623047   \n",
       " 4                 40             29             0.152490  25567.589844   \n",
       " ...              ...            ...                  ...           ...   \n",
       " 6709              48             19             0.243060  25567.578125   \n",
       " 6710              62             24             0.279273  25567.666016   \n",
       " 6711              26             18             0.248031  25567.738281   \n",
       " 6712              38             22             0.344685  25567.505859   \n",
       " 6713               8             27             0.417141  25567.498047   \n",
       " \n",
       "           end_date  \n",
       " 0     25567.089844  \n",
       " 1     25567.136719  \n",
       " 2     25567.138672  \n",
       " 3     25567.095703  \n",
       " 4     25567.091797  \n",
       " ...            ...  \n",
       " 6709  25567.197266  \n",
       " 6710  25567.169922  \n",
       " 6711  25567.121094  \n",
       " 6712  25567.208984  \n",
       " 6713  25567.173828  \n",
       " \n",
       " [6714 rows x 11 columns],\n",
       " 'stop_times':         trip_id  arrival_time  departure_time  stop_id  stop_sequence  \\\n",
       " 0         11826  68997.812500    71447.226562     5812      16.718292   \n",
       " 1         15813  69177.585938    68208.015625      992      18.309448   \n",
       " 2         16347  76592.320312    78287.437500     1305      23.476475   \n",
       " 3         18773  73152.851562    67328.085938     5395      19.250038   \n",
       " 4         12291  69403.390625    75192.320312     1884      22.260540   \n",
       " ...         ...           ...             ...      ...            ...   \n",
       " 966785    17653  69849.625000    68345.789062     3697      18.018503   \n",
       " 966786     9854  60925.457031    66997.859375     3386      23.813673   \n",
       " 966787     5053  53377.238281    61830.785156     3257      18.425488   \n",
       " 966788    12518  74205.375000    71034.109375     5783      19.088680   \n",
       " 966789     8219  63847.890625    76955.421875     3141      20.514359   \n",
       " \n",
       "         stop_headsign  pickup_type  drop_off_type  shape_dist_traveled  \\\n",
       " 0                  88     0.292657       0.584628            76.419548   \n",
       " 1                  96     0.271286       0.656671            58.795918   \n",
       " 2                  46     0.203305       0.814957           102.994568   \n",
       " 3                  59     0.308979       0.687447            52.348820   \n",
       " 4                  72     0.295567       0.652825            45.302322   \n",
       " ...               ...          ...            ...                  ...   \n",
       " 966785             58     0.312696       0.517471            51.152500   \n",
       " 966786             71     0.280782       0.646364            85.422981   \n",
       " 966787             69     0.291245       0.656897            88.594528   \n",
       " 966788             37     0.278026       0.609095            62.550606   \n",
       " 966789             58     0.326613       0.498339            76.424232   \n",
       " \n",
       "         timepoint  \n",
       " 0        0.328239  \n",
       " 1        0.476481  \n",
       " 2        0.195292  \n",
       " 3        0.381846  \n",
       " 4        0.321020  \n",
       " ...           ...  \n",
       " 966785   0.365076  \n",
       " 966786   0.429073  \n",
       " 966787   0.519997  \n",
       " 966788   0.204655  \n",
       " 966789   0.293098  \n",
       " \n",
       " [966790 rows x 10 columns],\n",
       " 'trips':        route_id  service_id  trip_id  trip_headsign  direction_id  shape_id  \\\n",
       " 0           170           4    14262             96      0.288852    137070   \n",
       " 1            79          75    12802            280      0.830890    528325   \n",
       " 2           130          25     4538            210      0.292319    466184   \n",
       " 3            52           6    14357            109      0.052904    334188   \n",
       " 4            37          82     2837            137      0.367191     62986   \n",
       " ...         ...         ...      ...            ...           ...       ...   \n",
       " 32398        89          17    13436            279      0.835574    485811   \n",
       " 32399        22          83    20656            166      0.678172    205403   \n",
       " 32400        67          72    15369            196      0.524568    346192   \n",
       " 32401       206          38     6642            262      0.616855    438219   \n",
       " 32402       117          96    13645             72      0.195789    265456   \n",
       " \n",
       "        wheelchair_accessible  bikes_allowed  \n",
       " 0                   0.686893       0.357177  \n",
       " 1                   0.504814       0.290964  \n",
       " 2                   0.646014       0.310713  \n",
       " 3                   0.849513       0.321649  \n",
       " 4                   0.536864       0.252956  \n",
       " ...                      ...            ...  \n",
       " 32398               0.400959       0.190927  \n",
       " 32399               0.698063       0.206366  \n",
       " 32400               0.576960       0.411650  \n",
       " 32401               0.530791       0.296574  \n",
       " 32402               0.783619       0.254712  \n",
       " \n",
       " [32403 rows x 8 columns]}"
      ]
     },
     "execution_count": 41,
     "metadata": {},
     "output_type": "execute_result"
    }
   ],
   "source": [
    "synthetic_data_collection"
   ]
  },
  {
   "cell_type": "code",
   "execution_count": null,
   "id": "41414b79-6955-41d3-9ada-ad930596ab62",
   "metadata": {},
   "outputs": [],
   "source": [
    "def columns_to_int(df, columns_to_include=None, columns_to_ignore=None):\n",
    "    all_column_names = df.columns.tolist()\n",
    "    if columns_to_include:\n",
    "        for col in all_columns_names:\n",
    "            df[col] = df[col].round().astype(int)\n",
    "    elif columns_to_ignore:\n",
    "        columns_to_include = [col for col in all_column_names if col not in columns_to_ignore]\n",
    "        for col in all_column_names:\n",
    "            df[col] = df[col].round().astype(int)"
   ]
  },
  {
   "cell_type": "code",
   "execution_count": null,
   "id": "4d3694c0",
   "metadata": {},
   "outputs": [],
   "source": [
    "columns_to_ignore = ['shape_pt_lat',\n",
    "'shape_pt_lon',\n",
    "'stop_lat',\n",
    "'stop_lon']"
   ]
  }
 ],
 "metadata": {
  "kernelspec": {
   "display_name": "Python 3 (ipykernel)",
   "language": "python",
   "name": "python3"
  },
  "language_info": {
   "codemirror_mode": {
    "name": "ipython",
    "version": 3
   },
   "file_extension": ".py",
   "mimetype": "text/x-python",
   "name": "python",
   "nbconvert_exporter": "python",
   "pygments_lexer": "ipython3",
   "version": "3.9.16"
  },
  "toc-autonumbering": true
 },
 "nbformat": 4,
 "nbformat_minor": 5
}
