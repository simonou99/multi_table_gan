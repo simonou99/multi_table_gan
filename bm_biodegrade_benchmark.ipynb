{
 "cells": [
  {
   "cell_type": "code",
   "execution_count": 1,
   "id": "5194291e-24f1-4a7a-a025-5ec77d1c4acf",
   "metadata": {},
   "outputs": [],
   "source": [
    "import os\n",
    "import time\n",
    "import math\n",
    "import random\n",
    "import pickle\n",
    "import numpy as np\n",
    "import pandas as pd\n",
    "import matplotlib.pyplot as plt\n",
    "from sklearn import metrics\n",
    "from scipy.stats import ks_2samp\n",
    "from sdv.metadata import MultiTableMetadata\n",
    "from sdv.evaluation.multi_table import evaluate_quality\n",
    "from sdv.multi_table import HMASynthesizer"
   ]
  },
  {
   "cell_type": "code",
   "execution_count": 2,
   "id": "3180f364-e546-4529-a7c6-83920edde2cd",
   "metadata": {},
   "outputs": [],
   "source": [
    "with open('pkl/biodegrade/biodegrade.pkl', 'rb') as f:\n",
    "    real_data_collection = pickle.load(f)"
   ]
  },
  {
   "cell_type": "code",
   "execution_count": 3,
   "id": "627baf8e-2daf-4c6b-b9c7-0fbff25dbe42",
   "metadata": {},
   "outputs": [],
   "source": [
    "with open('pkl/biodegrade/biodegrade_synth_full_epoch.pkl', 'rb') as f:\n",
    "    synthetic_data_collection = pickle.load(f)"
   ]
  },
  {
   "cell_type": "code",
   "execution_count": 4,
   "id": "63da0724-cb05-4495-9c10-559754f1e3b8",
   "metadata": {},
   "outputs": [],
   "source": [
    "with open('pkl/biodegrade/biodegrade_sdvmetadata.pkl', 'rb') as f:\n",
    "    sdv_metadata = pickle.load(f)"
   ]
  },
  {
   "cell_type": "code",
   "execution_count": 5,
   "id": "2eb8c66b-95cd-4aad-b4c9-f3ec6cdbe9d9",
   "metadata": {
    "tags": []
   },
   "outputs": [],
   "source": [
    "generation_dict = {k:{'nrows':len(v)} for k,v in real_data_collection.items()}"
   ]
  },
  {
   "cell_type": "code",
   "execution_count": 6,
   "id": "dd930b24-9251-4972-a795-97a919eeaab7",
   "metadata": {},
   "outputs": [
    {
     "data": {
      "text/plain": [
       "{'atom': {'nrows': 6568},\n",
       " 'bond': {'nrows': 6616},\n",
       " 'gmember': {'nrows': 6647},\n",
       " 'group': {'nrows': 1736},\n",
       " 'molecule': {'nrows': 328}}"
      ]
     },
     "execution_count": 6,
     "metadata": {},
     "output_type": "execute_result"
    }
   ],
   "source": [
    "generation_dict"
   ]
  },
  {
   "cell_type": "markdown",
   "id": "f1a0ef6c-0103-4295-9122-e4d2789ea657",
   "metadata": {},
   "source": [
    "# HMA"
   ]
  },
  {
   "cell_type": "code",
   "execution_count": 7,
   "id": "7809e2c1-52e2-4ce1-af43-012266891232",
   "metadata": {},
   "outputs": [],
   "source": [
    "synthesizer = HMASynthesizer(sdv_metadata)"
   ]
  },
  {
   "cell_type": "code",
   "execution_count": 8,
   "id": "d9987181-e0a6-4c6b-8aa2-cef49038101f",
   "metadata": {
    "scrolled": true,
    "tags": []
   },
   "outputs": [
    {
     "name": "stdout",
     "output_type": "stream",
     "text": [
      "CPU times: total: 5min 1s\n",
      "Wall time: 5min 1s\n"
     ]
    }
   ],
   "source": [
    "%%time\n",
    "%%capture\n",
    "\n",
    "synthesizer.fit(real_data_collection)\n",
    "synthesizer.save(filepath='bm_models/biodegrade_models/biodegrade_hma.pkl')"
   ]
  },
  {
   "cell_type": "code",
   "execution_count": 9,
   "id": "24b7f553-3caa-4ccf-a030-14faaa6bc64f",
   "metadata": {
    "scrolled": true,
    "tags": []
   },
   "outputs": [
    {
     "name": "stdout",
     "output_type": "stream",
     "text": [
      "CPU times: total: 2min 41s\n",
      "Wall time: 1min 56s\n"
     ]
    }
   ],
   "source": [
    "%%time\n",
    "%%capture\n",
    "\n",
    "synthesizer = HMASynthesizer.load(filepath='bm_models/biodegrade_models/biodegrade_hma.pkl')\n",
    "hma_synthetic_data = synthesizer.sample(\n",
    "    scale=1\n",
    ")"
   ]
  },
  {
   "cell_type": "code",
   "execution_count": 10,
   "id": "8aa37511-278d-4222-b731-3f6027a15282",
   "metadata": {
    "scrolled": true,
    "tags": []
   },
   "outputs": [
    {
     "name": "stderr",
     "output_type": "stream",
     "text": [
      "Creating report: 100%|███████████████████████████████████████████████████████████████████| 5/5 [00:00<00:00,  6.52it/s]\n"
     ]
    },
    {
     "name": "stdout",
     "output_type": "stream",
     "text": [
      "\n",
      "Overall Quality Score: 75.77%\n",
      "\n",
      "Properties:\n",
      "Column Shapes: 82.65%\n",
      "Column Pair Trends: 76.24%\n",
      "Parent Child Relationships: 68.44%\n"
     ]
    },
    {
     "data": {
      "text/html": [
       "<div>\n",
       "<style scoped>\n",
       "    .dataframe tbody tr th:only-of-type {\n",
       "        vertical-align: middle;\n",
       "    }\n",
       "\n",
       "    .dataframe tbody tr th {\n",
       "        vertical-align: top;\n",
       "    }\n",
       "\n",
       "    .dataframe thead th {\n",
       "        text-align: right;\n",
       "    }\n",
       "</style>\n",
       "<table border=\"1\" class=\"dataframe\">\n",
       "  <thead>\n",
       "    <tr style=\"text-align: right;\">\n",
       "      <th></th>\n",
       "      <th>Table</th>\n",
       "      <th>Column</th>\n",
       "      <th>Metric</th>\n",
       "      <th>Quality Score</th>\n",
       "    </tr>\n",
       "  </thead>\n",
       "  <tbody>\n",
       "    <tr>\n",
       "      <th>0</th>\n",
       "      <td>atom</td>\n",
       "      <td>nb_rows_in_bond</td>\n",
       "      <td>KSComplement</td>\n",
       "      <td>0.937105</td>\n",
       "    </tr>\n",
       "    <tr>\n",
       "      <th>1</th>\n",
       "      <td>atom</td>\n",
       "      <td>nb_rows_in_gmember</td>\n",
       "      <td>KSComplement</td>\n",
       "      <td>0.656615</td>\n",
       "    </tr>\n",
       "    <tr>\n",
       "      <th>2</th>\n",
       "      <td>atom</td>\n",
       "      <td>type</td>\n",
       "      <td>TVComplement</td>\n",
       "      <td>0.666964</td>\n",
       "    </tr>\n",
       "    <tr>\n",
       "      <th>3</th>\n",
       "      <td>bond</td>\n",
       "      <td>type</td>\n",
       "      <td>KSComplement</td>\n",
       "      <td>0.790586</td>\n",
       "    </tr>\n",
       "    <tr>\n",
       "      <th>4</th>\n",
       "      <td>group</td>\n",
       "      <td>nb_rows_in_gmember</td>\n",
       "      <td>KSComplement</td>\n",
       "      <td>0.936060</td>\n",
       "    </tr>\n",
       "    <tr>\n",
       "      <th>5</th>\n",
       "      <td>group</td>\n",
       "      <td>type</td>\n",
       "      <td>TVComplement</td>\n",
       "      <td>0.451613</td>\n",
       "    </tr>\n",
       "    <tr>\n",
       "      <th>6</th>\n",
       "      <td>molecule</td>\n",
       "      <td>activity</td>\n",
       "      <td>KSComplement</td>\n",
       "      <td>0.853659</td>\n",
       "    </tr>\n",
       "    <tr>\n",
       "      <th>7</th>\n",
       "      <td>molecule</td>\n",
       "      <td>logp</td>\n",
       "      <td>KSComplement</td>\n",
       "      <td>0.935976</td>\n",
       "    </tr>\n",
       "    <tr>\n",
       "      <th>8</th>\n",
       "      <td>molecule</td>\n",
       "      <td>mweight</td>\n",
       "      <td>KSComplement</td>\n",
       "      <td>0.951220</td>\n",
       "    </tr>\n",
       "    <tr>\n",
       "      <th>9</th>\n",
       "      <td>molecule</td>\n",
       "      <td>add_numerical</td>\n",
       "      <td>KSComplement</td>\n",
       "      <td>0.957317</td>\n",
       "    </tr>\n",
       "    <tr>\n",
       "      <th>10</th>\n",
       "      <td>molecule</td>\n",
       "      <td>nb_rows_in_atom</td>\n",
       "      <td>KSComplement</td>\n",
       "      <td>0.954268</td>\n",
       "    </tr>\n",
       "  </tbody>\n",
       "</table>\n",
       "</div>"
      ],
      "text/plain": [
       "       Table              Column        Metric  Quality Score\n",
       "0       atom     nb_rows_in_bond  KSComplement       0.937105\n",
       "1       atom  nb_rows_in_gmember  KSComplement       0.656615\n",
       "2       atom                type  TVComplement       0.666964\n",
       "3       bond                type  KSComplement       0.790586\n",
       "4      group  nb_rows_in_gmember  KSComplement       0.936060\n",
       "5      group                type  TVComplement       0.451613\n",
       "6   molecule            activity  KSComplement       0.853659\n",
       "7   molecule                logp  KSComplement       0.935976\n",
       "8   molecule             mweight  KSComplement       0.951220\n",
       "9   molecule       add_numerical  KSComplement       0.957317\n",
       "10  molecule     nb_rows_in_atom  KSComplement       0.954268"
      ]
     },
     "execution_count": 10,
     "metadata": {},
     "output_type": "execute_result"
    }
   ],
   "source": [
    "evaluate_quality(real_data=real_data_collection, synthetic_data=hma_synthetic_data, metadata=sdv_metadata).get_details(property_name='Column Shapes')"
   ]
  },
  {
   "cell_type": "code",
   "execution_count": 11,
   "id": "fe443bbf-c59a-47e0-b84e-276bad24116a",
   "metadata": {
    "scrolled": true,
    "tags": []
   },
   "outputs": [
    {
     "name": "stderr",
     "output_type": "stream",
     "text": [
      "Creating report: 100%|███████████████████████████████████████████████████████████████████| 5/5 [00:00<00:00, 36.76it/s]\n"
     ]
    },
    {
     "name": "stdout",
     "output_type": "stream",
     "text": [
      "\n",
      "Overall Quality Score: 70.52%\n",
      "\n",
      "Properties:\n",
      "Column Shapes: 75.35%\n",
      "Column Pair Trends: 53.98%\n",
      "Parent Child Relationships: 82.22%\n"
     ]
    }
   ],
   "source": [
    "eq = evaluate_quality(real_data=real_data_collection, synthetic_data=synthetic_data_collection, metadata=sdv_metadata)"
   ]
  },
  {
   "cell_type": "code",
   "execution_count": null,
   "id": "c90651d7-e3cb-41cf-b4a6-603db34508fb",
   "metadata": {},
   "outputs": [],
   "source": []
  }
 ],
 "metadata": {
  "kernelspec": {
   "display_name": "Python 3 (ipykernel)",
   "language": "python",
   "name": "python3"
  },
  "language_info": {
   "codemirror_mode": {
    "name": "ipython",
    "version": 3
   },
   "file_extension": ".py",
   "mimetype": "text/x-python",
   "name": "python",
   "nbconvert_exporter": "python",
   "pygments_lexer": "ipython3",
   "version": "3.9.16"
  }
 },
 "nbformat": 4,
 "nbformat_minor": 5
}
