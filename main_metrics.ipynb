{
 "cells": [
  {
   "cell_type": "code",
   "execution_count": 1,
   "id": "5df663a3-2174-48bd-a9e6-a0608a5431bd",
   "metadata": {},
   "outputs": [],
   "source": [
    "import os\n",
    "import time\n",
    "import math\n",
    "import random\n",
    "import pickle\n",
    "import numpy as np\n",
    "import pandas as pd\n",
    "import matplotlib.pyplot as plt\n",
    "from sklearn import metrics\n",
    "from scipy.stats import ks_2samp\n",
    "from sdv.metadata import SingleTableMetadata\n",
    "from sdv.metadata import MultiTableMetadata\n",
    "from sdv.evaluation.single_table import evaluate_quality as st_evaluate_quality\n",
    "from sdv.evaluation.single_table import run_diagnostic as st_run_diagnostic\n",
    "from sdv.evaluation.multi_table import evaluate_quality as mt_evaluate_quality\n",
    "from sdv.evaluation.multi_table import run_diagnostic as mt_run_diagnostic"
   ]
  },
  {
   "cell_type": "markdown",
   "id": "9fc969e1-a8fa-4875-85a5-b1eacd68afd9",
   "metadata": {},
   "source": [
    "# Load Processed Data From Generation Stage"
   ]
  },
  {
   "cell_type": "code",
   "execution_count": 2,
   "id": "83b9e20d-1ff7-4a6c-b6af-dd2a8ad5b8dc",
   "metadata": {},
   "outputs": [],
   "source": [
    "with open('pkl/gtfs/real_data_collection.pkl', 'rb') as f:\n",
    "    real_data_collection = pickle.load(f)"
   ]
  },
  {
   "cell_type": "code",
   "execution_count": 3,
   "id": "f65b380f-0af9-4fcc-9298-c10ccf7f1d99",
   "metadata": {},
   "outputs": [],
   "source": [
    "with open('pkl/gtfs/synthetic_data_full_epoch.pkl', 'rb') as f:\n",
    "    synthetic_data_collection = pickle.load(f)"
   ]
  },
  {
   "cell_type": "code",
   "execution_count": 4,
   "id": "f5924192-a68e-4a11-9767-aaa91b8c1bfd",
   "metadata": {},
   "outputs": [],
   "source": [
    "# with open('pkl/gtfs/synthetic_data_10epoch.pkl', 'rb') as f:\n",
    "#     synthetic_data_collection = pickle.load(f)"
   ]
  },
  {
   "cell_type": "code",
   "execution_count": 5,
   "id": "6a179659-cf41-492c-b27d-1d366f32b124",
   "metadata": {},
   "outputs": [],
   "source": [
    "with open('pkl/gtfs/sdv_metadata.pkl', 'rb') as f:\n",
    "    sdv_metadata = pickle.load(f)"
   ]
  },
  {
   "cell_type": "markdown",
   "id": "85d4351b-e116-458b-8ff8-22d83b4f5313",
   "metadata": {},
   "source": [
    "# Metrics"
   ]
  },
  {
   "cell_type": "code",
   "execution_count": 6,
   "id": "e1260748-5026-431a-9347-7f792577183f",
   "metadata": {
    "scrolled": true,
    "tags": []
   },
   "outputs": [
    {
     "name": "stderr",
     "output_type": "stream",
     "text": [
      "C:\\programs\\conda\\envs\\tfgpu\\lib\\site-packages\\sdmetrics\\reports\\utils.py:661: UserWarning: Unexpected values (\"0\", \"1\") in column \"route_type\" and table \"routes\"\n",
      "  warnings.warn(warning_format.format(values=values, column=column))\n",
      "C:\\programs\\conda\\envs\\tfgpu\\lib\\site-packages\\sdmetrics\\reports\\utils.py:661: UserWarning: Unexpected values (\"nan\") in column \"route_color\" and table \"routes\"\n",
      "  warnings.warn(warning_format.format(values=values, column=column))\n",
      "C:\\programs\\conda\\envs\\tfgpu\\lib\\site-packages\\sdmetrics\\reports\\utils.py:661: UserWarning: Unexpected values (\"nan\") in column \"route_text_color\" and table \"routes\"\n",
      "  warnings.warn(warning_format.format(values=values, column=column))\n",
      "C:\\programs\\conda\\envs\\tfgpu\\lib\\site-packages\\sdmetrics\\reports\\utils.py:661: UserWarning: Unexpected values (\"nan\") in column \"parent_station\" and table \"stops\"\n",
      "  warnings.warn(warning_format.format(values=values, column=column))\n",
      "C:\\programs\\conda\\envs\\tfgpu\\lib\\site-packages\\sdmetrics\\reports\\utils.py:661: UserWarning: Unexpected values (\"nan\") in column \"platform_code\" and table \"stops\"\n",
      "  warnings.warn(warning_format.format(values=values, column=column))\n",
      "Creating report: 100%|███████████████████████████████████████████████████████████████████| 5/5 [00:24<00:00,  4.91s/it]\n"
     ]
    },
    {
     "name": "stdout",
     "output_type": "stream",
     "text": [
      "\n",
      "Overall Quality Score: 76.16%\n",
      "\n",
      "Properties:\n",
      "Column Shapes: 76.22%\n",
      "Column Pair Trends: 60.11%\n",
      "Parent Child Relationships: 92.16%\n"
     ]
    }
   ],
   "source": [
    "mt_quality_report = mt_evaluate_quality(\n",
    "    real_data=real_data_collection,\n",
    "    synthetic_data=synthetic_data_collection,\n",
    "    metadata=sdv_metadata)"
   ]
  },
  {
   "cell_type": "markdown",
   "id": "f61d75b7-1be0-47f5-9445-6248ed25b115",
   "metadata": {},
   "source": [
    "## Overall Score Per Table"
   ]
  },
  {
   "cell_type": "code",
   "execution_count": 7,
   "id": "0cac0e2f-2169-4347-8e56-06a38a1b8ff3",
   "metadata": {},
   "outputs": [
    {
     "data": {
      "text/plain": [
       "Table\n",
       "agency            0.920\n",
       "calendar          0.877\n",
       "calendar_dates    0.458\n",
       "routes            0.589\n",
       "stop_times        0.643\n",
       "stops             0.776\n",
       "trips             0.920\n",
       "Name: Quality Score, dtype: float64"
      ]
     },
     "execution_count": 7,
     "metadata": {},
     "output_type": "execute_result"
    }
   ],
   "source": [
    "mt_quality_report.get_details(property_name='Column Shapes').groupby('Table')['Quality Score'].mean().round(3)"
   ]
  },
  {
   "cell_type": "markdown",
   "id": "764b4802-1df6-4890-ac6b-84fd1325401b",
   "metadata": {},
   "source": [
    "## Shape-wise Score Per Table"
   ]
  },
  {
   "cell_type": "code",
   "execution_count": 8,
   "id": "23a96a2a-886f-4213-9ca3-d6486cf53294",
   "metadata": {},
   "outputs": [
    {
     "data": {
      "text/plain": [
       "Table           Metric      \n",
       "agency          TVComplement    0.920\n",
       "calendar        KSComplement    0.562\n",
       "                TVComplement    0.967\n",
       "calendar_dates  KSComplement    0.386\n",
       "                TVComplement    0.530\n",
       "routes          TVComplement    0.589\n",
       "stop_times      KSComplement    0.662\n",
       "                TVComplement    0.612\n",
       "stops           KSComplement    0.680\n",
       "                TVComplement    0.871\n",
       "trips           TVComplement    0.920\n",
       "Name: Quality Score, dtype: float64"
      ]
     },
     "execution_count": 8,
     "metadata": {},
     "output_type": "execute_result"
    }
   ],
   "source": [
    "mt_quality_report.get_details(property_name='Column Shapes').groupby(['Table','Metric'])['Quality Score'].mean().round(3)"
   ]
  },
  {
   "cell_type": "markdown",
   "id": "71196651-29a8-47ec-8db9-f1c0643d8c41",
   "metadata": {},
   "source": [
    "## Trend/Correlation-wise Score Per Table"
   ]
  },
  {
   "cell_type": "code",
   "execution_count": 9,
   "id": "c1e7fcbf-3730-4938-9b37-e3b46c50ee90",
   "metadata": {},
   "outputs": [
    {
     "data": {
      "text/plain": [
       "Table\n",
       "agency            0.840\n",
       "calendar          0.673\n",
       "calendar_dates    0.000\n",
       "routes            0.376\n",
       "stop_times        0.421\n",
       "stops             0.673\n",
       "trips             0.840\n",
       "Name: Quality Score, dtype: float64"
      ]
     },
     "execution_count": 9,
     "metadata": {},
     "output_type": "execute_result"
    }
   ],
   "source": [
    "mt_quality_report.get_details(property_name='Column Pair Trends').groupby('Table')['Quality Score'].mean().round(3)"
   ]
  },
  {
   "cell_type": "code",
   "execution_count": 10,
   "id": "938b9884-a742-4c40-b8e5-30be420a987d",
   "metadata": {},
   "outputs": [
    {
     "data": {
      "text/plain": [
       "Table           Metric               \n",
       "agency          ContingencySimilarity    0.840\n",
       "calendar        ContingencySimilarity    0.665\n",
       "                CorrelationSimilarity    0.944\n",
       "calendar_dates  ContingencySimilarity    0.000\n",
       "routes          ContingencySimilarity    0.376\n",
       "stop_times      ContingencySimilarity    0.270\n",
       "                CorrelationSimilarity    0.843\n",
       "stops           ContingencySimilarity    0.608\n",
       "                CorrelationSimilarity    0.964\n",
       "trips           ContingencySimilarity    0.840\n",
       "Name: Quality Score, dtype: float64"
      ]
     },
     "execution_count": 10,
     "metadata": {},
     "output_type": "execute_result"
    }
   ],
   "source": [
    "mt_quality_report.get_details(property_name='Column Pair Trends').groupby(['Table','Metric'])['Quality Score'].mean().round(3)"
   ]
  },
  {
   "cell_type": "code",
   "execution_count": 11,
   "id": "68daee64-a9ef-47a4-82c2-90a80b9c39c5",
   "metadata": {
    "scrolled": true,
    "tags": []
   },
   "outputs": [],
   "source": [
    "# mt_run_diagnostic(\n",
    "#     real_data=real_data_collection,\n",
    "#     synthetic_data=synthetic_data_collection,\n",
    "#     metadata=sdv_metadata)"
   ]
  },
  {
   "cell_type": "markdown",
   "id": "1ef96e2c-9a6b-4e4a-9125-aea6fabe608f",
   "metadata": {
    "tags": []
   },
   "source": [
    "# Join Test"
   ]
  },
  {
   "cell_type": "markdown",
   "id": "d8144a87-5d33-4886-ab6d-55d4be7df715",
   "metadata": {
    "tags": []
   },
   "source": [
    "## Join Data"
   ]
  },
  {
   "cell_type": "code",
   "execution_count": 12,
   "id": "150e8025-4712-4158-8f3b-8e17f580ce2f",
   "metadata": {},
   "outputs": [],
   "source": [
    "def auto_join(df_list, how='inner'):\n",
    "    result = df_list[0]\n",
    "    for df in df_list[1:]:\n",
    "        shared_columns = list(set(result.columns) & set(df.columns))\n",
    "        if not shared_columns:\n",
    "            continue\n",
    "        result = result.merge(df, on=shared_columns, how=how)\n",
    "    return result"
   ]
  },
  {
   "cell_type": "code",
   "execution_count": 13,
   "id": "d7aca658-9b84-485c-ba44-6c284bde5c6c",
   "metadata": {},
   "outputs": [],
   "source": [
    "df_list = [real_data_collection['routes'], real_data_collection['trips']]\n",
    "real_routes_trips = auto_join(df_list)"
   ]
  },
  {
   "cell_type": "code",
   "execution_count": 14,
   "id": "ab951492-21f0-468b-81c2-8572982dcfd7",
   "metadata": {
    "scrolled": true,
    "tags": []
   },
   "outputs": [],
   "source": [
    "df_list = [synthetic_data_collection['routes'], synthetic_data_collection['trips']]\n",
    "fake_routes_trips = auto_join(df_list)"
   ]
  },
  {
   "cell_type": "code",
   "execution_count": 15,
   "id": "aaf803e4-3ee3-482f-95f6-b3acf8f1a523",
   "metadata": {},
   "outputs": [],
   "source": [
    "routes_trips_meta = SingleTableMetadata()\n",
    "routes_trips_meta.detect_from_dataframe(data=real_routes_trips)"
   ]
  },
  {
   "cell_type": "code",
   "execution_count": 16,
   "id": "dc4fde56-859d-44b7-a560-499d6d37873c",
   "metadata": {},
   "outputs": [],
   "source": [
    "routes_trips_meta.update_column(column_name='route_id',sdtype='id')\n",
    "routes_trips_meta.update_column(column_name='agency_id',sdtype='id')\n",
    "routes_trips_meta.update_column(column_name='route_type',sdtype='categorical')\n",
    "routes_trips_meta.update_column(column_name='contract_id',sdtype='id')\n",
    "routes_trips_meta.update_column(column_name='service_id',sdtype='id')\n",
    "routes_trips_meta.update_column(column_name='trip_id',sdtype='id')\n",
    "routes_trips_meta.update_column(column_name='direction_id',sdtype='categorical')\n",
    "routes_trips_meta.update_column(column_name='shape_id',sdtype='id')\n",
    "routes_trips_meta.update_column(column_name='wheelchair_accessible',sdtype='boolean')\n",
    "routes_trips_meta.update_column(column_name='bikes_allowed',sdtype='boolean')"
   ]
  },
  {
   "cell_type": "markdown",
   "id": "7870456e-ac1f-4097-89c2-35af1193fc69",
   "metadata": {},
   "source": [
    "## Check Join Size Difference Between Real and Fake Data"
   ]
  },
  {
   "cell_type": "code",
   "execution_count": 17,
   "id": "19ea3ba3-a760-4f99-ae24-f900352b3ad2",
   "metadata": {},
   "outputs": [],
   "source": [
    "def size_difference_in_percentage(df1, df2):\n",
    "    df1_len = len(df1)\n",
    "    df2_len = len(df2)\n",
    "    min_ = min(df1_len,df2_len)\n",
    "    max_ = max(df1_len,df2_len)\n",
    "    leftout = (((max_ - min_) / max_) + ((max_ - min_) / min_)) / 2\n",
    "    return leftout"
   ]
  },
  {
   "cell_type": "code",
   "execution_count": 18,
   "id": "5f775a72-4115-4fd2-9792-9c4af67c4b9c",
   "metadata": {},
   "outputs": [
    {
     "data": {
      "text/plain": [
       "0.0"
      ]
     },
     "execution_count": 18,
     "metadata": {},
     "output_type": "execute_result"
    }
   ],
   "source": [
    "size_difference_in_percentage(fake_routes_trips, real_routes_trips)"
   ]
  },
  {
   "cell_type": "markdown",
   "id": "72e3dd68-22fe-4f66-82ff-c20ea0301165",
   "metadata": {},
   "source": [
    "## Perform Metrics"
   ]
  },
  {
   "cell_type": "code",
   "execution_count": 19,
   "id": "53ecf5da-2baa-44af-b647-aacfb7b41d89",
   "metadata": {
    "scrolled": true,
    "tags": []
   },
   "outputs": [
    {
     "name": "stderr",
     "output_type": "stream",
     "text": [
      "C:\\programs\\conda\\envs\\tfgpu\\lib\\site-packages\\sdmetrics\\reports\\utils.py:661: UserWarning: Unexpected values (\"24W\") in column \"route_short_name\"\n",
      "  warnings.warn(warning_format.format(values=values, column=column))\n",
      "C:\\programs\\conda\\envs\\tfgpu\\lib\\site-packages\\sdmetrics\\reports\\utils.py:661: UserWarning: Unexpected values (\"24W\") in column \"route_long_name\"\n",
      "  warnings.warn(warning_format.format(values=values, column=column))\n",
      "C:\\programs\\conda\\envs\\tfgpu\\lib\\site-packages\\sdmetrics\\reports\\utils.py:661: UserWarning: Unexpected values (\"0\", \"1\") in column \"route_type\"\n",
      "  warnings.warn(warning_format.format(values=values, column=column))\n",
      "C:\\programs\\conda\\envs\\tfgpu\\lib\\site-packages\\sdmetrics\\reports\\utils.py:661: UserWarning: Unexpected values (\"nan\") in column \"route_color\"\n",
      "  warnings.warn(warning_format.format(values=values, column=column))\n",
      "C:\\programs\\conda\\envs\\tfgpu\\lib\\site-packages\\sdmetrics\\reports\\utils.py:661: UserWarning: Unexpected values (\"nan\") in column \"route_text_color\"\n",
      "  warnings.warn(warning_format.format(values=values, column=column))\n",
      "Creating report: 100%|███████████████████████████████████████████████████████████████████| 4/4 [00:02<00:00,  1.59it/s]"
     ]
    },
    {
     "name": "stdout",
     "output_type": "stream",
     "text": [
      "\n",
      "Overall Quality Score: 55.82%\n",
      "\n",
      "Properties:\n",
      "Column Shapes: 64.8%\n",
      "Column Pair Trends: 46.84%\n"
     ]
    },
    {
     "name": "stderr",
     "output_type": "stream",
     "text": [
      "\n"
     ]
    }
   ],
   "source": [
    "st_quality_report = st_evaluate_quality(\n",
    "    real_data=real_routes_trips,\n",
    "    synthetic_data=fake_routes_trips,\n",
    "    metadata=routes_trips_meta\n",
    ")"
   ]
  },
  {
   "cell_type": "code",
   "execution_count": 20,
   "id": "ae447337-aa2e-4009-9c9f-611fd9e48b7c",
   "metadata": {
    "scrolled": true,
    "tags": []
   },
   "outputs": [
    {
     "data": {
      "text/html": [
       "<div>\n",
       "<style scoped>\n",
       "    .dataframe tbody tr th:only-of-type {\n",
       "        vertical-align: middle;\n",
       "    }\n",
       "\n",
       "    .dataframe tbody tr th {\n",
       "        vertical-align: top;\n",
       "    }\n",
       "\n",
       "    .dataframe thead th {\n",
       "        text-align: right;\n",
       "    }\n",
       "</style>\n",
       "<table border=\"1\" class=\"dataframe\">\n",
       "  <thead>\n",
       "    <tr style=\"text-align: right;\">\n",
       "      <th></th>\n",
       "      <th>Column</th>\n",
       "      <th>Metric</th>\n",
       "      <th>Quality Score</th>\n",
       "    </tr>\n",
       "  </thead>\n",
       "  <tbody>\n",
       "    <tr>\n",
       "      <th>0</th>\n",
       "      <td>route_short_name</td>\n",
       "      <td>TVComplement</td>\n",
       "      <td>0.383761</td>\n",
       "    </tr>\n",
       "    <tr>\n",
       "      <th>1</th>\n",
       "      <td>route_long_name</td>\n",
       "      <td>TVComplement</td>\n",
       "      <td>0.379903</td>\n",
       "    </tr>\n",
       "    <tr>\n",
       "      <th>2</th>\n",
       "      <td>route_type</td>\n",
       "      <td>TVComplement</td>\n",
       "      <td>0.057742</td>\n",
       "    </tr>\n",
       "    <tr>\n",
       "      <th>3</th>\n",
       "      <td>route_color</td>\n",
       "      <td>TVComplement</td>\n",
       "      <td>0.506735</td>\n",
       "    </tr>\n",
       "    <tr>\n",
       "      <th>4</th>\n",
       "      <td>route_text_color</td>\n",
       "      <td>TVComplement</td>\n",
       "      <td>0.745303</td>\n",
       "    </tr>\n",
       "    <tr>\n",
       "      <th>5</th>\n",
       "      <td>trip_headsign</td>\n",
       "      <td>TVComplement</td>\n",
       "      <td>0.759714</td>\n",
       "    </tr>\n",
       "    <tr>\n",
       "      <th>6</th>\n",
       "      <td>direction_id</td>\n",
       "      <td>TVComplement</td>\n",
       "      <td>0.998519</td>\n",
       "    </tr>\n",
       "    <tr>\n",
       "      <th>7</th>\n",
       "      <td>wheelchair_accessible</td>\n",
       "      <td>TVComplement</td>\n",
       "      <td>1.000000</td>\n",
       "    </tr>\n",
       "    <tr>\n",
       "      <th>8</th>\n",
       "      <td>bikes_allowed</td>\n",
       "      <td>TVComplement</td>\n",
       "      <td>1.000000</td>\n",
       "    </tr>\n",
       "  </tbody>\n",
       "</table>\n",
       "</div>"
      ],
      "text/plain": [
       "                  Column        Metric  Quality Score\n",
       "0       route_short_name  TVComplement       0.383761\n",
       "1        route_long_name  TVComplement       0.379903\n",
       "2             route_type  TVComplement       0.057742\n",
       "3            route_color  TVComplement       0.506735\n",
       "4       route_text_color  TVComplement       0.745303\n",
       "5          trip_headsign  TVComplement       0.759714\n",
       "6           direction_id  TVComplement       0.998519\n",
       "7  wheelchair_accessible  TVComplement       1.000000\n",
       "8          bikes_allowed  TVComplement       1.000000"
      ]
     },
     "execution_count": 20,
     "metadata": {},
     "output_type": "execute_result"
    }
   ],
   "source": [
    "st_quality_report.get_details(property_name='Column Shapes')"
   ]
  },
  {
   "cell_type": "code",
   "execution_count": 21,
   "id": "70996624-e5b9-4fd8-b1ba-110816842041",
   "metadata": {
    "scrolled": true,
    "tags": []
   },
   "outputs": [
    {
     "data": {
      "text/html": [
       "<div>\n",
       "<style scoped>\n",
       "    .dataframe tbody tr th:only-of-type {\n",
       "        vertical-align: middle;\n",
       "    }\n",
       "\n",
       "    .dataframe tbody tr th {\n",
       "        vertical-align: top;\n",
       "    }\n",
       "\n",
       "    .dataframe thead th {\n",
       "        text-align: right;\n",
       "    }\n",
       "</style>\n",
       "<table border=\"1\" class=\"dataframe\">\n",
       "  <thead>\n",
       "    <tr style=\"text-align: right;\">\n",
       "      <th></th>\n",
       "      <th>Column 1</th>\n",
       "      <th>Column 2</th>\n",
       "      <th>Metric</th>\n",
       "      <th>Quality Score</th>\n",
       "      <th>Real Correlation</th>\n",
       "      <th>Synthetic Correlation</th>\n",
       "    </tr>\n",
       "  </thead>\n",
       "  <tbody>\n",
       "    <tr>\n",
       "      <th>0</th>\n",
       "      <td>route_long_name</td>\n",
       "      <td>route_short_name</td>\n",
       "      <td>ContingencySimilarity</td>\n",
       "      <td>0.375336</td>\n",
       "      <td>NaN</td>\n",
       "      <td>NaN</td>\n",
       "    </tr>\n",
       "    <tr>\n",
       "      <th>1</th>\n",
       "      <td>route_short_name</td>\n",
       "      <td>route_type</td>\n",
       "      <td>ContingencySimilarity</td>\n",
       "      <td>0.000000</td>\n",
       "      <td>NaN</td>\n",
       "      <td>NaN</td>\n",
       "    </tr>\n",
       "    <tr>\n",
       "      <th>2</th>\n",
       "      <td>route_color</td>\n",
       "      <td>route_short_name</td>\n",
       "      <td>ContingencySimilarity</td>\n",
       "      <td>0.339876</td>\n",
       "      <td>NaN</td>\n",
       "      <td>NaN</td>\n",
       "    </tr>\n",
       "    <tr>\n",
       "      <th>3</th>\n",
       "      <td>route_short_name</td>\n",
       "      <td>route_text_color</td>\n",
       "      <td>ContingencySimilarity</td>\n",
       "      <td>0.352714</td>\n",
       "      <td>NaN</td>\n",
       "      <td>NaN</td>\n",
       "    </tr>\n",
       "    <tr>\n",
       "      <th>4</th>\n",
       "      <td>route_short_name</td>\n",
       "      <td>trip_headsign</td>\n",
       "      <td>ContingencySimilarity</td>\n",
       "      <td>0.000000</td>\n",
       "      <td>NaN</td>\n",
       "      <td>NaN</td>\n",
       "    </tr>\n",
       "    <tr>\n",
       "      <th>5</th>\n",
       "      <td>direction_id</td>\n",
       "      <td>route_short_name</td>\n",
       "      <td>ContingencySimilarity</td>\n",
       "      <td>0.368670</td>\n",
       "      <td>NaN</td>\n",
       "      <td>NaN</td>\n",
       "    </tr>\n",
       "    <tr>\n",
       "      <th>6</th>\n",
       "      <td>route_short_name</td>\n",
       "      <td>wheelchair_accessible</td>\n",
       "      <td>ContingencySimilarity</td>\n",
       "      <td>0.383761</td>\n",
       "      <td>NaN</td>\n",
       "      <td>NaN</td>\n",
       "    </tr>\n",
       "    <tr>\n",
       "      <th>7</th>\n",
       "      <td>bikes_allowed</td>\n",
       "      <td>route_short_name</td>\n",
       "      <td>ContingencySimilarity</td>\n",
       "      <td>0.383761</td>\n",
       "      <td>NaN</td>\n",
       "      <td>NaN</td>\n",
       "    </tr>\n",
       "    <tr>\n",
       "      <th>8</th>\n",
       "      <td>route_long_name</td>\n",
       "      <td>route_type</td>\n",
       "      <td>ContingencySimilarity</td>\n",
       "      <td>0.000000</td>\n",
       "      <td>NaN</td>\n",
       "      <td>NaN</td>\n",
       "    </tr>\n",
       "    <tr>\n",
       "      <th>9</th>\n",
       "      <td>route_color</td>\n",
       "      <td>route_long_name</td>\n",
       "      <td>ContingencySimilarity</td>\n",
       "      <td>0.344351</td>\n",
       "      <td>NaN</td>\n",
       "      <td>NaN</td>\n",
       "    </tr>\n",
       "    <tr>\n",
       "      <th>10</th>\n",
       "      <td>route_long_name</td>\n",
       "      <td>route_text_color</td>\n",
       "      <td>ContingencySimilarity</td>\n",
       "      <td>0.357189</td>\n",
       "      <td>NaN</td>\n",
       "      <td>NaN</td>\n",
       "    </tr>\n",
       "    <tr>\n",
       "      <th>11</th>\n",
       "      <td>route_long_name</td>\n",
       "      <td>trip_headsign</td>\n",
       "      <td>ContingencySimilarity</td>\n",
       "      <td>0.000000</td>\n",
       "      <td>NaN</td>\n",
       "      <td>NaN</td>\n",
       "    </tr>\n",
       "    <tr>\n",
       "      <th>12</th>\n",
       "      <td>direction_id</td>\n",
       "      <td>route_long_name</td>\n",
       "      <td>ContingencySimilarity</td>\n",
       "      <td>0.364812</td>\n",
       "      <td>NaN</td>\n",
       "      <td>NaN</td>\n",
       "    </tr>\n",
       "    <tr>\n",
       "      <th>13</th>\n",
       "      <td>route_long_name</td>\n",
       "      <td>wheelchair_accessible</td>\n",
       "      <td>ContingencySimilarity</td>\n",
       "      <td>0.379903</td>\n",
       "      <td>NaN</td>\n",
       "      <td>NaN</td>\n",
       "    </tr>\n",
       "    <tr>\n",
       "      <th>14</th>\n",
       "      <td>bikes_allowed</td>\n",
       "      <td>route_long_name</td>\n",
       "      <td>ContingencySimilarity</td>\n",
       "      <td>0.379903</td>\n",
       "      <td>NaN</td>\n",
       "      <td>NaN</td>\n",
       "    </tr>\n",
       "    <tr>\n",
       "      <th>15</th>\n",
       "      <td>route_color</td>\n",
       "      <td>route_type</td>\n",
       "      <td>ContingencySimilarity</td>\n",
       "      <td>0.000185</td>\n",
       "      <td>NaN</td>\n",
       "      <td>NaN</td>\n",
       "    </tr>\n",
       "    <tr>\n",
       "      <th>16</th>\n",
       "      <td>route_text_color</td>\n",
       "      <td>route_type</td>\n",
       "      <td>ContingencySimilarity</td>\n",
       "      <td>0.031787</td>\n",
       "      <td>NaN</td>\n",
       "      <td>NaN</td>\n",
       "    </tr>\n",
       "    <tr>\n",
       "      <th>17</th>\n",
       "      <td>route_type</td>\n",
       "      <td>trip_headsign</td>\n",
       "      <td>ContingencySimilarity</td>\n",
       "      <td>0.004722</td>\n",
       "      <td>NaN</td>\n",
       "      <td>NaN</td>\n",
       "    </tr>\n",
       "    <tr>\n",
       "      <th>18</th>\n",
       "      <td>direction_id</td>\n",
       "      <td>route_type</td>\n",
       "      <td>ContingencySimilarity</td>\n",
       "      <td>0.057742</td>\n",
       "      <td>NaN</td>\n",
       "      <td>NaN</td>\n",
       "    </tr>\n",
       "    <tr>\n",
       "      <th>19</th>\n",
       "      <td>route_type</td>\n",
       "      <td>wheelchair_accessible</td>\n",
       "      <td>ContingencySimilarity</td>\n",
       "      <td>0.057742</td>\n",
       "      <td>NaN</td>\n",
       "      <td>NaN</td>\n",
       "    </tr>\n",
       "    <tr>\n",
       "      <th>20</th>\n",
       "      <td>bikes_allowed</td>\n",
       "      <td>route_type</td>\n",
       "      <td>ContingencySimilarity</td>\n",
       "      <td>0.057742</td>\n",
       "      <td>NaN</td>\n",
       "      <td>NaN</td>\n",
       "    </tr>\n",
       "    <tr>\n",
       "      <th>21</th>\n",
       "      <td>route_color</td>\n",
       "      <td>route_text_color</td>\n",
       "      <td>ContingencySimilarity</td>\n",
       "      <td>0.896460</td>\n",
       "      <td>NaN</td>\n",
       "      <td>NaN</td>\n",
       "    </tr>\n",
       "    <tr>\n",
       "      <th>22</th>\n",
       "      <td>route_color</td>\n",
       "      <td>trip_headsign</td>\n",
       "      <td>ContingencySimilarity</td>\n",
       "      <td>0.521248</td>\n",
       "      <td>NaN</td>\n",
       "      <td>NaN</td>\n",
       "    </tr>\n",
       "    <tr>\n",
       "      <th>23</th>\n",
       "      <td>direction_id</td>\n",
       "      <td>route_color</td>\n",
       "      <td>ContingencySimilarity</td>\n",
       "      <td>0.884887</td>\n",
       "      <td>NaN</td>\n",
       "      <td>NaN</td>\n",
       "    </tr>\n",
       "    <tr>\n",
       "      <th>24</th>\n",
       "      <td>route_color</td>\n",
       "      <td>wheelchair_accessible</td>\n",
       "      <td>ContingencySimilarity</td>\n",
       "      <td>0.896769</td>\n",
       "      <td>NaN</td>\n",
       "      <td>NaN</td>\n",
       "    </tr>\n",
       "    <tr>\n",
       "      <th>25</th>\n",
       "      <td>bikes_allowed</td>\n",
       "      <td>route_color</td>\n",
       "      <td>ContingencySimilarity</td>\n",
       "      <td>0.896769</td>\n",
       "      <td>NaN</td>\n",
       "      <td>NaN</td>\n",
       "    </tr>\n",
       "    <tr>\n",
       "      <th>26</th>\n",
       "      <td>route_text_color</td>\n",
       "      <td>trip_headsign</td>\n",
       "      <td>ContingencySimilarity</td>\n",
       "      <td>0.551986</td>\n",
       "      <td>NaN</td>\n",
       "      <td>NaN</td>\n",
       "    </tr>\n",
       "    <tr>\n",
       "      <th>27</th>\n",
       "      <td>direction_id</td>\n",
       "      <td>route_text_color</td>\n",
       "      <td>ContingencySimilarity</td>\n",
       "      <td>0.938617</td>\n",
       "      <td>NaN</td>\n",
       "      <td>NaN</td>\n",
       "    </tr>\n",
       "    <tr>\n",
       "      <th>28</th>\n",
       "      <td>route_text_color</td>\n",
       "      <td>wheelchair_accessible</td>\n",
       "      <td>ContingencySimilarity</td>\n",
       "      <td>0.950498</td>\n",
       "      <td>NaN</td>\n",
       "      <td>NaN</td>\n",
       "    </tr>\n",
       "    <tr>\n",
       "      <th>29</th>\n",
       "      <td>bikes_allowed</td>\n",
       "      <td>route_text_color</td>\n",
       "      <td>ContingencySimilarity</td>\n",
       "      <td>0.950498</td>\n",
       "      <td>NaN</td>\n",
       "      <td>NaN</td>\n",
       "    </tr>\n",
       "    <tr>\n",
       "      <th>30</th>\n",
       "      <td>direction_id</td>\n",
       "      <td>trip_headsign</td>\n",
       "      <td>ContingencySimilarity</td>\n",
       "      <td>0.619757</td>\n",
       "      <td>NaN</td>\n",
       "      <td>NaN</td>\n",
       "    </tr>\n",
       "    <tr>\n",
       "      <th>31</th>\n",
       "      <td>trip_headsign</td>\n",
       "      <td>wheelchair_accessible</td>\n",
       "      <td>ContingencySimilarity</td>\n",
       "      <td>0.759714</td>\n",
       "      <td>NaN</td>\n",
       "      <td>NaN</td>\n",
       "    </tr>\n",
       "    <tr>\n",
       "      <th>32</th>\n",
       "      <td>bikes_allowed</td>\n",
       "      <td>trip_headsign</td>\n",
       "      <td>ContingencySimilarity</td>\n",
       "      <td>0.759714</td>\n",
       "      <td>NaN</td>\n",
       "      <td>NaN</td>\n",
       "    </tr>\n",
       "    <tr>\n",
       "      <th>33</th>\n",
       "      <td>direction_id</td>\n",
       "      <td>wheelchair_accessible</td>\n",
       "      <td>ContingencySimilarity</td>\n",
       "      <td>0.998519</td>\n",
       "      <td>NaN</td>\n",
       "      <td>NaN</td>\n",
       "    </tr>\n",
       "    <tr>\n",
       "      <th>34</th>\n",
       "      <td>bikes_allowed</td>\n",
       "      <td>direction_id</td>\n",
       "      <td>ContingencySimilarity</td>\n",
       "      <td>0.998519</td>\n",
       "      <td>NaN</td>\n",
       "      <td>NaN</td>\n",
       "    </tr>\n",
       "    <tr>\n",
       "      <th>35</th>\n",
       "      <td>bikes_allowed</td>\n",
       "      <td>wheelchair_accessible</td>\n",
       "      <td>ContingencySimilarity</td>\n",
       "      <td>1.000000</td>\n",
       "      <td>NaN</td>\n",
       "      <td>NaN</td>\n",
       "    </tr>\n",
       "  </tbody>\n",
       "</table>\n",
       "</div>"
      ],
      "text/plain": [
       "            Column 1               Column 2                 Metric  \\\n",
       "0    route_long_name       route_short_name  ContingencySimilarity   \n",
       "1   route_short_name             route_type  ContingencySimilarity   \n",
       "2        route_color       route_short_name  ContingencySimilarity   \n",
       "3   route_short_name       route_text_color  ContingencySimilarity   \n",
       "4   route_short_name          trip_headsign  ContingencySimilarity   \n",
       "5       direction_id       route_short_name  ContingencySimilarity   \n",
       "6   route_short_name  wheelchair_accessible  ContingencySimilarity   \n",
       "7      bikes_allowed       route_short_name  ContingencySimilarity   \n",
       "8    route_long_name             route_type  ContingencySimilarity   \n",
       "9        route_color        route_long_name  ContingencySimilarity   \n",
       "10   route_long_name       route_text_color  ContingencySimilarity   \n",
       "11   route_long_name          trip_headsign  ContingencySimilarity   \n",
       "12      direction_id        route_long_name  ContingencySimilarity   \n",
       "13   route_long_name  wheelchair_accessible  ContingencySimilarity   \n",
       "14     bikes_allowed        route_long_name  ContingencySimilarity   \n",
       "15       route_color             route_type  ContingencySimilarity   \n",
       "16  route_text_color             route_type  ContingencySimilarity   \n",
       "17        route_type          trip_headsign  ContingencySimilarity   \n",
       "18      direction_id             route_type  ContingencySimilarity   \n",
       "19        route_type  wheelchair_accessible  ContingencySimilarity   \n",
       "20     bikes_allowed             route_type  ContingencySimilarity   \n",
       "21       route_color       route_text_color  ContingencySimilarity   \n",
       "22       route_color          trip_headsign  ContingencySimilarity   \n",
       "23      direction_id            route_color  ContingencySimilarity   \n",
       "24       route_color  wheelchair_accessible  ContingencySimilarity   \n",
       "25     bikes_allowed            route_color  ContingencySimilarity   \n",
       "26  route_text_color          trip_headsign  ContingencySimilarity   \n",
       "27      direction_id       route_text_color  ContingencySimilarity   \n",
       "28  route_text_color  wheelchair_accessible  ContingencySimilarity   \n",
       "29     bikes_allowed       route_text_color  ContingencySimilarity   \n",
       "30      direction_id          trip_headsign  ContingencySimilarity   \n",
       "31     trip_headsign  wheelchair_accessible  ContingencySimilarity   \n",
       "32     bikes_allowed          trip_headsign  ContingencySimilarity   \n",
       "33      direction_id  wheelchair_accessible  ContingencySimilarity   \n",
       "34     bikes_allowed           direction_id  ContingencySimilarity   \n",
       "35     bikes_allowed  wheelchair_accessible  ContingencySimilarity   \n",
       "\n",
       "    Quality Score  Real Correlation  Synthetic Correlation  \n",
       "0        0.375336               NaN                    NaN  \n",
       "1        0.000000               NaN                    NaN  \n",
       "2        0.339876               NaN                    NaN  \n",
       "3        0.352714               NaN                    NaN  \n",
       "4        0.000000               NaN                    NaN  \n",
       "5        0.368670               NaN                    NaN  \n",
       "6        0.383761               NaN                    NaN  \n",
       "7        0.383761               NaN                    NaN  \n",
       "8        0.000000               NaN                    NaN  \n",
       "9        0.344351               NaN                    NaN  \n",
       "10       0.357189               NaN                    NaN  \n",
       "11       0.000000               NaN                    NaN  \n",
       "12       0.364812               NaN                    NaN  \n",
       "13       0.379903               NaN                    NaN  \n",
       "14       0.379903               NaN                    NaN  \n",
       "15       0.000185               NaN                    NaN  \n",
       "16       0.031787               NaN                    NaN  \n",
       "17       0.004722               NaN                    NaN  \n",
       "18       0.057742               NaN                    NaN  \n",
       "19       0.057742               NaN                    NaN  \n",
       "20       0.057742               NaN                    NaN  \n",
       "21       0.896460               NaN                    NaN  \n",
       "22       0.521248               NaN                    NaN  \n",
       "23       0.884887               NaN                    NaN  \n",
       "24       0.896769               NaN                    NaN  \n",
       "25       0.896769               NaN                    NaN  \n",
       "26       0.551986               NaN                    NaN  \n",
       "27       0.938617               NaN                    NaN  \n",
       "28       0.950498               NaN                    NaN  \n",
       "29       0.950498               NaN                    NaN  \n",
       "30       0.619757               NaN                    NaN  \n",
       "31       0.759714               NaN                    NaN  \n",
       "32       0.759714               NaN                    NaN  \n",
       "33       0.998519               NaN                    NaN  \n",
       "34       0.998519               NaN                    NaN  \n",
       "35       1.000000               NaN                    NaN  "
      ]
     },
     "execution_count": 21,
     "metadata": {},
     "output_type": "execute_result"
    }
   ],
   "source": [
    "st_quality_report.get_details(property_name='Column Pair Trends')"
   ]
  }
 ],
 "metadata": {
  "kernelspec": {
   "display_name": "Python 3 (ipykernel)",
   "language": "python",
   "name": "python3"
  },
  "language_info": {
   "codemirror_mode": {
    "name": "ipython",
    "version": 3
   },
   "file_extension": ".py",
   "mimetype": "text/x-python",
   "name": "python",
   "nbconvert_exporter": "python",
   "pygments_lexer": "ipython3",
   "version": "3.9.16"
  }
 },
 "nbformat": 4,
 "nbformat_minor": 5
}
