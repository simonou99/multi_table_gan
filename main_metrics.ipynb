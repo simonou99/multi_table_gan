{
 "cells": [
  {
   "cell_type": "code",
   "execution_count": 1,
   "id": "5df663a3-2174-48bd-a9e6-a0608a5431bd",
   "metadata": {},
   "outputs": [],
   "source": [
    "import os\n",
    "import time\n",
    "import math\n",
    "import random\n",
    "import pickle\n",
    "import numpy as np\n",
    "import pandas as pd\n",
    "import matplotlib.pyplot as plt\n",
    "from sklearn import metrics\n",
    "from scipy.stats import ks_2samp\n",
    "from sdv.metadata import MultiTableMetadata\n",
    "from sdv.evaluation.multi_table import evaluate_quality"
   ]
  },
  {
   "cell_type": "markdown",
   "id": "9fc969e1-a8fa-4875-85a5-b1eacd68afd9",
   "metadata": {},
   "source": [
    "# Load Processed Data From Generation Stage"
   ]
  },
  {
   "cell_type": "code",
   "execution_count": 2,
   "id": "83b9e20d-1ff7-4a6c-b6af-dd2a8ad5b8dc",
   "metadata": {},
   "outputs": [],
   "source": [
    "with open('pkl/real_data_collection.pkl', 'rb') as f:\n",
    "    real_data_collection = pickle.load(f)"
   ]
  },
  {
   "cell_type": "code",
   "execution_count": 3,
   "id": "f65b380f-0af9-4fcc-9298-c10ccf7f1d99",
   "metadata": {},
   "outputs": [],
   "source": [
    "with open('pkl/synthetic_data_full_epoch.pkl', 'rb') as f:\n",
    "    synthetic_data_collection = pickle.load(f)"
   ]
  },
  {
   "cell_type": "code",
   "execution_count": 4,
   "id": "3ebd69c5-71a6-4be7-b39e-9d9509ed101e",
   "metadata": {},
   "outputs": [],
   "source": [
    "with open('pkl/sdv_metadata.pkl', 'rb') as f:\n",
    "    sdv_metadata = pickle.load(f)"
   ]
  },
  {
   "cell_type": "code",
   "execution_count": 5,
   "id": "6a179659-cf41-492c-b27d-1d366f32b124",
   "metadata": {},
   "outputs": [],
   "source": [
    "with open('pkl/metadata.pkl', 'rb') as f:\n",
    "    metadata = pickle.load(f)"
   ]
  },
  {
   "cell_type": "code",
   "execution_count": 6,
   "id": "acb439bc-c08e-4f0a-8f70-d83c3eae0c07",
   "metadata": {
    "scrolled": true,
    "tags": []
   },
   "outputs": [
    {
     "data": {
      "text/plain": [
       "{'agency':     agency_id  agency_url  agency_timezone  agency_lang  agency_phone\n",
       " 0           0           0                0            0             0\n",
       " 1           1           0                0            0             0\n",
       " 2           2           0                0            0             0\n",
       " 3           3           0                0            0             0\n",
       " 4           4           0                0            0             0\n",
       " 5           5           0                0            0             0\n",
       " 6           6           0                0            0             0\n",
       " 7           7           0                0            0             0\n",
       " 8           8           0                0            0             0\n",
       " 9           9           0                0            0             0\n",
       " 10         10           0                0            0             0\n",
       " 11         11           0                0            0             0\n",
       " 12         12           0                0            0             0\n",
       " 13         13           0                0            0             0\n",
       " 14         14           0                0            0             0,\n",
       " 'calendar':      service_id  monday  tuesday  wednesday  thursday  friday  saturday  \\\n",
       " 0             0       1        1          1         1       1         1   \n",
       " 1             1       1        1          1         1       1         1   \n",
       " 2             2       1        1          1         1       1         1   \n",
       " 3             3       1        1          1         1       1         1   \n",
       " 4             4       1        1          1         1       1         1   \n",
       " ..          ...     ...      ...        ...       ...     ...       ...   \n",
       " 116         116       0        0          0         0       0         1   \n",
       " 117         117       1        1          1         1       0         0   \n",
       " 118         118       1        1          1         1       0         0   \n",
       " 119         119       1        1          1         1       0         0   \n",
       " 120         120       1        1          1         1       0         0   \n",
       " \n",
       "      sunday  start_date  end_date  \n",
       " 0         1       44993     45060  \n",
       " 1         1       44994     45060  \n",
       " 2         1       44993     45060  \n",
       " 3         1       45002     45060  \n",
       " 4         1       45002     45060  \n",
       " ..      ...         ...       ...  \n",
       " 116       1       44993     45060  \n",
       " 117       0       44993     45060  \n",
       " 118       0       44994     45060  \n",
       " 119       0       44993     45001  \n",
       " 120       0       44994     45060  \n",
       " \n",
       " [121 rows x 10 columns],\n",
       " 'calendar_dates':      service_id   date  exception_type\n",
       " 0             2  44993               2\n",
       " 1             2  44996               2\n",
       " 2             2  44997               2\n",
       " 3             2  44998               2\n",
       " 4             2  44999               2\n",
       " ..          ...    ...             ...\n",
       " 669         120  45004               2\n",
       " 670         120  45005               2\n",
       " 671         120  45006               2\n",
       " 672         120  45024               2\n",
       " 673         120  45039               2\n",
       " \n",
       " [674 rows x 3 columns],\n",
       " 'routes':      route_id  agency_id  route_type  route_color  route_text_color  \\\n",
       " 0           0          8           3           -1                -1   \n",
       " 1           1          7           3            0                 1   \n",
       " 2           2          4           4            3                 1   \n",
       " 3           3          8           3            1                 1   \n",
       " 4           4          0           2            5                 0   \n",
       " ..        ...        ...         ...          ...               ...   \n",
       " 210       210          1           3            7                 1   \n",
       " 211       211          1           3            7                 1   \n",
       " 212       212          1           3            5                 0   \n",
       " 213       213          0           2            7                 1   \n",
       " 214       214          3           4            3                 1   \n",
       " \n",
       "      contract_id  \n",
       " 0              7  \n",
       " 1             61  \n",
       " 2             62  \n",
       " 3              4  \n",
       " 4             63  \n",
       " ..           ...  \n",
       " 210           61  \n",
       " 211           61  \n",
       " 212           61  \n",
       " 213           63  \n",
       " 214           57  \n",
       " \n",
       " [215 rows x 6 columns],\n",
       " 'stops':       stop_id  stop_lat   stop_lon  location_type  parent_station  \\\n",
       " 0           0 -36.97766  174.84925              1              -1   \n",
       " 1           1 -36.84326  174.76575              0              73   \n",
       " 2           2 -36.84381  174.76551              0              73   \n",
       " 3           3 -36.89726  174.80712              1              -1   \n",
       " 4           4 -36.84403  174.76550              0              73   \n",
       " ...       ...       ...        ...            ...             ...   \n",
       " 6709     6709 -36.85073  174.75679              0              -1   \n",
       " 6710     6710 -36.75943  174.74654              0              -1   \n",
       " 6711     6711 -36.75716  174.74401              0              -1   \n",
       " 6712     6712 -36.75667  174.74761              0              -1   \n",
       " 6713     6713 -36.39619  174.66156              0              -1   \n",
       " \n",
       "       platform_code  wheelchair_boarding  start_date  end_date  \n",
       " 0                -1                    0       44993     45060  \n",
       " 1                27                    0       44993     45060  \n",
       " 2                28                    0       44993     45060  \n",
       " 3                -1                    0       44993     45060  \n",
       " 4                29                    0       44993     45060  \n",
       " ...             ...                  ...         ...       ...  \n",
       " 6709             -1                    0       44993     45060  \n",
       " 6710             -1                    0       44993     45060  \n",
       " 6711             -1                    0       44993     45060  \n",
       " 6712             -1                    0       44993     45060  \n",
       " 6713             -1                    0       44993     45060  \n",
       " \n",
       " [6714 rows x 9 columns],\n",
       " 'stop_times':         trip_id  arrival_time  departure_time  stop_id  stop_sequence  \\\n",
       " 0         11377         37680           37680     4172              1   \n",
       " 1         11377         37785           37785     4174              2   \n",
       " 2         11377         37864           37864     4007              3   \n",
       " 3         11377         37914           37914     4181              4   \n",
       " 4         11377         37969           37969      737              5   \n",
       " ...         ...           ...             ...      ...            ...   \n",
       " 966785    22010         49881           49881     1801             62   \n",
       " 966786    22010         49933           49933     1803             63   \n",
       " 966787    22010         50034           50034     1744             64   \n",
       " 966788    22010         50101           50101     1740             65   \n",
       " 966789    22010         50160           50160     1852             66   \n",
       " \n",
       "         stop_headsign  pickup_type  drop_off_type  shape_dist_traveled  \\\n",
       " 0                 153            0              0                0.000   \n",
       " 1                 153            0              0                0.794   \n",
       " 2                 153            0              0                1.395   \n",
       " 3                 153            0              0                1.777   \n",
       " 4                 153            0              0                2.192   \n",
       " ...               ...          ...            ...                  ...   \n",
       " 966785            198            0              0               25.266   \n",
       " 966786            198            0              0               25.515   \n",
       " 966787            198            0              0               25.994   \n",
       " 966788            198            0              0               26.311   \n",
       " 966789            198            1              0               26.591   \n",
       " \n",
       "         timepoint  \n",
       " 0               0  \n",
       " 1               0  \n",
       " 2               0  \n",
       " 3               0  \n",
       " 4               0  \n",
       " ...           ...  \n",
       " 966785          0  \n",
       " 966786          0  \n",
       " 966787          0  \n",
       " 966788          0  \n",
       " 966789          0  \n",
       " \n",
       " [966790 rows x 10 columns],\n",
       " 'trips':        route_id  service_id  trip_id  trip_headsign  direction_id  shape_id  \\\n",
       " 0           179          93        0            600             0         0   \n",
       " 1           179          93        1            600             0         0   \n",
       " 2           179          93        2            600             0         0   \n",
       " 3           179          93        3            600             0         0   \n",
       " 4           179         105        4            600             0         0   \n",
       " ...         ...         ...      ...            ...           ...       ...   \n",
       " 32398        18          93    32398             20             0       670   \n",
       " 32399        18         105    32399             20             0       670   \n",
       " 32400        18          93    32400             20             0       670   \n",
       " 32401        18         105    32401             20             0       670   \n",
       " 32402        18          93    32402            526             0       672   \n",
       " \n",
       "        wheelchair_accessible  bikes_allowed  \n",
       " 0                          0              0  \n",
       " 1                          0              0  \n",
       " 2                          0              0  \n",
       " 3                          0              0  \n",
       " 4                          0              0  \n",
       " ...                      ...            ...  \n",
       " 32398                      0              0  \n",
       " 32399                      0              0  \n",
       " 32400                      0              0  \n",
       " 32401                      0              0  \n",
       " 32402                      0              0  \n",
       " \n",
       " [32403 rows x 8 columns]}"
      ]
     },
     "execution_count": 6,
     "metadata": {},
     "output_type": "execute_result"
    }
   ],
   "source": [
    "real_data_collection"
   ]
  },
  {
   "cell_type": "code",
   "execution_count": 7,
   "id": "7cfca3e6-6750-488b-9f20-22cbe15b3796",
   "metadata": {
    "scrolled": true,
    "tags": []
   },
   "outputs": [
    {
     "data": {
      "text/plain": [
       "{'agency':     agency_id  agency_url  agency_timezone  agency_lang  agency_phone\n",
       " 0           0           0                0            0             0\n",
       " 1           1           0                0            0             0\n",
       " 2           2           0                0            0             0\n",
       " 3           3           0                0            0             0\n",
       " 4           4           0                0            0             0\n",
       " 5           5           0                0            0             0\n",
       " 6           6           0                0            0             0\n",
       " 7           7           0                0            0             0\n",
       " 8           8           0                0            0             0\n",
       " 9           9           0                0            0             0\n",
       " 10         10           0                0            0             0\n",
       " 11         11           0                0            0             0\n",
       " 12         12           0                0            0             0\n",
       " 13         13           0                0            0             0\n",
       " 14         14           0                0            0             0,\n",
       " 'calendar':      service_id  monday  tuesday  wednesday  thursday  friday  saturday  \\\n",
       " 0             0       0        0          0         0       0         0   \n",
       " 1             1       0        0          0         0       0         0   \n",
       " 2             2       0        0          0         0       0         0   \n",
       " 3             3       0        0          0         0       0         0   \n",
       " 4             4       0        0          0         0       0         0   \n",
       " ..          ...     ...      ...        ...       ...     ...       ...   \n",
       " 116         116       0        0          0         0       0         0   \n",
       " 117         117       0        0          0         0       0         0   \n",
       " 118         118       0        0          0         0       0         0   \n",
       " 119         119       0        0          0         0       0         0   \n",
       " 120         120       0        0          0         0       0         0   \n",
       " \n",
       "      sunday  start_date  end_date  \n",
       " 0         0       44994     45054  \n",
       " 1         0       44994     45053  \n",
       " 2         0       44994     45054  \n",
       " 3         0       44994     45054  \n",
       " 4         0       44994     45054  \n",
       " ..      ...         ...       ...  \n",
       " 116       0       44994     45054  \n",
       " 117       0       44994     45054  \n",
       " 118       0       44994     45053  \n",
       " 119       0       44994     45054  \n",
       " 120       0       44994     45054  \n",
       " \n",
       " [121 rows x 10 columns],\n",
       " 'calendar_dates':      service_id  date  exception_type\n",
       " 97            0    23               1\n",
       " 84            1     8               1\n",
       " 548           6    27               1\n",
       " 229          10     7               1\n",
       " 371          10     7               1\n",
       " ..          ...   ...             ...\n",
       " 650         108     9               1\n",
       " 118         110    22               1\n",
       " 632         114    23               1\n",
       " 585         115     6               1\n",
       " 500         120    23               1\n",
       " \n",
       " [674 rows x 3 columns],\n",
       " 'routes':      route_id  agency_id  route_type  route_color  route_text_color  \\\n",
       " 0           0          8           3            0                -1   \n",
       " 1           1          4           3            0                -1   \n",
       " 2           2          8           3            0                -1   \n",
       " 3           3          8           3            0                -1   \n",
       " 4           4          5           3            0                -1   \n",
       " ..        ...        ...         ...          ...               ...   \n",
       " 210       210         10           3            0                -1   \n",
       " 211       211         10           3            0                -1   \n",
       " 212       212          4           3            0                -1   \n",
       " 213       213         11           3            0                -1   \n",
       " 214       214          5           3            0                -1   \n",
       " \n",
       "      contract_id  \n",
       " 0             32  \n",
       " 1             32  \n",
       " 2             32  \n",
       " 3             32  \n",
       " 4             32  \n",
       " ..           ...  \n",
       " 210           32  \n",
       " 211           32  \n",
       " 212           32  \n",
       " 213           32  \n",
       " 214           32  \n",
       " \n",
       " [215 rows x 6 columns],\n",
       " 'stops':       stop_id   stop_lat    stop_lon  location_type  parent_station  \\\n",
       " 0           0 -36.879433  174.785446              0               1   \n",
       " 1           1 -36.882103  174.773163              0               1   \n",
       " 2           2 -36.872112  174.783783              0               1   \n",
       " 3           3 -36.875427  174.774567              0               1   \n",
       " 4           4 -36.871471  174.782303              0               2   \n",
       " ...       ...        ...         ...            ...             ...   \n",
       " 6709     6709 -36.873283  174.775604              0               2   \n",
       " 6710     6710 -36.878738  174.777832              0               2   \n",
       " 6711     6711 -36.873585  174.783066              0               1   \n",
       " 6712     6712 -36.873363  174.779007              0               1   \n",
       " 6713     6713 -36.881645  174.773132              0               1   \n",
       " \n",
       "       platform_code  wheelchair_boarding  start_date  end_date  \n",
       " 0                -1                    0       44993     45060  \n",
       " 1                -1                    0       44993     45060  \n",
       " 2                 0                    0       44993     45060  \n",
       " 3                 0                    0       44993     45060  \n",
       " 4                 0                    0       44993     45060  \n",
       " ...             ...                  ...         ...       ...  \n",
       " 6709              0                    0       44993     45060  \n",
       " 6710              0                    0       44993     45060  \n",
       " 6711             -1                    0       44993     45060  \n",
       " 6712             -1                    0       44993     45060  \n",
       " 6713             -1                    0       44993     45060  \n",
       " \n",
       " [6714 rows x 9 columns],\n",
       " 'stop_times':         trip_id  arrival_time  departure_time  stop_id  stop_sequence  \\\n",
       " 689255        0         68184           66377     3334             18   \n",
       " 514678       90         33478           67930     6229             44   \n",
       " 571638      354         33212           68106     4264             33   \n",
       " 585096      426         33352           33179     3909             17   \n",
       " 274400      639         36534           68272     1800             19   \n",
       " ...         ...           ...             ...      ...            ...   \n",
       " 731994    31573         33234           33479     4528             38   \n",
       " 456431    31678         68392           59294     4799             32   \n",
       " 753371    31887         33217           44207     4837             36   \n",
       " 432242    31994         33261           67831     4396             35   \n",
       " 664097    32402         33188           41535     5019             36   \n",
       " \n",
       "         stop_headsign  pickup_type  drop_off_type  shape_dist_traveled  \\\n",
       " 689255            131            0              0            14.158051   \n",
       " 514678             45            0              0             2.361607   \n",
       " 571638             36            0              0             2.231285   \n",
       " 585096             42            0              0             2.380503   \n",
       " 274400             44            0              0             5.209212   \n",
       " ...               ...          ...            ...                  ...   \n",
       " 731994             42            0              0             2.235754   \n",
       " 456431            163            0              0            14.173384   \n",
       " 753371             36            0              0             2.231791   \n",
       " 432242             36            0              0             2.242588   \n",
       " 664097             36            0              0             2.235192   \n",
       " \n",
       "         timepoint  \n",
       " 689255          0  \n",
       " 514678          0  \n",
       " 571638          0  \n",
       " 585096          0  \n",
       " 274400          0  \n",
       " ...           ...  \n",
       " 731994          0  \n",
       " 456431          0  \n",
       " 753371          0  \n",
       " 432242          0  \n",
       " 664097          0  \n",
       " \n",
       " [966790 rows x 10 columns],\n",
       " 'trips':        route_id  service_id  trip_id  trip_headsign  direction_id  shape_id  \\\n",
       " 0            57          66        0            236             1       372   \n",
       " 1            62          70        1            265             1       276   \n",
       " 2           104          50        2            210             1       356   \n",
       " 3           113          80        3            251             1       296   \n",
       " 4            65          69        4            255             1       276   \n",
       " ...         ...         ...      ...            ...           ...       ...   \n",
       " 32398        58          25    32398            268             1       285   \n",
       " 32399        77          30    32399            249             1       292   \n",
       " 32400        58          73    32400            244             1       304   \n",
       " 32401        72          77    32401            254             1       266   \n",
       " 32402       110          79    32402            270             1       283   \n",
       " \n",
       "        wheelchair_accessible  bikes_allowed  \n",
       " 0                          0              0  \n",
       " 1                          0              0  \n",
       " 2                          0              0  \n",
       " 3                          0              0  \n",
       " 4                          0              0  \n",
       " ...                      ...            ...  \n",
       " 32398                      0              0  \n",
       " 32399                      0              0  \n",
       " 32400                      0              0  \n",
       " 32401                      0              0  \n",
       " 32402                      0              0  \n",
       " \n",
       " [32403 rows x 8 columns]}"
      ]
     },
     "execution_count": 7,
     "metadata": {},
     "output_type": "execute_result"
    }
   ],
   "source": [
    "synthetic_data_collection"
   ]
  },
  {
   "cell_type": "markdown",
   "id": "43284217-6fd4-4256-af79-4c3c884a8008",
   "metadata": {},
   "source": [
    "# Metrics"
   ]
  },
  {
   "cell_type": "markdown",
   "id": "374fc0b5-00f7-4584-85c8-276c1950bc55",
   "metadata": {},
   "source": [
    "### Cosine Complement Test"
   ]
  },
  {
   "cell_type": "code",
   "execution_count": 8,
   "id": "17e1c46d-7b27-4b94-9b69-6d2e2891f832",
   "metadata": {},
   "outputs": [],
   "source": [
    "def cos_test(df1, df2):\n",
    "    cos_sim = metrics.pairwise.cosine_similarity(df1.values.T, df2.values.T)\n",
    "    mean_cos_sim = np.mean(cos_sim)\n",
    "    return mean_cos_sim"
   ]
  },
  {
   "cell_type": "code",
   "execution_count": 9,
   "id": "350fa5b3-cfdb-4e31-a288-6b35f42f5f1d",
   "metadata": {},
   "outputs": [],
   "source": [
    "def batch_cos_test(fake_collection, real_collection):\n",
    "    test_dict = {}\n",
    "    for df_name in fake_collection.keys():\n",
    "        mean_cos_sim = cos_test(real_collection[df_name], fake_collection[df_name])\n",
    "        test_dict[df_name] = 1-mean_cos_sim\n",
    "    return test_dict"
   ]
  },
  {
   "cell_type": "code",
   "execution_count": 10,
   "id": "6f5f24f4-6296-433b-a880-90a653437305",
   "metadata": {},
   "outputs": [
    {
     "name": "stdout",
     "output_type": "stream",
     "text": [
      "CPU times: total: 1.77 s\n",
      "Wall time: 227 ms\n"
     ]
    },
    {
     "data": {
      "text/plain": [
       "{'agency': 0.96,\n",
       " 'calendar': 0.7973341253002043,\n",
       " 'calendar_dates': 0.09911736825504547,\n",
       " 'routes': 0.7722847960862144,\n",
       " 'stops': 0.8700902255396581,\n",
       " 'stop_times': 0.5878181395847124,\n",
       " 'trips': 0.5210619437775119}"
      ]
     },
     "execution_count": 10,
     "metadata": {},
     "output_type": "execute_result"
    }
   ],
   "source": [
    "%time batch_cos_test(synthetic_data_collection, real_data_collection)"
   ]
  },
  {
   "cell_type": "markdown",
   "id": "bf1437a6-1e5e-494f-bc7b-ab32987387ea",
   "metadata": {},
   "source": [
    "### KS (Kolmogorov-Smirnov) Complement Test"
   ]
  },
  {
   "cell_type": "code",
   "execution_count": 11,
   "id": "0fe514e2-f064-468e-85e3-c88d919ac024",
   "metadata": {},
   "outputs": [],
   "source": [
    "def ks_test(df1, df2):\n",
    "    ks_stats = []\n",
    "    # wasserstein_distances = []\n",
    "    p_values = []\n",
    "    for column in df1.columns:\n",
    "        ks_stat, ks_p_value = ks_2samp(df1[column], df2[column])\n",
    "        ks_stats.append(ks_stat)\n",
    "        p_values.append(ks_p_value)\n",
    "        # w_dist = wasserstein_distance(df1[column], df2[column])\n",
    "        # wasserstein_distances.append(w_dist)\n",
    "    mean_ks_stat = np.mean(ks_stats)\n",
    "    # mean_wasserstein_distance = np.mean(wasserstein_distances)\n",
    "    mean_p_value = np.mean(p_values)\n",
    "    return mean_ks_stat, mean_p_value"
   ]
  },
  {
   "cell_type": "code",
   "execution_count": 12,
   "id": "6712a2b2-dd4c-4d32-b78f-ffc388ad12f9",
   "metadata": {},
   "outputs": [],
   "source": [
    "def batch_ks_test(collection1, collection2):\n",
    "    stats_dict = {}\n",
    "    for df_name in collection1:\n",
    "        ks_results, p_value = ks_test(collection1[df_name], collection2[df_name])\n",
    "        stats_dict[df_name] = 1-ks_results\n",
    "    return stats_dict"
   ]
  },
  {
   "cell_type": "code",
   "execution_count": 13,
   "id": "73720b14-deda-470b-8449-37345acff89b",
   "metadata": {
    "scrolled": true,
    "tags": []
   },
   "outputs": [
    {
     "name": "stdout",
     "output_type": "stream",
     "text": [
      "CPU times: total: 3.44 s\n",
      "Wall time: 2.36 s\n"
     ]
    },
    {
     "data": {
      "text/plain": [
       "{'agency': 1.0,\n",
       " 'calendar': 0.556198347107438,\n",
       " 'calendar_dates': 0.413946587537092,\n",
       " 'routes': 0.7325581395348837,\n",
       " 'stops': 0.7054413662992751,\n",
       " 'stop_times': 0.6916818543840958,\n",
       " 'trips': 0.7225025460605499}"
      ]
     },
     "execution_count": 13,
     "metadata": {},
     "output_type": "execute_result"
    }
   ],
   "source": [
    "%time batch_ks_test(synthetic_data_collection, real_data_collection)"
   ]
  },
  {
   "cell_type": "markdown",
   "id": "070d3821-d61a-4c86-9e59-b4eca6339641",
   "metadata": {},
   "source": [
    "## Cardinality Metrics"
   ]
  },
  {
   "cell_type": "code",
   "execution_count": 14,
   "id": "cd98354b-621a-4867-8cc7-5b87053dd8f6",
   "metadata": {},
   "outputs": [],
   "source": [
    "def cardinality_shape_similarity(real_tables, fake_tables, relationships):\n",
    "    ks_scores = []\n",
    "\n",
    "    for parent_table_name, relationship in relationships.items():\n",
    "        parent_primary_key = relationship[\"primary_key\"]\n",
    "        children = relationship[\"child\"]\n",
    "\n",
    "        for child_table_name, child_foreign_key in children.items():\n",
    "            # Calculate cardinality for real data\n",
    "            real_child_table = real_tables[child_table_name]\n",
    "            real_cardinality = real_child_table[child_foreign_key].value_counts().values\n",
    "\n",
    "            # Calculate cardinality for synthetic data\n",
    "            fake_child_table = fake_tables[child_table_name]\n",
    "            fake_cardinality = fake_child_table[child_foreign_key].value_counts().values\n",
    "\n",
    "            # Compute KSComplement score\n",
    "            ks_statistic, _ = ks_2samp(real_cardinality, fake_cardinality)\n",
    "            ks_complement = 1 - ks_statistic\n",
    "            ks_scores.append(ks_complement)\n",
    "\n",
    "    # Calculate CardinalityShapeSimilarity metric as the mean of KSComplement scores\n",
    "    cardinality_shape_similarity_metric = sum(ks_scores) / len(ks_scores)\n",
    "    \n",
    "    return cardinality_shape_similarity_metric"
   ]
  },
  {
   "cell_type": "code",
   "execution_count": 15,
   "id": "7aae8ee3-8847-462e-a12c-b3f49dbdaac4",
   "metadata": {},
   "outputs": [
    {
     "data": {
      "text/plain": [
       "0.7855401551279061"
      ]
     },
     "execution_count": 15,
     "metadata": {},
     "output_type": "execute_result"
    }
   ],
   "source": [
    "cardinality_shape_similarity(real_data_collection, synthetic_data_collection, metadata)"
   ]
  },
  {
   "cell_type": "markdown",
   "id": "85d4351b-e116-458b-8ff8-22d83b4f5313",
   "metadata": {},
   "source": [
    "# SDMetrics (optional)"
   ]
  },
  {
   "cell_type": "code",
   "execution_count": 16,
   "id": "e1260748-5026-431a-9347-7f792577183f",
   "metadata": {},
   "outputs": [
    {
     "name": "stderr",
     "output_type": "stream",
     "text": [
      "C:\\programs\\conda\\envs\\tfgpu\\lib\\site-packages\\sdmetrics\\reports\\utils.py:661: UserWarning: Unexpected values (\"0\") in column \"stop_sequence\" and table \"stop_times\"\n",
      "  warnings.warn(warning_format.format(values=values, column=column))\n",
      "C:\\programs\\conda\\envs\\tfgpu\\lib\\site-packages\\sdmetrics\\reports\\utils.py:661: UserWarning: Unexpected values (\"1\", \"-1\") in column \"wheelchair_accessible\" and table \"trips\"\n",
      "  warnings.warn(warning_format.format(values=values, column=column))\n",
      "Creating report:  40%|██████████████████████████▊                                        | 2/5 [00:01<00:02,  1.41it/s]C:\\programs\\conda\\envs\\tfgpu\\lib\\site-packages\\sdmetrics\\multi_table\\multi_single_table.py:51: ConstantInputWarning: The synthetic data in table 'calendar', column 'start_date' contains a constant value. Correlation is undefined for constant data.\n",
      "  warnings.warn(warning.category(message))\n",
      "C:\\programs\\conda\\envs\\tfgpu\\lib\\site-packages\\sdmetrics\\multi_table\\multi_single_table.py:51: ConstantInputWarning: The synthetic data in table 'stops', column 'start_date' contains a constant value. Correlation is undefined for constant data.\n",
      "  warnings.warn(warning.category(message))\n",
      "Creating report: 100%|███████████████████████████████████████████████████████████████████| 5/5 [00:14<00:00,  2.88s/it]\n"
     ]
    },
    {
     "name": "stdout",
     "output_type": "stream",
     "text": [
      "\n",
      "Overall Quality Score: 61.77%\n",
      "\n",
      "Properties:\n",
      "Column Shapes: 63.02%\n",
      "Column Pair Trends: 41.95%\n",
      "Parent Child Relationships: 80.35%\n"
     ]
    },
    {
     "name": "stderr",
     "output_type": "stream",
     "text": [
      "C:\\programs\\conda\\envs\\tfgpu\\lib\\site-packages\\numpy\\core\\fromnumeric.py:3432: RuntimeWarning: Mean of empty slice.\n",
      "  return _methods._mean(a, axis=axis, dtype=dtype,\n",
      "C:\\programs\\conda\\envs\\tfgpu\\lib\\site-packages\\numpy\\core\\_methods.py:190: RuntimeWarning: invalid value encountered in double_scalars\n",
      "  ret = ret.dtype.type(ret / rcount)\n"
     ]
    }
   ],
   "source": [
    "quality_report = evaluate_quality(\n",
    "    real_data=real_data_collection,\n",
    "    synthetic_data=synthetic_data_collection,\n",
    "    metadata=sdv_metadata)"
   ]
  },
  {
   "cell_type": "markdown",
   "id": "1ef96e2c-9a6b-4e4a-9125-aea6fabe608f",
   "metadata": {
    "tags": []
   },
   "source": [
    "# Join Test"
   ]
  },
  {
   "cell_type": "markdown",
   "id": "d8144a87-5d33-4886-ab6d-55d4be7df715",
   "metadata": {
    "tags": []
   },
   "source": [
    "## Join Data"
   ]
  },
  {
   "cell_type": "code",
   "execution_count": 17,
   "id": "150e8025-4712-4158-8f3b-8e17f580ce2f",
   "metadata": {},
   "outputs": [],
   "source": [
    "def auto_join(df_list, how='inner'):\n",
    "    result = df_list[0]\n",
    "    for df in df_list[1:]:\n",
    "        shared_columns = list(set(result.columns) & set(df.columns))\n",
    "        if not shared_columns:\n",
    "            continue\n",
    "        result = result.merge(df, on=shared_columns, how=how)\n",
    "    return result"
   ]
  },
  {
   "cell_type": "code",
   "execution_count": 18,
   "id": "ab951492-21f0-468b-81c2-8572982dcfd7",
   "metadata": {
    "scrolled": true,
    "tags": []
   },
   "outputs": [],
   "source": [
    "df_list = [synthetic_data_collection['routes'], synthetic_data_collection['trips']]\n",
    "fake_routes_trips = auto_join(df_list)"
   ]
  },
  {
   "cell_type": "code",
   "execution_count": 19,
   "id": "24a6d31f-2a74-4962-9246-0d2acdb4ed83",
   "metadata": {},
   "outputs": [],
   "source": [
    "df_list = [synthetic_data_collection['stops'], synthetic_data_collection['stop_times'], synthetic_data_collection['trips']]\n",
    "fake_stops_stop_times_trips = auto_join(df_list)"
   ]
  },
  {
   "cell_type": "code",
   "execution_count": 20,
   "id": "d7aca658-9b84-485c-ba44-6c284bde5c6c",
   "metadata": {},
   "outputs": [],
   "source": [
    "df_list = [real_data_collection['routes'], real_data_collection['trips']]\n",
    "real_routes_trips = auto_join(df_list)"
   ]
  },
  {
   "cell_type": "code",
   "execution_count": 21,
   "id": "b5f0e95a-a5e3-41dd-94c9-06991b488706",
   "metadata": {},
   "outputs": [],
   "source": [
    "df_list = [real_data_collection['stops'], real_data_collection['stop_times'], real_data_collection['trips']]\n",
    "real_stops_stop_times_trips = auto_join(df_list)"
   ]
  },
  {
   "cell_type": "markdown",
   "id": "7870456e-ac1f-4097-89c2-35af1193fc69",
   "metadata": {},
   "source": [
    "## Measue # of Rows Abandoned"
   ]
  },
  {
   "cell_type": "code",
   "execution_count": 22,
   "id": "19ea3ba3-a760-4f99-ae24-f900352b3ad2",
   "metadata": {},
   "outputs": [],
   "source": [
    "def size_difference_in_percentage(df1, df2):\n",
    "    df1_len = len(df1)\n",
    "    df2_len = len(df2)\n",
    "    min_ = min(df1_len, df2_len)\n",
    "    max_ = max(df1_len, df2_len)\n",
    "    leftout = (((max_ - min_) / max_) + ((max_ - min_) / min_)) / 2\n",
    "    return leftout"
   ]
  },
  {
   "cell_type": "code",
   "execution_count": 23,
   "id": "5f775a72-4115-4fd2-9792-9c4af67c4b9c",
   "metadata": {},
   "outputs": [
    {
     "data": {
      "text/plain": [
       "0.0"
      ]
     },
     "execution_count": 23,
     "metadata": {},
     "output_type": "execute_result"
    }
   ],
   "source": [
    "size_difference_in_percentage(fake_routes_trips, real_routes_trips)"
   ]
  },
  {
   "cell_type": "code",
   "execution_count": 24,
   "id": "2ac6fc6d-751e-471c-a2ec-b504295e70d3",
   "metadata": {},
   "outputs": [
    {
     "data": {
      "text/plain": [
       "0.0"
      ]
     },
     "execution_count": 24,
     "metadata": {},
     "output_type": "execute_result"
    }
   ],
   "source": [
    "size_difference_in_percentage(fake_stops_stop_times_trips, real_stops_stop_times_trips)"
   ]
  },
  {
   "cell_type": "markdown",
   "id": "cf8653c7-43a2-4410-8cc3-17d760e480ac",
   "metadata": {},
   "source": [
    "## CosSim Test For Joined Data"
   ]
  },
  {
   "cell_type": "code",
   "execution_count": 25,
   "id": "c5f76bf3-6149-4090-955e-4427bb391a09",
   "metadata": {},
   "outputs": [],
   "source": [
    "min_ = min(len(fake_routes_trips), len(real_routes_trips))\n",
    "cos_test_result = cos_test(fake_routes_trips.sample(min_), real_routes_trips.sample(min_))"
   ]
  },
  {
   "cell_type": "code",
   "execution_count": 26,
   "id": "7c369c46-0916-4e3b-a718-a4b3ba2cf6de",
   "metadata": {},
   "outputs": [
    {
     "data": {
      "text/plain": [
       "0.66276639035927"
      ]
     },
     "execution_count": 26,
     "metadata": {},
     "output_type": "execute_result"
    }
   ],
   "source": [
    "1-cos_test_result"
   ]
  },
  {
   "cell_type": "code",
   "execution_count": 27,
   "id": "dde96ff7-4599-409d-812f-82bfe973dc5c",
   "metadata": {},
   "outputs": [],
   "source": [
    "min_ = min(len(fake_stops_stop_times_trips), len(real_stops_stop_times_trips))\n",
    "cos_test_result = cos_test(fake_stops_stop_times_trips.sample(min_), real_stops_stop_times_trips.sample(min_))"
   ]
  },
  {
   "cell_type": "code",
   "execution_count": 28,
   "id": "998bb874-6d99-4761-ad58-fc66be225bdb",
   "metadata": {},
   "outputs": [
    {
     "data": {
      "text/plain": [
       "0.7084451705643939"
      ]
     },
     "execution_count": 28,
     "metadata": {},
     "output_type": "execute_result"
    }
   ],
   "source": [
    "1-cos_test_result"
   ]
  },
  {
   "cell_type": "markdown",
   "id": "f55c01f9-6f3f-4403-a4be-90441a986a3f",
   "metadata": {},
   "source": [
    "## KS Test For Joined Data"
   ]
  },
  {
   "cell_type": "code",
   "execution_count": 29,
   "id": "db34ee3b-d809-4272-a48c-f330cb0f398e",
   "metadata": {},
   "outputs": [],
   "source": [
    "min_ = min(len(fake_routes_trips), len(real_routes_trips))\n",
    "ks_stat, p_value = ks_test(fake_routes_trips.sample(min_), real_routes_trips.sample(min_))"
   ]
  },
  {
   "cell_type": "code",
   "execution_count": 30,
   "id": "b5b9dda3-fb2b-4106-9d74-c05b0cbca25c",
   "metadata": {},
   "outputs": [
    {
     "data": {
      "text/plain": [
       "0.7052338458689722"
      ]
     },
     "execution_count": 30,
     "metadata": {},
     "output_type": "execute_result"
    }
   ],
   "source": [
    "1-ks_stat"
   ]
  },
  {
   "cell_type": "code",
   "execution_count": 31,
   "id": "23f5e990-84b7-40e8-a89e-dfe7fd65fbff",
   "metadata": {},
   "outputs": [],
   "source": [
    "min_ = min(len(fake_stops_stop_times_trips), len(real_stops_stop_times_trips))\n",
    "ks_stat, p_value = ks_test(fake_stops_stop_times_trips.sample(min_), real_stops_stop_times_trips.sample(min_))"
   ]
  },
  {
   "cell_type": "code",
   "execution_count": 32,
   "id": "f6b9da63-4c83-4ac3-a49c-bb1878c3382d",
   "metadata": {},
   "outputs": [
    {
     "data": {
      "text/plain": [
       "0.6901966300851271"
      ]
     },
     "execution_count": 32,
     "metadata": {},
     "output_type": "execute_result"
    }
   ],
   "source": [
    "1-ks_stat"
   ]
  },
  {
   "cell_type": "code",
   "execution_count": null,
   "id": "ab3208a0-ac13-4589-9629-9cae20d16cde",
   "metadata": {},
   "outputs": [],
   "source": []
  }
 ],
 "metadata": {
  "kernelspec": {
   "display_name": "Python 3 (ipykernel)",
   "language": "python",
   "name": "python3"
  },
  "language_info": {
   "codemirror_mode": {
    "name": "ipython",
    "version": 3
   },
   "file_extension": ".py",
   "mimetype": "text/x-python",
   "name": "python",
   "nbconvert_exporter": "python",
   "pygments_lexer": "ipython3",
   "version": "3.9.16"
  }
 },
 "nbformat": 4,
 "nbformat_minor": 5
}
