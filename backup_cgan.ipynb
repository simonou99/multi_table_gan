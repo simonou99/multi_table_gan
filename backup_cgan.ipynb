{
 "cells": [
  {
   "cell_type": "markdown",
   "id": "ed277bcc-0b53-44b4-9072-343f704588ca",
   "metadata": {
    "tags": []
   },
   "source": [
    "# import"
   ]
  },
  {
   "cell_type": "code",
   "execution_count": 2,
   "id": "9b6344e5-e74b-42a5-8a1d-95bd2f963a77",
   "metadata": {
    "tags": []
   },
   "outputs": [],
   "source": [
    "import os\n",
    "import time\n",
    "import random\n",
    "import numpy as np\n",
    "import pandas as pd\n",
    "import matplotlib.pyplot as plt\n",
    "# import tensorflow as tf\n",
    "from tensorflow.keras import layers, models, optimizers, losses, backend, constraints, initializers\n",
    "from tensorflow.compat.v1.logging import set_verbosity, ERROR\n",
    "from sklearn.preprocessing import MinMaxScaler, StandardScaler\n",
    "from sklearn import metrics\n",
    "from sklearn.decomposition import PCA\n",
    "from sklearn.impute import SimpleImputer\n",
    "from scipy.stats import kstest, gaussian_kde, ks_2samp\n",
    "from scipy.spatial.distance import jensenshannon\n",
    "# from table_evaluator import load_data, TableEvaluator\n",
    "# from sklearn.ensemble import RandomForestClassifier\n",
    "# from sklearn.model_selection import train_test_split"
   ]
  },
  {
   "cell_type": "code",
   "execution_count": 2,
   "id": "cfdcbabf-f624-4961-93c2-1232ffdeffcd",
   "metadata": {},
   "outputs": [],
   "source": [
    "set_verbosity(ERROR)"
   ]
  },
  {
   "cell_type": "markdown",
   "id": "9f6aa2d4-7b51-45ff-bc4a-1d3e9d7a0b65",
   "metadata": {
    "tags": []
   },
   "source": [
    "# load data"
   ]
  },
  {
   "cell_type": "code",
   "execution_count": 3,
   "id": "8b2e5505-8cda-4ecb-a414-b0d0819f283a",
   "metadata": {},
   "outputs": [],
   "source": [
    "# folder_path = 'gtfs'\n",
    "\n",
    "# agency = pd.read_csv(f'{folder_path}/agency.txt')\n",
    "# calendar = pd.read_csv(f'{folder_path}/calendar.txt')\n",
    "# calendar_dates = pd.read_csv(f'{folder_path}/calendar_dates.txt')\n",
    "# fare_attributes = pd.read_csv(f'{folder_path}/fare_attributes.txt')\n",
    "# fare_rules = pd.read_csv(f'{folder_path}/fare_rules.txt')\n",
    "# feed_info = pd.read_csv(f'{folder_path}/feed_info.txt')\n",
    "# frequencies = pd.read_csv(f'{folder_path}/frequencies.txt')\n",
    "# routes = pd.read_csv(f'{folder_path}/routes.txt')\n",
    "# shapes = pd.read_csv(f'{folder_path}/shapes.txt')\n",
    "# stops = pd.read_csv(f'{folder_path}/stops.txt')\n",
    "# stop_times = pd.read_csv(f'{folder_path}/stop_times.txt')\n",
    "# transfers = pd.read_csv(f'{folder_path}/transfers.txt')\n",
    "# trips = pd.read_csv(f'{folder_path}/trips.txt')"
   ]
  },
  {
   "cell_type": "code",
   "execution_count": 4,
   "id": "db708df7-5740-46d0-b5ff-e08f1e75da8e",
   "metadata": {},
   "outputs": [],
   "source": [
    "# join map\n",
    "# # Read GTFS CSV files\n",
    "# agency = pd.read_csv('gtfs/agency.txt')\n",
    "# stops = pd.read_csv('gtfs/stops.txt')\n",
    "# routes = pd.read_csv('gtfs/routes.txt')\n",
    "# trips = pd.read_csv('gtfs/trips.txt')\n",
    "# stop_times = pd.read_csv('gtfs/stop_times.txt')\n",
    "# calendar = pd.read_csv('gtfs/calendar.txt')\n",
    "# routes_agency = routes.merge(agency, on='agency_id', how='left')\n",
    "# trips_routes = trips.merge(routes_agency, on='route_id', how='left')\n",
    "# stop_times_trips = stop_times.merge(trips_routes, on='trip_id', how='left')\n",
    "# stop_times_trips_stops = stop_times_trips.merge(stops, on='stop_id', how='left')\n",
    "# trips_calendar = trips.merge(calendar, on='service_id', how='left')\n",
    "# joined_data = stop_times_trips_stops.merge(trips_calendar, on=['trip_id', 'route_id', 'service_id'], how='left', suffixes=('', '_y'))\n",
    "# joined_data = joined_data.loc[:, ~joined_data.columns.str.endswith('_y')]\n",
    "# joined_data.head()"
   ]
  },
  {
   "cell_type": "code",
   "execution_count": 5,
   "id": "37644fb8-5f08-496c-8403-c221fb097027",
   "metadata": {},
   "outputs": [],
   "source": [
    "def load_data_collection(dir_path):\n",
    "    gtfs_files = [f for f in os.listdir(dir_path) if f.endswith('.csv') or f.endswith('.txt')]\n",
    "    data_collection = {}\n",
    "    for f in gtfs_files:\n",
    "        f_path = os.path.join(dir_path, f)\n",
    "        data = pd.read_csv(f_path)\n",
    "        if data.shape[0] > 1:\n",
    "            data_collection[f.split(\".\")[0]] = data\n",
    "    return data_collection"
   ]
  },
  {
   "cell_type": "code",
   "execution_count": 6,
   "id": "1fabfedb-af59-44de-851f-1fb41a26f071",
   "metadata": {},
   "outputs": [],
   "source": [
    "# def preprocess(data_collection):\n",
    "    # for k, v in data_collection.items():\n",
    "    #     current_data = v.select_dtypes(include=[np.number]).astype(np.float32)\n",
    "    #     scaler = StandardScaler()\n",
    "    #     data_collection[k] = scaler.fit_transform(current_data)\n",
    "    # return data_collection"
   ]
  },
  {
   "cell_type": "code",
   "execution_count": 7,
   "id": "43100845-8f4f-4fb9-b765-073cdfe09426",
   "metadata": {},
   "outputs": [],
   "source": [
    "real_data_collection = load_data_collection(\"gtfs\")"
   ]
  },
  {
   "cell_type": "markdown",
   "id": "0030c3c8-efd3-4412-a936-e735a0ff0d11",
   "metadata": {},
   "source": [
    "# preprocess"
   ]
  },
  {
   "cell_type": "code",
   "execution_count": 8,
   "id": "ea160cb7-5a00-4415-9db6-65a1fed80c6d",
   "metadata": {},
   "outputs": [],
   "source": [
    "def individual_preprocess_dict():\n",
    "    preprocess_dict = {}\n",
    "    preprocess_dict['transformation'] = {}\n",
    "    preprocess_dict['transformation']['drop'] = []\n",
    "    preprocess_dict['transformation']['factorize'] = []\n",
    "    preprocess_dict['transformation']['to_strip'] = []\n",
    "    preprocess_dict['transformation']['to_elapsed_time'] = []\n",
    "    preprocess_dict['transformation']['to_elapsed_days'] = []\n",
    "    preprocess_dict['nans_conversion'] = {}\n",
    "    preprocess_dict['nans_conversion']['impute'] = []\n",
    "    preprocess_dict['nans_conversion']['replace_with_neg_one'] = []\n",
    "    preprocess_dict['nans_conversion']['replace_with_zeros'] = []\n",
    "    return preprocess_dict"
   ]
  },
  {
   "cell_type": "code",
   "execution_count": 9,
   "id": "a43626da-f738-4269-b5ff-62333d036e9d",
   "metadata": {},
   "outputs": [],
   "source": [
    "def format_individual_data(data, preprocess_dict, factorization_dict, timestamp = pd.Timestamp('1900-01-01')):\n",
    "    # reverse_transform_dict = {}\n",
    "    for stage in preprocess_dict.keys():\n",
    "        if stage == 'transformation':\n",
    "            for method, col_list in preprocess_dict[stage].items():\n",
    "                if len(col_list) != 0 or None:\n",
    "                    if method == 'drop':\n",
    "                        data = data.drop(col_list, axis=1)\n",
    "                    if method == 'factorize':\n",
    "                        for col in col_list:\n",
    "                            data[col] = data[col].map(factorization_dict[col])\n",
    "                    if method == 'to_strip':\n",
    "                        for col in col_list:\n",
    "                            # convert some column to numbers\n",
    "                            # e.g. `123-45-6` -> `123456`\n",
    "                            data[col] = data[col].str.replace(r'\\D', '').astype(int)\n",
    "                    if method == \"to_elapsed_time\":\n",
    "                        for col in col_list:\n",
    "                            cur_col = pd.to_timedelta(data[col])\n",
    "                            cur_col = cur_col % pd.Timedelta(days=1)\n",
    "                            data[col] = cur_col.dt.total_seconds()\n",
    "                    if method == \"to_elapsed_days\":\n",
    "                        for col in col_list:\n",
    "                            cur_col = pd.to_datetime(data[col], format='%Y%m%d') - timestamp\n",
    "                            data[col] = cur_col.dt.days\n",
    "        if stage == 'nans_conversion':\n",
    "            for method, col_list in preprocess_dict[stage].items():\n",
    "                if len(col_list) != 0 or None:\n",
    "                    if method == 'impute':\n",
    "                        imputer = SimpleImputer(strategy='mean')\n",
    "                        data[col_list] = imputer.fit_transform(data[col_list])\n",
    "                    if method == 'replace_with_neg_one':\n",
    "                        data[col_list] = data[col_list].fillna(-1)\n",
    "                    if method == 'replace_with_zeros':\n",
    "                        data[col_list] = data[col_list].fillna(0)\n",
    "    # scaler = MinMaxScaler(feature_range=(-1, 1))\n",
    "    # scaled_data = scaler.fit_transform(data)\n",
    "    return data"
   ]
  },
  {
   "cell_type": "code",
   "execution_count": 10,
   "id": "bfbc6a94-8564-48d8-9e01-64f58dfce052",
   "metadata": {},
   "outputs": [],
   "source": [
    "def create_factorization_dict(data_collection, selected_columns):\n",
    "    # Combine unique values from all DataFrames for each selected column\n",
    "    unique_values = {}\n",
    "    for col in selected_columns:\n",
    "        local_unique_values = pd.concat([df[col] for df in data_collection.values() if col in df.columns]).unique()\n",
    "        unique_values[col] = local_unique_values\n",
    "\n",
    "    # Create a nested factorization dictionary\n",
    "    factorization_dict = {}\n",
    "    for col, local_unique_values in unique_values.items():\n",
    "        factorization_dict[col] = {v: i for i, v in enumerate(local_unique_values)}\n",
    "\n",
    "    return factorization_dict"
   ]
  },
  {
   "cell_type": "code",
   "execution_count": 11,
   "id": "e4aad625-bd96-4709-a788-b34601ffebd1",
   "metadata": {
    "scrolled": true,
    "tags": []
   },
   "outputs": [],
   "source": [
    "features_to_factorize = ['agency_id','agency_name',\n",
    "                         'agency_url','agency_timezone',\n",
    "                         'agency_lang','service_id',\n",
    "                        'route_id','route_short_name',\n",
    "                        'route_long_name','route_color',\n",
    "                         'route_text_color','contract_id',\n",
    "                        'shape_id','stop_id',\n",
    "                        'stop_name','parent_station',\n",
    "                        'platform_code','trip_id',\n",
    "                        'stop_headsign','trip_headsign']\n",
    "factorization_dict = create_factorization_dict(real_data_collection, features_to_factorize)"
   ]
  },
  {
   "cell_type": "markdown",
   "id": "d5d2f690-595f-4824-982b-a4eacecc3910",
   "metadata": {},
   "source": [
    "## preprocess individual data"
   ]
  },
  {
   "cell_type": "markdown",
   "id": "3941e82d-821f-447a-8c2e-8fca8749dfa0",
   "metadata": {},
   "source": [
    "### agency"
   ]
  },
  {
   "cell_type": "code",
   "execution_count": 12,
   "id": "bef7d9f3-25f6-42c0-8eb2-e9ded03b6dcb",
   "metadata": {},
   "outputs": [
    {
     "name": "stderr",
     "output_type": "stream",
     "text": [
      "C:\\Users\\ouzho\\AppData\\Local\\Temp\\ipykernel_5444\\3439179761.py:16: FutureWarning: The default value of regex will change from True to False in a future version.\n",
      "  data[col] = data[col].str.replace(r'\\D', '').astype(int)\n"
     ]
    }
   ],
   "source": [
    "preprocess_dict = individual_preprocess_dict()\n",
    "preprocess_dict['transformation']['drop'] = ['agency_fare_url','agency_email']\n",
    "preprocess_dict['transformation']['factorize'] = ['agency_id', 'agency_name','agency_url','agency_timezone','agency_lang']\n",
    "preprocess_dict['transformation']['to_strip'] = ['agency_phone']\n",
    "real_data_collection['agency'] = format_individual_data(real_data_collection['agency'], preprocess_dict, factorization_dict)"
   ]
  },
  {
   "cell_type": "markdown",
   "id": "8f278677-b5b3-4252-8141-0a142b47562c",
   "metadata": {},
   "source": [
    "### calendar"
   ]
  },
  {
   "cell_type": "code",
   "execution_count": 13,
   "id": "dfcca997-62df-47a3-abe4-b55842d25af5",
   "metadata": {},
   "outputs": [],
   "source": [
    "preprocess_dict = individual_preprocess_dict()\n",
    "preprocess_dict['transformation']['factorize'] = ['service_id']\n",
    "preprocess_dict['transformation']['to_elapsed_days'] = ['start_date','end_date']\n",
    "real_data_collection['calendar'] = format_individual_data(real_data_collection['calendar'], preprocess_dict, factorization_dict)"
   ]
  },
  {
   "cell_type": "markdown",
   "id": "374b8652-4e4b-4f33-9a9a-5cd3c3717668",
   "metadata": {},
   "source": [
    "### calendar_dates"
   ]
  },
  {
   "cell_type": "code",
   "execution_count": 14,
   "id": "38deb9ca-8215-4891-8d19-c437ffda9877",
   "metadata": {},
   "outputs": [],
   "source": [
    "preprocess_dict = individual_preprocess_dict()\n",
    "preprocess_dict['transformation']['factorize'] = ['service_id']\n",
    "preprocess_dict['transformation']['to_elapsed_days'] = ['date']\n",
    "real_data_collection['calendar_dates'] = format_individual_data(real_data_collection['calendar_dates'], preprocess_dict, factorization_dict)"
   ]
  },
  {
   "cell_type": "markdown",
   "id": "727e21f9-890a-4a8b-99a9-fb852ae82195",
   "metadata": {},
   "source": [
    "### routes"
   ]
  },
  {
   "cell_type": "code",
   "execution_count": 15,
   "id": "fd77431d-7d88-4dce-9121-a04f4c12c547",
   "metadata": {},
   "outputs": [],
   "source": [
    "preprocess_dict = individual_preprocess_dict()\n",
    "preprocess_dict['transformation']['drop'] = ['route_desc','route_url','route_sort_order']\n",
    "preprocess_dict['transformation']['factorize'] = ['route_id',\n",
    "                                                  'agency_id',\n",
    "                                                 'route_short_name',\n",
    "                                                 'route_long_name',\n",
    "                                                 'route_color',\n",
    "                                                 'route_text_color',\n",
    "                                                 'contract_id']\n",
    "preprocess_dict['nans_conversion']['impute'] = ['route_color','route_text_color']\n",
    "real_data_collection['routes'] = format_individual_data(real_data_collection['routes'], preprocess_dict, factorization_dict)"
   ]
  },
  {
   "cell_type": "markdown",
   "id": "00ad060e-fcea-440a-aed9-dd9bc926684f",
   "metadata": {},
   "source": [
    "### shapes"
   ]
  },
  {
   "cell_type": "code",
   "execution_count": 16,
   "id": "9b5589da-6b58-48d1-b3eb-aecfbad81d6a",
   "metadata": {},
   "outputs": [],
   "source": [
    "preprocess_dict = individual_preprocess_dict()\n",
    "preprocess_dict['transformation']['factorize'] = ['shape_id']\n",
    "real_data_collection['shapes'] = format_individual_data(real_data_collection['shapes'], preprocess_dict, factorization_dict)"
   ]
  },
  {
   "cell_type": "markdown",
   "id": "7f5c8015-fd45-4741-9393-f7c2815f7851",
   "metadata": {},
   "source": [
    "### stops"
   ]
  },
  {
   "cell_type": "code",
   "execution_count": 17,
   "id": "8e61ffc7-1168-4333-b4a3-3f9e44bf89cf",
   "metadata": {},
   "outputs": [],
   "source": [
    "preprocess_dict = individual_preprocess_dict()\n",
    "preprocess_dict['transformation']['factorize'] = ['stop_id','stop_name','parent_station','platform_code']\n",
    "preprocess_dict['transformation']['to_elapsed_days'] = ['start_date','end_date']\n",
    "preprocess_dict['transformation']['drop'] = ['stop_desc','zone_id','stop_url','stop_timezone']\n",
    "preprocess_dict['nans_conversion']['impute'] = ['parent_station','platform_code']\n",
    "real_data_collection['stops'] = format_individual_data(real_data_collection['stops'], preprocess_dict, factorization_dict)"
   ]
  },
  {
   "cell_type": "markdown",
   "id": "b0265679-0e19-4597-8554-42c4963f8f8c",
   "metadata": {},
   "source": [
    "### stop_times"
   ]
  },
  {
   "cell_type": "code",
   "execution_count": 18,
   "id": "04cf6ba2-8f2e-4def-96af-560e9515146f",
   "metadata": {},
   "outputs": [],
   "source": [
    "preprocess_dict = individual_preprocess_dict()\n",
    "preprocess_dict['transformation']['factorize'] = ['trip_id','stop_id','stop_headsign']\n",
    "preprocess_dict['transformation']['to_elapsed_time'] = ['arrival_time','departure_time']\n",
    "real_data_collection['stop_times'] = format_individual_data(real_data_collection['stop_times'], preprocess_dict, factorization_dict)"
   ]
  },
  {
   "cell_type": "markdown",
   "id": "b5b77631-6496-485c-b725-cd0f7fa88cd5",
   "metadata": {},
   "source": [
    "### trips"
   ]
  },
  {
   "cell_type": "code",
   "execution_count": 19,
   "id": "c4fe2aa8-61f4-4cab-9d65-ede31a55b844",
   "metadata": {},
   "outputs": [],
   "source": [
    "preprocess_dict = individual_preprocess_dict()\n",
    "preprocess_dict['transformation']['factorize'] = ['route_id','service_id','trip_id','trip_headsign','shape_id']\n",
    "preprocess_dict['transformation']['drop'] = ['trip_short_name','block_id']\n",
    "real_data_collection['trips'] = format_individual_data(real_data_collection['trips'], preprocess_dict, factorization_dict)"
   ]
  },
  {
   "cell_type": "code",
   "execution_count": 20,
   "id": "abbe6911-b7af-46bc-b038-488c15a740fe",
   "metadata": {},
   "outputs": [],
   "source": [
    "del real_data_collection['shapes']"
   ]
  },
  {
   "cell_type": "markdown",
   "id": "f6b6580e-cb37-49d3-b60d-b9c7cb337a6d",
   "metadata": {},
   "source": [
    "## Create Metadata"
   ]
  },
  {
   "cell_type": "code",
   "execution_count": 21,
   "id": "b185c1d6-6ba7-42a7-9038-a114ac10fe0a",
   "metadata": {},
   "outputs": [],
   "source": [
    "def auto_detect_relation(data_collection):\n",
    "    metadata = {}\n",
    "    for df_name, df in data_collection.items():\n",
    "        parent = {}\n",
    "        child = []\n",
    "        primary_key = []\n",
    "        foreign_key = []\n",
    "        for col in df.columns:\n",
    "            if 'id' in col:\n",
    "                if df[col].nunique() == len(df):\n",
    "                    primary_key = [col, len(df)]\n",
    "                else:\n",
    "                    foreign_key.append(col)\n",
    "        for foreign_df_name, foreign_df in data_collection.items():\n",
    "            if foreign_df_name != df_name:\n",
    "                for col in foreign_df.columns:\n",
    "                    if 'id' in col:\n",
    "                        for fr_k in foreign_key:\n",
    "                            if col == fr_k and foreign_df[col].nunique() == len(foreign_df):\n",
    "                                parent[foreign_df_name] = fr_k\n",
    "                        if primary_key != []:\n",
    "                            if col == primary_key[0] and foreign_df[col].nunique() != len(foreign_df):\n",
    "                                child.append(foreign_df_name)\n",
    "        metadata[df_name] = {'primary_key':primary_key,\n",
    "                             'parent':parent,\n",
    "                             'child':child}\n",
    "    return metadata"
   ]
  },
  {
   "cell_type": "code",
   "execution_count": 22,
   "id": "f2b28726-97c5-43ae-b3a7-16b40e42ffd0",
   "metadata": {},
   "outputs": [],
   "source": [
    "metadata = auto_detect_relation(real_data_collection)"
   ]
  },
  {
   "cell_type": "code",
   "execution_count": 23,
   "id": "f6991658-f36e-42a4-93bb-48cc32823426",
   "metadata": {},
   "outputs": [
    {
     "data": {
      "text/plain": [
       "{'agency': {'primary_key': ['agency_id', 15],\n",
       "  'parent': {},\n",
       "  'child': ['routes']},\n",
       " 'calendar': {'primary_key': ['service_id', 121],\n",
       "  'parent': {},\n",
       "  'child': ['calendar_dates', 'trips']},\n",
       " 'calendar_dates': {'primary_key': [],\n",
       "  'parent': {'calendar': 'service_id'},\n",
       "  'child': []},\n",
       " 'routes': {'primary_key': ['route_id', 215],\n",
       "  'parent': {'agency': 'agency_id'},\n",
       "  'child': ['trips']},\n",
       " 'stops': {'primary_key': ['stop_id', 6714],\n",
       "  'parent': {},\n",
       "  'child': ['stop_times']},\n",
       " 'stop_times': {'primary_key': [],\n",
       "  'parent': {'stops': 'stop_id', 'trips': 'trip_id'},\n",
       "  'child': []},\n",
       " 'trips': {'primary_key': ['trip_id', 32403],\n",
       "  'parent': {'calendar': 'service_id', 'routes': 'route_id'},\n",
       "  'child': ['stop_times']}}"
      ]
     },
     "execution_count": 23,
     "metadata": {},
     "output_type": "execute_result"
    }
   ],
   "source": [
    "metadata"
   ]
  },
  {
   "cell_type": "markdown",
   "id": "d8fa2e80-2ca0-4d2c-881d-94de5c331119",
   "metadata": {},
   "source": [
    "## Scaling"
   ]
  },
  {
   "cell_type": "code",
   "execution_count": 24,
   "id": "8846e997-fe62-44f4-9492-03ef527737f8",
   "metadata": {},
   "outputs": [],
   "source": [
    "def scale_individual_df(df):\n",
    "    scaler = StandardScaler()\n",
    "    scaler = scaler.fit(df)\n",
    "    scaled_df = pd.DataFrame(scaler.transform(df), columns = df.columns)\n",
    "    return scaled_df, scaler"
   ]
  },
  {
   "cell_type": "code",
   "execution_count": 25,
   "id": "03722b31-e0c5-43b2-afd5-9cacfde38268",
   "metadata": {},
   "outputs": [],
   "source": [
    "def extract_key_and_scaled_features(df, label_columns):\n",
    "    labels = df[label_columns]\n",
    "    table = df.drop(columns=label_columns)\n",
    "    table_column_names = table.columns\n",
    "    scaled_table, table_scaler = scale_individual_df(table)\n",
    "    scaled_labels, labels_scaler = scale_individual_df(labels)\n",
    "    return scaled_table, scaled_labels, table_scaler, labels_scaler, table_column_names"
   ]
  },
  {
   "cell_type": "code",
   "execution_count": 26,
   "id": "c140cf3f-8d9e-4df9-b1cc-984d95a9806a",
   "metadata": {},
   "outputs": [],
   "source": [
    "def batch_preprocessing(data_collection, metadata):\n",
    "    processed_data_collection = {}\n",
    "    for df_name, df in data_collection.items():\n",
    "        primary_key = []\n",
    "        foreign_key = []\n",
    "        if metadata[df_name]['primary_key'] != []:\n",
    "            primary_key = [metadata[df_name]['primary_key'][0]]\n",
    "        if metadata[df_name]['parent'] != {}:\n",
    "            foreign_key = list(metadata[df_name]['parent'].values())\n",
    "        label_columns = primary_key + foreign_key\n",
    "        table, labels, table_scaler, labels_scaler, table_columns = extract_key_and_scaled_features(df, label_columns)\n",
    "        processed_data_collection[df_name] = {'table':table,\n",
    "                                              'labels':labels,\n",
    "                                              'table_scaler':table_scaler,\n",
    "                                              'labels_scaler':labels_scaler,\n",
    "                                              'table_col_names':table_columns,\n",
    "                                              'label_col_names':label_columns,\n",
    "                                             'metadata':metadata[df_name]}\n",
    "    return processed_data_collection"
   ]
  },
  {
   "cell_type": "code",
   "execution_count": 27,
   "id": "1722d31b-d5f0-4543-aad2-809933ae3f66",
   "metadata": {},
   "outputs": [],
   "source": [
    "processed_data_collection = batch_preprocessing(real_data_collection, metadata)\n",
    "del real_data_collection"
   ]
  },
  {
   "cell_type": "markdown",
   "id": "cd49eb54-1738-4599-874d-571ca5fdd9be",
   "metadata": {},
   "source": [
    "# GAN Building"
   ]
  },
  {
   "cell_type": "markdown",
   "id": "e9a7d67a-017f-4302-99bc-5f2d6b3abf3a",
   "metadata": {},
   "source": [
    "## Sample & Noise Generation"
   ]
  },
  {
   "cell_type": "code",
   "execution_count": 28,
   "id": "5d8321ba-da45-4041-9dd9-25baec7e64a1",
   "metadata": {},
   "outputs": [],
   "source": [
    "def generate_noise(n_samples, n_features):\n",
    "    return np.random.uniform(0, 1, (n_samples, n_features))"
   ]
  },
  {
   "cell_type": "markdown",
   "id": "5744d496-c6f4-4c88-a505-3b82acc3304b",
   "metadata": {},
   "source": [
    "## Additional Custom Function (Wasserstein Loss)"
   ]
  },
  {
   "cell_type": "code",
   "execution_count": 29,
   "id": "f33fe30f-4133-4f04-ba15-b695c11c8fb6",
   "metadata": {},
   "outputs": [],
   "source": [
    "def wasserstein_loss(y_true, y_pred):\n",
    "    return backend.mean(y_true*y_pred)"
   ]
  },
  {
   "cell_type": "markdown",
   "id": "7d64966e-d261-41f4-92b1-0d979c9deceb",
   "metadata": {},
   "source": [
    "## Define Plotting Function For G/D Loss"
   ]
  },
  {
   "cell_type": "code",
   "execution_count": 30,
   "id": "558eca6b-dc6e-45a4-a77d-5a2139ef78b2",
   "metadata": {},
   "outputs": [],
   "source": [
    "import matplotlib.pyplot as plt\n",
    "\n",
    "def plot_history(logs):\n",
    "    n = len(logs)\n",
    "    n_rows = (n + 2) // 3\n",
    "\n",
    "    fig, axes = plt.subplots(n_rows, 3, figsize=(15, 5 * n_rows), sharex=True, sharey=True)\n",
    "    axes = axes.flatten()\n",
    "\n",
    "    for i, (model_name, generator_log, discriminator_log) in enumerate(logs):\n",
    "        axes[i].plot(generator_log, label='gen')\n",
    "        axes[i].plot(discriminator_log, label='d')\n",
    "        axes[i].legend()\n",
    "        axes[i].set_title(model_name)\n",
    "\n",
    "    for i in range(n, n_rows * 3):\n",
    "        axes[i].remove()\n",
    "\n",
    "    plt.tight_layout()\n",
    "    plt.show()\n",
    "    plt.close()"
   ]
  },
  {
   "cell_type": "markdown",
   "id": "8134ba08-ad73-4d99-ae5d-a14e73c5a9d6",
   "metadata": {},
   "source": [
    "## (!) Define Main Generator, Discriminator"
   ]
  },
  {
   "cell_type": "code",
   "execution_count": 31,
   "id": "96d53099-c234-40c6-ad10-ede92dbe47ac",
   "metadata": {},
   "outputs": [],
   "source": [
    "def build_generator(table_dim, labels_dim, latent_dim=100):\n",
    "    noise_input = layers.Input(shape=(latent_dim,))\n",
    "    labels_input = layers.Input(shape=(labels_dim,))\n",
    "    merge_input = layers.Concatenate()([noise_input, labels_input])\n",
    "    bn_layer1 = layers.BatchNormalization()(merge_input)\n",
    "    hidden_layer1 = layers.Dense(128,activation='LeakyReLU')(bn_layer1)\n",
    "    hidden_layer2 = layers.Dense(128,activation='LeakyReLU')(hidden_layer1)\n",
    "    bn_layer2 = layers.BatchNormalization()(hidden_layer2)\n",
    "    output_layer = layers.Dense(table_dim, activation='sigmoid')(bn_layer2)\n",
    "    generator = models.Model([noise_input, labels_input], output_layer)\n",
    "    return generator"
   ]
  },
  {
   "cell_type": "code",
   "execution_count": 32,
   "id": "931b95ef-fb22-48bb-aff3-e7886fc5f34e",
   "metadata": {},
   "outputs": [],
   "source": [
    "def build_discriminator(table_dim, labels_dim):\n",
    "    table_input = layers.Input(shape=(table_dim,))\n",
    "    labels_input = layers.Input(shape=(labels_dim,))\n",
    "    merge_input = layers.Concatenate()([table_input, labels_input])\n",
    "    bn_layer1 = layers.BatchNormalization()(merge_input)\n",
    "    hidden_layer1 = layers.Dense(128,activation='LeakyReLU')(bn_layer1)\n",
    "    hidden_layer2 = layers.Dense(128,activation='LeakyReLU')(hidden_layer1)\n",
    "    bn_layer2 = layers.BatchNormalization()(hidden_layer2)\n",
    "    output_layer = layers.Dense(1, activation='sigmoid')(bn_layer2)\n",
    "    discriminator = models.Model([table_input, labels_input], output_layer)\n",
    "    discriminator.compile(loss='binary_crossentropy', optimizer='adam', metrics=['accuracy'])\n",
    "    return discriminator"
   ]
  },
  {
   "cell_type": "code",
   "execution_count": 33,
   "id": "ff077944-ef97-4afa-90e8-04637462e927",
   "metadata": {},
   "outputs": [],
   "source": [
    "# def build_discriminator(table_dim, labels_dim):\n",
    "#     table_input = layers.Input(shape=(table_dim,))\n",
    "#     labels_input = layers.Input(shape=(labels_dim,))\n",
    "#     merge_input = layers.Concatenate()([table_input, labels_input])\n",
    "#     bn_layer1 = layers.BatchNormalization()(merge_input)\n",
    "#     hidden_layer1 = layers.Dense(128,activation='LeakyReLU')(bn_layer1)\n",
    "#     reshape_layer = layers.Reshape((4, 32))(hidden_layer1)\n",
    "#     conv1 = layers.Conv1D(64,\n",
    "#                           kernel_size=4,\n",
    "#                           strides=2,\n",
    "#                           padding=\"same\",\n",
    "#                           activation=\"LeakyReLU\")(reshape_layer)\n",
    "#     # conv2 = layers.Conv1D(64,\n",
    "#     #                       kernel_size=4,\n",
    "#     #                       strides=2,\n",
    "#     #                       padding=\"same\",\n",
    "#     #                       activation=\"LeakyReLU\")(conv1)\n",
    "#     bn_layer2 = layers.BatchNormalization()(conv1)\n",
    "#     flatten_layer = layers.Flatten()(bn_layer2)\n",
    "#     output_layer = layers.Dense(1, activation='sigmoid')(flatten_layer)\n",
    "#     discriminator = models.Model([table_input, labels_input], output_layer)\n",
    "#     discriminator.compile(loss='binary_crossentropy', optimizer='adam', metrics=['accuracy'])\n",
    "#     return discriminator"
   ]
  },
  {
   "cell_type": "code",
   "execution_count": 34,
   "id": "07e822d9-2e5a-4e25-b946-eaeb8f3bbaab",
   "metadata": {},
   "outputs": [],
   "source": [
    "def build_gan(generator, discriminator):\n",
    "    discriminator.trainable = False\n",
    "    noise_input = layers.Input(shape=(generator.input_shape[0][1],))\n",
    "    labels_input = layers.Input(shape=(generator.input_shape[1][1],))\n",
    "    generator_output = generator([noise_input, labels_input])\n",
    "    discriminator_output = discriminator([generator_output, labels_input])\n",
    "    gan = models.Model(inputs=[noise_input, labels_input], outputs=discriminator_output)\n",
    "    gan.compile(optimizer='adam', loss='binary_crossentropy')\n",
    "    return gan"
   ]
  },
  {
   "cell_type": "code",
   "execution_count": 35,
   "id": "d482af61-0129-4c4a-aac1-17f07cab20d1",
   "metadata": {
    "tags": []
   },
   "outputs": [],
   "source": [
    "# def build_gan(generator, discriminator):\n",
    "#     noise_input = layers.Input(shape=(generator.input_shape[0][1],))\n",
    "#     label_input = layers.Input(shape=(generator.input_shape[1][1],))\n",
    "#     noise_input, label_input = generator.input\n",
    "#     generator_output = generator.output\n",
    "#     discriminator.trainable = False\n",
    "#     validation = discriminator([generator_output, label_input])\n",
    "#     gan = model.Model([noise_input, label_input], validation)\n",
    "#     gan.compile(optimizer='adam', loss='binary_crossentropy')\n",
    "#     return gan"
   ]
  },
  {
   "cell_type": "markdown",
   "id": "6dd2b8d7-5798-490f-bf13-8233ef51b8d3",
   "metadata": {},
   "source": [
    "## Define Training Strategy"
   ]
  },
  {
   "cell_type": "code",
   "execution_count": 36,
   "id": "8c39aa00-6c56-4ad7-97d3-e6c3d98cb67c",
   "metadata": {},
   "outputs": [],
   "source": [
    "def train_individual_gan(name, real_table, real_labels, epochs=50, batch_size=128, latent_dim=100, seed=123, return_logs=True):\n",
    "    class_counts = real_labels.nunique().tolist()\n",
    "    generator = build_generator(real_table.shape[1], real_labels.shape[1], latent_dim=latent_dim)\n",
    "    discriminator = build_discriminator(real_table.shape[1], real_labels.shape[1])\n",
    "    gan = build_gan(generator, discriminator)\n",
    "    \n",
    "    y_real = np.ones((batch_size, 1))\n",
    "    y_fake = np.zeros((batch_size, 1))\n",
    "    \n",
    "    if return_logs:\n",
    "        generator_logs = []\n",
    "        discriminator_logs = []\n",
    "    \n",
    "    for epoch in range(epochs):\n",
    "        start_time = time.time()\n",
    "        idx = np.random.randint(0, real_table.shape[0], batch_size)\n",
    "        noise = np.random.normal(0, 1, (batch_size, latent_dim))\n",
    "        \n",
    "        x_real_labels = real_labels.iloc[idx]\n",
    "        x_real_table = real_table.iloc[idx]\n",
    "        #x_fake_labels = np.random.rand(batch_size, real_labels.shape[1])\n",
    "        x_fake_labels = np.column_stack([np.random.randint(0, class_counts, size=batch_size) for class_counts in class_counts])\n",
    "        x_fake_table = generator.predict([noise, x_fake_labels])\n",
    "        \n",
    "        d_loss_real, _ = discriminator.train_on_batch([x_real_table, x_real_labels], y_real)\n",
    "        d_loss_fake, _ = discriminator.train_on_batch([x_fake_table, x_fake_labels], y_fake)\n",
    "        d_loss = 0.5 * np.add(d_loss_real, d_loss_fake)\n",
    "        \n",
    "        noise = np.random.normal(0, 1, (batch_size, latent_dim))\n",
    "        g_loss = gan.train_on_batch([noise, x_fake_labels], y_real)\n",
    "        \n",
    "        if return_logs:\n",
    "            generator_logs.append(g_loss)\n",
    "            discriminator_logs.append(d_loss)\n",
    "            \n",
    "        elapsed_time = time.time() - start_time\n",
    "        it_per_s = 1 / elapsed_time\n",
    "        \n",
    "        if (epoch) % 10 == 0:\n",
    "            print(f\"[Epoch: {epoch}] [D loss: {np.round(d_loss, 3)}] [G loss: {np.round(g_loss, 3)}] [Speed: {round(it_per_s, 2)} it/s]\")\n",
    "        \n",
    "    generator.save('models/'+name+'_gan.h5')\n",
    "    \n",
    "    if return_logs:\n",
    "        return generator_logs, discriminator_logs"
   ]
  },
  {
   "cell_type": "code",
   "execution_count": 37,
   "id": "8ffe38c7-2d8e-4cfd-a7be-90b9f7804895",
   "metadata": {},
   "outputs": [],
   "source": [
    "def collection_training(data_collection, training_parameter_dict):\n",
    "    logs = []\n",
    "    init_time = time.time()\n",
    "    for df_name, content in data_collection.items():\n",
    "        start_time = time.time()\n",
    "        print(f'Learning \\\"{df_name}\\\" data......')\n",
    "        generator_log, discriminator_log = train_individual_gan(df_name,\n",
    "                                                                  content['table'],\n",
    "                                                                  content['labels'],\n",
    "                                                                epochs=training_parameter_dict[df_name]['epochs'],\n",
    "                                                                  return_logs=True)\n",
    "        in_loop_elapsed_time = time.time() - start_time\n",
    "        minutes, seconds = divmod(in_loop_elapsed_time, 60)\n",
    "        print(\"Time Used: %dm %ds\" % (minutes, seconds))\n",
    "        print('.')\n",
    "        print('.')\n",
    "        logs.append([df_name, generator_log, discriminator_log])\n",
    "    plot_history(logs)\n",
    "    total_elapsed_time = time.time() - init_time\n",
    "    minutes, seconds = divmod(total_elapsed_time, 60)\n",
    "    print(\"Total Time Used: %dm %ds\" % (minutes, seconds))"
   ]
  },
  {
   "cell_type": "markdown",
   "id": "df30c126-718f-4fb8-9e1f-788856cb0409",
   "metadata": {
    "tags": []
   },
   "source": [
    "## Train GAN"
   ]
  },
  {
   "cell_type": "code",
   "execution_count": 38,
   "id": "cfb636db-3776-4dcb-a3e8-b0296fe949ca",
   "metadata": {},
   "outputs": [],
   "source": [
    "training_parameter_dict = {}\n",
    "for df_name, content in processed_data_collection.items():\n",
    "    nrows = content['table'].shape[0]\n",
    "    training_parameter_dict[df_name] = {'epochs':500}"
   ]
  },
  {
   "cell_type": "code",
   "execution_count": 39,
   "id": "ca6f578d-376b-4961-8408-513aad35d5cb",
   "metadata": {},
   "outputs": [
    {
     "data": {
      "text/plain": [
       "{'agency': {'epochs': 500},\n",
       " 'calendar': {'epochs': 500},\n",
       " 'calendar_dates': {'epochs': 500},\n",
       " 'routes': {'epochs': 500},\n",
       " 'stops': {'epochs': 500},\n",
       " 'stop_times': {'epochs': 500},\n",
       " 'trips': {'epochs': 500}}"
      ]
     },
     "execution_count": 39,
     "metadata": {},
     "output_type": "execute_result"
    }
   ],
   "source": [
    "training_parameter_dict"
   ]
  },
  {
   "cell_type": "code",
   "execution_count": 40,
   "id": "460d4f25-0081-4232-a6c0-1e520da7a6de",
   "metadata": {
    "scrolled": true,
    "tags": []
   },
   "outputs": [
    {
     "name": "stdout",
     "output_type": "stream",
     "text": [
      "Learning \"agency\" data......\n",
      "[Epoch: 0] [D loss: 0.897] [G loss: 0.906] [Speed: 0.5 it/s]\n",
      "[Epoch: 10] [D loss: 0.706] [G loss: 0.675] [Speed: 15.38 it/s]\n",
      "[Epoch: 20] [D loss: 0.696] [G loss: 0.642] [Speed: 15.87 it/s]\n",
      "[Epoch: 30] [D loss: 0.695] [G loss: 0.63] [Speed: 16.39 it/s]\n",
      "[Epoch: 40] [D loss: 0.697] [G loss: 0.634] [Speed: 16.13 it/s]\n",
      "[Epoch: 50] [D loss: 0.695] [G loss: 0.628] [Speed: 15.87 it/s]\n",
      "[Epoch: 60] [D loss: 0.696] [G loss: 0.61] [Speed: 16.39 it/s]\n",
      "[Epoch: 70] [D loss: 0.694] [G loss: 0.618] [Speed: 14.92 it/s]\n",
      "[Epoch: 80] [D loss: 0.697] [G loss: 0.625] [Speed: 13.15 it/s]\n",
      "[Epoch: 90] [D loss: 0.694] [G loss: 0.595] [Speed: 13.51 it/s]\n",
      "[Epoch: 100] [D loss: 0.694] [G loss: 0.591] [Speed: 12.98 it/s]\n",
      "[Epoch: 110] [D loss: 0.694] [G loss: 0.566] [Speed: 13.33 it/s]\n",
      "[Epoch: 120] [D loss: 0.694] [G loss: 0.535] [Speed: 13.7 it/s]\n",
      "[Epoch: 130] [D loss: 0.694] [G loss: 0.498] [Speed: 13.51 it/s]\n",
      "[Epoch: 140] [D loss: 0.694] [G loss: 0.441] [Speed: 13.15 it/s]\n",
      "[Epoch: 150] [D loss: 0.694] [G loss: 0.408] [Speed: 13.33 it/s]\n",
      "[Epoch: 160] [D loss: 0.694] [G loss: 0.354] [Speed: 13.89 it/s]\n",
      "[Epoch: 170] [D loss: 0.694] [G loss: 0.306] [Speed: 13.15 it/s]\n",
      "[Epoch: 180] [D loss: 0.694] [G loss: 0.299] [Speed: 13.7 it/s]\n",
      "[Epoch: 190] [D loss: 0.693] [G loss: 0.251] [Speed: 13.7 it/s]\n",
      "[Epoch: 200] [D loss: 0.693] [G loss: 0.25] [Speed: 13.89 it/s]\n",
      "[Epoch: 210] [D loss: 0.693] [G loss: 0.211] [Speed: 12.5 it/s]\n",
      "[Epoch: 220] [D loss: 0.693] [G loss: 0.195] [Speed: 12.98 it/s]\n",
      "[Epoch: 230] [D loss: 0.693] [G loss: 0.183] [Speed: 13.89 it/s]\n",
      "[Epoch: 240] [D loss: 0.693] [G loss: 0.163] [Speed: 13.33 it/s]\n",
      "[Epoch: 250] [D loss: 0.693] [G loss: 0.153] [Speed: 13.51 it/s]\n",
      "[Epoch: 260] [D loss: 0.694] [G loss: 0.146] [Speed: 14.08 it/s]\n",
      "[Epoch: 270] [D loss: 0.693] [G loss: 0.135] [Speed: 13.33 it/s]\n",
      "[Epoch: 280] [D loss: 0.693] [G loss: 0.127] [Speed: 13.15 it/s]\n",
      "[Epoch: 290] [D loss: 0.693] [G loss: 0.122] [Speed: 13.15 it/s]\n",
      "[Epoch: 300] [D loss: 0.693] [G loss: 0.12] [Speed: 13.51 it/s]\n",
      "[Epoch: 310] [D loss: 0.693] [G loss: 0.144] [Speed: 13.33 it/s]\n",
      "[Epoch: 320] [D loss: 0.693] [G loss: 0.171] [Speed: 13.51 it/s]\n",
      "[Epoch: 330] [D loss: 0.693] [G loss: 0.199] [Speed: 13.33 it/s]\n",
      "[Epoch: 340] [D loss: 0.693] [G loss: 0.233] [Speed: 3.25 it/s]\n",
      "[Epoch: 350] [D loss: 0.696] [G loss: 0.289] [Speed: 13.15 it/s]\n",
      "[Epoch: 360] [D loss: 0.694] [G loss: 0.659] [Speed: 13.7 it/s]\n",
      "[Epoch: 370] [D loss: 0.694] [G loss: 1.054] [Speed: 13.7 it/s]\n",
      "[Epoch: 380] [D loss: 0.694] [G loss: 0.884] [Speed: 13.15 it/s]\n",
      "[Epoch: 390] [D loss: 0.694] [G loss: 0.662] [Speed: 13.33 it/s]\n",
      "[Epoch: 400] [D loss: 0.694] [G loss: 0.364] [Speed: 13.33 it/s]\n",
      "[Epoch: 410] [D loss: 0.695] [G loss: 0.268] [Speed: 13.51 it/s]\n",
      "[Epoch: 420] [D loss: 0.694] [G loss: 0.285] [Speed: 12.5 it/s]\n",
      "[Epoch: 430] [D loss: 0.694] [G loss: 0.194] [Speed: 13.33 it/s]\n",
      "[Epoch: 440] [D loss: 0.694] [G loss: 0.148] [Speed: 13.89 it/s]\n",
      "[Epoch: 450] [D loss: 0.694] [G loss: 0.156] [Speed: 13.7 it/s]\n",
      "[Epoch: 460] [D loss: 0.694] [G loss: 0.151] [Speed: 13.33 it/s]\n",
      "[Epoch: 470] [D loss: 0.694] [G loss: 0.127] [Speed: 13.7 it/s]\n",
      "[Epoch: 480] [D loss: 0.694] [G loss: 0.064] [Speed: 13.16 it/s]\n",
      "[Epoch: 490] [D loss: 0.693] [G loss: 0.059] [Speed: 13.33 it/s]\n",
      "Time Used: 0m 39s\n",
      ".\n",
      ".\n",
      "Learning \"calendar\" data......\n",
      "[Epoch: 0] [D loss: 0.818] [G loss: 0.514] [Speed: 0.71 it/s]\n",
      "[Epoch: 10] [D loss: 0.711] [G loss: 0.602] [Speed: 13.15 it/s]\n",
      "[Epoch: 20] [D loss: 0.7] [G loss: 0.622] [Speed: 14.08 it/s]\n",
      "[Epoch: 30] [D loss: 0.696] [G loss: 0.634] [Speed: 13.15 it/s]\n",
      "[Epoch: 40] [D loss: 0.697] [G loss: 0.631] [Speed: 13.33 it/s]\n",
      "[Epoch: 50] [D loss: 0.696] [G loss: 0.633] [Speed: 14.28 it/s]\n",
      "[Epoch: 60] [D loss: 0.695] [G loss: 0.636] [Speed: 13.89 it/s]\n",
      "[Epoch: 70] [D loss: 0.695] [G loss: 0.632] [Speed: 13.89 it/s]\n",
      "[Epoch: 80] [D loss: 0.695] [G loss: 0.642] [Speed: 13.15 it/s]\n",
      "[Epoch: 90] [D loss: 0.695] [G loss: 0.634] [Speed: 13.33 it/s]\n",
      "[Epoch: 100] [D loss: 0.697] [G loss: 0.625] [Speed: 13.33 it/s]\n",
      "[Epoch: 110] [D loss: 0.695] [G loss: 0.646] [Speed: 13.33 it/s]\n",
      "[Epoch: 120] [D loss: 0.695] [G loss: 0.62] [Speed: 13.51 it/s]\n",
      "[Epoch: 130] [D loss: 0.695] [G loss: 0.632] [Speed: 13.7 it/s]\n",
      "[Epoch: 140] [D loss: 0.694] [G loss: 0.636] [Speed: 13.7 it/s]\n",
      "[Epoch: 150] [D loss: 0.696] [G loss: 0.646] [Speed: 13.89 it/s]\n",
      "[Epoch: 160] [D loss: 0.694] [G loss: 0.639] [Speed: 13.33 it/s]\n",
      "[Epoch: 170] [D loss: 0.695] [G loss: 0.635] [Speed: 12.82 it/s]\n",
      "[Epoch: 180] [D loss: 0.694] [G loss: 0.663] [Speed: 13.33 it/s]\n",
      "[Epoch: 190] [D loss: 0.694] [G loss: 0.675] [Speed: 12.66 it/s]\n",
      "[Epoch: 200] [D loss: 0.694] [G loss: 0.659] [Speed: 13.7 it/s]\n",
      "[Epoch: 210] [D loss: 0.694] [G loss: 0.668] [Speed: 13.11 it/s]\n",
      "[Epoch: 220] [D loss: 0.694] [G loss: 0.669] [Speed: 13.51 it/s]\n",
      "[Epoch: 230] [D loss: 0.694] [G loss: 0.679] [Speed: 13.15 it/s]\n",
      "[Epoch: 240] [D loss: 0.694] [G loss: 0.667] [Speed: 13.7 it/s]\n",
      "[Epoch: 250] [D loss: 0.694] [G loss: 0.663] [Speed: 13.33 it/s]\n",
      "[Epoch: 260] [D loss: 0.695] [G loss: 0.627] [Speed: 13.15 it/s]\n",
      "[Epoch: 270] [D loss: 0.695] [G loss: 0.595] [Speed: 14.08 it/s]\n",
      "[Epoch: 280] [D loss: 0.694] [G loss: 0.601] [Speed: 13.7 it/s]\n",
      "[Epoch: 290] [D loss: 0.694] [G loss: 0.584] [Speed: 13.7 it/s]\n",
      "[Epoch: 300] [D loss: 0.694] [G loss: 0.594] [Speed: 13.33 it/s]\n",
      "[Epoch: 310] [D loss: 0.694] [G loss: 0.569] [Speed: 13.51 it/s]\n",
      "[Epoch: 320] [D loss: 0.694] [G loss: 0.595] [Speed: 12.82 it/s]\n",
      "[Epoch: 330] [D loss: 0.694] [G loss: 0.57] [Speed: 12.98 it/s]\n",
      "[Epoch: 340] [D loss: 0.694] [G loss: 0.57] [Speed: 13.89 it/s]\n",
      "[Epoch: 350] [D loss: 0.694] [G loss: 0.56] [Speed: 13.7 it/s]\n",
      "[Epoch: 360] [D loss: 0.694] [G loss: 0.57] [Speed: 13.33 it/s]\n",
      "[Epoch: 370] [D loss: 0.694] [G loss: 0.56] [Speed: 13.89 it/s]\n",
      "[Epoch: 380] [D loss: 0.694] [G loss: 0.594] [Speed: 13.51 it/s]\n",
      "[Epoch: 390] [D loss: 0.694] [G loss: 0.553] [Speed: 13.51 it/s]\n",
      "[Epoch: 400] [D loss: 0.694] [G loss: 0.567] [Speed: 13.33 it/s]\n",
      "[Epoch: 410] [D loss: 0.694] [G loss: 0.569] [Speed: 13.16 it/s]\n",
      "[Epoch: 420] [D loss: 0.694] [G loss: 0.559] [Speed: 13.15 it/s]\n",
      "[Epoch: 430] [D loss: 0.694] [G loss: 0.574] [Speed: 13.51 it/s]\n",
      "[Epoch: 440] [D loss: 0.694] [G loss: 0.563] [Speed: 13.7 it/s]\n",
      "[Epoch: 450] [D loss: 0.694] [G loss: 0.58] [Speed: 13.89 it/s]\n",
      "[Epoch: 460] [D loss: 0.695] [G loss: 0.571] [Speed: 13.7 it/s]\n",
      "[Epoch: 470] [D loss: 0.695] [G loss: 0.626] [Speed: 13.33 it/s]\n",
      "[Epoch: 480] [D loss: 0.694] [G loss: 0.576] [Speed: 13.33 it/s]\n",
      "[Epoch: 490] [D loss: 0.694] [G loss: 0.61] [Speed: 13.15 it/s]\n",
      "Time Used: 0m 39s\n",
      ".\n",
      ".\n",
      "Learning \"calendar_dates\" data......\n",
      "[Epoch: 0] [D loss: 0.755] [G loss: 0.191] [Speed: 0.71 it/s]\n",
      "[Epoch: 10] [D loss: 0.698] [G loss: 0.666] [Speed: 13.15 it/s]\n",
      "[Epoch: 20] [D loss: 0.695] [G loss: 0.658] [Speed: 14.28 it/s]\n",
      "[Epoch: 30] [D loss: 0.694] [G loss: 0.658] [Speed: 13.89 it/s]\n",
      "[Epoch: 40] [D loss: 0.694] [G loss: 0.669] [Speed: 13.33 it/s]\n",
      "[Epoch: 50] [D loss: 0.694] [G loss: 0.675] [Speed: 13.7 it/s]\n",
      "[Epoch: 60] [D loss: 0.694] [G loss: 0.678] [Speed: 13.89 it/s]\n",
      "[Epoch: 70] [D loss: 0.694] [G loss: 0.694] [Speed: 13.89 it/s]\n",
      "[Epoch: 80] [D loss: 0.696] [G loss: 0.694] [Speed: 13.7 it/s]\n",
      "[Epoch: 90] [D loss: 0.695] [G loss: 0.696] [Speed: 14.28 it/s]\n",
      "[Epoch: 100] [D loss: 0.694] [G loss: 0.71] [Speed: 13.89 it/s]\n",
      "[Epoch: 110] [D loss: 0.694] [G loss: 0.705] [Speed: 13.51 it/s]\n",
      "[Epoch: 120] [D loss: 0.694] [G loss: 0.701] [Speed: 13.51 it/s]\n",
      "[Epoch: 130] [D loss: 0.694] [G loss: 0.707] [Speed: 13.7 it/s]\n",
      "[Epoch: 140] [D loss: 0.694] [G loss: 0.714] [Speed: 13.89 it/s]\n",
      "[Epoch: 150] [D loss: 0.693] [G loss: 0.716] [Speed: 14.28 it/s]\n",
      "[Epoch: 160] [D loss: 0.694] [G loss: 0.705] [Speed: 13.33 it/s]\n",
      "[Epoch: 170] [D loss: 0.694] [G loss: 0.708] [Speed: 14.08 it/s]\n",
      "[Epoch: 180] [D loss: 0.693] [G loss: 0.711] [Speed: 13.51 it/s]\n",
      "[Epoch: 190] [D loss: 0.694] [G loss: 0.695] [Speed: 13.51 it/s]\n",
      "[Epoch: 200] [D loss: 0.694] [G loss: 0.733] [Speed: 13.33 it/s]\n",
      "[Epoch: 210] [D loss: 0.694] [G loss: 0.743] [Speed: 13.7 it/s]\n",
      "[Epoch: 220] [D loss: 0.694] [G loss: 0.727] [Speed: 13.33 it/s]\n",
      "[Epoch: 230] [D loss: 0.694] [G loss: 0.694] [Speed: 13.51 it/s]\n",
      "[Epoch: 240] [D loss: 0.694] [G loss: 0.631] [Speed: 13.7 it/s]\n",
      "[Epoch: 250] [D loss: 0.694] [G loss: 0.703] [Speed: 13.7 it/s]\n",
      "[Epoch: 260] [D loss: 0.694] [G loss: 0.733] [Speed: 13.51 it/s]\n",
      "[Epoch: 270] [D loss: 0.695] [G loss: 0.755] [Speed: 12.98 it/s]\n",
      "[Epoch: 280] [D loss: 0.694] [G loss: 0.721] [Speed: 13.89 it/s]\n",
      "[Epoch: 290] [D loss: 0.694] [G loss: 0.695] [Speed: 13.33 it/s]\n",
      "[Epoch: 300] [D loss: 0.693] [G loss: 0.677] [Speed: 14.08 it/s]\n",
      "[Epoch: 310] [D loss: 0.694] [G loss: 0.686] [Speed: 13.89 it/s]\n",
      "[Epoch: 320] [D loss: 0.694] [G loss: 0.685] [Speed: 13.7 it/s]\n",
      "[Epoch: 330] [D loss: 0.694] [G loss: 0.695] [Speed: 13.15 it/s]\n",
      "[Epoch: 340] [D loss: 0.694] [G loss: 0.744] [Speed: 13.51 it/s]\n",
      "[Epoch: 350] [D loss: 0.694] [G loss: 0.733] [Speed: 12.82 it/s]\n",
      "[Epoch: 360] [D loss: 0.694] [G loss: 0.708] [Speed: 14.08 it/s]\n",
      "[Epoch: 370] [D loss: 0.694] [G loss: 0.712] [Speed: 12.82 it/s]\n",
      "[Epoch: 380] [D loss: 0.693] [G loss: 0.681] [Speed: 13.89 it/s]\n",
      "[Epoch: 390] [D loss: 0.693] [G loss: 0.591] [Speed: 14.08 it/s]\n",
      "[Epoch: 400] [D loss: 0.694] [G loss: 0.672] [Speed: 13.33 it/s]\n",
      "[Epoch: 410] [D loss: 0.694] [G loss: 0.715] [Speed: 13.7 it/s]\n",
      "[Epoch: 420] [D loss: 0.694] [G loss: 0.662] [Speed: 14.08 it/s]\n",
      "[Epoch: 430] [D loss: 0.694] [G loss: 0.697] [Speed: 14.08 it/s]\n",
      "[Epoch: 440] [D loss: 0.694] [G loss: 0.669] [Speed: 14.08 it/s]\n",
      "[Epoch: 450] [D loss: 0.694] [G loss: 0.712] [Speed: 14.08 it/s]\n",
      "[Epoch: 460] [D loss: 0.694] [G loss: 0.68] [Speed: 13.89 it/s]\n",
      "[Epoch: 470] [D loss: 0.694] [G loss: 0.69] [Speed: 13.51 it/s]\n",
      "[Epoch: 480] [D loss: 0.694] [G loss: 0.743] [Speed: 13.7 it/s]\n",
      "[Epoch: 490] [D loss: 0.693] [G loss: 0.728] [Speed: 13.89 it/s]\n",
      "Time Used: 0m 38s\n",
      ".\n",
      ".\n",
      "Learning \"routes\" data......\n",
      "[Epoch: 0] [D loss: 0.78] [G loss: 0.532] [Speed: 0.71 it/s]\n",
      "[Epoch: 10] [D loss: 0.71] [G loss: 0.443] [Speed: 13.33 it/s]\n",
      "[Epoch: 20] [D loss: 0.7] [G loss: 0.557] [Speed: 13.7 it/s]\n",
      "[Epoch: 30] [D loss: 0.697] [G loss: 0.532] [Speed: 13.15 it/s]\n",
      "[Epoch: 40] [D loss: 0.697] [G loss: 0.554] [Speed: 13.51 it/s]\n",
      "[Epoch: 50] [D loss: 0.695] [G loss: 0.545] [Speed: 12.5 it/s]\n",
      "[Epoch: 60] [D loss: 0.695] [G loss: 0.561] [Speed: 13.15 it/s]\n",
      "[Epoch: 70] [D loss: 0.696] [G loss: 0.548] [Speed: 13.51 it/s]\n",
      "[Epoch: 80] [D loss: 0.695] [G loss: 0.547] [Speed: 12.98 it/s]\n",
      "[Epoch: 90] [D loss: 0.695] [G loss: 0.561] [Speed: 13.33 it/s]\n",
      "[Epoch: 100] [D loss: 0.695] [G loss: 0.558] [Speed: 13.33 it/s]\n",
      "[Epoch: 110] [D loss: 0.696] [G loss: 0.566] [Speed: 12.82 it/s]\n",
      "[Epoch: 120] [D loss: 0.695] [G loss: 0.562] [Speed: 13.89 it/s]\n",
      "[Epoch: 130] [D loss: 0.695] [G loss: 0.542] [Speed: 13.15 it/s]\n",
      "[Epoch: 140] [D loss: 0.695] [G loss: 0.549] [Speed: 12.5 it/s]\n",
      "[Epoch: 150] [D loss: 0.694] [G loss: 0.55] [Speed: 13.33 it/s]\n",
      "[Epoch: 160] [D loss: 0.694] [G loss: 0.546] [Speed: 13.33 it/s]\n",
      "[Epoch: 170] [D loss: 0.695] [G loss: 0.546] [Speed: 13.51 it/s]\n",
      "[Epoch: 180] [D loss: 0.694] [G loss: 0.51] [Speed: 13.15 it/s]\n",
      "[Epoch: 190] [D loss: 0.694] [G loss: 0.483] [Speed: 14.08 it/s]\n",
      "[Epoch: 200] [D loss: 0.694] [G loss: 0.483] [Speed: 14.08 it/s]\n",
      "[Epoch: 210] [D loss: 0.694] [G loss: 0.507] [Speed: 13.33 it/s]\n",
      "[Epoch: 220] [D loss: 0.694] [G loss: 0.473] [Speed: 13.7 it/s]\n",
      "[Epoch: 230] [D loss: 0.695] [G loss: 0.5] [Speed: 13.51 it/s]\n",
      "[Epoch: 240] [D loss: 0.694] [G loss: 0.51] [Speed: 12.82 it/s]\n",
      "[Epoch: 250] [D loss: 0.694] [G loss: 0.512] [Speed: 13.89 it/s]\n",
      "[Epoch: 260] [D loss: 0.694] [G loss: 0.471] [Speed: 13.7 it/s]\n",
      "[Epoch: 270] [D loss: 0.695] [G loss: 0.502] [Speed: 14.08 it/s]\n",
      "[Epoch: 280] [D loss: 0.694] [G loss: 0.504] [Speed: 12.66 it/s]\n",
      "[Epoch: 290] [D loss: 0.694] [G loss: 0.526] [Speed: 13.51 it/s]\n",
      "[Epoch: 300] [D loss: 0.694] [G loss: 0.552] [Speed: 13.89 it/s]\n",
      "[Epoch: 310] [D loss: 0.695] [G loss: 0.549] [Speed: 13.89 it/s]\n",
      "[Epoch: 320] [D loss: 0.694] [G loss: 0.542] [Speed: 13.51 it/s]\n",
      "[Epoch: 330] [D loss: 0.694] [G loss: 0.523] [Speed: 13.7 it/s]\n",
      "[Epoch: 340] [D loss: 0.694] [G loss: 0.541] [Speed: 13.89 it/s]\n",
      "[Epoch: 350] [D loss: 0.694] [G loss: 0.529] [Speed: 12.82 it/s]\n",
      "[Epoch: 360] [D loss: 0.694] [G loss: 0.52] [Speed: 12.98 it/s]\n",
      "[Epoch: 370] [D loss: 0.694] [G loss: 0.56] [Speed: 12.98 it/s]\n",
      "[Epoch: 380] [D loss: 0.694] [G loss: 0.533] [Speed: 13.86 it/s]\n",
      "[Epoch: 390] [D loss: 0.694] [G loss: 0.51] [Speed: 14.08 it/s]\n",
      "[Epoch: 400] [D loss: 0.694] [G loss: 0.546] [Speed: 13.51 it/s]\n",
      "[Epoch: 410] [D loss: 0.694] [G loss: 0.504] [Speed: 13.7 it/s]\n",
      "[Epoch: 420] [D loss: 0.694] [G loss: 0.534] [Speed: 13.51 it/s]\n",
      "[Epoch: 430] [D loss: 0.694] [G loss: 0.57] [Speed: 13.51 it/s]\n",
      "[Epoch: 440] [D loss: 0.694] [G loss: 0.523] [Speed: 13.16 it/s]\n",
      "[Epoch: 450] [D loss: 0.694] [G loss: 0.522] [Speed: 13.33 it/s]\n",
      "[Epoch: 460] [D loss: 0.694] [G loss: 0.548] [Speed: 13.51 it/s]\n",
      "[Epoch: 470] [D loss: 0.694] [G loss: 0.541] [Speed: 12.98 it/s]\n",
      "[Epoch: 480] [D loss: 0.694] [G loss: 0.563] [Speed: 12.98 it/s]\n",
      "[Epoch: 490] [D loss: 0.694] [G loss: 0.527] [Speed: 13.15 it/s]\n",
      "Time Used: 0m 39s\n",
      ".\n",
      ".\n",
      "Learning \"stops\" data......\n",
      "[Epoch: 0] [D loss: 0.75] [G loss: 2.0] [Speed: 0.7 it/s]\n",
      "[Epoch: 10] [D loss: 0.708] [G loss: 0.855] [Speed: 12.82 it/s]\n",
      "[Epoch: 20] [D loss: 0.7] [G loss: 0.792] [Speed: 13.15 it/s]\n",
      "[Epoch: 30] [D loss: 0.7] [G loss: 0.77] [Speed: 13.16 it/s]\n",
      "[Epoch: 40] [D loss: 0.7] [G loss: 0.736] [Speed: 12.34 it/s]\n",
      "[Epoch: 50] [D loss: 0.696] [G loss: 0.768] [Speed: 13.33 it/s]\n",
      "[Epoch: 60] [D loss: 0.698] [G loss: 0.692] [Speed: 13.7 it/s]\n",
      "[Epoch: 70] [D loss: 0.697] [G loss: 0.664] [Speed: 13.89 it/s]\n",
      "[Epoch: 80] [D loss: 0.699] [G loss: 0.69] [Speed: 13.15 it/s]\n",
      "[Epoch: 90] [D loss: 0.695] [G loss: 0.675] [Speed: 13.15 it/s]\n",
      "[Epoch: 100] [D loss: 0.696] [G loss: 0.678] [Speed: 13.33 it/s]\n",
      "[Epoch: 110] [D loss: 0.698] [G loss: 0.698] [Speed: 13.51 it/s]\n",
      "[Epoch: 120] [D loss: 0.696] [G loss: 0.693] [Speed: 13.51 it/s]\n",
      "[Epoch: 130] [D loss: 0.694] [G loss: 0.715] [Speed: 13.15 it/s]\n",
      "[Epoch: 140] [D loss: 0.696] [G loss: 0.67] [Speed: 13.33 it/s]\n",
      "[Epoch: 150] [D loss: 0.695] [G loss: 0.655] [Speed: 13.89 it/s]\n",
      "[Epoch: 160] [D loss: 0.695] [G loss: 0.684] [Speed: 13.51 it/s]\n",
      "[Epoch: 170] [D loss: 0.695] [G loss: 0.669] [Speed: 13.7 it/s]\n",
      "[Epoch: 180] [D loss: 0.695] [G loss: 0.669] [Speed: 13.51 it/s]\n",
      "[Epoch: 190] [D loss: 0.695] [G loss: 0.653] [Speed: 13.7 it/s]\n",
      "[Epoch: 200] [D loss: 0.695] [G loss: 0.648] [Speed: 13.33 it/s]\n",
      "[Epoch: 210] [D loss: 0.695] [G loss: 0.631] [Speed: 13.16 it/s]\n",
      "[Epoch: 220] [D loss: 0.696] [G loss: 0.648] [Speed: 13.33 it/s]\n",
      "[Epoch: 230] [D loss: 0.694] [G loss: 0.603] [Speed: 13.51 it/s]\n",
      "[Epoch: 240] [D loss: 0.695] [G loss: 0.65] [Speed: 13.7 it/s]\n",
      "[Epoch: 250] [D loss: 0.697] [G loss: 0.611] [Speed: 13.7 it/s]\n",
      "[Epoch: 260] [D loss: 0.694] [G loss: 0.609] [Speed: 12.34 it/s]\n",
      "[Epoch: 270] [D loss: 0.694] [G loss: 0.615] [Speed: 12.98 it/s]\n",
      "[Epoch: 280] [D loss: 0.694] [G loss: 0.594] [Speed: 13.7 it/s]\n",
      "[Epoch: 290] [D loss: 0.694] [G loss: 0.619] [Speed: 13.33 it/s]\n",
      "[Epoch: 300] [D loss: 0.694] [G loss: 0.586] [Speed: 13.51 it/s]\n",
      "[Epoch: 310] [D loss: 0.694] [G loss: 0.654] [Speed: 13.33 it/s]\n",
      "[Epoch: 320] [D loss: 0.694] [G loss: 0.607] [Speed: 13.33 it/s]\n",
      "[Epoch: 330] [D loss: 0.694] [G loss: 0.614] [Speed: 12.98 it/s]\n",
      "[Epoch: 340] [D loss: 0.694] [G loss: 0.578] [Speed: 12.98 it/s]\n",
      "[Epoch: 350] [D loss: 0.696] [G loss: 0.627] [Speed: 13.51 it/s]\n",
      "[Epoch: 360] [D loss: 0.694] [G loss: 0.63] [Speed: 12.98 it/s]\n",
      "[Epoch: 370] [D loss: 0.694] [G loss: 0.664] [Speed: 12.66 it/s]\n",
      "[Epoch: 380] [D loss: 0.694] [G loss: 0.625] [Speed: 13.7 it/s]\n",
      "[Epoch: 390] [D loss: 0.694] [G loss: 0.662] [Speed: 3.06 it/s]\n",
      "[Epoch: 400] [D loss: 0.694] [G loss: 0.632] [Speed: 12.82 it/s]\n",
      "[Epoch: 410] [D loss: 0.694] [G loss: 0.625] [Speed: 12.82 it/s]\n",
      "[Epoch: 420] [D loss: 0.694] [G loss: 0.667] [Speed: 13.33 it/s]\n",
      "[Epoch: 430] [D loss: 0.695] [G loss: 0.606] [Speed: 13.15 it/s]\n",
      "[Epoch: 440] [D loss: 0.694] [G loss: 0.632] [Speed: 13.7 it/s]\n",
      "[Epoch: 450] [D loss: 0.694] [G loss: 0.592] [Speed: 13.7 it/s]\n",
      "[Epoch: 460] [D loss: 0.694] [G loss: 0.623] [Speed: 13.33 it/s]\n",
      "[Epoch: 470] [D loss: 0.694] [G loss: 0.652] [Speed: 13.89 it/s]\n",
      "[Epoch: 480] [D loss: 0.694] [G loss: 0.639] [Speed: 13.15 it/s]\n",
      "[Epoch: 490] [D loss: 0.694] [G loss: 0.595] [Speed: 13.15 it/s]\n",
      "Time Used: 0m 39s\n",
      ".\n",
      ".\n",
      "Learning \"stop_times\" data......\n",
      "[Epoch: 0] [D loss: 0.753] [G loss: 0.603] [Speed: 0.72 it/s]\n",
      "[Epoch: 10] [D loss: 0.705] [G loss: 0.682] [Speed: 13.33 it/s]\n",
      "[Epoch: 20] [D loss: 0.698] [G loss: 0.61] [Speed: 13.15 it/s]\n",
      "[Epoch: 30] [D loss: 0.696] [G loss: 0.591] [Speed: 13.15 it/s]\n",
      "[Epoch: 40] [D loss: 0.697] [G loss: 0.606] [Speed: 13.15 it/s]\n",
      "[Epoch: 50] [D loss: 0.697] [G loss: 0.611] [Speed: 13.33 it/s]\n",
      "[Epoch: 60] [D loss: 0.698] [G loss: 0.584] [Speed: 13.89 it/s]\n",
      "[Epoch: 70] [D loss: 0.696] [G loss: 0.606] [Speed: 13.33 it/s]\n",
      "[Epoch: 80] [D loss: 0.695] [G loss: 0.603] [Speed: 12.98 it/s]\n",
      "[Epoch: 90] [D loss: 0.696] [G loss: 0.614] [Speed: 12.82 it/s]\n",
      "[Epoch: 100] [D loss: 0.695] [G loss: 0.586] [Speed: 13.51 it/s]\n",
      "[Epoch: 110] [D loss: 0.695] [G loss: 0.629] [Speed: 13.51 it/s]\n",
      "[Epoch: 120] [D loss: 0.695] [G loss: 0.613] [Speed: 12.98 it/s]\n",
      "[Epoch: 130] [D loss: 0.695] [G loss: 0.613] [Speed: 13.7 it/s]\n",
      "[Epoch: 140] [D loss: 0.697] [G loss: 0.619] [Speed: 13.89 it/s]\n",
      "[Epoch: 150] [D loss: 0.695] [G loss: 0.589] [Speed: 13.33 it/s]\n",
      "[Epoch: 160] [D loss: 0.694] [G loss: 0.589] [Speed: 12.98 it/s]\n",
      "[Epoch: 170] [D loss: 0.695] [G loss: 0.621] [Speed: 13.15 it/s]\n",
      "[Epoch: 180] [D loss: 0.694] [G loss: 0.627] [Speed: 13.15 it/s]\n",
      "[Epoch: 190] [D loss: 0.694] [G loss: 0.62] [Speed: 12.66 it/s]\n",
      "[Epoch: 200] [D loss: 0.694] [G loss: 0.635] [Speed: 13.7 it/s]\n",
      "[Epoch: 210] [D loss: 0.694] [G loss: 0.614] [Speed: 3.28 it/s]\n",
      "[Epoch: 220] [D loss: 0.694] [G loss: 0.608] [Speed: 12.82 it/s]\n",
      "[Epoch: 230] [D loss: 0.694] [G loss: 0.641] [Speed: 12.66 it/s]\n",
      "[Epoch: 240] [D loss: 0.694] [G loss: 0.64] [Speed: 12.82 it/s]\n",
      "[Epoch: 250] [D loss: 0.694] [G loss: 0.61] [Speed: 13.16 it/s]\n",
      "[Epoch: 260] [D loss: 0.694] [G loss: 0.594] [Speed: 13.15 it/s]\n",
      "[Epoch: 270] [D loss: 0.694] [G loss: 0.59] [Speed: 13.89 it/s]\n",
      "[Epoch: 280] [D loss: 0.694] [G loss: 0.616] [Speed: 13.51 it/s]\n",
      "[Epoch: 290] [D loss: 0.694] [G loss: 0.584] [Speed: 13.7 it/s]\n",
      "[Epoch: 300] [D loss: 0.694] [G loss: 0.602] [Speed: 13.33 it/s]\n",
      "[Epoch: 310] [D loss: 0.694] [G loss: 0.596] [Speed: 13.51 it/s]\n",
      "[Epoch: 320] [D loss: 0.694] [G loss: 0.581] [Speed: 13.33 it/s]\n",
      "[Epoch: 330] [D loss: 0.694] [G loss: 0.586] [Speed: 13.33 it/s]\n",
      "[Epoch: 340] [D loss: 0.694] [G loss: 0.562] [Speed: 13.15 it/s]\n",
      "[Epoch: 350] [D loss: 0.694] [G loss: 0.587] [Speed: 13.33 it/s]\n",
      "[Epoch: 360] [D loss: 0.694] [G loss: 0.571] [Speed: 13.51 it/s]\n",
      "[Epoch: 370] [D loss: 0.694] [G loss: 0.59] [Speed: 13.89 it/s]\n",
      "[Epoch: 380] [D loss: 0.694] [G loss: 0.576] [Speed: 13.16 it/s]\n",
      "[Epoch: 390] [D loss: 0.694] [G loss: 0.575] [Speed: 12.5 it/s]\n",
      "[Epoch: 400] [D loss: 0.694] [G loss: 0.578] [Speed: 13.33 it/s]\n",
      "[Epoch: 410] [D loss: 0.694] [G loss: 0.571] [Speed: 13.7 it/s]\n",
      "[Epoch: 420] [D loss: 0.694] [G loss: 0.565] [Speed: 13.7 it/s]\n",
      "[Epoch: 430] [D loss: 0.694] [G loss: 0.576] [Speed: 13.51 it/s]\n",
      "[Epoch: 440] [D loss: 0.694] [G loss: 0.56] [Speed: 13.7 it/s]\n",
      "[Epoch: 450] [D loss: 0.694] [G loss: 0.601] [Speed: 13.16 it/s]\n",
      "[Epoch: 460] [D loss: 0.694] [G loss: 0.562] [Speed: 13.15 it/s]\n",
      "[Epoch: 470] [D loss: 0.694] [G loss: 0.585] [Speed: 13.15 it/s]\n",
      "[Epoch: 480] [D loss: 0.694] [G loss: 0.609] [Speed: 13.15 it/s]\n",
      "[Epoch: 490] [D loss: 0.694] [G loss: 0.601] [Speed: 13.7 it/s]\n",
      "Time Used: 0m 39s\n",
      ".\n",
      ".\n",
      "Learning \"trips\" data......\n",
      "[Epoch: 0] [D loss: 0.812] [G loss: 0.996] [Speed: 0.87 it/s]\n",
      "[Epoch: 10] [D loss: 0.708] [G loss: 0.748] [Speed: 12.98 it/s]\n",
      "[Epoch: 20] [D loss: 0.699] [G loss: 0.852] [Speed: 13.51 it/s]\n",
      "[Epoch: 30] [D loss: 0.696] [G loss: 0.717] [Speed: 13.89 it/s]\n",
      "[Epoch: 40] [D loss: 0.697] [G loss: 0.773] [Speed: 13.51 it/s]\n",
      "[Epoch: 50] [D loss: 0.695] [G loss: 0.733] [Speed: 12.98 it/s]\n",
      "[Epoch: 60] [D loss: 0.695] [G loss: 0.748] [Speed: 13.51 it/s]\n",
      "[Epoch: 70] [D loss: 0.695] [G loss: 0.718] [Speed: 13.16 it/s]\n",
      "[Epoch: 80] [D loss: 0.695] [G loss: 0.682] [Speed: 13.16 it/s]\n",
      "[Epoch: 90] [D loss: 0.695] [G loss: 0.688] [Speed: 13.89 it/s]\n",
      "[Epoch: 100] [D loss: 0.694] [G loss: 0.692] [Speed: 12.98 it/s]\n",
      "[Epoch: 110] [D loss: 0.696] [G loss: 0.664] [Speed: 13.51 it/s]\n",
      "[Epoch: 120] [D loss: 0.696] [G loss: 0.675] [Speed: 13.7 it/s]\n",
      "[Epoch: 130] [D loss: 0.695] [G loss: 0.656] [Speed: 13.51 it/s]\n",
      "[Epoch: 140] [D loss: 0.694] [G loss: 0.655] [Speed: 13.33 it/s]\n",
      "[Epoch: 150] [D loss: 0.694] [G loss: 0.64] [Speed: 14.08 it/s]\n",
      "[Epoch: 160] [D loss: 0.694] [G loss: 0.643] [Speed: 13.89 it/s]\n",
      "[Epoch: 170] [D loss: 0.694] [G loss: 0.684] [Speed: 13.7 it/s]\n",
      "[Epoch: 180] [D loss: 0.694] [G loss: 0.642] [Speed: 13.7 it/s]\n",
      "[Epoch: 190] [D loss: 0.694] [G loss: 0.645] [Speed: 13.89 it/s]\n",
      "[Epoch: 200] [D loss: 0.694] [G loss: 0.663] [Speed: 12.98 it/s]\n",
      "[Epoch: 210] [D loss: 0.694] [G loss: 0.655] [Speed: 13.33 it/s]\n",
      "[Epoch: 220] [D loss: 0.695] [G loss: 0.675] [Speed: 13.51 it/s]\n",
      "[Epoch: 230] [D loss: 0.694] [G loss: 0.643] [Speed: 13.33 it/s]\n",
      "[Epoch: 240] [D loss: 0.694] [G loss: 0.64] [Speed: 13.7 it/s]\n",
      "[Epoch: 250] [D loss: 0.694] [G loss: 0.65] [Speed: 13.7 it/s]\n",
      "[Epoch: 260] [D loss: 0.694] [G loss: 0.722] [Speed: 13.33 it/s]\n",
      "[Epoch: 270] [D loss: 0.694] [G loss: 0.656] [Speed: 13.15 it/s]\n",
      "[Epoch: 280] [D loss: 0.694] [G loss: 0.669] [Speed: 13.15 it/s]\n",
      "[Epoch: 290] [D loss: 0.694] [G loss: 0.685] [Speed: 13.15 it/s]\n",
      "[Epoch: 300] [D loss: 0.696] [G loss: 0.661] [Speed: 13.51 it/s]\n",
      "[Epoch: 310] [D loss: 0.694] [G loss: 0.652] [Speed: 13.7 it/s]\n",
      "[Epoch: 320] [D loss: 0.694] [G loss: 0.646] [Speed: 13.33 it/s]\n",
      "[Epoch: 330] [D loss: 0.694] [G loss: 0.65] [Speed: 13.7 it/s]\n",
      "[Epoch: 340] [D loss: 0.694] [G loss: 0.679] [Speed: 13.51 it/s]\n",
      "[Epoch: 350] [D loss: 0.694] [G loss: 0.613] [Speed: 13.7 it/s]\n",
      "[Epoch: 360] [D loss: 0.694] [G loss: 0.625] [Speed: 13.33 it/s]\n",
      "[Epoch: 370] [D loss: 0.695] [G loss: 0.658] [Speed: 13.15 it/s]\n",
      "[Epoch: 380] [D loss: 0.695] [G loss: 0.647] [Speed: 13.51 it/s]\n",
      "[Epoch: 390] [D loss: 0.694] [G loss: 0.608] [Speed: 13.7 it/s]\n",
      "[Epoch: 400] [D loss: 0.694] [G loss: 0.666] [Speed: 13.51 it/s]\n",
      "[Epoch: 410] [D loss: 0.694] [G loss: 0.662] [Speed: 12.98 it/s]\n",
      "[Epoch: 420] [D loss: 0.694] [G loss: 0.663] [Speed: 13.89 it/s]\n",
      "[Epoch: 430] [D loss: 0.694] [G loss: 0.598] [Speed: 13.51 it/s]\n",
      "[Epoch: 440] [D loss: 0.694] [G loss: 0.625] [Speed: 13.7 it/s]\n",
      "[Epoch: 450] [D loss: 0.694] [G loss: 0.644] [Speed: 13.33 it/s]\n",
      "[Epoch: 460] [D loss: 0.694] [G loss: 0.641] [Speed: 13.15 it/s]\n",
      "[Epoch: 470] [D loss: 0.694] [G loss: 0.625] [Speed: 13.89 it/s]\n",
      "[Epoch: 480] [D loss: 0.694] [G loss: 0.634] [Speed: 13.89 it/s]\n",
      "[Epoch: 490] [D loss: 0.694] [G loss: 0.636] [Speed: 13.89 it/s]\n",
      "Time Used: 0m 39s\n",
      ".\n",
      ".\n"
     ]
    },
    {
     "data": {
      "image/png": "[encoded data removed]",
      "text/plain": [
       "<Figure size 1500x1500 with 7 Axes>"
      ]
     },
     "metadata": {},
     "output_type": "display_data"
    },
    {
     "name": "stdout",
     "output_type": "stream",
     "text": [
      "Total Time Used: 4m 35s\n"
     ]
    }
   ],
   "source": [
    "collection_training(processed_data_collection, training_parameter_dict)"
   ]
  },
  {
   "cell_type": "markdown",
   "id": "37613df5-a0f7-4158-90e9-39c2f683bb49",
   "metadata": {},
   "source": [
    "# Synthetic Data Generation"
   ]
  },
  {
   "cell_type": "code",
   "execution_count": 41,
   "id": "d8ddd453-c6bc-4c39-9b68-b696eb95f2d3",
   "metadata": {},
   "outputs": [],
   "source": [
    "# table_name:\n",
    "# {'table':table, # df\n",
    "#  'labels':labels, # df\n",
    "#  'scaler':scaler, # a scaler object\n",
    "#  'table_col_names':table_columns, # list of col names\n",
    "#  'label_col_names':label_columns, # list of col names\n",
    "#  'metadata':metadata[df_name]} # a metadata dict (see below)\n",
    "\n",
    "# metadata\n",
    "# {'primary_key':primary_key, # list, [column names, number_of_unique_ids]\n",
    "#  'parent':parent, # dict, {parent_name:shared_id_column_name, ...}\n",
    "#  'child':child} # str, child_name"
   ]
  },
  {
   "cell_type": "code",
   "execution_count": 42,
   "id": "07ad6ba0-ff4e-404f-8196-c02fdfba9b70",
   "metadata": {},
   "outputs": [],
   "source": [
    "# def generate_individual_synth_data(generator, labels, seed=123):\n",
    "#     pass"
   ]
  },
  {
   "cell_type": "code",
   "execution_count": 43,
   "id": "d5f5c4ed-f7f2-4a89-bce2-57a32fba3474",
   "metadata": {},
   "outputs": [],
   "source": [
    "def generate_synth_data_collection(processed_data_collection, generation_dict, latent_dim=100, seed=123):\n",
    "    synthetic_data_collection = {}\n",
    "    features_to_ignore_rounding = ['shape_pt_lat',\n",
    "                      'shape_pt_lon',\n",
    "                      'stop_lat',\n",
    "                      'stop_lon',\n",
    "                     'shape_dist_traveled']\n",
    "    for df_name, content in processed_data_collection.items():\n",
    "        generator = models.load_model('models/'+df_name+'_gan.h5')\n",
    "        primary_key = content['metadata']['primary_key']\n",
    "        child = content['metadata']['child']\n",
    "        parent = content['metadata']['parent']\n",
    "        fake_labels_df_dict = {}\n",
    "        if primary_key != []:\n",
    "            primary_key_col = primary_key[0]\n",
    "            n_primary_keys = generation_dict[df_name]['nrows']\n",
    "            fake_labels_df_dict[primary_key_col] = np.arange(n_primary_keys).tolist()\n",
    "        if parent != {}:\n",
    "            for parent_df_name, fr_key in parent.items():\n",
    "                n_foreign_primary_keys = generation_dict[parent_df_name]['nrows']\n",
    "                length = generation_dict[df_name]['nrows']\n",
    "                fake_labels_df_dict[fr_key] = np.random.randint(0, n_foreign_primary_keys+1, length).tolist()\n",
    "        fake_labels_df = pd.DataFrame(fake_labels_df_dict).reindex(columns=content['label_col_names'])\n",
    "        scaled_fake_labels_df = pd.DataFrame(content['labels_scaler'].transform(fake_labels_df), columns=content['label_col_names'])\n",
    "        noise = np.random.normal(0, 1, (generation_dict[df_name]['nrows'], latent_dim))\n",
    "        raw_fake_table = generator.predict([noise, scaled_fake_labels_df])\n",
    "        scaled_fake_table = content['table_scaler'].inverse_transform(raw_fake_table)\n",
    "        fake_table_df = pd.DataFrame(scaled_fake_table, columns=content['table_col_names'])\n",
    "        fake_data = pd.concat([fake_labels_df, fake_table_df], axis=1)\n",
    "        \n",
    "        columns_to_int = [col for col in fake_data.columns if col not in features_to_ignore_rounding]\n",
    "        for col in columns_to_int:\n",
    "            fake_data[col] = fake_data[col].round().astype(int)\n",
    "                \n",
    "        synthetic_data_collection[df_name] = fake_data\n",
    "        \n",
    "    return synthetic_data_collection"
   ]
  },
  {
   "cell_type": "code",
   "execution_count": 44,
   "id": "9bc7f2c3-5040-423d-8e40-c8e4f7f87e2e",
   "metadata": {},
   "outputs": [],
   "source": [
    "generation_dict = {k:{'nrows':len(v['table'])} for k,v in processed_data_collection.items()}"
   ]
  },
  {
   "cell_type": "code",
   "execution_count": 45,
   "id": "1e39be14-abfa-422e-a33a-f6333dc191a1",
   "metadata": {},
   "outputs": [
    {
     "data": {
      "text/plain": [
       "{'agency': {'nrows': 15},\n",
       " 'calendar': {'nrows': 121},\n",
       " 'calendar_dates': {'nrows': 674},\n",
       " 'routes': {'nrows': 215},\n",
       " 'stops': {'nrows': 6714},\n",
       " 'stop_times': {'nrows': 966790},\n",
       " 'trips': {'nrows': 32403}}"
      ]
     },
     "execution_count": 45,
     "metadata": {},
     "output_type": "execute_result"
    }
   ],
   "source": [
    "generation_dict"
   ]
  },
  {
   "cell_type": "code",
   "execution_count": 46,
   "id": "1af7da14-2d7d-4c16-80e0-5c51f93f8675",
   "metadata": {
    "scrolled": true,
    "tags": []
   },
   "outputs": [],
   "source": [
    "synthetic_data_collection = generate_synth_data_collection(processed_data_collection, generation_dict)"
   ]
  },
  {
   "cell_type": "code",
   "execution_count": 47,
   "id": "00031171-a342-4101-950f-2d741f2abc8d",
   "metadata": {
    "scrolled": true,
    "tags": []
   },
   "outputs": [
    {
     "data": {
      "text/plain": [
       "{'agency':     agency_id  agency_name  agency_url  agency_timezone  agency_lang  \\\n",
       " 0           0           11           1                1            1   \n",
       " 1           1           11           1                1            1   \n",
       " 2           2            8           1                1            1   \n",
       " 3           3            9           1                1            1   \n",
       " 4           4           10           1                1            1   \n",
       " 5           5           11           1                1            1   \n",
       " 6           6            8           1                1            1   \n",
       " 7           7           10           1                1            1   \n",
       " 8           8           11           1                1            1   \n",
       " 9           9            8           1                1            1   \n",
       " 10         10           11           1                1            1   \n",
       " 11         11            8           1                1            1   \n",
       " 12         12           11           1                1            1   \n",
       " 13         13           11           1                1            1   \n",
       " 14         14           11           1                1            1   \n",
       " \n",
       "     agency_phone  \n",
       " 0       93553552  \n",
       " 1       93553552  \n",
       " 2       93553552  \n",
       " 3       93553552  \n",
       " 4       93553552  \n",
       " 5       93553552  \n",
       " 6       93553552  \n",
       " 7       93553552  \n",
       " 8       93553552  \n",
       " 9       93553552  \n",
       " 10      93553552  \n",
       " 11      93553552  \n",
       " 12      93553552  \n",
       " 13      93553552  \n",
       " 14      93553552  ,\n",
       " 'calendar':      service_id  monday  tuesday  wednesday  thursday  friday  saturday  \\\n",
       " 0             0       1        1          1         0       1         0   \n",
       " 1             1       1        1          1         0       1         0   \n",
       " 2             2       1        1          1         0       1         0   \n",
       " 3             3       1        1          1         0       1         0   \n",
       " 4             4       1        1          1         0       1         0   \n",
       " ..          ...     ...      ...        ...       ...     ...       ...   \n",
       " 116         116       1        1          1         0       1         0   \n",
       " 117         117       1        1          1         0       1         0   \n",
       " 118         118       1        1          1         0       1         0   \n",
       " 119         119       1        1          1         0       1         0   \n",
       " 120         120       1        1          1         0       1         0   \n",
       " \n",
       "      sunday  start_date  end_date  \n",
       " 0         0       44997     45053  \n",
       " 1         0       44997     45054  \n",
       " 2         0       44997     45053  \n",
       " 3         0       44997     45053  \n",
       " 4         0       44997     45053  \n",
       " ..      ...         ...       ...  \n",
       " 116       0       44997     45053  \n",
       " 117       0       44997     45053  \n",
       " 118       0       44997     45053  \n",
       " 119       0       44997     45053  \n",
       " 120       0       44997     45053  \n",
       " \n",
       " [121 rows x 10 columns],\n",
       " 'calendar_dates':      service_id   date  exception_type\n",
       " 0            63  45032               2\n",
       " 1            39  45017               2\n",
       " 2            71  45017               2\n",
       " 3            62  45017               2\n",
       " 4           107  45018               2\n",
       " ..          ...    ...             ...\n",
       " 669          40  45018               2\n",
       " 670          60  45022               2\n",
       " 671          97  45018               2\n",
       " 672          18  45018               2\n",
       " 673           0  45018               2\n",
       " \n",
       " [674 rows x 3 columns],\n",
       " 'routes':      route_id  agency_id  route_short_name  route_long_name  route_type  \\\n",
       " 0           0         10               107              169           3   \n",
       " 1           1         11               107              169           3   \n",
       " 2           2         15               107              169           3   \n",
       " 3           3          4               107              169           3   \n",
       " 4           4          8               107              169           3   \n",
       " ..        ...        ...               ...              ...         ...   \n",
       " 210       210          1               107              169           3   \n",
       " 211       211         11               107              169           3   \n",
       " 212       212          6               107              169           3   \n",
       " 213       213         13               107              169           3   \n",
       " 214       214          1               107              169           3   \n",
       " \n",
       "      route_color  route_text_color  contract_id  \n",
       " 0              3                 1           45  \n",
       " 1              3                 1           45  \n",
       " 2              2                 0           45  \n",
       " 3              3                 1           45  \n",
       " 4              3                 1           45  \n",
       " ..           ...               ...          ...  \n",
       " 210            2                 1           45  \n",
       " 211            2                 1           45  \n",
       " 212            3                 1           45  \n",
       " 213            3                 1           45  \n",
       " 214            3                 1           45  \n",
       " \n",
       " [215 rows x 8 columns],\n",
       " 'stops':       stop_id  stop_code  stop_name   stop_lat    stop_lon  location_type  \\\n",
       " 0           0      11533       3278 -36.758331  174.779434              0   \n",
       " 1           1      11533       3278 -36.759186  174.779434              0   \n",
       " 2           2      11533       3278 -36.757935  174.779434              0   \n",
       " 3           3      11533       3278 -36.763786  174.779434              0   \n",
       " 4           4      11533       3278 -36.757420  174.779434              0   \n",
       " ...       ...        ...        ...        ...         ...            ...   \n",
       " 6709     6709      11533       3278 -36.758869  174.779434              0   \n",
       " 6710     6710      11533       3278 -36.757309  174.779434              0   \n",
       " 6711     6711      11533       3278 -36.757454  174.779434              0   \n",
       " 6712     6712      11533       3278 -36.757801  174.779434              0   \n",
       " 6713     6713      11533       3278 -36.760403  174.779434              0   \n",
       " \n",
       "       parent_station  platform_code  wheelchair_boarding  start_date  end_date  \n",
       " 0                  3              2                    0       44994     45064  \n",
       " 1                  4              2                    0       44994     45064  \n",
       " 2                  3              2                    0       44994     45064  \n",
       " 3                  5              2                    0       44994     45064  \n",
       " 4                  3              2                    0       44994     45064  \n",
       " ...              ...            ...                  ...         ...       ...  \n",
       " 6709               4              2                    0       44994     45064  \n",
       " 6710               3              2                    0       44994     45064  \n",
       " 6711               3              2                    0       44994     45064  \n",
       " 6712               3              2                    0       44994     45064  \n",
       " 6713               4              2                    0       44994     45064  \n",
       " \n",
       " [6714 rows x 11 columns],\n",
       " 'stop_times':         stop_id  trip_id  arrival_time  departure_time  stop_sequence  \\\n",
       " 0           285    31713         68392           50785             32   \n",
       " 1          5651    11611         68392           50785             32   \n",
       " 2          4911    19174         68392           50785             32   \n",
       " 3          2224    25615         68392           50785             32   \n",
       " 4          3227    27319         68392           50785             32   \n",
       " ...         ...      ...           ...             ...            ...   \n",
       " 966785     2274      300         68392           50785             32   \n",
       " 966786     5572    29466         68392           50785             32   \n",
       " 966787     3445    13444         68392           50785             32   \n",
       " 966788      299    16351         68392           50785             32   \n",
       " 966789     6705    29919         68392           50785             32   \n",
       " \n",
       "         stop_headsign  pickup_type  drop_off_type  shape_dist_traveled  \\\n",
       " 0                 104            0              0            11.800057   \n",
       " 1                 104            0              0            11.940230   \n",
       " 2                 104            0              0            12.289274   \n",
       " 3                 104            0              0            11.772580   \n",
       " 4                 104            0              0            12.103374   \n",
       " ...               ...          ...            ...                  ...   \n",
       " 966785            104            0              0            11.835808   \n",
       " 966786            104            0              0            11.653880   \n",
       " 966787            104            0              0            12.086840   \n",
       " 966788            104            0              0            12.136474   \n",
       " 966789            104            0              0            12.131067   \n",
       " \n",
       "         timepoint  \n",
       " 0               0  \n",
       " 1               0  \n",
       " 2               0  \n",
       " 3               0  \n",
       " 4               0  \n",
       " ...           ...  \n",
       " 966785          0  \n",
       " 966786          0  \n",
       " 966787          0  \n",
       " 966788          0  \n",
       " 966789          0  \n",
       " \n",
       " [966790 rows x 10 columns],\n",
       " 'trips':        trip_id  service_id  route_id  trip_headsign  direction_id  shape_id  \\\n",
       " 0            0          15        31            463             0       316   \n",
       " 1            1          69        96            463             0       316   \n",
       " 2            2          12        91            463             0       316   \n",
       " 3            3          87       101            463             0       317   \n",
       " 4            4          20       138            463             0       316   \n",
       " ...        ...         ...       ...            ...           ...       ...   \n",
       " 32398    32398          15       205            463             0       316   \n",
       " 32399    32399          96        41            463             0       316   \n",
       " 32400    32400           7        76            463             0       316   \n",
       " 32401    32401          67       100            463             0       316   \n",
       " 32402    32402          37        53            463             0       316   \n",
       " \n",
       "        wheelchair_accessible  bikes_allowed  \n",
       " 0                          1              0  \n",
       " 1                          1              0  \n",
       " 2                          1              0  \n",
       " 3                          1              0  \n",
       " 4                          1              0  \n",
       " ...                      ...            ...  \n",
       " 32398                      1              0  \n",
       " 32399                      1              0  \n",
       " 32400                      1              0  \n",
       " 32401                      1              0  \n",
       " 32402                      1              0  \n",
       " \n",
       " [32403 rows x 8 columns]}"
      ]
     },
     "execution_count": 47,
     "metadata": {},
     "output_type": "execute_result"
    }
   ],
   "source": [
    "synthetic_data_collection"
   ]
  },
  {
   "cell_type": "markdown",
   "id": "93c53d11-a98d-4905-89c9-5c65098d82c4",
   "metadata": {},
   "source": [
    "# Metrics"
   ]
  },
  {
   "cell_type": "markdown",
   "id": "c6d8f9a7-ec7c-4eff-9a6a-91689c04619e",
   "metadata": {},
   "source": [
    "## Pre-metrics Data Processing"
   ]
  },
  {
   "cell_type": "code",
   "execution_count": 48,
   "id": "8066311d-d2e5-4892-aece-ef5f685fd00e",
   "metadata": {},
   "outputs": [],
   "source": [
    "def convert_to_dataframe_collection(processed_data_collection):\n",
    "    new_dict = {}\n",
    "    features_to_ignore_rounding = ['shape_pt_lat',\n",
    "                      'shape_pt_lon',\n",
    "                      'stop_lat',\n",
    "                      'stop_lon',\n",
    "                     'shape_dist_traveled']\n",
    "    for df_name, content in processed_data_collection.items():\n",
    "        labels_scaler = content['labels_scaler']\n",
    "        table_scaler = content['table_scaler']\n",
    "        labels = content['labels']\n",
    "        table = content['table']\n",
    "        labels = pd.DataFrame(labels_scaler.inverse_transform(labels),columns = content['label_col_names'])\n",
    "        table = pd.DataFrame(table_scaler.inverse_transform(table),columns = content['table_col_names'])\n",
    "        new_df = pd.concat([labels, table], axis=1)\n",
    "        columns_to_int = [col for col in new_df.columns if col not in features_to_ignore_rounding]\n",
    "        for col in columns_to_int:\n",
    "            new_df[col] = new_df[col].round().astype(int)\n",
    "        new_dict[df_name] = new_df\n",
    "    return new_dict"
   ]
  },
  {
   "cell_type": "markdown",
   "id": "1df23cd7-662e-49a7-a51d-e77da5ec08eb",
   "metadata": {},
   "source": [
    "## Single-Table Metrics"
   ]
  },
  {
   "cell_type": "markdown",
   "id": "b2f629f9-9cd2-47dc-ade3-dc97edd07a25",
   "metadata": {},
   "source": [
    "### Basic Cosine Similarity Test"
   ]
  },
  {
   "cell_type": "code",
   "execution_count": 49,
   "id": "6227efd9-8e40-46eb-8a35-63ad5122e1bd",
   "metadata": {},
   "outputs": [],
   "source": [
    "def cos_test(fake_collection, real_collection, repetitions=100, sample_size=1000, random_state=123):\n",
    "    test_dict = {}\n",
    "    for df_name in fake_collection.keys():\n",
    "        # rng = np.random.default_rng()\n",
    "        mean_cos = []\n",
    "        for _ in range(repetitions):\n",
    "            # fake_data_idx = rng.choice(fake_collection[df_name].shape[0], size=sample_size, replace=True)\n",
    "            # real_data_idx = rng.choice(real_collection[df_name].shape[0], size=sample_size, replace=True)\n",
    "            if fake_collection[df_name].shape[0] > sample_size and real_collection[df_name].shape[0] > sample_size:\n",
    "                replace = False\n",
    "            else:\n",
    "                replace = True\n",
    "            fake_sample = fake_collection[df_name].sample(sample_size, replace=replace, random_state=random_state)\n",
    "            real_sample = real_collection[df_name].sample(sample_size, replace=replace, random_state=random_state)\n",
    "            mean_cos.append(np.mean(metrics.pairwise.cosine_similarity(fake_sample, real_sample)))\n",
    "            random_state += 1\n",
    "        test_dict[df_name] = np.mean(mean_cos)\n",
    "    return test_dict"
   ]
  },
  {
   "cell_type": "code",
   "execution_count": 50,
   "id": "c7ce6995-c917-4430-b8fe-84dedccbd2d3",
   "metadata": {},
   "outputs": [
    {
     "data": {
      "text/plain": [
       "{'agency': 0.9999999999999978,\n",
       " 'calendar': 0.9999996758714543,\n",
       " 'calendar_dates': 0.9999993502959811,\n",
       " 'routes': 0.922014653971782,\n",
       " 'stops': 0.9921068093126679,\n",
       " 'stop_times': 0.9652468822112908,\n",
       " 'trips': 0.9760262942621775}"
      ]
     },
     "execution_count": 50,
     "metadata": {},
     "output_type": "execute_result"
    }
   ],
   "source": [
    "cos_test(synthetic_data_collection, convert_to_dataframe_collection(processed_data_collection))"
   ]
  },
  {
   "cell_type": "markdown",
   "id": "b7960f4a-6c3f-4257-916e-3af51ef0cb01",
   "metadata": {},
   "source": [
    "### PCA Cosine Similarity Test"
   ]
  },
  {
   "cell_type": "code",
   "execution_count": 51,
   "id": "1c541916-3977-45d9-8aae-c2119f375619",
   "metadata": {},
   "outputs": [],
   "source": [
    "def pca_cos_test(fake_collection, real_collection, repetitions=100, sample_size=1000, random_state=123):\n",
    "    test_dict = {}\n",
    "    for df_name in fake_collection.keys():\n",
    "        if fake_collection[df_name].shape[0] > 1 and real_collection[df_name].shape[0]:\n",
    "            pca = PCA(n_components=2)\n",
    "            fake_data = pd.DataFrame(pca.fit_transform(fake_collection[df_name]))\n",
    "            pca = PCA(n_components=2)\n",
    "            real_data = pd.DataFrame(pca.fit_transform(real_collection[df_name]))\n",
    "        else:\n",
    "            continue\n",
    "        mean_cos = []\n",
    "        for _ in range(repetitions):\n",
    "            # fake_data_idx = rng.choice(fake_collection[df_name].shape[0], size=sample_size, replace=True)\n",
    "            # real_data_idx = rng.choice(real_collection[df_name].shape[0], size=sample_size, replace=True)\n",
    "            if fake_data.shape[0] > sample_size and real_data.shape[0] > sample_size:\n",
    "                replace = False\n",
    "            else:\n",
    "                replace = True\n",
    "            fake_sample = fake_data.sample(sample_size, replace=replace, random_state=random_state)\n",
    "            real_sample = real_data.sample(sample_size, replace=replace, random_state=random_state)\n",
    "            mean_cos.append(np.mean(metrics.pairwise.cosine_similarity(fake_sample, real_sample)))\n",
    "            random_state += 1\n",
    "        test_dict[df_name] = np.mean(mean_cos)\n",
    "    return test_dict"
   ]
  },
  {
   "cell_type": "code",
   "execution_count": 52,
   "id": "67f3369b-8c9f-44ca-a69e-39e17b54febe",
   "metadata": {},
   "outputs": [
    {
     "data": {
      "text/plain": [
       "{'agency': -0.0008929231901623226,\n",
       " 'calendar': 0.005102280177807245,\n",
       " 'calendar_dates': -0.00036768397548742635,\n",
       " 'routes': -0.0022324573518007467,\n",
       " 'stops': -0.0006184504399077129,\n",
       " 'stop_times': -9.65752283878538e-05,\n",
       " 'trips': -0.00034907155979731}"
      ]
     },
     "execution_count": 52,
     "metadata": {},
     "output_type": "execute_result"
    }
   ],
   "source": [
    "pca_cos_test(synthetic_data_collection, convert_to_dataframe_collection(processed_data_collection))"
   ]
  },
  {
   "cell_type": "markdown",
   "id": "cf3cf25c-9be0-426f-abdb-ed571899cc87",
   "metadata": {},
   "source": [
    "### KS (Kolmogorov-Smirnov) Test"
   ]
  },
  {
   "cell_type": "code",
   "execution_count": 53,
   "id": "a82e562a-3882-4401-975d-3ffdc7a4c6ac",
   "metadata": {},
   "outputs": [],
   "source": [
    "def batch_ks_test(fake_collection, real_collection, repetitions=100, sample_size=1000, random_state=123):\n",
    "    test_dict = {}\n",
    "    for df_name in fake_collection.keys():\n",
    "        mean_k_stats = []\n",
    "        mean_p_value = []\n",
    "        for _ in range(repetitions):\n",
    "            # fake_data_idx = rng.choice(fake_collection[df_name].shape[0], size=sample_size, replace=True)\n",
    "            # real_data_idx = rng.choice(real_collection[df_name].shape[0], size=sample_size, replace=True)\n",
    "            if fake_collection[df_name].shape[0] > sample_size and real_collection[df_name].shape[0] > sample_size:\n",
    "                replace = False\n",
    "            else:\n",
    "                replace = True\n",
    "            fake_sample = fake_collection[df_name].sample(sample_size, replace=replace, random_state=random_state)\n",
    "            real_sample = real_collection[df_name].sample(sample_size, replace=replace, random_state=random_state)\n",
    "            col_mean_k_stats = []\n",
    "            col_mean_p_value = []\n",
    "            for col_idx in range(fake_collection[df_name].shape[1]):\n",
    "                fake_col = fake_sample.iloc[:, col_idx]\n",
    "                real_col = real_sample.iloc[:, col_idx]\n",
    "                k_stats, p_value = kstest(fake_col, real_col)\n",
    "                col_mean_k_stats.append(k_stats)\n",
    "                col_mean_p_value.append(p_value)\n",
    "            mean_k_stats.append(np.mean(col_mean_k_stats))\n",
    "            mean_p_value.append(np.mean(col_mean_p_value))\n",
    "            random_state += 1\n",
    "        test_dict[df_name] = test_dict[df_name] = {'k_stats':np.mean(mean_k_stats), 'p_value':np.mean(mean_p_value)}\n",
    "    return test_dict"
   ]
  },
  {
   "cell_type": "code",
   "execution_count": 54,
   "id": "45fbd436-53f5-401c-b380-38f12e9b4a80",
   "metadata": {},
   "outputs": [
    {
     "name": "stderr",
     "output_type": "stream",
     "text": [
      "C:\\programs\\conda\\envs\\tfgpu\\lib\\site-packages\\scipy\\stats\\_stats_py.py:8385: RuntimeWarning: ks_2samp: Exact calculation unsuccessful. Switching to method=asymp.\n",
      "  return ks_2samp(xvals, yvals, alternative=alternative, method=method)\n"
     ]
    },
    {
     "data": {
      "text/plain": [
       "{'agency': {'k_stats': 0.7555366666666665, 'p_value': 0.1666666666666667},\n",
       " 'calendar': {'k_stats': 0.5243950000000001, 'p_value': 0.09999999999999998},\n",
       " 'calendar_dates': {'k_stats': 0.33445666666666674,\n",
       "  'p_value': 3.414947454153766e-05},\n",
       " 'routes': {'k_stats': 0.50286, 'p_value': 0.13921421011059348},\n",
       " 'stops': {'k_stats': 0.6428945454545455, 'p_value': 0.27134632879277104},\n",
       " 'stop_times': {'k_stats': 0.40487599999999996, 'p_value': 0.2582043503264015},\n",
       " 'trips': {'k_stats': 0.42377875000000004, 'p_value': 0.2254034434040997}}"
      ]
     },
     "execution_count": 54,
     "metadata": {},
     "output_type": "execute_result"
    }
   ],
   "source": [
    "batch_ks_test(synthetic_data_collection, convert_to_dataframe_collection(processed_data_collection))"
   ]
  },
  {
   "cell_type": "markdown",
   "id": "4d28b1da-007f-466d-ba30-6c091a69646c",
   "metadata": {},
   "source": [
    "### JSD (Jensen-Shannon Distance) Test"
   ]
  },
  {
   "cell_type": "code",
   "execution_count": 55,
   "id": "2fb972e6-e39d-4e9c-86f0-6ae95929e874",
   "metadata": {},
   "outputs": [],
   "source": [
    "# def jsd_test(fake_collection, real_collection, repetitions=100, sample_size=1000, random_state=123):\n",
    "#     test_dict = {}\n",
    "#     for df_name in fake_collection.keys():\n",
    "#         mean_jsd = []\n",
    "#         for _ in range(repetitions):\n",
    "#             # fake_data_idx = rng.choice(fake_collection[df_name].shape[0], size=sample_size, replace=True)\n",
    "#             # real_data_idx = rng.choice(real_collection[df_name].shape[0], size=sample_size, replace=True)\n",
    "#             if fake_collection[df_name].shape[0] > sample_size and real_collection[df_name].shape[0] > sample_size:\n",
    "#                 replace = False\n",
    "#             else:\n",
    "#                 replace = True\n",
    "#             fake_sample = fake_collection[df_name].sample(sample_size, replace=replace, random_state=random_state)\n",
    "#             real_sample = real_collection[df_name].sample(sample_size, replace=replace, random_state=random_state)\n",
    "#             col_jsd_means = []\n",
    "#             for col_idx in range(fake_sample.shape[1]):\n",
    "#                 fake_col = fake_sample.iloc[:, col_idx]\n",
    "#                 real_col = real_sample.iloc[:, col_idx]\n",
    "#                 jsd = jensenshannon(fake_col, real_col)\n",
    "#                 col_jsd_means.append(jsd)\n",
    "#             mean_jsd.append(np.mean(col_jsd_means))\n",
    "#             random_state += 1\n",
    "#         test_dict[df_name] = test_dict[df_name] = np.mean(mean_jsd)\n",
    "#     return test_dict"
   ]
  },
  {
   "cell_type": "code",
   "execution_count": 56,
   "id": "c6448548-ee57-40bd-b8f7-7251315bbf1d",
   "metadata": {},
   "outputs": [],
   "source": [
    "# jsd_test(synthetic_data_collection, real_data_collection)"
   ]
  },
  {
   "cell_type": "markdown",
   "id": "c172af6f-cfa0-4dd6-8493-a0fb13d1e890",
   "metadata": {},
   "source": [
    "## Multi-Table Metrics"
   ]
  },
  {
   "cell_type": "markdown",
   "id": "77e7ff51-fe7b-4e06-94ad-134ef5b0892b",
   "metadata": {},
   "source": [
    "### Cardinality Test"
   ]
  },
  {
   "cell_type": "code",
   "execution_count": 57,
   "id": "9aabe487-ecd6-4b62-ba6f-bd045ccbe8f3",
   "metadata": {},
   "outputs": [],
   "source": [
    "# cardinality = {}\n",
    "\n",
    "# for parent, children in join_metadata.items():\n",
    "#     parent_df = real_data_collection[parent]\n",
    "#     for child, join_columns in children.items():\n",
    "#         child_df = real_data_collection[child]\n",
    "#         parent_col, child_col = join_columns\n",
    "\n",
    "#         # Perform the join operation\n",
    "#         joined_df = parent_df.merge(child_df, left_on=parent_col, right_on=child_col)\n",
    "\n",
    "#         # Group by the parent join column and count the number of rows in each group\n",
    "#         grouped_counts = joined_df.groupby(parent_col).size()\n",
    "\n",
    "#         # Store the cardinality in the dictionary\n",
    "#         cardinality[f'{parent}_{child}'] = grouped_counts\n",
    "# cardinality"
   ]
  },
  {
   "cell_type": "code",
   "execution_count": 58,
   "id": "759fde8d-35bf-4ffc-8b07-0672348bf205",
   "metadata": {},
   "outputs": [],
   "source": [
    "def calculate_cardinality(dataframes, relations):\n",
    "    cardinality = {}\n",
    "    for parent, children in relations.items():\n",
    "        parent_df = dataframes[parent]\n",
    "        for child, join_columns in children.items():\n",
    "            child_df = dataframes[child]\n",
    "            parent_col, child_col = join_columns\n",
    "\n",
    "            joined_df = parent_df.merge(child_df, left_on=parent_col, right_on=child_col)\n",
    "            grouped_counts = joined_df.groupby(parent_col).size()\n",
    "\n",
    "            cardinality[f'{parent}_{child}'] = grouped_counts\n",
    "    return cardinality"
   ]
  },
  {
   "cell_type": "code",
   "execution_count": 59,
   "id": "a898dc19-19fa-4be0-aced-7a3aea2aa686",
   "metadata": {},
   "outputs": [],
   "source": [
    "def cardinality_similarity(real_data, synthetic_data, relations):\n",
    "    real_cardinality = calculate_cardinality(real_data, relations)\n",
    "    synthetic_cardinality = calculate_cardinality(synthetic_data, relations)\n",
    "\n",
    "    similarities = {}\n",
    "\n",
    "    for key in real_cardinality.keys():\n",
    "        real_counts = real_cardinality[key]\n",
    "        synthetic_counts = synthetic_cardinality[key]\n",
    "\n",
    "        aligned_counts = pd.concat([real_counts, synthetic_counts], axis=1, join='outer').fillna(0)\n",
    "        aligned_counts.columns = ['real', 'synthetic']\n",
    "\n",
    "        count_difference = np.abs(aligned_counts['real'] - aligned_counts['synthetic'])\n",
    "        count_difference = np.abs(aligned_counts['real'] - aligned_counts['synthetic'])\n",
    "        aligned_counts['difference'] = np.where(count_difference < aligned_counts['real'],\n",
    "                                        count_difference / aligned_counts['real'],\n",
    "                                        aligned_counts['real'] / count_difference)\n",
    "\n",
    "        # aligned_counts['difference'] = count_difference / aligned_counts['real'] if count_difference < aligned_counts['real'] else aligned_counts['real'] / count_difference\n",
    "\n",
    "        avg_difference = aligned_counts['difference'].mean()\n",
    "\n",
    "        similarity = avg_difference\n",
    "        similarities[key] = similarity\n",
    "\n",
    "    return similarities"
   ]
  },
  {
   "cell_type": "code",
   "execution_count": 62,
   "id": "cc4600f2-ccc1-4876-aa29-026856b2fb32",
   "metadata": {},
   "outputs": [],
   "source": [
    "join_metadata = {'agency': {'routes': ['agency_id', 'agency_id']},\n",
    " 'calendar': {'calendar_dates': ['service_id', 'service_id'],\n",
    "  'trips': ['service_id', 'service_id']},\n",
    " 'calendar_dates': {'trips': ['service_id', 'service_id']},\n",
    " 'routes': {'trips': ['route_id', 'route_id']},\n",
    " 'stops': {'stop_times': ['stop_id', 'stop_id']},\n",
    " 'stop_times': {'trips': ['trip_id', 'trip_id']}}"
   ]
  },
  {
   "cell_type": "code",
   "execution_count": 63,
   "id": "153d606e-3ef3-4874-8038-704bad7ed209",
   "metadata": {},
   "outputs": [
    {
     "data": {
      "text/plain": [
       "{'agency_routes': 0.6297284959704016,\n",
       " 'calendar_calendar_dates': 0.5788709899186321,\n",
       " 'calendar_trips': 0.799223004106894,\n",
       " 'calendar_dates_trips': 0.8569999989440487,\n",
       " 'routes_trips': 0.5354907423538101,\n",
       " 'stops_stop_times': 0.5669100072786613,\n",
       " 'stop_times_trips': 0.39888658190447374}"
      ]
     },
     "execution_count": 63,
     "metadata": {},
     "output_type": "execute_result"
    }
   ],
   "source": [
    "cardinality_similarity(synthetic_data_collection, convert_to_dataframe_collection(processed_data_collection), join_metadata)"
   ]
  },
  {
   "cell_type": "code",
   "execution_count": null,
   "id": "aada4364-175e-41f6-b00c-13037722c358",
   "metadata": {},
   "outputs": [],
   "source": []
  }
 ],
 "metadata": {
  "kernelspec": {
   "display_name": "Python 3 (ipykernel)",
   "language": "python",
   "name": "python3"
  },
  "language_info": {
   "codemirror_mode": {
    "name": "ipython",
    "version": 3
   },
   "file_extension": ".py",
   "mimetype": "text/x-python",
   "name": "python",
   "nbconvert_exporter": "python",
   "pygments_lexer": "ipython3",
   "version": "3.9.16"
  },
  "toc-autonumbering": true
 },
 "nbformat": 4,
 "nbformat_minor": 5
}
