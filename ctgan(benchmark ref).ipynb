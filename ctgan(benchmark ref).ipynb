{
 "cells": [
  {
   "cell_type": "markdown",
   "id": "34e2fedd-2315-406f-a080-ef30c64de8ed",
   "metadata": {
    "tags": []
   },
   "source": [
    "# import"
   ]
  },
  {
   "cell_type": "code",
   "execution_count": 1,
   "id": "095129b2-07e2-4546-b8c8-81cef836b8d1",
   "metadata": {
    "tags": []
   },
   "outputs": [],
   "source": [
    "import os\n",
    "import time\n",
    "import random\n",
    "import numpy as np\n",
    "import pandas as pd\n",
    "import matplotlib.pyplot as plt\n",
    "# import tensorflow as tf\n",
    "from tensorflow.keras import layers, models, optimizers, losses, backend, constraints, initializers\n",
    "from tensorflow.compat.v1.logging import set_verbosity, ERROR\n",
    "from sklearn.preprocessing import MinMaxScaler, StandardScaler\n",
    "from sklearn import metrics\n",
    "from sklearn.decomposition import PCA\n",
    "from sklearn.impute import SimpleImputer\n",
    "from scipy.stats import kstest, gaussian_kde, ks_2samp, chi2_contingency, wasserstein_distance\n",
    "from scipy.spatial.distance import jensenshannon\n",
    "from sdv.metadata import SingleTableMetadata"
   ]
  },
  {
   "cell_type": "code",
   "execution_count": 2,
   "id": "2d10da80-d656-4c61-8b6f-1e536722ecf6",
   "metadata": {},
   "outputs": [],
   "source": [
    "set_verbosity(ERROR)"
   ]
  },
  {
   "cell_type": "markdown",
   "id": "d1178927-fd1d-42e6-ba24-4bf3f9ae622d",
   "metadata": {
    "tags": []
   },
   "source": [
    "# load data"
   ]
  },
  {
   "cell_type": "code",
   "execution_count": 3,
   "id": "53e1d615-03c8-41a5-91a3-1b3010807a1d",
   "metadata": {},
   "outputs": [],
   "source": [
    "def load_data_collection(dir_path):\n",
    "    gtfs_files = [f for f in os.listdir(dir_path) if f.endswith('.csv') or f.endswith('.txt')]\n",
    "    data_collection = {}\n",
    "    for f in gtfs_files:\n",
    "        f_path = os.path.join(dir_path, f)\n",
    "        data = pd.read_csv(f_path)\n",
    "        if data.shape[0] > 1:\n",
    "            data_collection[f.split(\".\")[0]] = data\n",
    "    return data_collection"
   ]
  },
  {
   "cell_type": "code",
   "execution_count": 4,
   "id": "be867b02-31bd-44e0-801d-b9a272d1884f",
   "metadata": {},
   "outputs": [],
   "source": [
    "real_data_collection = load_data_collection(\"gtfs\")"
   ]
  },
  {
   "cell_type": "code",
   "execution_count": 5,
   "id": "6c8646ab-16de-4e4a-ae48-b2db21c20459",
   "metadata": {},
   "outputs": [],
   "source": [
    "del real_data_collection['shapes']"
   ]
  },
  {
   "cell_type": "markdown",
   "id": "1854fcda-9089-422a-8ffb-0a80600569c5",
   "metadata": {},
   "source": [
    "## Create Metadata"
   ]
  },
  {
   "cell_type": "code",
   "execution_count": 6,
   "id": "7cb258f9-9c74-40fd-b211-8084b2b45c8a",
   "metadata": {},
   "outputs": [],
   "source": [
    "def auto_detect_relation(data_collection):\n",
    "    metadata = {}\n",
    "    for df_name, df in data_collection.items():\n",
    "        parent = {}\n",
    "        child = []\n",
    "        primary_key = []\n",
    "        foreign_key = []\n",
    "        for col in df.columns:\n",
    "            if 'id' in col:\n",
    "                if df[col].nunique() == len(df):\n",
    "                    primary_key = [col, len(df)]\n",
    "                else:\n",
    "                    foreign_key.append(col)\n",
    "        for foreign_df_name, foreign_df in data_collection.items():\n",
    "            if foreign_df_name != df_name:\n",
    "                for col in foreign_df.columns:\n",
    "                    if 'id' in col:\n",
    "                        for fr_k in foreign_key:\n",
    "                            if col == fr_k and foreign_df[col].nunique() == len(foreign_df):\n",
    "                                parent[foreign_df_name] = fr_k\n",
    "                        if primary_key != []:\n",
    "                            if col == primary_key[0] and foreign_df[col].nunique() != len(foreign_df):\n",
    "                                child.append(foreign_df_name)\n",
    "        metadata[df_name] = {'primary_key':primary_key,\n",
    "                             'parent':parent,\n",
    "                             'child':child}\n",
    "    return metadata"
   ]
  },
  {
   "cell_type": "code",
   "execution_count": 7,
   "id": "28409e05-f36a-4795-a795-2fdfcc8094e1",
   "metadata": {},
   "outputs": [],
   "source": [
    "metadata = auto_detect_relation(real_data_collection)"
   ]
  },
  {
   "cell_type": "code",
   "execution_count": 8,
   "id": "bd3644ff-be8b-4bd2-8675-0ec763458c71",
   "metadata": {},
   "outputs": [
    {
     "data": {
      "text/plain": [
       "{'agency': {'primary_key': ['agency_id', 15],\n",
       "  'parent': {},\n",
       "  'child': ['routes']},\n",
       " 'calendar': {'primary_key': ['service_id', 121],\n",
       "  'parent': {},\n",
       "  'child': ['calendar_dates', 'trips']},\n",
       " 'calendar_dates': {'primary_key': [],\n",
       "  'parent': {'calendar': 'service_id'},\n",
       "  'child': []},\n",
       " 'routes': {'primary_key': ['route_id', 215],\n",
       "  'parent': {'agency': 'agency_id'},\n",
       "  'child': ['trips']},\n",
       " 'stops': {'primary_key': ['stop_id', 6714],\n",
       "  'parent': {},\n",
       "  'child': ['stop_times']},\n",
       " 'stop_times': {'primary_key': [],\n",
       "  'parent': {'stops': 'stop_id', 'trips': 'trip_id'},\n",
       "  'child': []},\n",
       " 'trips': {'primary_key': ['trip_id', 32403],\n",
       "  'parent': {'calendar': 'service_id', 'routes': 'route_id'},\n",
       "  'child': ['stop_times']}}"
      ]
     },
     "execution_count": 8,
     "metadata": {},
     "output_type": "execute_result"
    }
   ],
   "source": [
    "metadata"
   ]
  },
  {
   "cell_type": "code",
   "execution_count": 9,
   "id": "ec587855-65f3-4a3e-b443-25c3e947e59c",
   "metadata": {},
   "outputs": [],
   "source": [
    "# {'agency': {'primary_key': ['agency_id', 15],\n",
    "#   'parent': {},\n",
    "#   'child': ['routes']},\n",
    "#  'calendar': {'primary_key': ['service_id', 121],\n",
    "#   'parent': {},\n",
    "#   'child': ['calendar_dates', 'trips']},\n",
    "#  'calendar_dates': {'primary_key': [],\n",
    "#   'parent': {'calendar': 'service_id'},\n",
    "#   'child': []},\n",
    "#  'routes': {'primary_key': ['route_id', 215],\n",
    "#   'parent': {'agency': 'agency_id'},\n",
    "#   'child': ['trips']},\n",
    "#  'stops': {'primary_key': ['stop_id', 6714],\n",
    "#   'parent': {},\n",
    "#   'child': ['stop_times']},\n",
    "#  'stop_times': {'primary_key': [],\n",
    "#   'parent': {'stops': 'stop_id', 'trips': 'trip_id'},\n",
    "#   'child': []},\n",
    "#  'trips': {'primary_key': ['trip_id', 32403],\n",
    "#   'parent': {'calendar': 'service_id', 'routes': 'route_id'},\n",
    "#   'child': ['stop_times']}}"
   ]
  },
  {
   "cell_type": "markdown",
   "id": "26eff3c0-dff0-4f0a-aaed-99b8e232b033",
   "metadata": {},
   "source": [
    "# preprocess"
   ]
  },
  {
   "cell_type": "markdown",
   "id": "2dfb6879-4071-4e4e-91a9-34f1412628df",
   "metadata": {},
   "source": [
    "## Create Factorization Dictionary:"
   ]
  },
  {
   "cell_type": "code",
   "execution_count": 10,
   "id": "77d93f2d-bf35-42b4-8de0-77949dc14144",
   "metadata": {},
   "outputs": [],
   "source": [
    "def create_factorization_dict(data_collection, metadata):\n",
    "    factor_dict = {}\n",
    "    for df_name, df in data_collection.items():\n",
    "        local_id_dict = {}\n",
    "        primary_key_info = metadata[df_name]['primary_key']\n",
    "        if primary_key_info != []:\n",
    "            local_id_dict = {k:v for v,k in enumerate(df[primary_key_info[0]].unique())}\n",
    "            factor_dict[primary_key_info[0]] = local_id_dict\n",
    "    return factor_dict"
   ]
  },
  {
   "cell_type": "code",
   "execution_count": 11,
   "id": "b88085ef-72b4-460c-863f-006e3f567809",
   "metadata": {
    "scrolled": true,
    "tags": []
   },
   "outputs": [],
   "source": [
    "factorization_dict = create_factorization_dict(real_data_collection, metadata)"
   ]
  },
  {
   "cell_type": "markdown",
   "id": "aec1109f-37ac-4895-b24b-f271c5300028",
   "metadata": {},
   "source": [
    "## Format Individual Table:"
   ]
  },
  {
   "cell_type": "code",
   "execution_count": 12,
   "id": "c44fcb8d-60ad-4a21-9709-8901cd03cdd7",
   "metadata": {},
   "outputs": [],
   "source": [
    "def individual_preprocess_dict():\n",
    "    preprocess_dict = {}\n",
    "    preprocess_dict['transformation'] = {}\n",
    "    preprocess_dict['transformation']['drop'] = []\n",
    "    preprocess_dict['transformation']['factorize'] = []\n",
    "    preprocess_dict['transformation']['to_strip'] = []\n",
    "    preprocess_dict['transformation']['to_elapsed_time'] = []\n",
    "    preprocess_dict['transformation']['to_elapsed_days'] = []\n",
    "    preprocess_dict['nans_conversion'] = {}\n",
    "    preprocess_dict['nans_conversion']['impute'] = []\n",
    "    preprocess_dict['nans_conversion']['replace_with_neg_one'] = []\n",
    "    preprocess_dict['nans_conversion']['replace_with_zeros'] = []\n",
    "    return preprocess_dict"
   ]
  },
  {
   "cell_type": "code",
   "execution_count": 13,
   "id": "f7f59505-ed03-4ab1-95c4-c39e78161fe3",
   "metadata": {},
   "outputs": [],
   "source": [
    "def format_individual_data(data, preprocess_dict, factorization_dict, timestamp = pd.Timestamp('1900-01-01')):\n",
    "    # reverse_transform_dict = {}\n",
    "    for stage in preprocess_dict.keys():\n",
    "        if stage == 'transformation':\n",
    "            for method, col_list in preprocess_dict[stage].items():\n",
    "                if len(col_list) != 0 or None:\n",
    "                    if method == 'drop':\n",
    "                        data = data.drop(col_list, axis=1)\n",
    "                    if method == 'factorize':\n",
    "                        for col in col_list:\n",
    "                            if col in factorization_dict.keys():\n",
    "                                data[col] = data[col].map(factorization_dict[col])\n",
    "                            else:\n",
    "                                data[col] = pd.factorize(data[col], sort=True)[0]\n",
    "                    if method == 'to_strip':\n",
    "                        for col in col_list:\n",
    "                            # convert some column to numbers\n",
    "                            # e.g. `123-45-6` -> `123456`\n",
    "                            data[col] = data[col].str.replace(r'\\D', '').astype(int)\n",
    "                    if method == \"to_elapsed_time\":\n",
    "                        for col in col_list:\n",
    "                            cur_col = pd.to_timedelta(data[col])\n",
    "                            cur_col = cur_col % pd.Timedelta(days=1)\n",
    "                            data[col] = cur_col.dt.total_seconds()\n",
    "                    if method == \"to_elapsed_days\":\n",
    "                        for col in col_list:\n",
    "                            cur_col = pd.to_datetime(data[col], format='%Y%m%d') - timestamp\n",
    "                            data[col] = cur_col.dt.days\n",
    "        if stage == 'nans_conversion':\n",
    "            for method, col_list in preprocess_dict[stage].items():\n",
    "                if len(col_list) != 0 or None:\n",
    "                    if method == 'impute':\n",
    "                        imputer = SimpleImputer(strategy='mean')\n",
    "                        data[col_list] = imputer.fit_transform(data[col_list])\n",
    "                    if method == 'replace_with_neg_one':\n",
    "                        data[col_list] = data[col_list].fillna(-1)\n",
    "                    if method == 'replace_with_zeros':\n",
    "                        data[col_list] = data[col_list].fillna(0)\n",
    "    # scaler = MinMaxScaler(feature_range=(-1, 1))\n",
    "    # scaled_data = scaler.fit_transform(data)\n",
    "    return data"
   ]
  },
  {
   "cell_type": "markdown",
   "id": "9c6cc9b3-6a3e-4b2b-873c-b7f2f5be8aff",
   "metadata": {},
   "source": [
    "## preprocess individual data"
   ]
  },
  {
   "cell_type": "markdown",
   "id": "6fd5676b-ceda-4397-a57c-71eb10243943",
   "metadata": {},
   "source": [
    "### agency"
   ]
  },
  {
   "cell_type": "code",
   "execution_count": 14,
   "id": "53964816-41af-444d-b042-81e758795ccd",
   "metadata": {},
   "outputs": [],
   "source": [
    "preprocess_dict = individual_preprocess_dict()\n",
    "preprocess_dict['transformation']['drop'] = ['agency_name','agency_fare_url','agency_email']\n",
    "preprocess_dict['transformation']['factorize'] = ['agency_id','agency_url','agency_timezone','agency_lang','agency_phone']\n",
    "real_data_collection['agency'] = format_individual_data(real_data_collection['agency'], preprocess_dict, factorization_dict)"
   ]
  },
  {
   "cell_type": "markdown",
   "id": "85d3e98a-b5ba-4476-92d6-3180b84bedfc",
   "metadata": {},
   "source": [
    "### calendar"
   ]
  },
  {
   "cell_type": "code",
   "execution_count": 15,
   "id": "c1b9770d-b417-42e3-8f65-5f72264aa3f4",
   "metadata": {},
   "outputs": [],
   "source": [
    "preprocess_dict = individual_preprocess_dict()\n",
    "preprocess_dict['transformation']['factorize'] = ['service_id']\n",
    "preprocess_dict['transformation']['to_elapsed_days'] = ['start_date','end_date']\n",
    "real_data_collection['calendar'] = format_individual_data(real_data_collection['calendar'], preprocess_dict, factorization_dict)"
   ]
  },
  {
   "cell_type": "markdown",
   "id": "4e7e7d28-8384-49c9-bdde-608b3e34d2dc",
   "metadata": {},
   "source": [
    "### calendar_dates"
   ]
  },
  {
   "cell_type": "code",
   "execution_count": 16,
   "id": "afd385cb-4139-4cf8-b343-790ac930d901",
   "metadata": {},
   "outputs": [],
   "source": [
    "preprocess_dict = individual_preprocess_dict()\n",
    "preprocess_dict['transformation']['factorize'] = ['service_id']\n",
    "preprocess_dict['transformation']['to_elapsed_days'] = ['date']\n",
    "real_data_collection['calendar_dates'] = format_individual_data(real_data_collection['calendar_dates'], preprocess_dict, factorization_dict)"
   ]
  },
  {
   "cell_type": "markdown",
   "id": "c501d0be-146b-4b9b-bcb8-15db6b464b26",
   "metadata": {},
   "source": [
    "### routes"
   ]
  },
  {
   "cell_type": "code",
   "execution_count": 17,
   "id": "1afc341b-6f36-4f62-9cf2-07c592f0b2e1",
   "metadata": {},
   "outputs": [],
   "source": [
    "preprocess_dict = individual_preprocess_dict()\n",
    "preprocess_dict['transformation']['drop'] = ['route_short_name','route_long_name','route_desc','route_url','route_sort_order']\n",
    "preprocess_dict['transformation']['factorize'] = ['route_id',\n",
    "                                                  'agency_id',\n",
    "                                                 'route_color',\n",
    "                                                 'route_text_color',\n",
    "                                                 'contract_id']\n",
    "preprocess_dict['nans_conversion']['impute'] = ['route_color','route_text_color']\n",
    "real_data_collection['routes'] = format_individual_data(real_data_collection['routes'], preprocess_dict, factorization_dict)"
   ]
  },
  {
   "cell_type": "markdown",
   "id": "9507750d-8dc3-4754-a1e3-d5f36454d334",
   "metadata": {},
   "source": [
    "### stops"
   ]
  },
  {
   "cell_type": "code",
   "execution_count": 18,
   "id": "8ab3b73b-ce17-4171-bc30-d31c0195f861",
   "metadata": {},
   "outputs": [],
   "source": [
    "preprocess_dict = individual_preprocess_dict()\n",
    "preprocess_dict['transformation']['factorize'] = ['stop_id','parent_station','platform_code']\n",
    "preprocess_dict['transformation']['to_elapsed_days'] = ['start_date','end_date']\n",
    "preprocess_dict['transformation']['drop'] = ['stop_name','stop_code','stop_desc','zone_id','stop_url','stop_timezone']\n",
    "preprocess_dict['nans_conversion']['impute'] = ['parent_station','platform_code']\n",
    "real_data_collection['stops'] = format_individual_data(real_data_collection['stops'], preprocess_dict, factorization_dict)"
   ]
  },
  {
   "cell_type": "markdown",
   "id": "8fcb0ddb-67ca-43ad-95ad-437f40cf58dd",
   "metadata": {},
   "source": [
    "### stop_times"
   ]
  },
  {
   "cell_type": "code",
   "execution_count": 19,
   "id": "daa61582-d5ab-4a25-9d18-c9427f02c413",
   "metadata": {},
   "outputs": [],
   "source": [
    "preprocess_dict = individual_preprocess_dict()\n",
    "preprocess_dict['transformation']['factorize'] = ['trip_id','stop_id','stop_headsign']\n",
    "preprocess_dict['transformation']['to_elapsed_time'] = ['arrival_time','departure_time']\n",
    "real_data_collection['stop_times'] = format_individual_data(real_data_collection['stop_times'], preprocess_dict, factorization_dict)"
   ]
  },
  {
   "cell_type": "markdown",
   "id": "971a486d-af7d-45ca-9740-0dd5a39a44ea",
   "metadata": {},
   "source": [
    "### trips"
   ]
  },
  {
   "cell_type": "code",
   "execution_count": 20,
   "id": "a68e6507-7afc-455d-b3aa-eb988c420f48",
   "metadata": {},
   "outputs": [],
   "source": [
    "preprocess_dict = individual_preprocess_dict()\n",
    "preprocess_dict['transformation']['factorize'] = ['route_id','service_id','trip_id','trip_headsign','shape_id']\n",
    "preprocess_dict['transformation']['drop'] = ['trip_short_name','block_id']\n",
    "real_data_collection['trips'] = format_individual_data(real_data_collection['trips'], preprocess_dict, factorization_dict)"
   ]
  },
  {
   "cell_type": "markdown",
   "id": "a9618cca-11ac-42aa-a73a-5501f1008b2c",
   "metadata": {},
   "source": [
    "## Create MetaData"
   ]
  },
  {
   "cell_type": "code",
   "execution_count": null,
   "id": "dae841f1-57fd-493c-a84e-d268e1961d28",
   "metadata": {},
   "outputs": [],
   "source": [
    "metadata = SingleTableMetadata()"
   ]
  },
  {
   "cell_type": "code",
   "execution_count": null,
   "id": "77ad135e-5214-4048-a556-855dee32c15d",
   "metadata": {},
   "outputs": [],
   "source": [
    "metadata.detect_from_dataframe()"
   ]
  }
 ],
 "metadata": {
  "kernelspec": {
   "display_name": "Python 3 (ipykernel)",
   "language": "python",
   "name": "python3"
  },
  "language_info": {
   "codemirror_mode": {
    "name": "ipython",
    "version": 3
   },
   "file_extension": ".py",
   "mimetype": "text/x-python",
   "name": "python",
   "nbconvert_exporter": "python",
   "pygments_lexer": "ipython3",
   "version": "3.9.16"
  }
 },
 "nbformat": 4,
 "nbformat_minor": 5
}
