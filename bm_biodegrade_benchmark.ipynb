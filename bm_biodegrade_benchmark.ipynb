{
 "cells": [
  {
   "cell_type": "code",
   "execution_count": 1,
   "id": "5194291e-24f1-4a7a-a025-5ec77d1c4acf",
   "metadata": {},
   "outputs": [],
   "source": [
    "import os\n",
    "import time\n",
    "import math\n",
    "import random\n",
    "import pickle\n",
    "import numpy as np\n",
    "import pandas as pd\n",
    "import matplotlib.pyplot as plt\n",
    "from sklearn import metrics\n",
    "from scipy.stats import ks_2samp\n",
    "from sdv.metadata import MultiTableMetadata\n",
    "from sdv.evaluation.multi_table import evaluate_quality\n",
    "from sdv.multi_table import HMASynthesizer"
   ]
  },
  {
   "cell_type": "code",
   "execution_count": 2,
   "id": "3180f364-e546-4529-a7c6-83920edde2cd",
   "metadata": {},
   "outputs": [],
   "source": [
    "with open('pkl/biodegrade/biodegrade.pkl', 'rb') as f:\n",
    "    real_data_collection = pickle.load(f)"
   ]
  },
  {
   "cell_type": "code",
   "execution_count": 3,
   "id": "627baf8e-2daf-4c6b-b9c7-0fbff25dbe42",
   "metadata": {},
   "outputs": [],
   "source": [
    "with open('pkl/biodegrade/biodegrade_synth_full_epoch.pkl', 'rb') as f:\n",
    "    synthetic_data_collection = pickle.load(f)"
   ]
  },
  {
   "cell_type": "code",
   "execution_count": 4,
   "id": "63da0724-cb05-4495-9c10-559754f1e3b8",
   "metadata": {},
   "outputs": [],
   "source": [
    "with open('pkl/biodegrade/biodegrade_sdvmetadata.pkl', 'rb') as f:\n",
    "    sdv_metadata = pickle.load(f)"
   ]
  },
  {
   "cell_type": "code",
   "execution_count": 5,
   "id": "2eb8c66b-95cd-4aad-b4c9-f3ec6cdbe9d9",
   "metadata": {
    "tags": []
   },
   "outputs": [],
   "source": [
    "generation_dict = {k:{'nrows':len(v)} for k,v in real_data_collection.items()}"
   ]
  },
  {
   "cell_type": "code",
   "execution_count": 6,
   "id": "dd930b24-9251-4972-a795-97a919eeaab7",
   "metadata": {},
   "outputs": [
    {
     "data": {
      "text/plain": [
       "{'atom': {'nrows': 6568},\n",
       " 'bond': {'nrows': 6616},\n",
       " 'gmember': {'nrows': 6647},\n",
       " 'group': {'nrows': 1736},\n",
       " 'molecule': {'nrows': 328}}"
      ]
     },
     "execution_count": 6,
     "metadata": {},
     "output_type": "execute_result"
    }
   ],
   "source": [
    "generation_dict"
   ]
  },
  {
   "cell_type": "markdown",
   "id": "f1a0ef6c-0103-4295-9122-e4d2789ea657",
   "metadata": {},
   "source": [
    "# HMA"
   ]
  },
  {
   "cell_type": "code",
   "execution_count": 7,
   "id": "7809e2c1-52e2-4ce1-af43-012266891232",
   "metadata": {},
   "outputs": [],
   "source": [
    "# synthesizer = HMASynthesizer(sdv_metadata)"
   ]
  },
  {
   "cell_type": "code",
   "execution_count": 8,
   "id": "d9987181-e0a6-4c6b-8aa2-cef49038101f",
   "metadata": {
    "scrolled": true,
    "tags": []
   },
   "outputs": [],
   "source": [
    "# %%time\n",
    "# %%capture\n",
    "\n",
    "# synthesizer.fit(real_data_collection)\n",
    "# synthesizer.save(filepath='bm_models/biodegrade_models/biodegrade_hma.pkl')"
   ]
  },
  {
   "cell_type": "code",
   "execution_count": 9,
   "id": "24b7f553-3caa-4ccf-a030-14faaa6bc64f",
   "metadata": {
    "scrolled": true,
    "tags": []
   },
   "outputs": [
    {
     "name": "stdout",
     "output_type": "stream",
     "text": [
      "CPU times: total: 2min 31s\n",
      "Wall time: 1min 49s\n"
     ]
    }
   ],
   "source": [
    "%%time\n",
    "%%capture\n",
    "\n",
    "synthesizer = HMASynthesizer.load(filepath='bm_models/biodegrade_models/biodegrade_hma.pkl')\n",
    "hma_synthetic_data = synthesizer.sample(\n",
    "    scale=1\n",
    ")"
   ]
  },
  {
   "cell_type": "code",
   "execution_count": 10,
   "id": "8aa37511-278d-4222-b731-3f6027a15282",
   "metadata": {
    "scrolled": true,
    "tags": []
   },
   "outputs": [
    {
     "name": "stderr",
     "output_type": "stream",
     "text": [
      "Creating report: 100%|███████████████████████████████████████████████████████████████████| 5/5 [00:00<00:00,  7.26it/s]\n"
     ]
    },
    {
     "name": "stdout",
     "output_type": "stream",
     "text": [
      "\n",
      "Overall Quality Score: 75.77%\n",
      "\n",
      "Properties:\n",
      "Column Shapes: 82.65%\n",
      "Column Pair Trends: 76.24%\n",
      "Parent Child Relationships: 68.44%\n"
     ]
    },
    {
     "data": {
      "text/plain": [
       "<sdmetrics.reports.multi_table.quality_report.QualityReport at 0x23b94a442e0>"
      ]
     },
     "execution_count": 10,
     "metadata": {},
     "output_type": "execute_result"
    }
   ],
   "source": [
    "evaluate_quality(real_data=real_data_collection, synthetic_data=hma_synthetic_data, metadata=sdv_metadata)"
   ]
  },
  {
   "cell_type": "code",
   "execution_count": 11,
   "id": "fe443bbf-c59a-47e0-b84e-276bad24116a",
   "metadata": {
    "scrolled": true,
    "tags": []
   },
   "outputs": [
    {
     "name": "stderr",
     "output_type": "stream",
     "text": [
      "Creating report: 100%|███████████████████████████████████████████████████████████████████| 5/5 [00:00<00:00, 53.75it/s]\n"
     ]
    },
    {
     "name": "stdout",
     "output_type": "stream",
     "text": [
      "\n",
      "Overall Quality Score: 66.36%\n",
      "\n",
      "Properties:\n",
      "Column Shapes: 70.94%\n",
      "Column Pair Trends: 53.49%\n",
      "Parent Child Relationships: 74.65%\n"
     ]
    },
    {
     "data": {
      "text/plain": [
       "<sdmetrics.reports.multi_table.quality_report.QualityReport at 0x23b94a7b9a0>"
      ]
     },
     "execution_count": 11,
     "metadata": {},
     "output_type": "execute_result"
    }
   ],
   "source": [
    "evaluate_quality(real_data=real_data_collection, synthetic_data=synthetic_data_collection, metadata=sdv_metadata)"
   ]
  },
  {
   "cell_type": "code",
   "execution_count": null,
   "id": "b7dd3427-b348-4b46-8412-a1d394874cdd",
   "metadata": {},
   "outputs": [],
   "source": []
  }
 ],
 "metadata": {
  "kernelspec": {
   "display_name": "Python 3 (ipykernel)",
   "language": "python",
   "name": "python3"
  },
  "language_info": {
   "codemirror_mode": {
    "name": "ipython",
    "version": 3
   },
   "file_extension": ".py",
   "mimetype": "text/x-python",
   "name": "python",
   "nbconvert_exporter": "python",
   "pygments_lexer": "ipython3",
   "version": "3.9.16"
  }
 },
 "nbformat": 4,
 "nbformat_minor": 5
}
