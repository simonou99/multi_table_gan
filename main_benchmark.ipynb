{
 "cells": [
  {
   "cell_type": "markdown",
   "id": "5c0b633b-f706-4cc4-8c33-985396dc18b2",
   "metadata": {},
   "source": [
    "**HMA Takes a long time** \n",
    "\n",
    "**Try loading the stored trained model instead.**"
   ]
  },
  {
   "cell_type": "code",
   "execution_count": 1,
   "id": "692afc16-38d6-4f60-8571-9e5464636a21",
   "metadata": {},
   "outputs": [],
   "source": [
    "import os\n",
    "import time\n",
    "import math\n",
    "import random\n",
    "import pickle\n",
    "import numpy as np\n",
    "import pandas as pd\n",
    "import matplotlib.pyplot as plt\n",
    "from sklearn import metrics\n",
    "from scipy.stats import ks_2samp\n",
    "from sdv.metadata import MultiTableMetadata\n",
    "from sdv.multi_table import HMASynthesizer\n",
    "from sdv.evaluation.multi_table import evaluate_quality"
   ]
  },
  {
   "cell_type": "markdown",
   "id": "7dfad801-09b8-41ab-b7cd-6788e4e89cb1",
   "metadata": {},
   "source": [
    "# Load Processed Data From Generation Stage"
   ]
  },
  {
   "cell_type": "code",
   "execution_count": 2,
   "id": "f40c443d-8949-4cbc-8406-5c9b68bf5147",
   "metadata": {},
   "outputs": [],
   "source": [
    "with open('pkl/gtfs/real_data_collection.pkl', 'rb') as f:\n",
    "    real_data_collection = pickle.load(f)"
   ]
  },
  {
   "cell_type": "code",
   "execution_count": 3,
   "id": "a4315870-c4dc-42eb-98d8-c02c237e24a6",
   "metadata": {},
   "outputs": [],
   "source": [
    "with open('pkl/gtfs/synthetic_data_full_epoch.pkl', 'rb') as f:\n",
    "    synthetic_data_collection = pickle.load(f)"
   ]
  },
  {
   "cell_type": "code",
   "execution_count": 4,
   "id": "a8f4c4b2-f04e-404b-a974-611d010f5203",
   "metadata": {},
   "outputs": [],
   "source": [
    "with open('pkl/gtfs/sdv_metadata.pkl', 'rb') as f:\n",
    "    sdv_metadata = pickle.load(f)"
   ]
  },
  {
   "cell_type": "markdown",
   "id": "8ae389e7-8d2f-477b-bb87-2e9dd40e37e8",
   "metadata": {
    "tags": []
   },
   "source": [
    "# Benchmark"
   ]
  },
  {
   "cell_type": "markdown",
   "id": "8661e637-28c0-47e9-b0f9-8f6c521492aa",
   "metadata": {
    "tags": []
   },
   "source": [
    "## HMA"
   ]
  },
  {
   "cell_type": "code",
   "execution_count": 5,
   "id": "e1bc3215-dbfa-4628-9612-2cd3fb89f257",
   "metadata": {},
   "outputs": [],
   "source": [
    "synthesizer = HMASynthesizer(sdv_metadata)"
   ]
  },
  {
   "cell_type": "code",
   "execution_count": 6,
   "id": "76049045-3ac6-404b-a459-8b5b0f5480a9",
   "metadata": {},
   "outputs": [
    {
     "ename": "InvalidDataError",
     "evalue": "The provided data does not match the metadata:\nTable: 'calendar'\nError: Invalid values found for boolean column 'monday': [0, 1].\nError: Invalid values found for boolean column 'tuesday': [0, 1].\nError: Invalid values found for boolean column 'wednesday': [0, 1].\nError: Invalid values found for boolean column 'thursday': [0, 1].\nError: Invalid values found for boolean column 'friday': [0, 1].\nError: Invalid values found for boolean column 'saturday': [0, 1].\nError: Invalid values found for boolean column 'sunday': [0, 1].\n\nTable: 'stops'\nError: Invalid values found for boolean column 'wheelchair_boarding': [0].\n\nTable: 'trips'\nError: Invalid values found for boolean column 'wheelchair_accessible': [0].\nError: Invalid values found for boolean column 'bikes_allowed': [0].",
     "output_type": "error",
     "traceback": [
      "\u001b[1;31m---------------------------------------------------------------------------\u001b[0m",
      "\u001b[1;31mInvalidDataError\u001b[0m                          Traceback (most recent call last)",
      "Cell \u001b[1;32mIn[6], line 1\u001b[0m\n\u001b[1;32m----> 1\u001b[0m \u001b[43msynthesizer\u001b[49m\u001b[38;5;241;43m.\u001b[39;49m\u001b[43mfit\u001b[49m\u001b[43m(\u001b[49m\u001b[43mreal_data_collection\u001b[49m\u001b[43m)\u001b[49m\n\u001b[0;32m      2\u001b[0m synthesizer\u001b[38;5;241m.\u001b[39msave(\n\u001b[0;32m      3\u001b[0m     filepath\u001b[38;5;241m=\u001b[39m\u001b[38;5;124m'\u001b[39m\u001b[38;5;124mmodels/gtfs.pkl\u001b[39m\u001b[38;5;124m'\u001b[39m\n\u001b[0;32m      4\u001b[0m )\n",
      "File \u001b[1;32mC:\\programs\\conda\\envs\\tfgpu\\lib\\site-packages\\sdv\\multi_table\\base.py:328\u001b[0m, in \u001b[0;36mBaseMultiTableSynthesizer.fit\u001b[1;34m(self, data)\u001b[0m\n\u001b[0;32m    320\u001b[0m \u001b[38;5;124;03m\"\"\"Fit this model to the original data.\u001b[39;00m\n\u001b[0;32m    321\u001b[0m \n\u001b[0;32m    322\u001b[0m \u001b[38;5;124;03mArgs:\u001b[39;00m\n\u001b[1;32m   (...)\u001b[0m\n\u001b[0;32m    325\u001b[0m \u001b[38;5;124;03m        (before any transformations).\u001b[39;00m\n\u001b[0;32m    326\u001b[0m \u001b[38;5;124;03m\"\"\"\u001b[39;00m\n\u001b[0;32m    327\u001b[0m \u001b[38;5;28mself\u001b[39m\u001b[38;5;241m.\u001b[39m_fitted \u001b[38;5;241m=\u001b[39m \u001b[38;5;28;01mFalse\u001b[39;00m\n\u001b[1;32m--> 328\u001b[0m processed_data \u001b[38;5;241m=\u001b[39m \u001b[38;5;28;43mself\u001b[39;49m\u001b[38;5;241;43m.\u001b[39;49m\u001b[43mpreprocess\u001b[49m\u001b[43m(\u001b[49m\u001b[43mdata\u001b[49m\u001b[43m)\u001b[49m\n\u001b[0;32m    329\u001b[0m \u001b[38;5;28mself\u001b[39m\u001b[38;5;241m.\u001b[39mfit_processed_data(processed_data)\n",
      "File \u001b[1;32mC:\\programs\\conda\\envs\\tfgpu\\lib\\site-packages\\sdv\\multi_table\\base.py:292\u001b[0m, in \u001b[0;36mBaseMultiTableSynthesizer.preprocess\u001b[1;34m(self, data)\u001b[0m\n\u001b[0;32m    281\u001b[0m \u001b[38;5;28;01mdef\u001b[39;00m \u001b[38;5;21mpreprocess\u001b[39m(\u001b[38;5;28mself\u001b[39m, data):\n\u001b[0;32m    282\u001b[0m     \u001b[38;5;124;03m\"\"\"Transform the raw data to numerical space.\u001b[39;00m\n\u001b[0;32m    283\u001b[0m \n\u001b[0;32m    284\u001b[0m \u001b[38;5;124;03m    Args:\u001b[39;00m\n\u001b[1;32m   (...)\u001b[0m\n\u001b[0;32m    290\u001b[0m \u001b[38;5;124;03m            A dictionary with the preprocessed data.\u001b[39;00m\n\u001b[0;32m    291\u001b[0m \u001b[38;5;124;03m    \"\"\"\u001b[39;00m\n\u001b[1;32m--> 292\u001b[0m     \u001b[38;5;28;43mself\u001b[39;49m\u001b[38;5;241;43m.\u001b[39;49m\u001b[43mvalidate\u001b[49m\u001b[43m(\u001b[49m\u001b[43mdata\u001b[49m\u001b[43m)\u001b[49m\n\u001b[0;32m    293\u001b[0m     \u001b[38;5;28;01mif\u001b[39;00m \u001b[38;5;28mself\u001b[39m\u001b[38;5;241m.\u001b[39m_fitted:\n\u001b[0;32m    294\u001b[0m         warnings\u001b[38;5;241m.\u001b[39mwarn(\n\u001b[0;32m    295\u001b[0m             \u001b[38;5;124m'\u001b[39m\u001b[38;5;124mThis model has already been fitted. To use the new preprocessed data, \u001b[39m\u001b[38;5;124m'\u001b[39m\n\u001b[0;32m    296\u001b[0m             \u001b[38;5;124m\"\u001b[39m\u001b[38;5;124mplease refit the model using \u001b[39m\u001b[38;5;124m'\u001b[39m\u001b[38;5;124mfit\u001b[39m\u001b[38;5;124m'\u001b[39m\u001b[38;5;124m or \u001b[39m\u001b[38;5;124m'\u001b[39m\u001b[38;5;124mfit_processed_data\u001b[39m\u001b[38;5;124m'\u001b[39m\u001b[38;5;124m.\u001b[39m\u001b[38;5;124m\"\u001b[39m\n\u001b[0;32m    297\u001b[0m         )\n",
      "File \u001b[1;32mC:\\programs\\conda\\envs\\tfgpu\\lib\\site-packages\\sdv\\multi_table\\base.py:200\u001b[0m, in \u001b[0;36mBaseMultiTableSynthesizer.validate\u001b[1;34m(self, data)\u001b[0m\n\u001b[0;32m    197\u001b[0m     errors\u001b[38;5;241m.\u001b[39mappend(foreign_key_errors)\n\u001b[0;32m    199\u001b[0m \u001b[38;5;28;01mif\u001b[39;00m errors:\n\u001b[1;32m--> 200\u001b[0m     \u001b[38;5;28;01mraise\u001b[39;00m InvalidDataError(errors)\n",
      "\u001b[1;31mInvalidDataError\u001b[0m: The provided data does not match the metadata:\nTable: 'calendar'\nError: Invalid values found for boolean column 'monday': [0, 1].\nError: Invalid values found for boolean column 'tuesday': [0, 1].\nError: Invalid values found for boolean column 'wednesday': [0, 1].\nError: Invalid values found for boolean column 'thursday': [0, 1].\nError: Invalid values found for boolean column 'friday': [0, 1].\nError: Invalid values found for boolean column 'saturday': [0, 1].\nError: Invalid values found for boolean column 'sunday': [0, 1].\n\nTable: 'stops'\nError: Invalid values found for boolean column 'wheelchair_boarding': [0].\n\nTable: 'trips'\nError: Invalid values found for boolean column 'wheelchair_accessible': [0].\nError: Invalid values found for boolean column 'bikes_allowed': [0]."
     ]
    },
    {
     "name": "stdout",
     "output_type": "stream",
     "text": [
      "CPU times: total: 3min 11s\n",
      "Wall time: 3min 11s\n"
     ]
    }
   ],
   "source": [
    "%%time\n",
    "%%capture\n",
    "\n",
    "synthesizer.fit(real_data_collection)\n",
    "synthesizer.save(\n",
    "    filepath='models/gtfs.pkl'\n",
    ")"
   ]
  },
  {
   "cell_type": "code",
   "execution_count": 7,
   "id": "dc4a3e5b-4d6c-4904-92d9-6072eebcdfa5",
   "metadata": {},
   "outputs": [
    {
     "ename": "FileNotFoundError",
     "evalue": "[Errno 2] No such file or directory: 'models/gtfs.pkl'",
     "output_type": "error",
     "traceback": [
      "\u001b[1;31m---------------------------------------------------------------------------\u001b[0m",
      "\u001b[1;31mFileNotFoundError\u001b[0m                         Traceback (most recent call last)",
      "Cell \u001b[1;32mIn[7], line 1\u001b[0m\n\u001b[1;32m----> 1\u001b[0m synthesizer \u001b[38;5;241m=\u001b[39m \u001b[43mHMASynthesizer\u001b[49m\u001b[38;5;241;43m.\u001b[39;49m\u001b[43mload\u001b[49m\u001b[43m(\u001b[49m\n\u001b[0;32m      2\u001b[0m \u001b[43m    \u001b[49m\u001b[43mfilepath\u001b[49m\u001b[38;5;241;43m=\u001b[39;49m\u001b[38;5;124;43m'\u001b[39;49m\u001b[38;5;124;43mmodels/gtfs.pkl\u001b[39;49m\u001b[38;5;124;43m'\u001b[39;49m\n\u001b[0;32m      3\u001b[0m \u001b[43m)\u001b[49m\n\u001b[0;32m      5\u001b[0m hma_synthetic_data_collection \u001b[38;5;241m=\u001b[39m synthesizer\u001b[38;5;241m.\u001b[39msample(\n\u001b[0;32m      6\u001b[0m     scale\u001b[38;5;241m=\u001b[39m\u001b[38;5;241m1\u001b[39m\n\u001b[0;32m      7\u001b[0m )\n",
      "File \u001b[1;32mC:\\programs\\conda\\envs\\tfgpu\\lib\\site-packages\\sdv\\multi_table\\base.py:495\u001b[0m, in \u001b[0;36mBaseMultiTableSynthesizer.load\u001b[1;34m(cls, filepath)\u001b[0m\n\u001b[0;32m    487\u001b[0m \u001b[38;5;129m@classmethod\u001b[39m\n\u001b[0;32m    488\u001b[0m \u001b[38;5;28;01mdef\u001b[39;00m \u001b[38;5;21mload\u001b[39m(\u001b[38;5;28mcls\u001b[39m, filepath):\n\u001b[0;32m    489\u001b[0m     \u001b[38;5;124;03m\"\"\"Load the multi-table synthesizer from a given path.\u001b[39;00m\n\u001b[0;32m    490\u001b[0m \n\u001b[0;32m    491\u001b[0m \u001b[38;5;124;03m    Args:\u001b[39;00m\n\u001b[0;32m    492\u001b[0m \u001b[38;5;124;03m        filepath (str):\u001b[39;00m\n\u001b[0;32m    493\u001b[0m \u001b[38;5;124;03m            Path from which to load the instance.\u001b[39;00m\n\u001b[0;32m    494\u001b[0m \u001b[38;5;124;03m    \"\"\"\u001b[39;00m\n\u001b[1;32m--> 495\u001b[0m     \u001b[38;5;28;01mwith\u001b[39;00m \u001b[38;5;28;43mopen\u001b[39;49m\u001b[43m(\u001b[49m\u001b[43mfilepath\u001b[49m\u001b[43m,\u001b[49m\u001b[43m \u001b[49m\u001b[38;5;124;43m'\u001b[39;49m\u001b[38;5;124;43mrb\u001b[39;49m\u001b[38;5;124;43m'\u001b[39;49m\u001b[43m)\u001b[49m \u001b[38;5;28;01mas\u001b[39;00m f:\n\u001b[0;32m    496\u001b[0m         synthesizer \u001b[38;5;241m=\u001b[39m cloudpickle\u001b[38;5;241m.\u001b[39mload(f)\n\u001b[0;32m    497\u001b[0m         \u001b[38;5;28;01mreturn\u001b[39;00m synthesizer\n",
      "\u001b[1;31mFileNotFoundError\u001b[0m: [Errno 2] No such file or directory: 'models/gtfs.pkl'"
     ]
    },
    {
     "name": "stdout",
     "output_type": "stream",
     "text": [
      "CPU times: total: 31.2 ms\n",
      "Wall time: 21 ms\n"
     ]
    }
   ],
   "source": [
    "%%time\n",
    "%%capture\n",
    "\n",
    "synthesizer = HMASynthesizer.load(\n",
    "    filepath='models/gtfs.pkl'\n",
    ")\n",
    "\n",
    "hma_synthetic_data_collection = synthesizer.sample(\n",
    "    scale=1\n",
    ")"
   ]
  },
  {
   "cell_type": "code",
   "execution_count": 8,
   "id": "edc28e1a-2555-48c5-a3a5-7138ff91a214",
   "metadata": {},
   "outputs": [
    {
     "ename": "NameError",
     "evalue": "name 'hma_synthetic_data_collection' is not defined",
     "output_type": "error",
     "traceback": [
      "\u001b[1;31m---------------------------------------------------------------------------\u001b[0m",
      "\u001b[1;31mNameError\u001b[0m                                 Traceback (most recent call last)",
      "Cell \u001b[1;32mIn[8], line 3\u001b[0m\n\u001b[0;32m      1\u001b[0m hma_quality_report \u001b[38;5;241m=\u001b[39m evaluate_quality(\n\u001b[0;32m      2\u001b[0m     real_data\u001b[38;5;241m=\u001b[39mreal_data_collection,\n\u001b[1;32m----> 3\u001b[0m     synthetic_data\u001b[38;5;241m=\u001b[39m\u001b[43mhma_synthetic_data_collection\u001b[49m,\n\u001b[0;32m      4\u001b[0m     metadata\u001b[38;5;241m=\u001b[39msdv_metadata)\n",
      "\u001b[1;31mNameError\u001b[0m: name 'hma_synthetic_data_collection' is not defined"
     ]
    }
   ],
   "source": [
    "hma_quality_report = evaluate_quality(\n",
    "    real_data=real_data_collection,\n",
    "    synthetic_data=hma_synthetic_data_collection,\n",
    "    metadata=sdv_metadata)"
   ]
  },
  {
   "cell_type": "code",
   "execution_count": null,
   "id": "5dfd3eff-90eb-4252-bedd-c3ce6e0aac74",
   "metadata": {},
   "outputs": [],
   "source": [
    "prototype_quality_report = evaluate_quality(\n",
    "    real_data=real_data_collection,\n",
    "    synthetic_data=synthetic_data_collection,\n",
    "    metadata=sdv_metadata)"
   ]
  }
 ],
 "metadata": {
  "kernelspec": {
   "display_name": "Python 3 (ipykernel)",
   "language": "python",
   "name": "python3"
  },
  "language_info": {
   "codemirror_mode": {
    "name": "ipython",
    "version": 3
   },
   "file_extension": ".py",
   "mimetype": "text/x-python",
   "name": "python",
   "nbconvert_exporter": "python",
   "pygments_lexer": "ipython3",
   "version": "3.9.16"
  }
 },
 "nbformat": 4,
 "nbformat_minor": 5
}
