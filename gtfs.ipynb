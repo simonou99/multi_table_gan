{
 "cells": [
  {
   "cell_type": "markdown",
   "id": "ed277bcc-0b53-44b4-9072-343f704588ca",
   "metadata": {},
   "source": [
    "# import"
   ]
  },
  {
   "cell_type": "code",
   "execution_count": 1,
   "id": "9b6344e5-e74b-42a5-8a1d-95bd2f963a77",
   "metadata": {},
   "outputs": [],
   "source": [
    "import os\n",
    "import random\n",
    "import numpy as np\n",
    "import pandas as pd\n",
    "import matplotlib.pyplot as plt\n",
    "# import tensorflow as tf\n",
    "from tensorflow.keras import layers, models, optimizers, losses, backend, constraints\n",
    "from sklearn.preprocessing import MinMaxScaler, StandardScaler\n",
    "from sklearn import metrics\n",
    "from sklearn.impute import SimpleImputer\n",
    "# from table_evaluator import load_data, TableEvaluator\n",
    "# from sklearn.ensemble import RandomForestClassifier\n",
    "# from sklearn.model_selection import train_test_split"
   ]
  },
  {
   "cell_type": "markdown",
   "id": "9f6aa2d4-7b51-45ff-bc4a-1d3e9d7a0b65",
   "metadata": {
    "tags": []
   },
   "source": [
    "# load data"
   ]
  },
  {
   "cell_type": "code",
   "execution_count": 2,
   "id": "8b2e5505-8cda-4ecb-a414-b0d0819f283a",
   "metadata": {},
   "outputs": [],
   "source": [
    "# folder_path = 'gtfs'\n",
    "\n",
    "# agency = pd.read_csv(f'{folder_path}/agency.txt')\n",
    "# calendar = pd.read_csv(f'{folder_path}/calendar.txt')\n",
    "# calendar_dates = pd.read_csv(f'{folder_path}/calendar_dates.txt')\n",
    "# fare_attributes = pd.read_csv(f'{folder_path}/fare_attributes.txt')\n",
    "# fare_rules = pd.read_csv(f'{folder_path}/fare_rules.txt')\n",
    "# feed_info = pd.read_csv(f'{folder_path}/feed_info.txt')\n",
    "# frequencies = pd.read_csv(f'{folder_path}/frequencies.txt')\n",
    "# routes = pd.read_csv(f'{folder_path}/routes.txt')\n",
    "# shapes = pd.read_csv(f'{folder_path}/shapes.txt')\n",
    "# stops = pd.read_csv(f'{folder_path}/stops.txt')\n",
    "# stop_times = pd.read_csv(f'{folder_path}/stop_times.txt')\n",
    "# transfers = pd.read_csv(f'{folder_path}/transfers.txt')\n",
    "# trips = pd.read_csv(f'{folder_path}/trips.txt')"
   ]
  },
  {
   "cell_type": "code",
   "execution_count": 3,
   "id": "db708df7-5740-46d0-b5ff-e08f1e75da8e",
   "metadata": {},
   "outputs": [],
   "source": [
    "# join map\n",
    "# # Read GTFS CSV files\n",
    "# agency = pd.read_csv('gtfs/agency.txt')\n",
    "# stops = pd.read_csv('gtfs/stops.txt')\n",
    "# routes = pd.read_csv('gtfs/routes.txt')\n",
    "# trips = pd.read_csv('gtfs/trips.txt')\n",
    "# stop_times = pd.read_csv('gtfs/stop_times.txt')\n",
    "# calendar = pd.read_csv('gtfs/calendar.txt')\n",
    "# routes_agency = routes.merge(agency, on='agency_id', how='left')\n",
    "# trips_routes = trips.merge(routes_agency, on='route_id', how='left')\n",
    "# stop_times_trips = stop_times.merge(trips_routes, on='trip_id', how='left')\n",
    "# stop_times_trips_stops = stop_times_trips.merge(stops, on='stop_id', how='left')\n",
    "# trips_calendar = trips.merge(calendar, on='service_id', how='left')\n",
    "# joined_data = stop_times_trips_stops.merge(trips_calendar, on=['trip_id', 'route_id', 'service_id'], how='left', suffixes=('', '_y'))\n",
    "# joined_data = joined_data.loc[:, ~joined_data.columns.str.endswith('_y')]\n",
    "# joined_data.head()"
   ]
  },
  {
   "cell_type": "code",
   "execution_count": 4,
   "id": "37644fb8-5f08-496c-8403-c221fb097027",
   "metadata": {},
   "outputs": [],
   "source": [
    "def load_data_collection(dir_path):\n",
    "    gtfs_files = [f for f in os.listdir(dir_path)]\n",
    "    data_collection = {}\n",
    "    for f in gtfs_files:\n",
    "        f_path = os.path.join(dir_path, f)\n",
    "        data = pd.read_csv(f_path)\n",
    "        if not data.empty:\n",
    "            data_collection[f.split(\".\")[0]] = data\n",
    "    return data_collection"
   ]
  },
  {
   "cell_type": "code",
   "execution_count": 5,
   "id": "1fabfedb-af59-44de-851f-1fb41a26f071",
   "metadata": {},
   "outputs": [],
   "source": [
    "# def preprocess(data_collection):\n",
    "    # for k, v in data_collection.items():\n",
    "    #     current_data = v.select_dtypes(include=[np.number]).astype(np.float32)\n",
    "    #     scaler = StandardScaler()\n",
    "    #     data_collection[k] = scaler.fit_transform(current_data)\n",
    "    # return data_collection"
   ]
  },
  {
   "cell_type": "code",
   "execution_count": 6,
   "id": "b185c1d6-6ba7-42a7-9038-a114ac10fe0a",
   "metadata": {},
   "outputs": [],
   "source": [
    "def create_relation_dict(data_collection):\n",
    "    relation_dict = {}\n",
    "    for this_df_name, this_df in data_collection.items():\n",
    "        this_df_dict = {}\n",
    "        for this_col in this_df.columns:\n",
    "            for that_df_name, that_df in data_collection.items():\n",
    "                if that_df_name != this_df_name: # and that_df_name not in relation_dict.keys():\n",
    "                    for that_col in that_df.columns:\n",
    "                        if this_col == that_col and 'id' in this_col:\n",
    "                            this_df_dict[that_df_name] = [this_col, that_col]\n",
    "        relation_dict[this_df_name] = this_df_dict\n",
    "    return relation_dict"
   ]
  },
  {
   "cell_type": "code",
   "execution_count": 7,
   "id": "43100845-8f4f-4fb9-b765-073cdfe09426",
   "metadata": {},
   "outputs": [],
   "source": [
    "raw_data_collection = load_data_collection(\"gtfs\")"
   ]
  },
  {
   "cell_type": "code",
   "execution_count": 8,
   "id": "f2b28726-97c5-43ae-b3a7-16b40e42ffd0",
   "metadata": {},
   "outputs": [],
   "source": [
    "join_metadata = create_relation_dict(raw_data_collection)"
   ]
  },
  {
   "cell_type": "code",
   "execution_count": 9,
   "id": "9f31ea61-cfbc-45ec-9fe1-4cabd24f9481",
   "metadata": {},
   "outputs": [
    {
     "data": {
      "text/plain": [
       "{'agency': {'routes': ['agency_id', 'agency_id']},\n",
       " 'calendar': {'calendar_dates': ['service_id', 'service_id'],\n",
       "  'trips': ['service_id', 'service_id']},\n",
       " 'calendar_dates': {'calendar': ['service_id', 'service_id'],\n",
       "  'trips': ['service_id', 'service_id']},\n",
       " 'feed_info': {},\n",
       " 'routes': {'trips': ['route_id', 'route_id'],\n",
       "  'agency': ['agency_id', 'agency_id']},\n",
       " 'shapes': {'trips': ['shape_id', 'shape_id']},\n",
       " 'stops': {'stop_times': ['stop_id', 'stop_id']},\n",
       " 'stop_times': {'trips': ['trip_id', 'trip_id'],\n",
       "  'stops': ['stop_id', 'stop_id']},\n",
       " 'trips': {'routes': ['route_id', 'route_id'],\n",
       "  'calendar': ['service_id', 'service_id'],\n",
       "  'calendar_dates': ['service_id', 'service_id'],\n",
       "  'stop_times': ['trip_id', 'trip_id'],\n",
       "  'shapes': ['shape_id', 'shape_id']}}"
      ]
     },
     "execution_count": 9,
     "metadata": {},
     "output_type": "execute_result"
    }
   ],
   "source": [
    "join_metadata"
   ]
  },
  {
   "cell_type": "markdown",
   "id": "0030c3c8-efd3-4412-a936-e735a0ff0d11",
   "metadata": {},
   "source": [
    "# preprocess"
   ]
  },
  {
   "cell_type": "code",
   "execution_count": 10,
   "id": "ea160cb7-5a00-4415-9db6-65a1fed80c6d",
   "metadata": {},
   "outputs": [],
   "source": [
    "def create_preprocess_dict():\n",
    "    preprocess_dict = {}\n",
    "    preprocess_dict['transformation'] = {}\n",
    "    preprocess_dict['transformation']['drop'] = []\n",
    "    preprocess_dict['transformation']['factorize'] = []\n",
    "    preprocess_dict['transformation']['to_strip'] = []\n",
    "    preprocess_dict['transformation']['to_elapsed_time'] = []\n",
    "    preprocess_dict['transformation']['to_elapsed_days'] = []\n",
    "    preprocess_dict['nans_conversion'] = {}\n",
    "    preprocess_dict['nans_conversion']['impute'] = []\n",
    "    preprocess_dict['nans_conversion']['replace_with_neg_one'] = []\n",
    "    preprocess_dict['nans_conversion']['replace_with_zeros'] = []\n",
    "    return preprocess_dict"
   ]
  },
  {
   "cell_type": "code",
   "execution_count": 11,
   "id": "a43626da-f738-4269-b5ff-62333d036e9d",
   "metadata": {},
   "outputs": [],
   "source": [
    "def preprocess_individual_data(data, preprocess_dict, factorization_dict, timestamp = pd.Timestamp('1900-01-01')):\n",
    "    # reverse_transform_dict = {}\n",
    "    for stage in preprocess_dict.keys():\n",
    "        if stage == 'transformation':\n",
    "            for method, col_list in preprocess_dict[stage].items():\n",
    "                if len(col_list) != 0 or None:\n",
    "                    if method == 'drop':\n",
    "                        data = data.drop(col_list, axis=1)\n",
    "                    if method == 'factorize':\n",
    "                        for col in col_list:\n",
    "                            data[col] = data[col].map(factorization_dict[col])\n",
    "                    if method == 'to_strip':\n",
    "                        for col in col_list:\n",
    "                            # convert some column to numbers\n",
    "                            # e.g. `123-45-6` -> `123456`\n",
    "                            data[col] = data[col].str.replace(r'\\D', '').astype(int)\n",
    "                    if method == \"to_elapsed_time\":\n",
    "                        for col in col_list:\n",
    "                            cur_col = pd.to_timedelta(data[col])\n",
    "                            cur_col = cur_col % pd.Timedelta(days=1)\n",
    "                            data[col] = cur_col.dt.total_seconds()\n",
    "                    if method == \"to_elapsed_days\":\n",
    "                        for col in col_list:\n",
    "                            cur_col = pd.to_datetime(data[col])\n",
    "                            data[col] = (pd.to_datetime(cur_col) - timestamp).dt.days\n",
    "        if stage == 'nans_conversion':\n",
    "            for method, col_list in preprocess_dict[stage].items():\n",
    "                if len(col_list) != 0 or None:\n",
    "                    if method == 'impute':\n",
    "                        imputer = SimpleImputer(strategy='mean')\n",
    "                        data[col_list] = imputer.fit_transform(data[col_list])\n",
    "                    if method == 'replace_with_neg_one':\n",
    "                        data[col_list] = data[col_list].fillna(-1)\n",
    "                    if method == 'replace_with_zeros':\n",
    "                        data[col_list] = data[col_list].fillna(0)\n",
    "    # scaler = MinMaxScaler(feature_range=(-1, 1))\n",
    "    # scaled_data = scaler.fit_transform(data)\n",
    "    return data"
   ]
  },
  {
   "cell_type": "code",
   "execution_count": 12,
   "id": "bfbc6a94-8564-48d8-9e01-64f58dfce052",
   "metadata": {},
   "outputs": [],
   "source": [
    "def create_factorization_dict(data_collection, selected_columns):\n",
    "    # Combine unique values from all DataFrames for each selected column\n",
    "    unique_values = {}\n",
    "    for col in selected_columns:\n",
    "        local_unique_values = pd.concat([df[col] for df in data_collection.values() if col in df.columns]).unique()\n",
    "        unique_values[col] = local_unique_values\n",
    "\n",
    "    # Create a nested factorization dictionary\n",
    "    factorization_dict = {}\n",
    "    for col, local_unique_values in unique_values.items():\n",
    "        factorization_dict[col] = {v: i for i, v in enumerate(local_unique_values)}\n",
    "\n",
    "    return(factorization_dict)"
   ]
  },
  {
   "cell_type": "code",
   "execution_count": 13,
   "id": "e4aad625-bd96-4709-a788-b34601ffebd1",
   "metadata": {
    "scrolled": true,
    "tags": []
   },
   "outputs": [],
   "source": [
    "features_to_factorize = ['agency_id','agency_name',\n",
    "                         'agency_url','agency_timezone',\n",
    "                         'agency_lang','service_id',\n",
    "                        'feed_publisher_name','feed_publisher_url',\n",
    "                        'feed_lang','feed_version',\n",
    "                        'route_id','route_short_name',\n",
    "                        'route_long_name','route_color',\n",
    "                         'route_text_color','contract_id',\n",
    "                        'shape_id','stop_id',\n",
    "                        'stop_name','parent_station',\n",
    "                        'platform_code','trip_id',\n",
    "                        'stop_headsign','trip_headsign']\n",
    "factorization_dict = create_factorization_dict(raw_data_collection, features_to_factorize)"
   ]
  },
  {
   "cell_type": "markdown",
   "id": "d5d2f690-595f-4824-982b-a4eacecc3910",
   "metadata": {},
   "source": [
    "## preprocess individual data"
   ]
  },
  {
   "cell_type": "code",
   "execution_count": 14,
   "id": "282adcc5-dde7-4504-b81e-9617b9b7c580",
   "metadata": {},
   "outputs": [],
   "source": [
    "real_data_collection = {}"
   ]
  },
  {
   "cell_type": "markdown",
   "id": "3941e82d-821f-447a-8c2e-8fca8749dfa0",
   "metadata": {},
   "source": [
    "### agency"
   ]
  },
  {
   "cell_type": "code",
   "execution_count": 15,
   "id": "bef7d9f3-25f6-42c0-8eb2-e9ded03b6dcb",
   "metadata": {},
   "outputs": [
    {
     "name": "stderr",
     "output_type": "stream",
     "text": [
      "C:\\Users\\ouzho\\AppData\\Local\\Temp\\ipykernel_10376\\2025635260.py:16: FutureWarning: The default value of regex will change from True to False in a future version.\n",
      "  data[col] = data[col].str.replace(r'\\D', '').astype(int)\n"
     ]
    }
   ],
   "source": [
    "preprocess_dict = create_preprocess_dict()\n",
    "preprocess_dict['transformation']['drop'] = ['agency_fare_url','agency_email']\n",
    "preprocess_dict['transformation']['factorize'] = ['agency_id', 'agency_name','agency_url','agency_timezone','agency_lang']\n",
    "preprocess_dict['transformation']['to_strip'] = ['agency_phone']\n",
    "real_data_collection['agency'] = preprocess_individual_data(raw_data_collection['agency'], preprocess_dict, factorization_dict)"
   ]
  },
  {
   "cell_type": "markdown",
   "id": "8f278677-b5b3-4252-8141-0a142b47562c",
   "metadata": {},
   "source": [
    "### calendar"
   ]
  },
  {
   "cell_type": "code",
   "execution_count": 16,
   "id": "dfcca997-62df-47a3-abe4-b55842d25af5",
   "metadata": {},
   "outputs": [],
   "source": [
    "preprocess_dict = create_preprocess_dict()\n",
    "preprocess_dict['transformation']['factorize'] = ['service_id']\n",
    "preprocess_dict['transformation']['to_elapsed_days'] = ['start_date','end_date']\n",
    "real_data_collection['calendar'] = preprocess_individual_data(raw_data_collection['calendar'], preprocess_dict, factorization_dict)"
   ]
  },
  {
   "cell_type": "markdown",
   "id": "374b8652-4e4b-4f33-9a9a-5cd3c3717668",
   "metadata": {},
   "source": [
    "### calendar_dates"
   ]
  },
  {
   "cell_type": "code",
   "execution_count": 17,
   "id": "38deb9ca-8215-4891-8d19-c437ffda9877",
   "metadata": {},
   "outputs": [],
   "source": [
    "preprocess_dict = create_preprocess_dict()\n",
    "preprocess_dict['transformation']['factorize'] = ['service_id']\n",
    "preprocess_dict['transformation']['to_elapsed_days'] = ['date']\n",
    "real_data_collection['calendar_dates'] = preprocess_individual_data(raw_data_collection['calendar_dates'], preprocess_dict, factorization_dict)"
   ]
  },
  {
   "cell_type": "markdown",
   "id": "ebfb7bb3-6c5a-4a82-b7b7-81ee2f5b25d0",
   "metadata": {},
   "source": [
    "### feed_info"
   ]
  },
  {
   "cell_type": "code",
   "execution_count": 18,
   "id": "88c27af8-0471-47db-b4b0-7fb487fdd98c",
   "metadata": {},
   "outputs": [],
   "source": [
    "preprocess_dict = create_preprocess_dict()\n",
    "preprocess_dict['transformation']['factorize'] = ['feed_publisher_name',\n",
    "                                                  'feed_publisher_url',\n",
    "                                                 'feed_lang',\n",
    "                                                 'feed_version']\n",
    "preprocess_dict['transformation']['to_elapsed_days'] = ['feed_start_date','feed_end_date']\n",
    "real_data_collection['feed_info'] = preprocess_individual_data(raw_data_collection['feed_info'], preprocess_dict, factorization_dict)"
   ]
  },
  {
   "cell_type": "markdown",
   "id": "727e21f9-890a-4a8b-99a9-fb852ae82195",
   "metadata": {},
   "source": [
    "### routes"
   ]
  },
  {
   "cell_type": "code",
   "execution_count": 19,
   "id": "fd77431d-7d88-4dce-9121-a04f4c12c547",
   "metadata": {},
   "outputs": [],
   "source": [
    "preprocess_dict = create_preprocess_dict()\n",
    "preprocess_dict['transformation']['drop'] = ['route_desc','route_url','route_sort_order']\n",
    "preprocess_dict['transformation']['factorize'] = ['route_id',\n",
    "                                                  'agency_id',\n",
    "                                                 'route_short_name',\n",
    "                                                 'route_long_name',\n",
    "                                                 'route_color',\n",
    "                                                 'route_text_color',\n",
    "                                                 'contract_id']\n",
    "preprocess_dict['nans_conversion']['impute'] = ['route_color','route_text_color']\n",
    "real_data_collection['routes'] = preprocess_individual_data(raw_data_collection['routes'], preprocess_dict, factorization_dict)"
   ]
  },
  {
   "cell_type": "markdown",
   "id": "00ad060e-fcea-440a-aed9-dd9bc926684f",
   "metadata": {},
   "source": [
    "### shapes"
   ]
  },
  {
   "cell_type": "code",
   "execution_count": 20,
   "id": "9b5589da-6b58-48d1-b3eb-aecfbad81d6a",
   "metadata": {},
   "outputs": [],
   "source": [
    "preprocess_dict = create_preprocess_dict()\n",
    "preprocess_dict['transformation']['factorize'] = ['shape_id']\n",
    "real_data_collection['shapes'] = preprocess_individual_data(raw_data_collection['shapes'], preprocess_dict, factorization_dict)"
   ]
  },
  {
   "cell_type": "markdown",
   "id": "7f5c8015-fd45-4741-9393-f7c2815f7851",
   "metadata": {},
   "source": [
    "### stops"
   ]
  },
  {
   "cell_type": "code",
   "execution_count": 21,
   "id": "8e61ffc7-1168-4333-b4a3-3f9e44bf89cf",
   "metadata": {},
   "outputs": [],
   "source": [
    "preprocess_dict = create_preprocess_dict()\n",
    "preprocess_dict['transformation']['factorize'] = ['stop_id','stop_name','parent_station','platform_code']\n",
    "preprocess_dict['transformation']['to_elapsed_days'] = ['start_date','end_date']\n",
    "preprocess_dict['transformation']['drop'] = ['stop_desc','zone_id','stop_url','stop_timezone']\n",
    "preprocess_dict['nans_conversion']['impute'] = ['parent_station','platform_code']\n",
    "real_data_collection['stops'] = preprocess_individual_data(raw_data_collection['stops'], preprocess_dict, factorization_dict)"
   ]
  },
  {
   "cell_type": "markdown",
   "id": "b0265679-0e19-4597-8554-42c4963f8f8c",
   "metadata": {},
   "source": [
    "### stop_times"
   ]
  },
  {
   "cell_type": "code",
   "execution_count": 22,
   "id": "04cf6ba2-8f2e-4def-96af-560e9515146f",
   "metadata": {},
   "outputs": [],
   "source": [
    "preprocess_dict = create_preprocess_dict()\n",
    "preprocess_dict['transformation']['factorize'] = ['trip_id','stop_id','stop_headsign']\n",
    "preprocess_dict['transformation']['to_elapsed_time'] = ['arrival_time','departure_time']\n",
    "real_data_collection['stop_times'] = preprocess_individual_data(raw_data_collection['stop_times'], preprocess_dict, factorization_dict)"
   ]
  },
  {
   "cell_type": "markdown",
   "id": "b5b77631-6496-485c-b725-cd0f7fa88cd5",
   "metadata": {},
   "source": [
    "### trips"
   ]
  },
  {
   "cell_type": "code",
   "execution_count": 23,
   "id": "c4fe2aa8-61f4-4cab-9d65-ede31a55b844",
   "metadata": {},
   "outputs": [],
   "source": [
    "preprocess_dict = create_preprocess_dict()\n",
    "preprocess_dict['transformation']['factorize'] = ['route_id','service_id','trip_id','trip_headsign','shape_id']\n",
    "preprocess_dict['transformation']['drop'] = ['trip_short_name','block_id']\n",
    "real_data_collection['trips'] = preprocess_individual_data(raw_data_collection['trips'], preprocess_dict, factorization_dict)"
   ]
  },
  {
   "cell_type": "markdown",
   "id": "d8fa2e80-2ca0-4d2c-881d-94de5c331119",
   "metadata": {},
   "source": [
    "## scaling"
   ]
  },
  {
   "cell_type": "code",
   "execution_count": 24,
   "id": "8846e997-fe62-44f4-9492-03ef527737f8",
   "metadata": {},
   "outputs": [],
   "source": [
    "def batch_scaling(real_data_collection):\n",
    "    scaled_data_collection = real_data_collection\n",
    "    scaler_dict = {}\n",
    "    columns_dict = {}\n",
    "    for data_name, df in scaled_data_collection.items():\n",
    "        columns_dict[data_name] = df.columns\n",
    "        scaler = MinMaxScaler(feature_range = (-1,1))\n",
    "        scaler_dict[data_name] = scaler\n",
    "        scaled_data_collection[data_name] = scaler.fit_transform(df)\n",
    "    return scaled_data_collection, scaler_dict, columns_dict"
   ]
  },
  {
   "cell_type": "code",
   "execution_count": 25,
   "id": "1722d31b-d5f0-4543-aad2-809933ae3f66",
   "metadata": {},
   "outputs": [],
   "source": [
    "scaled_data_collection, scaler_collection, columns_dict = batch_scaling(real_data_collection)"
   ]
  },
  {
   "cell_type": "code",
   "execution_count": 26,
   "id": "0cd4b289-3ee0-4417-99fd-869cc51437a8",
   "metadata": {},
   "outputs": [],
   "source": [
    "columns_dict['agency'] = {'column_names':columns_dict['agency'],'primary_key':'agency_id'}\n",
    "columns_dict['calendar'] = {'column_names':columns_dict['calendar'],'primary_key':'service_id'}\n",
    "columns_dict['calendar_dates'] = {'column_names':columns_dict['calendar_dates'],'primary_key':'date'}\n",
    "columns_dict['feed_info'] = {'column_names':columns_dict['feed_info'],'primary_key':'feed_publisher_url'}\n",
    "columns_dict['routes'] = {'column_names':columns_dict['routes'],'primary_key':'route_id'}\n",
    "columns_dict['shapes'] = {'column_names':columns_dict['shapes'],'primary_key':'shape_id'}\n",
    "columns_dict['stops'] = {'column_names':columns_dict['stops'],'primary_key':'stop_id'}\n",
    "columns_dict['stop_times'] = {'column_names':columns_dict['stop_times'],'primary_key':None}\n",
    "columns_dict['trips'] = {'column_names':columns_dict['trips'],'primary_key':'trip_id'}"
   ]
  },
  {
   "cell_type": "markdown",
   "id": "cd49eb54-1738-4599-874d-571ca5fdd9be",
   "metadata": {},
   "source": [
    "# Train GAN"
   ]
  },
  {
   "cell_type": "markdown",
   "id": "e9a7d67a-017f-4302-99bc-5f2d6b3abf3a",
   "metadata": {},
   "source": [
    "## Sample & Noise Generation"
   ]
  },
  {
   "cell_type": "code",
   "execution_count": 27,
   "id": "a83737af-f265-4f35-b7f3-a9055f79f5a8",
   "metadata": {},
   "outputs": [],
   "source": [
    "def sample_data(data, size):\n",
    "    return data[np.random.randint(0, data.shape[0], size)]"
   ]
  },
  {
   "cell_type": "code",
   "execution_count": 28,
   "id": "5d8321ba-da45-4041-9dd9-25baec7e64a1",
   "metadata": {},
   "outputs": [],
   "source": [
    "def generate_noise(n_samples, n_features):\n",
    "    return np.random.uniform(-1, 1, (n_samples, n_features))"
   ]
  },
  {
   "cell_type": "markdown",
   "id": "3d9862f5-6fc4-464d-8055-6d04a3dbc826",
   "metadata": {},
   "source": [
    "## Define Custom Setting (Wasserstein Loss)"
   ]
  },
  {
   "cell_type": "code",
   "execution_count": 29,
   "id": "f33fe30f-4133-4f04-ba15-b695c11c8fb6",
   "metadata": {},
   "outputs": [],
   "source": [
    "def wasserstein_loss(y_true, y_pred):\n",
    "    return backend.mean(y_true*y_pred)"
   ]
  },
  {
   "cell_type": "code",
   "execution_count": 30,
   "id": "d6e6482a-21b9-4370-a7dc-76889aaa5d43",
   "metadata": {
    "tags": []
   },
   "outputs": [],
   "source": [
    "class ClipConstraint(constraints.Constraint):\n",
    "    def __init__(self, clip_value):\n",
    "        self.clip_value = clip_value\n",
    "        \n",
    "    def __call__(self, weights):\n",
    "        return backend.clip(weights, -self.clip_value, self.clip_value)\n",
    "    \n",
    "    def get_config(self):\n",
    "        return {'clip_value': self.clip_value}"
   ]
  },
  {
   "cell_type": "markdown",
   "id": "7d64966e-d261-41f4-92b1-0d979c9deceb",
   "metadata": {},
   "source": [
    "## Define Plotting Function For G/D Loss"
   ]
  },
  {
   "cell_type": "code",
   "execution_count": 31,
   "id": "558eca6b-dc6e-45a4-a77d-5a2139ef78b2",
   "metadata": {},
   "outputs": [],
   "source": [
    "import matplotlib.pyplot as plt\n",
    "\n",
    "def plot_history(logs):\n",
    "    n = len(logs)\n",
    "    n_rows = (n + 2) // 3\n",
    "\n",
    "    fig, axes = plt.subplots(n_rows, 3, figsize=(15, 5 * n_rows), sharex=True, sharey=True)\n",
    "    axes = axes.flatten()\n",
    "\n",
    "    for i, (model_name, generator_log, discriminator_log) in enumerate(logs):\n",
    "        axes[i].plot(generator_log, label='gen')\n",
    "        axes[i].plot(discriminator_log, label='d')\n",
    "        axes[i].legend()\n",
    "        axes[i].set_title(model_name)\n",
    "\n",
    "    for i in range(n, n_rows * 3):\n",
    "        axes[i].remove()\n",
    "\n",
    "    plt.tight_layout()\n",
    "    plt.show()\n",
    "    plt.close()"
   ]
  },
  {
   "cell_type": "markdown",
   "id": "8134ba08-ad73-4d99-ae5d-a14e73c5a9d6",
   "metadata": {},
   "source": [
    "## (!) Define Main Generator, Discriminator, WGAN Function"
   ]
  },
  {
   "cell_type": "code",
   "execution_count": 32,
   "id": "96d53099-c234-40c6-ad10-ede92dbe47ac",
   "metadata": {},
   "outputs": [],
   "source": [
    "def build_generator(input_dim, output_dim):\n",
    "    model = models.Sequential()\n",
    "    model.add(layers.Dense(units=128,\n",
    "                           input_dim=input_dim,\n",
    "                           kernel_initializer='he_uniform',\n",
    "                           activation='LeakyReLU'))\n",
    "    model.add(layers.BatchNormalization())\n",
    "    # model.add(layers.Dense(units=64, activation='LeakyReLU'))\n",
    "    # model.add(layers.Dense(units=64, activation='LeakyReLU'))\n",
    "    model.add(layers.Reshape((4, 32)))\n",
    "    model.add(layers.Conv1DTranspose(64,\n",
    "                                     kernel_size=3,\n",
    "                                     strides=2,\n",
    "                                     padding=\"same\",\n",
    "                                     activation=\"LeakyReLU\"))\n",
    "    model.add(layers.Conv1DTranspose(32,\n",
    "                                     kernel_size=3,\n",
    "                                     strides=2,\n",
    "                                     padding=\"same\",\n",
    "                                     activation=\"LeakyReLU\"))\n",
    "    model.add(layers.BatchNormalization())\n",
    "    model.add(layers.Flatten())\n",
    "    model.add(layers.Dense(units=output_dim, activation='tanh'))\n",
    "    return model"
   ]
  },
  {
   "cell_type": "code",
   "execution_count": 33,
   "id": "931b95ef-fb22-48bb-aff3-e7886fc5f34e",
   "metadata": {},
   "outputs": [],
   "source": [
    "def build_discriminator(input_dim, constraint_rate=0.01, optimization_rate=0.00005):\n",
    "    clip_const = ClipConstraint(constraint_rate)\n",
    "    rms_opt = optimizers.RMSprop(optimization_rate)\n",
    "    model = models.Sequential()\n",
    "    model.add(layers.Dense(128,\n",
    "                           input_dim=input_dim,\n",
    "                           kernel_initializer='he_uniform',\n",
    "                           kernel_constraint=clip_const,\n",
    "                           activation='LeakyReLU'))\n",
    "    model.add(layers.BatchNormalization())\n",
    "    model.add(layers.Reshape((4, 32)))\n",
    "    model.add(layers.Conv1D(64,\n",
    "                            kernel_size=4,\n",
    "                            strides=2,\n",
    "                            padding=\"same\",\n",
    "                            kernel_constraint=clip_const,\n",
    "                            activation=\"LeakyReLU\"))\n",
    "    # model.add(layers.Conv1D(64,\n",
    "    #                         kernel_size=4,\n",
    "    #                         strides=2,\n",
    "    #                         padding=\"same\",\n",
    "    #                         kernel_constraint=clip_const,\n",
    "    #                         activation=\"LeakyReLU\"))\n",
    "    # model.add(layers.Dense(64, kernel_constraint=clip_const, activation='LeakyReLU'))\n",
    "    # model.add(layers.Dense(64, kernel_constraint=clip_const, activation='LeakyReLU'))\n",
    "    model.add(layers.BatchNormalization())\n",
    "    model.add(layers.Flatten())\n",
    "    model.add(layers.Dense(units=1, activation='linear'))\n",
    "    model.compile(loss=wasserstein_loss,\n",
    "                  optimizer=rms_opt, metrics=['accuracy'])\n",
    "    return model"
   ]
  },
  {
   "cell_type": "code",
   "execution_count": 34,
   "id": "d482af61-0129-4c4a-aac1-17f07cab20d1",
   "metadata": {},
   "outputs": [],
   "source": [
    "def build_gan(generator, discriminator):\n",
    "    discriminator.trainable = False\n",
    "    model = models.Sequential()\n",
    "    model.add(generator)\n",
    "    model.add(discriminator)\n",
    "    model.compile(loss=wasserstein_loss,\n",
    "                 optimizer='adam')\n",
    "    return model"
   ]
  },
  {
   "cell_type": "markdown",
   "id": "6dd2b8d7-5798-490f-bf13-8233ef51b8d3",
   "metadata": {},
   "source": [
    "## Define Training Strategy"
   ]
  },
  {
   "cell_type": "code",
   "execution_count": 35,
   "id": "8c39aa00-6c56-4ad7-97d3-e6c3d98cb67c",
   "metadata": {},
   "outputs": [],
   "source": [
    "def train_gan(scaled_data_collection, epochs=10, batch_size=128, seed=123):\n",
    "    generator_collection = {}\n",
    "    shape_info_collection = {}\n",
    "    logs = []\n",
    "    \n",
    "    for k, v in scaled_data_collection.items():\n",
    "        random.seed(seed)\n",
    "        generator_log = []\n",
    "        discriminator_log = []\n",
    "        real_data = v\n",
    "        n_features = real_data.shape[1]\n",
    "        shape_info_collection[k] = real_data.shape\n",
    "        \n",
    "        generator = build_generator(n_features, n_features)\n",
    "        discriminator = build_discriminator(n_features)\n",
    "        gan = build_gan(generator, discriminator)\n",
    "        \n",
    "        for epoch in range(epochs):\n",
    "            \n",
    "            noise = generate_noise(batch_size, n_features)\n",
    "            \n",
    "            X_real = sample_data(real_data, batch_size)\n",
    "            X_fake = generator.predict(noise)\n",
    "            y_real = -1 * np.ones((batch_size, 1))\n",
    "            y_fake = np.ones((batch_size, 1))\n",
    "            \n",
    "            d_loss_real, _ = discriminator.train_on_batch(X_real, y_real)\n",
    "            d_loss_fake, _ = discriminator.train_on_batch(X_fake, y_fake)\n",
    "            \n",
    "            d_loss = 0.5 * np.add(d_loss_real, d_loss_fake)\n",
    "            g_loss = gan.train_on_batch(noise, y_real)\n",
    "            generator_log.append(g_loss)\n",
    "            discriminator_log.append(d_loss)\n",
    "            # if epoch % 10 == 0:\n",
    "            print(f\"Dataset: \\\"{k}\\\" [Epoch: {epoch}] [D loss: {np.round(d_loss, 3)}] [G loss: {np.round(g_loss, 3)}]\")\n",
    "        logs.append([k, generator_log,discriminator_log])\n",
    "        generator_collection[k] = generator\n",
    "    plot_history(logs)   \n",
    "    return generator_collection"
   ]
  },
  {
   "cell_type": "markdown",
   "id": "df30c126-718f-4fb8-9e1f-788856cb0409",
   "metadata": {},
   "source": [
    "## Train WGAN"
   ]
  },
  {
   "cell_type": "code",
   "execution_count": 36,
   "id": "460d4f25-0081-4232-a6c0-1e520da7a6de",
   "metadata": {
    "scrolled": true,
    "tags": []
   },
   "outputs": [
    {
     "name": "stdout",
     "output_type": "stream",
     "text": [
      "Dataset: \"agency\" [Epoch: 0] [D loss: -0.005] [G loss: -0.0]\n",
      "Dataset: \"agency\" [Epoch: 1] [D loss: 0.024] [G loss: -0.001]\n",
      "Dataset: \"agency\" [Epoch: 2] [D loss: -0.03] [G loss: -0.001]\n",
      "Dataset: \"agency\" [Epoch: 3] [D loss: -0.063] [G loss: -0.002]\n",
      "Dataset: \"agency\" [Epoch: 4] [D loss: -0.082] [G loss: -0.002]\n",
      "Dataset: \"agency\" [Epoch: 5] [D loss: -0.108] [G loss: -0.003]\n",
      "Dataset: \"agency\" [Epoch: 6] [D loss: -0.141] [G loss: -0.003]\n",
      "Dataset: \"agency\" [Epoch: 7] [D loss: -0.145] [G loss: -0.003]\n",
      "Dataset: \"agency\" [Epoch: 8] [D loss: -0.169] [G loss: -0.003]\n",
      "Dataset: \"agency\" [Epoch: 9] [D loss: -0.187] [G loss: -0.003]\n",
      "Dataset: \"calendar\" [Epoch: 0] [D loss: 0.077] [G loss: -0.002]\n",
      "Dataset: \"calendar\" [Epoch: 1] [D loss: 0.049] [G loss: -0.003]\n",
      "Dataset: \"calendar\" [Epoch: 2] [D loss: -0.05] [G loss: -0.004]\n",
      "Dataset: \"calendar\" [Epoch: 3] [D loss: -0.09] [G loss: -0.006]\n",
      "Dataset: \"calendar\" [Epoch: 4] [D loss: -0.151] [G loss: -0.006]\n",
      "Dataset: \"calendar\" [Epoch: 5] [D loss: -0.183] [G loss: -0.007]\n",
      "Dataset: \"calendar\" [Epoch: 6] [D loss: -0.217] [G loss: -0.008]\n",
      "Dataset: \"calendar\" [Epoch: 7] [D loss: -0.248] [G loss: -0.009]\n",
      "Dataset: \"calendar\" [Epoch: 8] [D loss: -0.287] [G loss: -0.01]\n",
      "Dataset: \"calendar\" [Epoch: 9] [D loss: -0.301] [G loss: -0.01]\n",
      "Dataset: \"calendar_dates\" [Epoch: 0] [D loss: -0.116] [G loss: -0.0]\n",
      "Dataset: \"calendar_dates\" [Epoch: 1] [D loss: -0.03] [G loss: -0.001]\n",
      "Dataset: \"calendar_dates\" [Epoch: 2] [D loss: -0.103] [G loss: -0.001]\n",
      "Dataset: \"calendar_dates\" [Epoch: 3] [D loss: -0.142] [G loss: -0.002]\n",
      "Dataset: \"calendar_dates\" [Epoch: 4] [D loss: -0.177] [G loss: -0.002]\n",
      "Dataset: \"calendar_dates\" [Epoch: 5] [D loss: -0.188] [G loss: -0.002]\n",
      "Dataset: \"calendar_dates\" [Epoch: 6] [D loss: -0.223] [G loss: -0.002]\n",
      "Dataset: \"calendar_dates\" [Epoch: 7] [D loss: -0.251] [G loss: -0.002]\n",
      "Dataset: \"calendar_dates\" [Epoch: 8] [D loss: -0.255] [G loss: -0.002]\n",
      "Dataset: \"calendar_dates\" [Epoch: 9] [D loss: -0.269] [G loss: -0.002]\n",
      "Dataset: \"feed_info\" [Epoch: 0] [D loss: 0.014] [G loss: -0.001]\n",
      "Dataset: \"feed_info\" [Epoch: 1] [D loss: -0.006] [G loss: -0.002]\n",
      "Dataset: \"feed_info\" [Epoch: 2] [D loss: -0.014] [G loss: -0.002]\n",
      "Dataset: \"feed_info\" [Epoch: 3] [D loss: -0.022] [G loss: -0.003]\n",
      "Dataset: \"feed_info\" [Epoch: 4] [D loss: -0.026] [G loss: -0.003]\n",
      "Dataset: \"feed_info\" [Epoch: 5] [D loss: -0.032] [G loss: -0.003]\n",
      "Dataset: \"feed_info\" [Epoch: 6] [D loss: -0.041] [G loss: -0.004]\n",
      "Dataset: \"feed_info\" [Epoch: 7] [D loss: -0.046] [G loss: -0.004]\n",
      "Dataset: \"feed_info\" [Epoch: 8] [D loss: -0.055] [G loss: -0.004]\n",
      "Dataset: \"feed_info\" [Epoch: 9] [D loss: -0.064] [G loss: -0.004]\n",
      "Dataset: \"routes\" [Epoch: 0] [D loss: -0.004] [G loss: 0.001]\n",
      "Dataset: \"routes\" [Epoch: 1] [D loss: 0.103] [G loss: 0.0]\n",
      "Dataset: \"routes\" [Epoch: 2] [D loss: 0.017] [G loss: -0.0]\n",
      "Dataset: \"routes\" [Epoch: 3] [D loss: 0.011] [G loss: -0.001]\n",
      "Dataset: \"routes\" [Epoch: 4] [D loss: -0.028] [G loss: -0.001]\n",
      "Dataset: \"routes\" [Epoch: 5] [D loss: -0.016] [G loss: -0.001]\n",
      "Dataset: \"routes\" [Epoch: 6] [D loss: -0.07] [G loss: -0.001]\n",
      "Dataset: \"routes\" [Epoch: 7] [D loss: -0.112] [G loss: -0.002]\n",
      "Dataset: \"routes\" [Epoch: 8] [D loss: -0.151] [G loss: -0.002]\n",
      "Dataset: \"routes\" [Epoch: 9] [D loss: -0.13] [G loss: -0.002]\n",
      "Dataset: \"shapes\" [Epoch: 0] [D loss: 0.029] [G loss: -0.001]\n",
      "Dataset: \"shapes\" [Epoch: 1] [D loss: 0.033] [G loss: -0.001]\n",
      "Dataset: \"shapes\" [Epoch: 2] [D loss: 0.007] [G loss: -0.002]\n",
      "Dataset: \"shapes\" [Epoch: 3] [D loss: -0.003] [G loss: -0.002]\n",
      "Dataset: \"shapes\" [Epoch: 4] [D loss: -0.007] [G loss: -0.002]\n",
      "Dataset: \"shapes\" [Epoch: 5] [D loss: -0.029] [G loss: -0.003]\n",
      "Dataset: \"shapes\" [Epoch: 6] [D loss: -0.036] [G loss: -0.003]\n",
      "Dataset: \"shapes\" [Epoch: 7] [D loss: -0.048] [G loss: -0.003]\n",
      "Dataset: \"shapes\" [Epoch: 8] [D loss: -0.056] [G loss: -0.003]\n",
      "Dataset: \"shapes\" [Epoch: 9] [D loss: -0.077] [G loss: -0.004]\n",
      "Dataset: \"stops\" [Epoch: 0] [D loss: 0.039] [G loss: -0.001]\n",
      "Dataset: \"stops\" [Epoch: 1] [D loss: 0.007] [G loss: -0.002]\n",
      "Dataset: \"stops\" [Epoch: 2] [D loss: -0.039] [G loss: -0.002]\n",
      "Dataset: \"stops\" [Epoch: 3] [D loss: -0.066] [G loss: -0.003]\n",
      "Dataset: \"stops\" [Epoch: 4] [D loss: -0.095] [G loss: -0.003]\n",
      "Dataset: \"stops\" [Epoch: 5] [D loss: -0.122] [G loss: -0.004]\n",
      "Dataset: \"stops\" [Epoch: 6] [D loss: -0.154] [G loss: -0.004]\n",
      "Dataset: \"stops\" [Epoch: 7] [D loss: -0.165] [G loss: -0.004]\n",
      "Dataset: \"stops\" [Epoch: 8] [D loss: -0.188] [G loss: -0.004]\n",
      "Dataset: \"stops\" [Epoch: 9] [D loss: -0.189] [G loss: -0.005]\n",
      "Dataset: \"stop_times\" [Epoch: 0] [D loss: 0.004] [G loss: -0.002]\n",
      "Dataset: \"stop_times\" [Epoch: 1] [D loss: -0.019] [G loss: -0.003]\n",
      "Dataset: \"stop_times\" [Epoch: 2] [D loss: -0.036] [G loss: -0.004]\n",
      "Dataset: \"stop_times\" [Epoch: 3] [D loss: -0.064] [G loss: -0.004]\n",
      "Dataset: \"stop_times\" [Epoch: 4] [D loss: -0.087] [G loss: -0.005]\n",
      "Dataset: \"stop_times\" [Epoch: 5] [D loss: -0.098] [G loss: -0.005]\n",
      "Dataset: \"stop_times\" [Epoch: 6] [D loss: -0.109] [G loss: -0.006]\n",
      "Dataset: \"stop_times\" [Epoch: 7] [D loss: -0.103] [G loss: -0.006]\n",
      "Dataset: \"stop_times\" [Epoch: 8] [D loss: -0.136] [G loss: -0.006]\n",
      "Dataset: \"stop_times\" [Epoch: 9] [D loss: -0.154] [G loss: -0.007]\n",
      "Dataset: \"trips\" [Epoch: 0] [D loss: 0.055] [G loss: -0.001]\n",
      "Dataset: \"trips\" [Epoch: 1] [D loss: 0.068] [G loss: -0.002]\n",
      "Dataset: \"trips\" [Epoch: 2] [D loss: 0.012] [G loss: -0.003]\n",
      "Dataset: \"trips\" [Epoch: 3] [D loss: -0.014] [G loss: -0.003]\n",
      "Dataset: \"trips\" [Epoch: 4] [D loss: -0.042] [G loss: -0.003]\n",
      "Dataset: \"trips\" [Epoch: 5] [D loss: -0.067] [G loss: -0.003]\n",
      "Dataset: \"trips\" [Epoch: 6] [D loss: -0.074] [G loss: -0.003]\n",
      "Dataset: \"trips\" [Epoch: 7] [D loss: -0.092] [G loss: -0.003]\n",
      "Dataset: \"trips\" [Epoch: 8] [D loss: -0.11] [G loss: -0.004]\n",
      "Dataset: \"trips\" [Epoch: 9] [D loss: -0.124] [G loss: -0.004]\n"
     ]
    },
    {
     "data": {
      "image/png": "[encoded data removed]",
      "text/plain": [
       "<Figure size 1500x1500 with 9 Axes>"
      ]
     },
     "metadata": {},
     "output_type": "display_data"
    }
   ],
   "source": [
    "generator_collection = train_gan(scaled_data_collection)"
   ]
  },
  {
   "cell_type": "markdown",
   "id": "37613df5-a0f7-4158-90e9-39c2f683bb49",
   "metadata": {},
   "source": [
    "# Synthetic Data Generation and Reverse-Transformation"
   ]
  },
  {
   "cell_type": "code",
   "execution_count": 37,
   "id": "dc6ff4d4-e93b-4d19-bea8-85196909d7a1",
   "metadata": {},
   "outputs": [],
   "source": [
    "# def generate_synthetic_tables(generators, join_metadata, columns_dict, scalers, rows_to_generate):\n",
    "#     synthetic_data = {}\n",
    "#     for table_name, generator in generators.items():\n",
    "#         if isinstance(rows_to_generate, int):\n",
    "#             n_rows = rows_to_generate\n",
    "#         elif isinstance(rows_to_generate, dict):\n",
    "#             n_rows = rows_to_generate[table_name]\n",
    "#         else:\n",
    "#             raise ValueError(\"rows_to_generate must be either an int or a dict\")\n",
    "\n",
    "#         noise = np.random.normal(0, 1, (n_rows, generator.input_shape[1]))\n",
    "#         synthetic_rows = generator.predict(noise)\n",
    "\n",
    "#         synthetic_rows = scalers[table_name].inverse_transform(synthetic_rows)\n",
    "\n",
    "#         synthetic_table = pd.DataFrame(synthetic_rows, columns=columns_dict[table_name])\n",
    "        \n",
    "#         for col in synthetic_table.columns:\n",
    "#             if 'id' in col:\n",
    "#                 synthetic_table[col] = synthetic_table[col].round().astype(int)\n",
    "\n",
    "#         synthetic_data[table_name] = synthetic_table\n",
    "\n",
    "#     for table_name, related_tables in join_metadata.items():\n",
    "#         for related_table_name, (table_key, related_table_key) in related_tables.items():\n",
    "#             synthetic_data[table_name] = pd.merge(synthetic_data[table_name],\n",
    "#                                                   synthetic_data[related_table_name],\n",
    "#                                                   left_on=table_key,\n",
    "#                                                   right_on=related_table_key,\n",
    "#                                                   suffixes=('', f'_{related_table_name}'))\n",
    "\n",
    "#     return synthetic_data"
   ]
  },
  {
   "cell_type": "code",
   "execution_count": 38,
   "id": "52e48757-081f-44de-b8c3-ceb0eb01829f",
   "metadata": {},
   "outputs": [],
   "source": [
    "# def generate_synthetic_tables(generators, join_metadata, columns_dict, scalers, rows_to_generate):\n",
    "#     synthetic_data = {}\n",
    "#     key_mappings = {}\n",
    "    \n",
    "#     for table_name, generator in generators.items():\n",
    "#         if isinstance(rows_to_generate, int):\n",
    "#             n_rows = rows_to_generate\n",
    "#         elif isinstance(rows_to_generate, dict):\n",
    "#             n_rows = rows_to_generate[table_name]\n",
    "#         else:\n",
    "#             raise ValueError(\"rows_to_generate must be either an int or a dict\")\n",
    "\n",
    "\n",
    "#         noise = np.random.normal(0, 1, (n_rows, generator.input_shape[1]))\n",
    "#         synthetic_rows = generator.predict(noise)\n",
    "\n",
    "#         synthetic_rows = scalers[table_name].inverse_transform(synthetic_rows)\n",
    "\n",
    "#         synthetic_table = pd.DataFrame(synthetic_rows, columns=columns_dict[table_name])\n",
    "\n",
    "#         for col in synthetic_table.columns:\n",
    "#             if 'id' in str(col):\n",
    "#                 synthetic_table[col] = synthetic_table[col].round().astype(int)\n",
    "\n",
    "#         synthetic_data[table_name] = synthetic_table\n",
    "\n",
    "#     for table_name, related_tables in join_metadata.items():\n",
    "#         for related_table_name, (table_key, related_table_key) in related_tables.items():\n",
    "#             if table_key not in key_mappings:\n",
    "\n",
    "#                 key_mappings[table_key] = synthetic_data[table_name][table_key].unique()\n",
    "\n",
    "#             synthetic_data[related_table_name][related_table_key] = np.random.choice(\n",
    "#                 key_mappings[table_key],\n",
    "#                 size=len(synthetic_data[related_table_name])\n",
    "#             )\n",
    "\n",
    "#     return synthetic_data"
   ]
  },
  {
   "cell_type": "code",
   "execution_count": 39,
   "id": "79691b05-6bb9-402e-b29f-9490c1efa91c",
   "metadata": {},
   "outputs": [],
   "source": [
    "def generate_synthetic_tables(generators, join_metadata, columns_dict, scalers, features_to_factorize, rows_to_generate):\n",
    "    synthetic_data = {}\n",
    "    key_mappings = {}\n",
    "    \n",
    "    # check if `rows_to_generate` is a number or dictionary\n",
    "    # if it's a nmber, generate equal number of rows for all tables.\n",
    "    # if it's a dict, generate corresponding number of rows, useful for table with id as primary key.\n",
    "    for table_name, generator in generators.items():\n",
    "        if isinstance(rows_to_generate, int):\n",
    "            n_rows = rows_to_generate\n",
    "        elif isinstance(rows_to_generate, dict):\n",
    "            n_rows = rows_to_generate[table_name]\n",
    "        else:\n",
    "            raise ValueError(\"rows_to_generate must be either an int or a dict\")\n",
    "\n",
    "        # generate synthetic data\n",
    "        noise = np.random.normal(0, 1, (n_rows, generator.input_shape[1]))\n",
    "        synthetic_rows = generator.predict(noise)\n",
    "        \n",
    "        # reverse transformation\n",
    "        synthetic_rows = scalers[table_name].inverse_transform(synthetic_rows)\n",
    "\n",
    "        # convert to dataframe, add column header for join relation check\n",
    "        synthetic_table = pd.DataFrame(synthetic_rows, columns=columns_dict[table_name]['column_names'])\n",
    "        \n",
    "        # convert primary keys to factor\n",
    "        for col in synthetic_table.columns:\n",
    "            if col in features_to_factorize:\n",
    "                synthetic_table[col] = synthetic_table[col].round().astype(int)\n",
    "\n",
    "        # make the primary key columns unique\n",
    "        primary_key = columns_dict[table_name]['primary_key']\n",
    "        if primary_key is not None:\n",
    "            synthetic_table[primary_key] = np.arange(1, len(synthetic_table) + 1)\n",
    "\n",
    "        synthetic_data[table_name] = synthetic_table\n",
    "\n",
    "    # relation mapping\n",
    "    for table_name, related_tables in join_metadata.items():\n",
    "        # iterate each table, use primary key as reference, map the foreign key\n",
    "        for related_table_name, (table_key, related_table_key) in related_tables.items():\n",
    "            # ensure and make the primary key column unique\n",
    "            if table_key not in key_mappings:\n",
    "                key_mappings[table_key] = synthetic_data[table_name][table_key].unique()\n",
    "            \n",
    "            # ensure the foreign key exist from the parent table\n",
    "            # map foreign key from the parent primary key\n",
    "            synthetic_data[related_table_name][related_table_key] = np.random.choice(\n",
    "                key_mappings[table_key],\n",
    "                size=len(synthetic_data[related_table_name] )\n",
    "            )\n",
    "\n",
    "    return synthetic_data"
   ]
  },
  {
   "cell_type": "code",
   "execution_count": 40,
   "id": "2b32855b-a81a-4d00-9082-217b6c4090bf",
   "metadata": {},
   "outputs": [],
   "source": [
    "rows_to_generate = {k:v.shape[0] for k,v in raw_data_collection.items()}\n",
    "\n",
    "synthetic_data_collection = generate_synthetic_tables(generator_collection, join_metadata, columns_dict, scaler_collection, features_to_factorize, rows_to_generate)"
   ]
  },
  {
   "cell_type": "code",
   "execution_count": 41,
   "id": "d6b38fcc-29f1-4f32-b5e2-0797425acfe1",
   "metadata": {
    "scrolled": true,
    "tags": []
   },
   "outputs": [
    {
     "data": {
      "text/plain": [
       "{'agency':     agency_id  agency_name  agency_url  agency_timezone  agency_lang  \\\n",
       " 0           2            3           1                1            1   \n",
       " 1           9            5           1                1            1   \n",
       " 2           1            8           1                1            1   \n",
       " 3          15            2           1                1            1   \n",
       " 4          12            6           1                1            1   \n",
       " 5           6            4           1                0            1   \n",
       " 6           3            3           1                1            1   \n",
       " 7          14           10           1                1            1   \n",
       " 8           8            3           1                1            1   \n",
       " 9           2            4           1                0            1   \n",
       " 10          1            6           1                1            1   \n",
       " 11          5            4           1                0            1   \n",
       " 12          6            7           1                0            1   \n",
       " 13          5            5           1                1            1   \n",
       " 14          1            3           1                1            1   \n",
       " \n",
       "     agency_phone  \n",
       " 0     93553552.0  \n",
       " 1     93553552.0  \n",
       " 2     93553552.0  \n",
       " 3     93553552.0  \n",
       " 4     93553552.0  \n",
       " 5     93553552.0  \n",
       " 6     93553552.0  \n",
       " 7     93553552.0  \n",
       " 8     93553552.0  \n",
       " 9     93553552.0  \n",
       " 10    93553552.0  \n",
       " 11    93553552.0  \n",
       " 12    93553552.0  \n",
       " 13    93553552.0  \n",
       " 14    93553552.0  ,\n",
       " 'calendar':      service_id    monday   tuesday  wednesday  thursday    friday  saturday  \\\n",
       " 0            72  0.658868  0.240801   0.625774  0.709195  0.677460  0.686933   \n",
       " 1           120  0.445481  0.260147   0.716307  0.602660  0.782405  0.578623   \n",
       " 2            13  0.721740  0.144964   0.667059  0.766259  0.845380  0.631236   \n",
       " 3            75  0.520258  0.097130   0.686486  0.736010  0.852500  0.586250   \n",
       " 4            86  0.458091  0.136999   0.817129  0.739884  0.830766  0.587872   \n",
       " ..          ...       ...       ...        ...       ...       ...       ...   \n",
       " 116          57  0.483761  0.065910   0.692455  0.831946  0.900378  0.710503   \n",
       " 117         103  0.433809  0.054233   0.616169  0.582536  0.850954  0.407070   \n",
       " 118          75  0.415656  0.145092   0.746594  0.676177  0.810907  0.815171   \n",
       " 119         120  0.741343  0.104295   0.744452  0.815691  0.852439  0.346632   \n",
       " 120          21  0.454474  0.071721   0.766064  0.795828  0.876417  0.760146   \n",
       " \n",
       "        sunday    start_date      end_date  \n",
       " 0    0.329290  25567.589844  25567.347656  \n",
       " 1    0.264948  25567.396484  25567.359375  \n",
       " 2    0.243600  25567.494141  25567.312500  \n",
       " 3    0.298071  25567.238281  25567.287109  \n",
       " 4    0.331059  25567.212891  25567.216797  \n",
       " ..        ...           ...           ...  \n",
       " 116  0.196359  25567.226562  25567.314453  \n",
       " 117  0.364446  25567.222656  25567.285156  \n",
       " 118  0.239324  25567.574219  25567.166016  \n",
       " 119  0.220632  25567.265625  25567.304688  \n",
       " 120  0.177471  25567.523438  25567.134766  \n",
       " \n",
       " [121 rows x 10 columns],\n",
       " 'calendar_dates':      service_id  date  exception_type\n",
       " 0            28     1        1.245503\n",
       " 1            27     2        1.149439\n",
       " 2            24     3        1.406208\n",
       " 3            55     4        1.550771\n",
       " 4            32     5        1.361434\n",
       " ..          ...   ...             ...\n",
       " 669          72   670        1.951447\n",
       " 670          62   671        1.166023\n",
       " 671         105   672        1.582487\n",
       " 672         118   673        1.664609\n",
       " 673          59   674        1.954944\n",
       " \n",
       " [674 rows x 3 columns],\n",
       " 'feed_info':    feed_publisher_name  feed_publisher_url  feed_lang  feed_start_date  \\\n",
       " 0                    1                   1          0     25567.814453   \n",
       " \n",
       "    feed_end_date  feed_version  \n",
       " 0   25567.289062             1  ,\n",
       " 'routes':      route_id  agency_id  route_short_name  route_long_name  route_type  \\\n",
       " 0         200         15                42              172    2.312999   \n",
       " 1         150          9                65              151    2.403277   \n",
       " 2         181         11                58              111    2.443697   \n",
       " 3         128          7                41              134    2.413583   \n",
       " 4         129         12                45               25    3.875955   \n",
       " ..        ...        ...               ...              ...         ...   \n",
       " 210        59          3                64              105    3.154495   \n",
       " 211       117          3               107              139    3.243387   \n",
       " 212       103         12                53              142    2.844163   \n",
       " 213        29          7                71               20    3.881157   \n",
       " 214       105         14                59              133    2.884944   \n",
       " \n",
       "      route_color  route_text_color  contract_id  \n",
       " 0              8                 0           19  \n",
       " 1              6                 0           33  \n",
       " 2              4                 0           34  \n",
       " 3              6                 0           18  \n",
       " 4              2                 0           23  \n",
       " ..           ...               ...          ...  \n",
       " 210            5                 0           10  \n",
       " 211            7                 0           19  \n",
       " 212            5                 0           40  \n",
       " 213            2                 0           10  \n",
       " 214            6                 0           23  \n",
       " \n",
       " [215 rows x 8 columns],\n",
       " 'shapes':         shape_id  shape_pt_lat  shape_pt_lon  shape_pt_sequence  \\\n",
       " 0          28880    -36.872948    174.603378        2771.281738   \n",
       " 1         423113    -36.870892    174.658127        2655.182129   \n",
       " 2         134170    -36.891563    174.517197        2643.427246   \n",
       " 3         482805    -36.797459    174.610992        1782.781494   \n",
       " 4         293331    -36.756470    174.616287        2583.815918   \n",
       " ...          ...           ...           ...                ...   \n",
       " 535265    294769    -36.880955    174.732773        2482.581055   \n",
       " 535266    301257    -36.869183    174.670349        2741.068115   \n",
       " 535267    252577    -36.650459    174.552948        3408.355469   \n",
       " 535268    445678    -36.831959    174.593124        3019.768311   \n",
       " 535269    138649    -36.900131    174.685669        2363.201172   \n",
       " \n",
       "         shape_dist_traveled  \n",
       " 0                 38.392155  \n",
       " 1                 56.291309  \n",
       " 2                 30.258814  \n",
       " 3                 32.250648  \n",
       " 4                 36.324635  \n",
       " ...                     ...  \n",
       " 535265            53.313225  \n",
       " 535266            53.765697  \n",
       " 535267            24.917297  \n",
       " 535268            35.166172  \n",
       " 535269            41.575535  \n",
       " \n",
       " [535270 rows x 5 columns],\n",
       " 'stops':       stop_id     stop_code  stop_name   stop_lat    stop_lon  location_type  \\\n",
       " 0        1256  89845.929688       3101 -37.424923  174.679855       0.304250   \n",
       " 1        5748  80871.187500       2351 -37.496513  174.783646       0.219424   \n",
       " 2        3787  80155.007812       2874 -37.066124  175.050507       0.597593   \n",
       " 3        1927  80901.984375       3063 -37.228493  174.844177       0.458622   \n",
       " 4        6254  89452.210938       3238 -37.097363  174.903534       0.626868   \n",
       " ...       ...           ...        ...        ...         ...            ...   \n",
       " 6709     2857  80718.328125       2022 -37.480915  174.989365       0.339621   \n",
       " 6710     4636  72032.406250       2503 -37.619461  175.052002       0.352916   \n",
       " 6711      919  80849.195312       2820 -37.393341  174.803802       0.641802   \n",
       " 6712     5405  79351.835938       2622 -37.180138  174.748825       0.431025   \n",
       " 6713     4838  77147.187500       2824 -37.642330  175.310287       0.273193   \n",
       " \n",
       "       parent_station  platform_code  wheelchair_boarding    start_date  \\\n",
       " 0                 39             13             0.802016  25567.279297   \n",
       " 1                 39             17             0.915434  25567.250000   \n",
       " 2                 45             17             0.608996  25567.367188   \n",
       " 3                 42             14             0.693194  25567.230469   \n",
       " 4                 42              8             0.221838  25567.257812   \n",
       " ...              ...            ...                  ...           ...   \n",
       " 6709              39             25             0.811797  25567.341797   \n",
       " 6710              46             18             0.883464  25567.378906   \n",
       " 6711              44             11             0.783252  25567.726562   \n",
       " 6712              40             17             0.592056  25567.443359   \n",
       " 6713              45             23             0.789464  25567.171875   \n",
       " \n",
       "           end_date  \n",
       " 0     25567.869141  \n",
       " 1     25567.869141  \n",
       " 2     25567.734375  \n",
       " 3     25567.792969  \n",
       " 4     25567.818359  \n",
       " ...            ...  \n",
       " 6709  25567.810547  \n",
       " 6710  25567.787109  \n",
       " 6711  25567.902344  \n",
       " 6712  25567.769531  \n",
       " 6713  25567.826172  \n",
       " \n",
       " [6714 rows x 11 columns],\n",
       " 'stop_times':         trip_id  arrival_time  departure_time  stop_id  stop_sequence  \\\n",
       " 0         26087  80574.960938    78932.640625     4710      51.723488   \n",
       " 1         10330  21428.154297    59301.414062     4678      11.008451   \n",
       " 2         21062  47916.500000    60185.628906     2131      38.957607   \n",
       " 3         19656  63573.207031    67668.562500     1591      44.428638   \n",
       " 4         28392  23304.791016    62253.851562      389      20.011871   \n",
       " ...         ...           ...             ...      ...            ...   \n",
       " 966785    29479  20731.882812    66961.531250     3396      11.963047   \n",
       " 966786    11354  38649.390625    58302.480469     6541      15.946553   \n",
       " 966787    14760  34583.398438    75262.085938     3880      25.375734   \n",
       " 966788     8808  29406.056641    63798.972656     1290      26.468763   \n",
       " 966789    22339  46563.058594    63435.207031     5210      15.954179   \n",
       " \n",
       "         stop_headsign  pickup_type  drop_off_type  shape_dist_traveled  \\\n",
       " 0                  92     0.360846       0.833527             9.826785   \n",
       " 1                  16     0.936449       0.686632             4.778681   \n",
       " 2                  77     0.418842       0.506366            40.148220   \n",
       " 3                 154     0.432970       0.610708            21.013559   \n",
       " 4                  40     0.758978       0.188118            18.240257   \n",
       " ...               ...          ...            ...                  ...   \n",
       " 966785             22     0.846255       0.301830             7.152818   \n",
       " 966786             64     0.665554       0.514839            43.188133   \n",
       " 966787             31     0.762461       0.359989            17.564789   \n",
       " 966788             34     0.660861       0.304870            21.666332   \n",
       " 966789             65     0.548363       0.205152            26.843130   \n",
       " \n",
       "         timepoint  \n",
       " 0        0.482151  \n",
       " 1        0.195018  \n",
       " 2        0.495374  \n",
       " 3        0.419054  \n",
       " 4        0.303752  \n",
       " ...           ...  \n",
       " 966785   0.204176  \n",
       " 966786   0.376184  \n",
       " 966787   0.239568  \n",
       " 966788   0.390187  \n",
       " 966789   0.307761  \n",
       " \n",
       " [966790 rows x 10 columns],\n",
       " 'trips':        route_id  service_id  trip_id  trip_headsign  direction_id  shape_id  \\\n",
       " 0           193         107    27458             62      0.394414    216482   \n",
       " 1           144         121    21987            372      0.882006     69180   \n",
       " 2            68          85    15459            267      0.872230     34808   \n",
       " 3             8          69    23972            135      0.753169    116344   \n",
       " 4           200         119     5889            197      0.772229     98334   \n",
       " ...         ...         ...      ...            ...           ...       ...   \n",
       " 32398       205          12    12395            419      0.952959    321527   \n",
       " 32399       162          46    16002             51      0.645645    403119   \n",
       " 32400       111          36    15270            259      0.758479    413446   \n",
       " 32401        36          11    15744            165      0.720292    100353   \n",
       " 32402       175          85    20257            189      0.730154    113052   \n",
       " \n",
       "        wheelchair_accessible  bikes_allowed  \n",
       " 0                   0.261022       0.856825  \n",
       " 1                   0.779648       0.561868  \n",
       " 2                   0.575267       0.643189  \n",
       " 3                   0.398674       0.750708  \n",
       " 4                   0.440217       0.680643  \n",
       " ...                      ...            ...  \n",
       " 32398               0.822240       0.361449  \n",
       " 32399               0.272380       0.633708  \n",
       " 32400               0.583666       0.642766  \n",
       " 32401               0.664358       0.691273  \n",
       " 32402               0.609008       0.738266  \n",
       " \n",
       " [32403 rows x 8 columns]}"
      ]
     },
     "execution_count": 41,
     "metadata": {},
     "output_type": "execute_result"
    }
   ],
   "source": [
    "synthetic_data_collection"
   ]
  },
  {
   "cell_type": "code",
   "execution_count": null,
   "id": "41414b79-6955-41d3-9ada-ad930596ab62",
   "metadata": {},
   "outputs": [],
   "source": []
  }
 ],
 "metadata": {
  "kernelspec": {
   "display_name": "Python 3 (ipykernel)",
   "language": "python",
   "name": "python3"
  },
  "language_info": {
   "codemirror_mode": {
    "name": "ipython",
    "version": 3
   },
   "file_extension": ".py",
   "mimetype": "text/x-python",
   "name": "python",
   "nbconvert_exporter": "python",
   "pygments_lexer": "ipython3",
   "version": "3.9.16"
  },
  "toc-autonumbering": true
 },
 "nbformat": 4,
 "nbformat_minor": 5
}
