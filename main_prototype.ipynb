{
 "cells": [
  {
   "cell_type": "markdown",
   "id": "ed277bcc-0b53-44b4-9072-343f704588ca",
   "metadata": {
    "tags": []
   },
   "source": [
    "# import"
   ]
  },
  {
   "cell_type": "code",
   "execution_count": 1,
   "id": "9b6344e5-e74b-42a5-8a1d-95bd2f963a77",
   "metadata": {
    "tags": []
   },
   "outputs": [],
   "source": [
    "import os\n",
    "import time\n",
    "import exrex\n",
    "import random\n",
    "import pickle\n",
    "import numpy as np\n",
    "from numpy.lib.stride_tricks import as_strided\n",
    "import pandas as pd\n",
    "from math import ceil\n",
    "from faker import Faker\n",
    "import matplotlib.pyplot as plt\n",
    "from sklearn import metrics\n",
    "from sklearn.decomposition import PCA\n",
    "from sklearn.impute import SimpleImputer\n",
    "from sklearn.neighbors import KernelDensity\n",
    "from sklearn.preprocessing import MinMaxScaler, StandardScaler\n",
    "from sklearn.mixture import BayesianGaussianMixture, GaussianMixture\n",
    "from scipy.interpolate import interp1d\n",
    "from scipy.stats import kstest, ks_2samp, chi2_contingency, wasserstein_distance, norm\n",
    "import tensorflow as tf\n",
    "from tensorflow.compat.v1.logging import set_verbosity, ERROR\n",
    "from tensorflow.keras import layers, models, optimizers, losses, backend, constraints, initializers\n",
    "from sdv.metadata import MultiTableMetadata\n",
    "from rdt import HyperTransformer\n",
    "import rdt.transformers as rt\n",
    "from tqdm import tqdm"
   ]
  },
  {
   "cell_type": "code",
   "execution_count": 2,
   "id": "56aef810-48d7-4597-81df-f8024807d1ff",
   "metadata": {},
   "outputs": [],
   "source": [
    "fake = Faker('en-NZ')"
   ]
  },
  {
   "cell_type": "code",
   "execution_count": 3,
   "id": "cfdcbabf-f624-4961-93c2-1232ffdeffcd",
   "metadata": {},
   "outputs": [],
   "source": [
    "set_verbosity(ERROR)"
   ]
  },
  {
   "cell_type": "code",
   "execution_count": 4,
   "id": "c021bf05-4cd6-4a67-a256-9dbe3433e495",
   "metadata": {},
   "outputs": [],
   "source": [
    "tf.random.set_seed(123)"
   ]
  },
  {
   "cell_type": "code",
   "execution_count": 5,
   "id": "75a5d7f7-bb19-4752-8b91-8bce745a41a8",
   "metadata": {},
   "outputs": [
    {
     "data": {
      "text/plain": [
       "'2.6.0'"
      ]
     },
     "execution_count": 5,
     "metadata": {},
     "output_type": "execute_result"
    }
   ],
   "source": [
    "tf.__version__"
   ]
  },
  {
   "cell_type": "markdown",
   "id": "9f6aa2d4-7b51-45ff-bc4a-1d3e9d7a0b65",
   "metadata": {
    "tags": []
   },
   "source": [
    "# load data"
   ]
  },
  {
   "cell_type": "code",
   "execution_count": 6,
   "id": "37644fb8-5f08-496c-8403-c221fb097027",
   "metadata": {},
   "outputs": [],
   "source": [
    "def load_data_collection(dir_path):\n",
    "    gtfs_files = [f for f in os.listdir(dir_path) if f.endswith('.csv') or f.endswith('.txt')]\n",
    "    data_collection = {}\n",
    "    for f in gtfs_files:\n",
    "        f_path = os.path.join(dir_path, f)\n",
    "        data = pd.read_csv(f_path)\n",
    "        if data.shape[0] > 1:\n",
    "            data_collection[f.split(\".\")[0]] = data\n",
    "    return data_collection"
   ]
  },
  {
   "cell_type": "code",
   "execution_count": 7,
   "id": "43100845-8f4f-4fb9-b765-073cdfe09426",
   "metadata": {},
   "outputs": [],
   "source": [
    "real_data_collection = load_data_collection(\"gtfs\")"
   ]
  },
  {
   "cell_type": "code",
   "execution_count": 8,
   "id": "0112f797-2f74-4718-924b-dcffd5e225f2",
   "metadata": {},
   "outputs": [],
   "source": [
    "del real_data_collection['shapes']"
   ]
  },
  {
   "cell_type": "markdown",
   "id": "9dc6873d-3247-47b8-951c-707a74764428",
   "metadata": {},
   "source": [
    "# Setup Metadata (i.e. Schema)"
   ]
  },
  {
   "cell_type": "markdown",
   "id": "a96ba27c-a971-4d46-999c-437e54c0a9e0",
   "metadata": {},
   "source": [
    "## (Optional) Adjust Daylight-Savings Delta-Time to Traditional DateTime"
   ]
  },
  {
   "cell_type": "code",
   "execution_count": 9,
   "id": "9ea9aed0-2977-4dfd-a897-21c92a88499e",
   "metadata": {},
   "outputs": [],
   "source": [
    "def adjust_time(df, datetime_cols):\n",
    "    for col in datetime_cols:\n",
    "        df[col] = pd.to_timedelta(df[col])\n",
    "        df[col] = df[col] % pd.Timedelta(days=1)\n",
    "        df[col] = df[col].astype(str).str.split().str[-1]\n",
    "    return df"
   ]
  },
  {
   "cell_type": "code",
   "execution_count": 10,
   "id": "41e71165-95db-4737-a4ea-9d37206e47b2",
   "metadata": {},
   "outputs": [],
   "source": [
    "sdv_metadata = MultiTableMetadata()"
   ]
  },
  {
   "cell_type": "code",
   "execution_count": 11,
   "id": "2c84b27c-7e53-4e1b-9201-48061c28203e",
   "metadata": {},
   "outputs": [],
   "source": [
    "columns_to_remove = ['agency_name','agency_fare_url', 'agency_email']\n",
    "real_data_collection['agency'].drop(columns_to_remove, axis=1, inplace=True)"
   ]
  },
  {
   "cell_type": "code",
   "execution_count": 12,
   "id": "440ead5c-2455-41fe-be36-5f095a5650fb",
   "metadata": {},
   "outputs": [],
   "source": [
    "sdv_metadata.detect_table_from_dataframe(table_name='agency', data=real_data_collection['agency'])\n",
    "sdv_metadata.update_column(table_name='agency',column_name='agency_id',sdtype='id',regex_format='[A-Z]{2,5}')\n",
    "sdv_metadata.update_column(table_name='agency',column_name='agency_url',sdtype='categorical')\n",
    "sdv_metadata.update_column(table_name='agency',column_name='agency_timezone',sdtype='categorical')\n",
    "sdv_metadata.update_column(table_name='agency',column_name='agency_lang',sdtype='categorical')\n",
    "sdv_metadata.update_column(table_name='agency',column_name='agency_phone',sdtype='categorical')\n",
    "sdv_metadata.set_primary_key(table_name='agency',column_name='agency_id')"
   ]
  },
  {
   "cell_type": "code",
   "execution_count": 13,
   "id": "b52c4634-7c65-4eab-9ab8-5e99ac623b7a",
   "metadata": {},
   "outputs": [],
   "source": [
    "sdv_metadata.detect_table_from_dataframe(table_name='calendar',data=real_data_collection['calendar'])\n",
    "sdv_metadata.update_column(table_name='calendar',column_name='service_id',sdtype='id',regex_format='[a-zA-Z]{3,5}-\\d{1,2}')\n",
    "sdv_metadata.update_column(table_name='calendar',column_name='monday',sdtype='categorical')\n",
    "sdv_metadata.update_column(table_name='calendar',column_name='tuesday',sdtype='categorical')\n",
    "sdv_metadata.update_column(table_name='calendar',column_name='wednesday',sdtype='categorical')\n",
    "sdv_metadata.update_column(table_name='calendar',column_name='thursday',sdtype='categorical')\n",
    "sdv_metadata.update_column(table_name='calendar',column_name='friday',sdtype='categorical')\n",
    "sdv_metadata.update_column(table_name='calendar',column_name='saturday',sdtype='categorical')\n",
    "sdv_metadata.update_column(table_name='calendar',column_name='sunday',sdtype='categorical')\n",
    "sdv_metadata.update_column(table_name='calendar',column_name='start_date',sdtype='datetime',datetime_format='%Y%m%d')\n",
    "sdv_metadata.update_column(table_name='calendar',column_name='end_date',sdtype='datetime',datetime_format='%Y%m%d')\n",
    "sdv_metadata.set_primary_key(table_name='calendar',column_name='service_id')"
   ]
  },
  {
   "cell_type": "code",
   "execution_count": 14,
   "id": "6fd1c41f-11fc-411b-b502-986d9845e2cc",
   "metadata": {},
   "outputs": [],
   "source": [
    "sdv_metadata.detect_table_from_dataframe(table_name='calendar_dates',data=real_data_collection['calendar_dates'])\n",
    "sdv_metadata.update_column(table_name='calendar_dates',column_name='service_id',sdtype='id',regex_format='[a-zA-Z]{3,5}-\\d{1,2}')\n",
    "sdv_metadata.update_column(table_name='calendar_dates',column_name='date',sdtype='datetime',datetime_format='%Y%m%d')\n",
    "sdv_metadata.update_column(table_name='calendar_dates',column_name='exception_type',sdtype='categorical')"
   ]
  },
  {
   "cell_type": "code",
   "execution_count": 15,
   "id": "73659a67-02b7-48f8-9ca9-80db23db46bd",
   "metadata": {},
   "outputs": [],
   "source": [
    "columns_to_remove = ['route_short_name','route_long_name','route_desc', 'route_url','route_sort_order']\n",
    "real_data_collection['routes'].drop(columns_to_remove, axis=1, inplace=True)\n",
    "real_data_collection['routes']['route_color'] = real_data_collection['routes']['route_color'].fillna('NA')\n",
    "real_data_collection['routes']['route_text_color'] = real_data_collection['routes']['route_text_color'].fillna('NA')"
   ]
  },
  {
   "cell_type": "code",
   "execution_count": 16,
   "id": "2a7596ec-4304-46e8-9d37-a61bae87f04d",
   "metadata": {},
   "outputs": [],
   "source": [
    "sdv_metadata.detect_table_from_dataframe(table_name='routes',data=real_data_collection['routes'])\n",
    "sdv_metadata.update_column(table_name='routes',column_name='route_id',sdtype='id',regex_format='[A-Z]{2,6}-\\d{3}')\n",
    "sdv_metadata.update_column(table_name='routes',column_name='agency_id',sdtype='id',regex_format='[A-Z]{2,5}')\n",
    "sdv_metadata.update_column(table_name='routes',column_name='route_type',sdtype='categorical')\n",
    "sdv_metadata.update_column(table_name='routes',column_name='route_color',sdtype='categorical')\n",
    "sdv_metadata.update_column(table_name='routes',column_name='route_text_color',sdtype='categorical')\n",
    "sdv_metadata.update_column(table_name='routes',column_name='contract_id',sdtype='id',regex_format='([A-Z]{1,5}|\\d{1,5})')\n",
    "sdv_metadata.set_primary_key(table_name='routes',column_name='route_id')"
   ]
  },
  {
   "cell_type": "code",
   "execution_count": 17,
   "id": "233ab08a-2b87-47d3-a709-3e32deca8fa9",
   "metadata": {},
   "outputs": [],
   "source": [
    "columns_to_remove = ['stop_code','stop_name','stop_desc', 'zone_id','stop_url','stop_timezone']\n",
    "real_data_collection['stops'].drop(columns_to_remove, axis=1, inplace=True)\n",
    "real_data_collection['stops']['parent_station'] = real_data_collection['stops']['parent_station'].fillna('NA')\n",
    "real_data_collection['stops']['platform_code'] = real_data_collection['stops']['platform_code'].fillna('NA')"
   ]
  },
  {
   "cell_type": "code",
   "execution_count": 18,
   "id": "eb901e83-76a8-4c04-a4ac-dce006a72066",
   "metadata": {},
   "outputs": [],
   "source": [
    "sdv_metadata.detect_table_from_dataframe(table_name='stops',data=real_data_collection['stops'])\n",
    "sdv_metadata.update_column(table_name='stops',column_name='stop_id',sdtype='id',regex_format='\\d{4,5}-[a-z\\d]{8}')\n",
    "sdv_metadata.update_column(table_name='stops',column_name='stop_lat',sdtype='numerical',computer_representation='Float')\n",
    "sdv_metadata.update_column(table_name='stops',column_name='stop_lon',sdtype='numerical',computer_representation='Float')\n",
    "sdv_metadata.update_column(table_name='stops',column_name='location_type',sdtype='categorical')\n",
    "sdv_metadata.update_column(table_name='stops',column_name='parent_station',sdtype='categorical')\n",
    "sdv_metadata.update_column(table_name='stops',column_name='platform_code',sdtype='categorical')\n",
    "sdv_metadata.update_column(table_name='stops',column_name='wheelchair_boarding',sdtype='categorical')\n",
    "sdv_metadata.update_column(table_name='stops',column_name='start_date',sdtype='datetime',datetime_format='%Y%m%d')\n",
    "sdv_metadata.update_column(table_name='stops',column_name='end_date',sdtype='datetime',datetime_format='%Y%m%d')\n",
    "sdv_metadata.set_primary_key(table_name='stops',column_name='stop_id')"
   ]
  },
  {
   "cell_type": "code",
   "execution_count": 19,
   "id": "cf79c7ea-e569-46c8-8c40-b4cd58655552",
   "metadata": {},
   "outputs": [],
   "source": [
    "columns_to_remove = ['stop_headsign']\n",
    "real_data_collection['stop_times'].drop(columns_to_remove, axis=1, inplace=True)\n",
    "real_data_collection['stop_times'] = adjust_time(real_data_collection['stop_times'], ['arrival_time','departure_time'])"
   ]
  },
  {
   "cell_type": "code",
   "execution_count": 20,
   "id": "2da9c5e3-9856-4253-bf85-ee7350a1a7b4",
   "metadata": {},
   "outputs": [],
   "source": [
    "sdv_metadata.detect_table_from_dataframe(table_name='stop_times',data=real_data_collection['stop_times'])\n",
    "sdv_metadata.update_column(table_name='stop_times',column_name='trip_id',sdtype='id',regex_format='\\d{1,5}-\\d{1,7}-\\d{1,5}-2-[a-z\\d]{1,8}(-[a-z\\d]{1,8})?')\n",
    "sdv_metadata.update_column(table_name='stop_times',column_name='arrival_time',sdtype='datetime',datetime_format='%H:%M:%S')\n",
    "sdv_metadata.update_column(table_name='stop_times',column_name='departure_time',sdtype='datetime',datetime_format='%H:%M:%S')\n",
    "sdv_metadata.update_column(table_name='stop_times',column_name='stop_id',sdtype='id',regex_format='\\d{4,5}-[a-z\\d]{8}')\n",
    "sdv_metadata.update_column(table_name='stop_times',column_name='stop_sequence',sdtype='numerical',computer_representation='Int32')\n",
    "sdv_metadata.update_column(table_name='stop_times',column_name='pickup_type',sdtype='categorical')\n",
    "sdv_metadata.update_column(table_name='stop_times',column_name='drop_off_type',sdtype='categorical')\n",
    "sdv_metadata.update_column(table_name='stop_times',column_name='shape_dist_traveled',sdtype='numerical',computer_representation='Float')\n",
    "sdv_metadata.update_column(table_name='stop_times',column_name='timepoint',sdtype='numerical',computer_representation='Int32')"
   ]
  },
  {
   "cell_type": "code",
   "execution_count": 21,
   "id": "3487b373-6712-48f7-9678-eba78f8c135e",
   "metadata": {},
   "outputs": [],
   "source": [
    "columns_to_remove = ['trip_headsign','trip_short_name', 'block_id']\n",
    "real_data_collection['trips'].drop(columns_to_remove, axis=1, inplace=True)"
   ]
  },
  {
   "cell_type": "code",
   "execution_count": 22,
   "id": "883d3e98-7c9c-416b-a452-ce22dd7edd13",
   "metadata": {
    "tags": []
   },
   "outputs": [],
   "source": [
    "sdv_metadata.detect_table_from_dataframe(table_name='trips',data=real_data_collection['trips'])\n",
    "sdv_metadata.update_column(table_name='trips',column_name='route_id',sdtype='id',regex_format='[A-Z]{2,6}-\\d{3}')\n",
    "sdv_metadata.update_column(table_name='trips',column_name='service_id',sdtype='id',regex_format='[a-zA-Z]{3,5}-\\d{1,2}')\n",
    "sdv_metadata.update_column(table_name='trips',column_name='trip_id',sdtype='id',regex_format='\\d{1,5}-\\d{1,7}-\\d{1,5}-2-[a-z\\d]{1,8}(-[a-z\\d]{1,8})?')\n",
    "sdv_metadata.update_column(table_name='trips',column_name='direction_id',sdtype='id')\n",
    "sdv_metadata.update_column(table_name='trips',column_name='shape_id',sdtype='id',regex_format='\\d{1,4}-\\d{5,6}-[a-z\\d]{8}')\n",
    "sdv_metadata.update_column(table_name='trips',column_name='wheelchair_accessible',sdtype='categorical')\n",
    "sdv_metadata.update_column(table_name='trips',column_name='bikes_allowed',sdtype='categorical')\n",
    "sdv_metadata.set_primary_key(table_name='trips',column_name='trip_id')"
   ]
  },
  {
   "cell_type": "code",
   "execution_count": 23,
   "id": "e6dd5647-bd82-446d-89b4-0d7dbf896dca",
   "metadata": {},
   "outputs": [],
   "source": [
    "sdv_metadata.add_relationship(\n",
    "    parent_table_name='agency',\n",
    "    child_table_name='routes',\n",
    "    parent_primary_key='agency_id',\n",
    "    child_foreign_key='agency_id'\n",
    ")\n",
    "\n",
    "sdv_metadata.add_relationship(\n",
    "    parent_table_name='calendar',\n",
    "    child_table_name='calendar_dates',\n",
    "    parent_primary_key='service_id',\n",
    "    child_foreign_key='service_id'\n",
    ")\n",
    "\n",
    "sdv_metadata.add_relationship(\n",
    "    parent_table_name='calendar',\n",
    "    child_table_name='trips',\n",
    "    parent_primary_key='service_id',\n",
    "    child_foreign_key='service_id'\n",
    ")\n",
    "\n",
    "sdv_metadata.add_relationship(\n",
    "    parent_table_name='routes',\n",
    "    child_table_name='trips',\n",
    "    parent_primary_key='route_id',\n",
    "    child_foreign_key='route_id'\n",
    ")\n",
    "\n",
    "sdv_metadata.add_relationship(\n",
    "    parent_table_name='stops',\n",
    "    child_table_name='stop_times',\n",
    "    parent_primary_key='stop_id',\n",
    "    child_foreign_key='stop_id'\n",
    ")\n",
    "\n",
    "sdv_metadata.add_relationship(\n",
    "    parent_table_name='trips',\n",
    "    child_table_name='stop_times',\n",
    "    parent_primary_key='trip_id',\n",
    "    child_foreign_key='trip_id'\n",
    ")"
   ]
  },
  {
   "cell_type": "code",
   "execution_count": 24,
   "id": "623366dc-f042-4b1f-add3-2d9a10714f68",
   "metadata": {},
   "outputs": [],
   "source": [
    "sdv_metadata.validate()"
   ]
  },
  {
   "cell_type": "markdown",
   "id": "a4b2866e-649d-4103-97eb-d7c4ce9652a3",
   "metadata": {},
   "source": [
    "## (Optional) View Inter-Table Structure"
   ]
  },
  {
   "cell_type": "code",
   "execution_count": 25,
   "id": "4f057715-6360-4361-aa57-59d481a95003",
   "metadata": {},
   "outputs": [
    {
     "data": {
      "image/svg+xml": [
       "<?xml version=\"1.0\" encoding=\"UTF-8\" standalone=\"no\"?>\n",
       "<!DOCTYPE svg PUBLIC \"-//W3C//DTD SVG 1.1//EN\"\n",
       " \"http://www.w3.org/Graphics/SVG/1.1/DTD/svg11.dtd\">\n",
       "<!-- Generated by graphviz version 8.0.3 (20230416.2022)\n",
       " -->\n",
       "<!-- Title: Metadata Pages: 1 -->\n",
       "<svg width=\"664pt\" height=\"954pt\"\n",
       " viewBox=\"0.00 0.00 664.00 954.00\" xmlns=\"http://www.w3.org/2000/svg\" xmlns:xlink=\"http://www.w3.org/1999/xlink\">\n",
       "<g id=\"graph0\" class=\"graph\" transform=\"scale(1 1) rotate(0) translate(4 950)\">\n",
       "<title>Metadata</title>\n",
       "<polygon fill=\"white\" stroke=\"none\" points=\"-4,4 -4,-950 660,-950 660,4 -4,4\"/>\n",
       "<!-- agency -->\n",
       "<g id=\"node1\" class=\"node\">\n",
       "<title>agency</title>\n",
       "<path fill=\"#ffec8b\" stroke=\"black\" d=\"M25.5,-800.5C25.5,-800.5 184.5,-800.5 184.5,-800.5 190.5,-800.5 196.5,-806.5 196.5,-812.5 196.5,-812.5 196.5,-933.5 196.5,-933.5 196.5,-939.5 190.5,-945.5 184.5,-945.5 184.5,-945.5 25.5,-945.5 25.5,-945.5 19.5,-945.5 13.5,-939.5 13.5,-933.5 13.5,-933.5 13.5,-812.5 13.5,-812.5 13.5,-806.5 19.5,-800.5 25.5,-800.5\"/>\n",
       "<text text-anchor=\"middle\" x=\"105\" y=\"-930.3\" font-family=\"Times New Roman,serif\" font-size=\"14.00\">agency</text>\n",
       "<polyline fill=\"none\" stroke=\"black\" points=\"13.5,-922.5 196.5,-922.5\"/>\n",
       "<text text-anchor=\"start\" x=\"21.5\" y=\"-907.3\" font-family=\"Times New Roman,serif\" font-size=\"14.00\">agency_id : id</text>\n",
       "<text text-anchor=\"start\" x=\"21.5\" y=\"-892.3\" font-family=\"Times New Roman,serif\" font-size=\"14.00\">agency_url : categorical</text>\n",
       "<text text-anchor=\"start\" x=\"21.5\" y=\"-877.3\" font-family=\"Times New Roman,serif\" font-size=\"14.00\">agency_timezone : categorical</text>\n",
       "<text text-anchor=\"start\" x=\"21.5\" y=\"-862.3\" font-family=\"Times New Roman,serif\" font-size=\"14.00\">agency_lang : categorical</text>\n",
       "<text text-anchor=\"start\" x=\"21.5\" y=\"-847.3\" font-family=\"Times New Roman,serif\" font-size=\"14.00\">agency_phone : categorical</text>\n",
       "<polyline fill=\"none\" stroke=\"black\" points=\"13.5,-839.5 196.5,-839.5\"/>\n",
       "<text text-anchor=\"start\" x=\"21.5\" y=\"-824.3\" font-family=\"Times New Roman,serif\" font-size=\"14.00\">Primary key: agency_id</text>\n",
       "</g>\n",
       "<!-- routes -->\n",
       "<g id=\"node4\" class=\"node\">\n",
       "<title>routes</title>\n",
       "<path fill=\"#ffec8b\" stroke=\"black\" d=\"M18,-559C18,-559 192,-559 192,-559 198,-559 204,-565 204,-571 204,-571 204,-706 204,-706 204,-712 198,-718 192,-718 192,-718 18,-718 18,-718 12,-718 6,-712 6,-706 6,-706 6,-571 6,-571 6,-565 12,-559 18,-559\"/>\n",
       "<text text-anchor=\"middle\" x=\"105\" y=\"-702.8\" font-family=\"Times New Roman,serif\" font-size=\"14.00\">routes</text>\n",
       "<polyline fill=\"none\" stroke=\"black\" points=\"6,-695 204,-695\"/>\n",
       "<text text-anchor=\"start\" x=\"14\" y=\"-679.8\" font-family=\"Times New Roman,serif\" font-size=\"14.00\">route_id : id</text>\n",
       "<text text-anchor=\"start\" x=\"14\" y=\"-664.8\" font-family=\"Times New Roman,serif\" font-size=\"14.00\">agency_id : id</text>\n",
       "<text text-anchor=\"start\" x=\"14\" y=\"-649.8\" font-family=\"Times New Roman,serif\" font-size=\"14.00\">route_type : categorical</text>\n",
       "<text text-anchor=\"start\" x=\"14\" y=\"-634.8\" font-family=\"Times New Roman,serif\" font-size=\"14.00\">route_color : categorical</text>\n",
       "<text text-anchor=\"start\" x=\"14\" y=\"-619.8\" font-family=\"Times New Roman,serif\" font-size=\"14.00\">route_text_color : categorical</text>\n",
       "<text text-anchor=\"start\" x=\"14\" y=\"-604.8\" font-family=\"Times New Roman,serif\" font-size=\"14.00\">contract_id : id</text>\n",
       "<polyline fill=\"none\" stroke=\"black\" points=\"6,-597 204,-597\"/>\n",
       "<text text-anchor=\"start\" x=\"14\" y=\"-581.8\" font-family=\"Times New Roman,serif\" font-size=\"14.00\">Primary key: route_id</text>\n",
       "<text text-anchor=\"start\" x=\"14\" y=\"-566.8\" font-family=\"Times New Roman,serif\" font-size=\"14.00\">Foreign key (agency): agency_id</text>\n",
       "</g>\n",
       "<!-- agency&#45;&gt;routes -->\n",
       "<g id=\"edge1\" class=\"edge\">\n",
       "<title>agency&#45;&gt;routes</title>\n",
       "<path fill=\"none\" stroke=\"black\" d=\"M105,-800.66C105,-774.5 105,-744.75 105,-717.99\"/>\n",
       "<polygon fill=\"none\" stroke=\"black\" points=\"108.85,-714.85 115.35,-728.35 101.85,-721.85 108.85,-714.85\"/>\n",
       "<text text-anchor=\"middle\" x=\"177\" y=\"-770.8\" font-family=\"Times New Roman,serif\" font-size=\"14.00\"> &#160;agency_id → agency_id</text>\n",
       "</g>\n",
       "<!-- calendar -->\n",
       "<g id=\"node2\" class=\"node\">\n",
       "<title>calendar</title>\n",
       "<path fill=\"#ffec8b\" stroke=\"black\" d=\"M339.5,-528.5C339.5,-528.5 464.5,-528.5 464.5,-528.5 470.5,-528.5 476.5,-534.5 476.5,-540.5 476.5,-540.5 476.5,-736.5 476.5,-736.5 476.5,-742.5 470.5,-748.5 464.5,-748.5 464.5,-748.5 339.5,-748.5 339.5,-748.5 333.5,-748.5 327.5,-742.5 327.5,-736.5 327.5,-736.5 327.5,-540.5 327.5,-540.5 327.5,-534.5 333.5,-528.5 339.5,-528.5\"/>\n",
       "<text text-anchor=\"middle\" x=\"402\" y=\"-733.3\" font-family=\"Times New Roman,serif\" font-size=\"14.00\">calendar</text>\n",
       "<polyline fill=\"none\" stroke=\"black\" points=\"327.5,-725.5 476.5,-725.5\"/>\n",
       "<text text-anchor=\"start\" x=\"335.5\" y=\"-710.3\" font-family=\"Times New Roman,serif\" font-size=\"14.00\">service_id : id</text>\n",
       "<text text-anchor=\"start\" x=\"335.5\" y=\"-695.3\" font-family=\"Times New Roman,serif\" font-size=\"14.00\">monday : categorical</text>\n",
       "<text text-anchor=\"start\" x=\"335.5\" y=\"-680.3\" font-family=\"Times New Roman,serif\" font-size=\"14.00\">tuesday : categorical</text>\n",
       "<text text-anchor=\"start\" x=\"335.5\" y=\"-665.3\" font-family=\"Times New Roman,serif\" font-size=\"14.00\">wednesday : categorical</text>\n",
       "<text text-anchor=\"start\" x=\"335.5\" y=\"-650.3\" font-family=\"Times New Roman,serif\" font-size=\"14.00\">thursday : categorical</text>\n",
       "<text text-anchor=\"start\" x=\"335.5\" y=\"-635.3\" font-family=\"Times New Roman,serif\" font-size=\"14.00\">friday : categorical</text>\n",
       "<text text-anchor=\"start\" x=\"335.5\" y=\"-620.3\" font-family=\"Times New Roman,serif\" font-size=\"14.00\">saturday : categorical</text>\n",
       "<text text-anchor=\"start\" x=\"335.5\" y=\"-605.3\" font-family=\"Times New Roman,serif\" font-size=\"14.00\">sunday : categorical</text>\n",
       "<text text-anchor=\"start\" x=\"335.5\" y=\"-590.3\" font-family=\"Times New Roman,serif\" font-size=\"14.00\">start_date : datetime</text>\n",
       "<text text-anchor=\"start\" x=\"335.5\" y=\"-575.3\" font-family=\"Times New Roman,serif\" font-size=\"14.00\">end_date : datetime</text>\n",
       "<polyline fill=\"none\" stroke=\"black\" points=\"327.5,-567.5 476.5,-567.5\"/>\n",
       "<text text-anchor=\"start\" x=\"335.5\" y=\"-552.3\" font-family=\"Times New Roman,serif\" font-size=\"14.00\">Primary key: service_id</text>\n",
       "</g>\n",
       "<!-- calendar_dates -->\n",
       "<g id=\"node3\" class=\"node\">\n",
       "<title>calendar_dates</title>\n",
       "<path fill=\"#ffec8b\" stroke=\"black\" d=\"M462,-317C462,-317 644,-317 644,-317 650,-317 656,-323 656,-329 656,-329 656,-419 656,-419 656,-425 650,-431 644,-431 644,-431 462,-431 462,-431 456,-431 450,-425 450,-419 450,-419 450,-329 450,-329 450,-323 456,-317 462,-317\"/>\n",
       "<text text-anchor=\"middle\" x=\"553\" y=\"-415.8\" font-family=\"Times New Roman,serif\" font-size=\"14.00\">calendar_dates</text>\n",
       "<polyline fill=\"none\" stroke=\"black\" points=\"450,-408 656,-408\"/>\n",
       "<text text-anchor=\"start\" x=\"458\" y=\"-392.8\" font-family=\"Times New Roman,serif\" font-size=\"14.00\">service_id : id</text>\n",
       "<text text-anchor=\"start\" x=\"458\" y=\"-377.8\" font-family=\"Times New Roman,serif\" font-size=\"14.00\">date : datetime</text>\n",
       "<text text-anchor=\"start\" x=\"458\" y=\"-362.8\" font-family=\"Times New Roman,serif\" font-size=\"14.00\">exception_type : categorical</text>\n",
       "<polyline fill=\"none\" stroke=\"black\" points=\"450,-355 656,-355\"/>\n",
       "<text text-anchor=\"start\" x=\"458\" y=\"-339.8\" font-family=\"Times New Roman,serif\" font-size=\"14.00\">Primary key: None</text>\n",
       "<text text-anchor=\"start\" x=\"458\" y=\"-324.8\" font-family=\"Times New Roman,serif\" font-size=\"14.00\">Foreign key (calendar): service_id</text>\n",
       "</g>\n",
       "<!-- calendar&#45;&gt;calendar_dates -->\n",
       "<g id=\"edge2\" class=\"edge\">\n",
       "<title>calendar&#45;&gt;calendar_dates</title>\n",
       "<path fill=\"none\" stroke=\"black\" d=\"M464.51,-528.84C483.9,-495.13 504.47,-459.37 520.89,-430.82\"/>\n",
       "<polygon fill=\"none\" stroke=\"black\" points=\"524.75,-427.67 531.25,-441.17 517.75,-434.67 524.75,-427.67\"/>\n",
       "<text text-anchor=\"middle\" x=\"554\" y=\"-498.8\" font-family=\"Times New Roman,serif\" font-size=\"14.00\"> &#160;service_id → service_id</text>\n",
       "</g>\n",
       "<!-- trips -->\n",
       "<g id=\"node7\" class=\"node\">\n",
       "<title>trips</title>\n",
       "<path fill=\"#ffec8b\" stroke=\"black\" d=\"M12,-279.5C12,-279.5 198,-279.5 198,-279.5 204,-279.5 210,-285.5 210,-291.5 210,-291.5 210,-456.5 210,-456.5 210,-462.5 204,-468.5 198,-468.5 198,-468.5 12,-468.5 12,-468.5 6,-468.5 0,-462.5 0,-456.5 0,-456.5 0,-291.5 0,-291.5 0,-285.5 6,-279.5 12,-279.5\"/>\n",
       "<text text-anchor=\"middle\" x=\"105\" y=\"-453.3\" font-family=\"Times New Roman,serif\" font-size=\"14.00\">trips</text>\n",
       "<polyline fill=\"none\" stroke=\"black\" points=\"0,-445.5 210,-445.5\"/>\n",
       "<text text-anchor=\"start\" x=\"8\" y=\"-430.3\" font-family=\"Times New Roman,serif\" font-size=\"14.00\">route_id : id</text>\n",
       "<text text-anchor=\"start\" x=\"8\" y=\"-415.3\" font-family=\"Times New Roman,serif\" font-size=\"14.00\">service_id : id</text>\n",
       "<text text-anchor=\"start\" x=\"8\" y=\"-400.3\" font-family=\"Times New Roman,serif\" font-size=\"14.00\">trip_id : id</text>\n",
       "<text text-anchor=\"start\" x=\"8\" y=\"-385.3\" font-family=\"Times New Roman,serif\" font-size=\"14.00\">direction_id : id</text>\n",
       "<text text-anchor=\"start\" x=\"8\" y=\"-370.3\" font-family=\"Times New Roman,serif\" font-size=\"14.00\">shape_id : id</text>\n",
       "<text text-anchor=\"start\" x=\"8\" y=\"-355.3\" font-family=\"Times New Roman,serif\" font-size=\"14.00\">wheelchair_accessible : categorical</text>\n",
       "<text text-anchor=\"start\" x=\"8\" y=\"-340.3\" font-family=\"Times New Roman,serif\" font-size=\"14.00\">bikes_allowed : categorical</text>\n",
       "<polyline fill=\"none\" stroke=\"black\" points=\"0,-332.5 210,-332.5\"/>\n",
       "<text text-anchor=\"start\" x=\"8\" y=\"-317.3\" font-family=\"Times New Roman,serif\" font-size=\"14.00\">Primary key: trip_id</text>\n",
       "<text text-anchor=\"start\" x=\"8\" y=\"-302.3\" font-family=\"Times New Roman,serif\" font-size=\"14.00\">Foreign key (calendar): service_id</text>\n",
       "<text text-anchor=\"start\" x=\"8\" y=\"-287.3\" font-family=\"Times New Roman,serif\" font-size=\"14.00\">Foreign key (routes): route_id</text>\n",
       "</g>\n",
       "<!-- calendar&#45;&gt;trips -->\n",
       "<g id=\"edge3\" class=\"edge\">\n",
       "<title>calendar&#45;&gt;trips</title>\n",
       "<path fill=\"none\" stroke=\"black\" d=\"M327.51,-572.46C294.24,-543.34 254.59,-508.52 209.33,-468.43\"/>\n",
       "<polygon fill=\"none\" stroke=\"black\" points=\"213.19,-465.28 219.69,-478.78 206.19,-472.28 213.19,-465.28\"/>\n",
       "<text text-anchor=\"middle\" x=\"326\" y=\"-498.8\" font-family=\"Times New Roman,serif\" font-size=\"14.00\"> &#160;service_id → service_id</text>\n",
       "</g>\n",
       "<!-- routes&#45;&gt;trips -->\n",
       "<g id=\"edge4\" class=\"edge\">\n",
       "<title>routes&#45;&gt;trips</title>\n",
       "<path fill=\"none\" stroke=\"black\" d=\"M105,-559.1C105,-530.54 105,-497.99 105,-468.27\"/>\n",
       "<polygon fill=\"none\" stroke=\"black\" points=\"108.85,-465.12 115.35,-478.62 101.85,-472.12 108.85,-465.12\"/>\n",
       "<text text-anchor=\"middle\" x=\"166.5\" y=\"-498.8\" font-family=\"Times New Roman,serif\" font-size=\"14.00\"> &#160;route_id → route_id</text>\n",
       "</g>\n",
       "<!-- stops -->\n",
       "<g id=\"node5\" class=\"node\">\n",
       "<title>stops</title>\n",
       "<path fill=\"#ffec8b\" stroke=\"black\" d=\"M240.5,-271.5C240.5,-271.5 419.5,-271.5 419.5,-271.5 425.5,-271.5 431.5,-277.5 431.5,-283.5 431.5,-283.5 431.5,-464.5 431.5,-464.5 431.5,-470.5 425.5,-476.5 419.5,-476.5 419.5,-476.5 240.5,-476.5 240.5,-476.5 234.5,-476.5 228.5,-470.5 228.5,-464.5 228.5,-464.5 228.5,-283.5 228.5,-283.5 228.5,-277.5 234.5,-271.5 240.5,-271.5\"/>\n",
       "<text text-anchor=\"middle\" x=\"330\" y=\"-461.3\" font-family=\"Times New Roman,serif\" font-size=\"14.00\">stops</text>\n",
       "<polyline fill=\"none\" stroke=\"black\" points=\"228.5,-453.5 431.5,-453.5\"/>\n",
       "<text text-anchor=\"start\" x=\"236.5\" y=\"-438.3\" font-family=\"Times New Roman,serif\" font-size=\"14.00\">stop_id : id</text>\n",
       "<text text-anchor=\"start\" x=\"236.5\" y=\"-423.3\" font-family=\"Times New Roman,serif\" font-size=\"14.00\">stop_lat : numerical</text>\n",
       "<text text-anchor=\"start\" x=\"236.5\" y=\"-408.3\" font-family=\"Times New Roman,serif\" font-size=\"14.00\">stop_lon : numerical</text>\n",
       "<text text-anchor=\"start\" x=\"236.5\" y=\"-393.3\" font-family=\"Times New Roman,serif\" font-size=\"14.00\">location_type : categorical</text>\n",
       "<text text-anchor=\"start\" x=\"236.5\" y=\"-378.3\" font-family=\"Times New Roman,serif\" font-size=\"14.00\">parent_station : categorical</text>\n",
       "<text text-anchor=\"start\" x=\"236.5\" y=\"-363.3\" font-family=\"Times New Roman,serif\" font-size=\"14.00\">platform_code : categorical</text>\n",
       "<text text-anchor=\"start\" x=\"236.5\" y=\"-348.3\" font-family=\"Times New Roman,serif\" font-size=\"14.00\">wheelchair_boarding : categorical</text>\n",
       "<text text-anchor=\"start\" x=\"236.5\" y=\"-333.3\" font-family=\"Times New Roman,serif\" font-size=\"14.00\">start_date : datetime</text>\n",
       "<text text-anchor=\"start\" x=\"236.5\" y=\"-318.3\" font-family=\"Times New Roman,serif\" font-size=\"14.00\">end_date : datetime</text>\n",
       "<polyline fill=\"none\" stroke=\"black\" points=\"228.5,-310.5 431.5,-310.5\"/>\n",
       "<text text-anchor=\"start\" x=\"236.5\" y=\"-295.3\" font-family=\"Times New Roman,serif\" font-size=\"14.00\">Primary key: stop_id</text>\n",
       "</g>\n",
       "<!-- stop_times -->\n",
       "<g id=\"node6\" class=\"node\">\n",
       "<title>stop_times</title>\n",
       "<path fill=\"#ffec8b\" stroke=\"black\" d=\"M134.5,-0.5C134.5,-0.5 301.5,-0.5 301.5,-0.5 307.5,-0.5 313.5,-6.5 313.5,-12.5 313.5,-12.5 313.5,-207.5 313.5,-207.5 313.5,-213.5 307.5,-219.5 301.5,-219.5 301.5,-219.5 134.5,-219.5 134.5,-219.5 128.5,-219.5 122.5,-213.5 122.5,-207.5 122.5,-207.5 122.5,-12.5 122.5,-12.5 122.5,-6.5 128.5,-0.5 134.5,-0.5\"/>\n",
       "<text text-anchor=\"middle\" x=\"218\" y=\"-204.3\" font-family=\"Times New Roman,serif\" font-size=\"14.00\">stop_times</text>\n",
       "<polyline fill=\"none\" stroke=\"black\" points=\"122.5,-196.5 313.5,-196.5\"/>\n",
       "<text text-anchor=\"start\" x=\"130.5\" y=\"-181.3\" font-family=\"Times New Roman,serif\" font-size=\"14.00\">trip_id : id</text>\n",
       "<text text-anchor=\"start\" x=\"130.5\" y=\"-166.3\" font-family=\"Times New Roman,serif\" font-size=\"14.00\">arrival_time : datetime</text>\n",
       "<text text-anchor=\"start\" x=\"130.5\" y=\"-151.3\" font-family=\"Times New Roman,serif\" font-size=\"14.00\">departure_time : datetime</text>\n",
       "<text text-anchor=\"start\" x=\"130.5\" y=\"-136.3\" font-family=\"Times New Roman,serif\" font-size=\"14.00\">stop_id : id</text>\n",
       "<text text-anchor=\"start\" x=\"130.5\" y=\"-121.3\" font-family=\"Times New Roman,serif\" font-size=\"14.00\">stop_sequence : numerical</text>\n",
       "<text text-anchor=\"start\" x=\"130.5\" y=\"-106.3\" font-family=\"Times New Roman,serif\" font-size=\"14.00\">pickup_type : categorical</text>\n",
       "<text text-anchor=\"start\" x=\"130.5\" y=\"-91.3\" font-family=\"Times New Roman,serif\" font-size=\"14.00\">drop_off_type : categorical</text>\n",
       "<text text-anchor=\"start\" x=\"130.5\" y=\"-76.3\" font-family=\"Times New Roman,serif\" font-size=\"14.00\">shape_dist_traveled : numerical</text>\n",
       "<text text-anchor=\"start\" x=\"130.5\" y=\"-61.3\" font-family=\"Times New Roman,serif\" font-size=\"14.00\">timepoint : numerical</text>\n",
       "<polyline fill=\"none\" stroke=\"black\" points=\"122.5,-53.5 313.5,-53.5\"/>\n",
       "<text text-anchor=\"start\" x=\"130.5\" y=\"-38.3\" font-family=\"Times New Roman,serif\" font-size=\"14.00\">Primary key: None</text>\n",
       "<text text-anchor=\"start\" x=\"130.5\" y=\"-23.3\" font-family=\"Times New Roman,serif\" font-size=\"14.00\">Foreign key (stops): stop_id</text>\n",
       "<text text-anchor=\"start\" x=\"130.5\" y=\"-8.3\" font-family=\"Times New Roman,serif\" font-size=\"14.00\">Foreign key (trips): trip_id</text>\n",
       "</g>\n",
       "<!-- stops&#45;&gt;stop_times -->\n",
       "<g id=\"edge5\" class=\"edge\">\n",
       "<title>stops&#45;&gt;stop_times</title>\n",
       "<path fill=\"none\" stroke=\"black\" d=\"M286.7,-271.7C279.37,-254.57 271.74,-236.72 264.34,-219.41\"/>\n",
       "<polygon fill=\"none\" stroke=\"black\" points=\"268.2,-216.26 274.7,-229.76 261.2,-223.26 268.2,-216.26\"/>\n",
       "<text text-anchor=\"middle\" x=\"335.5\" y=\"-241.8\" font-family=\"Times New Roman,serif\" font-size=\"14.00\"> &#160;stop_id → stop_id</text>\n",
       "</g>\n",
       "<!-- trips&#45;&gt;stop_times -->\n",
       "<g id=\"edge6\" class=\"edge\">\n",
       "<title>trips&#45;&gt;stop_times</title>\n",
       "<path fill=\"none\" stroke=\"black\" d=\"M145.32,-279.52C153.75,-259.98 162.7,-239.21 171.34,-219.19\"/>\n",
       "<polygon fill=\"none\" stroke=\"black\" points=\"175.19,-216.04 181.69,-229.54 168.19,-223.04 175.19,-216.04\"/>\n",
       "<text text-anchor=\"middle\" x=\"213.5\" y=\"-241.8\" font-family=\"Times New Roman,serif\" font-size=\"14.00\"> &#160;trip_id → trip_id</text>\n",
       "</g>\n",
       "</g>\n",
       "</svg>\n"
      ],
      "text/plain": [
       "<graphviz.graphs.Digraph at 0x169c946f970>"
      ]
     },
     "execution_count": 25,
     "metadata": {},
     "output_type": "execute_result"
    }
   ],
   "source": [
    "sdv_metadata.visualize(output_filepath='visualization/gtfs.jpeg')"
   ]
  },
  {
   "cell_type": "markdown",
   "id": "bbebab86-128e-4eda-b4c8-20e6d00b2de3",
   "metadata": {},
   "source": [
    "# Preprocessing"
   ]
  },
  {
   "cell_type": "code",
   "execution_count": 26,
   "id": "0fc5a31d-d3e7-4ec0-8dc5-304147611d20",
   "metadata": {},
   "outputs": [],
   "source": [
    "training_start_time = time.time()"
   ]
  },
  {
   "cell_type": "markdown",
   "id": "451cfb79-74a0-4320-88f9-10ddf15b613a",
   "metadata": {
    "tags": []
   },
   "source": [
    "## Create Modelling Metadata"
   ]
  },
  {
   "cell_type": "markdown",
   "id": "33e52d36-a306-4990-8915-b725bb8f30bf",
   "metadata": {},
   "source": [
    "Setup dictionary for identifying the primary key, parent(s), child(ren) and foreign key(s) of each table."
   ]
  },
  {
   "cell_type": "code",
   "execution_count": 27,
   "id": "efaf279b-69d9-4b0e-af63-0ee4ea0442bb",
   "metadata": {},
   "outputs": [],
   "source": [
    "def sdvmetadata_to_modelmetadata(sdv_metadata):\n",
    "    modelling_metadata = {}\n",
    "    for df_name, content in sdv_metadata[\"tables\"].items():\n",
    "        modelling_metadata[df_name] = {\n",
    "            \"primary_key\": content.get(\"primary_key\"),\n",
    "            \"parent\": {},\n",
    "            \"child\": {},\n",
    "            \"is_sequential\": False,\n",
    "            \"sort_order\":None,\n",
    "            \"step_index\":None\n",
    "        }\n",
    "    for relationship in sdv_metadata[\"relationships\"]:\n",
    "        parent_table = relationship[\"parent_table_name\"]\n",
    "        child_table = relationship[\"child_table_name\"]\n",
    "        foreign_key = relationship[\"child_foreign_key\"]\n",
    "        modelling_metadata[child_table][\"parent\"][parent_table] = foreign_key\n",
    "        modelling_metadata[parent_table][\"child\"][child_table] = foreign_key\n",
    "    return modelling_metadata"
   ]
  },
  {
   "cell_type": "code",
   "execution_count": 28,
   "id": "080b5bf6-2630-418d-9144-1f5ead370dc2",
   "metadata": {},
   "outputs": [],
   "source": [
    "modelling_metadata = sdvmetadata_to_modelmetadata(sdv_metadata.to_dict())"
   ]
  },
  {
   "cell_type": "code",
   "execution_count": 29,
   "id": "da5a967e-f225-4224-9986-691c40cac372",
   "metadata": {},
   "outputs": [],
   "source": [
    "modelling_metadata['calendar_dates']['is_sequential']=True\n",
    "modelling_metadata['calendar_dates']['sort_order']=['service_id','date']\n",
    "modelling_metadata['calendar_dates']['step_index']=['date']\n",
    "modelling_metadata['stop_times']['is_sequential']=True\n",
    "modelling_metadata['stop_times']['sort_order']=['trip_id','stop_sequence']\n",
    "modelling_metadata['stop_times']['step_index']=['stop_sequence']"
   ]
  },
  {
   "cell_type": "markdown",
   "id": "c1096b3e-d02c-40e2-88d6-8cb7eec900da",
   "metadata": {},
   "source": [
    "## Fit RDT Transformers and Formatters"
   ]
  },
  {
   "cell_type": "markdown",
   "id": "eb4c4aac-ef2f-48c9-a776-26664cbb6075",
   "metadata": {},
   "source": [
    "Use tools from RDT package to convert data to solely numeric and back-transforming to the original format."
   ]
  },
  {
   "cell_type": "code",
   "execution_count": 30,
   "id": "a57b5bdd-e6cb-48e8-959e-02b1df2c36c3",
   "metadata": {},
   "outputs": [],
   "source": [
    "def create_formatter_collection(data_collection):\n",
    "    formatter_collection = {}\n",
    "    for df_name, df in data_collection.items():\n",
    "        ht = HyperTransformer()\n",
    "        ht.detect_initial_config(df)\n",
    "        ht.update_transformers_by_sdtype(\n",
    "            sdtype='categorical',\n",
    "            transformer_name='LabelEncoder'\n",
    "        )\n",
    "        # ht.update_transformers_by_sdtype(\n",
    "        #     sdtype='datetime',\n",
    "        #     transformer_name='OptimizedTimestampEncoder'\n",
    "        # )\n",
    "        # ht.update_transformers_by_sdtype(\n",
    "        #     sdtype='numerical',\n",
    "        #     transformer_name='FloatFormatter'\n",
    "        # )\n",
    "        ht.fit(df)\n",
    "        formatter_collection[df_name] = ht\n",
    "    return formatter_collection"
   ]
  },
  {
   "cell_type": "code",
   "execution_count": 31,
   "id": "efcb8191-f71c-4011-a6da-38152ba1605f",
   "metadata": {},
   "outputs": [
    {
     "name": "stdout",
     "output_type": "stream",
     "text": [
      "CPU times: total: 3.03 s\n",
      "Wall time: 3.04 s\n"
     ]
    }
   ],
   "source": [
    "%%time\n",
    "formatter_collection = create_formatter_collection(real_data_collection)"
   ]
  },
  {
   "cell_type": "markdown",
   "id": "ce2d0f92-95cd-4c87-af84-757da4eda60d",
   "metadata": {},
   "source": [
    "### (Optional) Adjust Incorrectly Detected Column Types from RDT's Auto-Detection"
   ]
  },
  {
   "cell_type": "code",
   "execution_count": 32,
   "id": "a616b2d7-ae5c-4cda-a69b-8f25de8970b0",
   "metadata": {
    "scrolled": true,
    "tags": []
   },
   "outputs": [
    {
     "data": {
      "text/plain": [
       "{\n",
       "    \"sdtypes\": {\n",
       "        \"trip_id\": \"categorical\",\n",
       "        \"arrival_time\": \"categorical\",\n",
       "        \"departure_time\": \"categorical\",\n",
       "        \"stop_id\": \"categorical\",\n",
       "        \"stop_sequence\": \"numerical\",\n",
       "        \"pickup_type\": \"numerical\",\n",
       "        \"drop_off_type\": \"numerical\",\n",
       "        \"shape_dist_traveled\": \"numerical\",\n",
       "        \"timepoint\": \"numerical\"\n",
       "    },\n",
       "    \"transformers\": {\n",
       "        \"trip_id\": LabelEncoder(),\n",
       "        \"arrival_time\": LabelEncoder(),\n",
       "        \"departure_time\": LabelEncoder(),\n",
       "        \"stop_id\": LabelEncoder(),\n",
       "        \"stop_sequence\": FloatFormatter(),\n",
       "        \"pickup_type\": FloatFormatter(),\n",
       "        \"drop_off_type\": FloatFormatter(),\n",
       "        \"shape_dist_traveled\": FloatFormatter(),\n",
       "        \"timepoint\": FloatFormatter()\n",
       "    }\n",
       "}"
      ]
     },
     "execution_count": 32,
     "metadata": {},
     "output_type": "execute_result"
    }
   ],
   "source": [
    "formatter_collection['stop_times'].get_config()"
   ]
  },
  {
   "cell_type": "code",
   "execution_count": 33,
   "id": "ca1d08d0-9ba0-47bf-8321-95120758f5a1",
   "metadata": {},
   "outputs": [
    {
     "name": "stderr",
     "output_type": "stream",
     "text": [
      "C:\\programs\\conda\\envs\\tfgpu\\lib\\site-packages\\rdt\\hyper_transformer.py:390: UserWarning: For this change to take effect, please refit your data using 'fit' or 'fit_transform'.\n",
      "  warnings.warn(self._REFIT_MESSAGE)\n",
      "C:\\programs\\conda\\envs\\tfgpu\\lib\\site-packages\\rdt\\hyper_transformer.py:299: UserWarning: For this change to take effect, please refit your data using 'fit' or 'fit_transform'.\n",
      "  warnings.warn(self._REFIT_MESSAGE)\n"
     ]
    }
   ],
   "source": [
    "formatter_collection['stop_times'].update_sdtypes(column_name_to_sdtype={\n",
    "    'pickup_type':'categorical',\n",
    "    'drop_off_type':'categorical'\n",
    "})\n",
    "formatter_collection['stop_times'].update_transformers_by_sdtype(\n",
    "    sdtype='categorical',\n",
    "    transformer_name='LabelEncoder'\n",
    ")\n",
    "formatter_collection['stop_times'].fit(real_data_collection['stop_times'])"
   ]
  },
  {
   "cell_type": "markdown",
   "id": "db5c2eb0-12ad-4146-a224-bf44c4811642",
   "metadata": {
    "tags": []
   },
   "source": [
    "## Transform Data to Numeric"
   ]
  },
  {
   "cell_type": "code",
   "execution_count": 34,
   "id": "49560c4c-663c-4da6-a0f9-acabdd01deed",
   "metadata": {},
   "outputs": [],
   "source": [
    "def batch_transform(modelling_metadata, df_dict, ht_dict):\n",
    "    # Initialize the dictionary that will store the mappings for each primary key\n",
    "    primary_key_dict = {}\n",
    "\n",
    "    # Initialize a new dictionary to store the transformed dataframes\n",
    "    transformed_df_dict = {table: df.copy() for table, df in df_dict.items()}\n",
    "\n",
    "    # Initialize the dictionary to store transform methods\n",
    "    transform_method_dict = {table: {'labels': [], 'table': []} for table in df_dict.keys()}\n",
    "\n",
    "    # 1st pass: Fit the HT objects for all tables\n",
    "    for df_name, content in modelling_metadata.items():\n",
    "        ht = ht_dict[df_name]\n",
    "        ht.fit(transformed_df_dict[df_name])  # Fit the HT object on the entire table\n",
    "\n",
    "    # 2nd pass: factorize primary keys and build the global primary key dictionary\n",
    "    for df_name, content in modelling_metadata.items():\n",
    "        primary_key = content['primary_key']\n",
    "        if primary_key is not None:  # Skip tables without a primary key\n",
    "            transformed_df_dict[df_name][primary_key], unique = pd.factorize(transformed_df_dict[df_name][primary_key])\n",
    "            primary_key_dict[df_name] = {primary_key: {key: value for value, key in enumerate(unique)}}\n",
    "            transform_method_dict[df_name]['labels'].append(primary_key)\n",
    "\n",
    "    # 3rd pass: replace foreign keys using the primary key dictionary\n",
    "    for df_name, content in modelling_metadata.items():\n",
    "        for parent_table, foreign_key in content['parent'].items():\n",
    "            primary_key = modelling_metadata[parent_table]['primary_key']\n",
    "            transformed_df_dict[df_name][foreign_key] = transformed_df_dict[df_name][foreign_key].map(primary_key_dict[parent_table][primary_key])\n",
    "            transform_method_dict[df_name]['labels'].append(foreign_key)\n",
    "\n",
    "    # 4th pass: transform the remaining columns with the fitted HT objects\n",
    "    for df_name, content in modelling_metadata.items():\n",
    "        ht = ht_dict[df_name]\n",
    "        df = transformed_df_dict[df_name]\n",
    "        remaining_cols = [col for col in df.columns if col not in transform_method_dict[df_name]['labels']]\n",
    "        if remaining_cols:\n",
    "            df[remaining_cols] = ht.transform_subset(df[remaining_cols])  # Transform only the remaining columns\n",
    "            transform_method_dict[df_name]['table'].extend(remaining_cols)\n",
    "\n",
    "    return transformed_df_dict, transform_method_dict"
   ]
  },
  {
   "cell_type": "code",
   "execution_count": 35,
   "id": "b17dc196-89c7-4b9f-81db-03be45252196",
   "metadata": {},
   "outputs": [
    {
     "name": "stdout",
     "output_type": "stream",
     "text": [
      "CPU times: total: 4.67 s\n",
      "Wall time: 4.68 s\n"
     ]
    }
   ],
   "source": [
    "%%time\n",
    "transformed_data_collection, transform_method_dict = batch_transform(modelling_metadata, real_data_collection, formatter_collection)"
   ]
  },
  {
   "cell_type": "markdown",
   "id": "cd532b97-d07d-4d17-b866-ed8c24e6a392",
   "metadata": {},
   "source": [
    "## Split Tables into Discrete and Continuous Columns"
   ]
  },
  {
   "cell_type": "code",
   "execution_count": 36,
   "id": "de5a1c05-f602-4318-b33e-63f33115d266",
   "metadata": {},
   "outputs": [],
   "source": [
    "def identify_columns(sdv_metadata, modelling_metadata):\n",
    "    # Define the discrete types.\n",
    "    discrete_sdtypes = ['categorical', 'id', 'boolean']\n",
    "\n",
    "    # Iterate over the metadata.\n",
    "    for df_name, content in sdv_metadata.items():\n",
    "        grouped_columns = {'categorical': [], 'numeric': []}\n",
    "        # Iterate over the columns of the DataFrame.\n",
    "        for column_name, col_type in content['columns'].items():\n",
    "            # If the column's 'sdtype' is one of the discrete types, add it to the 'discrete' group.\n",
    "            if col_type['sdtype'] in discrete_sdtypes:\n",
    "                grouped_columns['categorical'].append(column_name)\n",
    "            # elif col_type['sdtype'] == 'numerical':\n",
    "            #     if 'computer_representation' in col_type and 'Int' in col_type['computer_representation']:\n",
    "            #         grouped_columns['discrete'].append(column_name)\n",
    "            else:\n",
    "                # Otherwise, add it to the 'continuous' group.\n",
    "                grouped_columns['numeric'].append(column_name)\n",
    "        modelling_metadata[df_name]['col_types'] = grouped_columns"
   ]
  },
  {
   "cell_type": "code",
   "execution_count": 37,
   "id": "fc1f7a13-f47f-4338-9171-878db4738413",
   "metadata": {},
   "outputs": [],
   "source": [
    "identify_columns(sdv_metadata.to_dict()['tables'], modelling_metadata)"
   ]
  },
  {
   "cell_type": "code",
   "execution_count": 38,
   "id": "9cab2da9-db50-4db3-953d-cdc635c8bbbc",
   "metadata": {},
   "outputs": [],
   "source": [
    "def split_continuous_discrete(data_collection, modelling_metadata):\n",
    "    for df_name, content in modelling_metadata.items():\n",
    "        foreign_columns = []\n",
    "        label_columns = []\n",
    "        selected_columns = []\n",
    "        if content['parent'] != {}:\n",
    "            foreign_columns = list(modelling_metadata[df_name]['parent'].values())\n",
    "        discrete_columns = modelling_metadata[df_name]['col_types']['categorical']\n",
    "        if content['primary_key'] != None:\n",
    "            selected_columns = [col for col in discrete_columns if col != content['primary_key']]\n",
    "        else:\n",
    "            selected_columns = discrete_columns\n",
    "        selected_columns = list(set(foreign_columns) | set(selected_columns))\n",
    "        if content['step_index'] != None:\n",
    "            selected_columns = list(set(content['step_index']) | set(selected_columns))\n",
    "        if selected_columns != [] or None:\n",
    "            modelling_metadata[df_name]['selected_columns'] = selected_columns\n",
    "        else:\n",
    "            modelling_metadata[df_name]['selected_columns'] = []"
   ]
  },
  {
   "cell_type": "code",
   "execution_count": 39,
   "id": "f83047da-39a5-4831-8c52-76ab3dd5a6cc",
   "metadata": {},
   "outputs": [
    {
     "name": "stdout",
     "output_type": "stream",
     "text": [
      "CPU times: total: 0 ns\n",
      "Wall time: 0 ns\n"
     ]
    }
   ],
   "source": [
    "%%time\n",
    "split_continuous_discrete(transformed_data_collection, modelling_metadata)"
   ]
  },
  {
   "cell_type": "markdown",
   "id": "d8fa2e80-2ca0-4d2c-881d-94de5c331119",
   "metadata": {},
   "source": [
    "## Scaling"
   ]
  },
  {
   "cell_type": "code",
   "execution_count": 40,
   "id": "feb81dc5-44b4-4b54-9a6d-96a6b9fee048",
   "metadata": {},
   "outputs": [],
   "source": [
    "# def n_unique_elements(data):\n",
    "#     unique_counts = data.nunique()\n",
    "#     unique_dict = unique_counts.to_dict()\n",
    "#     return unique_dict"
   ]
  },
  {
   "cell_type": "code",
   "execution_count": 41,
   "id": "2947aaf7-aa2b-48c1-ac15-745524087423",
   "metadata": {},
   "outputs": [],
   "source": [
    "def get_min_max_range(df):\n",
    "    min_max_range = {}\n",
    "    for col in df.columns:\n",
    "        min_ = df[col].min()\n",
    "        max_ = df[col].max()\n",
    "        min_max_range[col] = {'min':min_,'max':max_}\n",
    "    return min_max_range"
   ]
  },
  {
   "cell_type": "code",
   "execution_count": 42,
   "id": "1c29e184-ab47-4a05-9b1a-4f0ac24e8c45",
   "metadata": {},
   "outputs": [],
   "source": [
    "def normal_scaling(df):\n",
    "    scaler = StandardScaler()\n",
    "    scaler = scaler.fit(df)\n",
    "    scaled_df = pd.DataFrame(scaler.transform(df), columns = df.columns)\n",
    "    return scaled_df, scaler"
   ]
  },
  {
   "cell_type": "code",
   "execution_count": 43,
   "id": "d0c8a567-b531-4b2c-b2ef-d50f188b9c60",
   "metadata": {},
   "outputs": [],
   "source": [
    "def extract_key_and_scaled_features(df, label_columns):\n",
    "    labels = df[label_columns]\n",
    "    table = df.drop(columns=label_columns)\n",
    "    table_column_names = table.columns\n",
    "    try:\n",
    "        scaled_table, table_scaler = normal_scaling(table)\n",
    "    except:\n",
    "        scaled_table = None\n",
    "        table_scaler = None\n",
    "    scaled_labels, labels_scaler = normal_scaling(labels)\n",
    "    return scaled_table, scaled_labels, table_scaler, labels_scaler, table_column_names"
   ]
  },
  {
   "cell_type": "code",
   "execution_count": 44,
   "id": "c140cf3f-8d9e-4df9-b1cc-984d95a9806a",
   "metadata": {},
   "outputs": [],
   "source": [
    "def batch_scaling(data_collection, modelling_metadata):\n",
    "    processed_data_collection = {}\n",
    "    backtransformation_dict = {}\n",
    "    for df_name, df in data_collection.items():\n",
    "        selected_columns = modelling_metadata[df_name]['selected_columns']\n",
    "        primary_key_column = modelling_metadata[df_name]['primary_key']\n",
    "        if primary_key_column != None:\n",
    "            label_columns = list(set([primary_key_column]) | set(selected_columns))\n",
    "        else:\n",
    "            label_columns = selected_columns\n",
    "            primary_key_scaler = None\n",
    "        table, labels, table_scaler, labels_scaler, table_columns = extract_key_and_scaled_features(df, label_columns)\n",
    "        processed_data_collection[df_name] = {'table':table,\n",
    "                                              'labels':labels}\n",
    "        backtransformation_dict[df_name] = {'table_scaler':table_scaler,\n",
    "                                            'labels_scaler':labels_scaler,\n",
    "                                       'table_col_names':table_columns,\n",
    "                                       'labels_col_names':label_columns,\n",
    "                                       'col_names':df.columns,\n",
    "                                           'min_max_range':get_min_max_range(df[selected_columns])}\n",
    "    return processed_data_collection, backtransformation_dict"
   ]
  },
  {
   "cell_type": "code",
   "execution_count": 45,
   "id": "90c64e29-b4c5-4ea0-a6f3-3019fe5a7d45",
   "metadata": {},
   "outputs": [
    {
     "name": "stdout",
     "output_type": "stream",
     "text": [
      "CPU times: total: 281 ms\n",
      "Wall time: 293 ms\n"
     ]
    }
   ],
   "source": [
    "%%time\n",
    "processed_data_collection, backtransformation_dict = batch_scaling(transformed_data_collection, modelling_metadata)"
   ]
  },
  {
   "cell_type": "markdown",
   "id": "c235ddc3-4ce2-4f3b-9ebc-d04abc9e35c8",
   "metadata": {},
   "source": [
    "# Modelling"
   ]
  },
  {
   "cell_type": "markdown",
   "id": "38fa1b97-50ad-4e78-898b-dcab7c854a4a",
   "metadata": {},
   "source": [
    "## Fit KDE"
   ]
  },
  {
   "cell_type": "code",
   "execution_count": 46,
   "id": "13fc578c-be40-411e-b779-01160cb65a66",
   "metadata": {},
   "outputs": [],
   "source": [
    "def fit_kde(data, kernel='tophat', bandwidth='scott'):\n",
    "    kde = KernelDensity(kernel=kernel, bandwidth=bandwidth)\n",
    "    kde.fit(data)\n",
    "    return kde"
   ]
  },
  {
   "cell_type": "code",
   "execution_count": 47,
   "id": "22b26696-67e0-4e28-a7b3-c927d67609e7",
   "metadata": {},
   "outputs": [],
   "source": [
    "def batch_kde_fitting(data_collection, modelling_metadata):\n",
    "    kde_collection = {}\n",
    "    for df_name, df in data_collection.items():\n",
    "        selected_columns = modelling_metadata[df_name]['selected_columns']\n",
    "        if selected_columns != []:\n",
    "            kde = fit_kde(df[selected_columns])\n",
    "            kde_collection[df_name] = kde\n",
    "    return kde_collection"
   ]
  },
  {
   "cell_type": "code",
   "execution_count": 48,
   "id": "a08e6022-5106-4ef1-8559-10239f2bfe6b",
   "metadata": {},
   "outputs": [
    {
     "name": "stdout",
     "output_type": "stream",
     "text": [
      "CPU times: total: 1.78 s\n",
      "Wall time: 1.77 s\n"
     ]
    }
   ],
   "source": [
    "%%time\n",
    "kde_collection = batch_kde_fitting(transformed_data_collection, modelling_metadata)"
   ]
  },
  {
   "cell_type": "markdown",
   "id": "cd49eb54-1738-4599-874d-571ca5fdd9be",
   "metadata": {},
   "source": [
    "## Build GAN"
   ]
  },
  {
   "cell_type": "markdown",
   "id": "5744d496-c6f4-4c88-a505-3b82acc3304b",
   "metadata": {},
   "source": [
    "### Create Custom Functions for WGAN+GP Framework"
   ]
  },
  {
   "cell_type": "code",
   "execution_count": 49,
   "id": "dce64b6b-045a-4764-9118-be6959932044",
   "metadata": {},
   "outputs": [],
   "source": [
    "def generator_loss(x_fake):\n",
    "    return -tf.reduce_mean(x_fake)"
   ]
  },
  {
   "cell_type": "code",
   "execution_count": 50,
   "id": "4af23f37-66e7-4aaa-9c91-ec955911a6b6",
   "metadata": {},
   "outputs": [],
   "source": [
    "def discriminator_loss(x_real, x_fake):\n",
    "    real_loss = tf.reduce_mean(x_real)\n",
    "    fake_loss = tf.reduce_mean(x_fake)\n",
    "    return fake_loss - real_loss"
   ]
  },
  {
   "cell_type": "code",
   "execution_count": 51,
   "id": "f5ab2a8f-c18a-47b2-bbc3-7b9b3337b0fb",
   "metadata": {},
   "outputs": [],
   "source": [
    "def gradient_penalty(batch_size, real_table, fake_table, real_labels, discriminator, window=None):\n",
    "    alpha = np.random.normal(0, 1, [batch_size, window, real_table.shape[2]])\n",
    "    diff = tf.convert_to_tensor(fake_table) - real_table\n",
    "    interpolated_table = real_table + alpha * diff\n",
    "\n",
    "    with tf.GradientTape() as gp_tape:\n",
    "        gp_tape.watch(interpolated_table)\n",
    "        pred = discriminator([interpolated_table,real_labels], training=True)\n",
    "\n",
    "    grads = gp_tape.gradient(pred, [interpolated_table])[0]\n",
    "    norm = tf.sqrt(tf.reduce_sum(tf.square(grads), axis=[1]))\n",
    "    gp = tf.reduce_mean((norm - 1.0) ** 2)\n",
    "    return gp"
   ]
  },
  {
   "cell_type": "code",
   "execution_count": 52,
   "id": "91df0779-ef6f-4204-9770-48daf24a5741",
   "metadata": {},
   "outputs": [],
   "source": [
    "class CustomSlidingWindow:\n",
    "    def __init__(self, window_size):\n",
    "        self.window_size = window_size\n",
    "\n",
    "    def transform(self, data):\n",
    "        shape = (data.shape[0] - self.window_size + 1, self.window_size) + data.shape[1:]\n",
    "        strides = (data.strides[0],) + data.strides\n",
    "        return as_strided(data, shape=shape, strides=strides)\n",
    "\n",
    "    def inverse_transform(self, data, use_mean=False):\n",
    "        if use_mean:\n",
    "            rows, _, cols = data.shape\n",
    "            output = np.zeros((rows+self.window_size-1, cols))\n",
    "            count = np.zeros((rows+self.window_size-1, cols))\n",
    "            \n",
    "            for i, window in enumerate(data):\n",
    "                for j, row in enumerate(window):\n",
    "                    output[i+j] += row\n",
    "                    count[i+j] += 1\n",
    "\n",
    "            return output / count\n",
    "        else:\n",
    "            return data[:, 0, :]"
   ]
  },
  {
   "cell_type": "markdown",
   "id": "7d64966e-d261-41f4-92b1-0d979c9deceb",
   "metadata": {},
   "source": [
    "### Define Plotting Function For G/D Loss"
   ]
  },
  {
   "cell_type": "code",
   "execution_count": 53,
   "id": "558eca6b-dc6e-45a4-a77d-5a2139ef78b2",
   "metadata": {},
   "outputs": [],
   "source": [
    "def plot_history(logs):\n",
    "    n = len(logs)\n",
    "    n_rows = (n + 2) // 3\n",
    "\n",
    "    fig, axes = plt.subplots(n_rows, 3, figsize=(15, 5 * n_rows))\n",
    "    axes = axes.flatten()\n",
    "\n",
    "    for i, (model_name, generator_log, discriminator_log) in enumerate(logs):\n",
    "        axes[i].plot(generator_log, label='GLoss')\n",
    "        axes[i].plot(discriminator_log, label='DLoss')\n",
    "        axes[i].legend()\n",
    "        axes[i].set_title(model_name)\n",
    "\n",
    "    for i in range(n, n_rows * 3):\n",
    "        axes[i].remove()\n",
    "\n",
    "    plt.tight_layout()\n",
    "    plt.show()\n",
    "    plt.close()"
   ]
  },
  {
   "cell_type": "markdown",
   "id": "8134ba08-ad73-4d99-ae5d-a14e73c5a9d6",
   "metadata": {},
   "source": [
    "### Define Generator, discriminator and GAN Architecture"
   ]
  },
  {
   "cell_type": "code",
   "execution_count": 54,
   "id": "3cbc2d56-1baa-47de-8edf-aaf6b7ede7a6",
   "metadata": {},
   "outputs": [],
   "source": [
    "def build_conv_generator(table_dim, labels_dim, window, opt, loss, latent_dim=100):\n",
    "    noise_input = layers.Input(shape=(window,latent_dim,))\n",
    "    labels_input = layers.Input(shape=(window,labels_dim,))\n",
    "    merge_input = layers.Concatenate()([noise_input, labels_input])\n",
    "    hidden_layer1 = layers.Conv1DTranspose(256,kernel_size=3,activation='relu',kernel_initializer='he_normal',padding='same')(merge_input)\n",
    "    bn_layer1 = layers.BatchNormalization()(hidden_layer1)\n",
    "    hidden_layer2 = layers.Conv1DTranspose(128,kernel_size=4,activation='relu',kernel_initializer='he_normal',padding='same')(bn_layer1)\n",
    "    bn_layer2 = layers.BatchNormalization()(hidden_layer2)\n",
    "    hidden_layer3 = layers.Conv1DTranspose(64,kernel_size=5,activation='relu',kernel_initializer='he_normal',padding='same')(bn_layer2)\n",
    "    bn_layer3 = layers.BatchNormalization()(hidden_layer3)\n",
    "    hidden_layer4 = layers.Conv1DTranspose(32,kernel_size=6,activation='relu',kernel_initializer='he_normal',padding='same')(bn_layer3)\n",
    "    bn_layer4 = layers.BatchNormalization()(hidden_layer4)\n",
    "    output_layer = layers.Conv1DTranspose(table_dim,kernel_size=1,activation='linear',kernel_initializer='glorot_normal')(bn_layer4)\n",
    "    generator = models.Model([noise_input, labels_input], output_layer)\n",
    "    generator.compile(optimizer=opt, loss=loss)\n",
    "    return generator"
   ]
  },
  {
   "cell_type": "code",
   "execution_count": 55,
   "id": "52d62f5a-2c81-424d-ad94-680d07d463c4",
   "metadata": {
    "tags": []
   },
   "outputs": [],
   "source": [
    "def build_conv_discriminator(table_dim, labels_dim, window, opt, loss):\n",
    "    table_input = layers.Input(shape=(window,table_dim,))\n",
    "    labels_input = layers.Input(shape=(window,labels_dim,))\n",
    "    merge_input = layers.Concatenate()([table_input, labels_input])\n",
    "    hidden_layer1 = layers.Conv1D(32,kernel_size=6,activation=layers.LeakyReLU(0.2),kernel_initializer='he_normal',padding='same')(merge_input)\n",
    "    bn_layer1 = layers.BatchNormalization()(hidden_layer1)\n",
    "    dropout1 = layers.Dropout(0.3)(bn_layer1)\n",
    "    hidden_layer2 = layers.Conv1D(64,kernel_size=5,activation=layers.LeakyReLU(0.2),kernel_initializer='he_normal',padding='same')(dropout1)\n",
    "    bn_layer2 = layers.BatchNormalization()(hidden_layer2)\n",
    "    dropout2 = layers.Dropout(0.3)(bn_layer2)\n",
    "    hidden_layer3 = layers.Conv1D(128,kernel_size=4,activation=layers.LeakyReLU(0.2),kernel_initializer='he_normal',padding='same')(dropout2)\n",
    "    bn_layer3 = layers.BatchNormalization()(hidden_layer3)\n",
    "    dropout3 = layers.Dropout(0.3)(bn_layer3)\n",
    "    hidden_layer4 = layers.Conv1D(256,kernel_size=3,activation=layers.LeakyReLU(0.2),kernel_initializer='he_normal',padding='same')(dropout3)\n",
    "    bn_layer4 = layers.BatchNormalization()(hidden_layer4)\n",
    "    dropout4 = layers.Dropout(0.3)(bn_layer4)\n",
    "    flatten = layers.Flatten()(dropout4)\n",
    "    output_layer = layers.Dense(1, activation='linear',kernel_initializer='glorot_normal')(flatten)\n",
    "    discriminator = models.Model([table_input, labels_input], output_layer)\n",
    "    discriminator.compile(optimizer=opt, loss=loss)\n",
    "    return discriminator"
   ]
  },
  {
   "cell_type": "markdown",
   "id": "6dd2b8d7-5798-490f-bf13-8233ef51b8d3",
   "metadata": {},
   "source": [
    "### Define Training Strategy"
   ]
  },
  {
   "cell_type": "code",
   "execution_count": 56,
   "id": "8c39aa00-6c56-4ad7-97d3-e6c3d98cb67c",
   "metadata": {},
   "outputs": [],
   "source": [
    "def train_gan(name, real_table, real_labels, window, n_discriminator=5, gp_weight=10, epochs=50, patience=10, min_delta=0.1, batch_size=400, latent_dim=100, seed=123):\n",
    "    rand_seed = seed\n",
    "    csw = CustomSlidingWindow(window)\n",
    "    real_table = csw.transform(real_table.values)\n",
    "    real_labels = csw.transform(real_labels.values)\n",
    "    half_batch = int(batch_size/2)\n",
    "    g_opt = optimizers.Adam()\n",
    "    d_opt = optimizers.Adam()\n",
    "    g_loss_func = generator_loss\n",
    "    d_loss_func = discriminator_loss\n",
    "    generator = build_conv_generator(real_table.shape[2], real_labels.shape[2], window=window, opt=g_opt, loss=g_loss_func, latent_dim=latent_dim)\n",
    "    discriminator = build_conv_discriminator(real_table.shape[2], real_labels.shape[2], window=window, opt=d_opt, loss=d_loss_func)\n",
    "\n",
    "    generator_logs = []\n",
    "    discriminator_logs = []\n",
    "    \n",
    "    for epoch in tqdm(range(epochs), desc=\"Training Numeric GAN\"):\n",
    "        # start_time = time.time()\n",
    "        \n",
    "        # train discriminator:\n",
    "        for _ in range(n_discriminator):\n",
    "            np.random.seed(rand_seed)\n",
    "            idx = np.random.randint(0, real_table.shape[0], half_batch)\n",
    "            x_real_labels = real_labels[idx,:,:]\n",
    "            x_real_table = real_table[idx,:,:]\n",
    "            with tf.GradientTape() as tape:\n",
    "                noise = np.random.normal(0, 1, (half_batch, window, latent_dim))\n",
    "                x_fake_table = generator([noise, x_real_labels], training=True)\n",
    "                d_logits_real = discriminator([x_real_table, x_real_labels], training=True)\n",
    "                d_logits_fake = discriminator([x_fake_table, x_real_labels], training=True)\n",
    "                d_cost = d_loss_func(d_logits_real, d_logits_fake)\n",
    "                gp = gradient_penalty(half_batch, x_real_table, x_fake_table, x_real_labels, discriminator, window=window)\n",
    "                d_loss = d_cost + gp * gp_weight\n",
    "                rand_seed += 1\n",
    "                \n",
    "            d_grad = tape.gradient(d_loss, discriminator.trainable_variables)\n",
    "            d_opt.apply_gradients(\n",
    "                zip(d_grad, discriminator.trainable_variables)\n",
    "            )\n",
    "        d_loss = np.mean(d_loss)\n",
    "        \n",
    "        np.random.seed(rand_seed)\n",
    "        # train generator/GAN\n",
    "        idx = np.random.randint(0, real_table.shape[0], batch_size)\n",
    "        x_real_labels = real_labels[idx,:,:]\n",
    "        x_gan = np.random.normal(0, 1, (batch_size, window, latent_dim))\n",
    "        with tf.GradientTape() as tape:\n",
    "            x_fake_table = generator([x_gan, x_real_labels], training=True)\n",
    "            g_logits = discriminator([x_fake_table, x_real_labels], training=True)\n",
    "            g_loss = g_loss_func(g_logits)\n",
    "        g_grad = tape.gradient(g_loss, generator.trainable_variables)\n",
    "        g_opt.apply_gradients(\n",
    "            zip(g_grad, generator.trainable_variables)\n",
    "        )\n",
    "        generator_logs.append(g_loss)\n",
    "        discriminator_logs.append(d_loss)\n",
    "        \n",
    "        rand_seed += 1\n",
    "        \n",
    "    generator.save('models/'+name+'_gen.h5')\n",
    "    \n",
    "    return generator_logs, discriminator_logs"
   ]
  },
  {
   "cell_type": "code",
   "execution_count": 57,
   "id": "8ffe38c7-2d8e-4cfd-a7be-90b9f7804895",
   "metadata": {},
   "outputs": [],
   "source": [
    "def collection_training(processed_collection, modelling_metadata, training_parameter_dict):\n",
    "    logs = []\n",
    "    init_time = time.time()\n",
    "    for df_name, content in processed_collection.items():\n",
    "        start_time = time.time()\n",
    "        print(f'Learning Numeric Columns in \\\"{df_name}\\\"...')\n",
    "        latent_dim = 100\n",
    "        if content['table'] is not None:\n",
    "            window=6\n",
    "            modelling_metadata[df_name]['window'] = window\n",
    "            generator_log, discriminator_log = train_gan(df_name,\n",
    "                                                             content['table'],\n",
    "                                                             content['labels'],\n",
    "                                                             window=window,\n",
    "                                                             epochs=training_parameter_dict[df_name]['epochs'],\n",
    "                                                             latent_dim = latent_dim)\n",
    "            logs.append([df_name, generator_log, discriminator_log])\n",
    "            in_loop_elapsed_time = time.time() - start_time\n",
    "            minutes, seconds = divmod(in_loop_elapsed_time, 60)\n",
    "            print(\"Time Used: %dm %ds.\" % (minutes, seconds))\n",
    "        else:\n",
    "            modelling_metadata[df_name]['window'] = 0\n",
    "            print(\"Skipped (fully-categorical table, fitted with KDE instead).\")\n",
    "        print()\n",
    "    plot_history(logs)\n",
    "    total_elapsed_time = time.time() - init_time\n",
    "    minutes, seconds = divmod(total_elapsed_time, 60)\n",
    "    print(\"Total Time Used: %dm %ds\" % (minutes, seconds))"
   ]
  },
  {
   "cell_type": "markdown",
   "id": "df30c126-718f-4fb8-9e1f-788856cb0409",
   "metadata": {
    "tags": []
   },
   "source": [
    "## Train GAN"
   ]
  },
  {
   "cell_type": "code",
   "execution_count": 58,
   "id": "c01837b4-de65-4540-815d-f34f47ef61c3",
   "metadata": {},
   "outputs": [],
   "source": [
    "def calculate_epochs(data_collection, batch_size=400):\n",
    "    parameter_dict = {}\n",
    "    for df_name, df in data_collection.items():\n",
    "        epochs = len(df) / batch_size\n",
    "        if epochs < 20:\n",
    "            epochs = 20\n",
    "        elif epochs > 500:\n",
    "            epochs = 500\n",
    "        parameter_dict[df_name] = {'epochs':round(epochs)}\n",
    "    return parameter_dict"
   ]
  },
  {
   "cell_type": "code",
   "execution_count": 59,
   "id": "e617bab8-b5d8-4dcd-9bd7-b171c311dbe4",
   "metadata": {},
   "outputs": [],
   "source": [
    "training_parameter_dict = calculate_epochs(transformed_data_collection)"
   ]
  },
  {
   "cell_type": "code",
   "execution_count": 60,
   "id": "d933f9ca-b23d-4235-ba11-d769163605c6",
   "metadata": {},
   "outputs": [
    {
     "data": {
      "text/plain": [
       "{'agency': {'epochs': 20},\n",
       " 'calendar': {'epochs': 20},\n",
       " 'calendar_dates': {'epochs': 20},\n",
       " 'routes': {'epochs': 20},\n",
       " 'stops': {'epochs': 20},\n",
       " 'stop_times': {'epochs': 500},\n",
       " 'trips': {'epochs': 81}}"
      ]
     },
     "execution_count": 60,
     "metadata": {},
     "output_type": "execute_result"
    }
   ],
   "source": [
    "training_parameter_dict"
   ]
  },
  {
   "cell_type": "code",
   "execution_count": 61,
   "id": "460d4f25-0081-4232-a6c0-1e520da7a6de",
   "metadata": {
    "scrolled": true,
    "tags": []
   },
   "outputs": [
    {
     "name": "stdout",
     "output_type": "stream",
     "text": [
      "Learning Numeric Columns in \"agency\"...\n",
      "Skipped (fully-categorical table, fitted with KDE instead).\n",
      "\n",
      "Learning Numeric Columns in \"calendar\"...\n"
     ]
    },
    {
     "name": "stderr",
     "output_type": "stream",
     "text": [
      "Training Numeric GAN: 100%|████████████████████████████████████████████████████████████| 20/20 [00:15<00:00,  1.27it/s]\n"
     ]
    },
    {
     "name": "stdout",
     "output_type": "stream",
     "text": [
      "Time Used: 0m 16s.\n",
      "\n",
      "Learning Numeric Columns in \"calendar_dates\"...\n",
      "Skipped (fully-categorical table, fitted with KDE instead).\n",
      "\n",
      "Learning Numeric Columns in \"routes\"...\n",
      "Skipped (fully-categorical table, fitted with KDE instead).\n",
      "\n",
      "Learning Numeric Columns in \"stops\"...\n"
     ]
    },
    {
     "name": "stderr",
     "output_type": "stream",
     "text": [
      "Training Numeric GAN: 100%|████████████████████████████████████████████████████████████| 20/20 [00:12<00:00,  1.59it/s]\n"
     ]
    },
    {
     "name": "stdout",
     "output_type": "stream",
     "text": [
      "Time Used: 0m 12s.\n",
      "\n",
      "Learning Numeric Columns in \"stop_times\"...\n"
     ]
    },
    {
     "name": "stderr",
     "output_type": "stream",
     "text": [
      "Training Numeric GAN: 100%|██████████████████████████████████████████████████████████| 500/500 [05:01<00:00,  1.66it/s]\n"
     ]
    },
    {
     "name": "stdout",
     "output_type": "stream",
     "text": [
      "Time Used: 5m 1s.\n",
      "\n",
      "Learning Numeric Columns in \"trips\"...\n",
      "Skipped (fully-categorical table, fitted with KDE instead).\n",
      "\n"
     ]
    },
    {
     "data": {
      "image/png": "[encoded data removed]",
      "text/plain": [
       "<Figure size 1500x500 with 3 Axes>"
      ]
     },
     "metadata": {},
     "output_type": "display_data"
    },
    {
     "name": "stdout",
     "output_type": "stream",
     "text": [
      "Total Time Used: 5m 31s\n",
      "CPU times: total: 5min 33s\n",
      "Wall time: 5min 31s\n"
     ]
    }
   ],
   "source": [
    "%%time\n",
    "\n",
    "collection_training(processed_data_collection, modelling_metadata, training_parameter_dict)"
   ]
  },
  {
   "cell_type": "code",
   "execution_count": 62,
   "id": "08feb3fa-9912-4096-a489-4f6531b00b70",
   "metadata": {},
   "outputs": [
    {
     "name": "stdout",
     "output_type": "stream",
     "text": [
      "Total Training Time: 5.0m 44.60141205787659s.\n"
     ]
    }
   ],
   "source": [
    "training_end_time = time.time()\n",
    "training_end_time = training_end_time - training_start_time\n",
    "minutes, seconds = divmod(training_end_time, 60)\n",
    "print(f'Total Training Time: {minutes}m {seconds}s.')"
   ]
  },
  {
   "cell_type": "code",
   "execution_count": 63,
   "id": "7646e1f3-7104-4eeb-8e0d-8577f2fbc4ae",
   "metadata": {},
   "outputs": [],
   "source": [
    "generation_start_time = time.time()"
   ]
  },
  {
   "cell_type": "markdown",
   "id": "31c91cc2-1167-4944-a4ae-18bfaf209b4b",
   "metadata": {},
   "source": [
    "## Set the number of rows to generate."
   ]
  },
  {
   "cell_type": "code",
   "execution_count": 64,
   "id": "1e39be14-abfa-422e-a33a-f6333dc191a1",
   "metadata": {},
   "outputs": [],
   "source": [
    "generation_dict = {k:{'nrows':len(v)} for k,v in real_data_collection.items()}"
   ]
  },
  {
   "cell_type": "code",
   "execution_count": 65,
   "id": "26712e2e-c0a2-4132-af93-68af04c1adaf",
   "metadata": {},
   "outputs": [
    {
     "data": {
      "text/plain": [
       "{'agency': {'nrows': 15},\n",
       " 'calendar': {'nrows': 121},\n",
       " 'calendar_dates': {'nrows': 674},\n",
       " 'routes': {'nrows': 215},\n",
       " 'stops': {'nrows': 6714},\n",
       " 'stop_times': {'nrows': 966790},\n",
       " 'trips': {'nrows': 32403}}"
      ]
     },
     "execution_count": 65,
     "metadata": {},
     "output_type": "execute_result"
    }
   ],
   "source": [
    "generation_dict"
   ]
  },
  {
   "cell_type": "code",
   "execution_count": 66,
   "id": "e640674b-5d1e-42e9-a9d8-52cf78c9c87d",
   "metadata": {
    "tags": []
   },
   "outputs": [],
   "source": [
    "with open('pkl/gtfs/real_data_collection.pkl', 'wb') as f:\n",
    "    pickle.dump(real_data_collection, f)"
   ]
  },
  {
   "cell_type": "code",
   "execution_count": 67,
   "id": "dbec8740-4ad2-4f6d-bccd-48692031bf56",
   "metadata": {},
   "outputs": [],
   "source": [
    "del real_data_collection"
   ]
  },
  {
   "cell_type": "code",
   "execution_count": 68,
   "id": "90742d9b-4e16-4c7b-b3d0-6df18d2e61cd",
   "metadata": {},
   "outputs": [],
   "source": [
    "del transformed_data_collection"
   ]
  },
  {
   "cell_type": "code",
   "execution_count": 69,
   "id": "dfb93c87-26a7-4c85-9ae8-4aafcceaa69c",
   "metadata": {},
   "outputs": [],
   "source": [
    "del processed_data_collection"
   ]
  },
  {
   "cell_type": "markdown",
   "id": "37613df5-a0f7-4158-90e9-39c2f683bb49",
   "metadata": {},
   "source": [
    "# Synthetic Data Generation"
   ]
  },
  {
   "cell_type": "markdown",
   "id": "17a43cfc-9f13-4762-b54d-56d1fd69ee0c",
   "metadata": {},
   "source": [
    "## Define Interpolation Function"
   ]
  },
  {
   "cell_type": "code",
   "execution_count": 70,
   "id": "e155a03a-d4ff-440c-bb49-e1b15a153097",
   "metadata": {},
   "outputs": [],
   "source": [
    "# def adjust_unique_elements(data, min_max_range, ignore=[]):\n",
    "#     for col, range_ in min_max_range.items():\n",
    "#         if col not in ignore:\n",
    "#             data[col] = data[col]\n",
    "#             min_val, max_val = data[col].min(), data[col].max()\n",
    "#             original_range = np.linspace(min_val, max_val, len(data))\n",
    "#             new_range = np.arange(range_['min'],range_['max'])\n",
    "#             interp_func = interp1d(original_range, new_range, kind='nearest', bounds_error=False, fill_value=(range_['min'], range_['max']))\n",
    "#             data[col] = interp_func(data[col]).astype(int)\n",
    "#     return data"
   ]
  },
  {
   "cell_type": "code",
   "execution_count": 71,
   "id": "1033ee19-0c71-4683-86b4-e80dc193129e",
   "metadata": {},
   "outputs": [],
   "source": [
    "def adjust_unique_elements(df, min_max_range, ignore=[]):\n",
    "    df_scaled = df.copy()\n",
    "    for col, range_ in min_max_range.items():\n",
    "        if col not in ignore:\n",
    "            interpolator = interp1d([df[col].min(), df[col].max()], [range_['min'], range_['max']], kind='slinear', fill_value=(range_['min'], range_['max']))\n",
    "            df_scaled[col] = interpolator(df[col]).round()\n",
    "    return df_scaled"
   ]
  },
  {
   "cell_type": "markdown",
   "id": "f37f65d8-b4b5-44cd-b5ed-65e355702a3d",
   "metadata": {},
   "source": [
    "## Define KDE Sampling Strategy"
   ]
  },
  {
   "cell_type": "code",
   "execution_count": 72,
   "id": "f189dabd-19bf-4258-b1c0-ac076242a360",
   "metadata": {},
   "outputs": [],
   "source": [
    "def generate_labels(kde, n_samples, col_names, round_=False):\n",
    "    new_data = kde.sample(n_samples)\n",
    "    if round_:\n",
    "        new_data_df = pd.DataFrame(new_data, columns=col_names).round()\n",
    "    else:\n",
    "        new_data_df = pd.DataFrame(new_data, columns=col_names)\n",
    "    return new_data_df"
   ]
  },
  {
   "cell_type": "markdown",
   "id": "771edf13-94eb-404e-b297-d967d61553d1",
   "metadata": {},
   "source": [
    "## Generate Synthetic Data"
   ]
  },
  {
   "cell_type": "code",
   "execution_count": 73,
   "id": "7926ee0f-cac2-4ea9-9852-a36b9d86daa8",
   "metadata": {
    "tags": []
   },
   "outputs": [],
   "source": [
    "def generate_synth_data_collection(kde_collection, modelling_metadata, generation_dict, backtransformation_dict, formatter_collection, transform_method_dict, latent_dim=100, seed=123):\n",
    "    np.random.seed(seed)\n",
    "    synthetic_data_collection = {}\n",
    "    custom_objects = {'generator_loss':generator_loss}\n",
    "    for df_name, content in modelling_metadata.items():\n",
    "        if len(backtransformation_dict[df_name]['table_col_names']) != 0:\n",
    "            generator = models.load_model('models/'+df_name+'_gen.h5', custom_objects=custom_objects)\n",
    "        else:\n",
    "            generator = None\n",
    "        primary_key = content['primary_key']\n",
    "        child = content['child']\n",
    "        parent = content['parent']\n",
    "        n_samples = generation_dict[df_name]['nrows']\n",
    "        window = content['window']\n",
    "        \n",
    "        print(f\"Generating {df_name} (size={n_samples})...\")\n",
    "        \n",
    "        fake_primary_key = None\n",
    "        fake_selected_columns = None\n",
    "        if primary_key != None:\n",
    "            fake_primary_key = np.arange(n_samples)\n",
    "            fake_primary_key = pd.DataFrame({primary_key:fake_primary_key})\n",
    "            \n",
    "        if content['selected_columns'] != []:\n",
    "            kde = kde_collection[df_name]\n",
    "            print(f\"Generating Key and Categorical Columns...\")\n",
    "            kde_start_time = time.time()\n",
    "            fake_selected_columns = generate_labels(kde, n_samples, content['selected_columns'])\n",
    "            kde_elapsed_time= time.time() - kde_start_time\n",
    "            minutes, seconds = divmod(kde_elapsed_time, 60)\n",
    "            print(\"Key and Categorical Columns Generated: %dm %ds.\" % (minutes, seconds))\n",
    "            min_max_range = backtransformation_dict[df_name]['min_max_range']\n",
    "            if parent != None:\n",
    "                for parent_table, f_keys in parent.items():\n",
    "                    min_max_range[f_keys] = {'min':0,'max':generation_dict[parent_table]['nrows']-1}\n",
    "                fake_selected_columns = adjust_unique_elements(fake_selected_columns, min_max_range)\n",
    "            else:\n",
    "                fake_selected_columns = adjust_unique_elements(fake_selected_columns, min_max_range)\n",
    "        \n",
    "        if fake_primary_key is not None:\n",
    "            if fake_selected_columns is not None:\n",
    "                fake_labels = pd.concat([fake_primary_key, fake_selected_columns], axis=1)\n",
    "            else:\n",
    "                fake_labels = fake_primary_key\n",
    "        else:\n",
    "            fake_labels = fake_selected_columns\n",
    "        \n",
    "        fake_labels = fake_labels.reindex(columns=backtransformation_dict[df_name]['labels_col_names'])\n",
    "        if content['is_sequential'] == True:\n",
    "            fake_labels = fake_labels.sort_values(by=content['sort_order'])\n",
    "            \n",
    "        scaled_fake_labels = backtransformation_dict[df_name]['labels_scaler'].transform(fake_labels)\n",
    "        \n",
    "        if generator is not None:\n",
    "            latent_dim = 100\n",
    "            noise = np.random.normal(0, 1, size=(n_samples-window+1, window, latent_dim))\n",
    "            print(f\"Generating Numeric Columns...\")\n",
    "            generator_start_time=time.time()\n",
    "            sw = CustomSlidingWindow(window)\n",
    "            scaled_fake_labels = sw.transform(scaled_fake_labels)\n",
    "            raw_fake_table = generator.predict([noise, scaled_fake_labels], verbose=1)\n",
    "            raw_fake_table = sw.inverse_transform(raw_fake_table, use_mean=True)\n",
    "            fake_table = backtransformation_dict[df_name]['table_scaler'].inverse_transform(raw_fake_table)\n",
    "            fake_table = pd.DataFrame(fake_table, columns=backtransformation_dict[df_name]['table_col_names'])\n",
    "            fake_data = pd.concat([fake_labels.iloc[:n_samples], fake_table], axis=1)\n",
    "            fake_subset = formatter_collection[df_name].reverse_transform_subset(fake_data[transform_method_dict[df_name]['table']])\n",
    "            fake_data = pd.concat([fake_data[transform_method_dict[df_name]['labels']], fake_subset], axis=1)\n",
    "            generator_elapsed_time= time.time() - generator_start_time\n",
    "            minutes, seconds = divmod(generator_elapsed_time, 60)\n",
    "            print(\"Numeric Columns Generated: %dm %ds.\" % (minutes, seconds))\n",
    "        else:\n",
    "            fake_data = fake_labels.iloc[:n_samples]\n",
    "            fake_subset = formatter_collection[df_name].reverse_transform_subset(fake_data[transform_method_dict[df_name]['table']])\n",
    "            fake_data = pd.concat([fake_data[transform_method_dict[df_name]['labels']], fake_subset], axis=1)\n",
    "        fake_data = fake_data.reindex(columns=backtransformation_dict[df_name]['col_names'])\n",
    "        synthetic_data_collection[df_name] = fake_data\n",
    "        print()\n",
    "    return synthetic_data_collection"
   ]
  },
  {
   "cell_type": "code",
   "execution_count": 74,
   "id": "1af7da14-2d7d-4c16-80e0-5c51f93f8675",
   "metadata": {
    "scrolled": true,
    "tags": []
   },
   "outputs": [
    {
     "name": "stdout",
     "output_type": "stream",
     "text": [
      "Generating agency (size=15)...\n",
      "Generating Key and Categorical Columns...\n",
      "Key and Categorical Columns Generated: 0m 0s.\n",
      "\n",
      "Generating calendar (size=121)...\n",
      "Generating Key and Categorical Columns...\n",
      "Key and Categorical Columns Generated: 0m 0s.\n",
      "Generating Numeric Columns...\n",
      "4/4 [==============================] - 0s 22ms/step\n",
      "Numeric Columns Generated: 0m 0s.\n",
      "\n",
      "Generating calendar_dates (size=674)...\n",
      "Generating Key and Categorical Columns...\n",
      "Key and Categorical Columns Generated: 0m 0s.\n",
      "\n",
      "Generating routes (size=215)...\n",
      "Generating Key and Categorical Columns...\n",
      "Key and Categorical Columns Generated: 0m 0s.\n",
      "\n",
      "Generating stops (size=6714)...\n",
      "Generating Key and Categorical Columns...\n",
      "Key and Categorical Columns Generated: 0m 0s.\n",
      "Generating Numeric Columns...\n",
      "210/210 [==============================] - 1s 2ms/step\n",
      "Numeric Columns Generated: 0m 0s.\n",
      "\n",
      "Generating stop_times (size=966790)...\n",
      "Generating Key and Categorical Columns...\n",
      "Key and Categorical Columns Generated: 0m 0s.\n",
      "Generating Numeric Columns...\n",
      "30213/30213 [==============================] - 62s 2ms/step\n",
      "Numeric Columns Generated: 1m 22s.\n",
      "\n",
      "Generating trips (size=32403)...\n",
      "Generating Key and Categorical Columns...\n",
      "Key and Categorical Columns Generated: 0m 0s.\n",
      "\n",
      "CPU times: total: 1min 53s\n",
      "Wall time: 1min 37s\n"
     ]
    }
   ],
   "source": [
    "%%time\n",
    "\n",
    "synthetic_data_collection = generate_synth_data_collection(kde_collection, modelling_metadata, generation_dict, backtransformation_dict, formatter_collection, transform_method_dict)"
   ]
  },
  {
   "cell_type": "markdown",
   "id": "4d32de55-988b-4271-9750-d5281462c68f",
   "metadata": {},
   "source": [
    "## Generate/Replace Key Columns with Regular Expression"
   ]
  },
  {
   "cell_type": "code",
   "execution_count": 75,
   "id": "56f7de02-e103-4384-b8ff-dc396dc8337d",
   "metadata": {},
   "outputs": [],
   "source": [
    "def replace_keys_with_regex(dataframes, metadata):\n",
    "    # Generate a mapping from old primary keys to new ones for each table\n",
    "    primary_key_mappings = {}\n",
    "    for df_name, content in metadata['tables'].items():\n",
    "        df = dataframes[df_name]\n",
    "\n",
    "        # Skip tables without a primary key\n",
    "        if 'primary_key' not in content:\n",
    "            continue\n",
    "\n",
    "        primary_key = content['primary_key']\n",
    "\n",
    "        # Skip columns without a regex_format\n",
    "        if 'regex_format' not in content['columns'][primary_key]:\n",
    "            continue\n",
    "\n",
    "        regex = content['columns'][primary_key]['regex_format']\n",
    "\n",
    "        # Generate new primary keys\n",
    "        regex_primary_keys = [exrex.getone(regex) for _ in range(len(df))]\n",
    "\n",
    "        # Check if new keys are unique. If not, regenerate.\n",
    "        while len(regex_primary_keys) != len(set(regex_primary_keys)):\n",
    "            regex_primary_keys = [exrex.getone(regex) for _ in range(len(df))]\n",
    "\n",
    "        # Create a mapping from old primary keys to new ones\n",
    "        primary_key_mappings[df_name] = dict(zip(df[primary_key], regex_primary_keys))\n",
    "\n",
    "        # Replace the primary keys in the original dataframe\n",
    "        df[primary_key] = regex_primary_keys\n",
    "\n",
    "    # Update the foreign keys in each table\n",
    "    for relationship in metadata['relationships']:\n",
    "        parent_df_name = relationship['parent_table_name']\n",
    "        child_df_name = relationship['child_table_name']\n",
    "        child_foreign_key = relationship['child_foreign_key']\n",
    "\n",
    "        # Get the mapping from old to new primary keys for the parent table\n",
    "        key_mapping = primary_key_mappings.get(parent_df_name)\n",
    "\n",
    "        # If there's no key mapping (i.e., the parent table has no primary key),\n",
    "        # skip this relationship\n",
    "        if key_mapping is None:\n",
    "            continue\n",
    "\n",
    "        # Replace the foreign keys in the child table\n",
    "        dataframes[child_df_name][child_foreign_key] = dataframes[child_df_name][child_foreign_key].map(key_mapping)\n",
    "\n",
    "    return dataframes"
   ]
  },
  {
   "cell_type": "code",
   "execution_count": 76,
   "id": "6f7bbba1-5552-4c7c-82f9-c22d64c0d0e1",
   "metadata": {},
   "outputs": [
    {
     "name": "stdout",
     "output_type": "stream",
     "text": [
      "CPU times: total: 4.11 s\n",
      "Wall time: 4.12 s\n"
     ]
    }
   ],
   "source": [
    "%%time\n",
    "synthetic_data_collection = replace_keys_with_regex(synthetic_data_collection, sdv_metadata.to_dict())"
   ]
  },
  {
   "cell_type": "code",
   "execution_count": 77,
   "id": "8eb3b5d9-e177-480a-8ee7-d0658d9ad691",
   "metadata": {},
   "outputs": [
    {
     "name": "stdout",
     "output_type": "stream",
     "text": [
      "Total Generation Time: 1.0m 42.495749950408936s.\n"
     ]
    }
   ],
   "source": [
    "generation_end_time = time.time()\n",
    "generation_end_time = generation_end_time - generation_start_time\n",
    "minutes, seconds = divmod(generation_end_time, 60)\n",
    "print(f'Total Generation Time: {minutes}m {seconds}s.')"
   ]
  },
  {
   "cell_type": "markdown",
   "id": "d77dad6d-b2f2-4505-97c6-538b676f81c4",
   "metadata": {},
   "source": [
    "## (Optional) Adjust Daylight-Savings"
   ]
  },
  {
   "cell_type": "code",
   "execution_count": 78,
   "id": "515a7451-06e9-48ad-b9a4-f6d39e8bc22f",
   "metadata": {},
   "outputs": [],
   "source": [
    "synthetic_data_collection['stop_times'] = adjust_time(synthetic_data_collection['stop_times'], ['arrival_time','departure_time'])"
   ]
  },
  {
   "cell_type": "markdown",
   "id": "34da7938-19e7-45a9-8b48-21c196f3c86b",
   "metadata": {},
   "source": [
    "# Save Generated Data and Metadata"
   ]
  },
  {
   "cell_type": "code",
   "execution_count": 79,
   "id": "e622f869-9a16-4878-832c-2ea5f899e664",
   "metadata": {},
   "outputs": [],
   "source": [
    "with open('pkl/gtfs/synthetic_data_full_epoch.pkl', 'wb') as f:\n",
    "    pickle.dump(synthetic_data_collection, f)"
   ]
  },
  {
   "cell_type": "code",
   "execution_count": 80,
   "id": "6f0559f9-d4b8-4244-98da-7877c32a72e1",
   "metadata": {},
   "outputs": [],
   "source": [
    "with open('pkl/gtfs/sdv_metadata.pkl', 'wb') as f:\n",
    "    pickle.dump(sdv_metadata, f)"
   ]
  }
 ],
 "metadata": {
  "kernelspec": {
   "display_name": "Python 3 (ipykernel)",
   "language": "python",
   "name": "python3"
  },
  "language_info": {
   "codemirror_mode": {
    "name": "ipython",
    "version": 3
   },
   "file_extension": ".py",
   "mimetype": "text/x-python",
   "name": "python",
   "nbconvert_exporter": "python",
   "pygments_lexer": "ipython3",
   "version": "3.9.16"
  },
  "toc-autonumbering": true
 },
 "nbformat": 4,
 "nbformat_minor": 5
}
