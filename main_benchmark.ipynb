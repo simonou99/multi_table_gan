{
 "cells": [
  {
   "cell_type": "markdown",
   "id": "5c0b633b-f706-4cc4-8c33-985396dc18b2",
   "metadata": {},
   "source": [
    "**HMA Takes a long time** \n",
    "\n",
    "**Try loading the stored trained model instead.**"
   ]
  },
  {
   "cell_type": "code",
   "execution_count": 1,
   "id": "692afc16-38d6-4f60-8571-9e5464636a21",
   "metadata": {},
   "outputs": [],
   "source": [
    "import os\n",
    "import time\n",
    "import math\n",
    "import random\n",
    "import pickle\n",
    "import numpy as np\n",
    "import pandas as pd\n",
    "import matplotlib.pyplot as plt\n",
    "from sklearn import metrics\n",
    "from scipy.stats import ks_2samp\n",
    "from sdv.metadata import MultiTableMetadata\n",
    "from sdv.multi_table import HMASynthesizer\n",
    "from sdv.evaluation.multi_table import evaluate_quality"
   ]
  },
  {
   "cell_type": "markdown",
   "id": "7dfad801-09b8-41ab-b7cd-6788e4e89cb1",
   "metadata": {},
   "source": [
    "# Load Processed Data From Generation Stage"
   ]
  },
  {
   "cell_type": "code",
   "execution_count": 2,
   "id": "f40c443d-8949-4cbc-8406-5c9b68bf5147",
   "metadata": {},
   "outputs": [],
   "source": [
    "with open('pkl/gtfs/real_data_collection.pkl', 'rb') as f:\n",
    "    real_data_collection = pickle.load(f)"
   ]
  },
  {
   "cell_type": "code",
   "execution_count": 3,
   "id": "a4315870-c4dc-42eb-98d8-c02c237e24a6",
   "metadata": {},
   "outputs": [],
   "source": [
    "with open('pkl/gtfs/synthetic_data_full_epoch.pkl', 'rb') as f:\n",
    "    synthetic_data_collection = pickle.load(f)"
   ]
  },
  {
   "cell_type": "code",
   "execution_count": 4,
   "id": "a8f4c4b2-f04e-404b-a974-611d010f5203",
   "metadata": {},
   "outputs": [],
   "source": [
    "with open('pkl/gtfs/sdv_metadata.pkl', 'rb') as f:\n",
    "    sdv_metadata = pickle.load(f)"
   ]
  },
  {
   "cell_type": "markdown",
   "id": "8ae389e7-8d2f-477b-bb87-2e9dd40e37e8",
   "metadata": {
    "tags": []
   },
   "source": [
    "# Benchmark"
   ]
  },
  {
   "cell_type": "code",
   "execution_count": 5,
   "id": "76034a1e-2144-4017-8e0c-0ecfdba21283",
   "metadata": {},
   "outputs": [],
   "source": [
    "sdv_metadata = MultiTableMetadata()"
   ]
  },
  {
   "cell_type": "code",
   "execution_count": 6,
   "id": "19dc817f-c8a6-4886-9162-6441d1d2588b",
   "metadata": {},
   "outputs": [],
   "source": [
    "sdv_metadata.detect_table_from_dataframe(table_name='agency', data=real_data_collection['agency'])\n",
    "sdv_metadata.update_column(table_name='agency',column_name='agency_id',sdtype='id',regex_format = '[a-z\\d]{8}')\n",
    "sdv_metadata.update_column(table_name='agency',column_name='agency_name',sdtype='categorical')\n",
    "sdv_metadata.update_column(table_name='agency',column_name='agency_url',sdtype='categorical')\n",
    "sdv_metadata.update_column(table_name='agency',column_name='agency_timezone',sdtype='categorical')\n",
    "sdv_metadata.update_column(table_name='agency',column_name='agency_lang',sdtype='categorical')\n",
    "sdv_metadata.update_column(table_name='agency',column_name='agency_phone',sdtype='categorical')\n",
    "sdv_metadata.set_primary_key(table_name='agency',column_name='agency_id')"
   ]
  },
  {
   "cell_type": "code",
   "execution_count": 7,
   "id": "30a37195-f600-404d-9679-29ee2288fdad",
   "metadata": {},
   "outputs": [],
   "source": [
    "sdv_metadata.detect_table_from_dataframe(table_name='calendar',data=real_data_collection['calendar'])\n",
    "sdv_metadata.update_column(table_name='calendar',column_name='service_id',sdtype='id',regex_format = '[a-z\\d]{8}')\n",
    "sdv_metadata.update_column(table_name='calendar',column_name='monday',sdtype='categorical')\n",
    "sdv_metadata.update_column(table_name='calendar',column_name='tuesday',sdtype='categorical')\n",
    "sdv_metadata.update_column(table_name='calendar',column_name='wednesday',sdtype='categorical')\n",
    "sdv_metadata.update_column(table_name='calendar',column_name='thursday',sdtype='categorical')\n",
    "sdv_metadata.update_column(table_name='calendar',column_name='friday',sdtype='categorical')\n",
    "sdv_metadata.update_column(table_name='calendar',column_name='saturday',sdtype='categorical')\n",
    "sdv_metadata.update_column(table_name='calendar',column_name='sunday',sdtype='categorical')\n",
    "sdv_metadata.update_column(table_name='calendar',column_name='start_date',sdtype='datetime',datetime_format='%Y%m%d')\n",
    "sdv_metadata.update_column(table_name='calendar',column_name='end_date',sdtype='datetime',datetime_format='%Y%m%d')\n",
    "sdv_metadata.set_primary_key(table_name='calendar',column_name='service_id')"
   ]
  },
  {
   "cell_type": "code",
   "execution_count": 8,
   "id": "0dc1d5fc-0751-4e7e-bb64-49ac849415c3",
   "metadata": {},
   "outputs": [],
   "source": [
    "sdv_metadata.detect_table_from_dataframe(table_name='calendar_dates',data=real_data_collection['calendar_dates'])\n",
    "sdv_metadata.update_column(table_name='calendar_dates',column_name='service_id',sdtype='id',regex_format = '[a-z\\d]{8}')\n",
    "sdv_metadata.update_column(table_name='calendar_dates',column_name='date',sdtype='datetime',datetime_format='%Y%m%d')\n",
    "sdv_metadata.update_column(table_name='calendar_dates',column_name='exception_type',sdtype='categorical')"
   ]
  },
  {
   "cell_type": "code",
   "execution_count": 9,
   "id": "2844d069-a1bf-4c57-89a1-bc01a22b7d32",
   "metadata": {},
   "outputs": [],
   "source": [
    "sdv_metadata.detect_table_from_dataframe(table_name='routes',data=real_data_collection['routes'])\n",
    "sdv_metadata.update_column(table_name='routes',column_name='route_id',sdtype='id',regex_format = '[a-z\\d]{8}')\n",
    "sdv_metadata.update_column(table_name='routes',column_name='agency_id',sdtype='id',regex_format = '[a-z\\d]{8}')\n",
    "sdv_metadata.update_column(table_name='routes',column_name='route_short_name',sdtype='categorical')\n",
    "sdv_metadata.update_column(table_name='routes',column_name='route_long_name',sdtype='categorical')\n",
    "sdv_metadata.update_column(table_name='routes',column_name='route_type',sdtype='categorical')\n",
    "sdv_metadata.update_column(table_name='routes',column_name='route_color',sdtype='categorical')\n",
    "sdv_metadata.update_column(table_name='routes',column_name='route_text_color',sdtype='categorical')\n",
    "sdv_metadata.update_column(table_name='routes',column_name='contract_id',sdtype='id',regex_format = '[a-z\\d]{8}')\n",
    "sdv_metadata.set_primary_key(table_name='routes',column_name='route_id')"
   ]
  },
  {
   "cell_type": "code",
   "execution_count": 10,
   "id": "202adf16-01d4-4c3b-ab3c-505f09057687",
   "metadata": {},
   "outputs": [],
   "source": [
    "sdv_metadata.detect_table_from_dataframe(table_name='stops',data=real_data_collection['stops'])\n",
    "sdv_metadata.update_column(table_name='stops',column_name='stop_id',sdtype='id',regex_format = '[a-z\\d]{8}')\n",
    "sdv_metadata.update_column(table_name='stops',column_name='stop_code',sdtype='numerical',computer_representation='Int32')\n",
    "sdv_metadata.update_column(table_name='stops',column_name='stop_name',sdtype='categorical')\n",
    "sdv_metadata.update_column(table_name='stops',column_name='stop_lat',sdtype='numerical',computer_representation='Float')\n",
    "sdv_metadata.update_column(table_name='stops',column_name='stop_lon',sdtype='numerical',computer_representation='Float')\n",
    "sdv_metadata.update_column(table_name='stops',column_name='location_type',sdtype='categorical')\n",
    "sdv_metadata.update_column(table_name='stops',column_name='parent_station',sdtype='categorical')\n",
    "sdv_metadata.update_column(table_name='stops',column_name='platform_code',sdtype='categorical')\n",
    "sdv_metadata.update_column(table_name='stops',column_name='wheelchair_boarding',sdtype='categorical')\n",
    "sdv_metadata.update_column(table_name='stops',column_name='start_date',sdtype='datetime',datetime_format='%Y%m%d')\n",
    "sdv_metadata.update_column(table_name='stops',column_name='end_date',sdtype='datetime',datetime_format='%Y%m%d')\n",
    "sdv_metadata.set_primary_key(table_name='stops',column_name='stop_id')"
   ]
  },
  {
   "cell_type": "code",
   "execution_count": 11,
   "id": "a6d10ff9-5ef0-4ebc-a220-9eff788438e1",
   "metadata": {},
   "outputs": [],
   "source": [
    "sdv_metadata.detect_table_from_dataframe(table_name='stop_times',data=real_data_collection['stop_times'])\n",
    "sdv_metadata.update_column(table_name='stop_times',column_name='trip_id',sdtype='id',regex_format = '[a-z\\d]{8}')\n",
    "sdv_metadata.update_column(table_name='stop_times',column_name='arrival_time',sdtype='datetime',datetime_format='%H:%M:%S')\n",
    "sdv_metadata.update_column(table_name='stop_times',column_name='departure_time',sdtype='datetime',datetime_format='%H:%M:%S')\n",
    "sdv_metadata.update_column(table_name='stop_times',column_name='stop_id',sdtype='id',regex_format = '[a-z\\d]{8}')\n",
    "sdv_metadata.update_column(table_name='stop_times',column_name='stop_sequence',sdtype='numerical',computer_representation='Int32')\n",
    "sdv_metadata.update_column(table_name='stop_times',column_name='stop_headsign',sdtype='categorical')\n",
    "sdv_metadata.update_column(table_name='stop_times',column_name='pickup_type',sdtype='categorical')\n",
    "sdv_metadata.update_column(table_name='stop_times',column_name='drop_off_type',sdtype='categorical')\n",
    "sdv_metadata.update_column(table_name='stop_times',column_name='shape_dist_traveled',sdtype='numerical',computer_representation='Float')\n",
    "sdv_metadata.update_column(table_name='stop_times',column_name='timepoint',sdtype='numerical',computer_representation='Int32')"
   ]
  },
  {
   "cell_type": "code",
   "execution_count": 12,
   "id": "b1a4e556-c694-4613-a750-6ade5c18913d",
   "metadata": {
    "tags": []
   },
   "outputs": [],
   "source": [
    "sdv_metadata.detect_table_from_dataframe(table_name='trips',data=real_data_collection['trips'])\n",
    "sdv_metadata.update_column(table_name='trips',column_name='route_id',sdtype='id',regex_format = '[a-z\\d]{8}')\n",
    "sdv_metadata.update_column(table_name='trips',column_name='service_id',sdtype='id',regex_format = '[a-z\\d]{8}')\n",
    "sdv_metadata.update_column(table_name='trips',column_name='trip_id',sdtype='id',regex_format = '[a-z\\d]{8}')\n",
    "sdv_metadata.update_column(table_name='trips',column_name='trip_headsign',sdtype='categorical')\n",
    "sdv_metadata.update_column(table_name='trips',column_name='direction_id',sdtype='id',regex_format = '[a-z\\d]{8}')\n",
    "sdv_metadata.update_column(table_name='trips',column_name='shape_id',sdtype='id',regex_format = '[a-z\\d]{8}')\n",
    "sdv_metadata.update_column(table_name='trips',column_name='wheelchair_accessible',sdtype='categorical')\n",
    "sdv_metadata.update_column(table_name='trips',column_name='bikes_allowed',sdtype='categorical')\n",
    "sdv_metadata.set_primary_key(table_name='trips',column_name='trip_id')"
   ]
  },
  {
   "cell_type": "code",
   "execution_count": 13,
   "id": "dae0851e-e2e9-4c9e-826d-6844de880519",
   "metadata": {},
   "outputs": [],
   "source": [
    "sdv_metadata.add_relationship(\n",
    "    parent_table_name='agency',\n",
    "    child_table_name='routes',\n",
    "    parent_primary_key='agency_id',\n",
    "    child_foreign_key='agency_id'\n",
    ")\n",
    "\n",
    "sdv_metadata.add_relationship(\n",
    "    parent_table_name='calendar',\n",
    "    child_table_name='calendar_dates',\n",
    "    parent_primary_key='service_id',\n",
    "    child_foreign_key='service_id'\n",
    ")\n",
    "\n",
    "sdv_metadata.add_relationship(\n",
    "    parent_table_name='calendar',\n",
    "    child_table_name='trips',\n",
    "    parent_primary_key='service_id',\n",
    "    child_foreign_key='service_id'\n",
    ")\n",
    "\n",
    "sdv_metadata.add_relationship(\n",
    "    parent_table_name='routes',\n",
    "    child_table_name='trips',\n",
    "    parent_primary_key='route_id',\n",
    "    child_foreign_key='route_id'\n",
    ")\n",
    "\n",
    "sdv_metadata.add_relationship(\n",
    "    parent_table_name='stops',\n",
    "    child_table_name='stop_times',\n",
    "    parent_primary_key='stop_id',\n",
    "    child_foreign_key='stop_id'\n",
    ")\n",
    "\n",
    "sdv_metadata.add_relationship(\n",
    "    parent_table_name='trips',\n",
    "    child_table_name='stop_times',\n",
    "    parent_primary_key='trip_id',\n",
    "    child_foreign_key='trip_id'\n",
    ")"
   ]
  },
  {
   "cell_type": "markdown",
   "id": "8661e637-28c0-47e9-b0f9-8f6c521492aa",
   "metadata": {
    "tags": []
   },
   "source": [
    "## HMA"
   ]
  },
  {
   "cell_type": "code",
   "execution_count": 14,
   "id": "e1bc3215-dbfa-4628-9612-2cd3fb89f257",
   "metadata": {},
   "outputs": [],
   "source": [
    "synthesizer = HMASynthesizer(sdv_metadata)"
   ]
  },
  {
   "cell_type": "code",
   "execution_count": null,
   "id": "76049045-3ac6-404b-a459-8b5b0f5480a9",
   "metadata": {
    "scrolled": true,
    "tags": []
   },
   "outputs": [],
   "source": [
    "%%time\n",
    "%%capture\n",
    "\n",
    "synthesizer.fit(real_data_collection)\n",
    "synthesizer.save(\n",
    "    filepath='models/gtfs.pkl'\n",
    ")"
   ]
  },
  {
   "cell_type": "code",
   "execution_count": null,
   "id": "dc4a3e5b-4d6c-4904-92d9-6072eebcdfa5",
   "metadata": {
    "scrolled": true,
    "tags": []
   },
   "outputs": [],
   "source": [
    "%%time\n",
    "%%capture\n",
    "\n",
    "synthesizer = HMASynthesizer.load(\n",
    "    filepath='models/gtfs.pkl'\n",
    ")\n",
    "\n",
    "hma_synthetic_data_collection = synthesizer.sample(\n",
    "    scale=1\n",
    ")"
   ]
  },
  {
   "cell_type": "code",
   "execution_count": null,
   "id": "edc28e1a-2555-48c5-a3a5-7138ff91a214",
   "metadata": {},
   "outputs": [],
   "source": [
    "hma_quality_report = evaluate_quality(\n",
    "    real_data=real_data_collection,\n",
    "    synthetic_data=hma_synthetic_data_collection,\n",
    "    metadata=sdv_metadata)"
   ]
  },
  {
   "cell_type": "code",
   "execution_count": null,
   "id": "5dfd3eff-90eb-4252-bedd-c3ce6e0aac74",
   "metadata": {},
   "outputs": [],
   "source": [
    "prototype_quality_report = evaluate_quality(\n",
    "    real_data=real_data_collection,\n",
    "    synthetic_data=synthetic_data_collection,\n",
    "    metadata=sdv_metadata)"
   ]
  }
 ],
 "metadata": {
  "kernelspec": {
   "display_name": "Python 3 (ipykernel)",
   "language": "python",
   "name": "python3"
  },
  "language_info": {
   "codemirror_mode": {
    "name": "ipython",
    "version": 3
   },
   "file_extension": ".py",
   "mimetype": "text/x-python",
   "name": "python",
   "nbconvert_exporter": "python",
   "pygments_lexer": "ipython3",
   "version": "3.9.16"
  }
 },
 "nbformat": 4,
 "nbformat_minor": 5
}
