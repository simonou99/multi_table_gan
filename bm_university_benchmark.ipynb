{
 "cells": [
  {
   "cell_type": "code",
   "execution_count": 1,
   "id": "9f829383-53f7-4bea-a87f-6f280e11579f",
   "metadata": {},
   "outputs": [],
   "source": [
    "import os\n",
    "import time\n",
    "import math\n",
    "import random\n",
    "import pickle\n",
    "import numpy as np\n",
    "import pandas as pd\n",
    "import matplotlib.pyplot as plt\n",
    "from sklearn import metrics\n",
    "from scipy.stats import ks_2samp\n",
    "from sdv.metadata import MultiTableMetadata\n",
    "from sdv.evaluation.multi_table import evaluate_quality\n",
    "from sdv.multi_table import HMASynthesizer"
   ]
  },
  {
   "cell_type": "code",
   "execution_count": 2,
   "id": "de424b7c-a2f0-4da1-8db7-25da142e4aab",
   "metadata": {},
   "outputs": [],
   "source": [
    "with open('pkl/university/university.pkl', 'rb') as f:\n",
    "    real_data_collection = pickle.load(f)"
   ]
  },
  {
   "cell_type": "code",
   "execution_count": 3,
   "id": "18c6b452-950e-46e7-9102-4be5810fa199",
   "metadata": {},
   "outputs": [],
   "source": [
    "with open('pkl/university/university_synth_full_epoch.pkl', 'rb') as f:\n",
    "    synthetic_data_collection = pickle.load(f)"
   ]
  },
  {
   "cell_type": "code",
   "execution_count": 4,
   "id": "b241a546-b788-4593-845c-a6920a7ec74a",
   "metadata": {},
   "outputs": [],
   "source": [
    "with open('pkl/university/university_sdvmetadata.pkl', 'rb') as f:\n",
    "    sdv_metadata = pickle.load(f)"
   ]
  },
  {
   "cell_type": "code",
   "execution_count": 5,
   "id": "5dcb9d5b-a4ad-444d-a6da-cb5a989dee6b",
   "metadata": {
    "tags": []
   },
   "outputs": [],
   "source": [
    "generation_dict = {k:{'nrows':len(v)} for k,v in real_data_collection.items()}"
   ]
  },
  {
   "cell_type": "code",
   "execution_count": 6,
   "id": "9ce2b015-c24a-4864-8918-077688e10f6b",
   "metadata": {},
   "outputs": [
    {
     "data": {
      "text/plain": [
       "{'RA': {'nrows': 25},\n",
       " 'course': {'nrows': 10},\n",
       " 'prof': {'nrows': 6},\n",
       " 'registration': {'nrows': 92},\n",
       " 'student': {'nrows': 38}}"
      ]
     },
     "execution_count": 6,
     "metadata": {},
     "output_type": "execute_result"
    }
   ],
   "source": [
    "generation_dict"
   ]
  },
  {
   "cell_type": "markdown",
   "id": "818ffdc7-2555-4701-bc69-116619bd43d0",
   "metadata": {},
   "source": [
    "# HMA"
   ]
  },
  {
   "cell_type": "code",
   "execution_count": 7,
   "id": "8a7ea03e-7b1e-4e25-8e22-a16b3671fce2",
   "metadata": {},
   "outputs": [],
   "source": [
    "synthesizer = HMASynthesizer(sdv_metadata)"
   ]
  },
  {
   "cell_type": "code",
   "execution_count": 8,
   "id": "ca58f5d2-90ea-42b6-b4ca-aa1faa5d7eb5",
   "metadata": {
    "scrolled": true,
    "tags": []
   },
   "outputs": [
    {
     "name": "stdout",
     "output_type": "stream",
     "text": [
      "CPU times: total: 8.7 s\n",
      "Wall time: 8.7 s\n"
     ]
    }
   ],
   "source": [
    "%%time\n",
    "%%capture\n",
    "synthesizer.fit(real_data_collection)\n",
    "synthesizer.save(filepath='bm_models/university_models/university_hma.pkl')"
   ]
  },
  {
   "cell_type": "code",
   "execution_count": 9,
   "id": "c2a5392f-325c-4879-86be-42f393b43e48",
   "metadata": {
    "scrolled": true,
    "tags": []
   },
   "outputs": [
    {
     "name": "stdout",
     "output_type": "stream",
     "text": [
      "CPU times: total: 3.53 s\n",
      "Wall time: 477 ms\n"
     ]
    }
   ],
   "source": [
    "%%time\n",
    "%%capture\n",
    "synthesizer = HMASynthesizer.load(filepath='bm_models/university_models/university_hma.pkl')\n",
    "hma_synthetic_data = synthesizer.sample(\n",
    "    scale=1\n",
    ")"
   ]
  },
  {
   "cell_type": "code",
   "execution_count": 10,
   "id": "eca4665b-dd6a-413d-b0d9-7c9a84ca0cb0",
   "metadata": {
    "scrolled": true,
    "tags": []
   },
   "outputs": [
    {
     "name": "stderr",
     "output_type": "stream",
     "text": [
      "Creating report:   0%|                                                                           | 0/5 [00:00<?, ?it/s]C:\\programs\\conda\\envs\\tfgpu\\lib\\site-packages\\sdmetrics\\multi_table\\multi_single_table.py:51: ConstantInputWarning: The synthetic data in table 'prof', column 'popularity' contains a constant value. Correlation is undefined for constant data.\n",
      "  warnings.warn(warning.category(message))\n",
      "Creating report: 100%|███████████████████████████████████████████████████████████████████| 5/5 [00:00<00:00, 30.11it/s]\n"
     ]
    },
    {
     "name": "stdout",
     "output_type": "stream",
     "text": [
      "\n",
      "Overall Quality Score: 70.92%\n",
      "\n",
      "Properties:\n",
      "Column Shapes: 79.52%\n",
      "Column Pair Trends: 64.72%\n",
      "Parent Child Relationships: 68.51%\n"
     ]
    },
    {
     "data": {
      "text/plain": [
       "<sdmetrics.reports.multi_table.quality_report.QualityReport at 0x1c346bd3f40>"
      ]
     },
     "execution_count": 10,
     "metadata": {},
     "output_type": "execute_result"
    }
   ],
   "source": [
    "evaluate_quality(real_data=real_data_collection, synthetic_data=hma_synthetic_data, metadata=sdv_metadata)"
   ]
  },
  {
   "cell_type": "code",
   "execution_count": 11,
   "id": "92a7dd50-4253-4f9b-bb31-98f9fb0dc482",
   "metadata": {
    "scrolled": true,
    "tags": []
   },
   "outputs": [
    {
     "name": "stderr",
     "output_type": "stream",
     "text": [
      "Creating report: 100%|███████████████████████████████████████████████████████████████████| 5/5 [00:00<00:00, 30.11it/s]\n"
     ]
    },
    {
     "name": "stdout",
     "output_type": "stream",
     "text": [
      "\n",
      "Overall Quality Score: 68.05%\n",
      "\n",
      "Properties:\n",
      "Column Shapes: 76.68%\n",
      "Column Pair Trends: 48.04%\n",
      "Parent Child Relationships: 79.43%\n"
     ]
    },
    {
     "data": {
      "text/plain": [
       "<sdmetrics.reports.multi_table.quality_report.QualityReport at 0x1c346cbb070>"
      ]
     },
     "execution_count": 11,
     "metadata": {},
     "output_type": "execute_result"
    }
   ],
   "source": [
    "evaluate_quality(real_data=real_data_collection, synthetic_data=synthetic_data_collection, metadata=sdv_metadata)"
   ]
  }
 ],
 "metadata": {
  "kernelspec": {
   "display_name": "Python 3 (ipykernel)",
   "language": "python",
   "name": "python3"
  },
  "language_info": {
   "codemirror_mode": {
    "name": "ipython",
    "version": 3
   },
   "file_extension": ".py",
   "mimetype": "text/x-python",
   "name": "python",
   "nbconvert_exporter": "python",
   "pygments_lexer": "ipython3",
   "version": "3.9.16"
  }
 },
 "nbformat": 4,
 "nbformat_minor": 5
}
