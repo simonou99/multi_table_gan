{
 "cells": [
  {
   "cell_type": "markdown",
   "id": "5c0b633b-f706-4cc4-8c33-985396dc18b2",
   "metadata": {},
   "source": [
    "**CAUTION: TAKES A LONG TIME.**  \n",
    "Try using the stored trained model instead."
   ]
  },
  {
   "cell_type": "code",
   "execution_count": 1,
   "id": "692afc16-38d6-4f60-8571-9e5464636a21",
   "metadata": {},
   "outputs": [],
   "source": [
    "import os\n",
    "import time\n",
    "import math\n",
    "import random\n",
    "import pickle\n",
    "import numpy as np\n",
    "import pandas as pd\n",
    "import matplotlib.pyplot as plt\n",
    "from sklearn import metrics\n",
    "from scipy.stats import ks_2samp\n",
    "from sdv.metadata import MultiTableMetadata\n",
    "from sdv.evaluation.single_table import evaluate_quality as st_evaluate_quality\n",
    "from sdv.evaluation.multi_table import evaluate_quality as mt_evaluate_quality\n",
    "from sdv.single_table import GaussianCopulaSynthesizer\n",
    "from sdv.single_table import CTGANSynthesizer\n",
    "from sdv.single_table import TVAESynthesizer\n",
    "from sdv.multi_table import HMASynthesizer"
   ]
  },
  {
   "cell_type": "code",
   "execution_count": 2,
   "id": "9cbef603-ad76-4d2a-9e45-d495e5d7ce5d",
   "metadata": {},
   "outputs": [],
   "source": [
    "def cos_test(df1, df2):\n",
    "    cos_sim = metrics.pairwise.cosine_similarity(df1.values.T, df2.values.T)\n",
    "    mean_cos_sim = np.mean(cos_sim)\n",
    "    return mean_cos_sim"
   ]
  },
  {
   "cell_type": "code",
   "execution_count": 3,
   "id": "aad57ce1-b094-4ad9-a8ed-ef4ecba87d27",
   "metadata": {},
   "outputs": [],
   "source": [
    "def batch_cos_test(collection1, collection2):\n",
    "    test_dict = {}\n",
    "    for df_name in collection1.keys():\n",
    "        mean_cos_sim = cos_test(collection2[df_name], collection1[df_name])\n",
    "        test_dict[df_name] = 1-mean_cos_sim\n",
    "    return test_dict"
   ]
  },
  {
   "cell_type": "code",
   "execution_count": 4,
   "id": "8b068080-16e1-443e-bf99-e7477cefa9d6",
   "metadata": {},
   "outputs": [],
   "source": [
    "def ks_test(df1, df2):\n",
    "    ks_stats = []\n",
    "    p_values = []\n",
    "    for column in df1.columns:\n",
    "        ks_stat, ks_p_value = ks_2samp(df1[column], df2[column])\n",
    "        ks_stats.append(ks_stat)\n",
    "        p_values.append(ks_p_value)\n",
    "    mean_ks_stat = np.mean(ks_stats)\n",
    "    mean_p_value = np.mean(p_values)\n",
    "    return mean_ks_stat, mean_p_value"
   ]
  },
  {
   "cell_type": "code",
   "execution_count": 5,
   "id": "03528947-7e15-44c8-bdc4-9a29ac18e1f3",
   "metadata": {},
   "outputs": [],
   "source": [
    "def batch_ks_test(collection1, collection2):\n",
    "    stats_dict = {}\n",
    "    for df_name in collection1:\n",
    "        ks_results, p_value = ks_test(collection1[df_name], collection2[df_name])\n",
    "        stats_dict[df_name] = 1-ks_results\n",
    "    return stats_dict"
   ]
  },
  {
   "cell_type": "markdown",
   "id": "7dfad801-09b8-41ab-b7cd-6788e4e89cb1",
   "metadata": {},
   "source": [
    "# Load Processed Data From Generation Stage"
   ]
  },
  {
   "cell_type": "code",
   "execution_count": 6,
   "id": "f40c443d-8949-4cbc-8406-5c9b68bf5147",
   "metadata": {},
   "outputs": [],
   "source": [
    "with open('pkl/real_data_collection.pkl', 'rb') as f:\n",
    "    real_data_collection = pickle.load(f)"
   ]
  },
  {
   "cell_type": "code",
   "execution_count": 7,
   "id": "a4315870-c4dc-42eb-98d8-c02c237e24a6",
   "metadata": {},
   "outputs": [],
   "source": [
    "with open('pkl/synthetic_data_collection_e100.pkl', 'rb') as f:\n",
    "    synthetic_data_collection = pickle.load(f)"
   ]
  },
  {
   "cell_type": "code",
   "execution_count": 8,
   "id": "a8f4c4b2-f04e-404b-a974-611d010f5203",
   "metadata": {},
   "outputs": [],
   "source": [
    "with open('pkl/sdv_metadata.pkl', 'rb') as f:\n",
    "    sdv_metadata = pickle.load(f)"
   ]
  },
  {
   "cell_type": "markdown",
   "id": "8ae389e7-8d2f-477b-bb87-2e9dd40e37e8",
   "metadata": {
    "tags": []
   },
   "source": [
    "# Benchmark"
   ]
  },
  {
   "cell_type": "code",
   "execution_count": 9,
   "id": "887775af-aeec-4ce0-906e-47690b5d920b",
   "metadata": {
    "tags": []
   },
   "outputs": [],
   "source": [
    "generation_dict = {k:{'nrows':len(v)} for k,v in real_data_collection.items()}"
   ]
  },
  {
   "cell_type": "code",
   "execution_count": 10,
   "id": "329decfb-d292-4c43-988d-2128b4fbef12",
   "metadata": {},
   "outputs": [
    {
     "data": {
      "text/plain": [
       "{'agency': {'nrows': 15},\n",
       " 'calendar': {'nrows': 121},\n",
       " 'calendar_dates': {'nrows': 674},\n",
       " 'routes': {'nrows': 215},\n",
       " 'stops': {'nrows': 6714},\n",
       " 'stop_times': {'nrows': 966790},\n",
       " 'trips': {'nrows': 32403}}"
      ]
     },
     "execution_count": 10,
     "metadata": {},
     "output_type": "execute_result"
    }
   ],
   "source": [
    "generation_dict"
   ]
  },
  {
   "cell_type": "markdown",
   "id": "7031d044-18f0-4f00-a288-53c4f6cbf751",
   "metadata": {
    "tags": []
   },
   "source": [
    "## GaussianCopula"
   ]
  },
  {
   "cell_type": "code",
   "execution_count": 11,
   "id": "3dd05d31-2296-40dc-91c0-70808e18da8f",
   "metadata": {},
   "outputs": [],
   "source": [
    "# def collection_gaussiancopula_training(data_collection, multi_metadata):\n",
    "#     generator_dict = {}\n",
    "#     for df_name, df in data_collection.items():\n",
    "#         synthesizer = GaussianCopulaSynthesizer(\n",
    "#             multi_metadata.tables[df_name],\n",
    "#             enforce_min_max_values=True,\n",
    "#             enforce_rounding=True,\n",
    "#             default_distribution='norm',\n",
    "#         )\n",
    "#         synthesizer.fit(df)\n",
    "#         synthesizer.save(\n",
    "#             filepath='models_single/'+df_name+'_gc.pkl'\n",
    "#         )"
   ]
  },
  {
   "cell_type": "code",
   "execution_count": 12,
   "id": "efe7c144-3dfa-4045-a1d7-b9806ed680fc",
   "metadata": {
    "scrolled": true,
    "tags": []
   },
   "outputs": [],
   "source": [
    "# %%time\n",
    "\n",
    "# collection_gaussiancopula_training(real_data_collection, sdv_metadata)"
   ]
  },
  {
   "cell_type": "code",
   "execution_count": 13,
   "id": "9aaf204d-0e8c-4b29-a1fa-17d6b14fb265",
   "metadata": {},
   "outputs": [
    {
     "name": "stdout",
     "output_type": "stream",
     "text": [
      "CPU times: total: 14.4 s\n",
      "Wall time: 9.63 s\n"
     ]
    }
   ],
   "source": [
    "%%time\n",
    "\n",
    "gc_synthetic_data_collection = {}\n",
    "for df_name, content in generation_dict.items():\n",
    "    synthesizer = GaussianCopulaSynthesizer.load(\n",
    "        filepath='models_single/'+df_name+'_gc.pkl'\n",
    "    )\n",
    "    gc_synthetic_data_collection[df_name] = synthesizer.sample(\n",
    "        num_rows=content['nrows']\n",
    "    )"
   ]
  },
  {
   "cell_type": "code",
   "execution_count": 14,
   "id": "04f896e4-d904-456c-8036-c82b258e00f4",
   "metadata": {},
   "outputs": [
    {
     "data": {
      "text/plain": [
       "{'agency': 0.96,\n",
       " 'calendar': 0.47202756917211053,\n",
       " 'calendar_dates': 0.09751486150956068,\n",
       " 'routes': 0.7069871996285897,\n",
       " 'stops': 0.826732863027359,\n",
       " 'stop_times': 0.5464731949556783,\n",
       " 'trips': 0.5474426557179761}"
      ]
     },
     "execution_count": 14,
     "metadata": {},
     "output_type": "execute_result"
    }
   ],
   "source": [
    "batch_cos_test(gc_synthetic_data_collection, real_data_collection)"
   ]
  },
  {
   "cell_type": "code",
   "execution_count": 15,
   "id": "4f6f3cc1-ffe0-4064-89fc-db69807388cc",
   "metadata": {},
   "outputs": [
    {
     "name": "stderr",
     "output_type": "stream",
     "text": [
      "C:\\Users\\ouzho\\AppData\\Local\\Temp\\ipykernel_29584\\694067374.py:5: RuntimeWarning: ks_2samp: Exact calculation unsuccessful. Switching to method=asymp.\n",
      "  ks_stat, ks_p_value = ks_2samp(df1[column], df2[column])\n"
     ]
    },
    {
     "data": {
      "text/plain": [
       "{'agency': 1.0,\n",
       " 'calendar': 0.9049586776859504,\n",
       " 'calendar_dates': 0.6666666666666667,\n",
       " 'routes': 0.6093023255813954,\n",
       " 'stops': 0.7977029755403303,\n",
       " 'stop_times': 0.7459531025351938,\n",
       " 'trips': 0.4921226429651575}"
      ]
     },
     "execution_count": 15,
     "metadata": {},
     "output_type": "execute_result"
    }
   ],
   "source": [
    "batch_ks_test(gc_synthetic_data_collection, real_data_collection)"
   ]
  },
  {
   "cell_type": "code",
   "execution_count": 16,
   "id": "9ff01594-ab9a-472b-a72b-d6671bd3631e",
   "metadata": {
    "scrolled": true,
    "tags": []
   },
   "outputs": [
    {
     "name": "stdout",
     "output_type": "stream",
     "text": [
      "[agency]:\n"
     ]
    },
    {
     "name": "stderr",
     "output_type": "stream",
     "text": [
      "Creating report: 100%|███████████████████████████████████████████████████████████████████| 4/4 [00:00<00:00, 62.49it/s]\n"
     ]
    },
    {
     "name": "stdout",
     "output_type": "stream",
     "text": [
      "\n",
      "Overall Quality Score: 100.0%\n",
      "\n",
      "Properties:\n",
      "Column Shapes: 100.0%\n",
      "Column Pair Trends: 100.0%\n",
      "\n",
      "--------------------\n",
      "\n",
      "[calendar]:\n"
     ]
    },
    {
     "name": "stderr",
     "output_type": "stream",
     "text": [
      "Creating report: 100%|███████████████████████████████████████████████████████████████████| 4/4 [00:00<00:00, 19.38it/s]\n"
     ]
    },
    {
     "name": "stdout",
     "output_type": "stream",
     "text": [
      "\n",
      "Overall Quality Score: 82.03%\n",
      "\n",
      "Properties:\n",
      "Column Shapes: 89.44%\n",
      "Column Pair Trends: 74.62%\n",
      "\n",
      "--------------------\n",
      "\n",
      "[calendar_dates]:\n"
     ]
    },
    {
     "name": "stderr",
     "output_type": "stream",
     "text": [
      "Creating report: 100%|█████████████████████████████████████████████████████████████████| 4/4 [00:00<00:00, 1999.43it/s]\n"
     ]
    },
    {
     "name": "stdout",
     "output_type": "stream",
     "text": [
      "\n",
      "Overall Quality Score: 78.75%\n",
      "\n",
      "Properties:\n",
      "Column Shapes: 91.02%\n",
      "Column Pair Trends: 66.47%\n",
      "\n",
      "--------------------\n",
      "\n",
      "[routes]:\n"
     ]
    },
    {
     "name": "stderr",
     "output_type": "stream",
     "text": [
      "Creating report: 100%|██████████████████████████████████████████████████████████████████| 4/4 [00:00<00:00, 105.24it/s]\n"
     ]
    },
    {
     "name": "stdout",
     "output_type": "stream",
     "text": [
      "\n",
      "Overall Quality Score: 65.74%\n",
      "\n",
      "Properties:\n",
      "Column Shapes: 74.57%\n",
      "Column Pair Trends: 56.9%\n",
      "\n",
      "--------------------\n",
      "\n",
      "[stops]:\n"
     ]
    },
    {
     "name": "stderr",
     "output_type": "stream",
     "text": [
      "Creating report: 100%|███████████████████████████████████████████████████████████████████| 4/4 [00:00<00:00, 15.47it/s]\n"
     ]
    },
    {
     "name": "stdout",
     "output_type": "stream",
     "text": [
      "\n",
      "Overall Quality Score: 72.68%\n",
      "\n",
      "Properties:\n",
      "Column Shapes: 76.93%\n",
      "Column Pair Trends: 68.42%\n",
      "\n",
      "--------------------\n",
      "\n",
      "[stop_times]:\n"
     ]
    },
    {
     "name": "stderr",
     "output_type": "stream",
     "text": [
      "Creating report: 100%|███████████████████████████████████████████████████████████████████| 4/4 [00:13<00:00,  3.45s/it]\n"
     ]
    },
    {
     "name": "stdout",
     "output_type": "stream",
     "text": [
      "\n",
      "Overall Quality Score: 82.07%\n",
      "\n",
      "Properties:\n",
      "Column Shapes: 87.16%\n",
      "Column Pair Trends: 76.98%\n",
      "\n",
      "--------------------\n",
      "\n",
      "[trips]:\n"
     ]
    },
    {
     "name": "stderr",
     "output_type": "stream",
     "text": [
      "Creating report: 100%|███████████████████████████████████████████████████████████████████| 4/4 [00:00<00:00, 19.13it/s]"
     ]
    },
    {
     "name": "stdout",
     "output_type": "stream",
     "text": [
      "\n",
      "Overall Quality Score: 76.13%\n",
      "\n",
      "Properties:\n",
      "Column Shapes: 84.09%\n",
      "Column Pair Trends: 68.17%\n",
      "\n",
      "--------------------\n",
      "\n"
     ]
    },
    {
     "name": "stderr",
     "output_type": "stream",
     "text": [
      "\n"
     ]
    }
   ],
   "source": [
    "individual_report_collection = {}\n",
    "for df_name in real_data_collection.keys():\n",
    "    print(f'[{df_name}]:')\n",
    "    individual_report_collection[df_name] = st_evaluate_quality(\n",
    "        real_data=real_data_collection[df_name],\n",
    "        synthetic_data=gc_synthetic_data_collection[df_name],\n",
    "        metadata=sdv_metadata.tables[df_name])\n",
    "    print()\n",
    "    print('--------------------')\n",
    "    print()"
   ]
  },
  {
   "cell_type": "markdown",
   "id": "4b04dc72-1ec9-4db2-9084-d60ca7e4ebb4",
   "metadata": {
    "tags": []
   },
   "source": [
    "## CTGAN"
   ]
  },
  {
   "cell_type": "code",
   "execution_count": 17,
   "id": "0022f58a-277a-43d4-8b3d-e82603ff29f3",
   "metadata": {},
   "outputs": [],
   "source": [
    "# training_parameter_dict = {'agency': {'epochs': 10},\n",
    "#                            'calendar': {'epochs': 10},\n",
    "#                            'calendar_dates': {'epochs': 10},\n",
    "#                            'routes': {'epochs': 10},\n",
    "#                            'stops': {'epochs': 10},\n",
    "#                            'stop_times': {'epochs': 10},\n",
    "#                            'trips': {'epochs': 10}}"
   ]
  },
  {
   "cell_type": "code",
   "execution_count": 18,
   "id": "e69f903e-e914-4964-869c-d838739e79c7",
   "metadata": {
    "scrolled": true,
    "tags": []
   },
   "outputs": [],
   "source": [
    "# def collection_gtgan_training(data_collection, training_parameter_dict, multi_metadata):\n",
    "#     generator_dict = {}\n",
    "#     for df_name, df in data_collection.items():\n",
    "#         print(f'[{df_name}]:')\n",
    "#         synthesizer = CTGANSynthesizer(\n",
    "#             multi_metadata.tables[df_name],\n",
    "#             enforce_rounding=True,\n",
    "#             epochs=training_parameter_dict[df_name]['epochs'],\n",
    "#             verbose=True,\n",
    "#             batch_size=400\n",
    "#         )\n",
    "#         synthesizer.fit(df)\n",
    "#         synthesizer.save(\n",
    "#             filepath='models_single/'+df_name+'_ctgan.pkl'\n",
    "#         )\n",
    "#         print()"
   ]
  },
  {
   "cell_type": "code",
   "execution_count": 19,
   "id": "fbe79c7a-132d-4d36-97c9-57b13530312c",
   "metadata": {
    "scrolled": true,
    "tags": []
   },
   "outputs": [],
   "source": [
    "# %%time\n",
    "\n",
    "# collection_gtgan_training(real_data_collection, training_parameter_dict, sdv_metadata)"
   ]
  },
  {
   "cell_type": "code",
   "execution_count": 20,
   "id": "4aa290c5-28ee-4250-81eb-da0c5b646f87",
   "metadata": {},
   "outputs": [
    {
     "name": "stdout",
     "output_type": "stream",
     "text": [
      "CPU times: total: 3min 6s\n",
      "Wall time: 50.7 s\n"
     ]
    }
   ],
   "source": [
    "%%time\n",
    "\n",
    "ctgan_synthetic_data_collection = {}\n",
    "for df_name, content in generation_dict.items():\n",
    "    synthesizer = GaussianCopulaSynthesizer.load(\n",
    "        filepath='models_single/'+df_name+'_ctgan.pkl'\n",
    "    )\n",
    "    ctgan_synthetic_data_collection[df_name] = synthesizer.sample(\n",
    "        num_rows=content['nrows']\n",
    "    )"
   ]
  },
  {
   "cell_type": "code",
   "execution_count": 21,
   "id": "5a687909-f65e-47b5-9e8a-47bb77f1f052",
   "metadata": {},
   "outputs": [
    {
     "data": {
      "text/plain": [
       "{'agency': 0.96,\n",
       " 'calendar': 0.45433335433075717,\n",
       " 'calendar_dates': 0.09894015760429198,\n",
       " 'routes': 0.6368036019915946,\n",
       " 'stops': 0.8347906714470074,\n",
       " 'stop_times': 0.5269788145343832,\n",
       " 'trips': 0.54789669766831}"
      ]
     },
     "execution_count": 21,
     "metadata": {},
     "output_type": "execute_result"
    }
   ],
   "source": [
    "batch_cos_test(ctgan_synthetic_data_collection, real_data_collection)"
   ]
  },
  {
   "cell_type": "code",
   "execution_count": 22,
   "id": "7611a05d-f8c1-408e-a49e-9bcbfffaf191",
   "metadata": {},
   "outputs": [
    {
     "name": "stderr",
     "output_type": "stream",
     "text": [
      "C:\\Users\\ouzho\\AppData\\Local\\Temp\\ipykernel_29584\\694067374.py:5: RuntimeWarning: ks_2samp: Exact calculation unsuccessful. Switching to method=asymp.\n",
      "  ks_stat, ks_p_value = ks_2samp(df1[column], df2[column])\n"
     ]
    },
    {
     "data": {
      "text/plain": [
       "{'agency': 1.0,\n",
       " 'calendar': 0.8801652892561983,\n",
       " 'calendar_dates': 0.6582591493570722,\n",
       " 'routes': 0.5031007751937984,\n",
       " 'stops': 0.8891040280673882,\n",
       " 'stop_times': 0.7199040122467134,\n",
       " 'trips': 0.5018362497299633}"
      ]
     },
     "execution_count": 22,
     "metadata": {},
     "output_type": "execute_result"
    }
   ],
   "source": [
    "batch_ks_test(ctgan_synthetic_data_collection, real_data_collection)"
   ]
  },
  {
   "cell_type": "code",
   "execution_count": 23,
   "id": "ff69ebb8-d0bd-4e8b-a206-2400a20c7851",
   "metadata": {
    "scrolled": true,
    "tags": []
   },
   "outputs": [
    {
     "name": "stdout",
     "output_type": "stream",
     "text": [
      "[agency]:\n"
     ]
    },
    {
     "name": "stderr",
     "output_type": "stream",
     "text": [
      "Creating report: 100%|███████████████████████████████████████████████████████████████████| 4/4 [00:00<00:00, 67.78it/s]\n"
     ]
    },
    {
     "name": "stdout",
     "output_type": "stream",
     "text": [
      "\n",
      "Overall Quality Score: 100.0%\n",
      "\n",
      "Properties:\n",
      "Column Shapes: 100.0%\n",
      "Column Pair Trends: 100.0%\n",
      "--------------------\n",
      "\n",
      "[calendar]:\n"
     ]
    },
    {
     "name": "stderr",
     "output_type": "stream",
     "text": [
      "Creating report: 100%|███████████████████████████████████████████████████████████████████| 4/4 [00:00<00:00, 18.51it/s]\n"
     ]
    },
    {
     "name": "stdout",
     "output_type": "stream",
     "text": [
      "\n",
      "Overall Quality Score: 78.05%\n",
      "\n",
      "Properties:\n",
      "Column Shapes: 86.69%\n",
      "Column Pair Trends: 69.42%\n",
      "--------------------\n",
      "\n",
      "[calendar_dates]:\n"
     ]
    },
    {
     "name": "stderr",
     "output_type": "stream",
     "text": [
      "Creating report: 100%|█████████████████████████████████████████████████████████████████| 4/4 [00:00<00:00, 1999.91it/s]\n"
     ]
    },
    {
     "name": "stdout",
     "output_type": "stream",
     "text": [
      "\n",
      "Overall Quality Score: 82.94%\n",
      "\n",
      "Properties:\n",
      "Column Shapes: 89.76%\n",
      "Column Pair Trends: 76.11%\n",
      "--------------------\n",
      "\n",
      "[routes]:\n"
     ]
    },
    {
     "name": "stderr",
     "output_type": "stream",
     "text": [
      "Creating report: 100%|██████████████████████████████████████████████████████████████████| 4/4 [00:00<00:00, 114.25it/s]\n"
     ]
    },
    {
     "name": "stdout",
     "output_type": "stream",
     "text": [
      "\n",
      "Overall Quality Score: 36.98%\n",
      "\n",
      "Properties:\n",
      "Column Shapes: 50.23%\n",
      "Column Pair Trends: 23.72%\n",
      "--------------------\n",
      "\n",
      "[stops]:\n"
     ]
    },
    {
     "name": "stderr",
     "output_type": "stream",
     "text": [
      "Creating report: 100%|███████████████████████████████████████████████████████████████████| 4/4 [00:00<00:00, 20.00it/s]\n"
     ]
    },
    {
     "name": "stdout",
     "output_type": "stream",
     "text": [
      "\n",
      "Overall Quality Score: 83.15%\n",
      "\n",
      "Properties:\n",
      "Column Shapes: 87.52%\n",
      "Column Pair Trends: 78.77%\n",
      "--------------------\n",
      "\n",
      "[stop_times]:\n"
     ]
    },
    {
     "name": "stderr",
     "output_type": "stream",
     "text": [
      "Creating report: 100%|███████████████████████████████████████████████████████████████████| 4/4 [00:14<00:00,  3.53s/it]\n"
     ]
    },
    {
     "name": "stdout",
     "output_type": "stream",
     "text": [
      "\n",
      "Overall Quality Score: 81.32%\n",
      "\n",
      "Properties:\n",
      "Column Shapes: 86.01%\n",
      "Column Pair Trends: 76.62%\n",
      "--------------------\n",
      "\n",
      "[trips]:\n"
     ]
    },
    {
     "name": "stderr",
     "output_type": "stream",
     "text": [
      "Creating report: 100%|███████████████████████████████████████████████████████████████████| 4/4 [00:00<00:00, 19.04it/s]"
     ]
    },
    {
     "name": "stdout",
     "output_type": "stream",
     "text": [
      "\n",
      "Overall Quality Score: 88.35%\n",
      "\n",
      "Properties:\n",
      "Column Shapes: 92.23%\n",
      "Column Pair Trends: 84.46%\n",
      "--------------------\n",
      "\n"
     ]
    },
    {
     "name": "stderr",
     "output_type": "stream",
     "text": [
      "\n"
     ]
    }
   ],
   "source": [
    "individual_report_collection = {}\n",
    "for df_name in real_data_collection.keys():\n",
    "    print(f'[{df_name}]:')\n",
    "    individual_report_collection[df_name] = st_evaluate_quality(\n",
    "        real_data=real_data_collection[df_name],\n",
    "        synthetic_data=ctgan_synthetic_data_collection[df_name],\n",
    "        metadata=sdv_metadata.tables[df_name])\n",
    "    print('--------------------')\n",
    "    print()"
   ]
  },
  {
   "cell_type": "markdown",
   "id": "bd2bdf65-eb5c-4c4d-ba0d-6291e05b1ae7",
   "metadata": {},
   "source": [
    "## TVAE"
   ]
  },
  {
   "cell_type": "code",
   "execution_count": 24,
   "id": "9d755173-c455-4167-8be3-3d508658baef",
   "metadata": {},
   "outputs": [],
   "source": [
    "# training_parameter_dict = {'agency': {'epochs': 10},\n",
    "#                            'calendar': {'epochs': 10},\n",
    "#                            'calendar_dates': {'epochs': 10},\n",
    "#                            'routes': {'epochs': 10},\n",
    "#                            'stops': {'epochs': 10},\n",
    "#                            'stop_times': {'epochs': 10},\n",
    "#                            'trips': {'epochs': 10}}"
   ]
  },
  {
   "cell_type": "code",
   "execution_count": 25,
   "id": "24eef32b-219b-4f33-b22b-aa26710cdc90",
   "metadata": {},
   "outputs": [],
   "source": [
    "# def collection_tvae_training(data_collection, training_parameter_dict, multi_metadata):\n",
    "#     generator_dict = {}\n",
    "#     for df_name, df in data_collection.items():\n",
    "#         synthesizer = TVAESynthesizer(\n",
    "#             multi_metadata.tables[df_name],\n",
    "#             enforce_min_max_values=True,\n",
    "#             enforce_rounding=True,\n",
    "#             epochs=training_parameter_dict[df_name]['epochs'],\n",
    "#             batch_size=400\n",
    "#         )\n",
    "#         synthesizer.fit(df)\n",
    "#         synthesizer.save(\n",
    "#             filepath='models_single/'+df_name+'_tvae.pkl'\n",
    "#         )"
   ]
  },
  {
   "cell_type": "code",
   "execution_count": 26,
   "id": "e9b2f2c9-acb7-4443-b7e9-a4d896970b2b",
   "metadata": {
    "scrolled": true,
    "tags": []
   },
   "outputs": [],
   "source": [
    "# %%time\n",
    "\n",
    "# collection_tvae_training(real_data_collection, training_parameter_dict, sdv_metadata)"
   ]
  },
  {
   "cell_type": "code",
   "execution_count": 27,
   "id": "4128a220-11c5-4888-93c6-5c12e014e08b",
   "metadata": {},
   "outputs": [
    {
     "name": "stdout",
     "output_type": "stream",
     "text": [
      "CPU times: total: 1min 5s\n",
      "Wall time: 33 s\n"
     ]
    }
   ],
   "source": [
    "%%time\n",
    "\n",
    "tvae_synthetic_data_collection = {}\n",
    "for df_name, content in generation_dict.items():\n",
    "    synthesizer = TVAESynthesizer.load(\n",
    "        filepath='models_single/'+df_name+'_tvae.pkl'\n",
    "    )\n",
    "    tvae_synthetic_data_collection[df_name] = synthesizer.sample(\n",
    "        num_rows=content['nrows']\n",
    "    )"
   ]
  },
  {
   "cell_type": "code",
   "execution_count": 28,
   "id": "524fa1c4-acc5-49f7-ab44-8b47b4541882",
   "metadata": {},
   "outputs": [
    {
     "data": {
      "text/plain": [
       "{'agency': 0.96,\n",
       " 'calendar': 0.6958804743808202,\n",
       " 'calendar_dates': 0.08489484015640736,\n",
       " 'routes': 0.834312248944935,\n",
       " 'stops': 0.963467587426582,\n",
       " 'stop_times': 0.5970759661458913,\n",
       " 'trips': 0.5492417285637832}"
      ]
     },
     "execution_count": 28,
     "metadata": {},
     "output_type": "execute_result"
    }
   ],
   "source": [
    "batch_cos_test(tvae_synthetic_data_collection, real_data_collection)"
   ]
  },
  {
   "cell_type": "code",
   "execution_count": 29,
   "id": "f051c1b3-388e-4f30-a6f2-27de20aa29b5",
   "metadata": {},
   "outputs": [
    {
     "data": {
      "text/plain": [
       "{'agency': 1.0,\n",
       " 'calendar': 0.7380165289256199,\n",
       " 'calendar_dates': 0.4920870425321464,\n",
       " 'routes': 0.6751937984496124,\n",
       " 'stops': 0.9025585013073842,\n",
       " 'stop_times': 0.7580405258639415,\n",
       " 'trips': 0.4854257321852915}"
      ]
     },
     "execution_count": 29,
     "metadata": {},
     "output_type": "execute_result"
    }
   ],
   "source": [
    "batch_ks_test(tvae_synthetic_data_collection, real_data_collection)"
   ]
  },
  {
   "cell_type": "code",
   "execution_count": 30,
   "id": "171b1631-984f-4283-bba3-f328796a6dd1",
   "metadata": {
    "scrolled": true,
    "tags": []
   },
   "outputs": [
    {
     "name": "stdout",
     "output_type": "stream",
     "text": [
      "[agency]:\n"
     ]
    },
    {
     "name": "stderr",
     "output_type": "stream",
     "text": [
      "Creating report: 100%|███████████████████████████████████████████████████████████████████| 4/4 [00:00<00:00, 64.50it/s]\n"
     ]
    },
    {
     "name": "stdout",
     "output_type": "stream",
     "text": [
      "\n",
      "Overall Quality Score: 100.0%\n",
      "\n",
      "Properties:\n",
      "Column Shapes: 100.0%\n",
      "Column Pair Trends: 100.0%\n",
      "\n",
      "--------------------\n",
      "\n",
      "[calendar]:\n"
     ]
    },
    {
     "name": "stderr",
     "output_type": "stream",
     "text": [
      "Creating report: 100%|███████████████████████████████████████████████████████████████████| 4/4 [00:00<00:00, 19.13it/s]\n"
     ]
    },
    {
     "name": "stdout",
     "output_type": "stream",
     "text": [
      "\n",
      "Overall Quality Score: 63.59%\n",
      "\n",
      "Properties:\n",
      "Column Shapes: 70.89%\n",
      "Column Pair Trends: 56.29%\n",
      "\n",
      "--------------------\n",
      "\n",
      "[calendar_dates]:\n"
     ]
    },
    {
     "name": "stderr",
     "output_type": "stream",
     "text": [
      "Creating report: 100%|█████████████████████████████████████████████████████████████████| 4/4 [00:00<00:00, 1998.72it/s]\n"
     ]
    },
    {
     "name": "stdout",
     "output_type": "stream",
     "text": [
      "\n",
      "Overall Quality Score: 55.86%\n",
      "\n",
      "Properties:\n",
      "Column Shapes: 64.84%\n",
      "Column Pair Trends: 46.88%\n",
      "\n",
      "--------------------\n",
      "\n",
      "[routes]:\n"
     ]
    },
    {
     "name": "stderr",
     "output_type": "stream",
     "text": [
      "Creating report: 100%|███████████████████████████████████████████████████████████████████| 4/4 [00:00<00:00, 86.94it/s]\n"
     ]
    },
    {
     "name": "stdout",
     "output_type": "stream",
     "text": [
      "\n",
      "Overall Quality Score: 87.52%\n",
      "\n",
      "Properties:\n",
      "Column Shapes: 88.68%\n",
      "Column Pair Trends: 86.36%\n",
      "\n",
      "--------------------\n",
      "\n",
      "[stops]:\n"
     ]
    },
    {
     "name": "stderr",
     "output_type": "stream",
     "text": [
      "Creating report:   0%|                                                                           | 0/4 [00:00<?, ?it/s]C:\\programs\\conda\\envs\\tfgpu\\lib\\site-packages\\sdmetrics\\column_pairs\\statistical\\correlation_similarity.py:78: ConstantInputWarning: The synthetic data in column 'start_date' contains a constant value. Correlation is undefined for constant data.\n",
      "  warnings.warn(ConstantInputWarning(msg))\n",
      "C:\\programs\\conda\\envs\\tfgpu\\lib\\site-packages\\sdmetrics\\column_pairs\\statistical\\correlation_similarity.py:78: ConstantInputWarning: The synthetic data in column 'end_date' contains a constant value. Correlation is undefined for constant data.\n",
      "  warnings.warn(ConstantInputWarning(msg))\n",
      "C:\\programs\\conda\\envs\\tfgpu\\lib\\site-packages\\sdmetrics\\column_pairs\\statistical\\correlation_similarity.py:78: ConstantInputWarning: The synthetic data in column 'start_date' contains a constant value. Correlation is undefined for constant data.\n",
      "  warnings.warn(ConstantInputWarning(msg))\n",
      "C:\\programs\\conda\\envs\\tfgpu\\lib\\site-packages\\sdmetrics\\column_pairs\\statistical\\correlation_similarity.py:78: ConstantInputWarning: The synthetic data in column 'end_date' contains a constant value. Correlation is undefined for constant data.\n",
      "  warnings.warn(ConstantInputWarning(msg))\n",
      "C:\\programs\\conda\\envs\\tfgpu\\lib\\site-packages\\sdmetrics\\column_pairs\\statistical\\correlation_similarity.py:78: ConstantInputWarning: The synthetic data in columns 'end_date, start_date' contain a constant value. Correlation is undefined for constant data.\n",
      "  warnings.warn(ConstantInputWarning(msg))\n",
      "Creating report: 100%|███████████████████████████████████████████████████████████████████| 4/4 [00:00<00:00, 13.33it/s]\n"
     ]
    },
    {
     "name": "stdout",
     "output_type": "stream",
     "text": [
      "\n",
      "Overall Quality Score: 86.75%\n",
      "\n",
      "Properties:\n",
      "Column Shapes: 89.04%\n",
      "Column Pair Trends: 84.47%\n",
      "\n",
      "--------------------\n",
      "\n",
      "[stop_times]:\n"
     ]
    },
    {
     "name": "stderr",
     "output_type": "stream",
     "text": [
      "Creating report: 100%|███████████████████████████████████████████████████████████████████| 4/4 [00:13<00:00,  3.47s/it]\n"
     ]
    },
    {
     "name": "stdout",
     "output_type": "stream",
     "text": [
      "\n",
      "Overall Quality Score: 86.25%\n",
      "\n",
      "Properties:\n",
      "Column Shapes: 89.96%\n",
      "Column Pair Trends: 82.54%\n",
      "\n",
      "--------------------\n",
      "\n",
      "[trips]:\n"
     ]
    },
    {
     "name": "stderr",
     "output_type": "stream",
     "text": [
      "Creating report: 100%|███████████████████████████████████████████████████████████████████| 4/4 [00:00<00:00,  8.49it/s]"
     ]
    },
    {
     "name": "stdout",
     "output_type": "stream",
     "text": [
      "\n",
      "Overall Quality Score: 60.13%\n",
      "\n",
      "Properties:\n",
      "Column Shapes: 73.42%\n",
      "Column Pair Trends: 46.84%\n",
      "\n",
      "--------------------\n",
      "\n"
     ]
    },
    {
     "name": "stderr",
     "output_type": "stream",
     "text": [
      "\n"
     ]
    }
   ],
   "source": [
    "individual_report_collection = {}\n",
    "for df_name in real_data_collection.keys():\n",
    "    print(f'[{df_name}]:')\n",
    "    individual_report_collection[df_name] = st_evaluate_quality(\n",
    "        real_data=real_data_collection[df_name],\n",
    "        synthetic_data=tvae_synthetic_data_collection[df_name],\n",
    "        metadata=sdv_metadata.tables[df_name])\n",
    "    print()\n",
    "    print('--------------------')\n",
    "    print()"
   ]
  },
  {
   "cell_type": "markdown",
   "id": "8661e637-28c0-47e9-b0f9-8f6c521492aa",
   "metadata": {
    "tags": []
   },
   "source": [
    "## HMA"
   ]
  },
  {
   "cell_type": "code",
   "execution_count": 31,
   "id": "e1bc3215-dbfa-4628-9612-2cd3fb89f257",
   "metadata": {},
   "outputs": [],
   "source": [
    "# synthesizer = HMASynthesizer(sdv_metadata)"
   ]
  },
  {
   "cell_type": "code",
   "execution_count": 32,
   "id": "76049045-3ac6-404b-a459-8b5b0f5480a9",
   "metadata": {},
   "outputs": [],
   "source": [
    "# %%time\n",
    "\n",
    "# synthesizer.fit(real_data_collection)"
   ]
  },
  {
   "cell_type": "markdown",
   "id": "644b9326-84ac-445c-af7a-b0b9301e70cf",
   "metadata": {},
   "source": [
    "# KS Comparison Table"
   ]
  },
  {
   "cell_type": "code",
   "execution_count": 33,
   "id": "2b2fcaca-e8f8-48b4-843f-7809b1129d11",
   "metadata": {},
   "outputs": [],
   "source": [
    "def create_comparison_table(real_collection, fake_collections):\n",
    "    comparison_dict = {}\n",
    "    for model_name, fake_collection in fake_collections.items():\n",
    "        ks_test_scores = batch_ks_test(real_collection, fake_collection)\n",
    "        comparison_dict[model_name] = ks_test_scores\n",
    "    comparison_table = pd.DataFrame(comparison_dict)\n",
    "    return comparison_table"
   ]
  },
  {
   "cell_type": "code",
   "execution_count": 34,
   "id": "41e3ba0b-2a85-496d-b266-80bd1abde3f4",
   "metadata": {},
   "outputs": [
    {
     "name": "stderr",
     "output_type": "stream",
     "text": [
      "C:\\Users\\ouzho\\AppData\\Local\\Temp\\ipykernel_29584\\694067374.py:5: RuntimeWarning: ks_2samp: Exact calculation unsuccessful. Switching to method=asymp.\n",
      "  ks_stat, ks_p_value = ks_2samp(df1[column], df2[column])\n"
     ]
    },
    {
     "data": {
      "text/html": [
       "<div>\n",
       "<style scoped>\n",
       "    .dataframe tbody tr th:only-of-type {\n",
       "        vertical-align: middle;\n",
       "    }\n",
       "\n",
       "    .dataframe tbody tr th {\n",
       "        vertical-align: top;\n",
       "    }\n",
       "\n",
       "    .dataframe thead th {\n",
       "        text-align: right;\n",
       "    }\n",
       "</style>\n",
       "<table border=\"1\" class=\"dataframe\">\n",
       "  <thead>\n",
       "    <tr style=\"text-align: right;\">\n",
       "      <th></th>\n",
       "      <th>GaussianCopula</th>\n",
       "      <th>CTGAN</th>\n",
       "      <th>TVAE</th>\n",
       "      <th>New Approach</th>\n",
       "    </tr>\n",
       "  </thead>\n",
       "  <tbody>\n",
       "    <tr>\n",
       "      <th>agency</th>\n",
       "      <td>1.000</td>\n",
       "      <td>1.000</td>\n",
       "      <td>1.000</td>\n",
       "      <td>1.000</td>\n",
       "    </tr>\n",
       "    <tr>\n",
       "      <th>calendar</th>\n",
       "      <td>0.905</td>\n",
       "      <td>0.880</td>\n",
       "      <td>0.738</td>\n",
       "      <td>0.713</td>\n",
       "    </tr>\n",
       "    <tr>\n",
       "      <th>calendar_dates</th>\n",
       "      <td>0.667</td>\n",
       "      <td>0.658</td>\n",
       "      <td>0.492</td>\n",
       "      <td>0.731</td>\n",
       "    </tr>\n",
       "    <tr>\n",
       "      <th>routes</th>\n",
       "      <td>0.609</td>\n",
       "      <td>0.503</td>\n",
       "      <td>0.675</td>\n",
       "      <td>0.681</td>\n",
       "    </tr>\n",
       "    <tr>\n",
       "      <th>stops</th>\n",
       "      <td>0.798</td>\n",
       "      <td>0.889</td>\n",
       "      <td>0.903</td>\n",
       "      <td>0.596</td>\n",
       "    </tr>\n",
       "    <tr>\n",
       "      <th>stop_times</th>\n",
       "      <td>0.746</td>\n",
       "      <td>0.720</td>\n",
       "      <td>0.758</td>\n",
       "      <td>0.797</td>\n",
       "    </tr>\n",
       "    <tr>\n",
       "      <th>trips</th>\n",
       "      <td>0.492</td>\n",
       "      <td>0.502</td>\n",
       "      <td>0.485</td>\n",
       "      <td>0.673</td>\n",
       "    </tr>\n",
       "  </tbody>\n",
       "</table>\n",
       "</div>"
      ],
      "text/plain": [
       "                GaussianCopula  CTGAN   TVAE  New Approach\n",
       "agency                   1.000  1.000  1.000         1.000\n",
       "calendar                 0.905  0.880  0.738         0.713\n",
       "calendar_dates           0.667  0.658  0.492         0.731\n",
       "routes                   0.609  0.503  0.675         0.681\n",
       "stops                    0.798  0.889  0.903         0.596\n",
       "stop_times               0.746  0.720  0.758         0.797\n",
       "trips                    0.492  0.502  0.485         0.673"
      ]
     },
     "execution_count": 34,
     "metadata": {},
     "output_type": "execute_result"
    }
   ],
   "source": [
    "benchmark_collection = {\n",
    "    'GaussianCopula':gc_synthetic_data_collection,\n",
    "    'CTGAN':ctgan_synthetic_data_collection,\n",
    "    'TVAE':tvae_synthetic_data_collection,\n",
    "    'New Approach':synthetic_data_collection\n",
    "}\n",
    "\n",
    "create_comparison_table(real_data_collection, benchmark_collection).round(3)"
   ]
  },
  {
   "cell_type": "code",
   "execution_count": null,
   "id": "dc4a3e5b-4d6c-4904-92d9-6072eebcdfa5",
   "metadata": {},
   "outputs": [],
   "source": []
  }
 ],
 "metadata": {
  "kernelspec": {
   "display_name": "Python 3 (ipykernel)",
   "language": "python",
   "name": "python3"
  },
  "language_info": {
   "codemirror_mode": {
    "name": "ipython",
    "version": 3
   },
   "file_extension": ".py",
   "mimetype": "text/x-python",
   "name": "python",
   "nbconvert_exporter": "python",
   "pygments_lexer": "ipython3",
   "version": "3.9.16"
  }
 },
 "nbformat": 4,
 "nbformat_minor": 5
}
