{
 "cells": [
  {
   "cell_type": "markdown",
   "id": "ed277bcc-0b53-44b4-9072-343f704588ca",
   "metadata": {
    "tags": []
   },
   "source": [
    "# import"
   ]
  },
  {
   "cell_type": "code",
   "execution_count": 1,
   "id": "9b6344e5-e74b-42a5-8a1d-95bd2f963a77",
   "metadata": {
    "tags": []
   },
   "outputs": [],
   "source": [
    "import os\n",
    "import time\n",
    "import math\n",
    "import random\n",
    "import pickle\n",
    "import numpy as np\n",
    "import pandas as pd\n",
    "import matplotlib.pyplot as plt\n",
    "# import tensorflow as tf\n",
    "from tensorflow.keras import layers, models, optimizers, losses, backend, constraints, initializers\n",
    "from tensorflow.compat.v1.logging import set_verbosity, ERROR\n",
    "from sklearn.preprocessing import MinMaxScaler, StandardScaler\n",
    "from sklearn import metrics\n",
    "from sklearn.decomposition import PCA\n",
    "from sklearn.impute import SimpleImputer\n",
    "from sklearn.neighbors import KernelDensity\n",
    "from scipy.stats import kstest, gaussian_kde, ks_2samp, chi2_contingency, wasserstein_distance, norm\n",
    "from scipy.interpolate import interp1d\n",
    "from sdv.metadata import MultiTableMetadata\n",
    "from sdv.evaluation.single_table import evaluate_quality as st_evaluate_quality\n",
    "from sdv.evaluation.single_table import run_diagnostic as st_run_diagnostic\n",
    "from sdv.evaluation.multi_table import evaluate_quality as mt_evaluate_quality\n",
    "from sdv.evaluation.multi_table import run_diagnostic as mt_run_diagnostic"
   ]
  },
  {
   "cell_type": "code",
   "execution_count": 2,
   "id": "cfdcbabf-f624-4961-93c2-1232ffdeffcd",
   "metadata": {},
   "outputs": [],
   "source": [
    "set_verbosity(ERROR)"
   ]
  },
  {
   "cell_type": "markdown",
   "id": "9f6aa2d4-7b51-45ff-bc4a-1d3e9d7a0b65",
   "metadata": {
    "tags": []
   },
   "source": [
    "# load data"
   ]
  },
  {
   "cell_type": "code",
   "execution_count": 3,
   "id": "37644fb8-5f08-496c-8403-c221fb097027",
   "metadata": {},
   "outputs": [],
   "source": [
    "def load_data_collection(dir_path):\n",
    "    gtfs_files = [f for f in os.listdir(dir_path) if f.endswith('.csv') or f.endswith('.txt')]\n",
    "    data_collection = {}\n",
    "    for f in gtfs_files:\n",
    "        f_path = os.path.join(dir_path, f)\n",
    "        data = pd.read_csv(f_path)\n",
    "        if data.shape[0] > 1:\n",
    "            data_collection[f.split(\".\")[0]] = data\n",
    "    return data_collection"
   ]
  },
  {
   "cell_type": "code",
   "execution_count": 4,
   "id": "43100845-8f4f-4fb9-b765-073cdfe09426",
   "metadata": {},
   "outputs": [],
   "source": [
    "real_data_collection = load_data_collection(\"gtfs\")"
   ]
  },
  {
   "cell_type": "code",
   "execution_count": 5,
   "id": "0112f797-2f74-4718-924b-dcffd5e225f2",
   "metadata": {},
   "outputs": [],
   "source": [
    "del real_data_collection['shapes']"
   ]
  },
  {
   "cell_type": "markdown",
   "id": "3d32eaa0-eabc-4467-ad07-86aa07941ce5",
   "metadata": {},
   "source": [
    "## Create Metadata"
   ]
  },
  {
   "cell_type": "code",
   "execution_count": 6,
   "id": "b185c1d6-6ba7-42a7-9038-a114ac10fe0a",
   "metadata": {},
   "outputs": [],
   "source": [
    "def auto_detect_relation(data_collection):\n",
    "    metadata = {}\n",
    "    for df_name, df in data_collection.items():\n",
    "        parent = {}\n",
    "        child = []\n",
    "        primary_key = []\n",
    "        foreign_key = []\n",
    "        for col in df.columns:\n",
    "            if 'id' in col:\n",
    "                if df[col].nunique() == len(df):\n",
    "                    primary_key = [col, len(df)]\n",
    "                else:\n",
    "                    foreign_key.append(col)\n",
    "        for foreign_df_name, foreign_df in data_collection.items():\n",
    "            if foreign_df_name != df_name:\n",
    "                for fr_col in foreign_df.columns:\n",
    "                    if 'id' in fr_col:\n",
    "                        for fr_k in foreign_key:\n",
    "                            if fr_col == fr_k and foreign_df[fr_col].nunique() == len(foreign_df):\n",
    "                                parent[foreign_df_name] = fr_k\n",
    "                        if primary_key != []:\n",
    "                            if fr_col == primary_key[0] and foreign_df[fr_col].nunique() != len(foreign_df):\n",
    "                                child.append(foreign_df_name)\n",
    "        metadata[df_name] = {'primary_key':primary_key,\n",
    "                             'parent':parent,\n",
    "                             'child':child,\n",
    "                             'is_sequential':False,\n",
    "                            'additional_key':None}\n",
    "    return metadata"
   ]
  },
  {
   "cell_type": "code",
   "execution_count": 7,
   "id": "f2b28726-97c5-43ae-b3a7-16b40e42ffd0",
   "metadata": {},
   "outputs": [],
   "source": [
    "metadata = auto_detect_relation(real_data_collection)\n",
    "metadata['calendar_dates']['is_sequential'] = True\n",
    "metadata['stop_times']['is_sequential'] = True\n",
    "metadata['calendar_dates']['additional_key'] = ['date']\n",
    "metadata['stop_times']['additional_key'] = ['stop_sequence']\n",
    "metadata['calendar_dates']['sort_order'] = ['service_id','date']\n",
    "metadata['stop_times']['sort_order'] = ['trip_id','stop_sequence']"
   ]
  },
  {
   "cell_type": "code",
   "execution_count": 8,
   "id": "c486c16a-04d8-4f73-8870-ddd21d01e6c0",
   "metadata": {
    "scrolled": true,
    "tags": []
   },
   "outputs": [
    {
     "data": {
      "text/plain": [
       "{'agency': {'primary_key': ['agency_id', 15],\n",
       "  'parent': {},\n",
       "  'child': ['routes'],\n",
       "  'is_sequential': False,\n",
       "  'additional_key': None},\n",
       " 'calendar': {'primary_key': ['service_id', 121],\n",
       "  'parent': {},\n",
       "  'child': ['calendar_dates', 'trips'],\n",
       "  'is_sequential': False,\n",
       "  'additional_key': None},\n",
       " 'calendar_dates': {'primary_key': [],\n",
       "  'parent': {'calendar': 'service_id'},\n",
       "  'child': [],\n",
       "  'is_sequential': True,\n",
       "  'additional_key': ['date'],\n",
       "  'sort_order': ['service_id', 'date']},\n",
       " 'routes': {'primary_key': ['route_id', 215],\n",
       "  'parent': {'agency': 'agency_id'},\n",
       "  'child': ['trips'],\n",
       "  'is_sequential': False,\n",
       "  'additional_key': None},\n",
       " 'stops': {'primary_key': ['stop_id', 6714],\n",
       "  'parent': {},\n",
       "  'child': ['stop_times'],\n",
       "  'is_sequential': False,\n",
       "  'additional_key': None},\n",
       " 'stop_times': {'primary_key': [],\n",
       "  'parent': {'stops': 'stop_id', 'trips': 'trip_id'},\n",
       "  'child': [],\n",
       "  'is_sequential': True,\n",
       "  'additional_key': ['stop_sequence'],\n",
       "  'sort_order': ['trip_id', 'stop_sequence']},\n",
       " 'trips': {'primary_key': ['trip_id', 32403],\n",
       "  'parent': {'calendar': 'service_id', 'routes': 'route_id'},\n",
       "  'child': ['stop_times'],\n",
       "  'is_sequential': False,\n",
       "  'additional_key': None}}"
      ]
     },
     "execution_count": 8,
     "metadata": {},
     "output_type": "execute_result"
    }
   ],
   "source": [
    "metadata"
   ]
  },
  {
   "cell_type": "code",
   "execution_count": 9,
   "id": "f9b55551-0339-4b48-9b63-4c5eceefd9bd",
   "metadata": {},
   "outputs": [],
   "source": [
    "# {'agency': {'primary_key': ['agency_id', 15],\n",
    "#   'parent': {},\n",
    "#   'child': ['routes']},\n",
    "#  'calendar': {'primary_key': ['service_id', 121],\n",
    "#   'parent': {},\n",
    "#   'child': ['calendar_dates', 'trips']},\n",
    "#  'calendar_dates': {'primary_key': [],\n",
    "#   'parent': {'calendar': 'service_id'},\n",
    "#   'child': []},\n",
    "#  'routes': {'primary_key': ['route_id', 215],\n",
    "#   'parent': {'agency': 'agency_id'},\n",
    "#   'child': ['trips']},\n",
    "#  'stops': {'primary_key': ['stop_id', 6714],\n",
    "#   'parent': {},\n",
    "#   'child': ['stop_times']},\n",
    "#  'stop_times': {'primary_key': [],\n",
    "#   'parent': {'stops': 'stop_id', 'trips': 'trip_id'},\n",
    "#   'child': []},\n",
    "#  'trips': {'primary_key': ['trip_id', 32403],\n",
    "#   'parent': {'calendar': 'service_id', 'routes': 'route_id'},\n",
    "#   'child': ['stop_times']}}"
   ]
  },
  {
   "cell_type": "markdown",
   "id": "0030c3c8-efd3-4412-a936-e735a0ff0d11",
   "metadata": {},
   "source": [
    "# preprocess"
   ]
  },
  {
   "cell_type": "markdown",
   "id": "4d1e7358-b862-4454-9aed-31db0d173336",
   "metadata": {},
   "source": [
    "## Create Factorization Dictionary:"
   ]
  },
  {
   "cell_type": "code",
   "execution_count": 10,
   "id": "5ff1369a-a7a4-47cc-a367-96a7e7b08378",
   "metadata": {},
   "outputs": [],
   "source": [
    "def create_factorization_dict(data_collection, metadata):\n",
    "    factor_dict = {}\n",
    "    for df_name, df in data_collection.items():\n",
    "        local_id_dict = {}\n",
    "        primary_key_info = metadata[df_name]['primary_key']\n",
    "        if primary_key_info != []:\n",
    "            local_id_dict = {k:v for v,k in enumerate(df[primary_key_info[0]].unique())}\n",
    "            factor_dict[primary_key_info[0]] = local_id_dict\n",
    "    return factor_dict"
   ]
  },
  {
   "cell_type": "code",
   "execution_count": 11,
   "id": "e3850f6f-7c99-47d2-b7c9-39ca72af8159",
   "metadata": {
    "scrolled": true,
    "tags": []
   },
   "outputs": [],
   "source": [
    "factorization_dict = create_factorization_dict(real_data_collection, metadata)"
   ]
  },
  {
   "cell_type": "markdown",
   "id": "b40b1167-958e-4998-9c4b-d308e43d23d3",
   "metadata": {},
   "source": [
    "## Format Individual Table:"
   ]
  },
  {
   "cell_type": "code",
   "execution_count": 12,
   "id": "ea160cb7-5a00-4415-9db6-65a1fed80c6d",
   "metadata": {},
   "outputs": [],
   "source": [
    "def individual_preprocess_dict():\n",
    "    preprocess_dict = {}\n",
    "    preprocess_dict['transformation'] = {}\n",
    "    preprocess_dict['transformation']['drop'] = []\n",
    "    preprocess_dict['transformation']['factorize'] = []\n",
    "    preprocess_dict['transformation']['to_strip'] = []\n",
    "    preprocess_dict['transformation']['to_elapsed_time'] = []\n",
    "    preprocess_dict['transformation']['to_elapsed_days'] = []\n",
    "    preprocess_dict['nans_conversion'] = {}\n",
    "    preprocess_dict['nans_conversion']['impute'] = []\n",
    "    preprocess_dict['nans_conversion']['replace_with_neg_one'] = []\n",
    "    preprocess_dict['nans_conversion']['replace_with_zeros'] = []\n",
    "    return preprocess_dict"
   ]
  },
  {
   "cell_type": "code",
   "execution_count": 13,
   "id": "a43626da-f738-4269-b5ff-62333d036e9d",
   "metadata": {},
   "outputs": [],
   "source": [
    "def format_individual_data(data, preprocess_dict, factorization_dict, timestamp = pd.Timestamp('1900-01-01')):\n",
    "    # reverse_transform_dict = {}\n",
    "    for stage in preprocess_dict.keys():\n",
    "        if stage == 'transformation':\n",
    "            for method, col_list in preprocess_dict[stage].items():\n",
    "                if len(col_list) != 0 or None:\n",
    "                    if method == 'drop':\n",
    "                        data = data.drop(col_list, axis=1)\n",
    "                    if method == 'factorize':\n",
    "                        for col in col_list:\n",
    "                            if col in factorization_dict.keys():\n",
    "                                data[col] = data[col].map(factorization_dict[col])\n",
    "                            else:\n",
    "                                data[col] = pd.factorize(data[col], sort=True)[0]\n",
    "                    if method == 'to_strip':\n",
    "                        for col in col_list:\n",
    "                            # convert some column to numbers\n",
    "                            # e.g. `123-45-6` -> `123456`\n",
    "                            data[col] = data[col].str.replace(r'\\D', '').astype(int)\n",
    "                    if method == \"to_elapsed_time\":\n",
    "                        for col in col_list:\n",
    "                            cur_col = pd.to_timedelta(data[col])\n",
    "                            cur_col = cur_col % pd.Timedelta(days=1)\n",
    "                            data[col] = cur_col.dt.total_seconds()\n",
    "                    if method == \"to_elapsed_days\":\n",
    "                        for col in col_list:\n",
    "                            cur_col = pd.to_datetime(data[col], format='%Y%m%d') - timestamp\n",
    "                            data[col] = cur_col.dt.days\n",
    "        if stage == 'nans_conversion':\n",
    "            for method, col_list in preprocess_dict[stage].items():\n",
    "                if len(col_list) != 0 or None:\n",
    "                    if method == 'impute':\n",
    "                        imputer = SimpleImputer(strategy='mean')\n",
    "                        data[col_list] = imputer.fit_transform(data[col_list])\n",
    "                    if method == 'replace_with_neg_one':\n",
    "                        data[col_list] = data[col_list].fillna(-1)\n",
    "                    if method == 'replace_with_zeros':\n",
    "                        data[col_list] = data[col_list].fillna(0)\n",
    "    # scaler = MinMaxScaler(feature_range=(-1, 1))\n",
    "    # scaled_data = scaler.fit_transform(data)\n",
    "    return data"
   ]
  },
  {
   "cell_type": "markdown",
   "id": "d5d2f690-595f-4824-982b-a4eacecc3910",
   "metadata": {},
   "source": [
    "## preprocess individual data"
   ]
  },
  {
   "cell_type": "code",
   "execution_count": 14,
   "id": "14759448-6b02-4be0-989c-7a5668313ac5",
   "metadata": {},
   "outputs": [],
   "source": [
    "sdv_metadata = MultiTableMetadata()"
   ]
  },
  {
   "cell_type": "code",
   "execution_count": 15,
   "id": "391d1d19-1d42-4f73-99f0-9fcbade5bc82",
   "metadata": {},
   "outputs": [],
   "source": [
    "preprocess_dict = individual_preprocess_dict()\n",
    "preprocess_dict['transformation']['drop'] = ['agency_name','agency_fare_url','agency_email']\n",
    "preprocess_dict['transformation']['factorize'] = ['agency_id','agency_url','agency_timezone','agency_lang','agency_phone']\n",
    "real_data_collection['agency'] = format_individual_data(real_data_collection['agency'], preprocess_dict, factorization_dict)"
   ]
  },
  {
   "cell_type": "code",
   "execution_count": 16,
   "id": "caffb90f-ec27-44da-9140-35994e66c29a",
   "metadata": {},
   "outputs": [],
   "source": [
    "sdv_metadata.detect_table_from_dataframe(table_name='agency', data=real_data_collection['agency'])\n",
    "sdv_metadata.update_column(table_name='agency',column_name='agency_id',sdtype='id')\n",
    "sdv_metadata.update_column(table_name='agency',column_name='agency_url',sdtype='categorical')\n",
    "sdv_metadata.update_column(table_name='agency',column_name='agency_timezone',sdtype='categorical')\n",
    "sdv_metadata.update_column(table_name='agency',column_name='agency_lang',sdtype='categorical')\n",
    "sdv_metadata.update_column(table_name='agency',column_name='agency_phone',sdtype='categorical')\n",
    "sdv_metadata.set_primary_key(table_name='agency',column_name='agency_id')"
   ]
  },
  {
   "cell_type": "markdown",
   "id": "161adbb0-ad23-4ccb-a0be-2de0c910c4ac",
   "metadata": {},
   "source": [
    "### calendar"
   ]
  },
  {
   "cell_type": "code",
   "execution_count": 17,
   "id": "98b6c1d4-9732-480e-80b2-711a104c4ab3",
   "metadata": {},
   "outputs": [],
   "source": [
    "preprocess_dict = individual_preprocess_dict()\n",
    "preprocess_dict['transformation']['factorize'] = ['service_id']\n",
    "preprocess_dict['transformation']['to_elapsed_days'] = ['start_date','end_date']\n",
    "real_data_collection['calendar'] = format_individual_data(real_data_collection['calendar'], preprocess_dict, factorization_dict)"
   ]
  },
  {
   "cell_type": "code",
   "execution_count": 18,
   "id": "4c7ccf19-a0f3-4839-92a3-1da4f191bd50",
   "metadata": {},
   "outputs": [],
   "source": [
    "sdv_metadata.detect_table_from_dataframe(table_name='calendar',data=real_data_collection['calendar'])\n",
    "sdv_metadata.update_column(table_name='calendar',column_name='service_id',sdtype='id')\n",
    "sdv_metadata.update_column(table_name='calendar',column_name='monday',sdtype='categorical')\n",
    "sdv_metadata.update_column(table_name='calendar',column_name='tuesday',sdtype='categorical')\n",
    "sdv_metadata.update_column(table_name='calendar',column_name='wednesday',sdtype='categorical')\n",
    "sdv_metadata.update_column(table_name='calendar',column_name='thursday',sdtype='categorical')\n",
    "sdv_metadata.update_column(table_name='calendar',column_name='friday',sdtype='categorical')\n",
    "sdv_metadata.update_column(table_name='calendar',column_name='saturday',sdtype='categorical')\n",
    "sdv_metadata.update_column(table_name='calendar',column_name='sunday',sdtype='categorical')\n",
    "sdv_metadata.update_column(table_name='calendar',column_name='start_date',sdtype='numerical',computer_representation='Int32')\n",
    "sdv_metadata.update_column(table_name='calendar',column_name='end_date',sdtype='numerical',computer_representation='Int32')\n",
    "sdv_metadata.set_primary_key(table_name='calendar',column_name='service_id')"
   ]
  },
  {
   "cell_type": "markdown",
   "id": "a91f03a9-5975-4af6-bb47-4c964f89c94c",
   "metadata": {},
   "source": [
    "### calendar_dates"
   ]
  },
  {
   "cell_type": "code",
   "execution_count": 19,
   "id": "4bedaf5f-6cb1-4b62-a3b6-e6d1d133e3ae",
   "metadata": {},
   "outputs": [],
   "source": [
    "preprocess_dict = individual_preprocess_dict()\n",
    "preprocess_dict['transformation']['factorize'] = ['service_id']\n",
    "preprocess_dict['transformation']['to_elapsed_days'] = ['date']\n",
    "real_data_collection['calendar_dates'] = format_individual_data(real_data_collection['calendar_dates'], preprocess_dict, factorization_dict)"
   ]
  },
  {
   "cell_type": "code",
   "execution_count": 20,
   "id": "ced7bf14-2470-477a-95ed-4002c2fe8162",
   "metadata": {},
   "outputs": [],
   "source": [
    "sdv_metadata.detect_table_from_dataframe(table_name='calendar_dates',data=real_data_collection['calendar_dates'])\n",
    "sdv_metadata.update_column(table_name='calendar_dates',column_name='service_id',sdtype='id')\n",
    "sdv_metadata.update_column(table_name='calendar_dates',column_name='date',sdtype='numerical',computer_representation='Int32')\n",
    "sdv_metadata.update_column(table_name='calendar_dates',column_name='exception_type',sdtype='categorical')"
   ]
  },
  {
   "cell_type": "markdown",
   "id": "b6fe28af-8914-4f3c-b217-68890419d008",
   "metadata": {},
   "source": [
    "### routes"
   ]
  },
  {
   "cell_type": "code",
   "execution_count": 21,
   "id": "4ab5668b-817b-4cf4-a982-ba24c699f9e7",
   "metadata": {},
   "outputs": [],
   "source": [
    "preprocess_dict = individual_preprocess_dict()\n",
    "preprocess_dict['transformation']['drop'] = ['route_short_name','route_long_name','route_desc','route_url','route_sort_order']\n",
    "preprocess_dict['transformation']['factorize'] = ['route_id',\n",
    "                                                  'agency_id',\n",
    "                                                 'route_color',\n",
    "                                                 'route_text_color',\n",
    "                                                 'contract_id']\n",
    "preprocess_dict['nans_conversion']['impute'] = ['route_color','route_text_color']\n",
    "real_data_collection['routes'] = format_individual_data(real_data_collection['routes'], preprocess_dict, factorization_dict)"
   ]
  },
  {
   "cell_type": "code",
   "execution_count": 22,
   "id": "185a3030-4a5f-4fb8-9e5c-7042a3248174",
   "metadata": {
    "scrolled": true,
    "tags": []
   },
   "outputs": [],
   "source": [
    "real_data_collection['routes']['route_color'] = real_data_collection['routes']['route_color'].astype(int)\n",
    "real_data_collection['routes']['route_text_color'] = real_data_collection['routes']['route_text_color'].astype(int)"
   ]
  },
  {
   "cell_type": "code",
   "execution_count": 23,
   "id": "b03aa99c-3f8e-42c1-a274-2d358b1785f2",
   "metadata": {},
   "outputs": [],
   "source": [
    "sdv_metadata.detect_table_from_dataframe(table_name='routes',data=real_data_collection['routes'])\n",
    "sdv_metadata.update_column(table_name='routes',column_name='route_id',sdtype='id')\n",
    "sdv_metadata.update_column(table_name='routes',column_name='agency_id',sdtype='id')\n",
    "sdv_metadata.update_column(table_name='routes',column_name='route_type',sdtype='categorical')\n",
    "sdv_metadata.update_column(table_name='routes',column_name='route_color',sdtype='categorical')\n",
    "sdv_metadata.update_column(table_name='routes',column_name='route_text_color',sdtype='categorical')\n",
    "sdv_metadata.update_column(table_name='routes',column_name='contract_id',sdtype='id')\n",
    "sdv_metadata.set_primary_key(table_name='routes',column_name='route_id')"
   ]
  },
  {
   "cell_type": "markdown",
   "id": "97ff2589-b81c-4e09-afdc-eaae11f4d640",
   "metadata": {},
   "source": [
    "### stops"
   ]
  },
  {
   "cell_type": "code",
   "execution_count": 24,
   "id": "194c3a68-b4fe-49e4-9c2b-534a2728ef2b",
   "metadata": {},
   "outputs": [],
   "source": [
    "preprocess_dict = individual_preprocess_dict()\n",
    "preprocess_dict['transformation']['factorize'] = ['stop_id','parent_station','platform_code']\n",
    "preprocess_dict['transformation']['to_elapsed_days'] = ['start_date','end_date']\n",
    "preprocess_dict['transformation']['drop'] = ['stop_name','stop_code','stop_desc','zone_id','stop_url','stop_timezone']\n",
    "preprocess_dict['nans_conversion']['impute'] = ['parent_station','platform_code']\n",
    "real_data_collection['stops'] = format_individual_data(real_data_collection['stops'], preprocess_dict, factorization_dict)"
   ]
  },
  {
   "cell_type": "code",
   "execution_count": 25,
   "id": "4ade5534-7743-4237-b6de-06c01f4934b0",
   "metadata": {},
   "outputs": [],
   "source": [
    "real_data_collection['stops']['parent_station'] = real_data_collection['stops']['parent_station'].astype(int)\n",
    "real_data_collection['stops']['platform_code'] = real_data_collection['stops']['platform_code'].astype(int)"
   ]
  },
  {
   "cell_type": "code",
   "execution_count": 26,
   "id": "71f90106-fe1a-4ee0-a121-c18244253106",
   "metadata": {},
   "outputs": [],
   "source": [
    "sdv_metadata.detect_table_from_dataframe(table_name='stops',data=real_data_collection['stops'])\n",
    "sdv_metadata.update_column(table_name='stops',column_name='stop_id',sdtype='id')\n",
    "sdv_metadata.update_column(table_name='stops',column_name='stop_lat',sdtype='numerical',computer_representation='Float')\n",
    "sdv_metadata.update_column(table_name='stops',column_name='stop_lon',sdtype='numerical',computer_representation='Float')\n",
    "sdv_metadata.update_column(table_name='stops',column_name='location_type',sdtype='categorical')\n",
    "sdv_metadata.update_column(table_name='stops',column_name='parent_station',sdtype='categorical')\n",
    "sdv_metadata.update_column(table_name='stops',column_name='platform_code',sdtype='categorical')\n",
    "sdv_metadata.update_column(table_name='stops',column_name='wheelchair_boarding',sdtype='categorical')\n",
    "sdv_metadata.update_column(table_name='stops',column_name='start_date',sdtype='numerical',computer_representation='Int32')\n",
    "sdv_metadata.update_column(table_name='stops',column_name='end_date',sdtype='numerical',computer_representation='Int32')\n",
    "sdv_metadata.set_primary_key(table_name='stops',column_name='stop_id')"
   ]
  },
  {
   "cell_type": "markdown",
   "id": "717a2a51-8a26-4c4d-9240-8d37aa2970f8",
   "metadata": {},
   "source": [
    "### stop_times"
   ]
  },
  {
   "cell_type": "code",
   "execution_count": 27,
   "id": "6045ecf3-bc7e-4e5f-99a9-268fb36a2205",
   "metadata": {},
   "outputs": [],
   "source": [
    "preprocess_dict = individual_preprocess_dict()\n",
    "preprocess_dict['transformation']['factorize'] = ['trip_id','stop_id','stop_headsign']\n",
    "preprocess_dict['transformation']['to_elapsed_time'] = ['arrival_time','departure_time']\n",
    "real_data_collection['stop_times'] = format_individual_data(real_data_collection['stop_times'], preprocess_dict, factorization_dict)"
   ]
  },
  {
   "cell_type": "code",
   "execution_count": 28,
   "id": "8268efc1-a34f-4671-9110-695be2db0d04",
   "metadata": {},
   "outputs": [],
   "source": [
    "real_data_collection['stop_times']['arrival_time'] = real_data_collection['stop_times']['arrival_time'].astype(int)\n",
    "real_data_collection['stop_times']['departure_time'] = real_data_collection['stop_times']['departure_time'].astype(int)"
   ]
  },
  {
   "cell_type": "code",
   "execution_count": 29,
   "id": "da4afcef-7a3c-4bf8-936a-630c45631df8",
   "metadata": {},
   "outputs": [],
   "source": [
    "sdv_metadata.detect_table_from_dataframe(table_name='stop_times',data=real_data_collection['stop_times'])\n",
    "sdv_metadata.update_column(table_name='stop_times',column_name='trip_id',sdtype='id')\n",
    "sdv_metadata.update_column(table_name='stop_times',column_name='arrival_time',sdtype='numerical',computer_representation='Int32')\n",
    "sdv_metadata.update_column(table_name='stop_times',column_name='departure_time',sdtype='numerical',computer_representation='Int32')\n",
    "sdv_metadata.update_column(table_name='stop_times',column_name='stop_id',sdtype='id')\n",
    "sdv_metadata.update_column(table_name='stop_times',column_name='stop_sequence',sdtype='categorical')\n",
    "sdv_metadata.update_column(table_name='stop_times',column_name='stop_headsign',sdtype='categorical')\n",
    "sdv_metadata.update_column(table_name='stop_times',column_name='pickup_type',sdtype='categorical')\n",
    "sdv_metadata.update_column(table_name='stop_times',column_name='drop_off_type',sdtype='categorical')\n",
    "sdv_metadata.update_column(table_name='stop_times',column_name='shape_dist_traveled',sdtype='numerical',computer_representation='Float')\n",
    "sdv_metadata.update_column(table_name='stop_times',column_name='timepoint',sdtype='categorical')"
   ]
  },
  {
   "cell_type": "markdown",
   "id": "1601644e-ef6c-4c9a-9580-43fa79b5b963",
   "metadata": {},
   "source": [
    "### trips"
   ]
  },
  {
   "cell_type": "code",
   "execution_count": 30,
   "id": "0b5c0236-a5db-4fd9-b93e-cc8b4ae282c7",
   "metadata": {
    "tags": []
   },
   "outputs": [],
   "source": [
    "preprocess_dict = individual_preprocess_dict()\n",
    "preprocess_dict['transformation']['factorize'] = ['route_id','service_id','trip_id','trip_headsign','shape_id']\n",
    "preprocess_dict['transformation']['drop'] = ['trip_short_name','block_id']\n",
    "real_data_collection['trips'] = format_individual_data(real_data_collection['trips'], preprocess_dict, factorization_dict)"
   ]
  },
  {
   "cell_type": "code",
   "execution_count": 31,
   "id": "434eb10b-5c43-4bc8-8bfb-d44ec3dd7874",
   "metadata": {
    "tags": []
   },
   "outputs": [],
   "source": [
    "sdv_metadata.detect_table_from_dataframe(table_name='trips',data=real_data_collection['trips'])\n",
    "sdv_metadata.update_column(table_name='trips',column_name='route_id',sdtype='id')\n",
    "sdv_metadata.update_column(table_name='trips',column_name='service_id',sdtype='id')\n",
    "sdv_metadata.update_column(table_name='trips',column_name='trip_id',sdtype='id')\n",
    "sdv_metadata.update_column(table_name='trips',column_name='trip_headsign',sdtype='categorical')\n",
    "sdv_metadata.update_column(table_name='trips',column_name='direction_id',sdtype='id')\n",
    "sdv_metadata.update_column(table_name='trips',column_name='shape_id',sdtype='id')\n",
    "sdv_metadata.update_column(table_name='trips',column_name='wheelchair_accessible',sdtype='categorical')\n",
    "sdv_metadata.update_column(table_name='trips',column_name='bikes_allowed',sdtype='categorical')\n",
    "sdv_metadata.set_primary_key(table_name='trips',column_name='trip_id')"
   ]
  },
  {
   "cell_type": "markdown",
   "id": "0c7e65ab-b276-4ce0-bce9-0f0dfbda2f0e",
   "metadata": {},
   "source": [
    "## Add SDV Relations"
   ]
  },
  {
   "cell_type": "code",
   "execution_count": 32,
   "id": "eee66f0a-5be8-475b-adb3-7cf166678db1",
   "metadata": {},
   "outputs": [],
   "source": [
    "sdv_metadata.add_relationship(\n",
    "    parent_table_name='agency',\n",
    "    child_table_name='routes',\n",
    "    parent_primary_key='agency_id',\n",
    "    child_foreign_key='agency_id'\n",
    ")\n",
    "\n",
    "sdv_metadata.add_relationship(\n",
    "    parent_table_name='calendar',\n",
    "    child_table_name='calendar_dates',\n",
    "    parent_primary_key='service_id',\n",
    "    child_foreign_key='service_id'\n",
    ")\n",
    "\n",
    "sdv_metadata.add_relationship(\n",
    "    parent_table_name='calendar',\n",
    "    child_table_name='trips',\n",
    "    parent_primary_key='service_id',\n",
    "    child_foreign_key='service_id'\n",
    ")\n",
    "\n",
    "sdv_metadata.add_relationship(\n",
    "    parent_table_name='routes',\n",
    "    child_table_name='trips',\n",
    "    parent_primary_key='route_id',\n",
    "    child_foreign_key='route_id'\n",
    ")\n",
    "\n",
    "sdv_metadata.add_relationship(\n",
    "    parent_table_name='stops',\n",
    "    child_table_name='stop_times',\n",
    "    parent_primary_key='stop_id',\n",
    "    child_foreign_key='stop_id'\n",
    ")\n",
    "\n",
    "sdv_metadata.add_relationship(\n",
    "    parent_table_name='trips',\n",
    "    child_table_name='stop_times',\n",
    "    parent_primary_key='trip_id',\n",
    "    child_foreign_key='trip_id'\n",
    ")"
   ]
  },
  {
   "cell_type": "code",
   "execution_count": 33,
   "id": "ff95e656-3b4a-4f2c-8a3d-88e74be69fb1",
   "metadata": {},
   "outputs": [
    {
     "data": {
      "image/svg+xml": [
       "<?xml version=\"1.0\" encoding=\"UTF-8\" standalone=\"no\"?>\n",
       "<!DOCTYPE svg PUBLIC \"-//W3C//DTD SVG 1.1//EN\"\n",
       " \"http://www.w3.org/Graphics/SVG/1.1/DTD/svg11.dtd\">\n",
       "<!-- Generated by graphviz version 8.0.3 (20230416.2022)\n",
       " -->\n",
       "<!-- Title: Metadata Pages: 1 -->\n",
       "<svg width=\"664pt\" height=\"969pt\"\n",
       " viewBox=\"0.00 0.00 664.00 969.00\" xmlns=\"http://www.w3.org/2000/svg\" xmlns:xlink=\"http://www.w3.org/1999/xlink\">\n",
       "<g id=\"graph0\" class=\"graph\" transform=\"scale(1 1) rotate(0) translate(4 965)\">\n",
       "<title>Metadata</title>\n",
       "<polygon fill=\"white\" stroke=\"none\" points=\"-4,4 -4,-965 660,-965 660,4 -4,4\"/>\n",
       "<!-- agency -->\n",
       "<g id=\"node1\" class=\"node\">\n",
       "<title>agency</title>\n",
       "<path fill=\"#ffec8b\" stroke=\"black\" d=\"M25.5,-815.5C25.5,-815.5 184.5,-815.5 184.5,-815.5 190.5,-815.5 196.5,-821.5 196.5,-827.5 196.5,-827.5 196.5,-948.5 196.5,-948.5 196.5,-954.5 190.5,-960.5 184.5,-960.5 184.5,-960.5 25.5,-960.5 25.5,-960.5 19.5,-960.5 13.5,-954.5 13.5,-948.5 13.5,-948.5 13.5,-827.5 13.5,-827.5 13.5,-821.5 19.5,-815.5 25.5,-815.5\"/>\n",
       "<text text-anchor=\"middle\" x=\"105\" y=\"-945.3\" font-family=\"Times New Roman,serif\" font-size=\"14.00\">agency</text>\n",
       "<polyline fill=\"none\" stroke=\"black\" points=\"13.5,-937.5 196.5,-937.5\"/>\n",
       "<text text-anchor=\"start\" x=\"21.5\" y=\"-922.3\" font-family=\"Times New Roman,serif\" font-size=\"14.00\">agency_id : id</text>\n",
       "<text text-anchor=\"start\" x=\"21.5\" y=\"-907.3\" font-family=\"Times New Roman,serif\" font-size=\"14.00\">agency_url : categorical</text>\n",
       "<text text-anchor=\"start\" x=\"21.5\" y=\"-892.3\" font-family=\"Times New Roman,serif\" font-size=\"14.00\">agency_timezone : categorical</text>\n",
       "<text text-anchor=\"start\" x=\"21.5\" y=\"-877.3\" font-family=\"Times New Roman,serif\" font-size=\"14.00\">agency_lang : categorical</text>\n",
       "<text text-anchor=\"start\" x=\"21.5\" y=\"-862.3\" font-family=\"Times New Roman,serif\" font-size=\"14.00\">agency_phone : categorical</text>\n",
       "<polyline fill=\"none\" stroke=\"black\" points=\"13.5,-854.5 196.5,-854.5\"/>\n",
       "<text text-anchor=\"start\" x=\"21.5\" y=\"-839.3\" font-family=\"Times New Roman,serif\" font-size=\"14.00\">Primary key: agency_id</text>\n",
       "</g>\n",
       "<!-- routes -->\n",
       "<g id=\"node4\" class=\"node\">\n",
       "<title>routes</title>\n",
       "<path fill=\"#ffec8b\" stroke=\"black\" d=\"M18,-574C18,-574 192,-574 192,-574 198,-574 204,-580 204,-586 204,-586 204,-721 204,-721 204,-727 198,-733 192,-733 192,-733 18,-733 18,-733 12,-733 6,-727 6,-721 6,-721 6,-586 6,-586 6,-580 12,-574 18,-574\"/>\n",
       "<text text-anchor=\"middle\" x=\"105\" y=\"-717.8\" font-family=\"Times New Roman,serif\" font-size=\"14.00\">routes</text>\n",
       "<polyline fill=\"none\" stroke=\"black\" points=\"6,-710 204,-710\"/>\n",
       "<text text-anchor=\"start\" x=\"14\" y=\"-694.8\" font-family=\"Times New Roman,serif\" font-size=\"14.00\">route_id : id</text>\n",
       "<text text-anchor=\"start\" x=\"14\" y=\"-679.8\" font-family=\"Times New Roman,serif\" font-size=\"14.00\">agency_id : id</text>\n",
       "<text text-anchor=\"start\" x=\"14\" y=\"-664.8\" font-family=\"Times New Roman,serif\" font-size=\"14.00\">route_type : categorical</text>\n",
       "<text text-anchor=\"start\" x=\"14\" y=\"-649.8\" font-family=\"Times New Roman,serif\" font-size=\"14.00\">route_color : categorical</text>\n",
       "<text text-anchor=\"start\" x=\"14\" y=\"-634.8\" font-family=\"Times New Roman,serif\" font-size=\"14.00\">route_text_color : categorical</text>\n",
       "<text text-anchor=\"start\" x=\"14\" y=\"-619.8\" font-family=\"Times New Roman,serif\" font-size=\"14.00\">contract_id : id</text>\n",
       "<polyline fill=\"none\" stroke=\"black\" points=\"6,-612 204,-612\"/>\n",
       "<text text-anchor=\"start\" x=\"14\" y=\"-596.8\" font-family=\"Times New Roman,serif\" font-size=\"14.00\">Primary key: route_id</text>\n",
       "<text text-anchor=\"start\" x=\"14\" y=\"-581.8\" font-family=\"Times New Roman,serif\" font-size=\"14.00\">Foreign key (agency): agency_id</text>\n",
       "</g>\n",
       "<!-- agency&#45;&gt;routes -->\n",
       "<g id=\"edge1\" class=\"edge\">\n",
       "<title>agency&#45;&gt;routes</title>\n",
       "<path fill=\"none\" stroke=\"black\" d=\"M105,-815.66C105,-789.5 105,-759.75 105,-732.99\"/>\n",
       "<polygon fill=\"none\" stroke=\"black\" points=\"108.85,-729.85 115.35,-743.35 101.85,-736.85 108.85,-729.85\"/>\n",
       "<text text-anchor=\"middle\" x=\"177\" y=\"-785.8\" font-family=\"Times New Roman,serif\" font-size=\"14.00\"> &#160;agency_id → agency_id</text>\n",
       "</g>\n",
       "<!-- calendar -->\n",
       "<g id=\"node2\" class=\"node\">\n",
       "<title>calendar</title>\n",
       "<path fill=\"#ffec8b\" stroke=\"black\" d=\"M339.5,-543.5C339.5,-543.5 464.5,-543.5 464.5,-543.5 470.5,-543.5 476.5,-549.5 476.5,-555.5 476.5,-555.5 476.5,-751.5 476.5,-751.5 476.5,-757.5 470.5,-763.5 464.5,-763.5 464.5,-763.5 339.5,-763.5 339.5,-763.5 333.5,-763.5 327.5,-757.5 327.5,-751.5 327.5,-751.5 327.5,-555.5 327.5,-555.5 327.5,-549.5 333.5,-543.5 339.5,-543.5\"/>\n",
       "<text text-anchor=\"middle\" x=\"402\" y=\"-748.3\" font-family=\"Times New Roman,serif\" font-size=\"14.00\">calendar</text>\n",
       "<polyline fill=\"none\" stroke=\"black\" points=\"327.5,-740.5 476.5,-740.5\"/>\n",
       "<text text-anchor=\"start\" x=\"335.5\" y=\"-725.3\" font-family=\"Times New Roman,serif\" font-size=\"14.00\">service_id : id</text>\n",
       "<text text-anchor=\"start\" x=\"335.5\" y=\"-710.3\" font-family=\"Times New Roman,serif\" font-size=\"14.00\">monday : categorical</text>\n",
       "<text text-anchor=\"start\" x=\"335.5\" y=\"-695.3\" font-family=\"Times New Roman,serif\" font-size=\"14.00\">tuesday : categorical</text>\n",
       "<text text-anchor=\"start\" x=\"335.5\" y=\"-680.3\" font-family=\"Times New Roman,serif\" font-size=\"14.00\">wednesday : categorical</text>\n",
       "<text text-anchor=\"start\" x=\"335.5\" y=\"-665.3\" font-family=\"Times New Roman,serif\" font-size=\"14.00\">thursday : categorical</text>\n",
       "<text text-anchor=\"start\" x=\"335.5\" y=\"-650.3\" font-family=\"Times New Roman,serif\" font-size=\"14.00\">friday : categorical</text>\n",
       "<text text-anchor=\"start\" x=\"335.5\" y=\"-635.3\" font-family=\"Times New Roman,serif\" font-size=\"14.00\">saturday : categorical</text>\n",
       "<text text-anchor=\"start\" x=\"335.5\" y=\"-620.3\" font-family=\"Times New Roman,serif\" font-size=\"14.00\">sunday : categorical</text>\n",
       "<text text-anchor=\"start\" x=\"335.5\" y=\"-605.3\" font-family=\"Times New Roman,serif\" font-size=\"14.00\">start_date : numerical</text>\n",
       "<text text-anchor=\"start\" x=\"335.5\" y=\"-590.3\" font-family=\"Times New Roman,serif\" font-size=\"14.00\">end_date : numerical</text>\n",
       "<polyline fill=\"none\" stroke=\"black\" points=\"327.5,-582.5 476.5,-582.5\"/>\n",
       "<text text-anchor=\"start\" x=\"335.5\" y=\"-567.3\" font-family=\"Times New Roman,serif\" font-size=\"14.00\">Primary key: service_id</text>\n",
       "</g>\n",
       "<!-- calendar_dates -->\n",
       "<g id=\"node3\" class=\"node\">\n",
       "<title>calendar_dates</title>\n",
       "<path fill=\"#ffec8b\" stroke=\"black\" d=\"M462,-332C462,-332 644,-332 644,-332 650,-332 656,-338 656,-344 656,-344 656,-434 656,-434 656,-440 650,-446 644,-446 644,-446 462,-446 462,-446 456,-446 450,-440 450,-434 450,-434 450,-344 450,-344 450,-338 456,-332 462,-332\"/>\n",
       "<text text-anchor=\"middle\" x=\"553\" y=\"-430.8\" font-family=\"Times New Roman,serif\" font-size=\"14.00\">calendar_dates</text>\n",
       "<polyline fill=\"none\" stroke=\"black\" points=\"450,-423 656,-423\"/>\n",
       "<text text-anchor=\"start\" x=\"458\" y=\"-407.8\" font-family=\"Times New Roman,serif\" font-size=\"14.00\">service_id : id</text>\n",
       "<text text-anchor=\"start\" x=\"458\" y=\"-392.8\" font-family=\"Times New Roman,serif\" font-size=\"14.00\">date : numerical</text>\n",
       "<text text-anchor=\"start\" x=\"458\" y=\"-377.8\" font-family=\"Times New Roman,serif\" font-size=\"14.00\">exception_type : categorical</text>\n",
       "<polyline fill=\"none\" stroke=\"black\" points=\"450,-370 656,-370\"/>\n",
       "<text text-anchor=\"start\" x=\"458\" y=\"-354.8\" font-family=\"Times New Roman,serif\" font-size=\"14.00\">Primary key: None</text>\n",
       "<text text-anchor=\"start\" x=\"458\" y=\"-339.8\" font-family=\"Times New Roman,serif\" font-size=\"14.00\">Foreign key (calendar): service_id</text>\n",
       "</g>\n",
       "<!-- calendar&#45;&gt;calendar_dates -->\n",
       "<g id=\"edge2\" class=\"edge\">\n",
       "<title>calendar&#45;&gt;calendar_dates</title>\n",
       "<path fill=\"none\" stroke=\"black\" d=\"M464.51,-543.84C483.9,-510.13 504.47,-474.37 520.89,-445.82\"/>\n",
       "<polygon fill=\"none\" stroke=\"black\" points=\"524.75,-442.67 531.25,-456.17 517.75,-449.67 524.75,-442.67\"/>\n",
       "<text text-anchor=\"middle\" x=\"554\" y=\"-513.8\" font-family=\"Times New Roman,serif\" font-size=\"14.00\"> &#160;service_id → service_id</text>\n",
       "</g>\n",
       "<!-- trips -->\n",
       "<g id=\"node7\" class=\"node\">\n",
       "<title>trips</title>\n",
       "<path fill=\"#ffec8b\" stroke=\"black\" d=\"M12,-287C12,-287 198,-287 198,-287 204,-287 210,-293 210,-299 210,-299 210,-479 210,-479 210,-485 204,-491 198,-491 198,-491 12,-491 12,-491 6,-491 0,-485 0,-479 0,-479 0,-299 0,-299 0,-293 6,-287 12,-287\"/>\n",
       "<text text-anchor=\"middle\" x=\"105\" y=\"-475.8\" font-family=\"Times New Roman,serif\" font-size=\"14.00\">trips</text>\n",
       "<polyline fill=\"none\" stroke=\"black\" points=\"0,-468 210,-468\"/>\n",
       "<text text-anchor=\"start\" x=\"8\" y=\"-452.8\" font-family=\"Times New Roman,serif\" font-size=\"14.00\">route_id : id</text>\n",
       "<text text-anchor=\"start\" x=\"8\" y=\"-437.8\" font-family=\"Times New Roman,serif\" font-size=\"14.00\">service_id : id</text>\n",
       "<text text-anchor=\"start\" x=\"8\" y=\"-422.8\" font-family=\"Times New Roman,serif\" font-size=\"14.00\">trip_id : id</text>\n",
       "<text text-anchor=\"start\" x=\"8\" y=\"-407.8\" font-family=\"Times New Roman,serif\" font-size=\"14.00\">trip_headsign : categorical</text>\n",
       "<text text-anchor=\"start\" x=\"8\" y=\"-392.8\" font-family=\"Times New Roman,serif\" font-size=\"14.00\">direction_id : id</text>\n",
       "<text text-anchor=\"start\" x=\"8\" y=\"-377.8\" font-family=\"Times New Roman,serif\" font-size=\"14.00\">shape_id : id</text>\n",
       "<text text-anchor=\"start\" x=\"8\" y=\"-362.8\" font-family=\"Times New Roman,serif\" font-size=\"14.00\">wheelchair_accessible : categorical</text>\n",
       "<text text-anchor=\"start\" x=\"8\" y=\"-347.8\" font-family=\"Times New Roman,serif\" font-size=\"14.00\">bikes_allowed : categorical</text>\n",
       "<polyline fill=\"none\" stroke=\"black\" points=\"0,-340 210,-340\"/>\n",
       "<text text-anchor=\"start\" x=\"8\" y=\"-324.8\" font-family=\"Times New Roman,serif\" font-size=\"14.00\">Primary key: trip_id</text>\n",
       "<text text-anchor=\"start\" x=\"8\" y=\"-309.8\" font-family=\"Times New Roman,serif\" font-size=\"14.00\">Foreign key (calendar): service_id</text>\n",
       "<text text-anchor=\"start\" x=\"8\" y=\"-294.8\" font-family=\"Times New Roman,serif\" font-size=\"14.00\">Foreign key (routes): route_id</text>\n",
       "</g>\n",
       "<!-- calendar&#45;&gt;trips -->\n",
       "<g id=\"edge3\" class=\"edge\">\n",
       "<title>calendar&#45;&gt;trips</title>\n",
       "<path fill=\"none\" stroke=\"black\" d=\"M327.51,-587.46C294.24,-558.34 254.59,-523.52 209.94,-483.97\"/>\n",
       "<polygon fill=\"none\" stroke=\"black\" points=\"213.8,-480.82 220.3,-494.32 206.8,-487.82 213.8,-480.82\"/>\n",
       "<text text-anchor=\"middle\" x=\"326\" y=\"-513.8\" font-family=\"Times New Roman,serif\" font-size=\"14.00\"> &#160;service_id → service_id</text>\n",
       "</g>\n",
       "<!-- routes&#45;&gt;trips -->\n",
       "<g id=\"edge4\" class=\"edge\">\n",
       "<title>routes&#45;&gt;trips</title>\n",
       "<path fill=\"none\" stroke=\"black\" d=\"M105,-574.1C105,-547.96 105,-518.47 105,-490.87\"/>\n",
       "<polygon fill=\"none\" stroke=\"black\" points=\"108.85,-487.73 115.35,-501.23 101.85,-494.73 108.85,-487.73\"/>\n",
       "<text text-anchor=\"middle\" x=\"166.5\" y=\"-513.8\" font-family=\"Times New Roman,serif\" font-size=\"14.00\"> &#160;route_id → route_id</text>\n",
       "</g>\n",
       "<!-- stops -->\n",
       "<g id=\"node5\" class=\"node\">\n",
       "<title>stops</title>\n",
       "<path fill=\"#ffec8b\" stroke=\"black\" d=\"M240.5,-286.5C240.5,-286.5 419.5,-286.5 419.5,-286.5 425.5,-286.5 431.5,-292.5 431.5,-298.5 431.5,-298.5 431.5,-479.5 431.5,-479.5 431.5,-485.5 425.5,-491.5 419.5,-491.5 419.5,-491.5 240.5,-491.5 240.5,-491.5 234.5,-491.5 228.5,-485.5 228.5,-479.5 228.5,-479.5 228.5,-298.5 228.5,-298.5 228.5,-292.5 234.5,-286.5 240.5,-286.5\"/>\n",
       "<text text-anchor=\"middle\" x=\"330\" y=\"-476.3\" font-family=\"Times New Roman,serif\" font-size=\"14.00\">stops</text>\n",
       "<polyline fill=\"none\" stroke=\"black\" points=\"228.5,-468.5 431.5,-468.5\"/>\n",
       "<text text-anchor=\"start\" x=\"236.5\" y=\"-453.3\" font-family=\"Times New Roman,serif\" font-size=\"14.00\">stop_id : id</text>\n",
       "<text text-anchor=\"start\" x=\"236.5\" y=\"-438.3\" font-family=\"Times New Roman,serif\" font-size=\"14.00\">stop_lat : numerical</text>\n",
       "<text text-anchor=\"start\" x=\"236.5\" y=\"-423.3\" font-family=\"Times New Roman,serif\" font-size=\"14.00\">stop_lon : numerical</text>\n",
       "<text text-anchor=\"start\" x=\"236.5\" y=\"-408.3\" font-family=\"Times New Roman,serif\" font-size=\"14.00\">location_type : categorical</text>\n",
       "<text text-anchor=\"start\" x=\"236.5\" y=\"-393.3\" font-family=\"Times New Roman,serif\" font-size=\"14.00\">parent_station : categorical</text>\n",
       "<text text-anchor=\"start\" x=\"236.5\" y=\"-378.3\" font-family=\"Times New Roman,serif\" font-size=\"14.00\">platform_code : categorical</text>\n",
       "<text text-anchor=\"start\" x=\"236.5\" y=\"-363.3\" font-family=\"Times New Roman,serif\" font-size=\"14.00\">wheelchair_boarding : categorical</text>\n",
       "<text text-anchor=\"start\" x=\"236.5\" y=\"-348.3\" font-family=\"Times New Roman,serif\" font-size=\"14.00\">start_date : numerical</text>\n",
       "<text text-anchor=\"start\" x=\"236.5\" y=\"-333.3\" font-family=\"Times New Roman,serif\" font-size=\"14.00\">end_date : numerical</text>\n",
       "<polyline fill=\"none\" stroke=\"black\" points=\"228.5,-325.5 431.5,-325.5\"/>\n",
       "<text text-anchor=\"start\" x=\"236.5\" y=\"-310.3\" font-family=\"Times New Roman,serif\" font-size=\"14.00\">Primary key: stop_id</text>\n",
       "</g>\n",
       "<!-- stop_times -->\n",
       "<g id=\"node6\" class=\"node\">\n",
       "<title>stop_times</title>\n",
       "<path fill=\"#ffec8b\" stroke=\"black\" d=\"M134.5,-0.5C134.5,-0.5 301.5,-0.5 301.5,-0.5 307.5,-0.5 313.5,-6.5 313.5,-12.5 313.5,-12.5 313.5,-222.5 313.5,-222.5 313.5,-228.5 307.5,-234.5 301.5,-234.5 301.5,-234.5 134.5,-234.5 134.5,-234.5 128.5,-234.5 122.5,-228.5 122.5,-222.5 122.5,-222.5 122.5,-12.5 122.5,-12.5 122.5,-6.5 128.5,-0.5 134.5,-0.5\"/>\n",
       "<text text-anchor=\"middle\" x=\"218\" y=\"-219.3\" font-family=\"Times New Roman,serif\" font-size=\"14.00\">stop_times</text>\n",
       "<polyline fill=\"none\" stroke=\"black\" points=\"122.5,-211.5 313.5,-211.5\"/>\n",
       "<text text-anchor=\"start\" x=\"130.5\" y=\"-196.3\" font-family=\"Times New Roman,serif\" font-size=\"14.00\">trip_id : id</text>\n",
       "<text text-anchor=\"start\" x=\"130.5\" y=\"-181.3\" font-family=\"Times New Roman,serif\" font-size=\"14.00\">arrival_time : numerical</text>\n",
       "<text text-anchor=\"start\" x=\"130.5\" y=\"-166.3\" font-family=\"Times New Roman,serif\" font-size=\"14.00\">departure_time : numerical</text>\n",
       "<text text-anchor=\"start\" x=\"130.5\" y=\"-151.3\" font-family=\"Times New Roman,serif\" font-size=\"14.00\">stop_id : id</text>\n",
       "<text text-anchor=\"start\" x=\"130.5\" y=\"-136.3\" font-family=\"Times New Roman,serif\" font-size=\"14.00\">stop_sequence : categorical</text>\n",
       "<text text-anchor=\"start\" x=\"130.5\" y=\"-121.3\" font-family=\"Times New Roman,serif\" font-size=\"14.00\">stop_headsign : categorical</text>\n",
       "<text text-anchor=\"start\" x=\"130.5\" y=\"-106.3\" font-family=\"Times New Roman,serif\" font-size=\"14.00\">pickup_type : categorical</text>\n",
       "<text text-anchor=\"start\" x=\"130.5\" y=\"-91.3\" font-family=\"Times New Roman,serif\" font-size=\"14.00\">drop_off_type : categorical</text>\n",
       "<text text-anchor=\"start\" x=\"130.5\" y=\"-76.3\" font-family=\"Times New Roman,serif\" font-size=\"14.00\">shape_dist_traveled : numerical</text>\n",
       "<text text-anchor=\"start\" x=\"130.5\" y=\"-61.3\" font-family=\"Times New Roman,serif\" font-size=\"14.00\">timepoint : categorical</text>\n",
       "<polyline fill=\"none\" stroke=\"black\" points=\"122.5,-53.5 313.5,-53.5\"/>\n",
       "<text text-anchor=\"start\" x=\"130.5\" y=\"-38.3\" font-family=\"Times New Roman,serif\" font-size=\"14.00\">Primary key: None</text>\n",
       "<text text-anchor=\"start\" x=\"130.5\" y=\"-23.3\" font-family=\"Times New Roman,serif\" font-size=\"14.00\">Foreign key (stops): stop_id</text>\n",
       "<text text-anchor=\"start\" x=\"130.5\" y=\"-8.3\" font-family=\"Times New Roman,serif\" font-size=\"14.00\">Foreign key (trips): trip_id</text>\n",
       "</g>\n",
       "<!-- stops&#45;&gt;stop_times -->\n",
       "<g id=\"edge5\" class=\"edge\">\n",
       "<title>stops&#45;&gt;stop_times</title>\n",
       "<path fill=\"none\" stroke=\"black\" d=\"M287.98,-286.88C280.84,-269.71 273.38,-251.75 266.1,-234.23\"/>\n",
       "<polygon fill=\"none\" stroke=\"black\" points=\"269.95,-231.09 276.45,-244.59 262.95,-238.09 269.95,-231.09\"/>\n",
       "<text text-anchor=\"middle\" x=\"335.5\" y=\"-256.8\" font-family=\"Times New Roman,serif\" font-size=\"14.00\"> &#160;stop_id → stop_id</text>\n",
       "</g>\n",
       "<!-- trips&#45;&gt;stop_times -->\n",
       "<g id=\"edge6\" class=\"edge\">\n",
       "<title>trips&#45;&gt;stop_times</title>\n",
       "<path fill=\"none\" stroke=\"black\" d=\"M147.24,-287.26C154.51,-269.92 162.12,-251.77 169.54,-234.08\"/>\n",
       "<polygon fill=\"none\" stroke=\"black\" points=\"173.39,-230.93 179.89,-244.43 166.39,-237.93 173.39,-230.93\"/>\n",
       "<text text-anchor=\"middle\" x=\"213.5\" y=\"-256.8\" font-family=\"Times New Roman,serif\" font-size=\"14.00\"> &#160;trip_id → trip_id</text>\n",
       "</g>\n",
       "</g>\n",
       "</svg>\n"
      ],
      "text/plain": [
       "<graphviz.graphs.Digraph at 0x1f1b1ed20d0>"
      ]
     },
     "execution_count": 33,
     "metadata": {},
     "output_type": "execute_result"
    }
   ],
   "source": [
    "sdv_metadata.visualize()"
   ]
  },
  {
   "cell_type": "code",
   "execution_count": 34,
   "id": "d4fcf6fb-1b5b-422d-aede-0a4d1502fbe3",
   "metadata": {},
   "outputs": [],
   "source": [
    "# sdv_metadata.add_relationship(\n",
    "#     parent_table_name='agency',\n",
    "#     child_table_name='routes',\n",
    "#     parent_primary_key='agency_id',\n",
    "#     child_foreign_key='agency_id'\n",
    "# )\n",
    "\n",
    "# sdv_metadata.add_relationship(\n",
    "#     parent_table_name='calendar',\n",
    "#     child_table_name='calendar_dates',\n",
    "#     parent_primary_key='service_id',\n",
    "#     child_foreign_key='service_id'\n",
    "# )\n",
    "\n",
    "# sdv_metadata.add_relationship(\n",
    "#     parent_table_name='calendar',\n",
    "#     child_table_name='trips',\n",
    "#     parent_primary_key='service_id',\n",
    "#     child_foreign_key='service_id'\n",
    "# )\n",
    "\n",
    "# sdv_metadata.add_relationship(\n",
    "#     parent_table_name='routes',\n",
    "#     child_table_name='trips',\n",
    "#     parent_primary_key='route_id',\n",
    "#     child_foreign_key='route_id'\n",
    "# )\n",
    "\n",
    "# sdv_metadata.add_relationship(\n",
    "#     parent_table_name='stops',\n",
    "#     child_table_name='stop_times',\n",
    "#     parent_primary_key='stop_id',\n",
    "#     child_foreign_key='stop_id'\n",
    "# )\n",
    "\n",
    "# sdv_metadata.add_relationship(\n",
    "#     parent_table_name='trips',\n",
    "#     child_table_name='stop_times',\n",
    "#     parent_primary_key='trip_id',\n",
    "#     child_foreign_key='trip_id'\n",
    "# )"
   ]
  },
  {
   "cell_type": "code",
   "execution_count": 35,
   "id": "8cce7b42-882d-4be6-b15c-3498609ec3c8",
   "metadata": {
    "scrolled": true,
    "tags": []
   },
   "outputs": [
    {
     "data": {
      "text/plain": [
       "[{'parent_table_name': 'agency',\n",
       "  'child_table_name': 'routes',\n",
       "  'parent_primary_key': 'agency_id',\n",
       "  'child_foreign_key': 'agency_id'},\n",
       " {'parent_table_name': 'calendar',\n",
       "  'child_table_name': 'calendar_dates',\n",
       "  'parent_primary_key': 'service_id',\n",
       "  'child_foreign_key': 'service_id'},\n",
       " {'parent_table_name': 'calendar',\n",
       "  'child_table_name': 'trips',\n",
       "  'parent_primary_key': 'service_id',\n",
       "  'child_foreign_key': 'service_id'},\n",
       " {'parent_table_name': 'routes',\n",
       "  'child_table_name': 'trips',\n",
       "  'parent_primary_key': 'route_id',\n",
       "  'child_foreign_key': 'route_id'},\n",
       " {'parent_table_name': 'stops',\n",
       "  'child_table_name': 'stop_times',\n",
       "  'parent_primary_key': 'stop_id',\n",
       "  'child_foreign_key': 'stop_id'},\n",
       " {'parent_table_name': 'trips',\n",
       "  'child_table_name': 'stop_times',\n",
       "  'parent_primary_key': 'trip_id',\n",
       "  'child_foreign_key': 'trip_id'}]"
      ]
     },
     "execution_count": 35,
     "metadata": {},
     "output_type": "execute_result"
    }
   ],
   "source": [
    "sdv_metadata.relationships"
   ]
  },
  {
   "cell_type": "markdown",
   "id": "e602c4aa-de3c-4d94-91c3-969439c59bb3",
   "metadata": {},
   "source": [
    "## Obtain Foreign Key Distribution"
   ]
  },
  {
   "cell_type": "code",
   "execution_count": 36,
   "id": "b7b2d863-4450-44d6-8667-cee4633da972",
   "metadata": {},
   "outputs": [],
   "source": [
    "# def get_distribution(array):\n",
    "#     unique_elements, counts = np.unique(array, return_counts=True)\n",
    "#     prob_distribution = counts / counts.sum()\n",
    "#     return unique_elements, prob_distribution"
   ]
  },
  {
   "cell_type": "code",
   "execution_count": 37,
   "id": "9975f421-179b-40ad-bf34-084d548a20a2",
   "metadata": {},
   "outputs": [],
   "source": [
    "# def get_cdf(array):\n",
    "#     cdf = KernelDensity(kernel='gaussian', bandwidth=0.5)\n",
    "#     cdf.fit(array.reshape(-1, 1))\n",
    "#     unique_elements = np.unique(array)\n",
    "#     return cdf, unique_elements"
   ]
  },
  {
   "cell_type": "code",
   "execution_count": 38,
   "id": "fe1f2bc6-554e-47ec-90a6-f7bcb55d15f1",
   "metadata": {},
   "outputs": [],
   "source": [
    "def get_cdf(array):\n",
    "    mean, std = np.mean(array), np.std(array)\n",
    "    cdf = norm(loc=mean, scale=std).cdf\n",
    "    unique_elements = np.unique(array)\n",
    "    return cdf, unique_elements"
   ]
  },
  {
   "cell_type": "code",
   "execution_count": 39,
   "id": "68e73ef7-4744-474a-a4e1-2d3cab8755ab",
   "metadata": {},
   "outputs": [],
   "source": [
    "def add_key_cdf(data_collection, metadata):\n",
    "    for df_name, content in metadata.items():\n",
    "        key_cdf = {}\n",
    "        if content['parent'] != {}:\n",
    "            for parent_df_name, fr_k in content['parent'].items():\n",
    "                cdf, unique_elements = get_cdf(data_collection[parent_df_name][fr_k].values)\n",
    "                key_cdf[fr_k] = {'cdf':cdf, 'unique_elements':unique_elements}\n",
    "        if content['is_sequential'] == True:\n",
    "            for additional_key in content['additional_key']:\n",
    "                cdf, unique_elements = get_cdf(data_collection[df_name][additional_key].values)\n",
    "                key_cdf[additional_key] = {'cdf':cdf, 'unique_elements':unique_elements}\n",
    "        metadata[df_name]['key_distribution'] = key_cdf"
   ]
  },
  {
   "cell_type": "code",
   "execution_count": 40,
   "id": "f83047da-39a5-4831-8c52-76ab3dd5a6cc",
   "metadata": {},
   "outputs": [],
   "source": [
    "add_key_cdf(real_data_collection, metadata)"
   ]
  },
  {
   "cell_type": "markdown",
   "id": "d8fa2e80-2ca0-4d2c-881d-94de5c331119",
   "metadata": {},
   "source": [
    "## Scaling"
   ]
  },
  {
   "cell_type": "code",
   "execution_count": 41,
   "id": "8846e997-fe62-44f4-9492-03ef527737f8",
   "metadata": {},
   "outputs": [],
   "source": [
    "def scale_individual_df(df):\n",
    "    scaler = StandardScaler()\n",
    "    scaler = scaler.fit(df)\n",
    "    scaled_df = pd.DataFrame(scaler.transform(df), columns = df.columns)\n",
    "    return scaled_df, scaler"
   ]
  },
  {
   "cell_type": "code",
   "execution_count": 42,
   "id": "03722b31-e0c5-43b2-afd5-9cacfde38268",
   "metadata": {},
   "outputs": [],
   "source": [
    "def extract_key_and_scaled_features(df, label_columns):\n",
    "    labels = df[label_columns]\n",
    "    table = df.drop(columns=label_columns)\n",
    "    table_column_names = table.columns\n",
    "    scaled_table, table_scaler = scale_individual_df(table)\n",
    "    scaled_labels, labels_scaler = scale_individual_df(labels)\n",
    "    return scaled_table, scaled_labels, table_scaler, labels_scaler, table_column_names"
   ]
  },
  {
   "cell_type": "code",
   "execution_count": 43,
   "id": "c140cf3f-8d9e-4df9-b1cc-984d95a9806a",
   "metadata": {},
   "outputs": [],
   "source": [
    "def batch_scaling(data_collection, metadata):\n",
    "    processed_data_collection = {}\n",
    "    backtransformation_dict = {}\n",
    "    for df_name, df in data_collection.items():\n",
    "        primary_key = []\n",
    "        foreign_key = []\n",
    "        if metadata[df_name]['primary_key'] != []:\n",
    "            primary_key = [metadata[df_name]['primary_key'][0]]\n",
    "        if metadata[df_name]['parent'] != {}:\n",
    "            foreign_key = list(metadata[df_name]['parent'].values())\n",
    "        if metadata[df_name]['is_sequential'] == True:\n",
    "            additional_key = list(metadata[df_name]['additional_key'])\n",
    "            label_columns = primary_key + foreign_key + additional_key\n",
    "        else:\n",
    "            label_columns = primary_key + foreign_key\n",
    "        table, labels, table_scaler, labels_scaler, table_columns = extract_key_and_scaled_features(df, label_columns)\n",
    "        processed_data_collection[df_name] = {'table':table,\n",
    "                                              'labels':labels}\n",
    "        backtransformation_dict[df_name] = {'table_scaler':table_scaler,\n",
    "                                       'labels_scaler':labels_scaler,\n",
    "                                       'table_col_names':table_columns,\n",
    "                                       'labels_col_names':label_columns,\n",
    "                                       'col_names':df.columns}\n",
    "    return processed_data_collection, backtransformation_dict"
   ]
  },
  {
   "cell_type": "code",
   "execution_count": 44,
   "id": "1722d31b-d5f0-4543-aad2-809933ae3f66",
   "metadata": {},
   "outputs": [],
   "source": [
    "processed_data_collection, backtransformation_dict = batch_scaling(real_data_collection, metadata)"
   ]
  },
  {
   "cell_type": "markdown",
   "id": "cd49eb54-1738-4599-874d-571ca5fdd9be",
   "metadata": {},
   "source": [
    "# Main GAN Algorithm"
   ]
  },
  {
   "cell_type": "markdown",
   "id": "5744d496-c6f4-4c88-a505-3b82acc3304b",
   "metadata": {},
   "source": [
    "## Additional Custom Function (Wasserstein Loss) (\\*Scrapped\\*)"
   ]
  },
  {
   "cell_type": "code",
   "execution_count": 45,
   "id": "f33fe30f-4133-4f04-ba15-b695c11c8fb6",
   "metadata": {},
   "outputs": [],
   "source": [
    "def wasserstein_loss(y_true, y_pred):\n",
    "    return backend.mean(y_true*y_pred)"
   ]
  },
  {
   "cell_type": "code",
   "execution_count": 46,
   "id": "0b3671ca-a536-49cf-bef3-6023a1d5497e",
   "metadata": {},
   "outputs": [],
   "source": [
    "class ClipConstraint(constraints.Constraint):\n",
    "    def __init__(self, clip_value):\n",
    "        self.clip_value = clip_value\n",
    "        \n",
    "    def __call__(self, weights):\n",
    "        return backend.clip(weights, -self.clip_value, self.clip_value)\n",
    "    \n",
    "    def get_config(self):\n",
    "        return {'clip_value': self.clip_value}"
   ]
  },
  {
   "cell_type": "markdown",
   "id": "7d64966e-d261-41f4-92b1-0d979c9deceb",
   "metadata": {},
   "source": [
    "## Define Plotting Function For G/D Loss"
   ]
  },
  {
   "cell_type": "code",
   "execution_count": 47,
   "id": "558eca6b-dc6e-45a4-a77d-5a2139ef78b2",
   "metadata": {},
   "outputs": [],
   "source": [
    "import matplotlib.pyplot as plt\n",
    "\n",
    "def plot_history(logs):\n",
    "    n = len(logs)\n",
    "    n_rows = (n + 2) // 3\n",
    "\n",
    "    fig, axes = plt.subplots(n_rows, 3, figsize=(15, 5 * n_rows))\n",
    "    axes = axes.flatten()\n",
    "\n",
    "    for i, (model_name, generator_log, discriminator_log) in enumerate(logs):\n",
    "        axes[i].plot(generator_log, label='gen')\n",
    "        axes[i].plot(discriminator_log, label='d')\n",
    "        axes[i].legend()\n",
    "        axes[i].set_title(model_name)\n",
    "\n",
    "    for i in range(n, n_rows * 3):\n",
    "        axes[i].remove()\n",
    "\n",
    "    plt.tight_layout()\n",
    "    plt.show()\n",
    "    plt.close()"
   ]
  },
  {
   "cell_type": "markdown",
   "id": "8134ba08-ad73-4d99-ae5d-a14e73c5a9d6",
   "metadata": {},
   "source": [
    "## (!) Define Main Generator, Discriminator"
   ]
  },
  {
   "cell_type": "markdown",
   "id": "477cc3d3-4ced-4f5e-9a64-38aca83d77d5",
   "metadata": {},
   "source": [
    "## Normal"
   ]
  },
  {
   "cell_type": "code",
   "execution_count": 48,
   "id": "96d53099-c234-40c6-ad10-ede92dbe47ac",
   "metadata": {},
   "outputs": [],
   "source": [
    "def build_generator(table_dim, labels_dim, latent_dim=50):\n",
    "    noise_input = layers.Input(shape=(latent_dim,))\n",
    "    labels_input = layers.Input(shape=(labels_dim,))\n",
    "    merge_input = layers.Concatenate()([noise_input, labels_input])\n",
    "    bn_layer1 = layers.BatchNormalization()(merge_input)\n",
    "    hidden_layer1 = layers.Dense(256,activation='LeakyReLU',kernel_initializer='random_normal')(bn_layer1)\n",
    "    bn_layer2 = layers.BatchNormalization()(hidden_layer1)\n",
    "    hidden_layer2 = layers.Dense(512,activation='LeakyReLU',kernel_initializer='random_normal')(bn_layer2)\n",
    "    bn_layer3 = layers.BatchNormalization()(hidden_layer2)\n",
    "    hidden_layer3 = layers.Dense(1024,activation='LeakyReLU',kernel_initializer='random_normal')(bn_layer3)\n",
    "    bn_layer4 = layers.BatchNormalization()(hidden_layer3)\n",
    "    output_layer = layers.Dense(table_dim, activation='sigmoid',kernel_initializer='random_normal')(bn_layer4)\n",
    "    generator = models.Model([noise_input, labels_input], output_layer)\n",
    "    return generator"
   ]
  },
  {
   "cell_type": "code",
   "execution_count": 49,
   "id": "52d62f5a-2c81-424d-ad94-680d07d463c4",
   "metadata": {
    "tags": []
   },
   "outputs": [],
   "source": [
    "def build_discriminator(table_dim, labels_dim, optimization_rate=0.0001):\n",
    "    opt = optimizers.Adam(optimization_rate)\n",
    "    table_input = layers.Input(shape=(table_dim,))\n",
    "    labels_input = layers.Input(shape=(labels_dim,))\n",
    "    merge_input = layers.Concatenate()([table_input, labels_input])\n",
    "    bn_layer1 = layers.BatchNormalization()(merge_input)\n",
    "    hidden_layer1 = layers.Dense(1024,activation='LeakyReLU',kernel_initializer='random_normal')(bn_layer1)\n",
    "    bn_layer2 = layers.BatchNormalization()(hidden_layer1)\n",
    "    hidden_layer2 = layers.Dense(512,activation='LeakyReLU',kernel_initializer='random_normal')(bn_layer2)\n",
    "    bn_layer3 = layers.BatchNormalization()(hidden_layer2)\n",
    "    hidden_layer3 = layers.Dense(256,activation='LeakyReLU',kernel_initializer='random_normal')(bn_layer3)\n",
    "    bn_layer4 = layers.BatchNormalization()(hidden_layer3)\n",
    "    output_layer = layers.Dense(1, activation='sigmoid',kernel_initializer='random_normal')(bn_layer4)\n",
    "    discriminator = models.Model([table_input, labels_input], output_layer)\n",
    "    discriminator.compile(loss='binary_crossentropy', optimizer=opt, metrics=['accuracy'])\n",
    "    return discriminator"
   ]
  },
  {
   "cell_type": "markdown",
   "id": "d2036dbe-c10c-4439-86d7-fb956709488e",
   "metadata": {},
   "source": [
    "## Sequential (GRU)"
   ]
  },
  {
   "cell_type": "code",
   "execution_count": 50,
   "id": "e19179e8-743b-4ed1-a0b6-c00d21426346",
   "metadata": {},
   "outputs": [],
   "source": [
    "def build_sequential_generator(table_dim, labels_dim, latent_dim=50):\n",
    "    # init = initializers.GlorotUniform(seed=123)\n",
    "    noise_input = layers.Input(shape=(latent_dim,))\n",
    "    labels_input = layers.Input(shape=(labels_dim,))\n",
    "    merge_input = layers.Concatenate()([noise_input, labels_input])\n",
    "    reshaped_input = layers.Reshape((1, -1))(merge_input)\n",
    "    bn_layer1 = layers.BatchNormalization()(reshaped_input)\n",
    "    gru1 = layers.LSTM(256, activation='LeakyReLU', return_sequences=True,kernel_initializer='random_normal')(bn_layer1)\n",
    "    gru2 = layers.LSTM(256, activation='LeakyReLU', return_sequences=True,kernel_initializer='random_normal')(gru1)\n",
    "    gru3 = layers.LSTM(256, activation='LeakyReLU', return_sequences=False,kernel_initializer='random_normal')(gru2)\n",
    "    bn_layer2 = layers.BatchNormalization()(gru3)\n",
    "    output_layer = layers.Dense(table_dim, activation='sigmoid',kernel_initializer='random_normal')(bn_layer2)\n",
    "    generator = models.Model([noise_input, labels_input], output_layer)\n",
    "    return generator"
   ]
  },
  {
   "cell_type": "code",
   "execution_count": 51,
   "id": "501d8a73-3eeb-4ec0-917a-7a90ab3435fa",
   "metadata": {},
   "outputs": [],
   "source": [
    "def build_sequential_discriminator(table_dim, labels_dim, optimization_rate=0.0001):\n",
    "    opt = optimizers.Adam(optimization_rate)\n",
    "    # init = initializers.GlorotUniform(seed=123)\n",
    "    table_input = layers.Input(shape=(table_dim,))\n",
    "    labels_input = layers.Input(shape=(labels_dim,))\n",
    "    merge_input = layers.Concatenate()([table_input, labels_input])\n",
    "    reshaped_input = layers.Reshape((1, -1))(merge_input)\n",
    "    bn_layer1 = layers.BatchNormalization()(reshaped_input)\n",
    "    gru1 = layers.LSTM(256, activation='LeakyReLU', return_sequences=True,kernel_initializer='random_normal')(bn_layer1)\n",
    "    gru2 = layers.LSTM(256, activation='LeakyReLU', return_sequences=True,kernel_initializer='random_normal')(gru1)\n",
    "    gru3 = layers.LSTM(256, activation='LeakyReLU', return_sequences=False,kernel_initializer='random_normal')(gru2)\n",
    "    bn_layer2 = layers.BatchNormalization()(gru3)\n",
    "    output_layer = layers.Dense(1, activation='sigmoid',kernel_initializer='random_normal')(bn_layer2)\n",
    "    discriminator = models.Model([table_input, labels_input], output_layer)\n",
    "    discriminator.compile(loss='binary_crossentropy', optimizer=opt, metrics=['accuracy'])\n",
    "    return discriminator"
   ]
  },
  {
   "cell_type": "code",
   "execution_count": 52,
   "id": "931b95ef-fb22-48bb-aff3-e7886fc5f34e",
   "metadata": {
    "tags": []
   },
   "outputs": [],
   "source": [
    "# def build_critic(table_dim, labels_dim, constraint_rate=0.01, optimization_rate=0.00005):\n",
    "#     clip_const = ClipConstraint(constraint_rate)\n",
    "#     rms_opt = optimizers.RMSprop(optimization_rate)\n",
    "#     init = initializers.RandomUniform(minval=-1, maxval=1, seed=123)\n",
    "#     table_input = layers.Input(shape=(table_dim,))\n",
    "#     labels_input = layers.Input(shape=(labels_dim,))\n",
    "#     merge_input = layers.Concatenate()([table_input, labels_input])\n",
    "#     bn_layer1 = layers.BatchNormalization()(merge_input)\n",
    "#     hidden_layer1 = layers.Dense(128,activation='LeakyReLU',kernel_initializer=init)(bn_layer1)\n",
    "#     reshape_layer = layers.Reshape((4, 32))(hidden_layer1)\n",
    "#     conv1 = layers.Conv1D(64,\n",
    "#                           kernel_size=4,\n",
    "#                           strides=2,\n",
    "#                           padding=\"same\",\n",
    "#                           kernel_constraint=clip_const,\n",
    "#                           activation=\"LeakyReLU\")(reshape_layer)\n",
    "#     conv2 = layers.Conv1D(32,\n",
    "#                           kernel_size=4,\n",
    "#                           strides=2,\n",
    "#                           padding=\"same\",\n",
    "#                           kernel_constraint=clip_const,\n",
    "#                           activation=\"LeakyReLU\")(conv1)\n",
    "#     bn_layer2 = layers.BatchNormalization()(conv2)\n",
    "#     output_layer = layers.Dense(1, activation='linear')(bn_layer2)\n",
    "#     discriminator = models.Model([table_input, labels_input], output_layer)\n",
    "#     discriminator.compile(loss=wasserstein_loss, optimizer=rms_opt)\n",
    "#     return discriminator"
   ]
  },
  {
   "cell_type": "markdown",
   "id": "ff1dd590-15ff-4c1d-be39-c9c640e65de4",
   "metadata": {},
   "source": [
    "## Build GAN"
   ]
  },
  {
   "cell_type": "code",
   "execution_count": 53,
   "id": "07e822d9-2e5a-4e25-b946-eaeb8f3bbaab",
   "metadata": {},
   "outputs": [],
   "source": [
    "def build_gan(generator, discriminator, optimization_rate=0.0001):\n",
    "    discriminator.trainable = False\n",
    "    opt = optimizers.Adam(optimization_rate)\n",
    "    noise_input = layers.Input(shape=(generator.input_shape[0][1],))\n",
    "    labels_input = layers.Input(shape=(generator.input_shape[1][1],))\n",
    "    generator_output = generator([noise_input, labels_input])\n",
    "    discriminator_output = discriminator([generator_output, labels_input])\n",
    "    gan = models.Model(inputs=[noise_input, labels_input], outputs=discriminator_output)\n",
    "    gan.compile(optimizer=opt, loss='binary_crossentropy')\n",
    "    return gan"
   ]
  },
  {
   "cell_type": "markdown",
   "id": "6dd2b8d7-5798-490f-bf13-8233ef51b8d3",
   "metadata": {},
   "source": [
    "## Define Training Strategy"
   ]
  },
  {
   "cell_type": "code",
   "execution_count": 54,
   "id": "8c39aa00-6c56-4ad7-97d3-e6c3d98cb67c",
   "metadata": {},
   "outputs": [],
   "source": [
    "def train_individual_gan(name, real_table, real_labels, n_discriminator=5, epochs=50, batch_size=400, latent_dim=50, seed=123, return_logs=True):\n",
    "    rand_seed = seed\n",
    "    half_batch = int(batch_size/2)\n",
    "    class_counts = real_labels.nunique().tolist()\n",
    "    generator = build_generator(real_table.shape[1], real_labels.shape[1], latent_dim=latent_dim)\n",
    "    discriminator = build_discriminator(real_table.shape[1], real_labels.shape[1])\n",
    "    gan = build_gan(generator, discriminator)\n",
    "    y_real = np.ones((half_batch, 1))\n",
    "    y_fake = np.zeros((half_batch, 1))\n",
    "    y_gan = np.zeros((batch_size, 1))\n",
    "    \n",
    "    if return_logs:\n",
    "        generator_logs = []\n",
    "        discriminator_logs = []\n",
    "    \n",
    "    for epoch in range(epochs):\n",
    "        np.random.seed(rand_seed)\n",
    "        start_time = time.time()\n",
    "        d_loss = []\n",
    "        # train critic:\n",
    "        for _ in range(n_discriminator):\n",
    "            idx = np.random.randint(0, real_table.shape[0], half_batch)\n",
    "            noise = np.random.normal(0, 1, (half_batch, latent_dim))\n",
    "            x_real_labels = real_labels.iloc[idx]\n",
    "            x_real_table = real_table.iloc[idx]\n",
    "            x_fake_labels = np.random.normal(0, 1, (half_batch, real_labels.shape[1]))\n",
    "            # x_fake_labels = np.column_stack([np.random.randint(0, class_counts, size=half_batch) for class_counts in class_counts])\n",
    "            x_fake_table = generator.predict([noise, x_fake_labels])\n",
    "            d_loss_real, _ = discriminator.train_on_batch([x_real_table, x_real_labels], y_real)\n",
    "            d_loss_fake, _ = discriminator.train_on_batch([x_fake_table, x_fake_labels], y_fake)\n",
    "            d_loss.append(0.5 * np.add(d_loss_real, d_loss_fake))\n",
    "            rand_seed += 1\n",
    "            \n",
    "        d_loss = np.mean(d_loss)\n",
    "        # train generator/GAN\n",
    "        x_gan = np.random.normal(0, 1, (batch_size, latent_dim))\n",
    "        x_fake_labels = np.random.normal(0, 1, (batch_size, real_labels.shape[1]))\n",
    "        # x_fake_labels = np.column_stack([np.random.randint(0, class_counts, size=batch_size) for class_counts in class_counts])\n",
    "        g_loss = gan.train_on_batch([x_gan, x_fake_labels], y_gan)\n",
    "        \n",
    "        if return_logs:\n",
    "            generator_logs.append(g_loss)\n",
    "            discriminator_logs.append(d_loss)\n",
    "            \n",
    "        elapsed_time = time.time() - start_time\n",
    "        it_per_s = 1 / elapsed_time\n",
    "        \n",
    "        if epoch % 10 == 0:\n",
    "            print(f\"[Epoch: {epoch}] [D loss: {np.round(d_loss, 3)}] [G loss: {np.round(g_loss, 3)}] [Speed: {round(it_per_s, 2)} it/s]\")\n",
    "        \n",
    "        rand_seed += 1\n",
    "        \n",
    "    generator.save('models/'+name+'_gen.h5')\n",
    "    # gan.save('models/'+name+'_gan.h5')\n",
    "    # critic.save('models/'+name+'_critic.h5')\n",
    "    \n",
    "    if return_logs:\n",
    "        return generator_logs, discriminator_logs"
   ]
  },
  {
   "cell_type": "code",
   "execution_count": 55,
   "id": "df2c2ba1-bdb9-44c7-8ff7-6f89ffc513d3",
   "metadata": {},
   "outputs": [],
   "source": [
    "def train_individual_sequential_gan(name, real_table, real_labels, sort_order, n_discriminator=5, epochs=50, batch_size=400, latent_dim=50, seed=123, return_logs=True):\n",
    "    rand_seed = seed\n",
    "    half_batch = int(batch_size/2)\n",
    "    class_counts = real_labels.nunique().tolist()\n",
    "    sort_indexes = [real_labels.columns.get_loc(col) for col in sort_order]\n",
    "    generator = build_sequential_generator(real_table.shape[1], real_labels.shape[1], latent_dim=latent_dim)\n",
    "    discriminator = build_sequential_discriminator(real_table.shape[1], real_labels.shape[1])\n",
    "    gan = build_gan(generator, discriminator)\n",
    "    y_real = np.ones((half_batch, 1))\n",
    "    y_fake = np.zeros((half_batch, 1))\n",
    "    y_gan = np.zeros((batch_size, 1))\n",
    "    \n",
    "    if return_logs:\n",
    "        generator_logs = []\n",
    "        discriminator_logs = []\n",
    "    \n",
    "    for epoch in range(epochs):\n",
    "        np.random.seed(rand_seed)\n",
    "        start_time = time.time()\n",
    "        d_loss = []\n",
    "        \n",
    "        # train critic:\n",
    "        for _ in range(n_discriminator):\n",
    "            half_samp_size = min(half_batch, real_table.shape[0])\n",
    "            idx = random.randint(0, real_table.shape[0]-half_samp_size)\n",
    "            noise = np.random.normal(0, 1, (half_samp_size, latent_dim))\n",
    "            x_real_labels = real_labels.iloc[idx:(idx+half_samp_size)]\n",
    "            x_real_table = real_table.iloc[idx:(idx + half_samp_size)]\n",
    "            x_fake_labels = np.random.normal(0, 1, (half_samp_size, real_labels.shape[1]))\n",
    "            x_fake_labels = x_fake_labels[x_fake_labels[:, sort_indexes[0]].argsort()]\n",
    "            for col_idx in sort_indexes[1:]:\n",
    "                x_fake_labels = x_fake_labels[x_fake_labels[:, col_idx].argsort(kind='mergesort')]\n",
    "            x_fake_table = generator.predict([noise, x_fake_labels])\n",
    "            d_loss_real, _ = discriminator.train_on_batch([x_real_table, x_real_labels], y_real)\n",
    "            d_loss_fake, _ = discriminator.train_on_batch([x_fake_table, x_fake_labels], y_fake)\n",
    "            d_loss.append(0.5 * np.add(d_loss_real, d_loss_fake))\n",
    "            rand_seed += 1\n",
    "        \n",
    "        d_loss = np.mean(d_loss)\n",
    "        # train generator/GAN\n",
    "        samp_size = min(batch_size, real_table.shape[0])\n",
    "        x_gan = np.random.normal(0, 1, (samp_size, latent_dim))\n",
    "        x_fake_labels = np.random.normal(0, 1, (samp_size, real_labels.shape[1]))\n",
    "        x_fake_labels = x_fake_labels[x_fake_labels[:, sort_indexes[0]].argsort()]\n",
    "        for col_idx in sort_indexes[1:]:\n",
    "            x_fake_labels = x_fake_labels[x_fake_labels[:, col_idx].argsort(kind='mergesort')]\n",
    "        g_loss = gan.train_on_batch([x_gan, x_fake_labels], y_gan)\n",
    "        \n",
    "        if return_logs:\n",
    "            generator_logs.append(g_loss)\n",
    "            discriminator_logs.append(d_loss)\n",
    "            \n",
    "        elapsed_time = time.time() - start_time\n",
    "        it_per_s = 1 / elapsed_time\n",
    "        \n",
    "        if epoch % 10 == 0:\n",
    "            print(f\"[Epoch: {epoch}] [D loss: {np.round(d_loss, 3)}] [G loss: {np.round(g_loss, 3)}] [Speed: {round(it_per_s, 2)} it/s]\")\n",
    "        \n",
    "        rand_seed += 1\n",
    "        \n",
    "    generator.save('models/'+name+'_gen.h5')\n",
    "    # gan.save('models/'+name+'_gan.h5')\n",
    "    # critic.save('models/'+name+'_critic.h5')\n",
    "    \n",
    "    if return_logs:\n",
    "        return generator_logs, discriminator_logs"
   ]
  },
  {
   "cell_type": "code",
   "execution_count": 56,
   "id": "8ffe38c7-2d8e-4cfd-a7be-90b9f7804895",
   "metadata": {},
   "outputs": [],
   "source": [
    "def collection_training(processed_collection, metadata, training_parameter_dict):\n",
    "    logs = []\n",
    "    init_time = time.time()\n",
    "    for df_name, content in processed_collection.items():\n",
    "        start_time = time.time()\n",
    "        print(f'Learning \\\"{df_name}\\\" data......')\n",
    "        latent_dim = 100\n",
    "        if metadata[df_name]['is_sequential'] == True:\n",
    "            generator_log, critic_log = train_individual_sequential_gan(df_name,\n",
    "                                                                        content['table'],\n",
    "                                                                        content['labels'],\n",
    "                                                                        metadata[df_name]['sort_order'],\n",
    "                                                                        epochs=training_parameter_dict[df_name]['epochs'],\n",
    "                                                                        latent_dim = latent_dim,\n",
    "                                                                        return_logs=True)\n",
    "        else:\n",
    "            generator_log, critic_log = train_individual_gan(df_name,\n",
    "                                                             content['table'],\n",
    "                                                             content['labels'],\n",
    "                                                             epochs=training_parameter_dict[df_name]['epochs'],\n",
    "                                                             latent_dim = latent_dim,\n",
    "                                                             return_logs=True)\n",
    "        in_loop_elapsed_time = time.time() - start_time\n",
    "        minutes, seconds = divmod(in_loop_elapsed_time, 60)\n",
    "        print(\"Time Used: %dm %ds\" % (minutes, seconds))\n",
    "        print('.')\n",
    "        print('.')\n",
    "        logs.append([df_name, generator_log, critic_log])\n",
    "    plot_history(logs)\n",
    "    total_elapsed_time = time.time() - init_time\n",
    "    minutes, seconds = divmod(total_elapsed_time, 60)\n",
    "    print(\"Total Time Used: %dm %ds\" % (minutes, seconds))"
   ]
  },
  {
   "cell_type": "markdown",
   "id": "df30c126-718f-4fb8-9e1f-788856cb0409",
   "metadata": {
    "tags": []
   },
   "source": [
    "## Train GAN"
   ]
  },
  {
   "cell_type": "code",
   "execution_count": 57,
   "id": "cfb636db-3776-4dcb-a3e8-b0296fe949ca",
   "metadata": {},
   "outputs": [],
   "source": [
    "# training_parameter_dict = {}\n",
    "# for df_name, content in processed_data_collection.items():\n",
    "#     nrows = content['table'].shape[0]\n",
    "#     # training_parameter_dict[df_name] = {'epochs':500}\n",
    "#     if nrows <= 100:\n",
    "#         training_parameter_dict[df_name] = {'epochs':50}\n",
    "#     elif nrows <= 10000:\n",
    "#         training_parameter_dict[df_name] = {'epochs':50}\n",
    "#     else:\n",
    "#         training_parameter_dict[df_name] = {'epochs':50}"
   ]
  },
  {
   "cell_type": "code",
   "execution_count": 58,
   "id": "ca6f578d-376b-4961-8408-513aad35d5cb",
   "metadata": {},
   "outputs": [],
   "source": [
    "# training_parameter_dict = {'agency': {'epochs': 60,'is_sequential':False},\n",
    "#                            'calendar': {'epochs': 100,'is_sequential':False},\n",
    "#                            'calendar_dates': {'epochs': 100,'is_sequential':True},\n",
    "#                            'routes': {'epochs': 100,'is_sequential':False},\n",
    "#                            'stops': {'epochs': 80,'is_sequential':False},\n",
    "#                            'stop_times': {'epochs': 100,'is_sequential':True},\n",
    "#                            'trips': {'epochs': 100,'is_sequential':False}}"
   ]
  },
  {
   "cell_type": "code",
   "execution_count": 59,
   "id": "5a3a0d44-789f-4b0f-9b61-3890a7e5fc50",
   "metadata": {},
   "outputs": [],
   "source": [
    "training_parameter_dict = {'agency': {'epochs': 10,'is_sequential':False},\n",
    "                           'calendar': {'epochs': 10,'is_sequential':False},\n",
    "                           'calendar_dates': {'epochs': 10,'is_sequential':True},\n",
    "                           'routes': {'epochs': 10,'is_sequential':False},\n",
    "                           'stops': {'epochs': 10,'is_sequential':False},\n",
    "                           'stop_times': {'epochs': 10,'is_sequential':True},\n",
    "                           'trips': {'epochs': 10,'is_sequential':False}}"
   ]
  },
  {
   "cell_type": "code",
   "execution_count": 60,
   "id": "460d4f25-0081-4232-a6c0-1e520da7a6de",
   "metadata": {
    "scrolled": true,
    "tags": []
   },
   "outputs": [
    {
     "name": "stdout",
     "output_type": "stream",
     "text": [
      "Learning \"agency\" data......\n",
      "[Epoch: 0] [D loss: 0.712] [G loss: 0.69] [Speed: 0.34 it/s]\n",
      "Time Used: 0m 7s\n",
      ".\n",
      ".\n",
      "Learning \"calendar\" data......\n",
      "[Epoch: 0] [D loss: 0.72] [G loss: 0.72] [Speed: 0.42 it/s]\n",
      "Time Used: 0m 6s\n",
      ".\n",
      ".\n",
      "Learning \"calendar_dates\" data......\n",
      "[Epoch: 0] [D loss: 0.693] [G loss: 0.694] [Speed: 0.13 it/s]\n",
      "Time Used: 0m 13s\n",
      ".\n",
      ".\n",
      "Learning \"routes\" data......\n",
      "[Epoch: 0] [D loss: 0.711] [G loss: 0.69] [Speed: 0.37 it/s]\n",
      "Time Used: 0m 7s\n",
      ".\n",
      ".\n",
      "Learning \"stops\" data......\n",
      "[Epoch: 0] [D loss: 0.714] [G loss: 0.713] [Speed: 0.41 it/s]\n",
      "Time Used: 0m 6s\n",
      ".\n",
      ".\n",
      "Learning \"stop_times\" data......\n",
      "[Epoch: 0] [D loss: 0.693] [G loss: 0.694] [Speed: 0.13 it/s]\n",
      "Time Used: 0m 13s\n",
      ".\n",
      ".\n",
      "Learning \"trips\" data......\n",
      "[Epoch: 0] [D loss: 0.721] [G loss: 0.697] [Speed: 0.37 it/s]\n",
      "Time Used: 0m 7s\n",
      ".\n",
      ".\n"
     ]
    },
    {
     "data": {
      "image/png": "[encoded data removed]",
      "text/plain": [
       "<Figure size 1500x1500 with 7 Axes>"
      ]
     },
     "metadata": {},
     "output_type": "display_data"
    },
    {
     "name": "stdout",
     "output_type": "stream",
     "text": [
      "Total Time Used: 1m 3s\n",
      "CPU times: total: 1min 13s\n",
      "Wall time: 1min 3s\n"
     ]
    }
   ],
   "source": [
    "%%time\n",
    "\n",
    "collection_training(processed_data_collection, metadata, training_parameter_dict)"
   ]
  },
  {
   "cell_type": "markdown",
   "id": "37613df5-a0f7-4158-90e9-39c2f683bb49",
   "metadata": {},
   "source": [
    "# Synthetic Data Generation"
   ]
  },
  {
   "cell_type": "code",
   "execution_count": 61,
   "id": "d8ddd453-c6bc-4c39-9b68-b696eb95f2d3",
   "metadata": {},
   "outputs": [],
   "source": [
    "# table_name:\n",
    "# {'table':table, # df\n",
    "#  'labels':labels, # df\n",
    "#  'scaler':scaler, # a scaler object\n",
    "#  'table_col_names':table_columns, # list of col names\n",
    "#  'label_col_names':label_columns, # list of col names\n",
    "#  'metadata':metadata[df_name]} # a metadata dict (see below)\n",
    "\n",
    "# metadata\n",
    "# {'primary_key':primary_key, # list, [column names, number_of_unique_ids]\n",
    "#  'parent':parent, # dict, {parent_name:shared_id_column_name, ...}\n",
    "#  'child':child} # str, child_name"
   ]
  },
  {
   "cell_type": "code",
   "execution_count": 62,
   "id": "07ad6ba0-ff4e-404f-8196-c02fdfba9b70",
   "metadata": {},
   "outputs": [],
   "source": [
    "# def generate_individual_synth_data(generator, labels, seed=123):\n",
    "#     pass"
   ]
  },
  {
   "cell_type": "code",
   "execution_count": 63,
   "id": "16429b29-07a9-43f1-8f28-7bff3b3ae1b8",
   "metadata": {},
   "outputs": [],
   "source": [
    "# def resample_array(array, size):\n",
    "#     og_size = len(array)\n",
    "#     x_og = np.linspace(0, 1, og_size)\n",
    "#     x_new = np.linspace(0, 1, size)\n",
    "#     array_resampled = np.interp(x_new, x_og, array)\n",
    "#     return array_resampled.astype(int)"
   ]
  },
  {
   "cell_type": "code",
   "execution_count": 64,
   "id": "6c470948-4cb7-4dcb-a1ec-88c7ccb2e546",
   "metadata": {},
   "outputs": [],
   "source": [
    "# def generate_new_array(size, unique_elements, prob_distribution):\n",
    "#     new_array = np.random.choice(unique_elements, size=size, p=prob_distribution)\n",
    "#     return new_array"
   ]
  },
  {
   "cell_type": "code",
   "execution_count": 65,
   "id": "d4760a17-bcbe-4a4d-b729-3b07e655c50c",
   "metadata": {},
   "outputs": [],
   "source": [
    "# def generate_synth_data_collection(processed_data_collection, sdv_metadata, generation_dict, latent_dim=50, seed=123):\n",
    "#     np.random.seed(seed)\n",
    "#     synthetic_data_collection = {}\n",
    "#     features_to_ignore_rounding = ['shape_pt_lat',\n",
    "#                       'shape_pt_lon',\n",
    "#                       'stop_lat',\n",
    "#                       'stop_lon',\n",
    "#                      'shape_dist_traveled']\n",
    "#     for df_name, content in processed_data_collection.items():\n",
    "#         generator = models.load_model('models/'+df_name+'_gen.h5')\n",
    "#         primary_key = content['metadata']['primary_key']\n",
    "#         child = content['metadata']['child']\n",
    "#         parent = content['metadata']['parent']\n",
    "#         fake_labels_df_dict = {}\n",
    "#         if primary_key != []:\n",
    "#             primary_key_col = primary_key[0]\n",
    "#             n_primary_keys = generation_dict[df_name]['nrows']\n",
    "#             fake_labels_df_dict[primary_key_col] = np.arange(n_primary_keys).tolist()\n",
    "#         if parent != {}:\n",
    "#             for parent_df_name, fr_key in parent.items():\n",
    "                \n",
    "#                 nrows = generation_dict[df_name]['nrows']\n",
    "#                 unique_id = content['metadata']['key_distribution'][fr_key]['unique_values']\n",
    "#                 distribution = content['metadata']['key_distribution'][fr_key]['pdf']\n",
    "#                 fake_labels_df_dict[fr_key] = generate_new_array(nrows, unique_id, distribution)\n",
    "                \n",
    "#                 # length = generation_dict[df_name]['nrows']\n",
    "#                 # parent_df = processed_data_collection[parent_df_name]['labels'][fr_key]\n",
    "#                 # fake_labels_df_dict[fr_key] = resample_array(parent_df, length)\n",
    "                \n",
    "#                 # length = generation_dict[df_name]['nrows']\n",
    "#                 # parent_df = processed_data_collection[parent_df_name]\n",
    "#                 # cdf = gaussian_cdf(parent_df['labels'][fr_key].to_numpy())\n",
    "#                 # lower_bound = parent_df['labels'][fr_key].min()\n",
    "#                 # upper_bound = parent_df['labels'][fr_key].max()\n",
    "#                 # fake_array = cdf.resample(length).flatten()\n",
    "#                 # fake_labels_df_dict[fr_key] = np.round(fake_array).clip(lower_bound, upper_bound).astype(int)\n",
    "                \n",
    "#                 # n_foreign_primary_keys = generation_dict[parent_df_name]['nrows']\n",
    "#                 # length = generation_dict[df_name]['nrows']\n",
    "#                 # fake_labels_df_dict[fr_key] = np.random.randint(0, n_foreign_primary_keys, length).tolist()\n",
    "        \n",
    "#         if content['metadata']['is_sequential'] == True:\n",
    "#             for additional_key in content['metadata']['additional_key']:\n",
    "#                 nrows = generation_dict[df_name]['nrows']\n",
    "#                 unique_id = content['metadata']['key_distribution'][additional_key]['unique_values']\n",
    "#                 distribution = content['metadata']['key_distribution'][additional_key]['pdf']\n",
    "#                 fake_labels_df_dict[additional_key] = generate_new_array(nrows, unique_id, distribution)\n",
    "        \n",
    "#         fake_labels_df = pd.DataFrame(fake_labels_df_dict).reindex(columns=content['labels_col_names'])\n",
    "#         if content['metadata']['is_sequential'] == True:\n",
    "#             fake_labels_df = fake_labels_df.sort_values(by=content['metadata']['sort_order'])\n",
    "#         scaled_fake_labels_df = pd.DataFrame(content['labels_scaler'].transform(fake_labels_df), columns=content['labels_col_names'])\n",
    "#         latent_dim = (content['table'].shape[1] + content['labels'].shape[1]) * content['labels'].shape[1]\n",
    "#         noise = np.random.uniform(-1, 1, size=(generation_dict[df_name]['nrows'], latent_dim))\n",
    "#         raw_fake_table = generator.predict([noise, scaled_fake_labels_df])\n",
    "#         scaled_fake_table = content['table_scaler'].inverse_transform(raw_fake_table)\n",
    "#         fake_table_df = pd.DataFrame(scaled_fake_table, columns=content['table_col_names'])\n",
    "#         fake_data = pd.concat([fake_labels_df, fake_table_df], axis=1)\n",
    "        \n",
    "#         columns_to_int = [col for col in fake_data.columns if col not in features_to_ignore_rounding]\n",
    "#         for col in columns_to_int:\n",
    "#             fake_data[col] = fake_data[col].astype(int)\n",
    "                \n",
    "#         synthetic_data_collection[df_name] = fake_data\n",
    "        \n",
    "#     return synthetic_data_collection"
   ]
  },
  {
   "cell_type": "code",
   "execution_count": 66,
   "id": "adf5e352-002e-44e8-aa64-aee324825ee7",
   "metadata": {},
   "outputs": [],
   "source": [
    "# def generate_new_array(cdf, unique_elements, num_unique_elements=None, size=20):\n",
    "#     if num_unique_elements is None:\n",
    "#         new_unique_elements = unique_elements\n",
    "#     else:\n",
    "#         new_unique_elements = np.arange(num_unique_elements)\n",
    "#     log_prob_distribution = cdf.score_samples(new_unique_elements.reshape(-1, 1))\n",
    "#     prob_distribution = np.exp(log_prob_distribution)\n",
    "#     prob_distribution /= prob_distribution.sum()\n",
    "#     new_array = np.random.choice(new_unique_elements, size=size, p=prob_distribution)\n",
    "#     return new_array"
   ]
  },
  {
   "cell_type": "code",
   "execution_count": 67,
   "id": "50353442-a437-4acf-9844-80bff6bc9330",
   "metadata": {},
   "outputs": [],
   "source": [
    "def generate_new_array(cdf, unique_elements, num_unique_elements=None, size=20):\n",
    "    if num_unique_elements is None:\n",
    "        new_unique_elements = unique_elements\n",
    "    else:\n",
    "        new_unique_elements = np.arange(num_unique_elements)\n",
    "    cdf_values = cdf(new_unique_elements)\n",
    "    cdf_values = np.insert(cdf_values, 0, 0)\n",
    "    prob_distribution = np.diff(cdf_values)\n",
    "    prob_distribution /= prob_distribution.sum()\n",
    "    new_array = np.random.choice(new_unique_elements, size=size, p=prob_distribution)\n",
    "    return new_array"
   ]
  },
  {
   "cell_type": "code",
   "execution_count": 68,
   "id": "7926ee0f-cac2-4ea9-9852-a36b9d86daa8",
   "metadata": {
    "tags": []
   },
   "outputs": [],
   "source": [
    "def generate_synth_data_collection(metadata, generation_dict, backtransformation_dict, latent_dim=100, seed=123):\n",
    "    np.random.seed(seed)\n",
    "    synthetic_data_collection = {}\n",
    "    features_to_ignore_rounding = ['shape_pt_lat',\n",
    "                      'shape_pt_lon',\n",
    "                      'stop_lat',\n",
    "                      'stop_lon',\n",
    "                     'shape_dist_traveled']\n",
    "    for df_name, content in metadata.items():\n",
    "        generator = models.load_model('models/'+df_name+'_gen.h5')\n",
    "        primary_key = content['primary_key']\n",
    "        child = content['child']\n",
    "        parent = content['parent']\n",
    "        fake_labels_df_dict = {}\n",
    "        if primary_key != []:\n",
    "            primary_key_col = primary_key[0]\n",
    "            n_primary_keys = generation_dict[df_name]['nrows']\n",
    "            fake_labels_df_dict[primary_key_col] = np.arange(n_primary_keys).tolist()\n",
    "        if parent != {}:\n",
    "            for parent_df_name, fr_key in parent.items():\n",
    "                n_keys = generation_dict[parent_df_name]['nrows']\n",
    "                nrows = generation_dict[df_name]['nrows']\n",
    "                cdf = content['key_distribution'][fr_key]['cdf']\n",
    "                unique_elements = content['key_distribution'][fr_key]['unique_elements']\n",
    "                fake_labels_df_dict[fr_key] = generate_new_array(cdf, unique_elements, n_keys, nrows)\n",
    "                \n",
    "                # length = generation_dict[df_name]['nrows']\n",
    "                # parent_df = processed_data_collection[parent_df_name]['labels'][fr_key]\n",
    "                # fake_labels_df_dict[fr_key] = resample_array(parent_df, length)\n",
    "                \n",
    "                # length = generation_dict[df_name]['nrows']\n",
    "                # parent_df = processed_data_collection[parent_df_name]\n",
    "                # cdf = gaussian_cdf(parent_df['labels'][fr_key].to_numpy())\n",
    "                # lower_bound = parent_df['labels'][fr_key].min()\n",
    "                # upper_bound = parent_df['labels'][fr_key].max()\n",
    "                # fake_array = cdf.resample(length).flatten()\n",
    "                # fake_labels_df_dict[fr_key] = np.round(fake_array).clip(lower_bound, upper_bound).astype(int)\n",
    "                \n",
    "                # n_foreign_primary_keys = generation_dict[parent_df_name]['nrows']\n",
    "                # length = generation_dict[df_name]['nrows']\n",
    "                # fake_labels_df_dict[fr_key] = np.random.randint(0, n_foreign_primary_keys, length).tolist()\n",
    "        \n",
    "        if content['is_sequential'] == True:\n",
    "            for additional_key in content['additional_key']:\n",
    "                nrows = generation_dict[df_name]['nrows']\n",
    "                cdf = content['key_distribution'][additional_key]['cdf']\n",
    "                unique_elements = content['key_distribution'][additional_key]['unique_elements']\n",
    "                fake_labels_df_dict[additional_key] = generate_new_array(cdf, unique_elements, size=nrows)\n",
    "        \n",
    "        fake_labels_df = pd.DataFrame(fake_labels_df_dict).reindex(columns=backtransformation_dict[df_name]['labels_col_names'])\n",
    "        if content['is_sequential'] == True:\n",
    "            fake_labels_df = fake_labels_df.sort_values(by=content['sort_order'])\n",
    "        scaled_fake_labels_df = pd.DataFrame(backtransformation_dict[df_name]['labels_scaler'].transform(fake_labels_df), columns=backtransformation_dict[df_name]['labels_col_names'])\n",
    "        latent_dim = 100\n",
    "        noise = np.random.normal(0, 1, size=(generation_dict[df_name]['nrows'], latent_dim))\n",
    "        raw_fake_table = generator.predict([noise, scaled_fake_labels_df])\n",
    "        scaled_fake_table = backtransformation_dict[df_name]['table_scaler'].inverse_transform(raw_fake_table)\n",
    "        fake_table_df = pd.DataFrame(scaled_fake_table, columns=backtransformation_dict[df_name]['table_col_names'])\n",
    "        fake_data = pd.concat([fake_labels_df, fake_table_df], axis=1)\n",
    "        fake_data = fake_data.reindex(columns=backtransformation_dict[df_name]['col_names'])\n",
    "        \n",
    "        columns_to_int = [col for col in fake_data.columns if col not in features_to_ignore_rounding]\n",
    "        for col in columns_to_int:\n",
    "            fake_data[col] = fake_data[col].astype(int)\n",
    "                \n",
    "        synthetic_data_collection[df_name] = fake_data\n",
    "        \n",
    "    return synthetic_data_collection"
   ]
  },
  {
   "cell_type": "code",
   "execution_count": 69,
   "id": "d5f5c4ed-f7f2-4a89-bce2-57a32fba3474",
   "metadata": {},
   "outputs": [],
   "source": [
    "# def generate_synth_data_collection(processed_data_collection, sdv_metadata, generation_dict, latent_dim=50, seed=123):\n",
    "#     np.random.seed(seed)\n",
    "#     synthetic_data_collection = {}\n",
    "#     features_to_ignore_rounding = ['shape_pt_lat',\n",
    "#                       'shape_pt_lon',\n",
    "#                       'stop_lat',\n",
    "#                       'stop_lon',\n",
    "#                      'shape_dist_traveled']\n",
    "    \n",
    "#     primary_keys = {}\n",
    "#     for relationship in sdv_metadata.relationships:\n",
    "#         parent_table_name = relationship['parent_table_name']\n",
    "#         parent_primary_key = relationship['parent_primary_key']\n",
    "\n",
    "#         if parent_table_name not in primary_keys:\n",
    "#             n_rows = generation_dict[parent_table_name]['nrows']\n",
    "#             primary_keys[parent_table_name] = np.arange(n_rows)\n",
    "\n",
    "#     # Generate foreign key arrays for each child table\n",
    "#     foreign_keys = {}\n",
    "#     for relationship in sdv_metadata.relationships:\n",
    "#         child_table_name = relationship['child_table_name']\n",
    "#         child_foreign_key = relationship['child_foreign_key']\n",
    "#         parent_table_name = relationship['parent_table_name']\n",
    "#         parent_primary_key = relationship['parent_primary_key']\n",
    "\n",
    "#         if child_table_name not in foreign_keys:\n",
    "#             foreign_keys[child_table_name] = {}\n",
    "\n",
    "#         n_rows = generation_dict[child_table_name]['nrows']\n",
    "#         prob_distribution = processed_data_collection[parent_table_name]['labels_pdf'][child_foreign_key]\n",
    "#         foreign_keys[child_table_name][child_foreign_key] = np.random.choice(primary_keys[parent_table_name], n_rows, p=prob_distribution)\n",
    "\n",
    "#     # Create individual dataframes for each table\n",
    "#     key_columns_dict = {}\n",
    "#     for table_name, n_rows in generation_dict.items():\n",
    "#         key_columns = {}\n",
    "\n",
    "#         if table_name in primary_keys:\n",
    "#             key_columns.update({processed_data_collection[table_name]['metadata']['primary_key'][0]: primary_keys[table_name]})\n",
    "\n",
    "#         if table_name in foreign_keys:\n",
    "#             key_columns.update(foreign_keys[table_name])\n",
    "        \n",
    "#         if processed_data_collection[table_name]['metadata']['is_sequential'] == True:\n",
    "#             for additional_key in processed_data_collection[table_name]['metadata']['additional_key']:\n",
    "#                 additional_prob_distribution = processed_data_collection[table_name]['labels_pdf'][additional_key]\n",
    "#                 key_columns[additional_key] = np.random.choice(np.unique(processed_data_collection[table_name]['labels'][additional_key]), generation_dict[table_name]['nrows'], p=additional_prob_distribution)\n",
    "        \n",
    "#         key_columns = pd.DataFrame(key_columns)\n",
    "#         key_columns_dict[table_name] = key_columns.reindex(columns=processed_data_collection[table_name]['labels_col_names'])\n",
    "        \n",
    "#     # generate data\n",
    "#     for df_name, content in processed_data_collection.items():\n",
    "#         generator = models.load_model('models/'+df_name+'_gen.h5')\n",
    "#         latent_dim = (content['table'].shape[1] + content['labels'].shape[1]) * content['labels'].shape[1]\n",
    "#         noise = np.random.uniform(-1, 1, size=(generation_dict[df_name]['nrows'], latent_dim))\n",
    "#         raw_fake_table = generator.predict([noise,key_columns_dict[df_name]])\n",
    "#         fake_table = content['table_scaler'].inverse_transform(raw_fake_table)\n",
    "#         fake_table = pd.DataFrame(fake_table, columns=content['table_col_names'])\n",
    "#         fake_data = pd.concat([key_columns_dict[df_name], fake_table], axis=1)\n",
    "#         fake_data = fake_data.reindex(columns=processed_data_collection[df_name]['col_names'])\n",
    "        \n",
    "#         columns_to_int = [col for col in fake_data.columns if col not in features_to_ignore_rounding]\n",
    "#         for col in columns_to_int:\n",
    "#             fake_data[col] = fake_data[col].astype(int)\n",
    "\n",
    "#         synthetic_data_collection[df_name] = fake_data\n",
    "        \n",
    "#     return synthetic_data_collection"
   ]
  },
  {
   "cell_type": "code",
   "execution_count": 70,
   "id": "1e39be14-abfa-422e-a33a-f6333dc191a1",
   "metadata": {},
   "outputs": [],
   "source": [
    "generation_dict = {k:{'nrows':len(v['table']), 'is_sequential':False} for k,v in processed_data_collection.items()}\n",
    "generation_dict['calendar_dates']['is_sequential'] = True\n",
    "generation_dict['stop_times']['is_sequential'] = True\n",
    "generation_dict['calendar_dates']['sort_by'] = ['service_id','date']\n",
    "generation_dict['stop_times']['sort_by'] = ['trip_id','stop_sequence']"
   ]
  },
  {
   "cell_type": "code",
   "execution_count": 71,
   "id": "26712e2e-c0a2-4132-af93-68af04c1adaf",
   "metadata": {},
   "outputs": [
    {
     "data": {
      "text/plain": [
       "{'agency': {'nrows': 15, 'is_sequential': False},\n",
       " 'calendar': {'nrows': 121, 'is_sequential': False},\n",
       " 'calendar_dates': {'nrows': 674,\n",
       "  'is_sequential': True,\n",
       "  'sort_by': ['service_id', 'date']},\n",
       " 'routes': {'nrows': 215, 'is_sequential': False},\n",
       " 'stops': {'nrows': 6714, 'is_sequential': False},\n",
       " 'stop_times': {'nrows': 966790,\n",
       "  'is_sequential': True,\n",
       "  'sort_by': ['trip_id', 'stop_sequence']},\n",
       " 'trips': {'nrows': 32403, 'is_sequential': False}}"
      ]
     },
     "execution_count": 71,
     "metadata": {},
     "output_type": "execute_result"
    }
   ],
   "source": [
    "generation_dict"
   ]
  },
  {
   "cell_type": "code",
   "execution_count": 72,
   "id": "1af7da14-2d7d-4c16-80e0-5c51f93f8675",
   "metadata": {
    "scrolled": true,
    "tags": []
   },
   "outputs": [
    {
     "name": "stdout",
     "output_type": "stream",
     "text": [
      "CPU times: total: 1min 43s\n",
      "Wall time: 1min 25s\n"
     ]
    }
   ],
   "source": [
    "%%time\n",
    "\n",
    "synthetic_data_collection = generate_synth_data_collection(metadata, generation_dict, backtransformation_dict)"
   ]
  },
  {
   "cell_type": "code",
   "execution_count": 73,
   "id": "1491b7f6-a3c5-4f1f-bdd5-bc5738078899",
   "metadata": {},
   "outputs": [],
   "source": [
    "# del processed_data_collection"
   ]
  },
  {
   "cell_type": "code",
   "execution_count": 74,
   "id": "e640674b-5d1e-42e9-a9d8-52cf78c9c87d",
   "metadata": {},
   "outputs": [],
   "source": [
    "with open('pkl/real_data_collection.pkl', 'wb') as f:\n",
    "    pickle.dump(real_data_collection, f)"
   ]
  },
  {
   "cell_type": "code",
   "execution_count": 75,
   "id": "e622f869-9a16-4878-832c-2ea5f899e664",
   "metadata": {},
   "outputs": [],
   "source": [
    "with open('pkl/synthetic_data_collection.pkl', 'wb') as f:\n",
    "    pickle.dump(synthetic_data_collection, f)"
   ]
  },
  {
   "cell_type": "code",
   "execution_count": 76,
   "id": "1f3cfe25-4c59-4e08-b76d-c6dd899d9276",
   "metadata": {},
   "outputs": [],
   "source": [
    "with open('pkl/sdv_metadata.pkl', 'wb') as f:\n",
    "    pickle.dump(sdv_metadata, f)"
   ]
  },
  {
   "cell_type": "code",
   "execution_count": null,
   "id": "4087d1fa-e4fd-4039-8343-b4ddd600133d",
   "metadata": {},
   "outputs": [],
   "source": []
  }
 ],
 "metadata": {
  "kernelspec": {
   "display_name": "Python 3 (ipykernel)",
   "language": "python",
   "name": "python3"
  },
  "language_info": {
   "codemirror_mode": {
    "name": "ipython",
    "version": 3
   },
   "file_extension": ".py",
   "mimetype": "text/x-python",
   "name": "python",
   "nbconvert_exporter": "python",
   "pygments_lexer": "ipython3",
   "version": "3.9.16"
  },
  "toc-autonumbering": true
 },
 "nbformat": 4,
 "nbformat_minor": 5
}
