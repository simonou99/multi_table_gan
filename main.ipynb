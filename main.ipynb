{
 "cells": [
  {
   "cell_type": "markdown",
   "id": "ed277bcc-0b53-44b4-9072-343f704588ca",
   "metadata": {
    "tags": []
   },
   "source": [
    "# import"
   ]
  },
  {
   "cell_type": "code",
   "execution_count": 1,
   "id": "9b6344e5-e74b-42a5-8a1d-95bd2f963a77",
   "metadata": {
    "tags": []
   },
   "outputs": [],
   "source": [
    "import os\n",
    "import time\n",
    "import random\n",
    "import numpy as np\n",
    "import pandas as pd\n",
    "import matplotlib.pyplot as plt\n",
    "# import tensorflow as tf\n",
    "from tensorflow.keras import layers, models, optimizers, losses, backend, constraints, initializers\n",
    "from tensorflow.compat.v1.logging import set_verbosity, ERROR\n",
    "from sklearn.preprocessing import MinMaxScaler, StandardScaler\n",
    "from sklearn import metrics\n",
    "from sklearn.decomposition import PCA\n",
    "from sklearn.impute import SimpleImputer\n",
    "from scipy.stats import kstest, gaussian_kde, ks_2samp, chi2_contingency\n",
    "from scipy.spatial.distance import jensenshannon\n",
    "# from table_evaluator import load_data, TableEvaluator\n",
    "# from sklearn.ensemble import RandomForestClassifier\n",
    "# from sklearn.model_selection import train_test_split"
   ]
  },
  {
   "cell_type": "code",
   "execution_count": 2,
   "id": "cfdcbabf-f624-4961-93c2-1232ffdeffcd",
   "metadata": {},
   "outputs": [],
   "source": [
    "set_verbosity(ERROR)"
   ]
  },
  {
   "cell_type": "markdown",
   "id": "9f6aa2d4-7b51-45ff-bc4a-1d3e9d7a0b65",
   "metadata": {
    "tags": []
   },
   "source": [
    "# load data"
   ]
  },
  {
   "cell_type": "code",
   "execution_count": 3,
   "id": "8b2e5505-8cda-4ecb-a414-b0d0819f283a",
   "metadata": {},
   "outputs": [],
   "source": [
    "# folder_path = 'gtfs'\n",
    "\n",
    "# agency = pd.read_csv(f'{folder_path}/agency.txt')\n",
    "# calendar = pd.read_csv(f'{folder_path}/calendar.txt')\n",
    "# calendar_dates = pd.read_csv(f'{folder_path}/calendar_dates.txt')\n",
    "# fare_attributes = pd.read_csv(f'{folder_path}/fare_attributes.txt')\n",
    "# fare_rules = pd.read_csv(f'{folder_path}/fare_rules.txt')\n",
    "# feed_info = pd.read_csv(f'{folder_path}/feed_info.txt')\n",
    "# frequencies = pd.read_csv(f'{folder_path}/frequencies.txt')\n",
    "# routes = pd.read_csv(f'{folder_path}/routes.txt')\n",
    "# shapes = pd.read_csv(f'{folder_path}/shapes.txt')\n",
    "# stops = pd.read_csv(f'{folder_path}/stops.txt')\n",
    "# stop_times = pd.read_csv(f'{folder_path}/stop_times.txt')\n",
    "# transfers = pd.read_csv(f'{folder_path}/transfers.txt')\n",
    "# trips = pd.read_csv(f'{folder_path}/trips.txt')"
   ]
  },
  {
   "cell_type": "code",
   "execution_count": 4,
   "id": "db708df7-5740-46d0-b5ff-e08f1e75da8e",
   "metadata": {},
   "outputs": [],
   "source": [
    "# join map\n",
    "# # Read GTFS CSV files\n",
    "# agency = pd.read_csv('gtfs/agency.txt')\n",
    "# stops = pd.read_csv('gtfs/stops.txt')\n",
    "# routes = pd.read_csv('gtfs/routes.txt')\n",
    "# trips = pd.read_csv('gtfs/trips.txt')\n",
    "# stop_times = pd.read_csv('gtfs/stop_times.txt')\n",
    "# calendar = pd.read_csv('gtfs/calendar.txt')\n",
    "# routes_agency = routes.merge(agency, on='agency_id', how='left')\n",
    "# trips_routes = trips.merge(routes_agency, on='route_id', how='left')\n",
    "# stop_times_trips = stop_times.merge(trips_routes, on='trip_id', how='left')\n",
    "# stop_times_trips_stops = stop_times_trips.merge(stops, on='stop_id', how='left')\n",
    "# trips_calendar = trips.merge(calendar, on='service_id', how='left')\n",
    "# joined_data = stop_times_trips_stops.merge(trips_calendar, on=['trip_id', 'route_id', 'service_id'], how='left', suffixes=('', '_y'))\n",
    "# joined_data = joined_data.loc[:, ~joined_data.columns.str.endswith('_y')]\n",
    "# joined_data.head()"
   ]
  },
  {
   "cell_type": "code",
   "execution_count": 5,
   "id": "37644fb8-5f08-496c-8403-c221fb097027",
   "metadata": {},
   "outputs": [],
   "source": [
    "def load_data_collection(dir_path):\n",
    "    gtfs_files = [f for f in os.listdir(dir_path) if f.endswith('.csv') or f.endswith('.txt')]\n",
    "    data_collection = {}\n",
    "    for f in gtfs_files:\n",
    "        f_path = os.path.join(dir_path, f)\n",
    "        data = pd.read_csv(f_path)\n",
    "        if data.shape[0] > 1:\n",
    "            data_collection[f.split(\".\")[0]] = data\n",
    "    return data_collection"
   ]
  },
  {
   "cell_type": "code",
   "execution_count": 6,
   "id": "1fabfedb-af59-44de-851f-1fb41a26f071",
   "metadata": {},
   "outputs": [],
   "source": [
    "# def preprocess(data_collection):\n",
    "    # for k, v in data_collection.items():\n",
    "    #     current_data = v.select_dtypes(include=[np.number]).astype(np.float32)\n",
    "    #     scaler = StandardScaler()\n",
    "    #     data_collection[k] = scaler.fit_transform(current_data)\n",
    "    # return data_collection"
   ]
  },
  {
   "cell_type": "code",
   "execution_count": 7,
   "id": "43100845-8f4f-4fb9-b765-073cdfe09426",
   "metadata": {},
   "outputs": [],
   "source": [
    "real_data_collection = load_data_collection(\"gtfs\")"
   ]
  },
  {
   "cell_type": "code",
   "execution_count": 8,
   "id": "0112f797-2f74-4718-924b-dcffd5e225f2",
   "metadata": {},
   "outputs": [],
   "source": [
    "del real_data_collection['shapes']"
   ]
  },
  {
   "cell_type": "markdown",
   "id": "0030c3c8-efd3-4412-a936-e735a0ff0d11",
   "metadata": {},
   "source": [
    "# preprocess"
   ]
  },
  {
   "cell_type": "code",
   "execution_count": 9,
   "id": "ea160cb7-5a00-4415-9db6-65a1fed80c6d",
   "metadata": {},
   "outputs": [],
   "source": [
    "def individual_preprocess_dict():\n",
    "    preprocess_dict = {}\n",
    "    preprocess_dict['transformation'] = {}\n",
    "    preprocess_dict['transformation']['drop'] = []\n",
    "    preprocess_dict['transformation']['factorize'] = []\n",
    "    preprocess_dict['transformation']['to_strip'] = []\n",
    "    preprocess_dict['transformation']['to_elapsed_time'] = []\n",
    "    preprocess_dict['transformation']['to_elapsed_days'] = []\n",
    "    preprocess_dict['nans_conversion'] = {}\n",
    "    preprocess_dict['nans_conversion']['impute'] = []\n",
    "    preprocess_dict['nans_conversion']['replace_with_neg_one'] = []\n",
    "    preprocess_dict['nans_conversion']['replace_with_zeros'] = []\n",
    "    return preprocess_dict"
   ]
  },
  {
   "cell_type": "code",
   "execution_count": 10,
   "id": "a43626da-f738-4269-b5ff-62333d036e9d",
   "metadata": {},
   "outputs": [],
   "source": [
    "def format_individual_data(data, preprocess_dict, timestamp = pd.Timestamp('1900-01-01')):\n",
    "    # reverse_transform_dict = {}\n",
    "    for stage in preprocess_dict.keys():\n",
    "        if stage == 'transformation':\n",
    "            for method, col_list in preprocess_dict[stage].items():\n",
    "                if len(col_list) != 0 or None:\n",
    "                    if method == 'drop':\n",
    "                        data = data.drop(col_list, axis=1)\n",
    "                    if method == 'factorize':\n",
    "                        for col in col_list:\n",
    "                            data[col] = pd.factorize(data[col])[0]\n",
    "                    if method == 'to_strip':\n",
    "                        for col in col_list:\n",
    "                            # convert some column to numbers\n",
    "                            # e.g. `123-45-6` -> `123456`\n",
    "                            data[col] = data[col].str.replace(r'\\D', '').astype(int)\n",
    "                    if method == \"to_elapsed_time\":\n",
    "                        for col in col_list:\n",
    "                            cur_col = pd.to_timedelta(data[col])\n",
    "                            cur_col = cur_col % pd.Timedelta(days=1)\n",
    "                            data[col] = cur_col.dt.total_seconds()\n",
    "                    if method == \"to_elapsed_days\":\n",
    "                        for col in col_list:\n",
    "                            cur_col = pd.to_datetime(data[col], format='%Y%m%d') - timestamp\n",
    "                            data[col] = cur_col.dt.days\n",
    "        if stage == 'nans_conversion':\n",
    "            for method, col_list in preprocess_dict[stage].items():\n",
    "                if len(col_list) != 0 or None:\n",
    "                    if method == 'impute':\n",
    "                        imputer = SimpleImputer(strategy='mean')\n",
    "                        data[col_list] = imputer.fit_transform(data[col_list])\n",
    "                    if method == 'replace_with_neg_one':\n",
    "                        data[col_list] = data[col_list].fillna(-1)\n",
    "                    if method == 'replace_with_zeros':\n",
    "                        data[col_list] = data[col_list].fillna(0)\n",
    "    # scaler = MinMaxScaler(feature_range=(-1, 1))\n",
    "    # scaled_data = scaler.fit_transform(data)\n",
    "    return data"
   ]
  },
  {
   "cell_type": "markdown",
   "id": "d5d2f690-595f-4824-982b-a4eacecc3910",
   "metadata": {},
   "source": [
    "## preprocess individual data"
   ]
  },
  {
   "cell_type": "markdown",
   "id": "3941e82d-821f-447a-8c2e-8fca8749dfa0",
   "metadata": {},
   "source": [
    "### agency"
   ]
  },
  {
   "cell_type": "code",
   "execution_count": 11,
   "id": "bef7d9f3-25f6-42c0-8eb2-e9ded03b6dcb",
   "metadata": {},
   "outputs": [],
   "source": [
    "preprocess_dict = individual_preprocess_dict()\n",
    "preprocess_dict['transformation']['drop'] = ['agency_name','agency_fare_url','agency_email']\n",
    "preprocess_dict['transformation']['factorize'] = ['agency_id','agency_url','agency_timezone','agency_lang','agency_phone']\n",
    "real_data_collection['agency'] = format_individual_data(real_data_collection['agency'], preprocess_dict)"
   ]
  },
  {
   "cell_type": "markdown",
   "id": "8f278677-b5b3-4252-8141-0a142b47562c",
   "metadata": {},
   "source": [
    "### calendar"
   ]
  },
  {
   "cell_type": "code",
   "execution_count": 12,
   "id": "dfcca997-62df-47a3-abe4-b55842d25af5",
   "metadata": {},
   "outputs": [],
   "source": [
    "preprocess_dict = individual_preprocess_dict()\n",
    "preprocess_dict['transformation']['factorize'] = ['service_id']\n",
    "preprocess_dict['transformation']['to_elapsed_days'] = ['start_date','end_date']\n",
    "real_data_collection['calendar'] = format_individual_data(real_data_collection['calendar'], preprocess_dict)"
   ]
  },
  {
   "cell_type": "markdown",
   "id": "374b8652-4e4b-4f33-9a9a-5cd3c3717668",
   "metadata": {},
   "source": [
    "### calendar_dates"
   ]
  },
  {
   "cell_type": "code",
   "execution_count": 13,
   "id": "38deb9ca-8215-4891-8d19-c437ffda9877",
   "metadata": {},
   "outputs": [],
   "source": [
    "preprocess_dict = individual_preprocess_dict()\n",
    "preprocess_dict['transformation']['factorize'] = ['service_id']\n",
    "preprocess_dict['transformation']['to_elapsed_days'] = ['date']\n",
    "real_data_collection['calendar_dates'] = format_individual_data(real_data_collection['calendar_dates'], preprocess_dict)"
   ]
  },
  {
   "cell_type": "markdown",
   "id": "727e21f9-890a-4a8b-99a9-fb852ae82195",
   "metadata": {},
   "source": [
    "### routes"
   ]
  },
  {
   "cell_type": "code",
   "execution_count": 14,
   "id": "fd77431d-7d88-4dce-9121-a04f4c12c547",
   "metadata": {},
   "outputs": [],
   "source": [
    "preprocess_dict = individual_preprocess_dict()\n",
    "preprocess_dict['transformation']['drop'] = ['route_short_name','route_long_name','route_desc','route_url','route_sort_order']\n",
    "preprocess_dict['transformation']['factorize'] = ['route_id',\n",
    "                                                  'agency_id',\n",
    "                                                 'route_color',\n",
    "                                                 'route_text_color',\n",
    "                                                 'contract_id']\n",
    "preprocess_dict['nans_conversion']['impute'] = ['route_color','route_text_color']\n",
    "real_data_collection['routes'] = format_individual_data(real_data_collection['routes'], preprocess_dict)"
   ]
  },
  {
   "cell_type": "markdown",
   "id": "7f5c8015-fd45-4741-9393-f7c2815f7851",
   "metadata": {},
   "source": [
    "### stops"
   ]
  },
  {
   "cell_type": "code",
   "execution_count": 15,
   "id": "8e61ffc7-1168-4333-b4a3-3f9e44bf89cf",
   "metadata": {},
   "outputs": [],
   "source": [
    "preprocess_dict = individual_preprocess_dict()\n",
    "preprocess_dict['transformation']['factorize'] = ['stop_id','parent_station','platform_code']\n",
    "preprocess_dict['transformation']['to_elapsed_days'] = ['start_date','end_date']\n",
    "preprocess_dict['transformation']['drop'] = ['stop_name','stop_code','stop_desc','zone_id','stop_url','stop_timezone']\n",
    "preprocess_dict['nans_conversion']['impute'] = ['parent_station','platform_code']\n",
    "real_data_collection['stops'] = format_individual_data(real_data_collection['stops'], preprocess_dict)"
   ]
  },
  {
   "cell_type": "markdown",
   "id": "b0265679-0e19-4597-8554-42c4963f8f8c",
   "metadata": {},
   "source": [
    "### stop_times"
   ]
  },
  {
   "cell_type": "code",
   "execution_count": 16,
   "id": "04cf6ba2-8f2e-4def-96af-560e9515146f",
   "metadata": {},
   "outputs": [],
   "source": [
    "preprocess_dict = individual_preprocess_dict()\n",
    "preprocess_dict['transformation']['factorize'] = ['trip_id','stop_id','stop_headsign']\n",
    "preprocess_dict['transformation']['to_elapsed_time'] = ['arrival_time','departure_time']\n",
    "real_data_collection['stop_times'] = format_individual_data(real_data_collection['stop_times'], preprocess_dict)"
   ]
  },
  {
   "cell_type": "markdown",
   "id": "b5b77631-6496-485c-b725-cd0f7fa88cd5",
   "metadata": {},
   "source": [
    "### trips"
   ]
  },
  {
   "cell_type": "code",
   "execution_count": 17,
   "id": "c4fe2aa8-61f4-4cab-9d65-ede31a55b844",
   "metadata": {},
   "outputs": [],
   "source": [
    "preprocess_dict = individual_preprocess_dict()\n",
    "preprocess_dict['transformation']['factorize'] = ['route_id','service_id','trip_id','trip_headsign','shape_id']\n",
    "preprocess_dict['transformation']['drop'] = ['trip_short_name','block_id']\n",
    "real_data_collection['trips'] = format_individual_data(real_data_collection['trips'], preprocess_dict)"
   ]
  },
  {
   "cell_type": "markdown",
   "id": "f6b6580e-cb37-49d3-b60d-b9c7cb337a6d",
   "metadata": {},
   "source": [
    "## Create Metadata"
   ]
  },
  {
   "cell_type": "code",
   "execution_count": 18,
   "id": "b185c1d6-6ba7-42a7-9038-a114ac10fe0a",
   "metadata": {},
   "outputs": [],
   "source": [
    "def auto_detect_relation(data_collection):\n",
    "    metadata = {}\n",
    "    for df_name, df in data_collection.items():\n",
    "        parent = {}\n",
    "        child = []\n",
    "        primary_key = []\n",
    "        foreign_key = []\n",
    "        for col in df.columns:\n",
    "            if 'id' in col:\n",
    "                if df[col].nunique() == len(df):\n",
    "                    primary_key = [col, len(df)]\n",
    "                else:\n",
    "                    foreign_key.append(col)\n",
    "        for foreign_df_name, foreign_df in data_collection.items():\n",
    "            if foreign_df_name != df_name:\n",
    "                for col in foreign_df.columns:\n",
    "                    if 'id' in col:\n",
    "                        for fr_k in foreign_key:\n",
    "                            if col == fr_k and foreign_df[col].nunique() == len(foreign_df):\n",
    "                                parent[foreign_df_name] = fr_k\n",
    "                        if primary_key != []:\n",
    "                            if col == primary_key[0] and foreign_df[col].nunique() != len(foreign_df):\n",
    "                                child.append(foreign_df_name)\n",
    "        metadata[df_name] = {'primary_key':primary_key,\n",
    "                             'parent':parent,\n",
    "                             'child':child}\n",
    "    return metadata"
   ]
  },
  {
   "cell_type": "code",
   "execution_count": 19,
   "id": "f2b28726-97c5-43ae-b3a7-16b40e42ffd0",
   "metadata": {},
   "outputs": [],
   "source": [
    "metadata = auto_detect_relation(real_data_collection)"
   ]
  },
  {
   "cell_type": "code",
   "execution_count": 20,
   "id": "f6991658-f36e-42a4-93bb-48cc32823426",
   "metadata": {},
   "outputs": [
    {
     "data": {
      "text/plain": [
       "{'agency': {'primary_key': ['agency_id', 15],\n",
       "  'parent': {},\n",
       "  'child': ['routes']},\n",
       " 'calendar': {'primary_key': ['service_id', 121],\n",
       "  'parent': {},\n",
       "  'child': ['calendar_dates', 'trips']},\n",
       " 'calendar_dates': {'primary_key': [],\n",
       "  'parent': {'calendar': 'service_id'},\n",
       "  'child': []},\n",
       " 'routes': {'primary_key': ['route_id', 215],\n",
       "  'parent': {'agency': 'agency_id'},\n",
       "  'child': ['trips']},\n",
       " 'stops': {'primary_key': ['stop_id', 6714],\n",
       "  'parent': {},\n",
       "  'child': ['stop_times']},\n",
       " 'stop_times': {'primary_key': [],\n",
       "  'parent': {'stops': 'stop_id', 'trips': 'trip_id'},\n",
       "  'child': []},\n",
       " 'trips': {'primary_key': ['trip_id', 32403],\n",
       "  'parent': {'calendar': 'service_id', 'routes': 'route_id'},\n",
       "  'child': ['stop_times']}}"
      ]
     },
     "execution_count": 20,
     "metadata": {},
     "output_type": "execute_result"
    }
   ],
   "source": [
    "metadata"
   ]
  },
  {
   "cell_type": "markdown",
   "id": "d8fa2e80-2ca0-4d2c-881d-94de5c331119",
   "metadata": {},
   "source": [
    "## Scaling"
   ]
  },
  {
   "cell_type": "code",
   "execution_count": 21,
   "id": "8846e997-fe62-44f4-9492-03ef527737f8",
   "metadata": {},
   "outputs": [],
   "source": [
    "def scale_individual_df(df):\n",
    "    scaler = MinMaxScaler(feature_range=(0,1))\n",
    "    scaler = scaler.fit(df)\n",
    "    scaled_df = pd.DataFrame(scaler.transform(df), columns = df.columns)\n",
    "    return scaled_df, scaler"
   ]
  },
  {
   "cell_type": "code",
   "execution_count": 22,
   "id": "03722b31-e0c5-43b2-afd5-9cacfde38268",
   "metadata": {},
   "outputs": [],
   "source": [
    "def extract_key_and_scaled_features(df, label_columns):\n",
    "    labels = df[label_columns]\n",
    "    table = df.drop(columns=label_columns)\n",
    "    table_column_names = table.columns\n",
    "    scaled_table, table_scaler = scale_individual_df(table)\n",
    "    return scaled_table, labels, table_scaler, table_column_names"
   ]
  },
  {
   "cell_type": "code",
   "execution_count": 23,
   "id": "c140cf3f-8d9e-4df9-b1cc-984d95a9806a",
   "metadata": {},
   "outputs": [],
   "source": [
    "def batch_preprocessing(data_collection, metadata):\n",
    "    processed_data_collection = {}\n",
    "    for df_name, df in data_collection.items():\n",
    "        primary_key = []\n",
    "        foreign_key = []\n",
    "        if metadata[df_name]['primary_key'] != []:\n",
    "            primary_key = [metadata[df_name]['primary_key'][0]]\n",
    "        if metadata[df_name]['parent'] != {}:\n",
    "            foreign_key = list(metadata[df_name]['parent'].values())\n",
    "        label_columns = primary_key + foreign_key\n",
    "        table, labels, table_scaler, table_columns = extract_key_and_scaled_features(df, label_columns)\n",
    "        processed_data_collection[df_name] = {'table':table,\n",
    "                                              'labels':labels,\n",
    "                                              'table_scaler':table_scaler,\n",
    "                                              'table_col_names':table_columns,\n",
    "                                              'label_col_names':label_columns,\n",
    "                                             'metadata':metadata[df_name]}\n",
    "    return processed_data_collection"
   ]
  },
  {
   "cell_type": "code",
   "execution_count": 24,
   "id": "1722d31b-d5f0-4543-aad2-809933ae3f66",
   "metadata": {},
   "outputs": [],
   "source": [
    "processed_data_collection = batch_preprocessing(real_data_collection, metadata)\n",
    "del real_data_collection"
   ]
  },
  {
   "cell_type": "markdown",
   "id": "cd49eb54-1738-4599-874d-571ca5fdd9be",
   "metadata": {},
   "source": [
    "# GAN Building"
   ]
  },
  {
   "cell_type": "markdown",
   "id": "5744d496-c6f4-4c88-a505-3b82acc3304b",
   "metadata": {},
   "source": [
    "## Additional Custom Function (Wasserstein Loss)"
   ]
  },
  {
   "cell_type": "code",
   "execution_count": 25,
   "id": "f33fe30f-4133-4f04-ba15-b695c11c8fb6",
   "metadata": {},
   "outputs": [],
   "source": [
    "def wasserstein_loss(y_true, y_pred):\n",
    "    return backend.mean(y_true*y_pred)"
   ]
  },
  {
   "cell_type": "code",
   "execution_count": 26,
   "id": "0b3671ca-a536-49cf-bef3-6023a1d5497e",
   "metadata": {},
   "outputs": [],
   "source": [
    "class ClipConstraint(constraints.Constraint):\n",
    "    def __init__(self, clip_value):\n",
    "        self.clip_value = clip_value\n",
    "        \n",
    "    def __call__(self, weights):\n",
    "        return backend.clip(weights, -self.clip_value, self.clip_value)\n",
    "    \n",
    "    def get_config(self):\n",
    "        return {'clip_value': self.clip_value}"
   ]
  },
  {
   "cell_type": "markdown",
   "id": "7d64966e-d261-41f4-92b1-0d979c9deceb",
   "metadata": {},
   "source": [
    "## Define Plotting Function For G/D Loss"
   ]
  },
  {
   "cell_type": "code",
   "execution_count": 27,
   "id": "558eca6b-dc6e-45a4-a77d-5a2139ef78b2",
   "metadata": {},
   "outputs": [],
   "source": [
    "import matplotlib.pyplot as plt\n",
    "\n",
    "def plot_history(logs):\n",
    "    n = len(logs)\n",
    "    n_rows = (n + 2) // 3\n",
    "\n",
    "    fig, axes = plt.subplots(n_rows, 3, figsize=(15, 5 * n_rows), sharex=True, sharey=True)\n",
    "    axes = axes.flatten()\n",
    "\n",
    "    for i, (model_name, generator_log, discriminator_log) in enumerate(logs):\n",
    "        axes[i].plot(generator_log, label='gen')\n",
    "        axes[i].plot(discriminator_log, label='d')\n",
    "        axes[i].legend()\n",
    "        axes[i].set_title(model_name)\n",
    "\n",
    "    for i in range(n, n_rows * 3):\n",
    "        axes[i].remove()\n",
    "\n",
    "    plt.tight_layout()\n",
    "    plt.show()\n",
    "    plt.close()"
   ]
  },
  {
   "cell_type": "markdown",
   "id": "8134ba08-ad73-4d99-ae5d-a14e73c5a9d6",
   "metadata": {},
   "source": [
    "## (!) Define Main Generator, Discriminator"
   ]
  },
  {
   "cell_type": "code",
   "execution_count": 28,
   "id": "96d53099-c234-40c6-ad10-ede92dbe47ac",
   "metadata": {},
   "outputs": [],
   "source": [
    "def build_generator(table_dim, labels_dim, latent_dim=100):\n",
    "    noise_input = layers.Input(shape=(latent_dim,))\n",
    "    labels_input = layers.Input(shape=(labels_dim,))\n",
    "    merge_input = layers.Concatenate()([noise_input, labels_input])\n",
    "    bn_layer1 = layers.BatchNormalization()(merge_input)\n",
    "    hidden_layer1 = layers.Dense(256,activation='LeakyReLU')(bn_layer1)\n",
    "    hidden_layer2 = layers.Dense(512,activation='LeakyReLU')(hidden_layer1)\n",
    "    hidden_layer3 = layers.Dense(1024,activation='LeakyReLU')(hidden_layer2)\n",
    "    bn_layer2 = layers.BatchNormalization()(hidden_layer3)\n",
    "    output_layer = layers.Dense(table_dim, activation='sigmoid')(bn_layer2)\n",
    "    generator = models.Model([noise_input, labels_input], output_layer)\n",
    "    return generator"
   ]
  },
  {
   "cell_type": "code",
   "execution_count": 29,
   "id": "669d9046-cc1d-4029-a948-931a90667ad5",
   "metadata": {},
   "outputs": [],
   "source": [
    "# def build_generator(table_dim, labels_dim, latent_dim=100):\n",
    "#     noise_input = layers.Input(shape=(latent_dim,))\n",
    "#     labels_input = layers.Input(shape=(labels_dim,))\n",
    "#     merge_input = layers.Concatenate()([noise_input, labels_input])\n",
    "#     bn_layer1 = layers.BatchNormalization()(merge_input)\n",
    "#     hidden_layer1 = layers.Dense(128,activation='LeakyReLU')(bn_layer1)\n",
    "#     reshape_layer = layers.Reshape((4, 32))(hidden_layer1)\n",
    "#     conv1 = layers.Conv1DTranspose(128,\n",
    "#                           kernel_size=4,\n",
    "#                           strides=2,\n",
    "#                           padding=\"same\",\n",
    "#                           activation=\"LeakyReLU\")(reshape_layer)\n",
    "#     conv2 = layers.Conv1DTranspose(128,\n",
    "#                           kernel_size=4,\n",
    "#                           strides=2,\n",
    "#                           padding=\"same\",\n",
    "#                           activation=\"LeakyReLU\")(conv1)\n",
    "#     conv3 = layers.Conv1DTranspose(128,\n",
    "#                           kernel_size=4,\n",
    "#                           strides=2,\n",
    "#                           padding=\"same\",\n",
    "#                           activation=\"LeakyReLU\")(conv2)\n",
    "#     bn_layer2 = layers.BatchNormalization()(conv3)\n",
    "#     output_layer = layers.Dense(table_dim, activation='sigmoid')(bn_layer2)\n",
    "#     generator = models.Model([noise_input, labels_input], output_layer)\n",
    "#     return generator"
   ]
  },
  {
   "cell_type": "code",
   "execution_count": 30,
   "id": "52d62f5a-2c81-424d-ad94-680d07d463c4",
   "metadata": {},
   "outputs": [],
   "source": [
    "# def build_discriminator(table_dim, labels_dim, constraint_rate=0.01, optimization_rate=0.00005):\n",
    "#     clip_const = ClipConstraint(constraint_rate)\n",
    "#     rms_opt = optimizers.RMSprop(optimization_rate)\n",
    "#     table_input = layers.Input(shape=(table_dim,))\n",
    "#     labels_input = layers.Input(shape=(labels_dim,))\n",
    "#     merge_input = layers.Concatenate()([table_input, labels_input])\n",
    "#     bn_layer1 = layers.BatchNormalization()(merge_input)\n",
    "#     hidden_layer1 = layers.Dense(512,activation='LeakyReLU',kernel_constraint=clip_const)(bn_layer1)\n",
    "#     hidden_layer2 = layers.Dense(256,activation='LeakyReLU',kernel_constraint=clip_const)(hidden_layer1)\n",
    "#     hidden_layer3 = layers.Dense(128,activation='LeakyReLU',kernel_constraint=clip_const)(hidden_layer2)\n",
    "#     bn_layer2 = layers.BatchNormalization()(hidden_layer3)\n",
    "#     output_layer = layers.Dense(1, activation='sigmoid')(bn_layer2)\n",
    "#     discriminator = models.Model([table_input, labels_input], output_layer)\n",
    "#     discriminator.compile(loss=wasserstein_loss, optimizer=rms_opt, metrics=['accuracy'])\n",
    "#     return discriminator"
   ]
  },
  {
   "cell_type": "code",
   "execution_count": 31,
   "id": "931b95ef-fb22-48bb-aff3-e7886fc5f34e",
   "metadata": {},
   "outputs": [],
   "source": [
    "def build_discriminator(table_dim, labels_dim, constraint_rate=0.01, optimization_rate=0.00005):\n",
    "    clip_const = ClipConstraint(constraint_rate)\n",
    "    rms_opt = optimizers.RMSprop(optimization_rate)\n",
    "    table_input = layers.Input(shape=(table_dim,))\n",
    "    labels_input = layers.Input(shape=(labels_dim,))\n",
    "    merge_input = layers.Concatenate()([table_input, labels_input])\n",
    "    bn_layer1 = layers.BatchNormalization()(merge_input)\n",
    "    hidden_layer1 = layers.Dense(256,activation='LeakyReLU')(bn_layer1)\n",
    "    reshape_layer = layers.Reshape((4, 64))(hidden_layer1)\n",
    "    conv1 = layers.Conv1D(128,\n",
    "                          kernel_size=4,\n",
    "                          strides=2,\n",
    "                          padding=\"same\",\n",
    "                          kernel_constraint=clip_const,\n",
    "                          activation=\"LeakyReLU\")(reshape_layer)\n",
    "    conv2 = layers.Conv1D(64,\n",
    "                          kernel_size=4,\n",
    "                          strides=2,\n",
    "                          padding=\"same\",\n",
    "                          kernel_constraint=clip_const,\n",
    "                          activation=\"LeakyReLU\")(conv1)\n",
    "    conv3 = layers.Conv1D(32,\n",
    "                          kernel_size=4,\n",
    "                          strides=2,\n",
    "                          padding=\"same\",\n",
    "                          kernel_constraint=clip_const,\n",
    "                          activation=\"LeakyReLU\")(conv2)\n",
    "    bn_layer2 = layers.BatchNormalization()(conv3)\n",
    "    output_layer = layers.Dense(1, activation='sigmoid')(bn_layer2)\n",
    "    discriminator = models.Model([table_input, labels_input], output_layer)\n",
    "    discriminator.compile(loss=wasserstein_loss, optimizer=rms_opt, metrics=['accuracy'])\n",
    "    return discriminator"
   ]
  },
  {
   "cell_type": "code",
   "execution_count": 32,
   "id": "07e822d9-2e5a-4e25-b946-eaeb8f3bbaab",
   "metadata": {},
   "outputs": [],
   "source": [
    "def build_gan(generator, discriminator, optimization_rate=0.00005):\n",
    "    discriminator.trainable = False\n",
    "    rms_opt = optimizers.RMSprop(optimization_rate)\n",
    "    noise_input = layers.Input(shape=(generator.input_shape[0][1],))\n",
    "    labels_input = layers.Input(shape=(generator.input_shape[1][1],))\n",
    "    generator_output = generator([noise_input, labels_input])\n",
    "    discriminator_output = discriminator([generator_output, labels_input])\n",
    "    gan = models.Model(inputs=[noise_input, labels_input], outputs=discriminator_output)\n",
    "    gan.compile(optimizer=rms_opt, loss=wasserstein_loss)\n",
    "    return gan"
   ]
  },
  {
   "cell_type": "markdown",
   "id": "6dd2b8d7-5798-490f-bf13-8233ef51b8d3",
   "metadata": {},
   "source": [
    "## Define Training Strategy"
   ]
  },
  {
   "cell_type": "code",
   "execution_count": 33,
   "id": "8c39aa00-6c56-4ad7-97d3-e6c3d98cb67c",
   "metadata": {},
   "outputs": [],
   "source": [
    "def train_individual_gan(name, real_table, real_labels, epochs=50, batch_size=128, latent_dim=100, seed=123, return_logs=True):\n",
    "    rand_seed = seed\n",
    "    class_counts = real_labels.nunique().tolist()\n",
    "    generator = build_generator(real_table.shape[1], real_labels.shape[1], latent_dim=latent_dim)\n",
    "    discriminator = build_discriminator(real_table.shape[1], real_labels.shape[1])\n",
    "    gan = build_gan(generator, discriminator)\n",
    "    \n",
    "    y_real = np.ones((batch_size, 1))\n",
    "    y_fake = np.zeros((batch_size, 1))\n",
    "    \n",
    "    if return_logs:\n",
    "        generator_logs = []\n",
    "        discriminator_logs = []\n",
    "    \n",
    "    for epoch in range(epochs):\n",
    "        np.random.seed(rand_seed)\n",
    "        rand_seed ++1\n",
    "        start_time = time.time()\n",
    "        idx = np.random.randint(0, real_table.shape[0], batch_size)\n",
    "        noise = np.random.uniform(0, 1, (batch_size, latent_dim))\n",
    "        \n",
    "        x_real_labels = real_labels.iloc[idx]\n",
    "        x_real_table = real_table.iloc[idx]\n",
    "        # x_fake_labels = np.random.uniform(0, 1, (batch_size, real_labels.shape[1]))\n",
    "        x_fake_labels = np.column_stack([np.random.randint(0, class_counts, size=batch_size) for class_counts in class_counts])\n",
    "        x_fake_table = generator.predict([noise, x_fake_labels])\n",
    "        \n",
    "        d_loss_real, _ = discriminator.train_on_batch([x_real_table, x_real_labels], y_real)\n",
    "        d_loss_fake, _ = discriminator.train_on_batch([x_fake_table, x_fake_labels], y_fake)\n",
    "        d_loss = 0.5 * np.add(d_loss_real, d_loss_fake)\n",
    "        \n",
    "        g_loss = gan.train_on_batch([noise, x_fake_labels], y_real)\n",
    "        \n",
    "        if return_logs:\n",
    "            generator_logs.append(g_loss)\n",
    "            discriminator_logs.append(d_loss)\n",
    "            \n",
    "        elapsed_time = time.time() - start_time\n",
    "        it_per_s = 1 / elapsed_time\n",
    "        \n",
    "        if epoch % 10 == 0 or epoch == epochs-1:\n",
    "            print(f\"[Epoch: {epoch}] [D loss: {np.round(d_loss, 3)}] [G loss: {np.round(g_loss, 3)}] [Speed: {round(it_per_s, 2)} it/s]\")\n",
    "        \n",
    "    generator.save('models/'+name+'_gan.h5')\n",
    "    \n",
    "    if return_logs:\n",
    "        return generator_logs, discriminator_logs"
   ]
  },
  {
   "cell_type": "code",
   "execution_count": 34,
   "id": "8ffe38c7-2d8e-4cfd-a7be-90b9f7804895",
   "metadata": {},
   "outputs": [],
   "source": [
    "def collection_training(data_collection, training_parameter_dict):\n",
    "    logs = []\n",
    "    init_time = time.time()\n",
    "    for df_name, content in data_collection.items():\n",
    "        start_time = time.time()\n",
    "        print(f'Learning \\\"{df_name}\\\" data......')\n",
    "        generator_log, discriminator_log = train_individual_gan(df_name,\n",
    "                                                                  content['table'],\n",
    "                                                                  content['labels'],\n",
    "                                                                epochs=training_parameter_dict[df_name]['epochs'],\n",
    "                                                                  return_logs=True)\n",
    "        in_loop_elapsed_time = time.time() - start_time\n",
    "        minutes, seconds = divmod(in_loop_elapsed_time, 60)\n",
    "        print(\"Time Used: %dm %ds\" % (minutes, seconds))\n",
    "        print('.')\n",
    "        print('.')\n",
    "        logs.append([df_name, generator_log, discriminator_log])\n",
    "    plot_history(logs)\n",
    "    total_elapsed_time = time.time() - init_time\n",
    "    minutes, seconds = divmod(total_elapsed_time, 60)\n",
    "    print(\"Total Time Used: %dm %ds\" % (minutes, seconds))"
   ]
  },
  {
   "cell_type": "markdown",
   "id": "df30c126-718f-4fb8-9e1f-788856cb0409",
   "metadata": {
    "tags": []
   },
   "source": [
    "## Train GAN"
   ]
  },
  {
   "cell_type": "code",
   "execution_count": 35,
   "id": "cfb636db-3776-4dcb-a3e8-b0296fe949ca",
   "metadata": {},
   "outputs": [],
   "source": [
    "training_parameter_dict = {}\n",
    "for df_name, content in processed_data_collection.items():\n",
    "    nrows = content['table'].shape[0]\n",
    "    # training_parameter_dict[df_name] = {'epochs':500}\n",
    "    if nrows <= 100:\n",
    "        training_parameter_dict[df_name] = {'epochs':25}\n",
    "    elif nrows <= 10000:\n",
    "        training_parameter_dict[df_name] = {'epochs':25}\n",
    "    else:\n",
    "        training_parameter_dict[df_name] = {'epochs':25}"
   ]
  },
  {
   "cell_type": "code",
   "execution_count": 36,
   "id": "ca6f578d-376b-4961-8408-513aad35d5cb",
   "metadata": {},
   "outputs": [
    {
     "data": {
      "text/plain": [
       "{'agency': {'epochs': 25},\n",
       " 'calendar': {'epochs': 25},\n",
       " 'calendar_dates': {'epochs': 25},\n",
       " 'routes': {'epochs': 25},\n",
       " 'stops': {'epochs': 25},\n",
       " 'stop_times': {'epochs': 25},\n",
       " 'trips': {'epochs': 25}}"
      ]
     },
     "execution_count": 36,
     "metadata": {},
     "output_type": "execute_result"
    }
   ],
   "source": [
    "training_parameter_dict"
   ]
  },
  {
   "cell_type": "code",
   "execution_count": 37,
   "id": "460d4f25-0081-4232-a6c0-1e520da7a6de",
   "metadata": {
    "scrolled": true,
    "tags": []
   },
   "outputs": [
    {
     "name": "stdout",
     "output_type": "stream",
     "text": [
      "Learning \"agency\" data......\n",
      "[Epoch: 0] [D loss: 0.25] [G loss: 0.5] [Speed: 0.2 it/s]\n",
      "[Epoch: 10] [D loss: 0.249] [G loss: 0.498] [Speed: 13.33 it/s]\n",
      "[Epoch: 20] [D loss: 0.248] [G loss: 0.496] [Speed: 13.33 it/s]\n",
      "[Epoch: 24] [D loss: 0.248] [G loss: 0.496] [Speed: 13.33 it/s]\n",
      "Time Used: 0m 9s\n",
      ".\n",
      ".\n",
      "Learning \"calendar\" data......\n",
      "[Epoch: 0] [D loss: 0.249] [G loss: 0.5] [Speed: 0.49 it/s]\n",
      "[Epoch: 10] [D loss: 0.249] [G loss: 0.498] [Speed: 11.63 it/s]\n",
      "[Epoch: 20] [D loss: 0.248] [G loss: 0.496] [Speed: 10.87 it/s]\n",
      "[Epoch: 24] [D loss: 0.248] [G loss: 0.496] [Speed: 10.99 it/s]\n",
      "Time Used: 0m 4s\n",
      ".\n",
      ".\n",
      "Learning \"calendar_dates\" data......\n",
      "[Epoch: 0] [D loss: 0.249] [G loss: 0.5] [Speed: 0.46 it/s]\n",
      "[Epoch: 10] [D loss: 0.249] [G loss: 0.498] [Speed: 9.17 it/s]\n",
      "[Epoch: 20] [D loss: 0.248] [G loss: 0.497] [Speed: 9.52 it/s]\n",
      "[Epoch: 24] [D loss: 0.248] [G loss: 0.496] [Speed: 9.8 it/s]\n",
      "Time Used: 0m 4s\n",
      ".\n",
      ".\n",
      "Learning \"routes\" data......\n",
      "[Epoch: 0] [D loss: 0.251] [G loss: 0.5] [Speed: 0.47 it/s]\n",
      "[Epoch: 10] [D loss: 0.249] [G loss: 0.498] [Speed: 9.34 it/s]\n",
      "[Epoch: 20] [D loss: 0.248] [G loss: 0.496] [Speed: 9.43 it/s]\n",
      "[Epoch: 24] [D loss: 0.248] [G loss: 0.496] [Speed: 9.26 it/s]\n",
      "Time Used: 0m 4s\n",
      ".\n",
      ".\n",
      "Learning \"stops\" data......\n",
      "[Epoch: 0] [D loss: 0.252] [G loss: 0.5] [Speed: 0.46 it/s]\n",
      "[Epoch: 10] [D loss: 0.249] [G loss: 0.498] [Speed: 9.71 it/s]\n",
      "[Epoch: 20] [D loss: 0.248] [G loss: 0.496] [Speed: 9.26 it/s]\n",
      "[Epoch: 24] [D loss: 0.248] [G loss: 0.496] [Speed: 9.34 it/s]\n",
      "Time Used: 0m 4s\n",
      ".\n",
      ".\n",
      "Learning \"stop_times\" data......\n",
      "[Epoch: 0] [D loss: 0.249] [G loss: 0.5] [Speed: 0.47 it/s]\n",
      "[Epoch: 10] [D loss: 0.249] [G loss: 0.498] [Speed: 9.8 it/s]\n",
      "[Epoch: 20] [D loss: 0.248] [G loss: 0.497] [Speed: 9.71 it/s]\n",
      "[Epoch: 24] [D loss: 0.248] [G loss: 0.496] [Speed: 9.71 it/s]\n",
      "Time Used: 0m 4s\n",
      ".\n",
      ".\n",
      "Learning \"trips\" data......\n",
      "[Epoch: 0] [D loss: 0.25] [G loss: 0.5] [Speed: 0.47 it/s]\n",
      "[Epoch: 10] [D loss: 0.249] [G loss: 0.498] [Speed: 8.77 it/s]\n",
      "[Epoch: 20] [D loss: 0.248] [G loss: 0.497] [Speed: 9.26 it/s]\n",
      "[Epoch: 24] [D loss: 0.248] [G loss: 0.496] [Speed: 8.69 it/s]\n",
      "Time Used: 0m 4s\n",
      ".\n",
      ".\n"
     ]
    },
    {
     "data": {
      "image/png": "[encoded data removed]",
      "text/plain": [
       "<Figure size 1500x1500 with 7 Axes>"
      ]
     },
     "metadata": {},
     "output_type": "display_data"
    },
    {
     "name": "stdout",
     "output_type": "stream",
     "text": [
      "Total Time Used: 0m 39s\n"
     ]
    }
   ],
   "source": [
    "collection_training(processed_data_collection, training_parameter_dict)"
   ]
  },
  {
   "cell_type": "markdown",
   "id": "37613df5-a0f7-4158-90e9-39c2f683bb49",
   "metadata": {},
   "source": [
    "# Synthetic Data Generation"
   ]
  },
  {
   "cell_type": "code",
   "execution_count": 38,
   "id": "d8ddd453-c6bc-4c39-9b68-b696eb95f2d3",
   "metadata": {},
   "outputs": [],
   "source": [
    "# table_name:\n",
    "# {'table':table, # df\n",
    "#  'labels':labels, # df\n",
    "#  'scaler':scaler, # a scaler object\n",
    "#  'table_col_names':table_columns, # list of col names\n",
    "#  'label_col_names':label_columns, # list of col names\n",
    "#  'metadata':metadata[df_name]} # a metadata dict (see below)\n",
    "\n",
    "# metadata\n",
    "# {'primary_key':primary_key, # list, [column names, number_of_unique_ids]\n",
    "#  'parent':parent, # dict, {parent_name:shared_id_column_name, ...}\n",
    "#  'child':child} # str, child_name"
   ]
  },
  {
   "cell_type": "code",
   "execution_count": 39,
   "id": "07ad6ba0-ff4e-404f-8196-c02fdfba9b70",
   "metadata": {},
   "outputs": [],
   "source": [
    "# def generate_individual_synth_data(generator, labels, seed=123):\n",
    "#     pass"
   ]
  },
  {
   "cell_type": "code",
   "execution_count": 40,
   "id": "d5f5c4ed-f7f2-4a89-bce2-57a32fba3474",
   "metadata": {},
   "outputs": [],
   "source": [
    "def generate_synth_data_collection(processed_data_collection, generation_dict, latent_dim=100, seed=123):\n",
    "    np.random.seed(seed)\n",
    "    synthetic_data_collection = {}\n",
    "    features_to_ignore_rounding = ['shape_pt_lat',\n",
    "                      'shape_pt_lon',\n",
    "                      'stop_lat',\n",
    "                      'stop_lon',\n",
    "                     'shape_dist_traveled']\n",
    "    for df_name, content in processed_data_collection.items():\n",
    "        generator = models.load_model('models/'+df_name+'_gan.h5')\n",
    "        primary_key = content['metadata']['primary_key']\n",
    "        child = content['metadata']['child']\n",
    "        parent = content['metadata']['parent']\n",
    "        fake_labels_df_dict = {}\n",
    "        if primary_key != []:\n",
    "            primary_key_col = primary_key[0]\n",
    "            n_primary_keys = generation_dict[df_name]['nrows']\n",
    "            fake_labels_df_dict[primary_key_col] = np.arange(n_primary_keys).tolist()\n",
    "        if parent != {}:\n",
    "            for parent_df_name, fr_key in parent.items():\n",
    "                length = generation_dict[df_name]['nrows']\n",
    "                parent_df = processed_data_collection[parent_df_name]\n",
    "                kde = gaussian_kde(parent_df['labels'][fr_key].to_numpy())\n",
    "                lower_bound = parent_df['labels'][fr_key].min()\n",
    "                upper_bound = parent_df['labels'][fr_key].max()\n",
    "                fake_array = kde.resample(length).flatten()\n",
    "                fake_labels_df_dict[fr_key] = np.round(fake_array).clip(lower_bound, upper_bound).astype(int)\n",
    "                # n_foreign_primary_keys = generation_dict[parent_df_name]['nrows']\n",
    "                # length = generation_dict[df_name]['nrows']\n",
    "                # fake_labels_df_dict[fr_key] = np.random.randint(0, n_foreign_primary_keys, length).tolist()\n",
    "        fake_labels_df = pd.DataFrame(fake_labels_df_dict).reindex(columns=content['label_col_names'])\n",
    "        # scaled_fake_labels_df = pd.DataFrame(content['labels_scaler'].transform(fake_labels_df), columns=content['label_col_names'])\n",
    "        noise = np.random.uniform(0, 1, size=(generation_dict[df_name]['nrows'], latent_dim))\n",
    "        raw_fake_table = generator.predict([noise, fake_labels_df])\n",
    "        scaled_fake_table = content['table_scaler'].inverse_transform(raw_fake_table)\n",
    "        fake_table_df = pd.DataFrame(scaled_fake_table, columns=content['table_col_names'])\n",
    "        fake_data = pd.concat([fake_labels_df, fake_table_df], axis=1)\n",
    "        \n",
    "        columns_to_int = [col for col in fake_data.columns if col not in features_to_ignore_rounding]\n",
    "        for col in columns_to_int:\n",
    "            fake_data[col] = fake_data[col].round().astype(int)\n",
    "                \n",
    "        synthetic_data_collection[df_name] = fake_data\n",
    "        \n",
    "    return synthetic_data_collection"
   ]
  },
  {
   "cell_type": "code",
   "execution_count": 41,
   "id": "9bc7f2c3-5040-423d-8e40-c8e4f7f87e2e",
   "metadata": {},
   "outputs": [],
   "source": [
    "generation_dict = {k:{'nrows':len(v['table'])} for k,v in processed_data_collection.items()}"
   ]
  },
  {
   "cell_type": "code",
   "execution_count": 42,
   "id": "1e39be14-abfa-422e-a33a-f6333dc191a1",
   "metadata": {},
   "outputs": [
    {
     "data": {
      "text/plain": [
       "{'agency': {'nrows': 15},\n",
       " 'calendar': {'nrows': 121},\n",
       " 'calendar_dates': {'nrows': 674},\n",
       " 'routes': {'nrows': 215},\n",
       " 'stops': {'nrows': 6714},\n",
       " 'stop_times': {'nrows': 966790},\n",
       " 'trips': {'nrows': 32403}}"
      ]
     },
     "execution_count": 42,
     "metadata": {},
     "output_type": "execute_result"
    }
   ],
   "source": [
    "generation_dict"
   ]
  },
  {
   "cell_type": "code",
   "execution_count": 43,
   "id": "1af7da14-2d7d-4c16-80e0-5c51f93f8675",
   "metadata": {
    "scrolled": true,
    "tags": []
   },
   "outputs": [],
   "source": [
    "synthetic_data_collection = generate_synth_data_collection(processed_data_collection, generation_dict)"
   ]
  },
  {
   "cell_type": "code",
   "execution_count": 44,
   "id": "86bb30b7-2fa2-437b-b1aa-154679435963",
   "metadata": {
    "scrolled": true,
    "tags": []
   },
   "outputs": [
    {
     "data": {
      "text/plain": [
       "{'agency':     agency_id  agency_url  agency_timezone  agency_lang  agency_phone\n",
       " 0           0           1                1            0             0\n",
       " 1           1           1                1            0             0\n",
       " 2           2           1                1            1             0\n",
       " 3           3           1                1            0             0\n",
       " 4           4           1                1            0             0\n",
       " 5           5           1                1            0             1\n",
       " 6           6           1                1            0             0\n",
       " 7           7           1                1            1             1\n",
       " 8           8           1                1            0             1\n",
       " 9           9           1                1            1             1\n",
       " 10         10           1                1            1             1\n",
       " 11         11           1                1            1             1\n",
       " 12         12           1                1            0             1\n",
       " 13         13           1                1            1             1\n",
       " 14         14           1                1            0             1,\n",
       " 'calendar':      service_id  monday  tuesday  wednesday  thursday  friday  saturday  \\\n",
       " 0             0       1        0          1         1       0         0   \n",
       " 1             1       0        0          1         1       0         0   \n",
       " 2             2       0        0          1         1       0         0   \n",
       " 3             3       1        1          1         1       1         1   \n",
       " 4             4       0        0          1         1       0         0   \n",
       " ..          ...     ...      ...        ...       ...     ...       ...   \n",
       " 116         116       0        0          1         1       0         0   \n",
       " 117         117       0        0          1         1       0         0   \n",
       " 118         118       0        0          1         1       0         0   \n",
       " 119         119       0        0          1         1       0         0   \n",
       " 120         120       0        0          1         1       0         0   \n",
       " \n",
       "      sunday  start_date  end_date  \n",
       " 0         0       44997     45032  \n",
       " 1         0       44998     45035  \n",
       " 2         0       44998     45034  \n",
       " 3         1       44998     45036  \n",
       " 4         0       44998     45035  \n",
       " ..      ...         ...       ...  \n",
       " 116       0       44997     45033  \n",
       " 117       0       44998     45035  \n",
       " 118       0       44998     45035  \n",
       " 119       0       44998     45037  \n",
       " 120       0       44998     45035  \n",
       " \n",
       " [121 rows x 10 columns],\n",
       " 'calendar_dates':      service_id   date  exception_type\n",
       " 0            60  45024               1\n",
       " 1            63  45025               1\n",
       " 2            78  45026               1\n",
       " 3            61  45026               2\n",
       " 4            81  45024               1\n",
       " ..          ...    ...             ...\n",
       " 669         106  45026               1\n",
       " 670           8  45025               2\n",
       " 671         102  45027               1\n",
       " 672         103  45028               1\n",
       " 673          16  45025               1\n",
       " \n",
       " [674 rows x 3 columns],\n",
       " 'routes':      route_id  agency_id  route_type  route_color  route_text_color  \\\n",
       " 0           0         13           3            5                 0   \n",
       " 1           1          6           3            4                 0   \n",
       " 2           2          1           3            4                 0   \n",
       " 3           3          6           3            4                 0   \n",
       " 4           4         13           3            4                 0   \n",
       " ..        ...        ...         ...          ...               ...   \n",
       " 210       210          3           3            5                 0   \n",
       " 211       211          8           3            5                 0   \n",
       " 212       212          0           3            4                 0   \n",
       " 213       213          3           3            5                 0   \n",
       " 214       214          5           3            5                 0   \n",
       " \n",
       "      contract_id  \n",
       " 0             40  \n",
       " 1             33  \n",
       " 2             30  \n",
       " 3             36  \n",
       " 4             36  \n",
       " ..           ...  \n",
       " 210           30  \n",
       " 211           32  \n",
       " 212           27  \n",
       " 213           27  \n",
       " 214           30  \n",
       " \n",
       " [215 rows x 6 columns],\n",
       " 'stops':       stop_id   stop_lat    stop_lon  location_type  parent_station  \\\n",
       " 0           0 -37.157658  174.938156              1              57   \n",
       " 1           1 -37.140362  174.980530              1              59   \n",
       " 2           2 -37.169880  174.957535              1              58   \n",
       " 3           3 -37.121006  174.978546              1              51   \n",
       " 4           4 -37.147064  174.915512              1              54   \n",
       " ...       ...        ...         ...            ...             ...   \n",
       " 6709     6709 -37.043118  174.850311              1              48   \n",
       " 6710     6710 -37.043198  174.886154              1              51   \n",
       " 6711     6711 -37.004856  174.930389              1              49   \n",
       " 6712     6712 -36.952206  174.900635              1              48   \n",
       " 6713     6713 -37.047218  174.900665              1              47   \n",
       " \n",
       "       platform_code  wheelchair_boarding  start_date  end_date  \n",
       " 0                17                    0       44998     45033  \n",
       " 1                15                    0       44998     45032  \n",
       " 2                16                    0       44998     45033  \n",
       " 3                16                    0       44998     45033  \n",
       " 4                15                    0       44998     45032  \n",
       " ...             ...                  ...         ...       ...  \n",
       " 6709             15                    0       44998     45034  \n",
       " 6710             16                    0       44997     45036  \n",
       " 6711             16                    0       44997     45033  \n",
       " 6712             15                    0       44997     45030  \n",
       " 6713             15                    0       44997     45035  \n",
       " \n",
       " [6714 rows x 9 columns],\n",
       " 'stop_times':         stop_id  trip_id  arrival_time  departure_time  stop_sequence  \\\n",
       " 0            84     9025         40944           44176             40   \n",
       " 1          1329    10326         42855           45861             39   \n",
       " 2          2582    30585         43684           42484             31   \n",
       " 3          6672     5613         45215           38612             38   \n",
       " 4          3875     2329         46333           43176             41   \n",
       " ...         ...      ...           ...             ...            ...   \n",
       " 966785     2332     3742         46080           41794             41   \n",
       " 966786     4665    30286         43228           41724             32   \n",
       " 966787     4957     1476         44492           40805             41   \n",
       " 966788     3452    28227         45060           42198             33   \n",
       " 966789     6504    11290         44318           41752             38   \n",
       " \n",
       "         stop_headsign  pickup_type  drop_off_type  shape_dist_traveled  \\\n",
       " 0                 109            1              1            69.528381   \n",
       " 1                 114            1              1            69.407295   \n",
       " 2                 116            1              1            79.213531   \n",
       " 3                 133            1              0            85.904472   \n",
       " 4                 130            0              1            71.817924   \n",
       " ...               ...          ...            ...                  ...   \n",
       " 966785            117            1              1            70.296211   \n",
       " 966786            118            1              1            79.788719   \n",
       " 966787            130            1              0            72.457504   \n",
       " 966788            119            1              1            78.183556   \n",
       " 966789            120            1              1            80.631874   \n",
       " \n",
       "         timepoint  \n",
       " 0               0  \n",
       " 1               1  \n",
       " 2               1  \n",
       " 3               1  \n",
       " 4               1  \n",
       " ...           ...  \n",
       " 966785          1  \n",
       " 966786          1  \n",
       " 966787          1  \n",
       " 966788          1  \n",
       " 966789          1  \n",
       " \n",
       " [966790 rows x 10 columns],\n",
       " 'trips':        trip_id  service_id  route_id  trip_headsign  direction_id  shape_id  \\\n",
       " 0            0         101       118            312             1       386   \n",
       " 1            1          16       140            274             1       410   \n",
       " 2            2          54       206            283             1       380   \n",
       " 3            3           4         0            300             0       351   \n",
       " 4            4          57       171            274             1       360   \n",
       " ...        ...         ...       ...            ...           ...       ...   \n",
       " 32398    32398          86       175            225             1       450   \n",
       " 32399    32399          62       111            272             1       424   \n",
       " 32400    32400          77       205            237             1       452   \n",
       " 32401    32401          71       156            255             1       448   \n",
       " 32402    32402          36        24            282             1       392   \n",
       " \n",
       "        wheelchair_accessible  bikes_allowed  \n",
       " 0                          1              1  \n",
       " 1                          1              1  \n",
       " 2                          1              1  \n",
       " 3                          1              1  \n",
       " 4                          1              1  \n",
       " ...                      ...            ...  \n",
       " 32398                      1              1  \n",
       " 32399                      1              1  \n",
       " 32400                      1              1  \n",
       " 32401                      1              1  \n",
       " 32402                      1              0  \n",
       " \n",
       " [32403 rows x 8 columns]}"
      ]
     },
     "execution_count": 44,
     "metadata": {},
     "output_type": "execute_result"
    }
   ],
   "source": [
    "synthetic_data_collection"
   ]
  },
  {
   "cell_type": "markdown",
   "id": "93c53d11-a98d-4905-89c9-5c65098d82c4",
   "metadata": {},
   "source": [
    "# Metrics"
   ]
  },
  {
   "cell_type": "markdown",
   "id": "c6d8f9a7-ec7c-4eff-9a6a-91689c04619e",
   "metadata": {},
   "source": [
    "## Pre-metrics Data Processing"
   ]
  },
  {
   "cell_type": "code",
   "execution_count": 45,
   "id": "8066311d-d2e5-4892-aece-ef5f685fd00e",
   "metadata": {
    "tags": []
   },
   "outputs": [],
   "source": [
    "def convert_to_dataframe_collection(processed_data_collection):\n",
    "    new_dict = {}\n",
    "    features_to_ignore_rounding = ['shape_pt_lat',\n",
    "                      'shape_pt_lon',\n",
    "                      'stop_lat',\n",
    "                      'stop_lon',\n",
    "                     'shape_dist_traveled']\n",
    "    for df_name, content in processed_data_collection.items():\n",
    "        table_scaler = content['table_scaler']\n",
    "        labels = content['labels']\n",
    "        table = content['table']\n",
    "        table = pd.DataFrame(table_scaler.inverse_transform(table),columns = content['table_col_names'])\n",
    "        new_df = pd.concat([labels, table], axis=1)\n",
    "        columns_to_int = [col for col in new_df.columns if col not in features_to_ignore_rounding]\n",
    "        for col in columns_to_int:\n",
    "            new_df[col] = new_df[col].round().astype(int)\n",
    "        new_dict[df_name] = new_df\n",
    "    return new_dict"
   ]
  },
  {
   "cell_type": "code",
   "execution_count": 46,
   "id": "4712b1b4-8ac4-47ba-a542-c3670b369857",
   "metadata": {},
   "outputs": [],
   "source": [
    "real_data_collection = convert_to_dataframe_collection(processed_data_collection)"
   ]
  },
  {
   "cell_type": "code",
   "execution_count": 47,
   "id": "9957e502-20d2-41d5-be3e-c707754fd943",
   "metadata": {
    "scrolled": true,
    "tags": []
   },
   "outputs": [],
   "source": [
    "real_data_collection\n",
    "del processed_data_collection"
   ]
  },
  {
   "cell_type": "markdown",
   "id": "b2f629f9-9cd2-47dc-ade3-dc97edd07a25",
   "metadata": {},
   "source": [
    "### Cosine Similarity Test"
   ]
  },
  {
   "cell_type": "code",
   "execution_count": 48,
   "id": "6227efd9-8e40-46eb-8a35-63ad5122e1bd",
   "metadata": {},
   "outputs": [],
   "source": [
    "def cos_test(fake_collection, real_collection):\n",
    "    test_dict = {}\n",
    "    for df_name in fake_collection.keys():\n",
    "        mean_cos = []\n",
    "        mean_cos.append(np.mean(metrics.pairwise.cosine_similarity(fake_collection[df_name].T, real_collection[df_name].T)))\n",
    "        test_dict[df_name] = np.mean(mean_cos)\n",
    "    return test_dict"
   ]
  },
  {
   "cell_type": "code",
   "execution_count": 49,
   "id": "c7ce6995-c917-4430-b8fe-84dedccbd2d3",
   "metadata": {},
   "outputs": [
    {
     "data": {
      "text/plain": [
       "{'agency': 0.17197794196635313,\n",
       " 'calendar': 0.49221033896169536,\n",
       " 'calendar_dates': 0.8743835360396768,\n",
       " 'routes': 0.3388447608237484,\n",
       " 'stops': 0.21668188634574276,\n",
       " 'stop_times': 0.5922777259531372,\n",
       " 'trips': 0.5674423388415591}"
      ]
     },
     "execution_count": 49,
     "metadata": {},
     "output_type": "execute_result"
    }
   ],
   "source": [
    "cos_test(synthetic_data_collection, real_data_collection)"
   ]
  },
  {
   "cell_type": "markdown",
   "id": "cf3cf25c-9be0-426f-abdb-ed571899cc87",
   "metadata": {},
   "source": [
    "### KS (Kolmogorov-Smirnov) Test"
   ]
  },
  {
   "cell_type": "code",
   "execution_count": 50,
   "id": "a82e562a-3882-4401-975d-3ffdc7a4c6ac",
   "metadata": {},
   "outputs": [],
   "source": [
    "def batch_ks_test(fake_collection, real_collection):\n",
    "    stats_dict = {}\n",
    "    for df_name, fake_df in fake_collection.items():\n",
    "        stats_list = []\n",
    "        p_val_list = []\n",
    "        test_dict = {}\n",
    "        for col in fake_df.columns:\n",
    "            stats, p_val = ks_2samp(fake_df[col], real_collection[df_name][col], alternative='two-sided', method='auto')\n",
    "            stats_list.append(stats)\n",
    "            p_val_list.append(p_val)\n",
    "        test_dict['k_stats'] = np.mean(stats_list)\n",
    "        test_dict['p_value'] = np.mean(p_val_list)\n",
    "        stats_dict[df_name] = test_dict\n",
    "    return stats_dict"
   ]
  },
  {
   "cell_type": "code",
   "execution_count": 51,
   "id": "45fbd436-53f5-401c-b380-38f12e9b4a80",
   "metadata": {},
   "outputs": [
    {
     "data": {
      "text/plain": [
       "{'agency': {'k_stats': 0.6, 'p_value': 0.23841440219002985},\n",
       " 'calendar': {'k_stats': 0.40661157024793393, 'p_value': 0.20235676093758198},\n",
       " 'calendar_dates': {'k_stats': 0.33283877349159247,\n",
       "  'p_value': 9.956366016723962e-09},\n",
       " 'routes': {'k_stats': 0.448062015503876, 'p_value': 0.31537658817611053},\n",
       " 'stops': {'k_stats': 0.7413034124383544, 'p_value': 0.1111111111111111},\n",
       " 'stop_times': {'k_stats': 0.6373051024524458, 'p_value': 0.0},\n",
       " 'trips': {'k_stats': 0.4862319846927753, 'p_value': 0.125}}"
      ]
     },
     "execution_count": 51,
     "metadata": {},
     "output_type": "execute_result"
    }
   ],
   "source": [
    "batch_ks_test(synthetic_data_collection, real_data_collection)"
   ]
  }
 ],
 "metadata": {
  "kernelspec": {
   "display_name": "Python 3 (ipykernel)",
   "language": "python",
   "name": "python3"
  },
  "language_info": {
   "codemirror_mode": {
    "name": "ipython",
    "version": 3
   },
   "file_extension": ".py",
   "mimetype": "text/x-python",
   "name": "python",
   "nbconvert_exporter": "python",
   "pygments_lexer": "ipython3",
   "version": "3.9.16"
  },
  "toc-autonumbering": true
 },
 "nbformat": 4,
 "nbformat_minor": 5
}
