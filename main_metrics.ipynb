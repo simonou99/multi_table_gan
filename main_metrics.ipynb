{
 "cells": [
  {
   "cell_type": "code",
   "execution_count": 1,
   "id": "5df663a3-2174-48bd-a9e6-a0608a5431bd",
   "metadata": {},
   "outputs": [],
   "source": [
    "import os\n",
    "import time\n",
    "import math\n",
    "import random\n",
    "import pickle\n",
    "import numpy as np\n",
    "import pandas as pd\n",
    "import matplotlib.pyplot as plt\n",
    "from sklearn import metrics\n",
    "from scipy.stats import ks_2samp\n",
    "from sdv.metadata import MultiTableMetadata\n",
    "from sdv.evaluation.single_table import evaluate_quality as st_evaluate_quality\n",
    "from sdv.evaluation.single_table import run_diagnostic as st_run_diagnostic\n",
    "from sdv.evaluation.multi_table import evaluate_quality as mt_evaluate_quality\n",
    "from sdv.evaluation.multi_table import run_diagnostic as mt_run_diagnostic"
   ]
  },
  {
   "cell_type": "markdown",
   "id": "9fc969e1-a8fa-4875-85a5-b1eacd68afd9",
   "metadata": {},
   "source": [
    "# Load Processed Data From Generation Stage"
   ]
  },
  {
   "cell_type": "code",
   "execution_count": 2,
   "id": "83b9e20d-1ff7-4a6c-b6af-dd2a8ad5b8dc",
   "metadata": {},
   "outputs": [],
   "source": [
    "with open('pkl/real_data_collection.pkl', 'rb') as f:\n",
    "    real_data_collection = pickle.load(f)"
   ]
  },
  {
   "cell_type": "code",
   "execution_count": 3,
   "id": "f65b380f-0af9-4fcc-9298-c10ccf7f1d99",
   "metadata": {},
   "outputs": [],
   "source": [
    "with open('pkl/synthetic_data_collection.pkl', 'rb') as f:\n",
    "    synthetic_data_collection = pickle.load(f)"
   ]
  },
  {
   "cell_type": "code",
   "execution_count": 4,
   "id": "6a179659-cf41-492c-b27d-1d366f32b124",
   "metadata": {},
   "outputs": [],
   "source": [
    "with open('pkl/sdv_metadata.pkl', 'rb') as f:\n",
    "    sdv_metadata = pickle.load(f)"
   ]
  },
  {
   "cell_type": "code",
   "execution_count": 5,
   "id": "acb439bc-c08e-4f0a-8f70-d83c3eae0c07",
   "metadata": {
    "scrolled": true,
    "tags": []
   },
   "outputs": [
    {
     "data": {
      "text/plain": [
       "{'agency':     agency_id  agency_url  agency_timezone  agency_lang  agency_phone\n",
       " 0           0           0                0            0             0\n",
       " 1           1           0                0            0             0\n",
       " 2           2           0                0            0             0\n",
       " 3           3           0                0            0             0\n",
       " 4           4           0                0            0             0\n",
       " 5           5           0                0            0             0\n",
       " 6           6           0                0            0             0\n",
       " 7           7           0                0            0             0\n",
       " 8           8           0                0            0             0\n",
       " 9           9           0                0            0             0\n",
       " 10         10           0                0            0             0\n",
       " 11         11           0                0            0             0\n",
       " 12         12           0                0            0             0\n",
       " 13         13           0                0            0             0\n",
       " 14         14           0                0            0             0,\n",
       " 'calendar':      service_id  monday  tuesday  wednesday  thursday  friday  saturday  \\\n",
       " 0             0       1        1          1         1       1         1   \n",
       " 1             1       1        1          1         1       1         1   \n",
       " 2             2       1        1          1         1       1         1   \n",
       " 3             3       1        1          1         1       1         1   \n",
       " 4             4       1        1          1         1       1         1   \n",
       " ..          ...     ...      ...        ...       ...     ...       ...   \n",
       " 116         116       0        0          0         0       0         1   \n",
       " 117         117       1        1          1         1       0         0   \n",
       " 118         118       1        1          1         1       0         0   \n",
       " 119         119       1        1          1         1       0         0   \n",
       " 120         120       1        1          1         1       0         0   \n",
       " \n",
       "      sunday  start_date  end_date  \n",
       " 0         1       44993     45060  \n",
       " 1         1       44994     45060  \n",
       " 2         1       44993     45060  \n",
       " 3         1       45002     45060  \n",
       " 4         1       45002     45060  \n",
       " ..      ...         ...       ...  \n",
       " 116       1       44993     45060  \n",
       " 117       0       44993     45060  \n",
       " 118       0       44994     45060  \n",
       " 119       0       44993     45001  \n",
       " 120       0       44994     45060  \n",
       " \n",
       " [121 rows x 10 columns],\n",
       " 'calendar_dates':      service_id   date  exception_type\n",
       " 0             2  44993               2\n",
       " 1             2  44996               2\n",
       " 2             2  44997               2\n",
       " 3             2  44998               2\n",
       " 4             2  44999               2\n",
       " ..          ...    ...             ...\n",
       " 669         120  45004               2\n",
       " 670         120  45005               2\n",
       " 671         120  45006               2\n",
       " 672         120  45024               2\n",
       " 673         120  45039               2\n",
       " \n",
       " [674 rows x 3 columns],\n",
       " 'routes':      route_id  agency_id  route_type  route_color  route_text_color  \\\n",
       " 0           0          8           3           -1                -1   \n",
       " 1           1          7           3            0                 1   \n",
       " 2           2          4           4            3                 1   \n",
       " 3           3          8           3            1                 1   \n",
       " 4           4          0           2            5                 0   \n",
       " ..        ...        ...         ...          ...               ...   \n",
       " 210       210          1           3            7                 1   \n",
       " 211       211          1           3            7                 1   \n",
       " 212       212          1           3            5                 0   \n",
       " 213       213          0           2            7                 1   \n",
       " 214       214          3           4            3                 1   \n",
       " \n",
       "      contract_id  \n",
       " 0              7  \n",
       " 1             61  \n",
       " 2             62  \n",
       " 3              4  \n",
       " 4             63  \n",
       " ..           ...  \n",
       " 210           61  \n",
       " 211           61  \n",
       " 212           61  \n",
       " 213           63  \n",
       " 214           57  \n",
       " \n",
       " [215 rows x 6 columns],\n",
       " 'stops':       stop_id  stop_lat   stop_lon  location_type  parent_station  \\\n",
       " 0           0 -36.97766  174.84925              1              -1   \n",
       " 1           1 -36.84326  174.76575              0              73   \n",
       " 2           2 -36.84381  174.76551              0              73   \n",
       " 3           3 -36.89726  174.80712              1              -1   \n",
       " 4           4 -36.84403  174.76550              0              73   \n",
       " ...       ...       ...        ...            ...             ...   \n",
       " 6709     6709 -36.85073  174.75679              0              -1   \n",
       " 6710     6710 -36.75943  174.74654              0              -1   \n",
       " 6711     6711 -36.75716  174.74401              0              -1   \n",
       " 6712     6712 -36.75667  174.74761              0              -1   \n",
       " 6713     6713 -36.39619  174.66156              0              -1   \n",
       " \n",
       "       platform_code  wheelchair_boarding  start_date  end_date  \n",
       " 0                -1                    0       44993     45060  \n",
       " 1                27                    0       44993     45060  \n",
       " 2                28                    0       44993     45060  \n",
       " 3                -1                    0       44993     45060  \n",
       " 4                29                    0       44993     45060  \n",
       " ...             ...                  ...         ...       ...  \n",
       " 6709             -1                    0       44993     45060  \n",
       " 6710             -1                    0       44993     45060  \n",
       " 6711             -1                    0       44993     45060  \n",
       " 6712             -1                    0       44993     45060  \n",
       " 6713             -1                    0       44993     45060  \n",
       " \n",
       " [6714 rows x 9 columns],\n",
       " 'stop_times':         trip_id  arrival_time  departure_time  stop_id  stop_sequence  \\\n",
       " 0         11377         37680           37680     4172              1   \n",
       " 1         11377         37785           37785     4174              2   \n",
       " 2         11377         37864           37864     4007              3   \n",
       " 3         11377         37914           37914     4181              4   \n",
       " 4         11377         37969           37969      737              5   \n",
       " ...         ...           ...             ...      ...            ...   \n",
       " 966785    22010         49881           49881     1801             62   \n",
       " 966786    22010         49933           49933     1803             63   \n",
       " 966787    22010         50034           50034     1744             64   \n",
       " 966788    22010         50101           50101     1740             65   \n",
       " 966789    22010         50160           50160     1852             66   \n",
       " \n",
       "         stop_headsign  pickup_type  drop_off_type  shape_dist_traveled  \\\n",
       " 0                 153            0              0                0.000   \n",
       " 1                 153            0              0                0.794   \n",
       " 2                 153            0              0                1.395   \n",
       " 3                 153            0              0                1.777   \n",
       " 4                 153            0              0                2.192   \n",
       " ...               ...          ...            ...                  ...   \n",
       " 966785            198            0              0               25.266   \n",
       " 966786            198            0              0               25.515   \n",
       " 966787            198            0              0               25.994   \n",
       " 966788            198            0              0               26.311   \n",
       " 966789            198            1              0               26.591   \n",
       " \n",
       "         timepoint  \n",
       " 0               0  \n",
       " 1               0  \n",
       " 2               0  \n",
       " 3               0  \n",
       " 4               0  \n",
       " ...           ...  \n",
       " 966785          0  \n",
       " 966786          0  \n",
       " 966787          0  \n",
       " 966788          0  \n",
       " 966789          0  \n",
       " \n",
       " [966790 rows x 10 columns],\n",
       " 'trips':        route_id  service_id  trip_id  trip_headsign  direction_id  shape_id  \\\n",
       " 0           179          93        0            600             0         0   \n",
       " 1           179          93        1            600             0         0   \n",
       " 2           179          93        2            600             0         0   \n",
       " 3           179          93        3            600             0         0   \n",
       " 4           179         105        4            600             0         0   \n",
       " ...         ...         ...      ...            ...           ...       ...   \n",
       " 32398        18          93    32398             20             0       670   \n",
       " 32399        18         105    32399             20             0       670   \n",
       " 32400        18          93    32400             20             0       670   \n",
       " 32401        18         105    32401             20             0       670   \n",
       " 32402        18          93    32402            526             0       672   \n",
       " \n",
       "        wheelchair_accessible  bikes_allowed  \n",
       " 0                          0              0  \n",
       " 1                          0              0  \n",
       " 2                          0              0  \n",
       " 3                          0              0  \n",
       " 4                          0              0  \n",
       " ...                      ...            ...  \n",
       " 32398                      0              0  \n",
       " 32399                      0              0  \n",
       " 32400                      0              0  \n",
       " 32401                      0              0  \n",
       " 32402                      0              0  \n",
       " \n",
       " [32403 rows x 8 columns]}"
      ]
     },
     "execution_count": 5,
     "metadata": {},
     "output_type": "execute_result"
    }
   ],
   "source": [
    "real_data_collection"
   ]
  },
  {
   "cell_type": "code",
   "execution_count": 6,
   "id": "7cfca3e6-6750-488b-9f20-22cbe15b3796",
   "metadata": {
    "scrolled": true,
    "tags": []
   },
   "outputs": [
    {
     "data": {
      "text/plain": [
       "{'agency':     agency_id  agency_url  agency_timezone  agency_lang  agency_phone\n",
       " 0           0           0                0            0             0\n",
       " 1           1           0                0            0             0\n",
       " 2           2           0                0            0             0\n",
       " 3           3           0                0            0             0\n",
       " 4           4           0                0            0             0\n",
       " 5           5           0                0            0             0\n",
       " 6           6           0                0            0             0\n",
       " 7           7           0                0            0             0\n",
       " 8           8           0                0            0             0\n",
       " 9           9           0                0            0             0\n",
       " 10         10           0                0            0             0\n",
       " 11         11           0                0            0             0\n",
       " 12         12           0                0            0             0\n",
       " 13         13           0                0            0             0\n",
       " 14         14           0                0            0             0,\n",
       " 'calendar':      service_id  monday  tuesday  wednesday  thursday  friday  saturday  \\\n",
       " 0             0       0        0          0         0       0         0   \n",
       " 1             1       0        0          0         0       0         0   \n",
       " 2             2       0        0          0         0       0         0   \n",
       " 3             3       0        0          0         0       0         0   \n",
       " 4             4       0        0          0         0       0         0   \n",
       " ..          ...     ...      ...        ...       ...     ...       ...   \n",
       " 116         116       0        0          0         0       0         0   \n",
       " 117         117       0        0          0         0       0         0   \n",
       " 118         118       0        0          0         0       0         0   \n",
       " 119         119       0        0          0         0       0         0   \n",
       " 120         120       0        0          0         0       0         0   \n",
       " \n",
       "      sunday  start_date  end_date  \n",
       " 0         0       44995     45060  \n",
       " 1         0       44995     45061  \n",
       " 2         0       44995     45061  \n",
       " 3         0       44995     45060  \n",
       " 4         0       44995     45061  \n",
       " ..      ...         ...       ...  \n",
       " 116       0       44995     45061  \n",
       " 117       0       44995     45062  \n",
       " 118       0       44995     45062  \n",
       " 119       0       44996     45062  \n",
       " 120       0       44995     45060  \n",
       " \n",
       " [121 rows x 10 columns],\n",
       " 'calendar_dates':      service_id   date  exception_type\n",
       " 669           0  44995               1\n",
       " 658           0  44997               1\n",
       " 156           0  45001               1\n",
       " 491           0  45001               1\n",
       " 590           0  45003               1\n",
       " ..          ...    ...             ...\n",
       " 611         117  45008               1\n",
       " 472         118  45014               1\n",
       " 512         118  45024               1\n",
       " 17          120  45014               1\n",
       " 340         120  45025               1\n",
       " \n",
       " [674 rows x 3 columns],\n",
       " 'routes':      route_id  agency_id  route_type  route_color  route_text_color  \\\n",
       " 0           0          9           3            0                 0   \n",
       " 1           1         10           3            0                 0   \n",
       " 2           2          4           3            0                 0   \n",
       " 3           3          3           3            0                 0   \n",
       " 4           4          0           3            0                 0   \n",
       " ..        ...        ...         ...          ...               ...   \n",
       " 210       210          8           3            0                 0   \n",
       " 211       211         13           3            0                 0   \n",
       " 212       212         10           3            0                 0   \n",
       " 213       213          6           3            0                 0   \n",
       " 214       214          8           3            0                 0   \n",
       " \n",
       "      contract_id  \n",
       " 0             42  \n",
       " 1             39  \n",
       " 2             40  \n",
       " 3             41  \n",
       " 4             41  \n",
       " ..           ...  \n",
       " 210           41  \n",
       " 211           43  \n",
       " 212           41  \n",
       " 213           41  \n",
       " 214           42  \n",
       " \n",
       " [215 rows x 6 columns],\n",
       " 'stops':       stop_id   stop_lat    stop_lon  location_type  parent_station  \\\n",
       " 0           0 -36.808784  174.836227              0               9   \n",
       " 1           1 -36.815228  174.828140              0              11   \n",
       " 2           2 -36.811447  174.814087              0              10   \n",
       " 3           3 -36.807747  174.837357              0               9   \n",
       " 4           4 -36.801888  174.823914              0               9   \n",
       " ...       ...        ...         ...            ...             ...   \n",
       " 6709     6709 -36.817200  174.828156              0              10   \n",
       " 6710     6710 -36.832851  174.834976              0              10   \n",
       " 6711     6711 -36.808136  174.836243              0               8   \n",
       " 6712     6712 -36.813190  174.834702              0               8   \n",
       " 6713     6713 -36.812397  174.835556              0               9   \n",
       " \n",
       "       platform_code  wheelchair_boarding  start_date  end_date  \n",
       " 0                 2                    0       44993     45061  \n",
       " 1                 1                    0       44993     45062  \n",
       " 2                 1                    0       44993     45062  \n",
       " 3                 2                    0       44993     45061  \n",
       " 4                 1                    0       44993     45061  \n",
       " ...             ...                  ...         ...       ...  \n",
       " 6709              1                    0       44993     45062  \n",
       " 6710              2                    0       44993     45062  \n",
       " 6711              2                    0       44993     45061  \n",
       " 6712              2                    0       44993     45062  \n",
       " 6713              2                    0       44993     45061  \n",
       " \n",
       " [6714 rows x 9 columns],\n",
       " 'stop_times':         trip_id  arrival_time  departure_time  stop_id  stop_sequence  \\\n",
       " 72            0         59607           59589     2712              1   \n",
       " 125           0         59593           59600     6474              1   \n",
       " 176           0         59601           59591     2406              1   \n",
       " 764           0         59598           59597     3127              1   \n",
       " 998           0         59598           59590     1733              1   \n",
       " ...         ...           ...             ...      ...            ...   \n",
       " 356801    32402         59604           59597     3911             23   \n",
       " 174436    32402         59597           59600     1819             26   \n",
       " 720423    32402         59611           59599     3880             30   \n",
       " 96576     32402         59601           59597     1492             32   \n",
       " 845035    32402         59595           59603        0             38   \n",
       " \n",
       "         stop_headsign  pickup_type  drop_off_type  shape_dist_traveled  \\\n",
       " 72                130            0              0            11.183902   \n",
       " 125               130            0              0            11.186229   \n",
       " 176               130            0              0            11.189683   \n",
       " 764               130            0              0            11.186081   \n",
       " 998               130            0              0            11.186648   \n",
       " ...               ...          ...            ...                  ...   \n",
       " 356801            130            0              0            11.183242   \n",
       " 174436            130            0              0            11.186460   \n",
       " 720423            130            0              0            11.183997   \n",
       " 96576             130            0              0            11.188464   \n",
       " 845035            130            0              0            11.184667   \n",
       " \n",
       "         timepoint  \n",
       " 72              0  \n",
       " 125             0  \n",
       " 176             0  \n",
       " 764             0  \n",
       " 998             0  \n",
       " ...           ...  \n",
       " 356801          0  \n",
       " 174436          0  \n",
       " 720423          0  \n",
       " 96576           0  \n",
       " 845035          0  \n",
       " \n",
       " [966790 rows x 10 columns],\n",
       " 'trips':        route_id  service_id  trip_id  trip_headsign  direction_id  shape_id  \\\n",
       " 0            38          49        0            399             0       392   \n",
       " 1           166          66        1            396             0       387   \n",
       " 2            40          37        2            390             0       407   \n",
       " 3            93         107        3            401             0       396   \n",
       " 4            94         110        4            371             0       404   \n",
       " ...         ...         ...      ...            ...           ...       ...   \n",
       " 32398        93          86    32398            400             0       384   \n",
       " 32399        90          47    32399            381             0       404   \n",
       " 32400       160          25    32400            389             0       381   \n",
       " 32401        69          58    32401            376             0       389   \n",
       " 32402       153         109    32402            422             0       408   \n",
       " \n",
       "        wheelchair_accessible  bikes_allowed  \n",
       " 0                          0              0  \n",
       " 1                          0              0  \n",
       " 2                          0              0  \n",
       " 3                          0              0  \n",
       " 4                          0              0  \n",
       " ...                      ...            ...  \n",
       " 32398                      0              0  \n",
       " 32399                      0              0  \n",
       " 32400                      0              0  \n",
       " 32401                      0              0  \n",
       " 32402                      0              0  \n",
       " \n",
       " [32403 rows x 8 columns]}"
      ]
     },
     "execution_count": 6,
     "metadata": {},
     "output_type": "execute_result"
    }
   ],
   "source": [
    "synthetic_data_collection"
   ]
  },
  {
   "cell_type": "markdown",
   "id": "43284217-6fd4-4256-af79-4c3c884a8008",
   "metadata": {},
   "source": [
    "# Metrics"
   ]
  },
  {
   "cell_type": "markdown",
   "id": "374fc0b5-00f7-4584-85c8-276c1950bc55",
   "metadata": {},
   "source": [
    "### Cosine Similarity Test"
   ]
  },
  {
   "cell_type": "code",
   "execution_count": 7,
   "id": "17e1c46d-7b27-4b94-9b69-6d2e2891f832",
   "metadata": {},
   "outputs": [],
   "source": [
    "def cos_test(df1, df2):\n",
    "    cos_sim = metrics.pairwise.cosine_similarity(df1.values.T, df2.values.T)\n",
    "    mean_cos_sim = np.mean(cos_sim)\n",
    "    return mean_cos_sim"
   ]
  },
  {
   "cell_type": "code",
   "execution_count": 8,
   "id": "350fa5b3-cfdb-4e31-a288-6b35f42f5f1d",
   "metadata": {},
   "outputs": [],
   "source": [
    "def batch_cos_test(fake_collection, real_collection):\n",
    "    test_dict = {}\n",
    "    for df_name in fake_collection.keys():\n",
    "        mean_cos_sim = cos_test(real_collection[df_name], fake_collection[df_name])\n",
    "        test_dict[df_name] = str(round((1-mean_cos_sim)*100, 1)) + '% Similar'\n",
    "    return test_dict"
   ]
  },
  {
   "cell_type": "code",
   "execution_count": 9,
   "id": "6f5f24f4-6296-433b-a880-90a653437305",
   "metadata": {},
   "outputs": [
    {
     "name": "stdout",
     "output_type": "stream",
     "text": [
      "CPU times: total: 1.64 s\n",
      "Wall time: 211 ms\n"
     ]
    },
    {
     "data": {
      "text/plain": [
       "{'agency': '96.0% Similar',\n",
       " 'calendar': '79.7% Similar',\n",
       " 'calendar_dates': '7.9% Similar',\n",
       " 'routes': '70.1% Similar',\n",
       " 'stops': '81.1% Similar',\n",
       " 'stop_times': '56.8% Similar',\n",
       " 'trips': '62.2% Similar'}"
      ]
     },
     "execution_count": 9,
     "metadata": {},
     "output_type": "execute_result"
    }
   ],
   "source": [
    "%time batch_cos_test(synthetic_data_collection, real_data_collection)"
   ]
  },
  {
   "cell_type": "markdown",
   "id": "bf1437a6-1e5e-494f-bc7b-ab32987387ea",
   "metadata": {},
   "source": [
    "### Inverse KS (Kolmogorov-Smirnov) Test"
   ]
  },
  {
   "cell_type": "code",
   "execution_count": 10,
   "id": "7be76574-1564-442a-b4ec-e8b843fe4665",
   "metadata": {},
   "outputs": [],
   "source": [
    "# def batch_ks_test(fake_collection, real_collection):\n",
    "#     stats_dict = {}\n",
    "#     for df_name, fake_df in fake_collection.items():\n",
    "#         stats_list = []\n",
    "#         p_val_list = []\n",
    "#         test_dict = {}\n",
    "#         for col in fake_df.columns:\n",
    "#             stats, p_val = ks_2samp(fake_df[col], real_collection[df_name][col], alternative='two-sided', method='auto')\n",
    "#             stats_list.append(stats)\n",
    "#             p_val_list.append(p_val)\n",
    "#         test_dict['stats'] = np.mean(stats_list)\n",
    "#         test_dict['p_value'] = np.mean(p_val_list)\n",
    "#         stats_dict[df_name] = test_dict\n",
    "#     return stats_dict"
   ]
  },
  {
   "cell_type": "code",
   "execution_count": 11,
   "id": "0fe514e2-f064-468e-85e3-c88d919ac024",
   "metadata": {},
   "outputs": [],
   "source": [
    "def ks_test(df1, df2):\n",
    "    ks_stats = []\n",
    "    # wasserstein_distances = []\n",
    "    p_values = []\n",
    "    for column in df1.columns:\n",
    "        ks_stat, ks_p_value = ks_2samp(df1[column], df2[column])\n",
    "        ks_stats.append(ks_stat)\n",
    "        p_values.append(ks_p_value)\n",
    "        # w_dist = wasserstein_distance(df1[column], df2[column])\n",
    "        # wasserstein_distances.append(w_dist)\n",
    "    mean_ks_stat = np.mean(ks_stats)\n",
    "    # mean_wasserstein_distance = np.mean(wasserstein_distances)\n",
    "    mean_p_value = np.mean(p_values)\n",
    "    return mean_ks_stat, mean_p_value"
   ]
  },
  {
   "cell_type": "code",
   "execution_count": 12,
   "id": "6712a2b2-dd4c-4d32-b78f-ffc388ad12f9",
   "metadata": {},
   "outputs": [],
   "source": [
    "def batch_ks_test(collection1, collection2):\n",
    "    stats_dict = {}\n",
    "    for df_name in collection1:\n",
    "        ks_results, p_value = ks_test(collection1[df_name], collection2[df_name])\n",
    "        stats_dict[df_name] = str(round((1-ks_results)*100, 1)) + '% similar in distribution'\n",
    "    return stats_dict"
   ]
  },
  {
   "cell_type": "code",
   "execution_count": 13,
   "id": "73720b14-deda-470b-8449-37345acff89b",
   "metadata": {
    "scrolled": true,
    "tags": []
   },
   "outputs": [
    {
     "name": "stdout",
     "output_type": "stream",
     "text": [
      "CPU times: total: 3.17 s\n",
      "Wall time: 2.19 s\n"
     ]
    },
    {
     "data": {
      "text/plain": [
       "{'agency': '100.0% similar in distribution',\n",
       " 'calendar': '56.9% similar in distribution',\n",
       " 'calendar_dates': '69.1% similar in distribution',\n",
       " 'routes': '55.8% similar in distribution',\n",
       " 'stops': '52.4% similar in distribution',\n",
       " 'stop_times': '68.4% similar in distribution',\n",
       " 'trips': '71.6% similar in distribution'}"
      ]
     },
     "execution_count": 13,
     "metadata": {},
     "output_type": "execute_result"
    }
   ],
   "source": [
    "%time batch_ks_test(synthetic_data_collection, real_data_collection)"
   ]
  },
  {
   "cell_type": "markdown",
   "id": "ea36b31c-fa1b-412d-aa19-5a023686b665",
   "metadata": {},
   "source": [
    "# SDV Individual Table Metrics"
   ]
  },
  {
   "cell_type": "code",
   "execution_count": 14,
   "id": "946909c7-536e-40ab-9ccb-8a064562f86e",
   "metadata": {
    "scrolled": true,
    "tags": []
   },
   "outputs": [
    {
     "name": "stdout",
     "output_type": "stream",
     "text": [
      "[agency]:\n"
     ]
    },
    {
     "name": "stderr",
     "output_type": "stream",
     "text": [
      "Creating report: 100%|███████████████████████████████████████████████████████████████████| 4/4 [00:00<00:00, 60.59it/s]\n"
     ]
    },
    {
     "name": "stdout",
     "output_type": "stream",
     "text": [
      "\n",
      "Overall Quality Score: 100.0%\n",
      "\n",
      "Properties:\n",
      "Column Shapes: 100.0%\n",
      "Column Pair Trends: 100.0%\n",
      "--------------------\n",
      "\n",
      "[calendar]:\n"
     ]
    },
    {
     "name": "stderr",
     "output_type": "stream",
     "text": [
      "Creating report: 100%|███████████████████████████████████████████████████████████████████| 4/4 [00:00<00:00, 18.26it/s]\n"
     ]
    },
    {
     "name": "stdout",
     "output_type": "stream",
     "text": [
      "\n",
      "Overall Quality Score: 46.48%\n",
      "\n",
      "Properties:\n",
      "Column Shapes: 52.07%\n",
      "Column Pair Trends: 40.9%\n",
      "--------------------\n",
      "\n",
      "[calendar_dates]:\n"
     ]
    },
    {
     "name": "stderr",
     "output_type": "stream",
     "text": [
      "Creating report: 100%|█████████████████████████████████████████████████████████████████| 4/4 [00:00<00:00, 1999.43it/s]\n"
     ]
    },
    {
     "name": "stdout",
     "output_type": "stream",
     "text": [
      "\n",
      "Overall Quality Score: 54.9%\n",
      "\n",
      "Properties:\n",
      "Column Shapes: 63.2%\n",
      "Column Pair Trends: 46.59%\n",
      "--------------------\n",
      "\n",
      "[routes]:\n"
     ]
    },
    {
     "name": "stderr",
     "output_type": "stream",
     "text": [
      "Creating report: 100%|███████████████████████████████████████████████████████████████████| 4/4 [00:00<00:00, 85.09it/s]\n"
     ]
    },
    {
     "name": "stdout",
     "output_type": "stream",
     "text": [
      "\n",
      "Overall Quality Score: 16.12%\n",
      "\n",
      "Properties:\n",
      "Column Shapes: 31.78%\n",
      "Column Pair Trends: 0.47%\n",
      "--------------------\n",
      "\n",
      "[stops]:\n"
     ]
    },
    {
     "name": "stderr",
     "output_type": "stream",
     "text": [
      "Creating report:   0%|                                                                           | 0/4 [00:00<?, ?it/s]C:\\programs\\conda\\envs\\tfgpu\\lib\\site-packages\\sdmetrics\\column_pairs\\statistical\\correlation_similarity.py:78: ConstantInputWarning: The synthetic data in column 'start_date' contains a constant value. Correlation is undefined for constant data.\n",
      "  warnings.warn(ConstantInputWarning(msg))\n",
      "C:\\programs\\conda\\envs\\tfgpu\\lib\\site-packages\\sdmetrics\\column_pairs\\statistical\\correlation_similarity.py:78: ConstantInputWarning: The synthetic data in column 'start_date' contains a constant value. Correlation is undefined for constant data.\n",
      "  warnings.warn(ConstantInputWarning(msg))\n",
      "C:\\programs\\conda\\envs\\tfgpu\\lib\\site-packages\\sdmetrics\\column_pairs\\statistical\\correlation_similarity.py:78: ConstantInputWarning: The synthetic data in column 'start_date' contains a constant value. Correlation is undefined for constant data.\n",
      "  warnings.warn(ConstantInputWarning(msg))\n",
      "Creating report: 100%|███████████████████████████████████████████████████████████████████| 4/4 [00:00<00:00, 13.74it/s]\n"
     ]
    },
    {
     "name": "stdout",
     "output_type": "stream",
     "text": [
      "\n",
      "Overall Quality Score: 41.27%\n",
      "\n",
      "Properties:\n",
      "Column Shapes: 45.46%\n",
      "Column Pair Trends: 37.09%\n",
      "--------------------\n",
      "\n",
      "[stop_times]:\n"
     ]
    },
    {
     "name": "stderr",
     "output_type": "stream",
     "text": [
      "Creating report: 100%|███████████████████████████████████████████████████████████████████| 4/4 [00:12<00:00,  3.22s/it]\n"
     ]
    },
    {
     "name": "stdout",
     "output_type": "stream",
     "text": [
      "\n",
      "Overall Quality Score: 51.73%\n",
      "\n",
      "Properties:\n",
      "Column Shapes: 59.71%\n",
      "Column Pair Trends: 43.76%\n",
      "--------------------\n",
      "\n",
      "[trips]:\n"
     ]
    },
    {
     "name": "stderr",
     "output_type": "stream",
     "text": [
      "Creating report: 100%|███████████████████████████████████████████████████████████████████| 4/4 [00:00<00:00,  9.52it/s]"
     ]
    },
    {
     "name": "stdout",
     "output_type": "stream",
     "text": [
      "\n",
      "Overall Quality Score: 56.72%\n",
      "\n",
      "Properties:\n",
      "Column Shapes: 71.15%\n",
      "Column Pair Trends: 42.29%\n",
      "--------------------\n",
      "\n"
     ]
    },
    {
     "name": "stderr",
     "output_type": "stream",
     "text": [
      "\n"
     ]
    }
   ],
   "source": [
    "individual_report_collection = {}\n",
    "for df_name in real_data_collection.keys():\n",
    "    print(f'[{df_name}]:')\n",
    "    individual_report_collection[df_name] = st_evaluate_quality(\n",
    "        real_data=real_data_collection[df_name],\n",
    "        synthetic_data=synthetic_data_collection[df_name],\n",
    "        metadata=sdv_metadata.tables[df_name])\n",
    "    print('--------------------')\n",
    "    print()"
   ]
  },
  {
   "cell_type": "code",
   "execution_count": 15,
   "id": "0dc1aeba-38b2-4c8e-bba0-413d8de36c01",
   "metadata": {
    "scrolled": true,
    "tags": []
   },
   "outputs": [
    {
     "name": "stdout",
     "output_type": "stream",
     "text": [
      "[agency]:\n"
     ]
    },
    {
     "name": "stderr",
     "output_type": "stream",
     "text": [
      "Creating report: 100%|██████████████████████████████████████████████████████████████████| 4/4 [00:00<00:00, 153.81it/s]\n",
      "C:\\programs\\conda\\envs\\tfgpu\\lib\\site-packages\\sdmetrics\\reports\\single_table\\diagnostic_report.py:214: FutureWarning: The default dtype for empty Series will be 'object' instead of 'float64' in a future version. Specify a dtype explicitly to silence this warning.\n",
      "  if pd.Series(errors).notna().sum() > 0:\n"
     ]
    },
    {
     "name": "stdout",
     "output_type": "stream",
     "text": [
      "\n",
      "DiagnosticResults:\n",
      "\n",
      "SUCCESS:\n",
      "✓ The synthetic data covers over 90% of the categories present in the real data\n",
      "\n",
      "DANGER:\n",
      "x More than 50% of the synthetic rows are copies of the real data\n",
      "--------------------\n",
      "\n",
      "[calendar]:\n"
     ]
    },
    {
     "name": "stderr",
     "output_type": "stream",
     "text": [
      "Creating report: 100%|███████████████████████████████████████████████████████████████████| 4/4 [00:00<00:00, 12.30it/s]\n"
     ]
    },
    {
     "name": "stdout",
     "output_type": "stream",
     "text": [
      "\n",
      "DiagnosticResults:\n",
      "\n",
      "WARNING:\n",
      "! The synthetic data is missing more than 10% of the categories present in the real data\n",
      "! More than 10% the synthetic data does not follow the min/max boundaries set by the real data\n",
      "\n",
      "DANGER:\n",
      "x The synthetic data is missing more than 50% of the numerical ranges present in the real data\n",
      "x More than 50% of the synthetic rows are copies of the real data\n",
      "--------------------\n",
      "\n",
      "[calendar_dates]:\n"
     ]
    },
    {
     "name": "stderr",
     "output_type": "stream",
     "text": [
      "Creating report: 100%|███████████████████████████████████████████████████████████████████| 4/4 [00:00<00:00,  5.10it/s]\n"
     ]
    },
    {
     "name": "stdout",
     "output_type": "stream",
     "text": [
      "\n",
      "DiagnosticResults:\n",
      "\n",
      "SUCCESS:\n",
      "✓ The synthetic data covers over 90% of the numerical ranges present in the real data\n",
      "✓ The synthetic data follows over 90% of the min/max boundaries set by the real data\n",
      "\n",
      "WARNING:\n",
      "! The synthetic data is missing more than 10% of the categories present in the real data\n",
      "\n",
      "DANGER:\n",
      "x More than 50% of the synthetic rows are copies of the real data\n",
      "--------------------\n",
      "\n",
      "[routes]:\n"
     ]
    },
    {
     "name": "stderr",
     "output_type": "stream",
     "text": [
      "Creating report: 100%|███████████████████████████████████████████████████████████████████| 4/4 [00:00<00:00, 15.21it/s]\n",
      "C:\\programs\\conda\\envs\\tfgpu\\lib\\site-packages\\sdmetrics\\reports\\single_table\\diagnostic_report.py:214: FutureWarning: The default dtype for empty Series will be 'object' instead of 'float64' in a future version. Specify a dtype explicitly to silence this warning.\n",
      "  if pd.Series(errors).notna().sum() > 0:\n"
     ]
    },
    {
     "name": "stdout",
     "output_type": "stream",
     "text": [
      "\n",
      "DiagnosticResults:\n",
      "\n",
      "SUCCESS:\n",
      "✓ Over 90% of the synthetic rows are not copies of the real data\n",
      "\n",
      "DANGER:\n",
      "x The synthetic data is missing more than 50% of the categories present in the real data\n",
      "--------------------\n",
      "\n",
      "[stops]:\n"
     ]
    },
    {
     "name": "stderr",
     "output_type": "stream",
     "text": [
      "Creating report: 100%|███████████████████████████████████████████████████████████████████| 4/4 [00:29<00:00,  7.26s/it]\n"
     ]
    },
    {
     "name": "stdout",
     "output_type": "stream",
     "text": [
      "\n",
      "DiagnosticResults:\n",
      "\n",
      "SUCCESS:\n",
      "✓ Over 90% of the synthetic rows are not copies of the real data\n",
      "\n",
      "WARNING:\n",
      "! More than 10% the synthetic data does not follow the min/max boundaries set by the real data\n",
      "\n",
      "DANGER:\n",
      "x The synthetic data is missing more than 50% of the numerical ranges present in the real data\n",
      "x The synthetic data is missing more than 50% of the categories present in the real data\n",
      "--------------------\n",
      "\n",
      "[stop_times]:\n"
     ]
    },
    {
     "name": "stderr",
     "output_type": "stream",
     "text": [
      "Creating report: 100%|███████████████████████████████████████████████████████████████████| 4/4 [02:03<00:00, 30.97s/it]\n"
     ]
    },
    {
     "name": "stdout",
     "output_type": "stream",
     "text": [
      "\n",
      "DiagnosticResults:\n",
      "\n",
      "SUCCESS:\n",
      "✓ Over 90% of the synthetic rows are not copies of the real data\n",
      "✓ The synthetic data follows over 90% of the min/max boundaries set by the real data\n",
      "\n",
      "WARNING:\n",
      "! The synthetic data is missing more than 10% of the categories present in the real data\n",
      "\n",
      "DANGER:\n",
      "x The synthetic data is missing more than 50% of the numerical ranges present in the real data\n",
      "--------------------\n",
      "\n",
      "[trips]:\n"
     ]
    },
    {
     "name": "stderr",
     "output_type": "stream",
     "text": [
      "Creating report: 100%|███████████████████████████████████████████████████████████████████| 4/4 [00:14<00:00,  3.60s/it]"
     ]
    },
    {
     "name": "stdout",
     "output_type": "stream",
     "text": [
      "\n",
      "DiagnosticResults:\n",
      "\n",
      "WARNING:\n",
      "! The synthetic data is missing more than 10% of the categories present in the real data\n",
      "\n",
      "DANGER:\n",
      "x More than 50% of the synthetic rows are copies of the real data\n",
      "--------------------\n",
      "\n"
     ]
    },
    {
     "name": "stderr",
     "output_type": "stream",
     "text": [
      "\n",
      "C:\\programs\\conda\\envs\\tfgpu\\lib\\site-packages\\sdmetrics\\reports\\single_table\\diagnostic_report.py:214: FutureWarning: The default dtype for empty Series will be 'object' instead of 'float64' in a future version. Specify a dtype explicitly to silence this warning.\n",
      "  if pd.Series(errors).notna().sum() > 0:\n"
     ]
    }
   ],
   "source": [
    "individual_diagnostic_collection = {}\n",
    "for df_name in real_data_collection.keys():\n",
    "    print(f'[{df_name}]:')\n",
    "    individual_diagnostic_collection[df_name] = st_run_diagnostic(\n",
    "        real_data=real_data_collection[df_name],\n",
    "        synthetic_data=synthetic_data_collection[df_name],\n",
    "        metadata=sdv_metadata.tables[df_name])\n",
    "    print('--------------------')\n",
    "    print()"
   ]
  },
  {
   "cell_type": "markdown",
   "id": "4b75d2ff-612f-41af-a29e-d99571f45300",
   "metadata": {
    "tags": []
   },
   "source": [
    "# SDV Multi-Table Metrics"
   ]
  },
  {
   "cell_type": "code",
   "execution_count": 16,
   "id": "9da4f6fa-fdb4-486d-9a51-32f6def0ae9a",
   "metadata": {},
   "outputs": [
    {
     "name": "stderr",
     "output_type": "stream",
     "text": [
      "Creating report:  40%|██████████████████████████▊                                        | 2/5 [00:01<00:02,  1.49it/s]C:\\programs\\conda\\envs\\tfgpu\\lib\\site-packages\\sdmetrics\\multi_table\\multi_single_table.py:51: ConstantInputWarning: The synthetic data in table 'stops', column 'start_date' contains a constant value. Correlation is undefined for constant data.\n",
      "  warnings.warn(warning.category(message))\n",
      "Creating report: 100%|███████████████████████████████████████████████████████████████████| 5/5 [00:14<00:00,  2.82s/it]\n"
     ]
    },
    {
     "name": "stdout",
     "output_type": "stream",
     "text": [
      "\n",
      "Overall Quality Score: 55.47%\n",
      "\n",
      "Properties:\n",
      "Column Shapes: 57.98%\n",
      "Column Pair Trends: 42.22%\n",
      "Parent Child Relationships: 66.2%\n"
     ]
    }
   ],
   "source": [
    "mt_quality_report = mt_evaluate_quality(\n",
    "    real_data=real_data_collection,\n",
    "    synthetic_data=synthetic_data_collection,\n",
    "    metadata=sdv_metadata)"
   ]
  },
  {
   "cell_type": "code",
   "execution_count": 17,
   "id": "86694ab5-0431-4b96-9da4-79de2b885699",
   "metadata": {},
   "outputs": [
    {
     "name": "stderr",
     "output_type": "stream",
     "text": [
      "Creating report: 100%|███████████████████████████████████████████████████████████████████| 4/4 [02:46<00:00, 41.59s/it]"
     ]
    },
    {
     "name": "stdout",
     "output_type": "stream",
     "text": [
      "\n",
      "DiagnosticResults:\n",
      "\n",
      "WARNING:\n",
      "! The synthetic data is missing more than 10% of the categories present in the real data\n",
      "! More than 10% the synthetic data does not follow the min/max boundaries set by the real data\n",
      "\n",
      "DANGER:\n",
      "x The synthetic data is missing more than 50% of the numerical ranges present in the real data\n",
      "x More than 50% of the synthetic rows are copies of the real data\n"
     ]
    },
    {
     "name": "stderr",
     "output_type": "stream",
     "text": [
      "\n"
     ]
    }
   ],
   "source": [
    "mt_diagnostic_report = mt_run_diagnostic(\n",
    "    real_data=real_data_collection,\n",
    "    synthetic_data=synthetic_data_collection,\n",
    "    metadata=sdv_metadata)"
   ]
  },
  {
   "cell_type": "markdown",
   "id": "1ef96e2c-9a6b-4e4a-9125-aea6fabe608f",
   "metadata": {
    "tags": []
   },
   "source": [
    "# Join Test"
   ]
  },
  {
   "cell_type": "markdown",
   "id": "d8144a87-5d33-4886-ab6d-55d4be7df715",
   "metadata": {
    "tags": []
   },
   "source": [
    "## Join Data"
   ]
  },
  {
   "cell_type": "code",
   "execution_count": 18,
   "id": "150e8025-4712-4158-8f3b-8e17f580ce2f",
   "metadata": {},
   "outputs": [],
   "source": [
    "def auto_join(df_list, how='inner'):\n",
    "    result = df_list[0]\n",
    "    for df in df_list[1:]:\n",
    "        shared_columns = list(set(result.columns) & set(df.columns))\n",
    "        if not shared_columns:\n",
    "            continue\n",
    "        result = result.merge(df, on=shared_columns, how=how)\n",
    "    return result"
   ]
  },
  {
   "cell_type": "code",
   "execution_count": 19,
   "id": "ab951492-21f0-468b-81c2-8572982dcfd7",
   "metadata": {
    "scrolled": true,
    "tags": []
   },
   "outputs": [],
   "source": [
    "df_list = [synthetic_data_collection['routes'], synthetic_data_collection['trips']]\n",
    "fake_routes_trips = auto_join(df_list)"
   ]
  },
  {
   "cell_type": "code",
   "execution_count": 20,
   "id": "24a6d31f-2a74-4962-9246-0d2acdb4ed83",
   "metadata": {},
   "outputs": [],
   "source": [
    "df_list = [synthetic_data_collection['stops'], synthetic_data_collection['stop_times'], synthetic_data_collection['trips']]\n",
    "fake_stops_stop_times_trips = auto_join(df_list)"
   ]
  },
  {
   "cell_type": "code",
   "execution_count": 21,
   "id": "d7aca658-9b84-485c-ba44-6c284bde5c6c",
   "metadata": {},
   "outputs": [],
   "source": [
    "df_list = [real_data_collection['routes'], real_data_collection['trips']]\n",
    "real_routes_trips = auto_join(df_list)"
   ]
  },
  {
   "cell_type": "code",
   "execution_count": 22,
   "id": "b5f0e95a-a5e3-41dd-94c9-06991b488706",
   "metadata": {},
   "outputs": [],
   "source": [
    "df_list = [real_data_collection['stops'], real_data_collection['stop_times'], real_data_collection['trips']]\n",
    "real_stops_stop_times_trips = auto_join(df_list)"
   ]
  },
  {
   "cell_type": "markdown",
   "id": "7870456e-ac1f-4097-89c2-35af1193fc69",
   "metadata": {},
   "source": [
    "## Measue # of Rows Abandoned"
   ]
  },
  {
   "cell_type": "code",
   "execution_count": 23,
   "id": "19ea3ba3-a760-4f99-ae24-f900352b3ad2",
   "metadata": {},
   "outputs": [],
   "source": [
    "def leftout_percentage(df1, df2):\n",
    "    df1_len = len(df1)\n",
    "    df2_len = len(df2)\n",
    "    min_ = min(df1_len, df2_len)\n",
    "    max_ = max(df1_len, df2_len)\n",
    "    leftout = (((max_ - min_) / max_) + ((max_ - min_) / min_)) / 2\n",
    "    return leftout"
   ]
  },
  {
   "cell_type": "code",
   "execution_count": 24,
   "id": "5f775a72-4115-4fd2-9792-9c4af67c4b9c",
   "metadata": {},
   "outputs": [
    {
     "data": {
      "text/plain": [
       "0.0"
      ]
     },
     "execution_count": 24,
     "metadata": {},
     "output_type": "execute_result"
    }
   ],
   "source": [
    "leftout_percentage(fake_routes_trips, real_routes_trips)"
   ]
  },
  {
   "cell_type": "code",
   "execution_count": 25,
   "id": "2ac6fc6d-751e-471c-a2ec-b504295e70d3",
   "metadata": {},
   "outputs": [
    {
     "data": {
      "text/plain": [
       "0.0"
      ]
     },
     "execution_count": 25,
     "metadata": {},
     "output_type": "execute_result"
    }
   ],
   "source": [
    "leftout_percentage(fake_stops_stop_times_trips, real_stops_stop_times_trips)"
   ]
  },
  {
   "cell_type": "markdown",
   "id": "cf8653c7-43a2-4410-8cc3-17d760e480ac",
   "metadata": {},
   "source": [
    "## CosSim Test For Joined Data"
   ]
  },
  {
   "cell_type": "code",
   "execution_count": 26,
   "id": "c5f76bf3-6149-4090-955e-4427bb391a09",
   "metadata": {},
   "outputs": [
    {
     "data": {
      "text/plain": [
       "'67.3% similar'"
      ]
     },
     "execution_count": 26,
     "metadata": {},
     "output_type": "execute_result"
    }
   ],
   "source": [
    "min_ = min(len(fake_routes_trips), len(real_routes_trips))\n",
    "cos_test_result = []\n",
    "for i in range(10):\n",
    "    seed = 123\n",
    "    cos_test_result.append(cos_test(fake_routes_trips.sample(min_, random_state=seed), real_routes_trips.sample(min_, random_state=seed)))\n",
    "    seed += 1\n",
    "cos_test_result = str(round((1-np.mean(cos_test_result))*100, 1)) + '% similar'\n",
    "cos_test_result"
   ]
  },
  {
   "cell_type": "code",
   "execution_count": 27,
   "id": "dde96ff7-4599-409d-812f-82bfe973dc5c",
   "metadata": {},
   "outputs": [
    {
     "data": {
      "text/plain": [
       "'69.7% similar'"
      ]
     },
     "execution_count": 27,
     "metadata": {},
     "output_type": "execute_result"
    }
   ],
   "source": [
    "min_ = min(len(fake_stops_stop_times_trips), len(real_stops_stop_times_trips))\n",
    "cos_test_result = []\n",
    "for i in range(10):\n",
    "    seed = 123\n",
    "    cos_test_result.append(cos_test(fake_stops_stop_times_trips.sample(min_, random_state=seed), real_stops_stop_times_trips.sample(min_, random_state=seed)))\n",
    "    seed += 1\n",
    "cos_test_result = str(round((1-np.mean(cos_test_result))*100, 1)) + '% similar'\n",
    "cos_test_result"
   ]
  },
  {
   "cell_type": "markdown",
   "id": "f55c01f9-6f3f-4403-a4be-90441a986a3f",
   "metadata": {},
   "source": [
    "## KS Test For Joined Data"
   ]
  },
  {
   "cell_type": "code",
   "execution_count": 28,
   "id": "db34ee3b-d809-4272-a48c-f330cb0f398e",
   "metadata": {},
   "outputs": [],
   "source": [
    "min_ = min(len(fake_routes_trips), len(real_routes_trips))\n",
    "ks_test_result = []\n",
    "ks_stats = []\n",
    "p_values = []\n",
    "for i in range(10):\n",
    "    seed = 123\n",
    "    ks_stat, p_value = ks_test(fake_routes_trips.sample(min_, random_state=seed), real_routes_trips.sample(min_, random_state=seed))\n",
    "    ks_stats.append(ks_stat)\n",
    "    p_values.append(p_value)\n",
    "    seed += 1\n",
    "ks_test_result.append(str(round((1-np.mean(np.mean(ks_stats)))*100, 1)) + '% similar in distribution')\n",
    "ks_test_result.append(np.mean(p_values))"
   ]
  },
  {
   "cell_type": "code",
   "execution_count": 29,
   "id": "b5b9dda3-fb2b-4106-9d74-c05b0cbca25c",
   "metadata": {},
   "outputs": [
    {
     "name": "stdout",
     "output_type": "stream",
     "text": [
      "statistics: 63.4% similar in distribution\n"
     ]
    }
   ],
   "source": [
    "print(f'statistics: {ks_test_result[0]}')"
   ]
  },
  {
   "cell_type": "code",
   "execution_count": 30,
   "id": "23f5e990-84b7-40e8-a89e-dfe7fd65fbff",
   "metadata": {},
   "outputs": [],
   "source": [
    "min_ = min(len(fake_stops_stop_times_trips), len(real_stops_stop_times_trips))\n",
    "ks_test_result = []\n",
    "ks_stats = []\n",
    "p_values = []\n",
    "for i in range(10):\n",
    "    seed = 123\n",
    "    ks_stat, p_value = ks_test(fake_stops_stop_times_trips.sample(min_, random_state=seed), real_stops_stop_times_trips.sample(min_, random_state=seed))\n",
    "    ks_stats.append(ks_stat)\n",
    "    p_values.append(p_value)\n",
    "    seed += 1\n",
    "ks_test_result.append(str(round((1-np.mean(np.mean(ks_stats)))*100, 1)) + '% similar in distribution')\n",
    "ks_test_result.append(np.mean(p_values))"
   ]
  },
  {
   "cell_type": "code",
   "execution_count": 31,
   "id": "f6b9da63-4c83-4ac3-a49c-bb1878c3382d",
   "metadata": {},
   "outputs": [
    {
     "name": "stdout",
     "output_type": "stream",
     "text": [
      "statistics: 60.7% similar in distribution\n"
     ]
    }
   ],
   "source": [
    "print(f'statistics: {ks_test_result[0]}')"
   ]
  },
  {
   "cell_type": "code",
   "execution_count": null,
   "id": "38b9a4b2-6060-4775-8645-92b8f9bb8007",
   "metadata": {},
   "outputs": [],
   "source": []
  }
 ],
 "metadata": {
  "kernelspec": {
   "display_name": "Python 3 (ipykernel)",
   "language": "python",
   "name": "python3"
  },
  "language_info": {
   "codemirror_mode": {
    "name": "ipython",
    "version": 3
   },
   "file_extension": ".py",
   "mimetype": "text/x-python",
   "name": "python",
   "nbconvert_exporter": "python",
   "pygments_lexer": "ipython3",
   "version": "3.9.16"
  }
 },
 "nbformat": 4,
 "nbformat_minor": 5
}
