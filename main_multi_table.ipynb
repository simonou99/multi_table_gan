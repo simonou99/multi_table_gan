{
 "cells": [
  {
   "cell_type": "markdown",
   "id": "ed277bcc-0b53-44b4-9072-343f704588ca",
   "metadata": {
    "tags": []
   },
   "source": [
    "# import"
   ]
  },
  {
   "cell_type": "code",
   "execution_count": 1,
   "id": "9b6344e5-e74b-42a5-8a1d-95bd2f963a77",
   "metadata": {
    "tags": []
   },
   "outputs": [],
   "source": [
    "import os\n",
    "import time\n",
    "import random\n",
    "import math\n",
    "import numpy as np\n",
    "import pandas as pd\n",
    "import matplotlib.pyplot as plt\n",
    "# import tensorflow as tf\n",
    "from tensorflow.keras import layers, models, optimizers, losses, backend, constraints, initializers\n",
    "from tensorflow.compat.v1.logging import set_verbosity, ERROR\n",
    "from sklearn.preprocessing import MinMaxScaler, StandardScaler\n",
    "from sklearn import metrics\n",
    "from sklearn.decomposition import PCA\n",
    "from sklearn.impute import SimpleImputer\n",
    "from scipy.stats import kstest, gaussian_kde, ks_2samp, chi2_contingency, wasserstein_distance\n",
    "from sdv.metadata import MultiTableMetadata\n",
    "# from sdv.single_table import CTGANSynthesizer\n",
    "# from sdv.single_table import CopulaGANSynthesizer\n",
    "# from sdv.single_table import GaussianCopulaSynthesizer\n",
    "# from sdv.single_table import TVAESynthesizer\n",
    "# from sdv.lite import SingleTablePreset\n",
    "from sdv.multi_table import HMASynthesizer\n",
    "from sdv.evaluation.single_table import evaluate_quality\n",
    "from sdv.evaluation.single_table import run_diagnostic\n",
    "from sdv.evaluation.multi_table import evaluate_quality\n",
    "from sdv.evaluation.multi_table import run_diagnostic"
   ]
  },
  {
   "cell_type": "code",
   "execution_count": 2,
   "id": "cfdcbabf-f624-4961-93c2-1232ffdeffcd",
   "metadata": {},
   "outputs": [],
   "source": [
    "set_verbosity(ERROR)"
   ]
  },
  {
   "cell_type": "markdown",
   "id": "9f6aa2d4-7b51-45ff-bc4a-1d3e9d7a0b65",
   "metadata": {
    "tags": []
   },
   "source": [
    "# load data"
   ]
  },
  {
   "cell_type": "code",
   "execution_count": 3,
   "id": "37644fb8-5f08-496c-8403-c221fb097027",
   "metadata": {},
   "outputs": [],
   "source": [
    "def load_data_collection(dir_path):\n",
    "    gtfs_files = [f for f in os.listdir(dir_path) if f.endswith('.csv') or f.endswith('.txt')]\n",
    "    data_collection = {}\n",
    "    for f in gtfs_files:\n",
    "        f_path = os.path.join(dir_path, f)\n",
    "        data = pd.read_csv(f_path)\n",
    "        if data.shape[0] > 1:\n",
    "            data_collection[f.split(\".\")[0]] = data\n",
    "    return data_collection"
   ]
  },
  {
   "cell_type": "code",
   "execution_count": 4,
   "id": "43100845-8f4f-4fb9-b765-073cdfe09426",
   "metadata": {},
   "outputs": [],
   "source": [
    "real_data_collection = load_data_collection(\"gtfs\")"
   ]
  },
  {
   "cell_type": "code",
   "execution_count": 5,
   "id": "0112f797-2f74-4718-924b-dcffd5e225f2",
   "metadata": {},
   "outputs": [],
   "source": [
    "del real_data_collection['shapes']"
   ]
  },
  {
   "cell_type": "markdown",
   "id": "3d32eaa0-eabc-4467-ad07-86aa07941ce5",
   "metadata": {},
   "source": [
    "## Create Metadata"
   ]
  },
  {
   "cell_type": "code",
   "execution_count": 6,
   "id": "b185c1d6-6ba7-42a7-9038-a114ac10fe0a",
   "metadata": {},
   "outputs": [],
   "source": [
    "def auto_detect_relation(data_collection):\n",
    "    metadata = {}\n",
    "    for df_name, df in data_collection.items():\n",
    "        parent = {}\n",
    "        child = []\n",
    "        primary_key = []\n",
    "        foreign_key = []\n",
    "        for col in df.columns:\n",
    "            if 'id' in col:\n",
    "                if df[col].nunique() == len(df):\n",
    "                    primary_key = [col, len(df)]\n",
    "                else:\n",
    "                    foreign_key.append(col)\n",
    "        for foreign_df_name, foreign_df in data_collection.items():\n",
    "            if foreign_df_name != df_name:\n",
    "                for fr_col in foreign_df.columns:\n",
    "                    if 'id' in fr_col:\n",
    "                        for fr_k in foreign_key:\n",
    "                            if fr_col == fr_k and foreign_df[fr_col].nunique() == len(foreign_df):\n",
    "                                parent[foreign_df_name] = fr_k\n",
    "                        if primary_key != []:\n",
    "                            if fr_col == primary_key[0] and foreign_df[fr_col].nunique() != len(foreign_df):\n",
    "                                child.append(foreign_df_name)\n",
    "        metadata[df_name] = {'primary_key':primary_key,\n",
    "                             'parent':parent,\n",
    "                             'child':child,\n",
    "                             'is_sequential':False,\n",
    "                            'additional_key':None}\n",
    "    return metadata"
   ]
  },
  {
   "cell_type": "code",
   "execution_count": 7,
   "id": "f2b28726-97c5-43ae-b3a7-16b40e42ffd0",
   "metadata": {},
   "outputs": [],
   "source": [
    "metadata = auto_detect_relation(real_data_collection)\n",
    "metadata['calendar_dates']['is_sequential'] = True\n",
    "metadata['stop_times']['is_sequential'] = True\n",
    "metadata['calendar_dates']['additional_key'] = ['date']\n",
    "metadata['stop_times']['additional_key'] = ['stop_sequence']\n",
    "metadata['calendar_dates']['sort_order'] = ['service_id','date']\n",
    "metadata['stop_times']['sort_order'] = ['trip_id','stop_sequence']"
   ]
  },
  {
   "cell_type": "code",
   "execution_count": 8,
   "id": "c486c16a-04d8-4f73-8870-ddd21d01e6c0",
   "metadata": {
    "scrolled": true,
    "tags": []
   },
   "outputs": [
    {
     "data": {
      "text/plain": [
       "{'agency': {'primary_key': ['agency_id', 15],\n",
       "  'parent': {},\n",
       "  'child': ['routes'],\n",
       "  'is_sequential': False,\n",
       "  'additional_key': None},\n",
       " 'calendar': {'primary_key': ['service_id', 121],\n",
       "  'parent': {},\n",
       "  'child': ['calendar_dates', 'trips'],\n",
       "  'is_sequential': False,\n",
       "  'additional_key': None},\n",
       " 'calendar_dates': {'primary_key': [],\n",
       "  'parent': {'calendar': 'service_id'},\n",
       "  'child': [],\n",
       "  'is_sequential': True,\n",
       "  'additional_key': ['date'],\n",
       "  'sort_order': ['service_id', 'date']},\n",
       " 'routes': {'primary_key': ['route_id', 215],\n",
       "  'parent': {'agency': 'agency_id'},\n",
       "  'child': ['trips'],\n",
       "  'is_sequential': False,\n",
       "  'additional_key': None},\n",
       " 'stops': {'primary_key': ['stop_id', 6714],\n",
       "  'parent': {},\n",
       "  'child': ['stop_times'],\n",
       "  'is_sequential': False,\n",
       "  'additional_key': None},\n",
       " 'stop_times': {'primary_key': [],\n",
       "  'parent': {'stops': 'stop_id', 'trips': 'trip_id'},\n",
       "  'child': [],\n",
       "  'is_sequential': True,\n",
       "  'additional_key': ['stop_sequence'],\n",
       "  'sort_order': ['trip_id', 'stop_sequence']},\n",
       " 'trips': {'primary_key': ['trip_id', 32403],\n",
       "  'parent': {'calendar': 'service_id', 'routes': 'route_id'},\n",
       "  'child': ['stop_times'],\n",
       "  'is_sequential': False,\n",
       "  'additional_key': None}}"
      ]
     },
     "execution_count": 8,
     "metadata": {},
     "output_type": "execute_result"
    }
   ],
   "source": [
    "metadata"
   ]
  },
  {
   "cell_type": "code",
   "execution_count": 9,
   "id": "f9b55551-0339-4b48-9b63-4c5eceefd9bd",
   "metadata": {},
   "outputs": [],
   "source": [
    "# {'agency': {'primary_key': ['agency_id', 15],\n",
    "#   'parent': {},\n",
    "#   'child': ['routes']},\n",
    "#  'calendar': {'primary_key': ['service_id', 121],\n",
    "#   'parent': {},\n",
    "#   'child': ['calendar_dates', 'trips']},\n",
    "#  'calendar_dates': {'primary_key': [],\n",
    "#   'parent': {'calendar': 'service_id'},\n",
    "#   'child': []},\n",
    "#  'routes': {'primary_key': ['route_id', 215],\n",
    "#   'parent': {'agency': 'agency_id'},\n",
    "#   'child': ['trips']},\n",
    "#  'stops': {'primary_key': ['stop_id', 6714],\n",
    "#   'parent': {},\n",
    "#   'child': ['stop_times']},\n",
    "#  'stop_times': {'primary_key': [],\n",
    "#   'parent': {'stops': 'stop_id', 'trips': 'trip_id'},\n",
    "#   'child': []},\n",
    "#  'trips': {'primary_key': ['trip_id', 32403],\n",
    "#   'parent': {'calendar': 'service_id', 'routes': 'route_id'},\n",
    "#   'child': ['stop_times']}}"
   ]
  },
  {
   "cell_type": "markdown",
   "id": "0030c3c8-efd3-4412-a936-e735a0ff0d11",
   "metadata": {},
   "source": [
    "# preprocess"
   ]
  },
  {
   "cell_type": "markdown",
   "id": "4d1e7358-b862-4454-9aed-31db0d173336",
   "metadata": {},
   "source": [
    "## Create Factorization Dictionary:"
   ]
  },
  {
   "cell_type": "code",
   "execution_count": 10,
   "id": "5ff1369a-a7a4-47cc-a367-96a7e7b08378",
   "metadata": {},
   "outputs": [],
   "source": [
    "def create_factorization_dict(data_collection, metadata):\n",
    "    factor_dict = {}\n",
    "    for df_name, df in data_collection.items():\n",
    "        local_id_dict = {}\n",
    "        primary_key_info = metadata[df_name]['primary_key']\n",
    "        if primary_key_info != []:\n",
    "            local_id_dict = {k:v for v,k in enumerate(df[primary_key_info[0]].unique())}\n",
    "            factor_dict[primary_key_info[0]] = local_id_dict\n",
    "    return factor_dict"
   ]
  },
  {
   "cell_type": "code",
   "execution_count": 11,
   "id": "e3850f6f-7c99-47d2-b7c9-39ca72af8159",
   "metadata": {
    "scrolled": true,
    "tags": []
   },
   "outputs": [],
   "source": [
    "factorization_dict = create_factorization_dict(real_data_collection, metadata)"
   ]
  },
  {
   "cell_type": "markdown",
   "id": "b40b1167-958e-4998-9c4b-d308e43d23d3",
   "metadata": {},
   "source": [
    "## Format Individual Table:"
   ]
  },
  {
   "cell_type": "code",
   "execution_count": 12,
   "id": "ea160cb7-5a00-4415-9db6-65a1fed80c6d",
   "metadata": {},
   "outputs": [],
   "source": [
    "def individual_preprocess_dict():\n",
    "    preprocess_dict = {}\n",
    "    preprocess_dict['transformation'] = {}\n",
    "    preprocess_dict['transformation']['drop'] = []\n",
    "    preprocess_dict['transformation']['factorize'] = []\n",
    "    preprocess_dict['transformation']['to_strip'] = []\n",
    "    preprocess_dict['transformation']['to_elapsed_time'] = []\n",
    "    preprocess_dict['transformation']['to_elapsed_days'] = []\n",
    "    preprocess_dict['nans_conversion'] = {}\n",
    "    preprocess_dict['nans_conversion']['impute'] = []\n",
    "    preprocess_dict['nans_conversion']['replace_with_neg_one'] = []\n",
    "    preprocess_dict['nans_conversion']['replace_with_zeros'] = []\n",
    "    return preprocess_dict"
   ]
  },
  {
   "cell_type": "code",
   "execution_count": 13,
   "id": "a43626da-f738-4269-b5ff-62333d036e9d",
   "metadata": {},
   "outputs": [],
   "source": [
    "def format_individual_data(data, preprocess_dict, factorization_dict, timestamp = pd.Timestamp('1900-01-01')):\n",
    "    # reverse_transform_dict = {}\n",
    "    for stage in preprocess_dict.keys():\n",
    "        if stage == 'transformation':\n",
    "            for method, col_list in preprocess_dict[stage].items():\n",
    "                if len(col_list) != 0 or None:\n",
    "                    if method == 'drop':\n",
    "                        data = data.drop(col_list, axis=1)\n",
    "                    if method == 'factorize':\n",
    "                        for col in col_list:\n",
    "                            if col in factorization_dict.keys():\n",
    "                                data[col] = data[col].map(factorization_dict[col])\n",
    "                            else:\n",
    "                                data[col] = pd.factorize(data[col], sort=True)[0]\n",
    "                    if method == 'to_strip':\n",
    "                        for col in col_list:\n",
    "                            # convert some column to numbers\n",
    "                            # e.g. `123-45-6` -> `123456`\n",
    "                            data[col] = data[col].str.replace(r'\\D', '').astype(int)\n",
    "                    if method == \"to_elapsed_time\":\n",
    "                        for col in col_list:\n",
    "                            cur_col = pd.to_timedelta(data[col])\n",
    "                            cur_col = cur_col % pd.Timedelta(days=1)\n",
    "                            data[col] = cur_col.dt.total_seconds()\n",
    "                    if method == \"to_elapsed_days\":\n",
    "                        for col in col_list:\n",
    "                            cur_col = pd.to_datetime(data[col], format='%Y%m%d') - timestamp\n",
    "                            data[col] = cur_col.dt.days\n",
    "        if stage == 'nans_conversion':\n",
    "            for method, col_list in preprocess_dict[stage].items():\n",
    "                if len(col_list) != 0 or None:\n",
    "                    if method == 'impute':\n",
    "                        imputer = SimpleImputer(strategy='mean')\n",
    "                        data[col_list] = imputer.fit_transform(data[col_list])\n",
    "                    if method == 'replace_with_neg_one':\n",
    "                        data[col_list] = data[col_list].fillna(-1)\n",
    "                    if method == 'replace_with_zeros':\n",
    "                        data[col_list] = data[col_list].fillna(0)\n",
    "    # scaler = MinMaxScaler(feature_range=(-1, 1))\n",
    "    # scaled_data = scaler.fit_transform(data)\n",
    "    return data"
   ]
  },
  {
   "cell_type": "markdown",
   "id": "d5d2f690-595f-4824-982b-a4eacecc3910",
   "metadata": {},
   "source": [
    "## preprocess individual data"
   ]
  },
  {
   "cell_type": "code",
   "execution_count": 14,
   "id": "14759448-6b02-4be0-989c-7a5668313ac5",
   "metadata": {},
   "outputs": [],
   "source": [
    "sdv_metadata = MultiTableMetadata()"
   ]
  },
  {
   "cell_type": "code",
   "execution_count": 15,
   "id": "391d1d19-1d42-4f73-99f0-9fcbade5bc82",
   "metadata": {},
   "outputs": [],
   "source": [
    "preprocess_dict = individual_preprocess_dict()\n",
    "preprocess_dict['transformation']['drop'] = ['agency_name','agency_fare_url','agency_email']\n",
    "preprocess_dict['transformation']['factorize'] = ['agency_id','agency_url','agency_timezone','agency_lang','agency_phone']\n",
    "real_data_collection['agency'] = format_individual_data(real_data_collection['agency'], preprocess_dict, factorization_dict)"
   ]
  },
  {
   "cell_type": "code",
   "execution_count": 16,
   "id": "caffb90f-ec27-44da-9140-35994e66c29a",
   "metadata": {},
   "outputs": [],
   "source": [
    "sdv_metadata.detect_table_from_dataframe(table_name='agency', data=real_data_collection['agency'])\n",
    "sdv_metadata.update_column(table_name='agency',column_name='agency_id',sdtype='id')\n",
    "sdv_metadata.update_column(table_name='agency',column_name='agency_url',sdtype='categorical')\n",
    "sdv_metadata.update_column(table_name='agency',column_name='agency_timezone',sdtype='categorical')\n",
    "sdv_metadata.update_column(table_name='agency',column_name='agency_lang',sdtype='categorical')\n",
    "sdv_metadata.update_column(table_name='agency',column_name='agency_phone',sdtype='categorical')\n",
    "sdv_metadata.set_primary_key(table_name='agency',column_name='agency_id')"
   ]
  },
  {
   "cell_type": "markdown",
   "id": "161adbb0-ad23-4ccb-a0be-2de0c910c4ac",
   "metadata": {},
   "source": [
    "### calendar"
   ]
  },
  {
   "cell_type": "code",
   "execution_count": 17,
   "id": "98b6c1d4-9732-480e-80b2-711a104c4ab3",
   "metadata": {},
   "outputs": [],
   "source": [
    "preprocess_dict = individual_preprocess_dict()\n",
    "preprocess_dict['transformation']['factorize'] = ['service_id']\n",
    "preprocess_dict['transformation']['to_elapsed_days'] = ['start_date','end_date']\n",
    "real_data_collection['calendar'] = format_individual_data(real_data_collection['calendar'], preprocess_dict, factorization_dict)"
   ]
  },
  {
   "cell_type": "code",
   "execution_count": 18,
   "id": "4c7ccf19-a0f3-4839-92a3-1da4f191bd50",
   "metadata": {},
   "outputs": [],
   "source": [
    "sdv_metadata.detect_table_from_dataframe(table_name='calendar',data=real_data_collection['calendar'])\n",
    "sdv_metadata.update_column(table_name='calendar',column_name='service_id',sdtype='id')\n",
    "sdv_metadata.update_column(table_name='calendar',column_name='monday',sdtype='categorical')\n",
    "sdv_metadata.update_column(table_name='calendar',column_name='tuesday',sdtype='categorical')\n",
    "sdv_metadata.update_column(table_name='calendar',column_name='wednesday',sdtype='categorical')\n",
    "sdv_metadata.update_column(table_name='calendar',column_name='thursday',sdtype='categorical')\n",
    "sdv_metadata.update_column(table_name='calendar',column_name='friday',sdtype='categorical')\n",
    "sdv_metadata.update_column(table_name='calendar',column_name='saturday',sdtype='categorical')\n",
    "sdv_metadata.update_column(table_name='calendar',column_name='sunday',sdtype='categorical')\n",
    "sdv_metadata.update_column(table_name='calendar',column_name='start_date',sdtype='numerical',computer_representation='Int32')\n",
    "sdv_metadata.update_column(table_name='calendar',column_name='end_date',sdtype='numerical',computer_representation='Int32')\n",
    "sdv_metadata.set_primary_key(table_name='calendar',column_name='service_id')"
   ]
  },
  {
   "cell_type": "markdown",
   "id": "a91f03a9-5975-4af6-bb47-4c964f89c94c",
   "metadata": {},
   "source": [
    "### calendar_dates"
   ]
  },
  {
   "cell_type": "code",
   "execution_count": 19,
   "id": "4bedaf5f-6cb1-4b62-a3b6-e6d1d133e3ae",
   "metadata": {},
   "outputs": [],
   "source": [
    "preprocess_dict = individual_preprocess_dict()\n",
    "preprocess_dict['transformation']['factorize'] = ['service_id']\n",
    "preprocess_dict['transformation']['to_elapsed_days'] = ['date']\n",
    "real_data_collection['calendar_dates'] = format_individual_data(real_data_collection['calendar_dates'], preprocess_dict, factorization_dict)"
   ]
  },
  {
   "cell_type": "code",
   "execution_count": 20,
   "id": "ced7bf14-2470-477a-95ed-4002c2fe8162",
   "metadata": {},
   "outputs": [],
   "source": [
    "sdv_metadata.detect_table_from_dataframe(table_name='calendar_dates',data=real_data_collection['calendar_dates'])\n",
    "sdv_metadata.update_column(table_name='calendar_dates',column_name='service_id',sdtype='id')\n",
    "sdv_metadata.update_column(table_name='calendar_dates',column_name='date',sdtype='numerical',computer_representation='Int32')\n",
    "sdv_metadata.update_column(table_name='calendar_dates',column_name='exception_type',sdtype='categorical')"
   ]
  },
  {
   "cell_type": "markdown",
   "id": "b6fe28af-8914-4f3c-b217-68890419d008",
   "metadata": {},
   "source": [
    "### routes"
   ]
  },
  {
   "cell_type": "code",
   "execution_count": 21,
   "id": "4ab5668b-817b-4cf4-a982-ba24c699f9e7",
   "metadata": {},
   "outputs": [],
   "source": [
    "preprocess_dict = individual_preprocess_dict()\n",
    "preprocess_dict['transformation']['drop'] = ['route_short_name','route_long_name','route_desc','route_url','route_sort_order']\n",
    "preprocess_dict['transformation']['factorize'] = ['route_id',\n",
    "                                                  'agency_id',\n",
    "                                                 'route_color',\n",
    "                                                 'route_text_color',\n",
    "                                                 'contract_id']\n",
    "preprocess_dict['nans_conversion']['impute'] = ['route_color','route_text_color']\n",
    "real_data_collection['routes'] = format_individual_data(real_data_collection['routes'], preprocess_dict, factorization_dict)"
   ]
  },
  {
   "cell_type": "code",
   "execution_count": 22,
   "id": "185a3030-4a5f-4fb8-9e5c-7042a3248174",
   "metadata": {
    "scrolled": true,
    "tags": []
   },
   "outputs": [],
   "source": [
    "real_data_collection['routes']['route_color'] = real_data_collection['routes']['route_color'].astype(int)\n",
    "real_data_collection['routes']['route_text_color'] = real_data_collection['routes']['route_text_color'].astype(int)"
   ]
  },
  {
   "cell_type": "code",
   "execution_count": 23,
   "id": "b03aa99c-3f8e-42c1-a274-2d358b1785f2",
   "metadata": {},
   "outputs": [],
   "source": [
    "sdv_metadata.detect_table_from_dataframe(table_name='routes',data=real_data_collection['routes'])\n",
    "sdv_metadata.update_column(table_name='routes',column_name='route_id',sdtype='id')\n",
    "sdv_metadata.update_column(table_name='routes',column_name='agency_id',sdtype='id')\n",
    "sdv_metadata.update_column(table_name='routes',column_name='route_type',sdtype='categorical')\n",
    "sdv_metadata.update_column(table_name='routes',column_name='route_color',sdtype='categorical')\n",
    "sdv_metadata.update_column(table_name='routes',column_name='route_text_color',sdtype='categorical')\n",
    "sdv_metadata.update_column(table_name='routes',column_name='contract_id',sdtype='id')\n",
    "sdv_metadata.set_primary_key(table_name='routes',column_name='route_id')"
   ]
  },
  {
   "cell_type": "markdown",
   "id": "97ff2589-b81c-4e09-afdc-eaae11f4d640",
   "metadata": {},
   "source": [
    "### stops"
   ]
  },
  {
   "cell_type": "code",
   "execution_count": 24,
   "id": "194c3a68-b4fe-49e4-9c2b-534a2728ef2b",
   "metadata": {},
   "outputs": [],
   "source": [
    "preprocess_dict = individual_preprocess_dict()\n",
    "preprocess_dict['transformation']['factorize'] = ['stop_id','parent_station','platform_code']\n",
    "preprocess_dict['transformation']['to_elapsed_days'] = ['start_date','end_date']\n",
    "preprocess_dict['transformation']['drop'] = ['stop_name','stop_code','stop_desc','zone_id','stop_url','stop_timezone']\n",
    "preprocess_dict['nans_conversion']['impute'] = ['parent_station','platform_code']\n",
    "real_data_collection['stops'] = format_individual_data(real_data_collection['stops'], preprocess_dict, factorization_dict)"
   ]
  },
  {
   "cell_type": "code",
   "execution_count": 25,
   "id": "4ade5534-7743-4237-b6de-06c01f4934b0",
   "metadata": {},
   "outputs": [],
   "source": [
    "real_data_collection['stops']['parent_station'] = real_data_collection['stops']['parent_station'].astype(int)\n",
    "real_data_collection['stops']['platform_code'] = real_data_collection['stops']['platform_code'].astype(int)"
   ]
  },
  {
   "cell_type": "code",
   "execution_count": 26,
   "id": "71f90106-fe1a-4ee0-a121-c18244253106",
   "metadata": {},
   "outputs": [],
   "source": [
    "sdv_metadata.detect_table_from_dataframe(table_name='stops',data=real_data_collection['stops'])\n",
    "sdv_metadata.update_column(table_name='stops',column_name='stop_id',sdtype='id')\n",
    "sdv_metadata.update_column(table_name='stops',column_name='stop_lat',sdtype='numerical',computer_representation='Float')\n",
    "sdv_metadata.update_column(table_name='stops',column_name='stop_lon',sdtype='numerical',computer_representation='Float')\n",
    "sdv_metadata.update_column(table_name='stops',column_name='location_type',sdtype='categorical')\n",
    "sdv_metadata.update_column(table_name='stops',column_name='parent_station',sdtype='categorical')\n",
    "sdv_metadata.update_column(table_name='stops',column_name='platform_code',sdtype='categorical')\n",
    "sdv_metadata.update_column(table_name='stops',column_name='wheelchair_boarding',sdtype='categorical')\n",
    "sdv_metadata.update_column(table_name='stops',column_name='start_date',sdtype='numerical',computer_representation='Int32')\n",
    "sdv_metadata.update_column(table_name='stops',column_name='end_date',sdtype='numerical',computer_representation='Int32')\n",
    "sdv_metadata.set_primary_key(table_name='stops',column_name='stop_id')"
   ]
  },
  {
   "cell_type": "markdown",
   "id": "717a2a51-8a26-4c4d-9240-8d37aa2970f8",
   "metadata": {},
   "source": [
    "### stop_times"
   ]
  },
  {
   "cell_type": "code",
   "execution_count": 27,
   "id": "6045ecf3-bc7e-4e5f-99a9-268fb36a2205",
   "metadata": {},
   "outputs": [],
   "source": [
    "preprocess_dict = individual_preprocess_dict()\n",
    "preprocess_dict['transformation']['factorize'] = ['trip_id','stop_id','stop_headsign']\n",
    "preprocess_dict['transformation']['to_elapsed_time'] = ['arrival_time','departure_time']\n",
    "real_data_collection['stop_times'] = format_individual_data(real_data_collection['stop_times'], preprocess_dict, factorization_dict)"
   ]
  },
  {
   "cell_type": "code",
   "execution_count": 28,
   "id": "8268efc1-a34f-4671-9110-695be2db0d04",
   "metadata": {},
   "outputs": [],
   "source": [
    "real_data_collection['stop_times']['arrival_time'] = real_data_collection['stop_times']['arrival_time'].astype(int)\n",
    "real_data_collection['stop_times']['departure_time'] = real_data_collection['stop_times']['departure_time'].astype(int)"
   ]
  },
  {
   "cell_type": "code",
   "execution_count": 29,
   "id": "da4afcef-7a3c-4bf8-936a-630c45631df8",
   "metadata": {},
   "outputs": [],
   "source": [
    "sdv_metadata.detect_table_from_dataframe(table_name='stop_times',data=real_data_collection['stop_times'])\n",
    "sdv_metadata.update_column(table_name='stop_times',column_name='trip_id',sdtype='id')\n",
    "sdv_metadata.update_column(table_name='stop_times',column_name='arrival_time',sdtype='numerical',computer_representation='Int32')\n",
    "sdv_metadata.update_column(table_name='stop_times',column_name='departure_time',sdtype='numerical',computer_representation='Int32')\n",
    "sdv_metadata.update_column(table_name='stop_times',column_name='stop_id',sdtype='id')\n",
    "sdv_metadata.update_column(table_name='stop_times',column_name='stop_sequence',sdtype='categorical')\n",
    "sdv_metadata.update_column(table_name='stop_times',column_name='stop_headsign',sdtype='categorical')\n",
    "sdv_metadata.update_column(table_name='stop_times',column_name='pickup_type',sdtype='categorical')\n",
    "sdv_metadata.update_column(table_name='stop_times',column_name='drop_off_type',sdtype='categorical')\n",
    "sdv_metadata.update_column(table_name='stop_times',column_name='shape_dist_traveled',sdtype='numerical',computer_representation='Float')\n",
    "sdv_metadata.update_column(table_name='stop_times',column_name='timepoint',sdtype='categorical')"
   ]
  },
  {
   "cell_type": "markdown",
   "id": "1601644e-ef6c-4c9a-9580-43fa79b5b963",
   "metadata": {},
   "source": [
    "### trips"
   ]
  },
  {
   "cell_type": "code",
   "execution_count": 30,
   "id": "0b5c0236-a5db-4fd9-b93e-cc8b4ae282c7",
   "metadata": {
    "tags": []
   },
   "outputs": [],
   "source": [
    "preprocess_dict = individual_preprocess_dict()\n",
    "preprocess_dict['transformation']['factorize'] = ['route_id','service_id','trip_id','trip_headsign','shape_id']\n",
    "preprocess_dict['transformation']['drop'] = ['trip_short_name','block_id']\n",
    "real_data_collection['trips'] = format_individual_data(real_data_collection['trips'], preprocess_dict, factorization_dict)"
   ]
  },
  {
   "cell_type": "code",
   "execution_count": 31,
   "id": "434eb10b-5c43-4bc8-8bfb-d44ec3dd7874",
   "metadata": {
    "tags": []
   },
   "outputs": [],
   "source": [
    "sdv_metadata.detect_table_from_dataframe(table_name='trips',data=real_data_collection['trips'])\n",
    "sdv_metadata.update_column(table_name='trips',column_name='route_id',sdtype='id')\n",
    "sdv_metadata.update_column(table_name='trips',column_name='service_id',sdtype='id')\n",
    "sdv_metadata.update_column(table_name='trips',column_name='trip_id',sdtype='id')\n",
    "sdv_metadata.update_column(table_name='trips',column_name='trip_headsign',sdtype='categorical')\n",
    "sdv_metadata.update_column(table_name='trips',column_name='direction_id',sdtype='id')\n",
    "sdv_metadata.update_column(table_name='trips',column_name='shape_id',sdtype='id')\n",
    "sdv_metadata.update_column(table_name='trips',column_name='wheelchair_accessible',sdtype='categorical')\n",
    "sdv_metadata.update_column(table_name='trips',column_name='bikes_allowed',sdtype='categorical')\n",
    "sdv_metadata.set_primary_key(table_name='trips',column_name='trip_id')"
   ]
  },
  {
   "cell_type": "markdown",
   "id": "0c7e65ab-b276-4ce0-bce9-0f0dfbda2f0e",
   "metadata": {},
   "source": [
    "## Add SDV Relations"
   ]
  },
  {
   "cell_type": "code",
   "execution_count": 32,
   "id": "eee66f0a-5be8-475b-adb3-7cf166678db1",
   "metadata": {},
   "outputs": [],
   "source": [
    "sdv_metadata.add_relationship(\n",
    "    parent_table_name='agency',\n",
    "    child_table_name='routes',\n",
    "    parent_primary_key='agency_id',\n",
    "    child_foreign_key='agency_id'\n",
    ")\n",
    "\n",
    "sdv_metadata.add_relationship(\n",
    "    parent_table_name='calendar',\n",
    "    child_table_name='calendar_dates',\n",
    "    parent_primary_key='service_id',\n",
    "    child_foreign_key='service_id'\n",
    ")\n",
    "\n",
    "sdv_metadata.add_relationship(\n",
    "    parent_table_name='calendar',\n",
    "    child_table_name='trips',\n",
    "    parent_primary_key='service_id',\n",
    "    child_foreign_key='service_id'\n",
    ")\n",
    "\n",
    "sdv_metadata.add_relationship(\n",
    "    parent_table_name='routes',\n",
    "    child_table_name='trips',\n",
    "    parent_primary_key='route_id',\n",
    "    child_foreign_key='route_id'\n",
    ")\n",
    "\n",
    "sdv_metadata.add_relationship(\n",
    "    parent_table_name='stops',\n",
    "    child_table_name='stop_times',\n",
    "    parent_primary_key='stop_id',\n",
    "    child_foreign_key='stop_id'\n",
    ")\n",
    "\n",
    "sdv_metadata.add_relationship(\n",
    "    parent_table_name='trips',\n",
    "    child_table_name='stop_times',\n",
    "    parent_primary_key='trip_id',\n",
    "    child_foreign_key='trip_id'\n",
    ")"
   ]
  },
  {
   "cell_type": "code",
   "execution_count": 33,
   "id": "ff95e656-3b4a-4f2c-8a3d-88e74be69fb1",
   "metadata": {},
   "outputs": [
    {
     "data": {
      "image/svg+xml": [
       "<?xml version=\"1.0\" encoding=\"UTF-8\" standalone=\"no\"?>\n",
       "<!DOCTYPE svg PUBLIC \"-//W3C//DTD SVG 1.1//EN\"\n",
       " \"http://www.w3.org/Graphics/SVG/1.1/DTD/svg11.dtd\">\n",
       "<!-- Generated by graphviz version 8.0.1 (20230327.1645)\n",
       " -->\n",
       "<!-- Title: Metadata Pages: 1 -->\n",
       "<svg width=\"664pt\" height=\"969pt\"\n",
       " viewBox=\"0.00 0.00 664.00 969.00\" xmlns=\"http://www.w3.org/2000/svg\" xmlns:xlink=\"http://www.w3.org/1999/xlink\">\n",
       "<g id=\"graph0\" class=\"graph\" transform=\"scale(1 1) rotate(0) translate(4 965)\">\n",
       "<title>Metadata</title>\n",
       "<polygon fill=\"white\" stroke=\"none\" points=\"-4,4 -4,-965 660,-965 660,4 -4,4\"/>\n",
       "<!-- agency -->\n",
       "<g id=\"node1\" class=\"node\">\n",
       "<title>agency</title>\n",
       "<path fill=\"#ffec8b\" stroke=\"black\" d=\"M25.5,-815.5C25.5,-815.5 184.5,-815.5 184.5,-815.5 190.5,-815.5 196.5,-821.5 196.5,-827.5 196.5,-827.5 196.5,-948.5 196.5,-948.5 196.5,-954.5 190.5,-960.5 184.5,-960.5 184.5,-960.5 25.5,-960.5 25.5,-960.5 19.5,-960.5 13.5,-954.5 13.5,-948.5 13.5,-948.5 13.5,-827.5 13.5,-827.5 13.5,-821.5 19.5,-815.5 25.5,-815.5\"/>\n",
       "<text text-anchor=\"middle\" x=\"105\" y=\"-945.3\" font-family=\"Times New Roman,serif\" font-size=\"14.00\">agency</text>\n",
       "<polyline fill=\"none\" stroke=\"black\" points=\"13.5,-937.5 196.5,-937.5\"/>\n",
       "<text text-anchor=\"start\" x=\"21.5\" y=\"-922.3\" font-family=\"Times New Roman,serif\" font-size=\"14.00\">agency_id : id</text>\n",
       "<text text-anchor=\"start\" x=\"21.5\" y=\"-907.3\" font-family=\"Times New Roman,serif\" font-size=\"14.00\">agency_url : categorical</text>\n",
       "<text text-anchor=\"start\" x=\"21.5\" y=\"-892.3\" font-family=\"Times New Roman,serif\" font-size=\"14.00\">agency_timezone : categorical</text>\n",
       "<text text-anchor=\"start\" x=\"21.5\" y=\"-877.3\" font-family=\"Times New Roman,serif\" font-size=\"14.00\">agency_lang : categorical</text>\n",
       "<text text-anchor=\"start\" x=\"21.5\" y=\"-862.3\" font-family=\"Times New Roman,serif\" font-size=\"14.00\">agency_phone : categorical</text>\n",
       "<polyline fill=\"none\" stroke=\"black\" points=\"13.5,-854.5 196.5,-854.5\"/>\n",
       "<text text-anchor=\"start\" x=\"21.5\" y=\"-839.3\" font-family=\"Times New Roman,serif\" font-size=\"14.00\">Primary key: agency_id</text>\n",
       "</g>\n",
       "<!-- routes -->\n",
       "<g id=\"node4\" class=\"node\">\n",
       "<title>routes</title>\n",
       "<path fill=\"#ffec8b\" stroke=\"black\" d=\"M18,-574C18,-574 192,-574 192,-574 198,-574 204,-580 204,-586 204,-586 204,-721 204,-721 204,-727 198,-733 192,-733 192,-733 18,-733 18,-733 12,-733 6,-727 6,-721 6,-721 6,-586 6,-586 6,-580 12,-574 18,-574\"/>\n",
       "<text text-anchor=\"middle\" x=\"105\" y=\"-717.8\" font-family=\"Times New Roman,serif\" font-size=\"14.00\">routes</text>\n",
       "<polyline fill=\"none\" stroke=\"black\" points=\"6,-710 204,-710\"/>\n",
       "<text text-anchor=\"start\" x=\"14\" y=\"-694.8\" font-family=\"Times New Roman,serif\" font-size=\"14.00\">route_id : id</text>\n",
       "<text text-anchor=\"start\" x=\"14\" y=\"-679.8\" font-family=\"Times New Roman,serif\" font-size=\"14.00\">agency_id : id</text>\n",
       "<text text-anchor=\"start\" x=\"14\" y=\"-664.8\" font-family=\"Times New Roman,serif\" font-size=\"14.00\">route_type : categorical</text>\n",
       "<text text-anchor=\"start\" x=\"14\" y=\"-649.8\" font-family=\"Times New Roman,serif\" font-size=\"14.00\">route_color : categorical</text>\n",
       "<text text-anchor=\"start\" x=\"14\" y=\"-634.8\" font-family=\"Times New Roman,serif\" font-size=\"14.00\">route_text_color : categorical</text>\n",
       "<text text-anchor=\"start\" x=\"14\" y=\"-619.8\" font-family=\"Times New Roman,serif\" font-size=\"14.00\">contract_id : id</text>\n",
       "<polyline fill=\"none\" stroke=\"black\" points=\"6,-612 204,-612\"/>\n",
       "<text text-anchor=\"start\" x=\"14\" y=\"-596.8\" font-family=\"Times New Roman,serif\" font-size=\"14.00\">Primary key: route_id</text>\n",
       "<text text-anchor=\"start\" x=\"14\" y=\"-581.8\" font-family=\"Times New Roman,serif\" font-size=\"14.00\">Foreign key (agency): agency_id</text>\n",
       "</g>\n",
       "<!-- agency&#45;&gt;routes -->\n",
       "<g id=\"edge1\" class=\"edge\">\n",
       "<title>agency&#45;&gt;routes</title>\n",
       "<path fill=\"none\" stroke=\"black\" d=\"M105,-815.66C105,-789.5 105,-759.75 105,-732.99\"/>\n",
       "<polygon fill=\"none\" stroke=\"black\" points=\"108.85,-729.85 115.35,-743.35 101.85,-736.85 108.85,-729.85\"/>\n",
       "<text text-anchor=\"middle\" x=\"177\" y=\"-785.8\" font-family=\"Times New Roman,serif\" font-size=\"14.00\"> &#160;agency_id → agency_id</text>\n",
       "</g>\n",
       "<!-- calendar -->\n",
       "<g id=\"node2\" class=\"node\">\n",
       "<title>calendar</title>\n",
       "<path fill=\"#ffec8b\" stroke=\"black\" d=\"M339.5,-543.5C339.5,-543.5 464.5,-543.5 464.5,-543.5 470.5,-543.5 476.5,-549.5 476.5,-555.5 476.5,-555.5 476.5,-751.5 476.5,-751.5 476.5,-757.5 470.5,-763.5 464.5,-763.5 464.5,-763.5 339.5,-763.5 339.5,-763.5 333.5,-763.5 327.5,-757.5 327.5,-751.5 327.5,-751.5 327.5,-555.5 327.5,-555.5 327.5,-549.5 333.5,-543.5 339.5,-543.5\"/>\n",
       "<text text-anchor=\"middle\" x=\"402\" y=\"-748.3\" font-family=\"Times New Roman,serif\" font-size=\"14.00\">calendar</text>\n",
       "<polyline fill=\"none\" stroke=\"black\" points=\"327.5,-740.5 476.5,-740.5\"/>\n",
       "<text text-anchor=\"start\" x=\"335.5\" y=\"-725.3\" font-family=\"Times New Roman,serif\" font-size=\"14.00\">service_id : id</text>\n",
       "<text text-anchor=\"start\" x=\"335.5\" y=\"-710.3\" font-family=\"Times New Roman,serif\" font-size=\"14.00\">monday : categorical</text>\n",
       "<text text-anchor=\"start\" x=\"335.5\" y=\"-695.3\" font-family=\"Times New Roman,serif\" font-size=\"14.00\">tuesday : categorical</text>\n",
       "<text text-anchor=\"start\" x=\"335.5\" y=\"-680.3\" font-family=\"Times New Roman,serif\" font-size=\"14.00\">wednesday : categorical</text>\n",
       "<text text-anchor=\"start\" x=\"335.5\" y=\"-665.3\" font-family=\"Times New Roman,serif\" font-size=\"14.00\">thursday : categorical</text>\n",
       "<text text-anchor=\"start\" x=\"335.5\" y=\"-650.3\" font-family=\"Times New Roman,serif\" font-size=\"14.00\">friday : categorical</text>\n",
       "<text text-anchor=\"start\" x=\"335.5\" y=\"-635.3\" font-family=\"Times New Roman,serif\" font-size=\"14.00\">saturday : categorical</text>\n",
       "<text text-anchor=\"start\" x=\"335.5\" y=\"-620.3\" font-family=\"Times New Roman,serif\" font-size=\"14.00\">sunday : categorical</text>\n",
       "<text text-anchor=\"start\" x=\"335.5\" y=\"-605.3\" font-family=\"Times New Roman,serif\" font-size=\"14.00\">start_date : numerical</text>\n",
       "<text text-anchor=\"start\" x=\"335.5\" y=\"-590.3\" font-family=\"Times New Roman,serif\" font-size=\"14.00\">end_date : numerical</text>\n",
       "<polyline fill=\"none\" stroke=\"black\" points=\"327.5,-582.5 476.5,-582.5\"/>\n",
       "<text text-anchor=\"start\" x=\"335.5\" y=\"-567.3\" font-family=\"Times New Roman,serif\" font-size=\"14.00\">Primary key: service_id</text>\n",
       "</g>\n",
       "<!-- calendar_dates -->\n",
       "<g id=\"node3\" class=\"node\">\n",
       "<title>calendar_dates</title>\n",
       "<path fill=\"#ffec8b\" stroke=\"black\" d=\"M462,-332C462,-332 644,-332 644,-332 650,-332 656,-338 656,-344 656,-344 656,-434 656,-434 656,-440 650,-446 644,-446 644,-446 462,-446 462,-446 456,-446 450,-440 450,-434 450,-434 450,-344 450,-344 450,-338 456,-332 462,-332\"/>\n",
       "<text text-anchor=\"middle\" x=\"553\" y=\"-430.8\" font-family=\"Times New Roman,serif\" font-size=\"14.00\">calendar_dates</text>\n",
       "<polyline fill=\"none\" stroke=\"black\" points=\"450,-423 656,-423\"/>\n",
       "<text text-anchor=\"start\" x=\"458\" y=\"-407.8\" font-family=\"Times New Roman,serif\" font-size=\"14.00\">service_id : id</text>\n",
       "<text text-anchor=\"start\" x=\"458\" y=\"-392.8\" font-family=\"Times New Roman,serif\" font-size=\"14.00\">date : numerical</text>\n",
       "<text text-anchor=\"start\" x=\"458\" y=\"-377.8\" font-family=\"Times New Roman,serif\" font-size=\"14.00\">exception_type : categorical</text>\n",
       "<polyline fill=\"none\" stroke=\"black\" points=\"450,-370 656,-370\"/>\n",
       "<text text-anchor=\"start\" x=\"458\" y=\"-354.8\" font-family=\"Times New Roman,serif\" font-size=\"14.00\">Primary key: None</text>\n",
       "<text text-anchor=\"start\" x=\"458\" y=\"-339.8\" font-family=\"Times New Roman,serif\" font-size=\"14.00\">Foreign key (calendar): service_id</text>\n",
       "</g>\n",
       "<!-- calendar&#45;&gt;calendar_dates -->\n",
       "<g id=\"edge2\" class=\"edge\">\n",
       "<title>calendar&#45;&gt;calendar_dates</title>\n",
       "<path fill=\"none\" stroke=\"black\" d=\"M464.51,-543.84C483.9,-510.13 504.47,-474.37 520.89,-445.82\"/>\n",
       "<polygon fill=\"none\" stroke=\"black\" points=\"524.75,-442.67 531.25,-456.17 517.75,-449.67 524.75,-442.67\"/>\n",
       "<text text-anchor=\"middle\" x=\"554\" y=\"-513.8\" font-family=\"Times New Roman,serif\" font-size=\"14.00\"> &#160;service_id → service_id</text>\n",
       "</g>\n",
       "<!-- trips -->\n",
       "<g id=\"node7\" class=\"node\">\n",
       "<title>trips</title>\n",
       "<path fill=\"#ffec8b\" stroke=\"black\" d=\"M12,-287C12,-287 198,-287 198,-287 204,-287 210,-293 210,-299 210,-299 210,-479 210,-479 210,-485 204,-491 198,-491 198,-491 12,-491 12,-491 6,-491 0,-485 0,-479 0,-479 0,-299 0,-299 0,-293 6,-287 12,-287\"/>\n",
       "<text text-anchor=\"middle\" x=\"105\" y=\"-475.8\" font-family=\"Times New Roman,serif\" font-size=\"14.00\">trips</text>\n",
       "<polyline fill=\"none\" stroke=\"black\" points=\"0,-468 210,-468\"/>\n",
       "<text text-anchor=\"start\" x=\"8\" y=\"-452.8\" font-family=\"Times New Roman,serif\" font-size=\"14.00\">route_id : id</text>\n",
       "<text text-anchor=\"start\" x=\"8\" y=\"-437.8\" font-family=\"Times New Roman,serif\" font-size=\"14.00\">service_id : id</text>\n",
       "<text text-anchor=\"start\" x=\"8\" y=\"-422.8\" font-family=\"Times New Roman,serif\" font-size=\"14.00\">trip_id : id</text>\n",
       "<text text-anchor=\"start\" x=\"8\" y=\"-407.8\" font-family=\"Times New Roman,serif\" font-size=\"14.00\">trip_headsign : categorical</text>\n",
       "<text text-anchor=\"start\" x=\"8\" y=\"-392.8\" font-family=\"Times New Roman,serif\" font-size=\"14.00\">direction_id : id</text>\n",
       "<text text-anchor=\"start\" x=\"8\" y=\"-377.8\" font-family=\"Times New Roman,serif\" font-size=\"14.00\">shape_id : id</text>\n",
       "<text text-anchor=\"start\" x=\"8\" y=\"-362.8\" font-family=\"Times New Roman,serif\" font-size=\"14.00\">wheelchair_accessible : categorical</text>\n",
       "<text text-anchor=\"start\" x=\"8\" y=\"-347.8\" font-family=\"Times New Roman,serif\" font-size=\"14.00\">bikes_allowed : categorical</text>\n",
       "<polyline fill=\"none\" stroke=\"black\" points=\"0,-340 210,-340\"/>\n",
       "<text text-anchor=\"start\" x=\"8\" y=\"-324.8\" font-family=\"Times New Roman,serif\" font-size=\"14.00\">Primary key: trip_id</text>\n",
       "<text text-anchor=\"start\" x=\"8\" y=\"-309.8\" font-family=\"Times New Roman,serif\" font-size=\"14.00\">Foreign key (calendar): service_id</text>\n",
       "<text text-anchor=\"start\" x=\"8\" y=\"-294.8\" font-family=\"Times New Roman,serif\" font-size=\"14.00\">Foreign key (routes): route_id</text>\n",
       "</g>\n",
       "<!-- calendar&#45;&gt;trips -->\n",
       "<g id=\"edge3\" class=\"edge\">\n",
       "<title>calendar&#45;&gt;trips</title>\n",
       "<path fill=\"none\" stroke=\"black\" d=\"M327.51,-587.46C294.24,-558.34 254.59,-523.52 209.94,-483.97\"/>\n",
       "<polygon fill=\"none\" stroke=\"black\" points=\"213.8,-480.82 220.3,-494.32 206.8,-487.82 213.8,-480.82\"/>\n",
       "<text text-anchor=\"middle\" x=\"326\" y=\"-513.8\" font-family=\"Times New Roman,serif\" font-size=\"14.00\"> &#160;service_id → service_id</text>\n",
       "</g>\n",
       "<!-- routes&#45;&gt;trips -->\n",
       "<g id=\"edge4\" class=\"edge\">\n",
       "<title>routes&#45;&gt;trips</title>\n",
       "<path fill=\"none\" stroke=\"black\" d=\"M105,-574.1C105,-547.96 105,-518.47 105,-490.87\"/>\n",
       "<polygon fill=\"none\" stroke=\"black\" points=\"108.85,-487.73 115.35,-501.23 101.85,-494.73 108.85,-487.73\"/>\n",
       "<text text-anchor=\"middle\" x=\"166.5\" y=\"-513.8\" font-family=\"Times New Roman,serif\" font-size=\"14.00\"> &#160;route_id → route_id</text>\n",
       "</g>\n",
       "<!-- stops -->\n",
       "<g id=\"node5\" class=\"node\">\n",
       "<title>stops</title>\n",
       "<path fill=\"#ffec8b\" stroke=\"black\" d=\"M240.5,-286.5C240.5,-286.5 419.5,-286.5 419.5,-286.5 425.5,-286.5 431.5,-292.5 431.5,-298.5 431.5,-298.5 431.5,-479.5 431.5,-479.5 431.5,-485.5 425.5,-491.5 419.5,-491.5 419.5,-491.5 240.5,-491.5 240.5,-491.5 234.5,-491.5 228.5,-485.5 228.5,-479.5 228.5,-479.5 228.5,-298.5 228.5,-298.5 228.5,-292.5 234.5,-286.5 240.5,-286.5\"/>\n",
       "<text text-anchor=\"middle\" x=\"330\" y=\"-476.3\" font-family=\"Times New Roman,serif\" font-size=\"14.00\">stops</text>\n",
       "<polyline fill=\"none\" stroke=\"black\" points=\"228.5,-468.5 431.5,-468.5\"/>\n",
       "<text text-anchor=\"start\" x=\"236.5\" y=\"-453.3\" font-family=\"Times New Roman,serif\" font-size=\"14.00\">stop_id : id</text>\n",
       "<text text-anchor=\"start\" x=\"236.5\" y=\"-438.3\" font-family=\"Times New Roman,serif\" font-size=\"14.00\">stop_lat : numerical</text>\n",
       "<text text-anchor=\"start\" x=\"236.5\" y=\"-423.3\" font-family=\"Times New Roman,serif\" font-size=\"14.00\">stop_lon : numerical</text>\n",
       "<text text-anchor=\"start\" x=\"236.5\" y=\"-408.3\" font-family=\"Times New Roman,serif\" font-size=\"14.00\">location_type : categorical</text>\n",
       "<text text-anchor=\"start\" x=\"236.5\" y=\"-393.3\" font-family=\"Times New Roman,serif\" font-size=\"14.00\">parent_station : categorical</text>\n",
       "<text text-anchor=\"start\" x=\"236.5\" y=\"-378.3\" font-family=\"Times New Roman,serif\" font-size=\"14.00\">platform_code : categorical</text>\n",
       "<text text-anchor=\"start\" x=\"236.5\" y=\"-363.3\" font-family=\"Times New Roman,serif\" font-size=\"14.00\">wheelchair_boarding : categorical</text>\n",
       "<text text-anchor=\"start\" x=\"236.5\" y=\"-348.3\" font-family=\"Times New Roman,serif\" font-size=\"14.00\">start_date : numerical</text>\n",
       "<text text-anchor=\"start\" x=\"236.5\" y=\"-333.3\" font-family=\"Times New Roman,serif\" font-size=\"14.00\">end_date : numerical</text>\n",
       "<polyline fill=\"none\" stroke=\"black\" points=\"228.5,-325.5 431.5,-325.5\"/>\n",
       "<text text-anchor=\"start\" x=\"236.5\" y=\"-310.3\" font-family=\"Times New Roman,serif\" font-size=\"14.00\">Primary key: stop_id</text>\n",
       "</g>\n",
       "<!-- stop_times -->\n",
       "<g id=\"node6\" class=\"node\">\n",
       "<title>stop_times</title>\n",
       "<path fill=\"#ffec8b\" stroke=\"black\" d=\"M134.5,-0.5C134.5,-0.5 301.5,-0.5 301.5,-0.5 307.5,-0.5 313.5,-6.5 313.5,-12.5 313.5,-12.5 313.5,-222.5 313.5,-222.5 313.5,-228.5 307.5,-234.5 301.5,-234.5 301.5,-234.5 134.5,-234.5 134.5,-234.5 128.5,-234.5 122.5,-228.5 122.5,-222.5 122.5,-222.5 122.5,-12.5 122.5,-12.5 122.5,-6.5 128.5,-0.5 134.5,-0.5\"/>\n",
       "<text text-anchor=\"middle\" x=\"218\" y=\"-219.3\" font-family=\"Times New Roman,serif\" font-size=\"14.00\">stop_times</text>\n",
       "<polyline fill=\"none\" stroke=\"black\" points=\"122.5,-211.5 313.5,-211.5\"/>\n",
       "<text text-anchor=\"start\" x=\"130.5\" y=\"-196.3\" font-family=\"Times New Roman,serif\" font-size=\"14.00\">trip_id : id</text>\n",
       "<text text-anchor=\"start\" x=\"130.5\" y=\"-181.3\" font-family=\"Times New Roman,serif\" font-size=\"14.00\">arrival_time : numerical</text>\n",
       "<text text-anchor=\"start\" x=\"130.5\" y=\"-166.3\" font-family=\"Times New Roman,serif\" font-size=\"14.00\">departure_time : numerical</text>\n",
       "<text text-anchor=\"start\" x=\"130.5\" y=\"-151.3\" font-family=\"Times New Roman,serif\" font-size=\"14.00\">stop_id : id</text>\n",
       "<text text-anchor=\"start\" x=\"130.5\" y=\"-136.3\" font-family=\"Times New Roman,serif\" font-size=\"14.00\">stop_sequence : categorical</text>\n",
       "<text text-anchor=\"start\" x=\"130.5\" y=\"-121.3\" font-family=\"Times New Roman,serif\" font-size=\"14.00\">stop_headsign : categorical</text>\n",
       "<text text-anchor=\"start\" x=\"130.5\" y=\"-106.3\" font-family=\"Times New Roman,serif\" font-size=\"14.00\">pickup_type : categorical</text>\n",
       "<text text-anchor=\"start\" x=\"130.5\" y=\"-91.3\" font-family=\"Times New Roman,serif\" font-size=\"14.00\">drop_off_type : categorical</text>\n",
       "<text text-anchor=\"start\" x=\"130.5\" y=\"-76.3\" font-family=\"Times New Roman,serif\" font-size=\"14.00\">shape_dist_traveled : numerical</text>\n",
       "<text text-anchor=\"start\" x=\"130.5\" y=\"-61.3\" font-family=\"Times New Roman,serif\" font-size=\"14.00\">timepoint : categorical</text>\n",
       "<polyline fill=\"none\" stroke=\"black\" points=\"122.5,-53.5 313.5,-53.5\"/>\n",
       "<text text-anchor=\"start\" x=\"130.5\" y=\"-38.3\" font-family=\"Times New Roman,serif\" font-size=\"14.00\">Primary key: None</text>\n",
       "<text text-anchor=\"start\" x=\"130.5\" y=\"-23.3\" font-family=\"Times New Roman,serif\" font-size=\"14.00\">Foreign key (stops): stop_id</text>\n",
       "<text text-anchor=\"start\" x=\"130.5\" y=\"-8.3\" font-family=\"Times New Roman,serif\" font-size=\"14.00\">Foreign key (trips): trip_id</text>\n",
       "</g>\n",
       "<!-- stops&#45;&gt;stop_times -->\n",
       "<g id=\"edge5\" class=\"edge\">\n",
       "<title>stops&#45;&gt;stop_times</title>\n",
       "<path fill=\"none\" stroke=\"black\" d=\"M287.98,-286.88C280.84,-269.71 273.38,-251.75 266.1,-234.23\"/>\n",
       "<polygon fill=\"none\" stroke=\"black\" points=\"269.95,-231.09 276.45,-244.59 262.95,-238.09 269.95,-231.09\"/>\n",
       "<text text-anchor=\"middle\" x=\"335.5\" y=\"-256.8\" font-family=\"Times New Roman,serif\" font-size=\"14.00\"> &#160;stop_id → stop_id</text>\n",
       "</g>\n",
       "<!-- trips&#45;&gt;stop_times -->\n",
       "<g id=\"edge6\" class=\"edge\">\n",
       "<title>trips&#45;&gt;stop_times</title>\n",
       "<path fill=\"none\" stroke=\"black\" d=\"M147.24,-287.26C154.51,-269.92 162.12,-251.77 169.54,-234.08\"/>\n",
       "<polygon fill=\"none\" stroke=\"black\" points=\"173.39,-230.93 179.89,-244.43 166.39,-237.93 173.39,-230.93\"/>\n",
       "<text text-anchor=\"middle\" x=\"213.5\" y=\"-256.8\" font-family=\"Times New Roman,serif\" font-size=\"14.00\"> &#160;trip_id → trip_id</text>\n",
       "</g>\n",
       "</g>\n",
       "</svg>\n"
      ],
      "text/plain": [
       "<graphviz.graphs.Digraph at 0x2a0dedaad00>"
      ]
     },
     "execution_count": 33,
     "metadata": {},
     "output_type": "execute_result"
    }
   ],
   "source": [
    "sdv_metadata.visualize()"
   ]
  },
  {
   "cell_type": "code",
   "execution_count": 34,
   "id": "d4fcf6fb-1b5b-422d-aede-0a4d1502fbe3",
   "metadata": {},
   "outputs": [],
   "source": [
    "# sdv_metadata.add_relationship(\n",
    "#     parent_table_name='agency',\n",
    "#     child_table_name='routes',\n",
    "#     parent_primary_key='agency_id',\n",
    "#     child_foreign_key='agency_id'\n",
    "# )\n",
    "\n",
    "# sdv_metadata.add_relationship(\n",
    "#     parent_table_name='calendar',\n",
    "#     child_table_name='calendar_dates',\n",
    "#     parent_primary_key='service_id',\n",
    "#     child_foreign_key='service_id'\n",
    "# )\n",
    "\n",
    "# sdv_metadata.add_relationship(\n",
    "#     parent_table_name='calendar',\n",
    "#     child_table_name='trips',\n",
    "#     parent_primary_key='service_id',\n",
    "#     child_foreign_key='service_id'\n",
    "# )\n",
    "\n",
    "# sdv_metadata.add_relationship(\n",
    "#     parent_table_name='routes',\n",
    "#     child_table_name='trips',\n",
    "#     parent_primary_key='route_id',\n",
    "#     child_foreign_key='route_id'\n",
    "# )\n",
    "\n",
    "# sdv_metadata.add_relationship(\n",
    "#     parent_table_name='stops',\n",
    "#     child_table_name='stop_times',\n",
    "#     parent_primary_key='stop_id',\n",
    "#     child_foreign_key='stop_id'\n",
    "# )\n",
    "\n",
    "# sdv_metadata.add_relationship(\n",
    "#     parent_table_name='trips',\n",
    "#     child_table_name='stop_times',\n",
    "#     parent_primary_key='trip_id',\n",
    "#     child_foreign_key='trip_id'\n",
    "# )"
   ]
  },
  {
   "cell_type": "code",
   "execution_count": 35,
   "id": "8cce7b42-882d-4be6-b15c-3498609ec3c8",
   "metadata": {
    "scrolled": true,
    "tags": []
   },
   "outputs": [
    {
     "data": {
      "text/plain": [
       "[{'parent_table_name': 'agency',\n",
       "  'child_table_name': 'routes',\n",
       "  'parent_primary_key': 'agency_id',\n",
       "  'child_foreign_key': 'agency_id'},\n",
       " {'parent_table_name': 'calendar',\n",
       "  'child_table_name': 'calendar_dates',\n",
       "  'parent_primary_key': 'service_id',\n",
       "  'child_foreign_key': 'service_id'},\n",
       " {'parent_table_name': 'calendar',\n",
       "  'child_table_name': 'trips',\n",
       "  'parent_primary_key': 'service_id',\n",
       "  'child_foreign_key': 'service_id'},\n",
       " {'parent_table_name': 'routes',\n",
       "  'child_table_name': 'trips',\n",
       "  'parent_primary_key': 'route_id',\n",
       "  'child_foreign_key': 'route_id'},\n",
       " {'parent_table_name': 'stops',\n",
       "  'child_table_name': 'stop_times',\n",
       "  'parent_primary_key': 'stop_id',\n",
       "  'child_foreign_key': 'stop_id'},\n",
       " {'parent_table_name': 'trips',\n",
       "  'child_table_name': 'stop_times',\n",
       "  'parent_primary_key': 'trip_id',\n",
       "  'child_foreign_key': 'trip_id'}]"
      ]
     },
     "execution_count": 35,
     "metadata": {},
     "output_type": "execute_result"
    }
   ],
   "source": [
    "sdv_metadata.relationships"
   ]
  },
  {
   "cell_type": "markdown",
   "id": "e602c4aa-de3c-4d94-91c3-969439c59bb3",
   "metadata": {},
   "source": [
    "## Obtain Foreign Key Distribution"
   ]
  },
  {
   "cell_type": "code",
   "execution_count": 36,
   "id": "b7b2d863-4450-44d6-8667-cee4633da972",
   "metadata": {},
   "outputs": [],
   "source": [
    "def get_distribution(array):\n",
    "    unique_elements, counts = np.unique(array, return_counts=True)\n",
    "    prob_distribution = counts / counts.sum()\n",
    "    return unique_elements, prob_distribution"
   ]
  },
  {
   "cell_type": "code",
   "execution_count": 37,
   "id": "68e73ef7-4744-474a-a4e1-2d3cab8755ab",
   "metadata": {},
   "outputs": [],
   "source": [
    "def add_fr_key_pdf(data_collection, metadata):\n",
    "    for df_name, content in metadata.items():\n",
    "        key_pdf = {}\n",
    "        if content['parent'] != {}:\n",
    "            for parent_df_name, fr_k in content['parent'].items():\n",
    "                unique_val, pdf = get_distribution(data_collection[parent_df_name][fr_k])\n",
    "                key_pdf[fr_k] = {'unique_values':unique_val,'pdf':pdf}\n",
    "        if content['is_sequential'] == True:\n",
    "            for additional_key in content['additional_key']:\n",
    "                unique_val, pdf = get_distribution(data_collection[df_name][additional_key])\n",
    "                key_pdf[additional_key] = {'unique_values':unique_val,'pdf':pdf}\n",
    "        metadata[df_name]['key_distribution'] = key_pdf"
   ]
  },
  {
   "cell_type": "code",
   "execution_count": 38,
   "id": "f83047da-39a5-4831-8c52-76ab3dd5a6cc",
   "metadata": {},
   "outputs": [],
   "source": [
    "add_fr_key_pdf(real_data_collection, metadata)"
   ]
  },
  {
   "cell_type": "code",
   "execution_count": 39,
   "id": "ec84171b-570c-4abc-a310-7047c5a3b7b7",
   "metadata": {
    "scrolled": true,
    "tags": []
   },
   "outputs": [
    {
     "data": {
      "text/plain": [
       "{'agency': {'primary_key': ['agency_id', 15],\n",
       "  'parent': {},\n",
       "  'child': ['routes'],\n",
       "  'is_sequential': False,\n",
       "  'additional_key': None,\n",
       "  'key_distribution': {}},\n",
       " 'calendar': {'primary_key': ['service_id', 121],\n",
       "  'parent': {},\n",
       "  'child': ['calendar_dates', 'trips'],\n",
       "  'is_sequential': False,\n",
       "  'additional_key': None,\n",
       "  'key_distribution': {}},\n",
       " 'calendar_dates': {'primary_key': [],\n",
       "  'parent': {'calendar': 'service_id'},\n",
       "  'child': [],\n",
       "  'is_sequential': True,\n",
       "  'additional_key': ['date'],\n",
       "  'sort_order': ['service_id', 'date'],\n",
       "  'key_distribution': {'service_id': {'unique_values': array([  0,   1,   2,   3,   4,   5,   6,   7,   8,   9,  10,  11,  12,\n",
       "            13,  14,  15,  16,  17,  18,  19,  20,  21,  22,  23,  24,  25,\n",
       "            26,  27,  28,  29,  30,  31,  32,  33,  34,  35,  36,  37,  38,\n",
       "            39,  40,  41,  42,  43,  44,  45,  46,  47,  48,  49,  50,  51,\n",
       "            52,  53,  54,  55,  56,  57,  58,  59,  60,  61,  62,  63,  64,\n",
       "            65,  66,  67,  68,  69,  70,  71,  72,  73,  74,  75,  76,  77,\n",
       "            78,  79,  80,  81,  82,  83,  84,  85,  86,  87,  88,  89,  90,\n",
       "            91,  92,  93,  94,  95,  96,  97,  98,  99, 100, 101, 102, 103,\n",
       "           104, 105, 106, 107, 108, 109, 110, 111, 112, 113, 114, 115, 116,\n",
       "           117, 118, 119, 120], dtype=int64),\n",
       "    'pdf': array([0.00826446, 0.00826446, 0.00826446, 0.00826446, 0.00826446,\n",
       "           0.00826446, 0.00826446, 0.00826446, 0.00826446, 0.00826446,\n",
       "           0.00826446, 0.00826446, 0.00826446, 0.00826446, 0.00826446,\n",
       "           0.00826446, 0.00826446, 0.00826446, 0.00826446, 0.00826446,\n",
       "           0.00826446, 0.00826446, 0.00826446, 0.00826446, 0.00826446,\n",
       "           0.00826446, 0.00826446, 0.00826446, 0.00826446, 0.00826446,\n",
       "           0.00826446, 0.00826446, 0.00826446, 0.00826446, 0.00826446,\n",
       "           0.00826446, 0.00826446, 0.00826446, 0.00826446, 0.00826446,\n",
       "           0.00826446, 0.00826446, 0.00826446, 0.00826446, 0.00826446,\n",
       "           0.00826446, 0.00826446, 0.00826446, 0.00826446, 0.00826446,\n",
       "           0.00826446, 0.00826446, 0.00826446, 0.00826446, 0.00826446,\n",
       "           0.00826446, 0.00826446, 0.00826446, 0.00826446, 0.00826446,\n",
       "           0.00826446, 0.00826446, 0.00826446, 0.00826446, 0.00826446,\n",
       "           0.00826446, 0.00826446, 0.00826446, 0.00826446, 0.00826446,\n",
       "           0.00826446, 0.00826446, 0.00826446, 0.00826446, 0.00826446,\n",
       "           0.00826446, 0.00826446, 0.00826446, 0.00826446, 0.00826446,\n",
       "           0.00826446, 0.00826446, 0.00826446, 0.00826446, 0.00826446,\n",
       "           0.00826446, 0.00826446, 0.00826446, 0.00826446, 0.00826446,\n",
       "           0.00826446, 0.00826446, 0.00826446, 0.00826446, 0.00826446,\n",
       "           0.00826446, 0.00826446, 0.00826446, 0.00826446, 0.00826446,\n",
       "           0.00826446, 0.00826446, 0.00826446, 0.00826446, 0.00826446,\n",
       "           0.00826446, 0.00826446, 0.00826446, 0.00826446, 0.00826446,\n",
       "           0.00826446, 0.00826446, 0.00826446, 0.00826446, 0.00826446,\n",
       "           0.00826446, 0.00826446, 0.00826446, 0.00826446, 0.00826446,\n",
       "           0.00826446])},\n",
       "   'date': {'unique_values': array([44993, 44994, 44995, 44996, 44997, 44998, 44999, 45000, 45001,\n",
       "           45002, 45003, 45004, 45005, 45006, 45008, 45014, 45015, 45016,\n",
       "           45020, 45021, 45022, 45023, 45024, 45025, 45026, 45027, 45028,\n",
       "           45031, 45032, 45033, 45034, 45035, 45036, 45037, 45039, 45049,\n",
       "           45051], dtype=int64),\n",
       "    'pdf': array([0.04005935, 0.04154303, 0.02670623, 0.03857567, 0.03857567,\n",
       "           0.03857567, 0.03857567, 0.04154303, 0.03709199, 0.0148368 ,\n",
       "           0.00593472, 0.00593472, 0.00593472, 0.00593472, 0.00296736,\n",
       "           0.00296736, 0.01038576, 0.01038576, 0.00296736, 0.07863501,\n",
       "           0.01780415, 0.01632047, 0.0727003 , 0.03560831, 0.03560831,\n",
       "           0.03709199, 0.03560831, 0.03560831, 0.03560831, 0.03560831,\n",
       "           0.03560831, 0.03857567, 0.00296736, 0.00296736, 0.0652819 ,\n",
       "           0.00593472, 0.00296736])}}},\n",
       " 'routes': {'primary_key': ['route_id', 215],\n",
       "  'parent': {'agency': 'agency_id'},\n",
       "  'child': ['trips'],\n",
       "  'is_sequential': False,\n",
       "  'additional_key': None,\n",
       "  'key_distribution': {'agency_id': {'unique_values': array([ 0,  1,  2,  3,  4,  5,  6,  7,  8,  9, 10, 11, 12, 13, 14],\n",
       "          dtype=int64),\n",
       "    'pdf': array([0.06666667, 0.06666667, 0.06666667, 0.06666667, 0.06666667,\n",
       "           0.06666667, 0.06666667, 0.06666667, 0.06666667, 0.06666667,\n",
       "           0.06666667, 0.06666667, 0.06666667, 0.06666667, 0.06666667])}}},\n",
       " 'stops': {'primary_key': ['stop_id', 6714],\n",
       "  'parent': {},\n",
       "  'child': ['stop_times'],\n",
       "  'is_sequential': False,\n",
       "  'additional_key': None,\n",
       "  'key_distribution': {}},\n",
       " 'stop_times': {'primary_key': [],\n",
       "  'parent': {'stops': 'stop_id', 'trips': 'trip_id'},\n",
       "  'child': [],\n",
       "  'is_sequential': True,\n",
       "  'additional_key': ['stop_sequence'],\n",
       "  'sort_order': ['trip_id', 'stop_sequence'],\n",
       "  'key_distribution': {'stop_id': {'unique_values': array([   0,    1,    2, ..., 6711, 6712, 6713], dtype=int64),\n",
       "    'pdf': array([0.00014894, 0.00014894, 0.00014894, ..., 0.00014894, 0.00014894,\n",
       "           0.00014894])},\n",
       "   'trip_id': {'unique_values': array([    0,     1,     2, ..., 32400, 32401, 32402], dtype=int64),\n",
       "    'pdf': array([3.086134e-05, 3.086134e-05, 3.086134e-05, ..., 3.086134e-05,\n",
       "           3.086134e-05, 3.086134e-05])},\n",
       "   'stop_sequence': {'unique_values': array([ 1,  2,  3,  4,  5,  6,  7,  8,  9, 10, 11, 12, 13, 14, 15, 16, 17,\n",
       "           18, 19, 20, 21, 22, 23, 24, 25, 26, 27, 28, 29, 30, 31, 32, 33, 34,\n",
       "           35, 36, 37, 38, 39, 40, 41, 42, 43, 44, 45, 46, 47, 48, 49, 50, 51,\n",
       "           52, 53, 54, 55, 56, 57, 58, 59, 60, 61, 62, 63, 64, 65, 66, 67, 68,\n",
       "           69, 70, 71], dtype=int64),\n",
       "    'pdf': array([0.03351607, 0.03351607, 0.03275272, 0.03231208, 0.0320928 ,\n",
       "           0.03164079, 0.03140392, 0.03113913, 0.03056817, 0.03005823,\n",
       "           0.02962691, 0.02955037, 0.02897527, 0.02884391, 0.02845602,\n",
       "           0.027823  , 0.02679589, 0.02569431, 0.02538607, 0.02524023,\n",
       "           0.02444171, 0.02395763, 0.02346839, 0.02307326, 0.02212994,\n",
       "           0.02139658, 0.02081941, 0.01938477, 0.01874037, 0.01801115,\n",
       "           0.01731193, 0.01652272, 0.01529391, 0.01376617, 0.01224671,\n",
       "           0.01075518, 0.01007768, 0.00900195, 0.0087413 , 0.00840203,\n",
       "           0.00784245, 0.00729631, 0.00546758, 0.00463803, 0.00398328,\n",
       "           0.00378986, 0.00353024, 0.00300789, 0.00293859, 0.00288584,\n",
       "           0.0027462 , 0.00266449, 0.00202319, 0.0016984 , 0.0014543 ,\n",
       "           0.00124536, 0.00124536, 0.00112227, 0.00111917, 0.00092574,\n",
       "           0.00092264, 0.00075714, 0.00060613, 0.00060613, 0.00054821,\n",
       "           0.00054821, 0.00044374, 0.00033616, 0.00033306, 0.00016963,\n",
       "           0.00016963])}}},\n",
       " 'trips': {'primary_key': ['trip_id', 32403],\n",
       "  'parent': {'calendar': 'service_id', 'routes': 'route_id'},\n",
       "  'child': ['stop_times'],\n",
       "  'is_sequential': False,\n",
       "  'additional_key': None,\n",
       "  'key_distribution': {'service_id': {'unique_values': array([  0,   1,   2,   3,   4,   5,   6,   7,   8,   9,  10,  11,  12,\n",
       "            13,  14,  15,  16,  17,  18,  19,  20,  21,  22,  23,  24,  25,\n",
       "            26,  27,  28,  29,  30,  31,  32,  33,  34,  35,  36,  37,  38,\n",
       "            39,  40,  41,  42,  43,  44,  45,  46,  47,  48,  49,  50,  51,\n",
       "            52,  53,  54,  55,  56,  57,  58,  59,  60,  61,  62,  63,  64,\n",
       "            65,  66,  67,  68,  69,  70,  71,  72,  73,  74,  75,  76,  77,\n",
       "            78,  79,  80,  81,  82,  83,  84,  85,  86,  87,  88,  89,  90,\n",
       "            91,  92,  93,  94,  95,  96,  97,  98,  99, 100, 101, 102, 103,\n",
       "           104, 105, 106, 107, 108, 109, 110, 111, 112, 113, 114, 115, 116,\n",
       "           117, 118, 119, 120], dtype=int64),\n",
       "    'pdf': array([0.00826446, 0.00826446, 0.00826446, 0.00826446, 0.00826446,\n",
       "           0.00826446, 0.00826446, 0.00826446, 0.00826446, 0.00826446,\n",
       "           0.00826446, 0.00826446, 0.00826446, 0.00826446, 0.00826446,\n",
       "           0.00826446, 0.00826446, 0.00826446, 0.00826446, 0.00826446,\n",
       "           0.00826446, 0.00826446, 0.00826446, 0.00826446, 0.00826446,\n",
       "           0.00826446, 0.00826446, 0.00826446, 0.00826446, 0.00826446,\n",
       "           0.00826446, 0.00826446, 0.00826446, 0.00826446, 0.00826446,\n",
       "           0.00826446, 0.00826446, 0.00826446, 0.00826446, 0.00826446,\n",
       "           0.00826446, 0.00826446, 0.00826446, 0.00826446, 0.00826446,\n",
       "           0.00826446, 0.00826446, 0.00826446, 0.00826446, 0.00826446,\n",
       "           0.00826446, 0.00826446, 0.00826446, 0.00826446, 0.00826446,\n",
       "           0.00826446, 0.00826446, 0.00826446, 0.00826446, 0.00826446,\n",
       "           0.00826446, 0.00826446, 0.00826446, 0.00826446, 0.00826446,\n",
       "           0.00826446, 0.00826446, 0.00826446, 0.00826446, 0.00826446,\n",
       "           0.00826446, 0.00826446, 0.00826446, 0.00826446, 0.00826446,\n",
       "           0.00826446, 0.00826446, 0.00826446, 0.00826446, 0.00826446,\n",
       "           0.00826446, 0.00826446, 0.00826446, 0.00826446, 0.00826446,\n",
       "           0.00826446, 0.00826446, 0.00826446, 0.00826446, 0.00826446,\n",
       "           0.00826446, 0.00826446, 0.00826446, 0.00826446, 0.00826446,\n",
       "           0.00826446, 0.00826446, 0.00826446, 0.00826446, 0.00826446,\n",
       "           0.00826446, 0.00826446, 0.00826446, 0.00826446, 0.00826446,\n",
       "           0.00826446, 0.00826446, 0.00826446, 0.00826446, 0.00826446,\n",
       "           0.00826446, 0.00826446, 0.00826446, 0.00826446, 0.00826446,\n",
       "           0.00826446, 0.00826446, 0.00826446, 0.00826446, 0.00826446,\n",
       "           0.00826446])},\n",
       "   'route_id': {'unique_values': array([  0,   1,   2,   3,   4,   5,   6,   7,   8,   9,  10,  11,  12,\n",
       "            13,  14,  15,  16,  17,  18,  19,  20,  21,  22,  23,  24,  25,\n",
       "            26,  27,  28,  29,  30,  31,  32,  33,  34,  35,  36,  37,  38,\n",
       "            39,  40,  41,  42,  43,  44,  45,  46,  47,  48,  49,  50,  51,\n",
       "            52,  53,  54,  55,  56,  57,  58,  59,  60,  61,  62,  63,  64,\n",
       "            65,  66,  67,  68,  69,  70,  71,  72,  73,  74,  75,  76,  77,\n",
       "            78,  79,  80,  81,  82,  83,  84,  85,  86,  87,  88,  89,  90,\n",
       "            91,  92,  93,  94,  95,  96,  97,  98,  99, 100, 101, 102, 103,\n",
       "           104, 105, 106, 107, 108, 109, 110, 111, 112, 113, 114, 115, 116,\n",
       "           117, 118, 119, 120, 121, 122, 123, 124, 125, 126, 127, 128, 129,\n",
       "           130, 131, 132, 133, 134, 135, 136, 137, 138, 139, 140, 141, 142,\n",
       "           143, 144, 145, 146, 147, 148, 149, 150, 151, 152, 153, 154, 155,\n",
       "           156, 157, 158, 159, 160, 161, 162, 163, 164, 165, 166, 167, 168,\n",
       "           169, 170, 171, 172, 173, 174, 175, 176, 177, 178, 179, 180, 181,\n",
       "           182, 183, 184, 185, 186, 187, 188, 189, 190, 191, 192, 193, 194,\n",
       "           195, 196, 197, 198, 199, 200, 201, 202, 203, 204, 205, 206, 207,\n",
       "           208, 209, 210, 211, 212, 213, 214], dtype=int64),\n",
       "    'pdf': array([0.00465116, 0.00465116, 0.00465116, 0.00465116, 0.00465116,\n",
       "           0.00465116, 0.00465116, 0.00465116, 0.00465116, 0.00465116,\n",
       "           0.00465116, 0.00465116, 0.00465116, 0.00465116, 0.00465116,\n",
       "           0.00465116, 0.00465116, 0.00465116, 0.00465116, 0.00465116,\n",
       "           0.00465116, 0.00465116, 0.00465116, 0.00465116, 0.00465116,\n",
       "           0.00465116, 0.00465116, 0.00465116, 0.00465116, 0.00465116,\n",
       "           0.00465116, 0.00465116, 0.00465116, 0.00465116, 0.00465116,\n",
       "           0.00465116, 0.00465116, 0.00465116, 0.00465116, 0.00465116,\n",
       "           0.00465116, 0.00465116, 0.00465116, 0.00465116, 0.00465116,\n",
       "           0.00465116, 0.00465116, 0.00465116, 0.00465116, 0.00465116,\n",
       "           0.00465116, 0.00465116, 0.00465116, 0.00465116, 0.00465116,\n",
       "           0.00465116, 0.00465116, 0.00465116, 0.00465116, 0.00465116,\n",
       "           0.00465116, 0.00465116, 0.00465116, 0.00465116, 0.00465116,\n",
       "           0.00465116, 0.00465116, 0.00465116, 0.00465116, 0.00465116,\n",
       "           0.00465116, 0.00465116, 0.00465116, 0.00465116, 0.00465116,\n",
       "           0.00465116, 0.00465116, 0.00465116, 0.00465116, 0.00465116,\n",
       "           0.00465116, 0.00465116, 0.00465116, 0.00465116, 0.00465116,\n",
       "           0.00465116, 0.00465116, 0.00465116, 0.00465116, 0.00465116,\n",
       "           0.00465116, 0.00465116, 0.00465116, 0.00465116, 0.00465116,\n",
       "           0.00465116, 0.00465116, 0.00465116, 0.00465116, 0.00465116,\n",
       "           0.00465116, 0.00465116, 0.00465116, 0.00465116, 0.00465116,\n",
       "           0.00465116, 0.00465116, 0.00465116, 0.00465116, 0.00465116,\n",
       "           0.00465116, 0.00465116, 0.00465116, 0.00465116, 0.00465116,\n",
       "           0.00465116, 0.00465116, 0.00465116, 0.00465116, 0.00465116,\n",
       "           0.00465116, 0.00465116, 0.00465116, 0.00465116, 0.00465116,\n",
       "           0.00465116, 0.00465116, 0.00465116, 0.00465116, 0.00465116,\n",
       "           0.00465116, 0.00465116, 0.00465116, 0.00465116, 0.00465116,\n",
       "           0.00465116, 0.00465116, 0.00465116, 0.00465116, 0.00465116,\n",
       "           0.00465116, 0.00465116, 0.00465116, 0.00465116, 0.00465116,\n",
       "           0.00465116, 0.00465116, 0.00465116, 0.00465116, 0.00465116,\n",
       "           0.00465116, 0.00465116, 0.00465116, 0.00465116, 0.00465116,\n",
       "           0.00465116, 0.00465116, 0.00465116, 0.00465116, 0.00465116,\n",
       "           0.00465116, 0.00465116, 0.00465116, 0.00465116, 0.00465116,\n",
       "           0.00465116, 0.00465116, 0.00465116, 0.00465116, 0.00465116,\n",
       "           0.00465116, 0.00465116, 0.00465116, 0.00465116, 0.00465116,\n",
       "           0.00465116, 0.00465116, 0.00465116, 0.00465116, 0.00465116,\n",
       "           0.00465116, 0.00465116, 0.00465116, 0.00465116, 0.00465116,\n",
       "           0.00465116, 0.00465116, 0.00465116, 0.00465116, 0.00465116,\n",
       "           0.00465116, 0.00465116, 0.00465116, 0.00465116, 0.00465116,\n",
       "           0.00465116, 0.00465116, 0.00465116, 0.00465116, 0.00465116,\n",
       "           0.00465116, 0.00465116, 0.00465116, 0.00465116, 0.00465116,\n",
       "           0.00465116, 0.00465116, 0.00465116, 0.00465116, 0.00465116,\n",
       "           0.00465116, 0.00465116, 0.00465116, 0.00465116, 0.00465116])}}}}"
      ]
     },
     "execution_count": 39,
     "metadata": {},
     "output_type": "execute_result"
    }
   ],
   "source": [
    "metadata"
   ]
  },
  {
   "cell_type": "markdown",
   "id": "d8fa2e80-2ca0-4d2c-881d-94de5c331119",
   "metadata": {},
   "source": [
    "## Scaling"
   ]
  },
  {
   "cell_type": "code",
   "execution_count": 40,
   "id": "8846e997-fe62-44f4-9492-03ef527737f8",
   "metadata": {},
   "outputs": [],
   "source": [
    "def scale_individual_df(df):\n",
    "    scaler = MinMaxScaler(feature_range=(-1,1))\n",
    "    scaler = scaler.fit(df)\n",
    "    scaled_df = pd.DataFrame(scaler.transform(df), columns = df.columns)\n",
    "    return scaled_df, scaler"
   ]
  },
  {
   "cell_type": "code",
   "execution_count": 41,
   "id": "03722b31-e0c5-43b2-afd5-9cacfde38268",
   "metadata": {},
   "outputs": [],
   "source": [
    "def extract_key_and_scaled_features(df, label_columns):\n",
    "    labels = df[label_columns]\n",
    "    table = df.drop(columns=label_columns)\n",
    "    table_column_names = table.columns\n",
    "    scaled_table, table_scaler = scale_individual_df(table)\n",
    "    scaled_labels, labels_scaler = scale_individual_df(labels)\n",
    "    return scaled_table, scaled_labels, table_scaler, labels_scaler, table_column_names"
   ]
  },
  {
   "cell_type": "code",
   "execution_count": 42,
   "id": "c140cf3f-8d9e-4df9-b1cc-984d95a9806a",
   "metadata": {},
   "outputs": [],
   "source": [
    "def batch_scaling(data_collection, metadata):\n",
    "    processed_data_collection = {}\n",
    "    for df_name, df in data_collection.items():\n",
    "        primary_key = []\n",
    "        foreign_key = []\n",
    "        if metadata[df_name]['primary_key'] != []:\n",
    "            primary_key = [metadata[df_name]['primary_key'][0]]\n",
    "        if metadata[df_name]['parent'] != {}:\n",
    "            foreign_key = list(metadata[df_name]['parent'].values())\n",
    "        if metadata[df_name]['is_sequential'] == True:\n",
    "            additional_key = list(metadata[df_name]['additional_key'])\n",
    "            label_columns = primary_key + foreign_key + additional_key\n",
    "        else:\n",
    "            label_columns = primary_key + foreign_key\n",
    "        table, labels, table_scaler, labels_scaler, table_columns = extract_key_and_scaled_features(df, label_columns)\n",
    "        processed_data_collection[df_name] = {'table':table,\n",
    "                                              'labels':labels,\n",
    "                                              'table_scaler':table_scaler,\n",
    "                                              'labels_scaler':labels_scaler,\n",
    "                                              'table_col_names':table_columns,\n",
    "                                              'labels_col_names':label_columns,\n",
    "                                              'col_names':df.columns,\n",
    "                                             'metadata':metadata[df_name]}\n",
    "    return processed_data_collection"
   ]
  },
  {
   "cell_type": "code",
   "execution_count": 43,
   "id": "1722d31b-d5f0-4543-aad2-809933ae3f66",
   "metadata": {},
   "outputs": [],
   "source": [
    "processed_data_collection = batch_scaling(real_data_collection, metadata)"
   ]
  },
  {
   "cell_type": "markdown",
   "id": "cd49eb54-1738-4599-874d-571ca5fdd9be",
   "metadata": {},
   "source": [
    "# Main GAN Algorithm"
   ]
  },
  {
   "cell_type": "markdown",
   "id": "5744d496-c6f4-4c88-a505-3b82acc3304b",
   "metadata": {},
   "source": [
    "## Additional Custom Function (Wasserstein Loss)"
   ]
  },
  {
   "cell_type": "code",
   "execution_count": 44,
   "id": "f33fe30f-4133-4f04-ba15-b695c11c8fb6",
   "metadata": {},
   "outputs": [],
   "source": [
    "def wasserstein_loss(y_true, y_pred):\n",
    "    return backend.mean(y_true*y_pred)"
   ]
  },
  {
   "cell_type": "code",
   "execution_count": 45,
   "id": "0b3671ca-a536-49cf-bef3-6023a1d5497e",
   "metadata": {},
   "outputs": [],
   "source": [
    "class ClipConstraint(constraints.Constraint):\n",
    "    def __init__(self, clip_value):\n",
    "        self.clip_value = clip_value\n",
    "        \n",
    "    def __call__(self, weights):\n",
    "        return backend.clip(weights, -self.clip_value, self.clip_value)\n",
    "    \n",
    "    def get_config(self):\n",
    "        return {'clip_value': self.clip_value}"
   ]
  },
  {
   "cell_type": "markdown",
   "id": "7d64966e-d261-41f4-92b1-0d979c9deceb",
   "metadata": {},
   "source": [
    "## Define Plotting Function For G/D Loss"
   ]
  },
  {
   "cell_type": "code",
   "execution_count": 46,
   "id": "558eca6b-dc6e-45a4-a77d-5a2139ef78b2",
   "metadata": {},
   "outputs": [],
   "source": [
    "import matplotlib.pyplot as plt\n",
    "\n",
    "def plot_history(logs):\n",
    "    n = len(logs)\n",
    "    n_rows = (n + 2) // 3\n",
    "\n",
    "    fig, axes = plt.subplots(n_rows, 3, figsize=(15, 5 * n_rows))\n",
    "    axes = axes.flatten()\n",
    "\n",
    "    for i, (model_name, generator_log, discriminator_log) in enumerate(logs):\n",
    "        axes[i].plot(generator_log, label='gen')\n",
    "        axes[i].plot(discriminator_log, label='d')\n",
    "        axes[i].legend()\n",
    "        axes[i].set_title(model_name)\n",
    "\n",
    "    for i in range(n, n_rows * 3):\n",
    "        axes[i].remove()\n",
    "\n",
    "    plt.tight_layout()\n",
    "    plt.show()\n",
    "    plt.close()"
   ]
  },
  {
   "cell_type": "markdown",
   "id": "8134ba08-ad73-4d99-ae5d-a14e73c5a9d6",
   "metadata": {},
   "source": [
    "## (!) Define Main Generator, Discriminator"
   ]
  },
  {
   "cell_type": "markdown",
   "id": "477cc3d3-4ced-4f5e-9a64-38aca83d77d5",
   "metadata": {},
   "source": [
    "## Normal"
   ]
  },
  {
   "cell_type": "code",
   "execution_count": 47,
   "id": "96d53099-c234-40c6-ad10-ede92dbe47ac",
   "metadata": {},
   "outputs": [],
   "source": [
    "def build_generator(table_dim, labels_dim, latent_dim=50):\n",
    "    init = initializers.HeUniform()\n",
    "    noise_input = layers.Input(shape=(latent_dim,))\n",
    "    labels_input = layers.Input(shape=(labels_dim,))\n",
    "    merge_input = layers.Concatenate()([noise_input, labels_input])\n",
    "    bn_layer1 = layers.BatchNormalization()(merge_input)\n",
    "    hidden_layer1 = layers.Dense(128,activation='LeakyReLU',kernel_initializer=init)(bn_layer1)\n",
    "    hidden_layer2 = layers.Dense(256,activation='LeakyReLU',kernel_initializer=init)(hidden_layer1)\n",
    "    hidden_layer3 = layers.Dense(512,activation='LeakyReLU',kernel_initializer=init)(hidden_layer2)\n",
    "    bn_layer2 = layers.BatchNormalization()(hidden_layer3)\n",
    "    output_layer = layers.Dense(table_dim, activation='tanh',kernel_initializer='glorot_uniform')(bn_layer2)\n",
    "    generator = models.Model([noise_input, labels_input], output_layer)\n",
    "    return generator"
   ]
  },
  {
   "cell_type": "code",
   "execution_count": 48,
   "id": "52d62f5a-2c81-424d-ad94-680d07d463c4",
   "metadata": {
    "tags": []
   },
   "outputs": [],
   "source": [
    "def build_critic(table_dim, labels_dim, constraint_rate=0.01, optimization_rate=0.00005):\n",
    "    clip_const = ClipConstraint(constraint_rate)\n",
    "    opt = optimizers.RMSprop(optimization_rate)\n",
    "    init = initializers.HeUniform()\n",
    "    table_input = layers.Input(shape=(table_dim,))\n",
    "    labels_input = layers.Input(shape=(labels_dim,))\n",
    "    merge_input = layers.Concatenate()([table_input, labels_input])\n",
    "    bn_layer1 = layers.BatchNormalization()(merge_input)\n",
    "    hidden_layer1 = layers.Dense(512,activation='LeakyReLU',kernel_constraint=clip_const,kernel_initializer=init)(bn_layer1)\n",
    "    hidden_layer2 = layers.Dense(256,activation='LeakyReLU',kernel_constraint=clip_const,kernel_initializer=init)(hidden_layer1)\n",
    "    hidden_layer3 = layers.Dense(128,activation='LeakyReLU',kernel_constraint=clip_const,kernel_initializer=init)(hidden_layer2)\n",
    "    bn_layer2 = layers.BatchNormalization()(hidden_layer3)\n",
    "    output_layer = layers.Dense(1, activation='linear')(bn_layer2)\n",
    "    discriminator = models.Model([table_input, labels_input], output_layer)\n",
    "    discriminator.compile(loss=wasserstein_loss, optimizer=opt)\n",
    "    return discriminator"
   ]
  },
  {
   "cell_type": "markdown",
   "id": "d2036dbe-c10c-4439-86d7-fb956709488e",
   "metadata": {},
   "source": [
    "## Sequential (GRU)"
   ]
  },
  {
   "cell_type": "code",
   "execution_count": 49,
   "id": "e19179e8-743b-4ed1-a0b6-c00d21426346",
   "metadata": {},
   "outputs": [],
   "source": [
    "def build_sequential_generator(table_dim, labels_dim, latent_dim=50):\n",
    "    # init = initializers.GlorotUniform(seed=123)\n",
    "    noise_input = layers.Input(shape=(latent_dim,))\n",
    "    labels_input = layers.Input(shape=(labels_dim,))\n",
    "    merge_input = layers.Concatenate()([noise_input, labels_input])\n",
    "    reshaped_input = layers.Reshape((1, -1))(merge_input)\n",
    "    bn_layer1 = layers.BatchNormalization()(reshaped_input)\n",
    "    gru1 = layers.GRU(256, activation='tanh', return_sequences=True,kernel_initializer='glorot_uniform')(bn_layer1)\n",
    "    gru2 = layers.GRU(256, activation='tanh', return_sequences=True,kernel_initializer='glorot_uniform')(gru1)\n",
    "    gru3 = layers.GRU(256, activation='tanh', return_sequences=False,kernel_initializer='glorot_uniform')(gru2)\n",
    "    bn_layer2 = layers.BatchNormalization()(gru3)\n",
    "    output_layer = layers.Dense(table_dim, activation='tanh',kernel_initializer='glorot_uniform')(bn_layer2)\n",
    "    generator = models.Model([noise_input, labels_input], output_layer)\n",
    "    return generator"
   ]
  },
  {
   "cell_type": "code",
   "execution_count": 50,
   "id": "501d8a73-3eeb-4ec0-917a-7a90ab3435fa",
   "metadata": {},
   "outputs": [],
   "source": [
    "def build_sequential_critic(table_dim, labels_dim, constraint_rate=0.01, optimization_rate=0.00005):\n",
    "    clip_const = ClipConstraint(constraint_rate)\n",
    "    opt = optimizers.RMSprop(optimization_rate)\n",
    "    # init = initializers.RandomUniform(minval=-1, maxval=1)\n",
    "    # init = initializers.GlorotUniform(seed=123)\n",
    "    table_input = layers.Input(shape=(table_dim,))\n",
    "    labels_input = layers.Input(shape=(labels_dim,))\n",
    "    merge_input = layers.Concatenate()([table_input, labels_input])\n",
    "    reshaped_input = layers.Reshape((1, -1))(merge_input)\n",
    "    bn_layer1 = layers.BatchNormalization()(reshaped_input)\n",
    "    gru1 = layers.GRU(256, activation='tanh', return_sequences=True,kernel_constraint=clip_const,kernel_initializer='glorot_uniform')(bn_layer1)\n",
    "    gru2 = layers.GRU(256, activation='tanh', return_sequences=True,kernel_constraint=clip_const,kernel_initializer='glorot_uniform')(gru1)\n",
    "    gru3 = layers.GRU(256, activation='tanh', return_sequences=False,kernel_constraint=clip_const,kernel_initializer='glorot_uniform')(gru2)\n",
    "    bn_layer2 = layers.BatchNormalization()(gru3)\n",
    "    output_layer = layers.Dense(1, activation='linear')(bn_layer2)\n",
    "    discriminator = models.Model([table_input, labels_input], output_layer)\n",
    "    discriminator.compile(loss=wasserstein_loss, optimizer=opt)\n",
    "    return discriminator"
   ]
  },
  {
   "cell_type": "code",
   "execution_count": 51,
   "id": "931b95ef-fb22-48bb-aff3-e7886fc5f34e",
   "metadata": {
    "tags": []
   },
   "outputs": [],
   "source": [
    "# def build_critic(table_dim, labels_dim, constraint_rate=0.01, optimization_rate=0.00005):\n",
    "#     clip_const = ClipConstraint(constraint_rate)\n",
    "#     rms_opt = optimizers.RMSprop(optimization_rate)\n",
    "#     init = initializers.RandomUniform(minval=-1, maxval=1, seed=123)\n",
    "#     table_input = layers.Input(shape=(table_dim,))\n",
    "#     labels_input = layers.Input(shape=(labels_dim,))\n",
    "#     merge_input = layers.Concatenate()([table_input, labels_input])\n",
    "#     bn_layer1 = layers.BatchNormalization()(merge_input)\n",
    "#     hidden_layer1 = layers.Dense(128,activation='LeakyReLU',kernel_initializer=init)(bn_layer1)\n",
    "#     reshape_layer = layers.Reshape((4, 32))(hidden_layer1)\n",
    "#     conv1 = layers.Conv1D(64,\n",
    "#                           kernel_size=4,\n",
    "#                           strides=2,\n",
    "#                           padding=\"same\",\n",
    "#                           kernel_constraint=clip_const,\n",
    "#                           activation=\"LeakyReLU\")(reshape_layer)\n",
    "#     conv2 = layers.Conv1D(32,\n",
    "#                           kernel_size=4,\n",
    "#                           strides=2,\n",
    "#                           padding=\"same\",\n",
    "#                           kernel_constraint=clip_const,\n",
    "#                           activation=\"LeakyReLU\")(conv1)\n",
    "#     bn_layer2 = layers.BatchNormalization()(conv2)\n",
    "#     output_layer = layers.Dense(1, activation='linear')(bn_layer2)\n",
    "#     discriminator = models.Model([table_input, labels_input], output_layer)\n",
    "#     discriminator.compile(loss=wasserstein_loss, optimizer=rms_opt)\n",
    "#     return discriminator"
   ]
  },
  {
   "cell_type": "markdown",
   "id": "ff1dd590-15ff-4c1d-be39-c9c640e65de4",
   "metadata": {},
   "source": [
    "## Build GAN"
   ]
  },
  {
   "cell_type": "code",
   "execution_count": 52,
   "id": "07e822d9-2e5a-4e25-b946-eaeb8f3bbaab",
   "metadata": {},
   "outputs": [],
   "source": [
    "def build_gan(generator, critic, optimization_rate=0.00005):\n",
    "    critic.trainable = False\n",
    "    opt = optimizers.RMSprop(optimization_rate)\n",
    "    noise_input = layers.Input(shape=(generator.input_shape[0][1],))\n",
    "    labels_input = layers.Input(shape=(generator.input_shape[1][1],))\n",
    "    generator_output = generator([noise_input, labels_input])\n",
    "    critic_output = critic([generator_output, labels_input])\n",
    "    gan = models.Model(inputs=[noise_input, labels_input], outputs=critic_output)\n",
    "    gan.compile(optimizer=opt, loss=wasserstein_loss)\n",
    "    return gan"
   ]
  },
  {
   "cell_type": "markdown",
   "id": "6dd2b8d7-5798-490f-bf13-8233ef51b8d3",
   "metadata": {},
   "source": [
    "## Define Training Strategy"
   ]
  },
  {
   "cell_type": "code",
   "execution_count": 53,
   "id": "8c39aa00-6c56-4ad7-97d3-e6c3d98cb67c",
   "metadata": {},
   "outputs": [],
   "source": [
    "def train_individual_gan(name, real_table, real_labels, n_critic=3, epochs=50, batch_size=400, latent_dim=50, seed=123, return_logs=True):\n",
    "    rand_seed = seed\n",
    "    half_batch = int(batch_size/2)\n",
    "    class_counts = real_labels.nunique().tolist()\n",
    "    generator = build_generator(real_table.shape[1], real_labels.shape[1], latent_dim=latent_dim)\n",
    "    critic = build_critic(real_table.shape[1], real_labels.shape[1])\n",
    "    gan = build_gan(generator, critic)\n",
    "    y_real = -1 * np.ones((half_batch, 1))\n",
    "    y_fake = np.ones((half_batch, 1))\n",
    "    y_gan = np.ones((batch_size, 1))\n",
    "    \n",
    "    if return_logs:\n",
    "        generator_logs = []\n",
    "        critic_logs = []\n",
    "    \n",
    "    for epoch in range(epochs):\n",
    "        np.random.seed(rand_seed)\n",
    "        start_time = time.time()\n",
    "        c_loss = []\n",
    "        \n",
    "        # train critic:\n",
    "        for _ in range(n_critic):\n",
    "            idx = np.random.randint(0, real_table.shape[0], half_batch)\n",
    "            noise = np.random.uniform(-1, 1, (half_batch, latent_dim))\n",
    "            x_real_labels = real_labels.iloc[idx]\n",
    "            x_real_table = real_table.iloc[idx]\n",
    "            x_fake_labels = np.random.uniform(-1, 1, (half_batch, real_labels.shape[1]))\n",
    "            # x_fake_labels = np.column_stack([np.random.randint(0, class_counts, size=half_batch) for class_counts in class_counts])\n",
    "            x_fake_table = generator.predict([noise, x_fake_labels])\n",
    "            cur_c_loss_real = critic.train_on_batch([x_real_table, x_real_labels], y_real)\n",
    "            cur_c_loss_fake = critic.train_on_batch([x_fake_table, x_fake_labels], y_fake)\n",
    "            c_loss.append(np.mean(cur_c_loss_real+cur_c_loss_fake))\n",
    "            rand_seed += 1\n",
    "\n",
    "        # train generator/GAN\n",
    "        x_gan = np.random.uniform(-1, 1, (batch_size, latent_dim))\n",
    "        x_fake_labels = np.random.uniform(-1, 1, (batch_size, real_labels.shape[1]))\n",
    "        # x_fake_labels = np.column_stack([np.random.randint(0, class_counts, size=batch_size) for class_counts in class_counts])\n",
    "        g_loss = gan.train_on_batch([x_gan, x_fake_labels], y_gan)\n",
    "        \n",
    "        if return_logs:\n",
    "            generator_logs.append(g_loss)\n",
    "            critic_logs.append(np.mean(c_loss))\n",
    "            \n",
    "        elapsed_time = time.time() - start_time\n",
    "        it_per_s = 1 / elapsed_time\n",
    "        \n",
    "        if epoch % 10 == 0 or epoch == epochs-1:\n",
    "            print(f\"[Epoch: {epoch}] [C loss: {np.round(np.mean(c_loss), 3)}] [G loss: {np.round(g_loss, 3)}] [Speed: {round(it_per_s, 2)} it/s]\")\n",
    "        \n",
    "        rand_seed += 1\n",
    "        \n",
    "    generator.save('models/'+name+'_gen.h5')\n",
    "    gan.save('models/'+name+'_gan.h5')\n",
    "    critic.save('models/'+name+'_critic.h5')\n",
    "    \n",
    "    if return_logs:\n",
    "        return generator_logs, critic_logs"
   ]
  },
  {
   "cell_type": "code",
   "execution_count": 54,
   "id": "df2c2ba1-bdb9-44c7-8ff7-6f89ffc513d3",
   "metadata": {},
   "outputs": [],
   "source": [
    "def train_individual_sequential_gan(name, real_table, real_labels, sort_order, n_critic=3, epochs=50, batch_size=400, latent_dim=50, seed=123, return_logs=True):\n",
    "    rand_seed = seed\n",
    "    half_batch = int(batch_size/2)\n",
    "    class_counts = real_labels.nunique().tolist()\n",
    "    sort_indexes = [real_labels.columns.get_loc(col) for col in sort_order]\n",
    "    generator = build_sequential_generator(real_table.shape[1], real_labels.shape[1], latent_dim=latent_dim)\n",
    "    critic = build_sequential_critic(real_table.shape[1], real_labels.shape[1])\n",
    "    gan = build_gan(generator, critic)\n",
    "    y_real = -1 * np.ones((half_batch, 1))\n",
    "    y_fake = np.ones((half_batch, 1))\n",
    "    y_gan = np.ones((batch_size, 1))\n",
    "    \n",
    "    if return_logs:\n",
    "        generator_logs = []\n",
    "        critic_logs = []\n",
    "    \n",
    "    for epoch in range(epochs):\n",
    "        np.random.seed(rand_seed)\n",
    "        start_time = time.time()\n",
    "        c_loss = []\n",
    "        \n",
    "        # train critic:\n",
    "        for critic_epoch in range(n_critic):\n",
    "            half_samp_size = min(half_batch, real_table.shape[0])\n",
    "            idx = random.randint(0, real_table.shape[0]-half_samp_size)\n",
    "            noise = np.random.uniform(-1, 1, (half_samp_size, latent_dim))\n",
    "            x_real_labels = real_labels.iloc[idx:(idx+half_samp_size)]\n",
    "            x_real_table = real_table.iloc[idx:(idx + half_samp_size)]\n",
    "            x_fake_labels = np.random.uniform(-1, 1, (half_samp_size, real_labels.shape[1]))\n",
    "            x_fake_labels = x_fake_labels[x_fake_labels[:, sort_indexes[0]].argsort()]\n",
    "            for col_idx in sort_indexes[1:]:\n",
    "                x_fake_labels = x_fake_labels[x_fake_labels[:, col_idx].argsort(kind='mergesort')]\n",
    "            x_fake_table = generator.predict([noise, x_fake_labels])\n",
    "            cur_c_loss_real = critic.train_on_batch([x_real_table, x_real_labels], y_real)\n",
    "            cur_c_loss_fake = critic.train_on_batch([x_fake_table, x_fake_labels], y_fake)\n",
    "            c_loss.append(np.mean(cur_c_loss_real+cur_c_loss_fake))\n",
    "            rand_seed += 1\n",
    "\n",
    "        # train generator/GAN\n",
    "        samp_size = min(batch_size, real_table.shape[0])\n",
    "        x_gan = np.random.uniform(-1, 1, (samp_size, latent_dim))\n",
    "        x_fake_labels = np.random.uniform(-1, 1, (samp_size, real_labels.shape[1]))\n",
    "        x_fake_labels = x_fake_labels[x_fake_labels[:, sort_indexes[0]].argsort()]\n",
    "        for col_idx in sort_indexes[1:]:\n",
    "            x_fake_labels = x_fake_labels[x_fake_labels[:, col_idx].argsort(kind='mergesort')]\n",
    "        g_loss = gan.train_on_batch([x_gan, x_fake_labels], y_gan)\n",
    "        \n",
    "        if return_logs:\n",
    "            generator_logs.append(g_loss)\n",
    "            critic_logs.append(np.mean(c_loss))\n",
    "            \n",
    "        elapsed_time = time.time() - start_time\n",
    "        it_per_s = 1 / elapsed_time\n",
    "        \n",
    "        if epoch % 10 == 0 or epoch == epochs-1:\n",
    "            print(f\"[Epoch: {epoch}] [C loss: {np.round(np.mean(c_loss), 3)}] [G loss: {np.round(g_loss, 3)}] [Speed: {round(it_per_s, 2)} it/s]\")\n",
    "        \n",
    "        rand_seed += 1\n",
    "        \n",
    "    generator.save('models/'+name+'_gen.h5')\n",
    "    gan.save('models/'+name+'_gan.h5')\n",
    "    critic.save('models/'+name+'_critic.h5')\n",
    "    \n",
    "    if return_logs:\n",
    "        return generator_logs, critic_logs"
   ]
  },
  {
   "cell_type": "code",
   "execution_count": 55,
   "id": "8ffe38c7-2d8e-4cfd-a7be-90b9f7804895",
   "metadata": {},
   "outputs": [],
   "source": [
    "def collection_training(data_collection, training_parameter_dict):\n",
    "    logs = []\n",
    "    init_time = time.time()\n",
    "    for df_name, content in data_collection.items():\n",
    "        start_time = time.time()\n",
    "        print(f'Learning \\\"{df_name}\\\" data......')\n",
    "        latent_dim = (content['table'].shape[1] + content['labels'].shape[1]) * content['labels'].shape[1]\n",
    "        if training_parameter_dict[df_name]['is_sequential'] == True:\n",
    "            generator_log, critic_log = train_individual_sequential_gan(df_name,\n",
    "                                                                        content['table'],\n",
    "                                                                        content['labels'],\n",
    "                                                                        content['metadata']['sort_order'],\n",
    "                                                                        epochs=training_parameter_dict[df_name]['epochs'],\n",
    "                                                                        latent_dim = latent_dim,\n",
    "                                                                        return_logs=True)\n",
    "        else:\n",
    "            generator_log, critic_log = train_individual_gan(df_name,\n",
    "                                                             content['table'],\n",
    "                                                             content['labels'],\n",
    "                                                             epochs=training_parameter_dict[df_name]['epochs'],\n",
    "                                                             latent_dim = latent_dim,\n",
    "                                                             return_logs=True)\n",
    "        in_loop_elapsed_time = time.time() - start_time\n",
    "        minutes, seconds = divmod(in_loop_elapsed_time, 60)\n",
    "        print(\"Time Used: %dm %ds\" % (minutes, seconds))\n",
    "        print('.')\n",
    "        print('.')\n",
    "        logs.append([df_name, generator_log, critic_log])\n",
    "    plot_history(logs)\n",
    "    total_elapsed_time = time.time() - init_time\n",
    "    minutes, seconds = divmod(total_elapsed_time, 60)\n",
    "    print(\"Total Time Used: %dm %ds\" % (minutes, seconds))"
   ]
  },
  {
   "cell_type": "markdown",
   "id": "df30c126-718f-4fb8-9e1f-788856cb0409",
   "metadata": {
    "tags": []
   },
   "source": [
    "## Train GAN"
   ]
  },
  {
   "cell_type": "code",
   "execution_count": 56,
   "id": "cfb636db-3776-4dcb-a3e8-b0296fe949ca",
   "metadata": {},
   "outputs": [],
   "source": [
    "# training_parameter_dict = {}\n",
    "# for df_name, content in processed_data_collection.items():\n",
    "#     nrows = content['table'].shape[0]\n",
    "#     # training_parameter_dict[df_name] = {'epochs':500}\n",
    "#     if nrows <= 100:\n",
    "#         training_parameter_dict[df_name] = {'epochs':50}\n",
    "#     elif nrows <= 10000:\n",
    "#         training_parameter_dict[df_name] = {'epochs':50}\n",
    "#     else:\n",
    "#         training_parameter_dict[df_name] = {'epochs':50}"
   ]
  },
  {
   "cell_type": "code",
   "execution_count": 57,
   "id": "ca6f578d-376b-4961-8408-513aad35d5cb",
   "metadata": {},
   "outputs": [],
   "source": [
    "# training_parameter_dict = {'agency': {'epochs': 60,'is_sequential':False},\n",
    "#                            'calendar': {'epochs': 100,'is_sequential':False},\n",
    "#                            'calendar_dates': {'epochs': 100,'is_sequential':True},\n",
    "#                            'routes': {'epochs': 100,'is_sequential':False},\n",
    "#                            'stops': {'epochs': 80,'is_sequential':False},\n",
    "#                            'stop_times': {'epochs': 100,'is_sequential':True},\n",
    "#                            'trips': {'epochs': 100,'is_sequential':False}}"
   ]
  },
  {
   "cell_type": "code",
   "execution_count": 58,
   "id": "5a3a0d44-789f-4b0f-9b61-3890a7e5fc50",
   "metadata": {},
   "outputs": [],
   "source": [
    "training_parameter_dict = {'agency': {'epochs': 100,'is_sequential':False},\n",
    "                           'calendar': {'epochs': 100,'is_sequential':False},\n",
    "                           'calendar_dates': {'epochs': 100,'is_sequential':True},\n",
    "                           'routes': {'epochs': 100,'is_sequential':False},\n",
    "                           'stops': {'epochs': 100,'is_sequential':False},\n",
    "                           'stop_times': {'epochs': 100,'is_sequential':True},\n",
    "                           'trips': {'epochs': 100,'is_sequential':False}}"
   ]
  },
  {
   "cell_type": "code",
   "execution_count": 59,
   "id": "460d4f25-0081-4232-a6c0-1e520da7a6de",
   "metadata": {
    "scrolled": true,
    "tags": []
   },
   "outputs": [
    {
     "name": "stdout",
     "output_type": "stream",
     "text": [
      "Learning \"agency\" data......\n",
      "[Epoch: 0] [C loss: 0.002] [G loss: 0.012] [Speed: 0.39 it/s]\n",
      "[Epoch: 10] [C loss: 0.001] [G loss: 0.009] [Speed: 4.81 it/s]\n",
      "[Epoch: 20] [C loss: 0.001] [G loss: 0.006] [Speed: 4.78 it/s]\n",
      "[Epoch: 30] [C loss: 0.001] [G loss: 0.004] [Speed: 4.74 it/s]\n",
      "[Epoch: 40] [C loss: 0.001] [G loss: 0.002] [Speed: 4.35 it/s]\n",
      "[Epoch: 50] [C loss: 0.001] [G loss: -0.0] [Speed: 3.83 it/s]\n",
      "[Epoch: 60] [C loss: 0.001] [G loss: -0.001] [Speed: 3.86 it/s]\n",
      "[Epoch: 70] [C loss: 0.001] [G loss: -0.004] [Speed: 3.88 it/s]\n",
      "[Epoch: 80] [C loss: 0.001] [G loss: -0.007] [Speed: 3.98 it/s]\n",
      "[Epoch: 90] [C loss: 0.001] [G loss: -0.009] [Speed: 3.88 it/s]\n",
      "[Epoch: 99] [C loss: 0.001] [G loss: -0.012] [Speed: 3.97 it/s]\n",
      "Time Used: 0m 28s\n",
      ".\n",
      ".\n",
      "Learning \"calendar\" data......\n",
      "[Epoch: 0] [C loss: 0.002] [G loss: 0.002] [Speed: 0.58 it/s]\n",
      "[Epoch: 10] [C loss: 0.001] [G loss: 0.002] [Speed: 3.89 it/s]\n",
      "[Epoch: 20] [C loss: 0.001] [G loss: 0.001] [Speed: 3.8 it/s]\n",
      "[Epoch: 30] [C loss: 0.001] [G loss: 0.001] [Speed: 3.92 it/s]\n",
      "[Epoch: 40] [C loss: 0.001] [G loss: 0.001] [Speed: 3.88 it/s]\n",
      "[Epoch: 50] [C loss: 0.001] [G loss: 0.001] [Speed: 3.86 it/s]\n",
      "[Epoch: 60] [C loss: 0.001] [G loss: -0.001] [Speed: 3.86 it/s]\n",
      "[Epoch: 70] [C loss: 0.001] [G loss: -0.001] [Speed: 3.88 it/s]\n",
      "[Epoch: 80] [C loss: 0.001] [G loss: -0.0] [Speed: 3.88 it/s]\n",
      "[Epoch: 90] [C loss: 0.001] [G loss: -0.002] [Speed: 3.8 it/s]\n",
      "[Epoch: 99] [C loss: 0.001] [G loss: -0.005] [Speed: 3.77 it/s]\n",
      "Time Used: 0m 27s\n",
      ".\n",
      ".\n",
      "Learning \"calendar_dates\" data......\n",
      "[Epoch: 0] [C loss: 0.002] [G loss: 0.001] [Speed: 0.09 it/s]\n",
      "[Epoch: 10] [C loss: 0.001] [G loss: 0.002] [Speed: 3.12 it/s]\n",
      "[Epoch: 20] [C loss: 0.001] [G loss: 0.002] [Speed: 3.12 it/s]\n",
      "[Epoch: 30] [C loss: 0.001] [G loss: 0.002] [Speed: 3.16 it/s]\n",
      "[Epoch: 40] [C loss: 0.001] [G loss: 0.003] [Speed: 3.1 it/s]\n",
      "[Epoch: 50] [C loss: 0.001] [G loss: 0.003] [Speed: 3.16 it/s]\n",
      "[Epoch: 60] [C loss: 0.001] [G loss: 0.004] [Speed: 2.57 it/s]\n",
      "[Epoch: 70] [C loss: 0.001] [G loss: 0.005] [Speed: 3.16 it/s]\n",
      "[Epoch: 80] [C loss: 0.001] [G loss: 0.008] [Speed: 3.17 it/s]\n",
      "[Epoch: 90] [C loss: 0.001] [G loss: 0.005] [Speed: 3.12 it/s]\n",
      "[Epoch: 99] [C loss: 0.001] [G loss: 0.008] [Speed: 3.11 it/s]\n",
      "Time Used: 0m 47s\n",
      ".\n",
      ".\n",
      "Learning \"routes\" data......\n",
      "[Epoch: 0] [C loss: 0.002] [G loss: 0.006] [Speed: 0.59 it/s]\n",
      "[Epoch: 10] [C loss: 0.001] [G loss: 0.005] [Speed: 3.89 it/s]\n",
      "[Epoch: 20] [C loss: 0.001] [G loss: 0.004] [Speed: 3.92 it/s]\n",
      "[Epoch: 30] [C loss: 0.001] [G loss: 0.003] [Speed: 3.85 it/s]\n",
      "[Epoch: 40] [C loss: 0.001] [G loss: 0.002] [Speed: 3.91 it/s]\n",
      "[Epoch: 50] [C loss: 0.001] [G loss: 0.002] [Speed: 4.0 it/s]\n",
      "[Epoch: 60] [C loss: 0.001] [G loss: 0.001] [Speed: 3.89 it/s]\n",
      "[Epoch: 70] [C loss: 0.001] [G loss: 0.002] [Speed: 3.85 it/s]\n",
      "[Epoch: 80] [C loss: 0.001] [G loss: 0.002] [Speed: 3.98 it/s]\n",
      "[Epoch: 90] [C loss: 0.001] [G loss: -0.0] [Speed: 3.85 it/s]\n",
      "[Epoch: 99] [C loss: 0.001] [G loss: -0.002] [Speed: 3.92 it/s]\n",
      "Time Used: 0m 27s\n",
      ".\n",
      ".\n",
      "Learning \"stops\" data......\n",
      "[Epoch: 0] [C loss: 0.002] [G loss: -0.009] [Speed: 0.57 it/s]\n",
      "[Epoch: 10] [C loss: 0.001] [G loss: -0.006] [Speed: 3.89 it/s]\n",
      "[Epoch: 20] [C loss: 0.001] [G loss: -0.004] [Speed: 3.94 it/s]\n",
      "[Epoch: 30] [C loss: 0.001] [G loss: -0.003] [Speed: 4.0 it/s]\n",
      "[Epoch: 40] [C loss: 0.001] [G loss: -0.002] [Speed: 3.89 it/s]\n",
      "[Epoch: 50] [C loss: 0.001] [G loss: -0.002] [Speed: 3.94 it/s]\n",
      "[Epoch: 60] [C loss: 0.001] [G loss: -0.001] [Speed: 3.92 it/s]\n",
      "[Epoch: 70] [C loss: 0.001] [G loss: -0.001] [Speed: 3.85 it/s]\n",
      "[Epoch: 80] [C loss: 0.001] [G loss: -0.001] [Speed: 3.88 it/s]\n",
      "[Epoch: 90] [C loss: 0.001] [G loss: -0.002] [Speed: 3.85 it/s]\n",
      "[Epoch: 99] [C loss: 0.001] [G loss: -0.005] [Speed: 3.91 it/s]\n",
      "Time Used: 0m 28s\n",
      ".\n",
      ".\n",
      "Learning \"stop_times\" data......\n",
      "[Epoch: 0] [C loss: 0.002] [G loss: 0.001] [Speed: 0.09 it/s]\n",
      "[Epoch: 10] [C loss: 0.001] [G loss: 0.002] [Speed: 2.99 it/s]\n",
      "[Epoch: 20] [C loss: 0.001] [G loss: 0.002] [Speed: 3.0 it/s]\n",
      "[Epoch: 30] [C loss: 0.001] [G loss: 0.002] [Speed: 2.75 it/s]\n",
      "[Epoch: 40] [C loss: 0.001] [G loss: 0.002] [Speed: 3.05 it/s]\n",
      "[Epoch: 50] [C loss: 0.001] [G loss: 0.003] [Speed: 2.74 it/s]\n",
      "[Epoch: 60] [C loss: 0.001] [G loss: 0.004] [Speed: 3.01 it/s]\n",
      "[Epoch: 70] [C loss: 0.001] [G loss: 0.004] [Speed: 2.69 it/s]\n",
      "[Epoch: 80] [C loss: 0.001] [G loss: 0.007] [Speed: 3.09 it/s]\n",
      "[Epoch: 90] [C loss: 0.001] [G loss: 0.006] [Speed: 3.02 it/s]\n",
      "[Epoch: 99] [C loss: 0.001] [G loss: 0.008] [Speed: 3.06 it/s]\n",
      "Time Used: 0m 47s\n",
      ".\n",
      ".\n",
      "Learning \"trips\" data......\n",
      "[Epoch: 0] [C loss: 0.002] [G loss: -0.011] [Speed: 0.59 it/s]\n",
      "[Epoch: 10] [C loss: 0.001] [G loss: -0.008] [Speed: 3.76 it/s]\n",
      "[Epoch: 20] [C loss: 0.001] [G loss: -0.005] [Speed: 3.86 it/s]\n",
      "[Epoch: 30] [C loss: 0.001] [G loss: -0.003] [Speed: 3.91 it/s]\n",
      "[Epoch: 40] [C loss: 0.001] [G loss: -0.002] [Speed: 3.86 it/s]\n",
      "[Epoch: 50] [C loss: 0.001] [G loss: -0.001] [Speed: 3.88 it/s]\n",
      "[Epoch: 60] [C loss: 0.001] [G loss: -0.001] [Speed: 3.77 it/s]\n",
      "[Epoch: 70] [C loss: 0.001] [G loss: -0.002] [Speed: 3.88 it/s]\n",
      "[Epoch: 80] [C loss: 0.001] [G loss: -0.001] [Speed: 3.85 it/s]\n",
      "[Epoch: 90] [C loss: 0.001] [G loss: -0.004] [Speed: 3.83 it/s]\n",
      "[Epoch: 99] [C loss: 0.001] [G loss: -0.006] [Speed: 3.89 it/s]\n",
      "Time Used: 0m 27s\n",
      ".\n",
      ".\n"
     ]
    },
    {
     "data": {
      "image/png": "[encoded data removed]",
      "text/plain": [
       "<Figure size 1500x1500 with 7 Axes>"
      ]
     },
     "metadata": {},
     "output_type": "display_data"
    },
    {
     "name": "stdout",
     "output_type": "stream",
     "text": [
      "Total Time Used: 3m 56s\n"
     ]
    }
   ],
   "source": [
    "collection_training(processed_data_collection, training_parameter_dict)"
   ]
  },
  {
   "cell_type": "markdown",
   "id": "37613df5-a0f7-4158-90e9-39c2f683bb49",
   "metadata": {},
   "source": [
    "# Synthetic Data Generation"
   ]
  },
  {
   "cell_type": "code",
   "execution_count": 60,
   "id": "d8ddd453-c6bc-4c39-9b68-b696eb95f2d3",
   "metadata": {},
   "outputs": [],
   "source": [
    "# table_name:\n",
    "# {'table':table, # df\n",
    "#  'labels':labels, # df\n",
    "#  'scaler':scaler, # a scaler object\n",
    "#  'table_col_names':table_columns, # list of col names\n",
    "#  'label_col_names':label_columns, # list of col names\n",
    "#  'metadata':metadata[df_name]} # a metadata dict (see below)\n",
    "\n",
    "# metadata\n",
    "# {'primary_key':primary_key, # list, [column names, number_of_unique_ids]\n",
    "#  'parent':parent, # dict, {parent_name:shared_id_column_name, ...}\n",
    "#  'child':child} # str, child_name"
   ]
  },
  {
   "cell_type": "code",
   "execution_count": 61,
   "id": "07ad6ba0-ff4e-404f-8196-c02fdfba9b70",
   "metadata": {},
   "outputs": [],
   "source": [
    "# def generate_individual_synth_data(generator, labels, seed=123):\n",
    "#     pass"
   ]
  },
  {
   "cell_type": "code",
   "execution_count": 62,
   "id": "16429b29-07a9-43f1-8f28-7bff3b3ae1b8",
   "metadata": {},
   "outputs": [],
   "source": [
    "# def resample_array(array, size):\n",
    "#     og_size = len(array)\n",
    "#     x_og = np.linspace(0, 1, og_size)\n",
    "#     x_new = np.linspace(0, 1, size)\n",
    "#     array_resampled = np.interp(x_new, x_og, array)\n",
    "#     return array_resampled.astype(int)"
   ]
  },
  {
   "cell_type": "code",
   "execution_count": 63,
   "id": "6c470948-4cb7-4dcb-a1ec-88c7ccb2e546",
   "metadata": {},
   "outputs": [],
   "source": [
    "def generate_new_array(size, unique_elements, prob_distribution):\n",
    "    new_array = np.random.choice(unique_elements, size=size, p=prob_distribution)\n",
    "    return new_array"
   ]
  },
  {
   "cell_type": "code",
   "execution_count": 116,
   "id": "d4760a17-bcbe-4a4d-b729-3b07e655c50c",
   "metadata": {},
   "outputs": [],
   "source": [
    "def generate_synth_data_collection(processed_data_collection, sdv_metadata, generation_dict, latent_dim=50, seed=123):\n",
    "    np.random.seed(seed)\n",
    "    synthetic_data_collection = {}\n",
    "    features_to_ignore_rounding = ['shape_pt_lat',\n",
    "                      'shape_pt_lon',\n",
    "                      'stop_lat',\n",
    "                      'stop_lon',\n",
    "                     'shape_dist_traveled']\n",
    "    for df_name, content in processed_data_collection.items():\n",
    "        generator = models.load_model('models/'+df_name+'_gen.h5')\n",
    "        primary_key = content['metadata']['primary_key']\n",
    "        child = content['metadata']['child']\n",
    "        parent = content['metadata']['parent']\n",
    "        fake_labels_df_dict = {}\n",
    "        if primary_key != []:\n",
    "            primary_key_col = primary_key[0]\n",
    "            n_primary_keys = generation_dict[df_name]['nrows']\n",
    "            fake_labels_df_dict[primary_key_col] = np.arange(n_primary_keys).tolist()\n",
    "        if parent != {}:\n",
    "            for parent_df_name, fr_key in parent.items():\n",
    "                \n",
    "                nrows = generation_dict[df_name]['nrows']\n",
    "                unique_id = content['metadata']['key_distribution'][fr_key]['unique_values']\n",
    "                distribution = content['metadata']['key_distribution'][fr_key]['pdf']\n",
    "                fake_labels_df_dict[fr_key] = generate_new_array(nrows, unique_id, distribution)\n",
    "                \n",
    "                # length = generation_dict[df_name]['nrows']\n",
    "                # parent_df = processed_data_collection[parent_df_name]['labels'][fr_key]\n",
    "                # fake_labels_df_dict[fr_key] = resample_array(parent_df, length)\n",
    "                \n",
    "                # length = generation_dict[df_name]['nrows']\n",
    "                # parent_df = processed_data_collection[parent_df_name]\n",
    "                # kde = gaussian_kde(parent_df['labels'][fr_key].to_numpy())\n",
    "                # lower_bound = parent_df['labels'][fr_key].min()\n",
    "                # upper_bound = parent_df['labels'][fr_key].max()\n",
    "                # fake_array = kde.resample(length).flatten()\n",
    "                # fake_labels_df_dict[fr_key] = np.round(fake_array).clip(lower_bound, upper_bound).astype(int)\n",
    "                \n",
    "                # n_foreign_primary_keys = generation_dict[parent_df_name]['nrows']\n",
    "                # length = generation_dict[df_name]['nrows']\n",
    "                # fake_labels_df_dict[fr_key] = np.random.randint(0, n_foreign_primary_keys, length).tolist()\n",
    "        \n",
    "        if content['metadata']['is_sequential'] == True:\n",
    "            for additional_key in content['metadata']['additional_key']:\n",
    "                nrows = generation_dict[df_name]['nrows']\n",
    "                unique_id = content['metadata']['key_distribution'][additional_key]['unique_values']\n",
    "                distribution = content['metadata']['key_distribution'][additional_key]['pdf']\n",
    "                fake_labels_df_dict[additional_key] = generate_new_array(nrows, unique_id, distribution)\n",
    "        \n",
    "        fake_labels_df = pd.DataFrame(fake_labels_df_dict).reindex(columns=content['labels_col_names'])\n",
    "        if content['metadata']['is_sequential'] == True:\n",
    "            fake_labels_df = fake_labels_df.sort_values(by=content['metadata']['sort_order'])\n",
    "        scaled_fake_labels_df = pd.DataFrame(content['labels_scaler'].transform(fake_labels_df), columns=content['labels_col_names'])\n",
    "        latent_dim = (content['table'].shape[1] + content['labels'].shape[1]) * content['labels'].shape[1]\n",
    "        noise = np.random.uniform(-1, 1, size=(generation_dict[df_name]['nrows'], latent_dim))\n",
    "        raw_fake_table = generator.predict([noise, scaled_fake_labels_df])\n",
    "        scaled_fake_table = content['table_scaler'].inverse_transform(raw_fake_table)\n",
    "        fake_table_df = pd.DataFrame(scaled_fake_table, columns=content['table_col_names'])\n",
    "        fake_data = pd.concat([fake_labels_df, fake_table_df], axis=1)\n",
    "        \n",
    "        columns_to_int = [col for col in fake_data.columns if col not in features_to_ignore_rounding]\n",
    "        for col in columns_to_int:\n",
    "            fake_data[col] = fake_data[col].astype(int)\n",
    "                \n",
    "        synthetic_data_collection[df_name] = fake_data\n",
    "        \n",
    "    return synthetic_data_collection"
   ]
  },
  {
   "cell_type": "code",
   "execution_count": 117,
   "id": "d5f5c4ed-f7f2-4a89-bce2-57a32fba3474",
   "metadata": {},
   "outputs": [],
   "source": [
    "# def generate_synth_data_collection(processed_data_collection, sdv_metadata, generation_dict, latent_dim=50, seed=123):\n",
    "#     np.random.seed(seed)\n",
    "#     synthetic_data_collection = {}\n",
    "#     features_to_ignore_rounding = ['shape_pt_lat',\n",
    "#                       'shape_pt_lon',\n",
    "#                       'stop_lat',\n",
    "#                       'stop_lon',\n",
    "#                      'shape_dist_traveled']\n",
    "    \n",
    "#     primary_keys = {}\n",
    "#     for relationship in sdv_metadata.relationships:\n",
    "#         parent_table_name = relationship['parent_table_name']\n",
    "#         parent_primary_key = relationship['parent_primary_key']\n",
    "\n",
    "#         if parent_table_name not in primary_keys:\n",
    "#             n_rows = generation_dict[parent_table_name]['nrows']\n",
    "#             primary_keys[parent_table_name] = np.arange(n_rows)\n",
    "\n",
    "#     # Generate foreign key arrays for each child table\n",
    "#     foreign_keys = {}\n",
    "#     for relationship in sdv_metadata.relationships:\n",
    "#         child_table_name = relationship['child_table_name']\n",
    "#         child_foreign_key = relationship['child_foreign_key']\n",
    "#         parent_table_name = relationship['parent_table_name']\n",
    "#         parent_primary_key = relationship['parent_primary_key']\n",
    "\n",
    "#         if child_table_name not in foreign_keys:\n",
    "#             foreign_keys[child_table_name] = {}\n",
    "\n",
    "#         n_rows = generation_dict[child_table_name]['nrows']\n",
    "#         prob_distribution = processed_data_collection[parent_table_name]['labels_pdf'][child_foreign_key]\n",
    "#         foreign_keys[child_table_name][child_foreign_key] = np.random.choice(primary_keys[parent_table_name], n_rows, p=prob_distribution)\n",
    "\n",
    "#     # Create individual dataframes for each table\n",
    "#     key_columns_dict = {}\n",
    "#     for table_name, n_rows in generation_dict.items():\n",
    "#         key_columns = {}\n",
    "\n",
    "#         if table_name in primary_keys:\n",
    "#             key_columns.update({processed_data_collection[table_name]['metadata']['primary_key'][0]: primary_keys[table_name]})\n",
    "\n",
    "#         if table_name in foreign_keys:\n",
    "#             key_columns.update(foreign_keys[table_name])\n",
    "        \n",
    "#         if processed_data_collection[table_name]['metadata']['is_sequential'] == True:\n",
    "#             for additional_key in processed_data_collection[table_name]['metadata']['additional_key']:\n",
    "#                 additional_prob_distribution = processed_data_collection[table_name]['labels_pdf'][additional_key]\n",
    "#                 key_columns[additional_key] = np.random.choice(np.unique(processed_data_collection[table_name]['labels'][additional_key]), generation_dict[table_name]['nrows'], p=additional_prob_distribution)\n",
    "        \n",
    "#         key_columns = pd.DataFrame(key_columns)\n",
    "#         key_columns_dict[table_name] = key_columns.reindex(columns=processed_data_collection[table_name]['labels_col_names'])\n",
    "        \n",
    "#     # generate data\n",
    "#     for df_name, content in processed_data_collection.items():\n",
    "#         generator = models.load_model('models/'+df_name+'_gen.h5')\n",
    "#         latent_dim = (content['table'].shape[1] + content['labels'].shape[1]) * content['labels'].shape[1]\n",
    "#         noise = np.random.uniform(-1, 1, size=(generation_dict[df_name]['nrows'], latent_dim))\n",
    "#         raw_fake_table = generator.predict([noise,key_columns_dict[df_name]])\n",
    "#         fake_table = content['table_scaler'].inverse_transform(raw_fake_table)\n",
    "#         fake_table = pd.DataFrame(fake_table, columns=content['table_col_names'])\n",
    "#         fake_data = pd.concat([key_columns_dict[df_name], fake_table], axis=1)\n",
    "#         fake_data = fake_data.reindex(columns=processed_data_collection[df_name]['col_names'])\n",
    "        \n",
    "#         columns_to_int = [col for col in fake_data.columns if col not in features_to_ignore_rounding]\n",
    "#         for col in columns_to_int:\n",
    "#             fake_data[col] = fake_data[col].astype(int)\n",
    "\n",
    "#         synthetic_data_collection[df_name] = fake_data\n",
    "        \n",
    "#     return synthetic_data_collection"
   ]
  },
  {
   "cell_type": "code",
   "execution_count": 118,
   "id": "1e39be14-abfa-422e-a33a-f6333dc191a1",
   "metadata": {},
   "outputs": [],
   "source": [
    "generation_dict = {k:{'nrows':len(v['table']), 'is_sequential':False} for k,v in processed_data_collection.items()}\n",
    "generation_dict['calendar_dates']['is_sequential'] = True\n",
    "generation_dict['stop_times']['is_sequential'] = True\n",
    "generation_dict['calendar_dates']['sort_by'] = ['service_id','date']\n",
    "generation_dict['stop_times']['sort_by'] = ['trip_id','stop_sequence']"
   ]
  },
  {
   "cell_type": "code",
   "execution_count": 119,
   "id": "26712e2e-c0a2-4132-af93-68af04c1adaf",
   "metadata": {},
   "outputs": [
    {
     "data": {
      "text/plain": [
       "{'agency': {'nrows': 15, 'is_sequential': False},\n",
       " 'calendar': {'nrows': 121, 'is_sequential': False},\n",
       " 'calendar_dates': {'nrows': 674,\n",
       "  'is_sequential': True,\n",
       "  'sort_by': ['service_id', 'date']},\n",
       " 'routes': {'nrows': 215, 'is_sequential': False},\n",
       " 'stops': {'nrows': 6714, 'is_sequential': False},\n",
       " 'stop_times': {'nrows': 966790,\n",
       "  'is_sequential': True,\n",
       "  'sort_by': ['trip_id', 'stop_sequence']},\n",
       " 'trips': {'nrows': 32403, 'is_sequential': False}}"
      ]
     },
     "execution_count": 119,
     "metadata": {},
     "output_type": "execute_result"
    }
   ],
   "source": [
    "generation_dict"
   ]
  },
  {
   "cell_type": "code",
   "execution_count": 120,
   "id": "1af7da14-2d7d-4c16-80e0-5c51f93f8675",
   "metadata": {
    "scrolled": true,
    "tags": []
   },
   "outputs": [
    {
     "name": "stdout",
     "output_type": "stream",
     "text": [
      "CPU times: total: 1min 21s\n",
      "Wall time: 1min 7s\n"
     ]
    }
   ],
   "source": [
    "%time synthetic_data_collection = generate_synth_data_collection(processed_data_collection, sdv_metadata, generation_dict)"
   ]
  },
  {
   "cell_type": "code",
   "execution_count": 121,
   "id": "1491b7f6-a3c5-4f1f-bdd5-bc5738078899",
   "metadata": {},
   "outputs": [],
   "source": [
    "# del processed_data_collection"
   ]
  },
  {
   "cell_type": "markdown",
   "id": "93c53d11-a98d-4905-89c9-5c65098d82c4",
   "metadata": {},
   "source": [
    "# Metrics"
   ]
  },
  {
   "cell_type": "markdown",
   "id": "c6d8f9a7-ec7c-4eff-9a6a-91689c04619e",
   "metadata": {},
   "source": [
    "## Pre-metrics Data Processing"
   ]
  },
  {
   "cell_type": "code",
   "execution_count": 122,
   "id": "8066311d-d2e5-4892-aece-ef5f685fd00e",
   "metadata": {
    "tags": []
   },
   "outputs": [],
   "source": [
    "# def convert_to_dataframe_collection(processed_data_collection):\n",
    "#     new_dict = {}\n",
    "#     features_to_ignore_rounding = ['shape_pt_lat',\n",
    "#                       'shape_pt_lon',\n",
    "#                       'stop_lat',\n",
    "#                       'stop_lon',\n",
    "#                      'shape_dist_traveled']\n",
    "#     for df_name, content in processed_data_collection.items():\n",
    "#         table_scaler = content['table_scaler']\n",
    "#         labels_scaler = content['labels_scaler']\n",
    "#         labels = content['labels']\n",
    "#         table = content['table']\n",
    "#         table = pd.DataFrame(table_scaler.inverse_transform(table),columns = content['table_col_names'])\n",
    "#         labels = pd.DataFrame(labels_scaler.inverse_transform(labels),columns = content['labels_col_names'])\n",
    "#         new_df = pd.concat([labels, table], axis=1)\n",
    "#         new_df = new_df.reindex(columns=processed_data_collection[df_name]['col_names'])\n",
    "#         columns_to_int = [col for col in new_df.columns if col not in features_to_ignore_rounding]\n",
    "#         for col in columns_to_int:\n",
    "#             new_df[col] = new_df[col].astype(int)\n",
    "#         new_dict[df_name] = new_df\n",
    "#     return new_dict"
   ]
  },
  {
   "cell_type": "code",
   "execution_count": 123,
   "id": "4712b1b4-8ac4-47ba-a542-c3670b369857",
   "metadata": {},
   "outputs": [],
   "source": [
    "# real_data_collection = convert_to_dataframe_collection(processed_data_collection)"
   ]
  },
  {
   "cell_type": "code",
   "execution_count": 124,
   "id": "86bb30b7-2fa2-437b-b1aa-154679435963",
   "metadata": {
    "scrolled": true,
    "tags": []
   },
   "outputs": [
    {
     "data": {
      "text/plain": [
       "{'agency':     agency_id  agency_url  agency_timezone  agency_lang  agency_phone\n",
       " 0           0           0                0            0             0\n",
       " 1           1           0                0            0             0\n",
       " 2           2           0                0            0             0\n",
       " 3           3           0                0            0             0\n",
       " 4           4           0                0            0             0\n",
       " 5           5           0                0            0             0\n",
       " 6           6           0                0            0             0\n",
       " 7           7           0                0            0             0\n",
       " 8           8           0                0            0             0\n",
       " 9           9           0                0            0             0\n",
       " 10         10           0                0            0             0\n",
       " 11         11           0                0            0             0\n",
       " 12         12           0                0            0             0\n",
       " 13         13           0                0            0             0\n",
       " 14         14           0                0            0             0,\n",
       " 'calendar':      service_id  monday  tuesday  wednesday  thursday  friday  saturday  \\\n",
       " 0             0       0        0          0         0       0         0   \n",
       " 1             1       0        0          0         0       0         0   \n",
       " 2             2       0        0          0         0       0         0   \n",
       " 3             3       0        0          0         0       0         0   \n",
       " 4             4       0        0          0         0       0         0   \n",
       " ..          ...     ...      ...        ...       ...     ...       ...   \n",
       " 116         116       0        0          0         0       0         0   \n",
       " 117         117       0        0          0         0       0         0   \n",
       " 118         118       0        0          0         0       0         0   \n",
       " 119         119       0        0          0         0       0         0   \n",
       " 120         120       0        0          0         0       0         0   \n",
       " \n",
       "      sunday  start_date  end_date  \n",
       " 0         0       45001     45026  \n",
       " 1         0       45001     45029  \n",
       " 2         0       45002     45033  \n",
       " 3         0       44997     45016  \n",
       " 4         0       45001     45023  \n",
       " ..      ...         ...       ...  \n",
       " 116       0       44998     45039  \n",
       " 117       0       44993     45026  \n",
       " 118       0       44995     45035  \n",
       " 119       0       44993     45027  \n",
       " 120       0       44993     45027  \n",
       " \n",
       " [121 rows x 10 columns],\n",
       " 'calendar_dates':      service_id   date  exception_type\n",
       " 0            33  44995               1\n",
       " 1           101  45021               1\n",
       " 2            41  45000               1\n",
       " 3             9  45024               1\n",
       " 4             1  44998               1\n",
       " ..          ...    ...             ...\n",
       " 669          85  45033               1\n",
       " 670          67  45031               1\n",
       " 671          72  44997               1\n",
       " 672          72  45031               1\n",
       " 673          37  44998               1\n",
       " \n",
       " [674 rows x 3 columns],\n",
       " 'routes':      route_id  agency_id  route_type  route_color  route_text_color  \\\n",
       " 0           0          4           2            0                 0   \n",
       " 1           1          6           2            8                 0   \n",
       " 2           2          0           2            0                 0   \n",
       " 3           3          4           2            0                 0   \n",
       " 4           4         14           3            2                 0   \n",
       " ..        ...        ...         ...          ...               ...   \n",
       " 210       210          3           3            0                 0   \n",
       " 211       211          8           3            8                 0   \n",
       " 212       212         10           3            1                 0   \n",
       " 213       213         13           3            6                 0   \n",
       " 214       214          8           2            8                 0   \n",
       " \n",
       "      contract_id  \n",
       " 0              0  \n",
       " 1             26  \n",
       " 2              0  \n",
       " 3              2  \n",
       " 4              2  \n",
       " ..           ...  \n",
       " 210            6  \n",
       " 211           55  \n",
       " 212            6  \n",
       " 213           58  \n",
       " 214           62  \n",
       " \n",
       " [215 rows x 6 columns],\n",
       " 'stops':       stop_id   stop_lat    stop_lon  location_type  parent_station  \\\n",
       " 0           0 -37.782223  174.430740              0              83   \n",
       " 1           1 -37.779400  174.432068              0             109   \n",
       " 2           2 -37.726948  174.458420              0               3   \n",
       " 3           3 -37.792160  174.432922              0               1   \n",
       " 4           4 -37.792084  174.431610              0             118   \n",
       " ...       ...        ...         ...            ...             ...   \n",
       " 6709     6709 -36.386929  175.467300              0               2   \n",
       " 6710     6710 -36.391655  175.454224              0             111   \n",
       " 6711     6711 -36.417728  175.458969              0             104   \n",
       " 6712     6712 -36.509918  175.465302              0              96   \n",
       " 6713     6713 -36.320557  175.467911              0               0   \n",
       " \n",
       "       platform_code  wheelchair_boarding  start_date  end_date  \n",
       " 0                 3                    0       44994     45008  \n",
       " 1                 6                    0       44999     45001  \n",
       " 2                31                    0       44993     45057  \n",
       " 3                31                    0       44993     45052  \n",
       " 4                 0                    0       44997     45001  \n",
       " ...             ...                  ...         ...       ...  \n",
       " 6709             30                    0       44998     45059  \n",
       " 6710              1                    0       45001     45005  \n",
       " 6711              1                    0       45001     45016  \n",
       " 6712              0                    0       45001     45008  \n",
       " 6713             30                    0       44995     45059  \n",
       " \n",
       " [6714 rows x 9 columns],\n",
       " 'stop_times':         stop_id  trip_id  stop_sequence  arrival_time  departure_time  \\\n",
       " 0          5231    13549              8         45360           42244   \n",
       " 1          2715    11132             27         45945           43143   \n",
       " 2          2003    26085             22         44886           42367   \n",
       " 3          3703     5563             35         47000           41734   \n",
       " 4          3126     7935             12         46099           42652   \n",
       " ...         ...      ...            ...           ...             ...   \n",
       " 966785     2468    10017             24         47986           42437   \n",
       " 966786     1148    24799              8         47208           41663   \n",
       " 966787     4073    26971             27         46178           43475   \n",
       " 966788     4511    27060              3         47457           42468   \n",
       " 966789     4673    19949             62         48354           42160   \n",
       " \n",
       "         stop_headsign  pickup_type  drop_off_type  shape_dist_traveled  \\\n",
       " 0                 125            0              0            72.069656   \n",
       " 1                 123            0              0            73.448174   \n",
       " 2                 127            0              0            67.756638   \n",
       " 3                 120            0              0            74.433113   \n",
       " 4                 124            0              0            74.591187   \n",
       " ...               ...          ...            ...                  ...   \n",
       " 966785            119            0              0            75.351532   \n",
       " 966786            115            0              0            76.517624   \n",
       " 966787            123            0              0            71.551361   \n",
       " 966788            115            0              0            77.493134   \n",
       " 966789            114            0              0            78.340096   \n",
       " \n",
       "         timepoint  \n",
       " 0               0  \n",
       " 1               0  \n",
       " 2               0  \n",
       " 3               0  \n",
       " 4               0  \n",
       " ...           ...  \n",
       " 966785          0  \n",
       " 966786          0  \n",
       " 966787          0  \n",
       " 966788          0  \n",
       " 966789          0  \n",
       " \n",
       " [966790 rows x 10 columns],\n",
       " 'trips':        trip_id  service_id  route_id  trip_headsign  direction_id  shape_id  \\\n",
       " 0            0          57        21            238             0       640   \n",
       " 1            1          82        71            324             0       242   \n",
       " 2            2          81        33            161             0       534   \n",
       " 3            3         105       214            623             0       219   \n",
       " 4            4          26        28            378             0       654   \n",
       " ...        ...         ...       ...            ...           ...       ...   \n",
       " 32398    32398          43       120            186             0         8   \n",
       " 32399    32399          82        68             44             0        39   \n",
       " 32400    32400          45        59            203             0       160   \n",
       " 32401    32401          31        33              7             0       417   \n",
       " 32402    32402          42        24             56             0       671   \n",
       " \n",
       "        wheelchair_accessible  bikes_allowed  \n",
       " 0                          0              0  \n",
       " 1                          0              0  \n",
       " 2                          0              0  \n",
       " 3                          0              0  \n",
       " 4                          0              0  \n",
       " ...                      ...            ...  \n",
       " 32398                      0              0  \n",
       " 32399                      0              0  \n",
       " 32400                      0              0  \n",
       " 32401                      0              0  \n",
       " 32402                      0              0  \n",
       " \n",
       " [32403 rows x 8 columns]}"
      ]
     },
     "execution_count": 124,
     "metadata": {},
     "output_type": "execute_result"
    }
   ],
   "source": [
    "synthetic_data_collection"
   ]
  },
  {
   "cell_type": "code",
   "execution_count": 125,
   "id": "b13b3085-663c-4a37-adcc-3ccb68799162",
   "metadata": {
    "scrolled": true,
    "tags": []
   },
   "outputs": [
    {
     "data": {
      "text/plain": [
       "{'agency':     agency_id  agency_url  agency_timezone  agency_lang  agency_phone\n",
       " 0           0           0                0            0             0\n",
       " 1           1           0                0            0             0\n",
       " 2           2           0                0            0             0\n",
       " 3           3           0                0            0             0\n",
       " 4           4           0                0            0             0\n",
       " 5           5           0                0            0             0\n",
       " 6           6           0                0            0             0\n",
       " 7           7           0                0            0             0\n",
       " 8           8           0                0            0             0\n",
       " 9           9           0                0            0             0\n",
       " 10         10           0                0            0             0\n",
       " 11         11           0                0            0             0\n",
       " 12         12           0                0            0             0\n",
       " 13         13           0                0            0             0\n",
       " 14         14           0                0            0             0,\n",
       " 'calendar':      service_id  monday  tuesday  wednesday  thursday  friday  saturday  \\\n",
       " 0             0       1        1          1         1       1         1   \n",
       " 1             1       1        1          1         1       1         1   \n",
       " 2             2       1        1          1         1       1         1   \n",
       " 3             3       1        1          1         1       1         1   \n",
       " 4             4       1        1          1         1       1         1   \n",
       " ..          ...     ...      ...        ...       ...     ...       ...   \n",
       " 116         116       0        0          0         0       0         1   \n",
       " 117         117       1        1          1         1       0         0   \n",
       " 118         118       1        1          1         1       0         0   \n",
       " 119         119       1        1          1         1       0         0   \n",
       " 120         120       1        1          1         1       0         0   \n",
       " \n",
       "      sunday  start_date  end_date  \n",
       " 0         1       44993     45060  \n",
       " 1         1       44994     45060  \n",
       " 2         1       44993     45060  \n",
       " 3         1       45002     45060  \n",
       " 4         1       45002     45060  \n",
       " ..      ...         ...       ...  \n",
       " 116       1       44993     45060  \n",
       " 117       0       44993     45060  \n",
       " 118       0       44994     45060  \n",
       " 119       0       44993     45001  \n",
       " 120       0       44994     45060  \n",
       " \n",
       " [121 rows x 10 columns],\n",
       " 'calendar_dates':      service_id   date  exception_type\n",
       " 0             2  44993               2\n",
       " 1             2  44996               2\n",
       " 2             2  44997               2\n",
       " 3             2  44998               2\n",
       " 4             2  44999               2\n",
       " ..          ...    ...             ...\n",
       " 669         120  45004               2\n",
       " 670         120  45005               2\n",
       " 671         120  45006               2\n",
       " 672         120  45024               2\n",
       " 673         120  45039               2\n",
       " \n",
       " [674 rows x 3 columns],\n",
       " 'routes':      route_id  agency_id  route_type  route_color  route_text_color  \\\n",
       " 0           0          8           3           -1                -1   \n",
       " 1           1          7           3            0                 1   \n",
       " 2           2          4           4            3                 1   \n",
       " 3           3          8           3            1                 1   \n",
       " 4           4          0           2            5                 0   \n",
       " ..        ...        ...         ...          ...               ...   \n",
       " 210       210          1           3            7                 1   \n",
       " 211       211          1           3            7                 1   \n",
       " 212       212          1           3            5                 0   \n",
       " 213       213          0           2            7                 1   \n",
       " 214       214          3           4            3                 1   \n",
       " \n",
       "      contract_id  \n",
       " 0              7  \n",
       " 1             61  \n",
       " 2             62  \n",
       " 3              4  \n",
       " 4             63  \n",
       " ..           ...  \n",
       " 210           61  \n",
       " 211           61  \n",
       " 212           61  \n",
       " 213           63  \n",
       " 214           57  \n",
       " \n",
       " [215 rows x 6 columns],\n",
       " 'stops':       stop_id  stop_lat   stop_lon  location_type  parent_station  \\\n",
       " 0           0 -36.97766  174.84925              1              -1   \n",
       " 1           1 -36.84326  174.76575              0              73   \n",
       " 2           2 -36.84381  174.76551              0              73   \n",
       " 3           3 -36.89726  174.80712              1              -1   \n",
       " 4           4 -36.84403  174.76550              0              73   \n",
       " ...       ...       ...        ...            ...             ...   \n",
       " 6709     6709 -36.85073  174.75679              0              -1   \n",
       " 6710     6710 -36.75943  174.74654              0              -1   \n",
       " 6711     6711 -36.75716  174.74401              0              -1   \n",
       " 6712     6712 -36.75667  174.74761              0              -1   \n",
       " 6713     6713 -36.39619  174.66156              0              -1   \n",
       " \n",
       "       platform_code  wheelchair_boarding  start_date  end_date  \n",
       " 0                -1                    0       44993     45060  \n",
       " 1                27                    0       44993     45060  \n",
       " 2                28                    0       44993     45060  \n",
       " 3                -1                    0       44993     45060  \n",
       " 4                29                    0       44993     45060  \n",
       " ...             ...                  ...         ...       ...  \n",
       " 6709             -1                    0       44993     45060  \n",
       " 6710             -1                    0       44993     45060  \n",
       " 6711             -1                    0       44993     45060  \n",
       " 6712             -1                    0       44993     45060  \n",
       " 6713             -1                    0       44993     45060  \n",
       " \n",
       " [6714 rows x 9 columns],\n",
       " 'stop_times':         trip_id  arrival_time  departure_time  stop_id  stop_sequence  \\\n",
       " 0         11377         37680           37680     4172              1   \n",
       " 1         11377         37785           37785     4174              2   \n",
       " 2         11377         37864           37864     4007              3   \n",
       " 3         11377         37914           37914     4181              4   \n",
       " 4         11377         37969           37969      737              5   \n",
       " ...         ...           ...             ...      ...            ...   \n",
       " 966785    22010         49881           49881     1801             62   \n",
       " 966786    22010         49933           49933     1803             63   \n",
       " 966787    22010         50034           50034     1744             64   \n",
       " 966788    22010         50101           50101     1740             65   \n",
       " 966789    22010         50160           50160     1852             66   \n",
       " \n",
       "         stop_headsign  pickup_type  drop_off_type  shape_dist_traveled  \\\n",
       " 0                 153            0              0                0.000   \n",
       " 1                 153            0              0                0.794   \n",
       " 2                 153            0              0                1.395   \n",
       " 3                 153            0              0                1.777   \n",
       " 4                 153            0              0                2.192   \n",
       " ...               ...          ...            ...                  ...   \n",
       " 966785            198            0              0               25.266   \n",
       " 966786            198            0              0               25.515   \n",
       " 966787            198            0              0               25.994   \n",
       " 966788            198            0              0               26.311   \n",
       " 966789            198            1              0               26.591   \n",
       " \n",
       "         timepoint  \n",
       " 0               0  \n",
       " 1               0  \n",
       " 2               0  \n",
       " 3               0  \n",
       " 4               0  \n",
       " ...           ...  \n",
       " 966785          0  \n",
       " 966786          0  \n",
       " 966787          0  \n",
       " 966788          0  \n",
       " 966789          0  \n",
       " \n",
       " [966790 rows x 10 columns],\n",
       " 'trips':        route_id  service_id  trip_id  trip_headsign  direction_id  shape_id  \\\n",
       " 0           179          93        0            600             0         0   \n",
       " 1           179          93        1            600             0         0   \n",
       " 2           179          93        2            600             0         0   \n",
       " 3           179          93        3            600             0         0   \n",
       " 4           179         105        4            600             0         0   \n",
       " ...         ...         ...      ...            ...           ...       ...   \n",
       " 32398        18          93    32398             20             0       670   \n",
       " 32399        18         105    32399             20             0       670   \n",
       " 32400        18          93    32400             20             0       670   \n",
       " 32401        18         105    32401             20             0       670   \n",
       " 32402        18          93    32402            526             0       672   \n",
       " \n",
       "        wheelchair_accessible  bikes_allowed  \n",
       " 0                          0              0  \n",
       " 1                          0              0  \n",
       " 2                          0              0  \n",
       " 3                          0              0  \n",
       " 4                          0              0  \n",
       " ...                      ...            ...  \n",
       " 32398                      0              0  \n",
       " 32399                      0              0  \n",
       " 32400                      0              0  \n",
       " 32401                      0              0  \n",
       " 32402                      0              0  \n",
       " \n",
       " [32403 rows x 8 columns]}"
      ]
     },
     "execution_count": 125,
     "metadata": {},
     "output_type": "execute_result"
    }
   ],
   "source": [
    "real_data_collection"
   ]
  },
  {
   "cell_type": "markdown",
   "id": "b2f629f9-9cd2-47dc-ade3-dc97edd07a25",
   "metadata": {},
   "source": [
    "### Cosine Similarity Test"
   ]
  },
  {
   "cell_type": "code",
   "execution_count": 126,
   "id": "f4488ad3-e245-41d9-9da8-d8d8dc28bd6b",
   "metadata": {},
   "outputs": [],
   "source": [
    "def cos_test(df1, df2):\n",
    "    cos_sim = metrics.pairwise.cosine_similarity(df1.values.T, df2.values.T)\n",
    "    mean_cos_sim = np.mean(cos_sim)\n",
    "    return mean_cos_sim"
   ]
  },
  {
   "cell_type": "code",
   "execution_count": 127,
   "id": "6227efd9-8e40-46eb-8a35-63ad5122e1bd",
   "metadata": {},
   "outputs": [],
   "source": [
    "def batch_cos_test(fake_collection, real_collection):\n",
    "    test_dict = {}\n",
    "    for df_name in fake_collection.keys():\n",
    "        mean_cos_sim = cos_test(real_collection[df_name], fake_collection[df_name])\n",
    "        test_dict[df_name] = str(round((1-mean_cos_sim)*100, 1)) + '% Similar'\n",
    "    return test_dict"
   ]
  },
  {
   "cell_type": "code",
   "execution_count": 128,
   "id": "c7ce6995-c917-4430-b8fe-84dedccbd2d3",
   "metadata": {},
   "outputs": [
    {
     "name": "stdout",
     "output_type": "stream",
     "text": [
      "CPU times: total: 2 s\n",
      "Wall time: 252 ms\n"
     ]
    },
    {
     "data": {
      "text/plain": [
       "{'agency': '96.0% Similar',\n",
       " 'calendar': '79.7% Similar',\n",
       " 'calendar_dates': '10.5% Similar',\n",
       " 'routes': '66.3% Similar',\n",
       " 'stops': '82.8% Similar',\n",
       " 'stop_times': '57.4% Similar',\n",
       " 'trips': '65.7% Similar'}"
      ]
     },
     "execution_count": 128,
     "metadata": {},
     "output_type": "execute_result"
    }
   ],
   "source": [
    "%time batch_cos_test(synthetic_data_collection, real_data_collection)"
   ]
  },
  {
   "cell_type": "markdown",
   "id": "cf3cf25c-9be0-426f-abdb-ed571899cc87",
   "metadata": {},
   "source": [
    "### Inverse KS (Kolmogorov-Smirnov) Test"
   ]
  },
  {
   "cell_type": "code",
   "execution_count": 129,
   "id": "a82e562a-3882-4401-975d-3ffdc7a4c6ac",
   "metadata": {},
   "outputs": [],
   "source": [
    "# def batch_ks_test(fake_collection, real_collection):\n",
    "#     stats_dict = {}\n",
    "#     for df_name, fake_df in fake_collection.items():\n",
    "#         stats_list = []\n",
    "#         p_val_list = []\n",
    "#         test_dict = {}\n",
    "#         for col in fake_df.columns:\n",
    "#             stats, p_val = ks_2samp(fake_df[col], real_collection[df_name][col], alternative='two-sided', method='auto')\n",
    "#             stats_list.append(stats)\n",
    "#             p_val_list.append(p_val)\n",
    "#         test_dict['stats'] = np.mean(stats_list)\n",
    "#         test_dict['p_value'] = np.mean(p_val_list)\n",
    "#         stats_dict[df_name] = test_dict\n",
    "#     return stats_dict"
   ]
  },
  {
   "cell_type": "code",
   "execution_count": 130,
   "id": "0bef438a-3159-4a78-94d7-9e1c9a31d5b0",
   "metadata": {},
   "outputs": [],
   "source": [
    "def ks_test(df1, df2):\n",
    "    ks_stats = []\n",
    "    # wasserstein_distances = []\n",
    "    p_values = []\n",
    "    for column in df1.columns:\n",
    "        ks_stat, ks_p_value = ks_2samp(df1[column], df2[column])\n",
    "        ks_stats.append(ks_stat)\n",
    "        p_values.append(ks_p_value)\n",
    "        # w_dist = wasserstein_distance(df1[column], df2[column])\n",
    "        # wasserstein_distances.append(w_dist)\n",
    "    mean_ks_stat = np.mean(ks_stats)\n",
    "    # mean_wasserstein_distance = np.mean(wasserstein_distances)\n",
    "    mean_p_value = np.mean(p_values)\n",
    "    return mean_ks_stat, mean_p_value"
   ]
  },
  {
   "cell_type": "code",
   "execution_count": 131,
   "id": "cf2c9ce9-42a5-46cb-bee6-a3fe40fc2506",
   "metadata": {},
   "outputs": [],
   "source": [
    "def batch_ks_test(collection1, collection2):\n",
    "    stats_dict = {}\n",
    "    for df_name in collection1:\n",
    "        ks_results, p_value = ks_test(collection1[df_name], collection2[df_name])\n",
    "        stats_dict[df_name] = str(round((1-ks_results)*100, 1)) + '% similar in distribution'\n",
    "    return stats_dict"
   ]
  },
  {
   "cell_type": "code",
   "execution_count": 132,
   "id": "45fbd436-53f5-401c-b380-38f12e9b4a80",
   "metadata": {
    "scrolled": true,
    "tags": []
   },
   "outputs": [
    {
     "name": "stdout",
     "output_type": "stream",
     "text": [
      "CPU times: total: 3.3 s\n",
      "Wall time: 2.43 s\n"
     ]
    },
    {
     "data": {
      "text/plain": [
       "{'agency': '100.0% similar in distribution',\n",
       " 'calendar': '57.4% similar in distribution',\n",
       " 'calendar_dates': '78.8% similar in distribution',\n",
       " 'routes': '53.6% similar in distribution',\n",
       " 'stops': '48.5% similar in distribution',\n",
       " 'stop_times': '69.9% similar in distribution',\n",
       " 'trips': '82.2% similar in distribution'}"
      ]
     },
     "execution_count": 132,
     "metadata": {},
     "output_type": "execute_result"
    }
   ],
   "source": [
    "%time batch_ks_test(synthetic_data_collection, real_data_collection)"
   ]
  },
  {
   "cell_type": "markdown",
   "id": "1d75f932-bd6a-483c-84da-bd84acc475d9",
   "metadata": {},
   "source": [
    "# SDV Individual Table Metrics"
   ]
  },
  {
   "cell_type": "code",
   "execution_count": 133,
   "id": "ce6c4678-2375-4537-ad0f-f4c031238c28",
   "metadata": {},
   "outputs": [],
   "source": [
    "# individual_report_collection = {}\n",
    "# for df_name in real_data_collection.keys():\n",
    "#     individual_report_collection[df_name] = evaluate_quality(\n",
    "#         real_data=real_data_collection[df_name],\n",
    "#         synthetic_data=synthetic_data_collection[df_name],\n",
    "#         metadata=sdv_metadata.tables[df_name])"
   ]
  },
  {
   "cell_type": "code",
   "execution_count": 134,
   "id": "3811ac5c-59ab-4df2-b30d-bf3425b967be",
   "metadata": {},
   "outputs": [],
   "source": [
    "# individual_diagnostic_collection = {}\n",
    "# for df_name in real_data_collection.keys():\n",
    "#     individual_diagnostic_collection[df_name] = run_diagnostic(\n",
    "#         real_data=real_data_collection[df_name],\n",
    "#         synthetic_data=synthetic_data_collection[df_name],\n",
    "#         metadata=sdv_metadata.tables[df_name])"
   ]
  },
  {
   "cell_type": "markdown",
   "id": "c73e2764-5a57-4c92-bca1-e89aff399fbe",
   "metadata": {
    "tags": []
   },
   "source": [
    "# SDV Multi-Table Metrics"
   ]
  },
  {
   "cell_type": "code",
   "execution_count": 135,
   "id": "f6e32a18-e910-4dcf-aeb8-89c56cb86c5f",
   "metadata": {},
   "outputs": [
    {
     "name": "stderr",
     "output_type": "stream",
     "text": [
      "Creating report: 100%|███████████████████████████████████████████████████████████████████| 5/5 [00:26<00:00,  5.33s/it]\n"
     ]
    },
    {
     "name": "stdout",
     "output_type": "stream",
     "text": [
      "\n",
      "Overall Quality Score: 46.28%\n",
      "\n",
      "Properties:\n",
      "Column Shapes: 58.25%\n",
      "Column Pair Trends: 33.52%\n",
      "Parent Child Relationships: 47.06%\n",
      "CPU times: total: 1min 37s\n",
      "Wall time: 1min 32s\n"
     ]
    }
   ],
   "source": [
    "%%time \n",
    "mt_quality_report = evaluate_quality(\n",
    "    real_data=real_data_collection,\n",
    "    synthetic_data=synthetic_data_collection,\n",
    "    metadata=sdv_metadata)"
   ]
  },
  {
   "cell_type": "code",
   "execution_count": 136,
   "id": "cfbe78b8-51cf-4081-b31e-ccaa9d54947d",
   "metadata": {},
   "outputs": [
    {
     "name": "stderr",
     "output_type": "stream",
     "text": [
      "Creating report: 100%|███████████████████████████████████████████████████████████████████| 4/4 [00:00<00:00,  6.70it/s]"
     ]
    },
    {
     "name": "stdout",
     "output_type": "stream",
     "text": [
      "\n",
      "DiagnosticResults:\n",
      "\n",
      "SUCCESS:\n",
      "✓ The synthetic data follows over 90% of the min/max boundaries set by the real data\n",
      "\n",
      "WARNING:\n",
      "! The synthetic data is missing more than 10% of the numerical ranges present in the real data\n",
      "! The synthetic data is missing more than 10% of the categories present in the real data\n",
      "\n",
      "DANGER:\n",
      "x More than 50% of the synthetic rows are copies of the real data\n",
      "CPU times: total: 594 ms\n",
      "Wall time: 602 ms\n"
     ]
    },
    {
     "name": "stderr",
     "output_type": "stream",
     "text": [
      "\n"
     ]
    }
   ],
   "source": [
    "%%time \n",
    "mt_diagnostic_report = run_diagnostic(\n",
    "    real_data=real_data_collection,\n",
    "    synthetic_data=synthetic_data_collection,\n",
    "    metadata=sdv_metadata)"
   ]
  },
  {
   "cell_type": "markdown",
   "id": "de1bac18-942a-43e3-b5e3-af4396e1374b",
   "metadata": {},
   "source": [
    "# Join Test"
   ]
  },
  {
   "cell_type": "markdown",
   "id": "e05a8d5f-484d-4d87-ae53-8bc4d0d78cfc",
   "metadata": {},
   "source": [
    "## Join Data"
   ]
  },
  {
   "cell_type": "code",
   "execution_count": 137,
   "id": "782549b3-a03b-46f2-ae72-3090a47de613",
   "metadata": {},
   "outputs": [],
   "source": [
    "def auto_join(df_list, how='inner'):\n",
    "    result = df_list[0]\n",
    "    for df in df_list[1:]:\n",
    "        shared_columns = list(set(result.columns) & set(df.columns))\n",
    "        if not shared_columns:\n",
    "            continue\n",
    "        result = result.merge(df, on=shared_columns, how=how)\n",
    "    return result"
   ]
  },
  {
   "cell_type": "code",
   "execution_count": 138,
   "id": "8c554e62-a026-47e5-ae2e-4a04d1673c1b",
   "metadata": {
    "scrolled": true,
    "tags": []
   },
   "outputs": [],
   "source": [
    "df_list = [synthetic_data_collection['routes'], synthetic_data_collection['trips']]\n",
    "fake_routes_trips = auto_join(df_list, how='inner')"
   ]
  },
  {
   "cell_type": "code",
   "execution_count": 139,
   "id": "1b1717da-29b3-4aa8-ae8c-c19557087426",
   "metadata": {},
   "outputs": [],
   "source": [
    "df_list = [synthetic_data_collection['stops'], synthetic_data_collection['stop_times'], synthetic_data_collection['trips']]\n",
    "fake_stops_stop_times_trips = auto_join(df_list, how='inner')"
   ]
  },
  {
   "cell_type": "code",
   "execution_count": 140,
   "id": "3b90d65e-566c-46c7-a23d-63b5f156c79d",
   "metadata": {},
   "outputs": [],
   "source": [
    "df_list = [real_data_collection['routes'], real_data_collection['trips']]\n",
    "real_routes_trips = auto_join(df_list, how='inner')"
   ]
  },
  {
   "cell_type": "code",
   "execution_count": 141,
   "id": "d8825e52-5935-4db4-b3e2-8735fedfa27b",
   "metadata": {},
   "outputs": [],
   "source": [
    "df_list = [real_data_collection['stops'], real_data_collection['stop_times'], real_data_collection['trips']]\n",
    "real_stops_stop_times_trips = auto_join(df_list, how='inner')"
   ]
  },
  {
   "cell_type": "markdown",
   "id": "3305d603-4823-43bc-9637-b1506606755e",
   "metadata": {},
   "source": [
    "## Measue # of Rows Abandoned"
   ]
  },
  {
   "cell_type": "code",
   "execution_count": 142,
   "id": "6b86dfca-c4dc-4609-bf71-27ceedacc63d",
   "metadata": {},
   "outputs": [],
   "source": [
    "def leftout_percentage(df1, df2):\n",
    "    df1_len = len(df1)\n",
    "    df2_len = len(df2)\n",
    "    min_ = min(df1_len, df2_len)\n",
    "    max_ = max(df1_len, df2_len)\n",
    "    leftout = (((max_ - min_) / max_) + ((max_ - min_) / min_)) / 2\n",
    "    return leftout"
   ]
  },
  {
   "cell_type": "code",
   "execution_count": 143,
   "id": "7025bc85-e35c-4d9d-9972-82a305ce1272",
   "metadata": {},
   "outputs": [
    {
     "data": {
      "text/plain": [
       "0.0"
      ]
     },
     "execution_count": 143,
     "metadata": {},
     "output_type": "execute_result"
    }
   ],
   "source": [
    "leftout_percentage(fake_routes_trips, real_routes_trips)"
   ]
  },
  {
   "cell_type": "code",
   "execution_count": 144,
   "id": "afa8fb5d-a2f7-4446-9695-a58cb0a02800",
   "metadata": {},
   "outputs": [
    {
     "data": {
      "text/plain": [
       "0.0"
      ]
     },
     "execution_count": 144,
     "metadata": {},
     "output_type": "execute_result"
    }
   ],
   "source": [
    "leftout_percentage(fake_stops_stop_times_trips, real_stops_stop_times_trips)"
   ]
  },
  {
   "cell_type": "markdown",
   "id": "249bc59e-1ed8-4eda-a474-040f64ee2609",
   "metadata": {},
   "source": [
    "## CosSim Test For Joined Data"
   ]
  },
  {
   "cell_type": "code",
   "execution_count": 145,
   "id": "67335685-a6ae-416f-b599-821771b82623",
   "metadata": {},
   "outputs": [
    {
     "data": {
      "text/plain": [
       "'66.9% similar'"
      ]
     },
     "execution_count": 145,
     "metadata": {},
     "output_type": "execute_result"
    }
   ],
   "source": [
    "min_ = min(len(fake_routes_trips), len(real_routes_trips))\n",
    "cos_test_result = []\n",
    "for i in range(10):\n",
    "    seed = 123\n",
    "    cos_test_result.append(cos_test(fake_routes_trips.sample(min_, random_state=seed), real_routes_trips.sample(min_, random_state=seed)))\n",
    "    seed += 1\n",
    "cos_test_result = str(round((1-np.mean(cos_test_result))*100, 1)) + '% similar'\n",
    "cos_test_result"
   ]
  },
  {
   "cell_type": "code",
   "execution_count": 146,
   "id": "25b5b47a-8a9c-4841-8e1b-57860ee460bf",
   "metadata": {},
   "outputs": [
    {
     "data": {
      "text/plain": [
       "'71.5% similar'"
      ]
     },
     "execution_count": 146,
     "metadata": {},
     "output_type": "execute_result"
    }
   ],
   "source": [
    "min_ = min(len(fake_stops_stop_times_trips), len(real_stops_stop_times_trips))\n",
    "cos_test_result = []\n",
    "for i in range(10):\n",
    "    seed = 123\n",
    "    cos_test_result.append(cos_test(fake_stops_stop_times_trips.sample(min_, random_state=seed), real_stops_stop_times_trips.sample(min_, random_state=seed)))\n",
    "    seed += 1\n",
    "cos_test_result = str(round((1-np.mean(cos_test_result))*100, 1)) + '% similar'\n",
    "cos_test_result"
   ]
  },
  {
   "cell_type": "markdown",
   "id": "25755527-cffd-4d85-87ec-8195f6bb7f5b",
   "metadata": {},
   "source": [
    "## KS Test For Joined Data"
   ]
  },
  {
   "cell_type": "code",
   "execution_count": 147,
   "id": "00f28205-5008-439b-aaef-160c47ed12bf",
   "metadata": {},
   "outputs": [],
   "source": [
    "min_ = min(len(fake_routes_trips), len(real_routes_trips))\n",
    "ks_test_result = []\n",
    "ks_stats = []\n",
    "p_values = []\n",
    "for i in range(10):\n",
    "    seed = 123\n",
    "    ks_stat, p_value = ks_test(fake_routes_trips.sample(min_, random_state=seed), real_routes_trips.sample(min_, random_state=seed))\n",
    "    ks_stats.append(ks_stat)\n",
    "    p_values.append(p_value)\n",
    "    seed += 1\n",
    "ks_test_result.append(str(round((1-np.mean(np.mean(ks_stats)))*100, 1)) + '% similar in distribution')\n",
    "ks_test_result.append(np.mean(p_values))"
   ]
  },
  {
   "cell_type": "code",
   "execution_count": 148,
   "id": "24d56015-6a67-4fcf-8ba9-6ba93435d054",
   "metadata": {},
   "outputs": [
    {
     "name": "stdout",
     "output_type": "stream",
     "text": [
      "statistics: 69.5% similar in distribution\n"
     ]
    }
   ],
   "source": [
    "print(f'statistics: {ks_test_result[0]}')"
   ]
  },
  {
   "cell_type": "code",
   "execution_count": 149,
   "id": "02c78c72-64cf-4fb3-873e-90abb2889836",
   "metadata": {},
   "outputs": [],
   "source": [
    "min_ = min(len(fake_stops_stop_times_trips), len(real_stops_stop_times_trips))\n",
    "ks_test_result = []\n",
    "ks_stats = []\n",
    "p_values = []\n",
    "for i in range(10):\n",
    "    seed = 123\n",
    "    ks_stat, p_value = ks_test(fake_stops_stop_times_trips.sample(min_, random_state=seed), real_stops_stop_times_trips.sample(min_, random_state=seed))\n",
    "    ks_stats.append(ks_stat)\n",
    "    p_values.append(p_value)\n",
    "    seed += 1\n",
    "ks_test_result.append(str(round((1-np.mean(np.mean(ks_stats)))*100, 1)) + '% similar in distribution')\n",
    "ks_test_result.append(np.mean(p_values))"
   ]
  },
  {
   "cell_type": "code",
   "execution_count": 150,
   "id": "330a4d54-5a67-490b-95c9-8d3bb77d71df",
   "metadata": {},
   "outputs": [
    {
     "name": "stdout",
     "output_type": "stream",
     "text": [
      "statistics: 63.5% similar in distribution\n"
     ]
    }
   ],
   "source": [
    "print(f'statistics: {ks_test_result[0]}')"
   ]
  },
  {
   "cell_type": "markdown",
   "id": "1c93c74d-16ea-476c-aa18-418bad7f0549",
   "metadata": {},
   "source": [
    "# CTGAN"
   ]
  },
  {
   "cell_type": "code",
   "execution_count": 151,
   "id": "5c623abc-5eb1-47c1-8a93-d16984ddef2f",
   "metadata": {
    "scrolled": true,
    "tags": []
   },
   "outputs": [],
   "source": [
    "# def collection_gtgan_training(data_collection, multi_metadata):\n",
    "#     generator_dict = {}\n",
    "#     for df_name, df in data_collection.items():\n",
    "#         synthesizer = CTGANSynthesizer(\n",
    "#             multi_metadata.tables[df_name],\n",
    "#             enforce_rounding=False,\n",
    "#             epochs=100,\n",
    "#             verbose=True,\n",
    "#             batch_size=130,\n",
    "#             discriminator_lr = 0.0001,\n",
    "#             generator_lr = 0.0002\n",
    "#         )\n",
    "#         synthesizer.fit(df)\n",
    "#         synthesizer.save(\n",
    "#             filepath='models_single/'+df_name+'_ctgan.pkl'\n",
    "#         )"
   ]
  },
  {
   "cell_type": "code",
   "execution_count": 152,
   "id": "78b3b9f0-0ad1-4844-abad-ec82f8678c95",
   "metadata": {
    "scrolled": true,
    "tags": []
   },
   "outputs": [],
   "source": [
    "# collection_gtgan_training(real_data_collection, sdv_metadata)"
   ]
  },
  {
   "cell_type": "markdown",
   "id": "82631e23-2212-443a-aa0e-d64797932015",
   "metadata": {},
   "source": [
    "# CopulaGAN"
   ]
  },
  {
   "cell_type": "code",
   "execution_count": 153,
   "id": "74167506-57d5-4d9a-bc0e-02cfae171ea0",
   "metadata": {},
   "outputs": [],
   "source": [
    "# def collection_copulagan_training(data_collection, multi_metadata):\n",
    "#     generator_dict = {}\n",
    "#     for df_name, df in data_collection.items():\n",
    "#         synthesizer = CopulaGANSynthesizer(\n",
    "#             multi_metadata.tables[df_name],\n",
    "#             enforce_min_max_values=True,\n",
    "#             enforce_rounding=False,\n",
    "#             epochs=100,\n",
    "#             batch_size=130,\n",
    "#             verbose=True\n",
    "#         )\n",
    "#         synthesizer.fit(df)\n",
    "#         synthesizer.save(\n",
    "#             filepath='models_single/'+df_name+'_copulagan.pkl'\n",
    "#         )"
   ]
  },
  {
   "cell_type": "code",
   "execution_count": 154,
   "id": "564cf188-8803-4976-8c5f-67ada0660010",
   "metadata": {
    "scrolled": true,
    "tags": []
   },
   "outputs": [],
   "source": [
    "# collection_copulagan_training(real_data_collection, sdv_metadata)"
   ]
  },
  {
   "cell_type": "markdown",
   "id": "14c3b278-7c69-40ec-bc0a-a1c36e654e1a",
   "metadata": {},
   "source": [
    "# GaussianCopula"
   ]
  },
  {
   "cell_type": "code",
   "execution_count": 155,
   "id": "f83e36af-2d9e-4ae8-91f3-63fe00e45034",
   "metadata": {},
   "outputs": [],
   "source": [
    "# def collection_gaussiancopula_training(data_collection, multi_metadata):\n",
    "#     generator_dict = {}\n",
    "#     for df_name, df in data_collection.items():\n",
    "#         synthesizer = GaussianCopulaSynthesizer(\n",
    "#             multi_metadata.tables[df_name],\n",
    "#             enforce_min_max_values=True,\n",
    "#             enforce_rounding=True,\n",
    "#             default_distribution='norm',\n",
    "#         )\n",
    "#         synthesizer.fit(df)\n",
    "#         synthesizer.save(\n",
    "#             filepath='models_single/'+df_name+'_gaussiancopula.pkl'\n",
    "#         )"
   ]
  },
  {
   "cell_type": "code",
   "execution_count": 156,
   "id": "2048d0b2-64fc-4476-b742-3a2dc75697c7",
   "metadata": {
    "scrolled": true,
    "tags": []
   },
   "outputs": [],
   "source": [
    "# collection_gaussiancopula_training(real_data_collection, sdv_metadata)"
   ]
  },
  {
   "cell_type": "code",
   "execution_count": 157,
   "id": "1a2875af-01c5-4070-b4c9-ef1eb8f495f8",
   "metadata": {},
   "outputs": [],
   "source": [
    "# gc_synthetic_data_collection = {}\n",
    "# for df_name, content in generation_dict.items():\n",
    "#     synthesizer = GaussianCopulaSynthesizer.load(\n",
    "#         filepath='models_single/'+df_name+'_gaussiancopula.pkl'\n",
    "#     )\n",
    "#     gc_synthetic_data_collection[df_name] = synthesizer.sample(\n",
    "#         num_rows=content['nrows']\n",
    "#     )"
   ]
  },
  {
   "cell_type": "code",
   "execution_count": 158,
   "id": "6e340144-0da4-41ee-a333-3812c89f389f",
   "metadata": {
    "scrolled": true,
    "tags": []
   },
   "outputs": [],
   "source": [
    "# gc_synthetic_data_collection"
   ]
  },
  {
   "cell_type": "code",
   "execution_count": 159,
   "id": "73622da6-8c36-48b8-84fc-8d711c8db802",
   "metadata": {
    "scrolled": true,
    "tags": []
   },
   "outputs": [],
   "source": [
    "# cos_test(gc_synthetic_data_collection, real_data_collection)"
   ]
  },
  {
   "cell_type": "code",
   "execution_count": 160,
   "id": "26bcf7ae-2047-4ccf-8f28-e13fb2c0ebb6",
   "metadata": {
    "scrolled": true,
    "tags": []
   },
   "outputs": [],
   "source": [
    "# batch_ks_test(gc_synthetic_data_collection, real_data_collection)"
   ]
  },
  {
   "cell_type": "markdown",
   "id": "9616d652-7c5f-425a-9328-109f5cd2b0a1",
   "metadata": {},
   "source": [
    "# TVAE"
   ]
  },
  {
   "cell_type": "code",
   "execution_count": 161,
   "id": "f92af736-2ba6-495a-89b2-3ceb104b34ae",
   "metadata": {},
   "outputs": [],
   "source": [
    "# def collection_tvae_training(data_collection, multi_metadata):\n",
    "#     generator_dict = {}\n",
    "#     for df_name, df in data_collection.items():\n",
    "#         synthesizer = TVAESynthesizer(\n",
    "#             multi_metadata.tables[df_name],\n",
    "#             enforce_min_max_values=True,\n",
    "#             enforce_rounding=False,\n",
    "#             epochs=100,\n",
    "#             batch_size=130\n",
    "#         )\n",
    "#         synthesizer.fit(df)\n",
    "#         synthesizer.save(\n",
    "#             filepath='models_single/'+df_name+'_tvae.pkl'\n",
    "#         )"
   ]
  },
  {
   "cell_type": "code",
   "execution_count": 162,
   "id": "40cbae48-4abe-4c07-bf76-2a2d1ef10565",
   "metadata": {
    "scrolled": true,
    "tags": []
   },
   "outputs": [],
   "source": [
    "# collection_tvae_training(real_data_collection, sdv_metadata)"
   ]
  },
  {
   "cell_type": "code",
   "execution_count": 163,
   "id": "b2cd60b8-5978-47eb-8c8e-3dfb7ba90ec4",
   "metadata": {},
   "outputs": [],
   "source": [
    "# tvae_synthetic_data_collection = {}\n",
    "# for df_name, content in generation_dict.items():\n",
    "#     synthesizer = TVAESynthesizer.load(\n",
    "#         filepath='models_single/'+df_name+'_tvae.pkl'\n",
    "#     )\n",
    "#     tvae_synthetic_data_collection[df_name] = synthesizer.sample(\n",
    "#         num_rows=content['nrows']\n",
    "#     )"
   ]
  },
  {
   "cell_type": "markdown",
   "id": "5e3a90a7-9790-4b65-a30f-abf402045aba",
   "metadata": {
    "tags": []
   },
   "source": [
    "# HMA"
   ]
  },
  {
   "cell_type": "code",
   "execution_count": 164,
   "id": "42916958-fe4c-4e8b-8dab-33fc8019c6b6",
   "metadata": {
    "scrolled": true,
    "tags": []
   },
   "outputs": [],
   "source": [
    "# synthesizer = HMASynthesizer(sdv_metadata)\n",
    "# synthesizer.fit(real_data_collection)"
   ]
  },
  {
   "cell_type": "code",
   "execution_count": null,
   "id": "28bf5113-3dcd-4d60-918f-5b489688de1c",
   "metadata": {},
   "outputs": [],
   "source": []
  }
 ],
 "metadata": {
  "kernelspec": {
   "display_name": "Python 3 (ipykernel)",
   "language": "python",
   "name": "python3"
  },
  "language_info": {
   "codemirror_mode": {
    "name": "ipython",
    "version": 3
   },
   "file_extension": ".py",
   "mimetype": "text/x-python",
   "name": "python",
   "nbconvert_exporter": "python",
   "pygments_lexer": "ipython3",
   "version": "3.9.16"
  },
  "toc-autonumbering": true
 },
 "nbformat": 4,
 "nbformat_minor": 5
}
