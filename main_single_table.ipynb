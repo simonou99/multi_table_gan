{
 "cells": [
  {
   "cell_type": "markdown",
   "id": "ed277bcc-0b53-44b4-9072-343f704588ca",
   "metadata": {
    "tags": []
   },
   "source": [
    "# import"
   ]
  },
  {
   "cell_type": "code",
   "execution_count": 1,
   "id": "9b6344e5-e74b-42a5-8a1d-95bd2f963a77",
   "metadata": {
    "tags": []
   },
   "outputs": [],
   "source": [
    "import os\n",
    "import time\n",
    "import random\n",
    "import numpy as np\n",
    "import pandas as pd\n",
    "import matplotlib.pyplot as plt\n",
    "# import tensorflow as tf\n",
    "from tensorflow.keras import layers, models, optimizers, losses, backend, constraints, initializers\n",
    "from tensorflow.compat.v1.logging import set_verbosity, ERROR\n",
    "from sklearn.preprocessing import MinMaxScaler, StandardScaler\n",
    "from sklearn import metrics\n",
    "from sklearn.decomposition import PCA\n",
    "from sklearn.impute import SimpleImputer\n",
    "from scipy.stats import kstest, gaussian_kde, ks_2samp, chi2_contingency, wasserstein_distance\n",
    "from sdv.metadata import SingleTableMetadata"
   ]
  },
  {
   "cell_type": "code",
   "execution_count": 2,
   "id": "cfdcbabf-f624-4961-93c2-1232ffdeffcd",
   "metadata": {},
   "outputs": [],
   "source": [
    "set_verbosity(ERROR)"
   ]
  },
  {
   "cell_type": "markdown",
   "id": "9f6aa2d4-7b51-45ff-bc4a-1d3e9d7a0b65",
   "metadata": {
    "tags": []
   },
   "source": [
    "# load data"
   ]
  },
  {
   "cell_type": "code",
   "execution_count": 3,
   "id": "37644fb8-5f08-496c-8403-c221fb097027",
   "metadata": {},
   "outputs": [],
   "source": [
    "def load_data_collection(dir_path):\n",
    "    gtfs_files = [f for f in os.listdir(dir_path) if f.endswith('.csv') or f.endswith('.txt')]\n",
    "    data_collection = {}\n",
    "    for f in gtfs_files:\n",
    "        f_path = os.path.join(dir_path, f)\n",
    "        data = pd.read_csv(f_path)\n",
    "        if data.shape[0] > 1:\n",
    "            data_collection[f.split(\".\")[0]] = data\n",
    "    return data_collection"
   ]
  },
  {
   "cell_type": "code",
   "execution_count": 4,
   "id": "43100845-8f4f-4fb9-b765-073cdfe09426",
   "metadata": {},
   "outputs": [],
   "source": [
    "real_data_collection = load_data_collection(\"gtfs\")"
   ]
  },
  {
   "cell_type": "code",
   "execution_count": 5,
   "id": "0112f797-2f74-4718-924b-dcffd5e225f2",
   "metadata": {},
   "outputs": [],
   "source": [
    "del real_data_collection['shapes']"
   ]
  },
  {
   "cell_type": "markdown",
   "id": "3d32eaa0-eabc-4467-ad07-86aa07941ce5",
   "metadata": {},
   "source": [
    "## Create Metadata"
   ]
  },
  {
   "cell_type": "code",
   "execution_count": 6,
   "id": "b185c1d6-6ba7-42a7-9038-a114ac10fe0a",
   "metadata": {},
   "outputs": [],
   "source": [
    "def auto_detect_relation(data_collection):\n",
    "    metadata = {}\n",
    "    for df_name, df in data_collection.items():\n",
    "        parent = {}\n",
    "        child = []\n",
    "        primary_key = []\n",
    "        foreign_key = []\n",
    "        for col in df.columns:\n",
    "            if 'id' in col:\n",
    "                if df[col].nunique() == len(df):\n",
    "                    primary_key = [col, len(df)]\n",
    "                else:\n",
    "                    foreign_key.append(col)\n",
    "        for foreign_df_name, foreign_df in data_collection.items():\n",
    "            if foreign_df_name != df_name:\n",
    "                for col in foreign_df.columns:\n",
    "                    if 'id' in col:\n",
    "                        for fr_k in foreign_key:\n",
    "                            if col == fr_k and foreign_df[col].nunique() == len(foreign_df):\n",
    "                                parent[foreign_df_name] = fr_k\n",
    "                        if primary_key != []:\n",
    "                            if col == primary_key[0] and foreign_df[col].nunique() != len(foreign_df):\n",
    "                                child.append(foreign_df_name)\n",
    "        metadata[df_name] = {'primary_key':primary_key,\n",
    "                             'parent':parent,\n",
    "                             'child':child}\n",
    "    return metadata"
   ]
  },
  {
   "cell_type": "code",
   "execution_count": 7,
   "id": "f2b28726-97c5-43ae-b3a7-16b40e42ffd0",
   "metadata": {},
   "outputs": [],
   "source": [
    "realtions = auto_detect_relation(real_data_collection)"
   ]
  },
  {
   "cell_type": "code",
   "execution_count": 8,
   "id": "f6991658-f36e-42a4-93bb-48cc32823426",
   "metadata": {},
   "outputs": [
    {
     "data": {
      "text/plain": [
       "{'agency': {'primary_key': ['agency_id', 15],\n",
       "  'parent': {},\n",
       "  'child': ['routes']},\n",
       " 'calendar': {'primary_key': ['service_id', 121],\n",
       "  'parent': {},\n",
       "  'child': ['calendar_dates', 'trips']},\n",
       " 'calendar_dates': {'primary_key': [],\n",
       "  'parent': {'calendar': 'service_id'},\n",
       "  'child': []},\n",
       " 'routes': {'primary_key': ['route_id', 215],\n",
       "  'parent': {'agency': 'agency_id'},\n",
       "  'child': ['trips']},\n",
       " 'stops': {'primary_key': ['stop_id', 6714],\n",
       "  'parent': {},\n",
       "  'child': ['stop_times']},\n",
       " 'stop_times': {'primary_key': [],\n",
       "  'parent': {'stops': 'stop_id', 'trips': 'trip_id'},\n",
       "  'child': []},\n",
       " 'trips': {'primary_key': ['trip_id', 32403],\n",
       "  'parent': {'calendar': 'service_id', 'routes': 'route_id'},\n",
       "  'child': ['stop_times']}}"
      ]
     },
     "execution_count": 8,
     "metadata": {},
     "output_type": "execute_result"
    }
   ],
   "source": [
    "realtions"
   ]
  },
  {
   "cell_type": "code",
   "execution_count": 9,
   "id": "f9b55551-0339-4b48-9b63-4c5eceefd9bd",
   "metadata": {
    "tags": []
   },
   "outputs": [],
   "source": [
    "# {'agency': {'primary_key': ['agency_id', 15],\n",
    "#   'parent': {},\n",
    "#   'child': ['routes']},\n",
    "#  'calendar': {'primary_key': ['service_id', 121],\n",
    "#   'parent': {},\n",
    "#   'child': ['calendar_dates', 'trips']},\n",
    "#  'calendar_dates': {'primary_key': [],\n",
    "#   'parent': {'calendar': 'service_id'},\n",
    "#   'child': []},\n",
    "#  'routes': {'primary_key': ['route_id', 215],\n",
    "#   'parent': {'agency': 'agency_id'},\n",
    "#   'child': ['trips']},\n",
    "#  'stops': {'primary_key': ['stop_id', 6714],\n",
    "#   'parent': {},\n",
    "#   'child': ['stop_times']},\n",
    "#  'stop_times': {'primary_key': [],\n",
    "#   'parent': {'stops': 'stop_id', 'trips': 'trip_id'},\n",
    "#   'child': []},\n",
    "#  'trips': {'primary_key': ['trip_id', 32403],\n",
    "#   'parent': {'calendar': 'service_id', 'routes': 'route_id'},\n",
    "#   'child': ['stop_times']}}"
   ]
  },
  {
   "cell_type": "markdown",
   "id": "0030c3c8-efd3-4412-a936-e735a0ff0d11",
   "metadata": {},
   "source": [
    "# preprocess"
   ]
  },
  {
   "cell_type": "markdown",
   "id": "4d1e7358-b862-4454-9aed-31db0d173336",
   "metadata": {},
   "source": [
    "## Create Factorization Dictionary:"
   ]
  },
  {
   "cell_type": "code",
   "execution_count": 10,
   "id": "5ff1369a-a7a4-47cc-a367-96a7e7b08378",
   "metadata": {},
   "outputs": [],
   "source": [
    "def create_factorization_dict(data_collection, realtions):\n",
    "    factor_dict = {}\n",
    "    for df_name, df in data_collection.items():\n",
    "        local_id_dict = {}\n",
    "        primary_key_info = realtions[df_name]['primary_key']\n",
    "        if primary_key_info != []:\n",
    "            local_id_dict = {k:v for v,k in enumerate(df[primary_key_info[0]].unique())}\n",
    "            factor_dict[primary_key_info[0]] = local_id_dict\n",
    "    return factor_dict"
   ]
  },
  {
   "cell_type": "code",
   "execution_count": 11,
   "id": "e3850f6f-7c99-47d2-b7c9-39ca72af8159",
   "metadata": {
    "scrolled": true,
    "tags": []
   },
   "outputs": [],
   "source": [
    "factorization_dict = create_factorization_dict(real_data_collection, realtions)"
   ]
  },
  {
   "cell_type": "markdown",
   "id": "b40b1167-958e-4998-9c4b-d308e43d23d3",
   "metadata": {},
   "source": [
    "## Format Individual Table:"
   ]
  },
  {
   "cell_type": "code",
   "execution_count": 12,
   "id": "ea160cb7-5a00-4415-9db6-65a1fed80c6d",
   "metadata": {},
   "outputs": [],
   "source": [
    "def individual_preprocess_dict():\n",
    "    preprocess_dict = {}\n",
    "    preprocess_dict['transformation'] = {}\n",
    "    preprocess_dict['transformation']['drop'] = []\n",
    "    preprocess_dict['transformation']['factorize'] = []\n",
    "    preprocess_dict['transformation']['to_strip'] = []\n",
    "    preprocess_dict['transformation']['to_elapsed_time'] = []\n",
    "    preprocess_dict['transformation']['to_elapsed_days'] = []\n",
    "    preprocess_dict['nans_conversion'] = {}\n",
    "    preprocess_dict['nans_conversion']['impute'] = []\n",
    "    preprocess_dict['nans_conversion']['replace_with_neg_one'] = []\n",
    "    preprocess_dict['nans_conversion']['replace_with_zeros'] = []\n",
    "    return preprocess_dict"
   ]
  },
  {
   "cell_type": "code",
   "execution_count": 13,
   "id": "a43626da-f738-4269-b5ff-62333d036e9d",
   "metadata": {},
   "outputs": [],
   "source": [
    "def format_individual_data(data, preprocess_dict, factorization_dict, timestamp = pd.Timestamp('1900-01-01')):\n",
    "    # reverse_transform_dict = {}\n",
    "    for stage in preprocess_dict.keys():\n",
    "        if stage == 'transformation':\n",
    "            for method, col_list in preprocess_dict[stage].items():\n",
    "                if len(col_list) != 0 or None:\n",
    "                    if method == 'drop':\n",
    "                        data = data.drop(col_list, axis=1)\n",
    "                    if method == 'factorize':\n",
    "                        for col in col_list:\n",
    "                            if col in factorization_dict.keys():\n",
    "                                data[col] = data[col].map(factorization_dict[col])\n",
    "                            else:\n",
    "                                data[col] = pd.factorize(data[col], sort=True)[0].astype(int)\n",
    "                    if method == 'to_strip':\n",
    "                        for col in col_list:\n",
    "                            # convert some column to numbers\n",
    "                            # e.g. `123-45-6` -> `123456`\n",
    "                            data[col] = data[col].str.replace(r'\\D', '')\n",
    "                    if method == \"to_elapsed_time\":\n",
    "                        for col in col_list:\n",
    "                            cur_col = pd.to_timedelta(data[col])\n",
    "                            cur_col = cur_col % pd.Timedelta(days=1)\n",
    "                            data[col] = cur_col.dt.total_seconds()\n",
    "                    if method == \"to_elapsed_days\":\n",
    "                        for col in col_list:\n",
    "                            cur_col = pd.to_datetime(data[col], format='%Y%m%d') - timestamp\n",
    "                            data[col] = cur_col.dt.days\n",
    "        if stage == 'nans_conversion':\n",
    "            for method, col_list in preprocess_dict[stage].items():\n",
    "                if len(col_list) != 0 or None:\n",
    "                    if method == 'impute':\n",
    "                        imputer = SimpleImputer(strategy='mean')\n",
    "                        data[col_list] = imputer.fit_transform(data[col_list])\n",
    "                    if method == 'replace_with_neg_one':\n",
    "                        data[col_list] = data[col_list].fillna(-1)\n",
    "                    if method == 'replace_with_zeros':\n",
    "                        data[col_list] = data[col_list].fillna(0)\n",
    "    # scaler = MinMaxScaler(feature_range=(-1, 1))\n",
    "    # scaled_data = scaler.fit_transform(data)\n",
    "    return data"
   ]
  },
  {
   "cell_type": "markdown",
   "id": "d5d2f690-595f-4824-982b-a4eacecc3910",
   "metadata": {},
   "source": [
    "## preprocess individual data"
   ]
  },
  {
   "cell_type": "code",
   "execution_count": 14,
   "id": "72f1077e-442d-4b59-ba02-c9cefd200b04",
   "metadata": {},
   "outputs": [],
   "source": [
    "metadata_collection = {}"
   ]
  },
  {
   "cell_type": "markdown",
   "id": "3941e82d-821f-447a-8c2e-8fca8749dfa0",
   "metadata": {},
   "source": [
    "### agency"
   ]
  },
  {
   "cell_type": "code",
   "execution_count": 15,
   "id": "bef7d9f3-25f6-42c0-8eb2-e9ded03b6dcb",
   "metadata": {},
   "outputs": [],
   "source": [
    "preprocess_dict = individual_preprocess_dict()\n",
    "preprocess_dict['transformation']['drop'] = ['agency_name','agency_fare_url','agency_email']\n",
    "preprocess_dict['transformation']['factorize'] = ['agency_id','agency_url','agency_timezone','agency_lang','agency_phone']\n",
    "real_data_collection['agency'] = format_individual_data(real_data_collection['agency'], preprocess_dict, factorization_dict)"
   ]
  },
  {
   "cell_type": "code",
   "execution_count": 16,
   "id": "2dd6d011-ef80-4f19-a705-893096171777",
   "metadata": {},
   "outputs": [],
   "source": [
    "metadata_collection['agency'] = SingleTableMetadata()\n",
    "metadata_collection['agency'].detect_from_dataframe(data=real_data_collection['agency'])\n",
    "metadata_collection['agency'].update_column(column_name='agency_id',sdtype='id')\n",
    "metadata_collection['agency'].update_column(column_name='agency_url',sdtype='categorical')\n",
    "metadata_collection['agency'].update_column(column_name='agency_timezone',sdtype='categorical')\n",
    "metadata_collection['agency'].update_column(column_name='agency_lang',sdtype='categorical')\n",
    "metadata_collection['agency'].update_column(column_name='agency_phone',sdtype='categorical')\n",
    "metadata_collection['agency'].set_primary_key(column_name='agency_id')"
   ]
  },
  {
   "cell_type": "markdown",
   "id": "8f278677-b5b3-4252-8141-0a142b47562c",
   "metadata": {},
   "source": [
    "### calendar"
   ]
  },
  {
   "cell_type": "code",
   "execution_count": 17,
   "id": "dfcca997-62df-47a3-abe4-b55842d25af5",
   "metadata": {},
   "outputs": [],
   "source": [
    "preprocess_dict = individual_preprocess_dict()\n",
    "preprocess_dict['transformation']['factorize'] = ['service_id']\n",
    "preprocess_dict['transformation']['to_elapsed_days'] = ['start_date','end_date']\n",
    "real_data_collection['calendar'] = format_individual_data(real_data_collection['calendar'], preprocess_dict, factorization_dict)"
   ]
  },
  {
   "cell_type": "code",
   "execution_count": 18,
   "id": "873a19b6-d2e6-4892-a17f-001459ef3ecd",
   "metadata": {},
   "outputs": [],
   "source": [
    "metadata_collection['calendar'] = SingleTableMetadata()\n",
    "metadata_collection['calendar'].detect_from_dataframe(data=real_data_collection['calendar'])\n",
    "metadata_collection['calendar'].update_column(column_name='service_id',sdtype='id')\n",
    "metadata_collection['calendar'].update_column(column_name='monday',sdtype='categorical')\n",
    "metadata_collection['calendar'].update_column(column_name='tuesday',sdtype='categorical')\n",
    "metadata_collection['calendar'].update_column(column_name='wednesday',sdtype='categorical')\n",
    "metadata_collection['calendar'].update_column(column_name='thursday',sdtype='categorical')\n",
    "metadata_collection['calendar'].update_column(column_name='friday',sdtype='categorical')\n",
    "metadata_collection['calendar'].update_column(column_name='saturday',sdtype='categorical')\n",
    "metadata_collection['calendar'].update_column(column_name='sunday',sdtype='categorical')\n",
    "metadata_collection['calendar'].update_column(column_name='start_date',sdtype='numerical',computer_representation='Int32')\n",
    "metadata_collection['calendar'].update_column(column_name='end_date',sdtype='numerical',computer_representation='Int32')\n",
    "metadata_collection['calendar'].set_primary_key(column_name='service_id')"
   ]
  },
  {
   "cell_type": "markdown",
   "id": "374b8652-4e4b-4f33-9a9a-5cd3c3717668",
   "metadata": {},
   "source": [
    "### calendar_dates"
   ]
  },
  {
   "cell_type": "code",
   "execution_count": 19,
   "id": "38deb9ca-8215-4891-8d19-c437ffda9877",
   "metadata": {},
   "outputs": [],
   "source": [
    "preprocess_dict = individual_preprocess_dict()\n",
    "preprocess_dict['transformation']['factorize'] = ['service_id']\n",
    "preprocess_dict['transformation']['to_elapsed_days'] = ['date']\n",
    "real_data_collection['calendar_dates'] = format_individual_data(real_data_collection['calendar_dates'], preprocess_dict, factorization_dict)"
   ]
  },
  {
   "cell_type": "code",
   "execution_count": 20,
   "id": "983ba5cc-5784-43dc-aaa5-4ac537b0c8c5",
   "metadata": {},
   "outputs": [],
   "source": [
    "metadata_collection['calendar_dates'] = SingleTableMetadata()\n",
    "metadata_collection['calendar_dates'].detect_from_dataframe(data=real_data_collection['calendar_dates'])\n",
    "metadata_collection['calendar_dates'].update_column(column_name='service_id',sdtype='id')\n",
    "metadata_collection['calendar_dates'].update_column(column_name='date',sdtype='numerical',computer_representation='Int32')\n",
    "metadata_collection['calendar_dates'].update_column(column_name='exception_type',sdtype='categorical')"
   ]
  },
  {
   "cell_type": "markdown",
   "id": "727e21f9-890a-4a8b-99a9-fb852ae82195",
   "metadata": {},
   "source": [
    "### routes"
   ]
  },
  {
   "cell_type": "code",
   "execution_count": 21,
   "id": "fd77431d-7d88-4dce-9121-a04f4c12c547",
   "metadata": {},
   "outputs": [],
   "source": [
    "preprocess_dict = individual_preprocess_dict()\n",
    "preprocess_dict['transformation']['drop'] = ['route_short_name','route_long_name','route_desc','route_url','route_sort_order']\n",
    "preprocess_dict['transformation']['factorize'] = ['route_id',\n",
    "                                                  'agency_id',\n",
    "                                                 'route_color',\n",
    "                                                 'route_text_color',\n",
    "                                                 'contract_id']\n",
    "preprocess_dict['nans_conversion']['impute'] = ['route_color','route_text_color']\n",
    "real_data_collection['routes'] = format_individual_data(real_data_collection['routes'], preprocess_dict, factorization_dict)"
   ]
  },
  {
   "cell_type": "code",
   "execution_count": 22,
   "id": "cdd31291-b15e-48d1-a28c-9e3585250c22",
   "metadata": {
    "scrolled": true,
    "tags": []
   },
   "outputs": [],
   "source": [
    "real_data_collection['routes']['route_color'] = real_data_collection['routes']['route_color'].astype(int)\n",
    "real_data_collection['routes']['route_text_color'] = real_data_collection['routes']['route_text_color'].astype(int)"
   ]
  },
  {
   "cell_type": "code",
   "execution_count": 24,
   "id": "8975fd6f-a036-49bd-a4ef-378d9a7583d4",
   "metadata": {},
   "outputs": [],
   "source": [
    "metadata_collection['routes'] = SingleTableMetadata()\n",
    "metadata_collection['routes'].detect_from_dataframe(data=real_data_collection['routes'])\n",
    "metadata_collection['routes'].update_column(column_name='route_id',sdtype='id')\n",
    "metadata_collection['routes'].update_column(column_name='agency_id',sdtype='id')\n",
    "metadata_collection['routes'].update_column(column_name='route_type',sdtype='categorical')\n",
    "metadata_collection['routes'].update_column(column_name='route_color',sdtype='categorical')\n",
    "metadata_collection['routes'].update_column(column_name='route_text_color',sdtype='categorical')\n",
    "metadata_collection['routes'].update_column(column_name='contract_id',sdtype='id')\n",
    "metadata_collection['routes'].set_primary_key(column_name='route_id')"
   ]
  },
  {
   "cell_type": "markdown",
   "id": "7f5c8015-fd45-4741-9393-f7c2815f7851",
   "metadata": {},
   "source": [
    "### stops"
   ]
  },
  {
   "cell_type": "code",
   "execution_count": 25,
   "id": "8e61ffc7-1168-4333-b4a3-3f9e44bf89cf",
   "metadata": {},
   "outputs": [],
   "source": [
    "preprocess_dict = individual_preprocess_dict()\n",
    "preprocess_dict['transformation']['factorize'] = ['stop_id','parent_station','platform_code']\n",
    "preprocess_dict['transformation']['to_elapsed_days'] = ['start_date','end_date']\n",
    "preprocess_dict['transformation']['drop'] = ['stop_name','stop_code','stop_desc','zone_id','stop_url','stop_timezone']\n",
    "preprocess_dict['nans_conversion']['impute'] = ['parent_station','platform_code']\n",
    "real_data_collection['stops'] = format_individual_data(real_data_collection['stops'], preprocess_dict, factorization_dict)"
   ]
  },
  {
   "cell_type": "code",
   "execution_count": 26,
   "id": "b925ab2a-346e-43ca-9fe9-49246c500fa2",
   "metadata": {},
   "outputs": [],
   "source": [
    "real_data_collection['stops']['parent_station'] = real_data_collection['stops']['parent_station'].astype(int)\n",
    "real_data_collection['stops']['platform_code'] = real_data_collection['stops']['platform_code'].astype(int)"
   ]
  },
  {
   "cell_type": "code",
   "execution_count": 27,
   "id": "cfdb3eb1-e122-4226-9e4e-65cb6b57950e",
   "metadata": {},
   "outputs": [],
   "source": [
    "metadata_collection['stops'] = SingleTableMetadata()\n",
    "metadata_collection['stops'].detect_from_dataframe(data=real_data_collection['stops'])\n",
    "metadata_collection['stops'].update_column(column_name='stop_id',sdtype='id')\n",
    "metadata_collection['stops'].update_column(column_name='stop_lat',sdtype='numerical',computer_representation='Float')\n",
    "metadata_collection['stops'].update_column(column_name='stop_lon',sdtype='numerical',computer_representation='Float')\n",
    "metadata_collection['stops'].update_column(column_name='location_type',sdtype='categorical')\n",
    "metadata_collection['stops'].update_column(column_name='parent_station',sdtype='categorical')\n",
    "metadata_collection['stops'].update_column(column_name='platform_code',sdtype='categorical')\n",
    "metadata_collection['stops'].update_column(column_name='wheelchair_boarding',sdtype='categorical')\n",
    "metadata_collection['stops'].update_column(column_name='start_date',sdtype='numerical',computer_representation='Int32')\n",
    "metadata_collection['stops'].update_column(column_name='end_date',sdtype='numerical',computer_representation='Int32')\n",
    "metadata_collection['stops'].set_primary_key(column_name='stop_id')"
   ]
  },
  {
   "cell_type": "markdown",
   "id": "b0265679-0e19-4597-8554-42c4963f8f8c",
   "metadata": {},
   "source": [
    "### stop_times"
   ]
  },
  {
   "cell_type": "code",
   "execution_count": 28,
   "id": "04cf6ba2-8f2e-4def-96af-560e9515146f",
   "metadata": {},
   "outputs": [],
   "source": [
    "preprocess_dict = individual_preprocess_dict()\n",
    "preprocess_dict['transformation']['factorize'] = ['trip_id','stop_id','stop_headsign']\n",
    "preprocess_dict['transformation']['to_elapsed_time'] = ['arrival_time','departure_time']\n",
    "real_data_collection['stop_times'] = format_individual_data(real_data_collection['stop_times'], preprocess_dict, factorization_dict)"
   ]
  },
  {
   "cell_type": "code",
   "execution_count": 29,
   "id": "6d9774c0-dcd9-44b5-9935-deec159401e5",
   "metadata": {},
   "outputs": [],
   "source": [
    "real_data_collection['stop_times']['arrival_time'] = real_data_collection['stop_times']['arrival_time'].astype(int)\n",
    "real_data_collection['stop_times']['departure_time'] = real_data_collection['stop_times']['departure_time'].astype(int)"
   ]
  },
  {
   "cell_type": "code",
   "execution_count": 30,
   "id": "af845aa0-627e-4aa2-a2fc-e267333b4db1",
   "metadata": {},
   "outputs": [],
   "source": [
    "metadata_collection['stop_times'] = SingleTableMetadata()\n",
    "metadata_collection['stop_times'].detect_from_dataframe(data=real_data_collection['stop_times'])\n",
    "metadata_collection['stop_times'].update_column(column_name='trip_id',sdtype='id')\n",
    "metadata_collection['stop_times'].update_column(column_name='arrival_time',sdtype='numerical',computer_representation='Int32')\n",
    "metadata_collection['stop_times'].update_column(column_name='departure_time',sdtype='numerical',computer_representation='Int32')\n",
    "metadata_collection['stop_times'].update_column(column_name='stop_id',sdtype='id')\n",
    "metadata_collection['stop_times'].update_column(column_name='stop_sequence',sdtype='categorical')\n",
    "metadata_collection['stop_times'].update_column(column_name='stop_headsign',sdtype='categorical')\n",
    "metadata_collection['stop_times'].update_column(column_name='pickup_type',sdtype='categorical')\n",
    "metadata_collection['stop_times'].update_column(column_name='drop_off_type',sdtype='categorical')\n",
    "metadata_collection['stop_times'].update_column(column_name='shape_dist_traveled',sdtype='numerical',computer_representation='Float')\n",
    "metadata_collection['stop_times'].update_column(column_name='timepoint',sdtype='categorical')"
   ]
  },
  {
   "cell_type": "markdown",
   "id": "b5b77631-6496-485c-b725-cd0f7fa88cd5",
   "metadata": {},
   "source": [
    "### trips"
   ]
  },
  {
   "cell_type": "code",
   "execution_count": 31,
   "id": "c4fe2aa8-61f4-4cab-9d65-ede31a55b844",
   "metadata": {
    "tags": []
   },
   "outputs": [],
   "source": [
    "preprocess_dict = individual_preprocess_dict()\n",
    "preprocess_dict['transformation']['factorize'] = ['route_id','service_id','trip_id','trip_headsign','shape_id']\n",
    "preprocess_dict['transformation']['drop'] = ['trip_short_name','block_id']\n",
    "real_data_collection['trips'] = format_individual_data(real_data_collection['trips'], preprocess_dict, factorization_dict)"
   ]
  },
  {
   "cell_type": "code",
   "execution_count": 33,
   "id": "026fa4d3-b366-4f27-a9db-753ddf3c48fe",
   "metadata": {
    "tags": []
   },
   "outputs": [],
   "source": [
    "metadata_collection['trips'] = SingleTableMetadata()\n",
    "metadata_collection['trips'].detect_from_dataframe(data=real_data_collection['trips'])\n",
    "metadata_collection['trips'].update_column(column_name='route_id',sdtype='id')\n",
    "metadata_collection['trips'].update_column(column_name='service_id',sdtype='id')\n",
    "metadata_collection['trips'].update_column(column_name='trip_id',sdtype='id')\n",
    "metadata_collection['trips'].update_column(column_name='trip_headsign',sdtype='categorical')\n",
    "metadata_collection['trips'].update_column(column_name='direction_id',sdtype='id')\n",
    "metadata_collection['trips'].update_column(column_name='shape_id',sdtype='id')\n",
    "metadata_collection['trips'].update_column(column_name='wheelchair_accessible',sdtype='categorical')\n",
    "metadata_collection['trips'].update_column(column_name='bikes_allowed',sdtype='categorical')\n",
    "metadata_collection['trips'].set_primary_key(column_name='trip_id')"
   ]
  },
  {
   "cell_type": "markdown",
   "id": "d8fa2e80-2ca0-4d2c-881d-94de5c331119",
   "metadata": {},
   "source": [
    "## Scaling"
   ]
  },
  {
   "cell_type": "code",
   "execution_count": 34,
   "id": "8846e997-fe62-44f4-9492-03ef527737f8",
   "metadata": {},
   "outputs": [],
   "source": [
    "def scale_individual_df(df):\n",
    "    scaler = MinMaxScaler(feature_range=(-1,1))\n",
    "    scaler = scaler.fit(df)\n",
    "    scaled_df = pd.DataFrame(scaler.transform(df), columns = df.columns)\n",
    "    return scaled_df, scaler"
   ]
  },
  {
   "cell_type": "code",
   "execution_count": 35,
   "id": "03722b31-e0c5-43b2-afd5-9cacfde38268",
   "metadata": {},
   "outputs": [],
   "source": [
    "# def extract_key_and_scaled_features(df, label_columns):\n",
    "#     labels = df[label_columns]\n",
    "#     table = df.drop(columns=label_columns)\n",
    "#     table_column_names = table.columns\n",
    "#     scaled_table, table_scaler = scale_individual_df(table)\n",
    "#     scaled_labels, labels_scaler = scale_individual_df(labels)\n",
    "#     return scaled_table, scaled_labels, table_scaler, labels_scaler, table_column_names"
   ]
  },
  {
   "cell_type": "code",
   "execution_count": 38,
   "id": "c140cf3f-8d9e-4df9-b1cc-984d95a9806a",
   "metadata": {},
   "outputs": [],
   "source": [
    "def batch_preprocessing(data_collection):\n",
    "    processed_data_collection = {}\n",
    "    for df_name, df in data_collection.items():\n",
    "        # primary_key = []\n",
    "        # foreign_key = []\n",
    "        # if metadata[df_name]['primary_key'] != []:\n",
    "        #     primary_key = [metadata[df_name]['primary_key'][0]]\n",
    "        # if metadata[df_name]['parent'] != {}:\n",
    "        #     foreign_key = list(metadata[df_name]['parent'].values())\n",
    "        # label_columns = primary_key + foreign_key\n",
    "        scaled_df, scaler = scale_individual_df(df)\n",
    "        processed_data_collection[df_name] = {\n",
    "            'scaled_data':scaled_df,\n",
    "            'scaler':scaler,\n",
    "            'col_names':df.columns\n",
    "        }\n",
    "    return processed_data_collection"
   ]
  },
  {
   "cell_type": "code",
   "execution_count": 39,
   "id": "1722d31b-d5f0-4543-aad2-809933ae3f66",
   "metadata": {},
   "outputs": [],
   "source": [
    "processed_data_collection = batch_preprocessing(real_data_collection)\n",
    "# del real_data_collection"
   ]
  },
  {
   "cell_type": "markdown",
   "id": "cd49eb54-1738-4599-874d-571ca5fdd9be",
   "metadata": {},
   "source": [
    "# GAN Building"
   ]
  },
  {
   "cell_type": "markdown",
   "id": "5744d496-c6f4-4c88-a505-3b82acc3304b",
   "metadata": {},
   "source": [
    "## Additional Custom Function (Wasserstein Loss)"
   ]
  },
  {
   "cell_type": "code",
   "execution_count": 40,
   "id": "f33fe30f-4133-4f04-ba15-b695c11c8fb6",
   "metadata": {},
   "outputs": [],
   "source": [
    "def wasserstein_loss(y_true, y_pred):\n",
    "    return backend.mean(y_true*y_pred)"
   ]
  },
  {
   "cell_type": "code",
   "execution_count": 41,
   "id": "0b3671ca-a536-49cf-bef3-6023a1d5497e",
   "metadata": {},
   "outputs": [],
   "source": [
    "class ClipConstraint(constraints.Constraint):\n",
    "    def __init__(self, clip_value):\n",
    "        self.clip_value = clip_value\n",
    "        \n",
    "    def __call__(self, weights):\n",
    "        return backend.clip(weights, -self.clip_value, self.clip_value)\n",
    "    \n",
    "    def get_config(self):\n",
    "        return {'clip_value': self.clip_value}"
   ]
  },
  {
   "cell_type": "markdown",
   "id": "7d64966e-d261-41f4-92b1-0d979c9deceb",
   "metadata": {
    "tags": []
   },
   "source": [
    "## Define Plotting Function For G/D Loss"
   ]
  },
  {
   "cell_type": "code",
   "execution_count": 42,
   "id": "558eca6b-dc6e-45a4-a77d-5a2139ef78b2",
   "metadata": {},
   "outputs": [],
   "source": [
    "import matplotlib.pyplot as plt\n",
    "\n",
    "def plot_history(logs):\n",
    "    n = len(logs)\n",
    "    n_rows = (n + 2) // 3\n",
    "\n",
    "    fig, axes = plt.subplots(n_rows, 3, figsize=(15, 5 * n_rows), sharex=True, sharey=True)\n",
    "    axes = axes.flatten()\n",
    "\n",
    "    for i, (model_name, generator_log, discriminator_log) in enumerate(logs):\n",
    "        axes[i].plot(generator_log, label='gen')\n",
    "        axes[i].plot(discriminator_log, label='d')\n",
    "        axes[i].legend()\n",
    "        axes[i].set_title(model_name)\n",
    "\n",
    "    for i in range(n, n_rows * 3):\n",
    "        axes[i].remove()\n",
    "\n",
    "    plt.tight_layout()\n",
    "    plt.show()\n",
    "    plt.close()"
   ]
  },
  {
   "cell_type": "markdown",
   "id": "8134ba08-ad73-4d99-ae5d-a14e73c5a9d6",
   "metadata": {},
   "source": [
    "## (!) Define Main Generator, Discriminator"
   ]
  },
  {
   "cell_type": "code",
   "execution_count": 43,
   "id": "96d53099-c234-40c6-ad10-ede92dbe47ac",
   "metadata": {},
   "outputs": [],
   "source": [
    "def build_generator(output_dim, latent_dim=100):\n",
    "    noise_input = layers.Input(shape=(latent_dim,))\n",
    "    # labels_input = layers.Input(shape=(labels_dim,))\n",
    "    # merge_input = layers.Concatenate()([noise_input, labels_input])\n",
    "    bn_layer1 = layers.BatchNormalization()(noise_input)\n",
    "    hidden_layer1 = layers.Dense(16,activation='LeakyReLU',kernel_initializer='HeUniform')(bn_layer1)\n",
    "    hidden_layer2 = layers.Dense(32,activation='LeakyReLU')(hidden_layer1)\n",
    "    hidden_layer3 = layers.Dense(64,activation='LeakyReLU')(hidden_layer2)\n",
    "    bn_layer2 = layers.BatchNormalization()(hidden_layer3)\n",
    "    output_layer = layers.Dense(output_dim, activation='tanh')(bn_layer2)\n",
    "    generator = models.Model(noise_input, output_layer)\n",
    "    return generator"
   ]
  },
  {
   "cell_type": "code",
   "execution_count": 44,
   "id": "52d62f5a-2c81-424d-ad94-680d07d463c4",
   "metadata": {},
   "outputs": [],
   "source": [
    "def build_critic(input_dim, constraint_rate=0.001, optimization_rate=0.00005):\n",
    "    clip_const = ClipConstraint(constraint_rate)\n",
    "    rms_opt = optimizers.RMSprop(optimization_rate)\n",
    "    init = initializers.RandomUniform(minval=-1, maxval=1)\n",
    "    table_input = layers.Input(shape=(input_dim,))\n",
    "    # labels_input = layers.Input(shape=(labels_dim,))\n",
    "    # merge_input = layers.Concatenate()([table_input, labels_input])\n",
    "    bn_layer1 = layers.BatchNormalization()(table_input)\n",
    "    hidden_layer1 = layers.Dense(64,activation='LeakyReLU',kernel_constraint=clip_const,kernel_initializer=init)(bn_layer1)\n",
    "    hidden_layer2 = layers.Dense(32,activation='LeakyReLU',kernel_constraint=clip_const,kernel_initializer=init)(hidden_layer1)\n",
    "    hidden_layer3 = layers.Dense(16,activation='LeakyReLU',kernel_constraint=clip_const,kernel_initializer=init)(hidden_layer2)\n",
    "    bn_layer2 = layers.BatchNormalization()(hidden_layer3)\n",
    "    output_layer = layers.Dense(1, activation='linear')(bn_layer2)\n",
    "    discriminator = models.Model(table_input, output_layer)\n",
    "    discriminator.compile(loss=wasserstein_loss, optimizer=rms_opt)\n",
    "    return discriminator"
   ]
  },
  {
   "cell_type": "code",
   "execution_count": 45,
   "id": "931b95ef-fb22-48bb-aff3-e7886fc5f34e",
   "metadata": {
    "tags": []
   },
   "outputs": [],
   "source": [
    "# def build_critic(table_dim, labels_dim, constraint_rate=0.01, optimization_rate=0.00005):\n",
    "#     clip_const = ClipConstraint(constraint_rate)\n",
    "#     rms_opt = optimizers.RMSprop(optimization_rate)\n",
    "#     init = initializers.RandomUniform(minval=-1, maxval=1, seed=123)\n",
    "#     table_input = layers.Input(shape=(table_dim,))\n",
    "#     labels_input = layers.Input(shape=(labels_dim,))\n",
    "#     merge_input = layers.Concatenate()([table_input, labels_input])\n",
    "#     bn_layer1 = layers.BatchNormalization()(merge_input)\n",
    "#     hidden_layer1 = layers.Dense(128,activation='LeakyReLU',kernel_initializer=init)(bn_layer1)\n",
    "#     reshape_layer = layers.Reshape((4, 32))(hidden_layer1)\n",
    "#     conv1 = layers.Conv1D(64,\n",
    "#                           kernel_size=4,\n",
    "#                           strides=2,\n",
    "#                           padding=\"same\",\n",
    "#                           kernel_constraint=clip_const,\n",
    "#                           activation=\"LeakyReLU\")(reshape_layer)\n",
    "#     conv2 = layers.Conv1D(32,\n",
    "#                           kernel_size=4,\n",
    "#                           strides=2,\n",
    "#                           padding=\"same\",\n",
    "#                           kernel_constraint=clip_const,\n",
    "#                           activation=\"LeakyReLU\")(conv1)\n",
    "#     bn_layer2 = layers.BatchNormalization()(conv2)\n",
    "#     output_layer = layers.Dense(1, activation='linear')(bn_layer2)\n",
    "#     discriminator = models.Model([table_input, labels_input], output_layer)\n",
    "#     discriminator.compile(loss=wasserstein_loss, optimizer=rms_opt)\n",
    "#     return discriminator"
   ]
  },
  {
   "cell_type": "code",
   "execution_count": 46,
   "id": "07e822d9-2e5a-4e25-b946-eaeb8f3bbaab",
   "metadata": {},
   "outputs": [],
   "source": [
    "def build_gan(generator, discriminator, optimization_rate=0.00005):\n",
    "    discriminator.trainable = False\n",
    "    rms_opt = optimizers.RMSprop(optimization_rate)\n",
    "    # noise_input = layers.Input(shape=(generator.input_shape[0][1],))\n",
    "    # labels_input = layers.Input(shape=(generator.input_shape[1][1],))\n",
    "    # generator_output = generator([noise_input, labels_input])\n",
    "    # discriminator_output = discriminator([generator_output, labels_input])\n",
    "    gan = models.Sequential()\n",
    "    gan.add(generator)\n",
    "    gan.add(discriminator)\n",
    "    gan.compile(loss=wasserstein_loss,\n",
    "                 optimizer=rms_opt)\n",
    "    # gan = models.Model(inputs=[noise_input, labels_input], outputs=discriminator_output)\n",
    "    # gan.compile(optimizer=rms_opt, loss=wasserstein_loss)\n",
    "    return gan"
   ]
  },
  {
   "cell_type": "markdown",
   "id": "6dd2b8d7-5798-490f-bf13-8233ef51b8d3",
   "metadata": {},
   "source": [
    "## Define Training Strategy"
   ]
  },
  {
   "cell_type": "code",
   "execution_count": 47,
   "id": "8c39aa00-6c56-4ad7-97d3-e6c3d98cb67c",
   "metadata": {},
   "outputs": [],
   "source": [
    "def train_individual_gan(name, data, n_critic=5, epochs=50, batch_size=200, latent_dim=100, seed=123, return_logs=True):\n",
    "    rand_seed = seed\n",
    "    half_batch = int(batch_size/2)\n",
    "    # class_counts = real_labels.nunique().tolist()\n",
    "    # generator = build_generator(real_table.shape[1], real_labels.shape[1], latent_dim=latent_dim)\n",
    "    # critic = build_critic(real_table.shape[1], real_labels.shape[1])\n",
    "    generator = build_generator(data.shape[1], latent_dim=latent_dim)\n",
    "    critic = build_critic(data.shape[1])\n",
    "    gan = build_gan(generator, critic)\n",
    "    y_real = -1 * np.ones((half_batch, 1))\n",
    "    y_fake = np.ones((half_batch, 1))\n",
    "    y_gan = np.ones((batch_size, 1))\n",
    "    \n",
    "    if return_logs:\n",
    "        generator_logs = []\n",
    "        critic_logs = []\n",
    "    \n",
    "    for epoch in range(epochs):\n",
    "        np.random.seed(rand_seed)\n",
    "        start_time = time.time()\n",
    "        c_loss = []\n",
    "        \n",
    "        # train critic:\n",
    "        for _ in range(n_critic):\n",
    "            idx = np.random.randint(0, data.shape[0], half_batch)\n",
    "            noise = np.random.uniform(-1, 1, (half_batch, latent_dim))\n",
    "            x_real = data.iloc[idx]\n",
    "            x_fake = generator.predict(noise)\n",
    "            cur_c_loss_real = critic.train_on_batch(x_real, y_real)\n",
    "            cur_c_loss_fake = critic.train_on_batch(x_fake, y_fake)\n",
    "            c_loss.append(cur_c_loss_real - cur_c_loss_fake)\n",
    "            rand_seed ++1\n",
    "\n",
    "        # train generator/GAN\n",
    "        x_gan = np.random.uniform(-1, 1, (batch_size, latent_dim))\n",
    "        # x_fake_labels = np.column_stack([np.random.randint(0, class_counts, size=batch_size) for class_counts in class_counts])\n",
    "        # x_fake_table = generator.predict(x_gan)\n",
    "        g_loss = gan.train_on_batch(x_gan, y_gan)\n",
    "        \n",
    "        if return_logs:\n",
    "            generator_logs.append(g_loss)\n",
    "            critic_logs.append(np.mean(c_loss))\n",
    "            \n",
    "        elapsed_time = time.time() - start_time\n",
    "        it_per_s = 1 / elapsed_time\n",
    "        \n",
    "        if epoch % 10 == 0 or epoch == epochs-1:\n",
    "            print(f\"[Epoch: {epoch}] [C loss: {np.round(np.mean(c_loss), 3)}] [G loss: {np.round(g_loss, 3)}] [Speed: {round(it_per_s, 2)} it/s]\")\n",
    "        \n",
    "        rand_seed ++1\n",
    "        \n",
    "    generator.save('models_single/'+name+'_gan.h5')\n",
    "    \n",
    "    if return_logs:\n",
    "        return generator_logs, critic_logs"
   ]
  },
  {
   "cell_type": "code",
   "execution_count": 52,
   "id": "8ffe38c7-2d8e-4cfd-a7be-90b9f7804895",
   "metadata": {},
   "outputs": [],
   "source": [
    "def collection_training(data_collection, training_parameter_dict):\n",
    "    logs = []\n",
    "    init_time = time.time()\n",
    "    for df_name, content in data_collection.items():\n",
    "        start_time = time.time()\n",
    "        print(f'Learning \\\"{df_name}\\\" data......')\n",
    "        latent_dim = 100\n",
    "        generator_log, critic_log = train_individual_gan(df_name,\n",
    "                                                         content['scaled_data'],\n",
    "                                                         epochs=training_parameter_dict[df_name]['epochs'],\n",
    "                                                         latent_dim = latent_dim,\n",
    "                                                         return_logs=True)\n",
    "        in_loop_elapsed_time = time.time() - start_time\n",
    "        minutes, seconds = divmod(in_loop_elapsed_time, 60)\n",
    "        print(\"Time Used: %dm %ds\" % (minutes, seconds))\n",
    "        print('.')\n",
    "        print('.')\n",
    "        logs.append([df_name, generator_log, critic_log])\n",
    "    plot_history(logs)\n",
    "    total_elapsed_time = time.time() - init_time\n",
    "    minutes, seconds = divmod(total_elapsed_time, 60)\n",
    "    print(\"Total Time Used: %dm %ds\" % (minutes, seconds))"
   ]
  },
  {
   "cell_type": "markdown",
   "id": "df30c126-718f-4fb8-9e1f-788856cb0409",
   "metadata": {
    "tags": []
   },
   "source": [
    "## Train GAN"
   ]
  },
  {
   "cell_type": "code",
   "execution_count": 49,
   "id": "cfb636db-3776-4dcb-a3e8-b0296fe949ca",
   "metadata": {},
   "outputs": [],
   "source": [
    "# training_parameter_dict = {}\n",
    "# for df_name, content in processed_data_collection.items():\n",
    "#     nrows = content['table'].shape[0]\n",
    "#     # training_parameter_dict[df_name] = {'epochs':500}\n",
    "#     if nrows <= 100:\n",
    "#         training_parameter_dict[df_name] = {'epochs':50}\n",
    "#     elif nrows <= 10000:\n",
    "#         training_parameter_dict[df_name] = {'epochs':50}\n",
    "#     else:\n",
    "#         training_parameter_dict[df_name] = {'epochs':50}"
   ]
  },
  {
   "cell_type": "code",
   "execution_count": 50,
   "id": "ca6f578d-376b-4961-8408-513aad35d5cb",
   "metadata": {},
   "outputs": [],
   "source": [
    "training_parameter_dict = {'agency': {'epochs': 30},\n",
    "                           'calendar': {'epochs': 50},\n",
    "                           'calendar_dates': {'epochs': 50},\n",
    "                           'routes': {'epochs': 50},\n",
    "                           'stops': {'epochs': 50},\n",
    "                           'stop_times': {'epochs': 50},\n",
    "                           'trips': {'epochs': 40}}"
   ]
  },
  {
   "cell_type": "code",
   "execution_count": 53,
   "id": "460d4f25-0081-4232-a6c0-1e520da7a6de",
   "metadata": {
    "scrolled": true,
    "tags": []
   },
   "outputs": [
    {
     "name": "stdout",
     "output_type": "stream",
     "text": [
      "Learning \"agency\" data......\n",
      "[Epoch: 0] [C loss: -0.001] [G loss: 0.004] [Speed: 0.27 it/s]\n",
      "[Epoch: 10] [C loss: -0.001] [G loss: 0.003] [Speed: 3.23 it/s]\n",
      "[Epoch: 20] [C loss: -0.001] [G loss: 0.002] [Speed: 2.91 it/s]\n",
      "[Epoch: 29] [C loss: -0.001] [G loss: 0.002] [Speed: 2.87 it/s]\n",
      "Time Used: 0m 16s\n",
      ".\n",
      ".\n",
      "Learning \"calendar\" data......\n",
      "[Epoch: 0] [C loss: -0.001] [G loss: 0.06] [Speed: 0.46 it/s]\n",
      "[Epoch: 10] [C loss: -0.001] [G loss: 0.037] [Speed: 2.67 it/s]\n",
      "[Epoch: 20] [C loss: -0.001] [G loss: 0.022] [Speed: 2.62 it/s]\n",
      "[Epoch: 30] [C loss: -0.001] [G loss: 0.014] [Speed: 2.74 it/s]\n",
      "[Epoch: 40] [C loss: -0.001] [G loss: 0.009] [Speed: 2.76 it/s]\n",
      "[Epoch: 49] [C loss: -0.001] [G loss: 0.006] [Speed: 2.81 it/s]\n",
      "Time Used: 0m 20s\n",
      ".\n",
      ".\n",
      "Learning \"calendar_dates\" data......\n",
      "[Epoch: 0] [C loss: -0.001] [G loss: 0.011] [Speed: 0.47 it/s]\n",
      "[Epoch: 10] [C loss: -0.001] [G loss: 0.008] [Speed: 2.85 it/s]\n",
      "[Epoch: 20] [C loss: -0.001] [G loss: 0.004] [Speed: 2.91 it/s]\n",
      "[Epoch: 30] [C loss: -0.001] [G loss: 0.003] [Speed: 2.83 it/s]\n",
      "[Epoch: 40] [C loss: -0.001] [G loss: 0.005] [Speed: 2.91 it/s]\n",
      "[Epoch: 49] [C loss: -0.001] [G loss: 0.005] [Speed: 2.86 it/s]\n",
      "Time Used: 0m 19s\n",
      ".\n",
      ".\n",
      "Learning \"routes\" data......\n",
      "[Epoch: 0] [C loss: -0.001] [G loss: -0.022] [Speed: 0.47 it/s]\n",
      "[Epoch: 10] [C loss: -0.001] [G loss: -0.013] [Speed: 2.78 it/s]\n",
      "[Epoch: 20] [C loss: -0.001] [G loss: -0.008] [Speed: 2.75 it/s]\n",
      "[Epoch: 30] [C loss: -0.001] [G loss: -0.003] [Speed: 2.33 it/s]\n",
      "[Epoch: 40] [C loss: -0.001] [G loss: -0.001] [Speed: 2.65 it/s]\n",
      "[Epoch: 49] [C loss: -0.001] [G loss: 0.0] [Speed: 2.87 it/s]\n",
      "Time Used: 0m 20s\n",
      ".\n",
      ".\n",
      "Learning \"stops\" data......\n",
      "[Epoch: 0] [C loss: -0.001] [G loss: 0.023] [Speed: 0.55 it/s]\n",
      "[Epoch: 10] [C loss: -0.001] [G loss: 0.015] [Speed: 2.77 it/s]\n",
      "[Epoch: 20] [C loss: -0.001] [G loss: 0.009] [Speed: 2.64 it/s]\n",
      "[Epoch: 30] [C loss: -0.001] [G loss: 0.006] [Speed: 2.72 it/s]\n",
      "[Epoch: 40] [C loss: -0.001] [G loss: 0.005] [Speed: 2.72 it/s]\n",
      "[Epoch: 49] [C loss: -0.001] [G loss: 0.004] [Speed: 2.78 it/s]\n",
      "Time Used: 0m 20s\n",
      ".\n",
      ".\n",
      "Learning \"stop_times\" data......\n",
      "[Epoch: 0] [C loss: -0.001] [G loss: 0.028] [Speed: 0.47 it/s]\n",
      "[Epoch: 10] [C loss: -0.001] [G loss: 0.017] [Speed: 2.79 it/s]\n",
      "[Epoch: 20] [C loss: -0.001] [G loss: 0.012] [Speed: 2.81 it/s]\n",
      "[Epoch: 30] [C loss: -0.001] [G loss: 0.007] [Speed: 2.69 it/s]\n",
      "[Epoch: 40] [C loss: -0.001] [G loss: 0.005] [Speed: 2.67 it/s]\n",
      "[Epoch: 49] [C loss: -0.001] [G loss: 0.004] [Speed: 2.66 it/s]\n",
      "Time Used: 0m 20s\n",
      ".\n",
      ".\n",
      "Learning \"trips\" data......\n",
      "[Epoch: 0] [C loss: -0.001] [G loss: 0.016] [Speed: 0.45 it/s]\n",
      "[Epoch: 10] [C loss: -0.001] [G loss: 0.01] [Speed: 2.83 it/s]\n",
      "[Epoch: 20] [C loss: -0.001] [G loss: 0.006] [Speed: 2.68 it/s]\n",
      "[Epoch: 30] [C loss: -0.001] [G loss: 0.005] [Speed: 2.84 it/s]\n",
      "[Epoch: 39] [C loss: -0.001] [G loss: 0.003] [Speed: 2.79 it/s]\n",
      "Time Used: 0m 16s\n",
      ".\n",
      ".\n"
     ]
    },
    {
     "data": {
      "image/png": "[encoded data removed]",
      "text/plain": [
       "<Figure size 1500x1500 with 7 Axes>"
      ]
     },
     "metadata": {},
     "output_type": "display_data"
    },
    {
     "name": "stdout",
     "output_type": "stream",
     "text": [
      "Total Time Used: 2m 16s\n"
     ]
    }
   ],
   "source": [
    "collection_training(processed_data_collection, training_parameter_dict)"
   ]
  },
  {
   "cell_type": "markdown",
   "id": "37613df5-a0f7-4158-90e9-39c2f683bb49",
   "metadata": {},
   "source": [
    "# Synthetic Data Generation"
   ]
  },
  {
   "cell_type": "code",
   "execution_count": 54,
   "id": "d8ddd453-c6bc-4c39-9b68-b696eb95f2d3",
   "metadata": {},
   "outputs": [],
   "source": [
    "# table_name:\n",
    "# {'table':table, # df\n",
    "#  'labels':labels, # df\n",
    "#  'scaler':scaler, # a scaler object\n",
    "#  'table_col_names':table_columns, # list of col names\n",
    "#  'label_col_names':label_columns, # list of col names\n",
    "#  'metadata':metadata[df_name]} # a metadata dict (see below)\n",
    "\n",
    "# metadata\n",
    "# {'primary_key':primary_key, # list, [column names, number_of_unique_ids]\n",
    "#  'parent':parent, # dict, {parent_name:shared_id_column_name, ...}\n",
    "#  'child':child} # str, child_name"
   ]
  },
  {
   "cell_type": "code",
   "execution_count": 55,
   "id": "07ad6ba0-ff4e-404f-8196-c02fdfba9b70",
   "metadata": {},
   "outputs": [],
   "source": [
    "# def generate_individual_synth_data(generator, labels, seed=123):\n",
    "#     pass"
   ]
  },
  {
   "cell_type": "code",
   "execution_count": 56,
   "id": "16429b29-07a9-43f1-8f28-7bff3b3ae1b8",
   "metadata": {},
   "outputs": [],
   "source": [
    "def resample_array(array, size):\n",
    "    og_size = len(array)\n",
    "    x_og = np.linspace(0, 1, og_size)\n",
    "    x_new = np.linspace(0, 1, size)\n",
    "    array_resampled = np.interp(x_new, x_og, array)\n",
    "    return array_resampled.astype(int)"
   ]
  },
  {
   "cell_type": "code",
   "execution_count": 57,
   "id": "b7b2d863-4450-44d6-8667-cee4633da972",
   "metadata": {},
   "outputs": [],
   "source": [
    "def get_distribution(array):\n",
    "    unique_elements, counts = np.unique(array, return_counts=True)\n",
    "    prob_distribution = counts / counts.sum()\n",
    "    return unique_elements, prob_distribution"
   ]
  },
  {
   "cell_type": "code",
   "execution_count": 58,
   "id": "6c470948-4cb7-4dcb-a1ec-88c7ccb2e546",
   "metadata": {},
   "outputs": [],
   "source": [
    "def generate_new_array(size, unique_elements, prob_distribution):\n",
    "    new_array = np.random.choice(unique_elements, size=size, p=prob_distribution)\n",
    "    return new_array"
   ]
  },
  {
   "cell_type": "code",
   "execution_count": 64,
   "id": "d5f5c4ed-f7f2-4a89-bce2-57a32fba3474",
   "metadata": {},
   "outputs": [],
   "source": [
    "def generate_synth_data_collection(processed_data_collection, generation_dict, seed=123):\n",
    "    np.random.seed(seed)\n",
    "    synthetic_data_collection = {}\n",
    "    features_to_ignore_rounding = ['shape_pt_lat',\n",
    "                      'shape_pt_lon',\n",
    "                      'stop_lat',\n",
    "                      'stop_lon',\n",
    "                     'shape_dist_traveled']\n",
    "    for df_name, content in processed_data_collection.items():\n",
    "        generator = models.load_model('models_single/'+df_name+'_gan.h5')\n",
    "        latent_dim = 100\n",
    "        noise = np.random.uniform(-1, 1, size=(generation_dict[df_name]['nrows'], latent_dim))\n",
    "        raw_fake_data = generator.predict(noise)\n",
    "        scaled_fake_data = content['scaler'].inverse_transform(raw_fake_data)\n",
    "        fake_df = pd.DataFrame(scaled_fake_data, columns=content['col_names'])\n",
    "        # fake_data = pd.concat([fake_labels_df, fake_table_df], axis=1)\n",
    "        \n",
    "        columns_to_int = [col for col in fake_df.columns if col not in features_to_ignore_rounding]\n",
    "        for col in columns_to_int:\n",
    "            fake_df[col] = fake_df[col].astype(int)\n",
    "                \n",
    "        synthetic_data_collection[df_name] = fake_df\n",
    "        \n",
    "    return synthetic_data_collection"
   ]
  },
  {
   "cell_type": "code",
   "execution_count": 61,
   "id": "9bc7f2c3-5040-423d-8e40-c8e4f7f87e2e",
   "metadata": {},
   "outputs": [],
   "source": [
    "generation_dict = {k:{'nrows':len(v['scaled_data'])} for k,v in processed_data_collection.items()}"
   ]
  },
  {
   "cell_type": "code",
   "execution_count": 62,
   "id": "1e39be14-abfa-422e-a33a-f6333dc191a1",
   "metadata": {},
   "outputs": [
    {
     "data": {
      "text/plain": [
       "{'agency': {'nrows': 15},\n",
       " 'calendar': {'nrows': 121},\n",
       " 'calendar_dates': {'nrows': 674},\n",
       " 'routes': {'nrows': 215},\n",
       " 'stops': {'nrows': 6714},\n",
       " 'stop_times': {'nrows': 966790},\n",
       " 'trips': {'nrows': 32403}}"
      ]
     },
     "execution_count": 62,
     "metadata": {},
     "output_type": "execute_result"
    }
   ],
   "source": [
    "generation_dict"
   ]
  },
  {
   "cell_type": "code",
   "execution_count": 65,
   "id": "1af7da14-2d7d-4c16-80e0-5c51f93f8675",
   "metadata": {
    "scrolled": true,
    "tags": []
   },
   "outputs": [],
   "source": [
    "synthetic_data_collection = generate_synth_data_collection(processed_data_collection, generation_dict)"
   ]
  },
  {
   "cell_type": "markdown",
   "id": "93c53d11-a98d-4905-89c9-5c65098d82c4",
   "metadata": {},
   "source": [
    "# Metrics"
   ]
  },
  {
   "cell_type": "markdown",
   "id": "c6d8f9a7-ec7c-4eff-9a6a-91689c04619e",
   "metadata": {},
   "source": [
    "## Pre-metrics Data Processing"
   ]
  },
  {
   "cell_type": "code",
   "execution_count": null,
   "id": "8066311d-d2e5-4892-aece-ef5f685fd00e",
   "metadata": {
    "tags": []
   },
   "outputs": [],
   "source": [
    "# def convert_to_dataframe_collection(processed_data_collection):\n",
    "#     new_dict = {}\n",
    "#     features_to_ignore_rounding = ['shape_pt_lat',\n",
    "#                       'shape_pt_lon',\n",
    "#                       'stop_lat',\n",
    "#                       'stop_lon',\n",
    "#                      'shape_dist_traveled']\n",
    "#     for df_name, content in processed_data_collection.items():\n",
    "#         table_scaler = content['table_scaler']\n",
    "#         labels_scaler = content['labels_scaler']\n",
    "#         labels = content['labels']\n",
    "#         table = content['table']\n",
    "#         table = pd.DataFrame(table_scaler.inverse_transform(table),columns = content['table_col_names'])\n",
    "#         labels = pd.DataFrame(labels_scaler.inverse_transform(labels),columns = content['labels_col_names'])\n",
    "#         new_df = pd.concat([labels, table], axis=1)\n",
    "#         columns_to_int = [col for col in new_df.columns if col not in features_to_ignore_rounding]\n",
    "#         for col in columns_to_int:\n",
    "#             new_df[col] = new_df[col].astype(int)\n",
    "#         new_dict[df_name] = new_df\n",
    "#     return new_dict"
   ]
  },
  {
   "cell_type": "code",
   "execution_count": null,
   "id": "4712b1b4-8ac4-47ba-a542-c3670b369857",
   "metadata": {},
   "outputs": [],
   "source": [
    "# real_data_collection = convert_to_dataframe_collection(processed_data_collection)"
   ]
  },
  {
   "cell_type": "code",
   "execution_count": null,
   "id": "9957e502-20d2-41d5-be3e-c707754fd943",
   "metadata": {
    "scrolled": true,
    "tags": []
   },
   "outputs": [],
   "source": [
    "# del processed_data_collection"
   ]
  },
  {
   "cell_type": "code",
   "execution_count": 66,
   "id": "86bb30b7-2fa2-437b-b1aa-154679435963",
   "metadata": {
    "scrolled": true,
    "tags": []
   },
   "outputs": [
    {
     "data": {
      "text/plain": [
       "{'agency':     agency_id  agency_url  agency_timezone  agency_lang  agency_phone\n",
       " 0           7           0                0            0             0\n",
       " 1          11           0                0            0             0\n",
       " 2           6           0                0            0             0\n",
       " 3           7           0                0            0             0\n",
       " 4           8           0                0            0             0\n",
       " 5           8           0                0            0             0\n",
       " 6           8           0                0            0             0\n",
       " 7           6           0                0            0             0\n",
       " 8           6           0                0            0             0\n",
       " 9           5           0                0            0             0\n",
       " 10          7           0                0            0             0\n",
       " 11          9           0                0            0             0\n",
       " 12          8           0                0            0             0\n",
       " 13          4           0                0            0             0\n",
       " 14          5           0                0            0             0,\n",
       " 'calendar':      service_id  monday  tuesday  wednesday  thursday  friday  saturday  \\\n",
       " 0            45       0        0          0         0       0         0   \n",
       " 1            64       0        0          0         0       0         0   \n",
       " 2            31       0        0          0         0       0         0   \n",
       " 3            37       0        0          0         0       0         0   \n",
       " 4            79       0        0          0         0       0         0   \n",
       " ..          ...     ...      ...        ...       ...     ...       ...   \n",
       " 116          51       0        0          0         0       0         0   \n",
       " 117          70       0        0          0         0       0         0   \n",
       " 118          30       0        0          0         0       0         0   \n",
       " 119          60       0        0          0         0       0         0   \n",
       " 120          63       0        0          0         0       0         0   \n",
       " \n",
       "      sunday  start_date  end_date  \n",
       " 0         0       44998     45033  \n",
       " 1         0       44997     45032  \n",
       " 2         0       44997     45029  \n",
       " 3         0       44994     45013  \n",
       " 4         0       44998     45024  \n",
       " ..      ...         ...       ...  \n",
       " 116       0       44998     45030  \n",
       " 117       0       44999     45028  \n",
       " 118       0       44996     45020  \n",
       " 119       0       44998     45017  \n",
       " 120       0       44998     45042  \n",
       " \n",
       " [121 rows x 10 columns],\n",
       " 'calendar_dates':      service_id   date  exception_type\n",
       " 0            31  45024               1\n",
       " 1            64  45021               1\n",
       " 2            47  45033               1\n",
       " 3            81  45034               1\n",
       " 4            42  45032               1\n",
       " ..          ...    ...             ...\n",
       " 669          20  45041               1\n",
       " 670          54  45035               1\n",
       " 671          74  45026               1\n",
       " 672          60  45035               1\n",
       " 673          78  45024               1\n",
       " \n",
       " [674 rows x 3 columns],\n",
       " 'routes':      route_id  agency_id  route_type  route_color  route_text_color  \\\n",
       " 0          61          9           2            4                 0   \n",
       " 1         164          3           3            2                 0   \n",
       " 2          32          7           2            2                 0   \n",
       " 3          56         10           2            4                 0   \n",
       " 4          92          6           3            2                 0   \n",
       " ..        ...        ...         ...          ...               ...   \n",
       " 210       131          2           3            3                 0   \n",
       " 211        61          9           3            2                 0   \n",
       " 212       147          7           3            3                 0   \n",
       " 213        62         10           2            4                 0   \n",
       " 214        62          7           2            5                 0   \n",
       " \n",
       "      contract_id  \n",
       " 0             21  \n",
       " 1             41  \n",
       " 2             20  \n",
       " 3             37  \n",
       " 4             20  \n",
       " ..           ...  \n",
       " 210           14  \n",
       " 211           27  \n",
       " 212           49  \n",
       " 213           35  \n",
       " 214           43  \n",
       " \n",
       " [215 rows x 6 columns],\n",
       " 'stops':       stop_id   stop_lat    stop_lon  location_type  parent_station  \\\n",
       " 0        2968 -36.601494  174.948044              0              52   \n",
       " 1        4206 -37.022564  175.170761              0              87   \n",
       " 2        2135 -37.052460  175.059357              0              61   \n",
       " 3        3489 -37.484295  174.868637              0              86   \n",
       " 4        3948 -36.835945  174.926422              0              55   \n",
       " ...       ...        ...         ...            ...             ...   \n",
       " 6709     4234 -37.151608  174.695587              0              69   \n",
       " 6710     2879 -36.882450  174.640991              0              64   \n",
       " 6711     2082 -36.857304  174.914978              0              63   \n",
       " 6712     4518 -37.037468  174.739624              0              37   \n",
       " 6713     4379 -37.195190  175.131516              0              86   \n",
       " \n",
       "       platform_code  wheelchair_boarding  start_date  end_date  \n",
       " 0                20                    0       44999     45005  \n",
       " 1                10                    0       44998     45022  \n",
       " 2                11                    0       44996     45027  \n",
       " 3                16                    0       44997     45045  \n",
       " 4                22                    0       44997     45019  \n",
       " ...             ...                  ...         ...       ...  \n",
       " 6709             15                    0       44994     45046  \n",
       " 6710             17                    0       44994     45032  \n",
       " 6711             16                    0       44997     45021  \n",
       " 6712             20                    0       44995     45044  \n",
       " 6713             10                    0       44998     45022  \n",
       " \n",
       " [6714 rows x 9 columns],\n",
       " 'stop_times':         trip_id  arrival_time  departure_time  stop_id  stop_sequence  \\\n",
       " 0         18948         30568           44117     3557             46   \n",
       " 1         15401         29939           60188     2741             35   \n",
       " 2         12610         59543           27437     2737             41   \n",
       " 3         18399         42637           41503     2760             39   \n",
       " 4         17257         32947           53821     3279             30   \n",
       " ...         ...           ...             ...      ...            ...   \n",
       " 966785    17547         59610           50680     4767             47   \n",
       " 966786    12258         45289           68314     4179             39   \n",
       " 966787    12728         60606           60931     3150             31   \n",
       " 966788    13158         50637           55171     2764             38   \n",
       " 966789    16242         37473           42579     3552             39   \n",
       " \n",
       "         stop_headsign  pickup_type  drop_off_type  shape_dist_traveled  \\\n",
       " 0                  45            0              0            39.792599   \n",
       " 1                 108            0              0            62.894089   \n",
       " 2                 126            0              0            82.657234   \n",
       " 3                  76            0              0            47.225609   \n",
       " 4                 112            0              0            57.687256   \n",
       " ...               ...          ...            ...                  ...   \n",
       " 966785             55            0              0            23.099436   \n",
       " 966786            168            0              0            71.757919   \n",
       " 966787            124            0              0            89.989204   \n",
       " 966788            123            0              0            96.344635   \n",
       " 966789            104            0              0            61.300892   \n",
       " \n",
       "         timepoint  \n",
       " 0               0  \n",
       " 1               0  \n",
       " 2               0  \n",
       " 3               0  \n",
       " 4               0  \n",
       " ...           ...  \n",
       " 966785          0  \n",
       " 966786          0  \n",
       " 966787          0  \n",
       " 966788          0  \n",
       " 966789          0  \n",
       " \n",
       " [966790 rows x 10 columns],\n",
       " 'trips':        route_id  service_id  trip_id  trip_headsign  direction_id  shape_id  \\\n",
       " 0           128          14    11743            436             0       428   \n",
       " 1            46          55    15812            273             0       309   \n",
       " 2           101          53    11628            319             0       373   \n",
       " 3            74          50    14783            316             0       303   \n",
       " 4           130          75    20248            212             0       258   \n",
       " ...         ...         ...      ...            ...           ...       ...   \n",
       " 32398       188          43     9539            401             0       310   \n",
       " 32399       125          64    15717            346             0       360   \n",
       " 32400       103          44    15867            317             0       331   \n",
       " 32401       127          73    14318            249             0       367   \n",
       " 32402        82          47    15708            384             0       310   \n",
       " \n",
       "        wheelchair_accessible  bikes_allowed  \n",
       " 0                          0              0  \n",
       " 1                          0              0  \n",
       " 2                          0              0  \n",
       " 3                          0              0  \n",
       " 4                          0              0  \n",
       " ...                      ...            ...  \n",
       " 32398                      0              0  \n",
       " 32399                      0              0  \n",
       " 32400                      0              0  \n",
       " 32401                      0              0  \n",
       " 32402                      0              0  \n",
       " \n",
       " [32403 rows x 8 columns]}"
      ]
     },
     "execution_count": 66,
     "metadata": {},
     "output_type": "execute_result"
    }
   ],
   "source": [
    "synthetic_data_collection"
   ]
  },
  {
   "cell_type": "code",
   "execution_count": 67,
   "id": "b13b3085-663c-4a37-adcc-3ccb68799162",
   "metadata": {
    "scrolled": true,
    "tags": []
   },
   "outputs": [
    {
     "data": {
      "text/plain": [
       "{'agency':     agency_id  agency_url  agency_timezone  agency_lang  agency_phone\n",
       " 0           0           0                0            0             0\n",
       " 1           1           0                0            0             0\n",
       " 2           2           0                0            0             0\n",
       " 3           3           0                0            0             0\n",
       " 4           4           0                0            0             0\n",
       " 5           5           0                0            0             0\n",
       " 6           6           0                0            0             0\n",
       " 7           7           0                0            0             0\n",
       " 8           8           0                0            0             0\n",
       " 9           9           0                0            0             0\n",
       " 10         10           0                0            0             0\n",
       " 11         11           0                0            0             0\n",
       " 12         12           0                0            0             0\n",
       " 13         13           0                0            0             0\n",
       " 14         14           0                0            0             0,\n",
       " 'calendar':      service_id  monday  tuesday  wednesday  thursday  friday  saturday  \\\n",
       " 0             0       1        1          1         1       1         1   \n",
       " 1             1       1        1          1         1       1         1   \n",
       " 2             2       1        1          1         1       1         1   \n",
       " 3             3       1        1          1         1       1         1   \n",
       " 4             4       1        1          1         1       1         1   \n",
       " ..          ...     ...      ...        ...       ...     ...       ...   \n",
       " 116         116       0        0          0         0       0         1   \n",
       " 117         117       1        1          1         1       0         0   \n",
       " 118         118       1        1          1         1       0         0   \n",
       " 119         119       1        1          1         1       0         0   \n",
       " 120         120       1        1          1         1       0         0   \n",
       " \n",
       "      sunday  start_date  end_date  \n",
       " 0         1       44993     45060  \n",
       " 1         1       44994     45060  \n",
       " 2         1       44993     45060  \n",
       " 3         1       45002     45060  \n",
       " 4         1       45002     45060  \n",
       " ..      ...         ...       ...  \n",
       " 116       1       44993     45060  \n",
       " 117       0       44993     45060  \n",
       " 118       0       44994     45060  \n",
       " 119       0       44993     45001  \n",
       " 120       0       44994     45060  \n",
       " \n",
       " [121 rows x 10 columns],\n",
       " 'calendar_dates':      service_id   date  exception_type\n",
       " 0             2  44993               2\n",
       " 1             2  44996               2\n",
       " 2             2  44997               2\n",
       " 3             2  44998               2\n",
       " 4             2  44999               2\n",
       " ..          ...    ...             ...\n",
       " 669         120  45004               2\n",
       " 670         120  45005               2\n",
       " 671         120  45006               2\n",
       " 672         120  45024               2\n",
       " 673         120  45039               2\n",
       " \n",
       " [674 rows x 3 columns],\n",
       " 'routes':      route_id  agency_id  route_type  route_color  route_text_color  \\\n",
       " 0           0          8           3           -1                -1   \n",
       " 1           1          7           3            0                 1   \n",
       " 2           2          4           4            3                 1   \n",
       " 3           3          8           3            1                 1   \n",
       " 4           4          0           2            5                 0   \n",
       " ..        ...        ...         ...          ...               ...   \n",
       " 210       210          1           3            7                 1   \n",
       " 211       211          1           3            7                 1   \n",
       " 212       212          1           3            5                 0   \n",
       " 213       213          0           2            7                 1   \n",
       " 214       214          3           4            3                 1   \n",
       " \n",
       "      contract_id  \n",
       " 0              7  \n",
       " 1             61  \n",
       " 2             62  \n",
       " 3              4  \n",
       " 4             63  \n",
       " ..           ...  \n",
       " 210           61  \n",
       " 211           61  \n",
       " 212           61  \n",
       " 213           63  \n",
       " 214           57  \n",
       " \n",
       " [215 rows x 6 columns],\n",
       " 'stops':       stop_id  stop_lat   stop_lon  location_type  parent_station  \\\n",
       " 0           0 -36.97766  174.84925              1              -1   \n",
       " 1           1 -36.84326  174.76575              0              73   \n",
       " 2           2 -36.84381  174.76551              0              73   \n",
       " 3           3 -36.89726  174.80712              1              -1   \n",
       " 4           4 -36.84403  174.76550              0              73   \n",
       " ...       ...       ...        ...            ...             ...   \n",
       " 6709     6709 -36.85073  174.75679              0              -1   \n",
       " 6710     6710 -36.75943  174.74654              0              -1   \n",
       " 6711     6711 -36.75716  174.74401              0              -1   \n",
       " 6712     6712 -36.75667  174.74761              0              -1   \n",
       " 6713     6713 -36.39619  174.66156              0              -1   \n",
       " \n",
       "       platform_code  wheelchair_boarding  start_date  end_date  \n",
       " 0                -1                    0       44993     45060  \n",
       " 1                27                    0       44993     45060  \n",
       " 2                28                    0       44993     45060  \n",
       " 3                -1                    0       44993     45060  \n",
       " 4                29                    0       44993     45060  \n",
       " ...             ...                  ...         ...       ...  \n",
       " 6709             -1                    0       44993     45060  \n",
       " 6710             -1                    0       44993     45060  \n",
       " 6711             -1                    0       44993     45060  \n",
       " 6712             -1                    0       44993     45060  \n",
       " 6713             -1                    0       44993     45060  \n",
       " \n",
       " [6714 rows x 9 columns],\n",
       " 'stop_times':         trip_id  arrival_time  departure_time  stop_id  stop_sequence  \\\n",
       " 0         11377         37680           37680     4172              1   \n",
       " 1         11377         37785           37785     4174              2   \n",
       " 2         11377         37864           37864     4007              3   \n",
       " 3         11377         37914           37914     4181              4   \n",
       " 4         11377         37969           37969      737              5   \n",
       " ...         ...           ...             ...      ...            ...   \n",
       " 966785    22010         49881           49881     1801             62   \n",
       " 966786    22010         49933           49933     1803             63   \n",
       " 966787    22010         50034           50034     1744             64   \n",
       " 966788    22010         50101           50101     1740             65   \n",
       " 966789    22010         50160           50160     1852             66   \n",
       " \n",
       "         stop_headsign  pickup_type  drop_off_type  shape_dist_traveled  \\\n",
       " 0                 153            0              0                0.000   \n",
       " 1                 153            0              0                0.794   \n",
       " 2                 153            0              0                1.395   \n",
       " 3                 153            0              0                1.777   \n",
       " 4                 153            0              0                2.192   \n",
       " ...               ...          ...            ...                  ...   \n",
       " 966785            198            0              0               25.266   \n",
       " 966786            198            0              0               25.515   \n",
       " 966787            198            0              0               25.994   \n",
       " 966788            198            0              0               26.311   \n",
       " 966789            198            1              0               26.591   \n",
       " \n",
       "         timepoint  \n",
       " 0               0  \n",
       " 1               0  \n",
       " 2               0  \n",
       " 3               0  \n",
       " 4               0  \n",
       " ...           ...  \n",
       " 966785          0  \n",
       " 966786          0  \n",
       " 966787          0  \n",
       " 966788          0  \n",
       " 966789          0  \n",
       " \n",
       " [966790 rows x 10 columns],\n",
       " 'trips':        route_id  service_id  trip_id  trip_headsign  direction_id  shape_id  \\\n",
       " 0           179          93        0            600             0         0   \n",
       " 1           179          93        1            600             0         0   \n",
       " 2           179          93        2            600             0         0   \n",
       " 3           179          93        3            600             0         0   \n",
       " 4           179         105        4            600             0         0   \n",
       " ...         ...         ...      ...            ...           ...       ...   \n",
       " 32398        18          93    32398             20             0       670   \n",
       " 32399        18         105    32399             20             0       670   \n",
       " 32400        18          93    32400             20             0       670   \n",
       " 32401        18         105    32401             20             0       670   \n",
       " 32402        18          93    32402            526             0       672   \n",
       " \n",
       "        wheelchair_accessible  bikes_allowed  \n",
       " 0                          0              0  \n",
       " 1                          0              0  \n",
       " 2                          0              0  \n",
       " 3                          0              0  \n",
       " 4                          0              0  \n",
       " ...                      ...            ...  \n",
       " 32398                      0              0  \n",
       " 32399                      0              0  \n",
       " 32400                      0              0  \n",
       " 32401                      0              0  \n",
       " 32402                      0              0  \n",
       " \n",
       " [32403 rows x 8 columns]}"
      ]
     },
     "execution_count": 67,
     "metadata": {},
     "output_type": "execute_result"
    }
   ],
   "source": [
    "real_data_collection"
   ]
  },
  {
   "cell_type": "markdown",
   "id": "b2f629f9-9cd2-47dc-ade3-dc97edd07a25",
   "metadata": {},
   "source": [
    "### Cosine Similarity Test"
   ]
  },
  {
   "cell_type": "code",
   "execution_count": 68,
   "id": "6227efd9-8e40-46eb-8a35-63ad5122e1bd",
   "metadata": {},
   "outputs": [],
   "source": [
    "def cos_test(fake_collection, real_collection):\n",
    "    test_dict = {}\n",
    "    for df_name in fake_collection.keys():\n",
    "        mean_cos = []\n",
    "        mean_cos.append(metrics.pairwise.cosine_similarity(real_collection[df_name].values.T, fake_collection[df_name].values.T))\n",
    "        test_dict[df_name] = np.mean(mean_cos)\n",
    "    return test_dict"
   ]
  },
  {
   "cell_type": "code",
   "execution_count": 69,
   "id": "c7ce6995-c917-4430-b8fe-84dedccbd2d3",
   "metadata": {},
   "outputs": [
    {
     "data": {
      "text/plain": [
       "{'agency': 0.030859036140956295,\n",
       " 'calendar': 0.21346289962794632,\n",
       " 'calendar_dates': 0.9228293398244669,\n",
       " 'routes': 0.35541410287160313,\n",
       " 'stops': 0.1874253308122589,\n",
       " 'stop_times': 0.4359771939071462,\n",
       " 'trips': 0.3891128404191231}"
      ]
     },
     "execution_count": 69,
     "metadata": {},
     "output_type": "execute_result"
    }
   ],
   "source": [
    "cos_test(synthetic_data_collection, real_data_collection)"
   ]
  },
  {
   "cell_type": "markdown",
   "id": "cf3cf25c-9be0-426f-abdb-ed571899cc87",
   "metadata": {},
   "source": [
    "### KS (Kolmogorov-Smirnov) Test"
   ]
  },
  {
   "cell_type": "code",
   "execution_count": null,
   "id": "a82e562a-3882-4401-975d-3ffdc7a4c6ac",
   "metadata": {},
   "outputs": [],
   "source": [
    "# def batch_ks_test(fake_collection, real_collection):\n",
    "#     stats_dict = {}\n",
    "#     for df_name, fake_df in fake_collection.items():\n",
    "#         stats_list = []\n",
    "#         p_val_list = []\n",
    "#         test_dict = {}\n",
    "#         for col in fake_df.columns:\n",
    "#             stats, p_val = ks_2samp(fake_df[col], real_collection[df_name][col], alternative='two-sided', method='auto')\n",
    "#             stats_list.append(stats)\n",
    "#             p_val_list.append(p_val)\n",
    "#         test_dict['stats'] = np.mean(stats_list)\n",
    "#         test_dict['p_value'] = np.mean(p_val_list)\n",
    "#         stats_dict[df_name] = test_dict\n",
    "#     return stats_dict"
   ]
  },
  {
   "cell_type": "code",
   "execution_count": 70,
   "id": "0bef438a-3159-4a78-94d7-9e1c9a31d5b0",
   "metadata": {},
   "outputs": [],
   "source": [
    "def ks_test(df1, df2):\n",
    "    ks_stats = []\n",
    "    wasserstein_distances = []\n",
    "    p_values = []\n",
    "    for column in df1.columns:\n",
    "        ks_stat, ks_p_value = ks_2samp(df1[column], df2[column])\n",
    "        ks_stats.append(ks_stat)\n",
    "        p_values.append(ks_p_value)\n",
    "        w_dist = wasserstein_distance(df1[column], df2[column])\n",
    "        wasserstein_distances.append(w_dist)\n",
    "    mean_ks_stat = np.mean(ks_stats)\n",
    "    mean_wasserstein_distance = np.mean(wasserstein_distances)\n",
    "    mean_p_value = np.mean(p_values)\n",
    "    return mean_ks_stat, mean_wasserstein_distance, mean_p_value"
   ]
  },
  {
   "cell_type": "code",
   "execution_count": 71,
   "id": "cf2c9ce9-42a5-46cb-bee6-a3fe40fc2506",
   "metadata": {},
   "outputs": [],
   "source": [
    "def batch_ks_test(collection1, collection2):\n",
    "    stats_dict = {}\n",
    "    for df_name in collection1:\n",
    "        ks_results, wasserstein_results, p_value = ks_test(collection1[df_name], collection2[df_name])\n",
    "        stats_dict[df_name] = {\n",
    "            'statistics':ks_results,\n",
    "            'w_distance':wasserstein_results,\n",
    "            'p_value':p_value\n",
    "        }\n",
    "    return stats_dict"
   ]
  },
  {
   "cell_type": "code",
   "execution_count": 72,
   "id": "45fbd436-53f5-401c-b380-38f12e9b4a80",
   "metadata": {
    "scrolled": true,
    "tags": []
   },
   "outputs": [
    {
     "data": {
      "text/plain": [
       "{'agency': {'statistics': 0.05333333333333333,\n",
       "  'w_distance': 0.4800000000000001,\n",
       "  'p_value': 0.9356276454136193},\n",
       " 'calendar': {'statistics': 0.48099173553719005,\n",
       "  'w_distance': 5.074380165289256,\n",
       "  'p_value': 2.2886313972869016e-05},\n",
       " 'calendar_dates': {'statistics': 0.3931750741839763,\n",
       "  'w_distance': 9.959940652818991,\n",
       "  'p_value': 5.572969250604218e-23},\n",
       " 'routes': {'statistics': 0.5062015503875968,\n",
       "  'w_distance': 6.18139534883721,\n",
       "  'p_value': 1.9721010671482594e-06},\n",
       " 'stops': {'statistics': 0.5703174130341243,\n",
       "  'w_distance': 97.95858178258919,\n",
       "  'p_value': 0.13709161803696993},\n",
       " 'stop_times': {'statistics': 0.29640097642714547,\n",
       "  'w_distance': 1849.3712407167652,\n",
       "  'p_value': 0.003974767821554648},\n",
       " 'trips': {'statistics': 0.28316822516433665,\n",
       "  'w_distance': 766.8516881152979,\n",
       "  'p_value': 0.25}}"
      ]
     },
     "execution_count": 72,
     "metadata": {},
     "output_type": "execute_result"
    }
   ],
   "source": [
    "batch_ks_test(synthetic_data_collection, real_data_collection)"
   ]
  },
  {
   "cell_type": "code",
   "execution_count": null,
   "id": "5c623abc-5eb1-47c1-8a93-d16984ddef2f",
   "metadata": {},
   "outputs": [],
   "source": []
  }
 ],
 "metadata": {
  "kernelspec": {
   "display_name": "Python 3 (ipykernel)",
   "language": "python",
   "name": "python3"
  },
  "language_info": {
   "codemirror_mode": {
    "name": "ipython",
    "version": 3
   },
   "file_extension": ".py",
   "mimetype": "text/x-python",
   "name": "python",
   "nbconvert_exporter": "python",
   "pygments_lexer": "ipython3",
   "version": "3.9.16"
  },
  "toc-autonumbering": true
 },
 "nbformat": 4,
 "nbformat_minor": 5
}
